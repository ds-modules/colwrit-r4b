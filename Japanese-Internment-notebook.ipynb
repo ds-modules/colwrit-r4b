{
 "cells": [
  {
   "cell_type": "markdown",
   "metadata": {
    "#student": false
   },
   "source": [
    "# COLWRIT R4B The Japanese American Internment and its Legacy\n",
    "\n",
    "\n",
    "---\n",
    "\n",
    "### Professor Patricia Steenland\n",
    "\n",
    "This notebook will explore data from the camps and provide context and techniques to analize the forced relocation of Japanese Americans during the 1940s.\n",
    "\n",
    "*Estimated Time: 90 minutes*\n",
    "\n",
    "---\n",
    "\n",
    "### Topics Covered\n",
    "1. [Section 1: The Jupyter Notebook](#Section-1:-The-Jupyter-Notebook)\n",
    "2. [Section 2: Data Exploration and Visualization](#Section-2:-Data-Exploration-and-Visualization)\n",
    "3. [Section 3: Assembly Centers and Internment Centers](#Section-3:-Assembly-Centers-and-Internment-Centers)\n",
    "4. [Section 4: Mapping and Movement](#Section-4:-Mapping-and-Movement)\n",
    "\n",
    "\n",
    "---\n",
    "\n",
    "## Context <a id='data'></a>\n",
    "\n",
    "In this course, you've been studying the consequences of Japanese American internment. Through this data and subsequent analysis, you'll be able to visualize the forced movement of Japanese Americans, from the west coast, to scattered internment camps, and eventually to cities throughout the country. First, we need to learn how to use this notebook format, which is called a **Jupyter Notebook.**\n",
    "\n"
   ]
  },
  {
   "cell_type": "markdown",
   "metadata": {
    "#student": false
   },
   "source": [
    "\n",
    "## Section 1: The Jupyter Notebook\n",
    "\n",
    "First of all, note that this page is divided into what are called *cells*. You can navigate cells by clicking on them or by using the up and down arrows. Cells will be highlighted as you navigate them.\n",
    "\n",
    "### Text cells\n",
    "\n",
    "Text cells (like this one) can be edited by double-clicking on them. They're written in a simple format called [Markdown](http://daringfireball.net/projects/markdown/syntax) to add formatting and section headings.  You don't need to learn Markdown, but know the difference between Text Cells and Code Cells."
   ]
  },
  {
   "cell_type": "markdown",
   "metadata": {
    "#student": false
   },
   "source": [
    "### Code cells\n",
    "Other cells contain code in the Python 3 language. Don't worry -- we'll show you everything you need to know to succeed in this part of the class. \n",
    "\n",
    "The fundamental building block of Python code is an **expression**. Cells can contain multiple lines with multiple expressions.  We'll explain what exactly we mean by \"expressions\" in just a moment: first, let's learn how to \"run\" cells."
   ]
  },
  {
   "cell_type": "markdown",
   "metadata": {
    "#student": false
   },
   "source": [
    "### Running cells\n",
    "\n",
    "\"Running a cell\" is equivalent to pressing \"Enter\" on a calculator once you've typed in the expression you want to evaluate: it produces an **output**. When you run a text cell, it outputs clean, organized writing. When you run a code cell, it **computes** all of the expressions you want to evaluate, and can **output** the result of the computation.\n",
    "\n",
    "<p></p>\n",
    "\n",
    "<div class=\"alert alert-info\">\n",
    "To run the code in a code cell, first click on that cell to activate it.  It'll be highlighted with a little green or blue rectangle.  Next, you can either press the <code><b>▶|</b> Run </code> button above or press <b><code>Shift + Return</code></b> or <b><code>Shift + Enter</code></b>. This will run the current cell and select the next one.\n",
    "</div>\n",
    "\n",
    "Text cells are useful for taking notes and keeping your notebook organized, but your data analysis will be done in code cells. We will focus on code cells for the rest of the class.\n",
    "\n"
   ]
  },
  {
   "cell_type": "code",
   "execution_count": null,
   "metadata": {
    "#student": false,
    "scrolled": true
   },
   "outputs": [],
   "source": [
    "print(\"Hello world!\")"
   ]
  },
  {
   "cell_type": "code",
   "execution_count": null,
   "metadata": {
    "#student": false
   },
   "outputs": [],
   "source": [
    "#This is a comment. It is put in code cells as a description or instructions and does not affect the code."
   ]
  },
  {
   "cell_type": "code",
   "execution_count": null,
   "metadata": {
    "#student": false
   },
   "outputs": [],
   "source": [
    "# Just run this cell\n",
    "import pandas as pd\n",
    "import numpy as np\n",
    "import matplotlib.pyplot as plt\n",
    "import seaborn as sns\n",
    "import folium\n",
    "import plotly.express as px\n",
    "pop_by_month = pd.read_csv(\"data/CampPopulationsByMonth.csv\", error_bad_lines = False, thousands = ',')\n",
    "population1940_1945 = pd.read_csv(\"data/JapaneseAmericanPopulation_1940_1945_LL.csv\", error_bad_lines = False)\n",
    "relocations_cities = pd.read_csv(\"data/RelocationDestinations_Cities_LL.csv\", error_bad_lines = False)\n",
    "assembly = pd.read_csv('data/BehindBarbedWire_StoryMap_AssemblyCentersMap_Data.csv', error_bad_lines = False)"
   ]
  },
  {
   "cell_type": "markdown",
   "metadata": {
    "#student": false
   },
   "source": [
    "---\n",
    "\n",
    "## The Data <a id='data'></a>\n",
    "\n",
    "In this notebook, you'll be working with a dataset that was manually digitized from tables in The Evacuated People: A Quantitative Description, a report published by the War Relocation Authority in 1946. The tables required manual transcription because the results from automatic scraping contained too many errors. Thus, there may still be some human error. The datasets included contain the populations of each camp by month, the relocation destinations of those who were incarcerated, and the Japanese American population in America before and throughout the war. Take a look at the full dataset <a href = https://data.world/infinitecoop/japanese-internment-camps/> here</a>.\n",
    "\n",
    "The second dataset we're working with is collected by the Library of Congress and comes from newspapers that were produced by Japanese-American internees while they lived in the camps. You can access the data and read about the newspapers <a href = https://tinyurl.com/y4g5kq77> here</a>.\n",
    "<img src=\"images/Posted_Japanese_American_Exclusion_Order.png\" width=\"450\">\n",
    "This image is available from the United States Library of Congress's Prints and Photographs division."
   ]
  },
  {
   "cell_type": "markdown",
   "metadata": {
    "#student": false
   },
   "source": [
    "The **pop_by_month** table has the population of each of the ten camps at the start of every month."
   ]
  },
  {
   "cell_type": "code",
   "execution_count": null,
   "metadata": {
    "#student": false
   },
   "outputs": [],
   "source": [
    "#Loading and Reading the Data\n",
    "pop_by_month['Date']= pd.to_datetime(pop_by_month['Date']) \n",
    "camps = pd.read_csv('data/BehindBarbedWire_StoryMap_InternmentCampLocationsMap_Data.csv', error_bad_lines = False)\n",
    "camps[\"Maximum Population\"] = camps[\"Maximum Population\"].str.replace(',', '')\n",
    "camps['Maximum Population'] = camps['Maximum Population'].astype(float)"
   ]
  },
  {
   "cell_type": "code",
   "execution_count": null,
   "metadata": {
    "#student": false
   },
   "outputs": [],
   "source": [
    "pop_by_month.head()"
   ]
  },
  {
   "cell_type": "markdown",
   "metadata": {
    "#student": false
   },
   "source": [
    "The **camps** table by Behind the Barbed Wire has a list of the internment camps, their locations-- city, name, latitude, and longitude-- the dates of when they opened and closed, and their maximum populations."
   ]
  },
  {
   "cell_type": "code",
   "execution_count": null,
   "metadata": {
    "#student": false,
    "scrolled": true
   },
   "outputs": [],
   "source": [
    "camps"
   ]
  },
  {
   "cell_type": "markdown",
   "metadata": {
    "#student": false
   },
   "source": [
    "The **assembly** table by Behind the Barbed Wire has the locations of each assembly center-- their city, state, latitude, and longitude--, as well as the number of people that were processed through each one."
   ]
  },
  {
   "cell_type": "code",
   "execution_count": null,
   "metadata": {
    "#student": false
   },
   "outputs": [],
   "source": [
    "assembly = assembly.dropna(subset=['Latitude', 'Longitude']).dropna(axis = 1)\n",
    "assembly['Number of People'] = assembly['Number of People'].astype(float)\n",
    "assembly"
   ]
  },
  {
   "cell_type": "markdown",
   "metadata": {
    "#student": false
   },
   "source": [
    "The **population1940_1945** table has a list of counties that Japanese Americans lived in in 1940 and 1945. A separate column calculates the percent that returned to the county that they were from."
   ]
  },
  {
   "cell_type": "code",
   "execution_count": null,
   "metadata": {
    "#student": false,
    "scrolled": false
   },
   "outputs": [],
   "source": [
    "population1940_1945.head()"
   ]
  },
  {
   "cell_type": "markdown",
   "metadata": {
    "#student": false
   },
   "source": [
    "# Section 2: Data Exploration and Visualization"
   ]
  },
  {
   "cell_type": "markdown",
   "metadata": {
    "#student": false
   },
   "source": [
    "Sometimes numbers don't always add up. We have two separate tables with data about the internment camps, collected by two separate organizations. Say we try to compare the maximum population of the Manzanar camps from both tables."
   ]
  },
  {
   "cell_type": "code",
   "execution_count": null,
   "metadata": {
    "#student": false
   },
   "outputs": [],
   "source": [
    "pop_by_month_max = pop_by_month['Manzanar'].max()\n",
    "camps_max = int(camps[camps['Internment Camp Name'] == 'Manzanar Relocation Center']['Maximum Population'])\n",
    "print('Camps Data:',  camps_max)\n",
    "print('Popuation by Month Data:' ,  pop_by_month_max)\n",
    "#Are the two numbers equal?"
   ]
  },
  {
   "cell_type": "markdown",
   "metadata": {
    "#student": false
   },
   "source": [
    "The two numbers don't equal each other! The **pop_by_month** table says that the maximum population of Manzanar was 10,256, while the camps table says that the maximum was 10,046 people. While this isn't a huge difference, it's important to remember that there can be error in your datasets, and not to take any one dataset as complete and total fact. "
   ]
  },
  {
   "cell_type": "markdown",
   "metadata": {
    "#student": false
   },
   "source": [
    "Now we can look at the data and start to see beyond the numbers. **This over-laid line plot compares the change in populations of the camps by month.** "
   ]
  },
  {
   "cell_type": "code",
   "execution_count": null,
   "metadata": {
    "#student": false
   },
   "outputs": [],
   "source": [
    "pop_by_month2 = pop_by_month.drop(\"Total\", axis = 1)\n",
    "melted = pd.melt(pop_by_month2, id_vars = [\"Date\"], value_vars = pop_by_month2.columns[1:], var_name = 'Camp', value_name = \"Population\")\n",
    "fig = px.line(melted, x = 'Date', y = 'Population', color = 'Camp', title = 'Camp Populations by Month')\n",
    "fig.show();"
   ]
  },
  {
   "cell_type": "markdown",
   "metadata": {
    "#student": false
   },
   "source": [
    "We can see from this histogram that most people did not return to where they originally lived because the bin that is at 0 percent returned has the highest percentage (the bar is the highest closest to 0). "
   ]
  },
  {
   "cell_type": "code",
   "execution_count": null,
   "metadata": {
    "#student": false
   },
   "outputs": [],
   "source": [
    "sns.distplot(population1940_1945['% returned'])\n",
    "plt.title(\"Percent Returned to Original County\");"
   ]
  },
  {
   "cell_type": "markdown",
   "metadata": {
    "#student": true
   },
   "source": [
    "\n",
    "**Question:** Visualizations allow us to picture how the numbers change and find abnormalities in the data set. What are some abnormalities that you see in the first plot? What are some possible explanations for these abnormalities?"
   ]
  },
  {
   "cell_type": "markdown",
   "metadata": {
    "#student": true
   },
   "source": [
    "\n",
    "**Answer:** YOUR ANSWER HERE"
   ]
  },
  {
   "cell_type": "markdown",
   "metadata": {
    "#student": false
   },
   "source": [
    "---"
   ]
  },
  {
   "cell_type": "markdown",
   "metadata": {
    "#student": false
   },
   "source": [
    "## Section 3: Assembly Centers and Internment Centers<a id='section 2'></a>"
   ]
  },
  {
   "cell_type": "markdown",
   "metadata": {
    "#student": false
   },
   "source": [
    "After Executive Order 9066 was signed, the army was authorized to remove civilians from designated military exclusion zones spanning Washington, Oregon, California, and Arizona. Assembly centers were created to funnel Japanese Americans into internment camps. Through these maps, you can see how far people were forced to move from one location to another. Mapping data is a useful tool to visualize locations and provide context when we are given longitude and latitude data! \n",
    "<img src=\"images/Luggage_Japanese_American_internment.png\" width=\"400\">\n",
    "The luggage of the Japanese Americans who have arrived at a reception center.\n",
    "This image is available from the United States Library of Congress's Prints and Photographs division."
   ]
  },
  {
   "cell_type": "markdown",
   "metadata": {
    "#student": false
   },
   "source": [
    "### Assembly Centers\n",
    "Japanese Americans were transported from assembly centers to internment camps across the country and we can use mapping techniques to visualize the movement of Japanese Americans from their original homes, to assembly centers, to internment camps, and then to various locations afterwards. To zoom in and out on the map, you can press the + and - buttons or scroll up and down. Also, if you click a blue marker, the assembly center name with show up!"
   ]
  },
  {
   "cell_type": "code",
   "execution_count": null,
   "metadata": {
    "#student": false,
    "scrolled": true
   },
   "outputs": [],
   "source": [
    "m = folium.Map(location=[36.733300, -100.766700], zoom_start=4)\n",
    "tooltip = 'Click me!'\n",
    "for i in range(0,len(assembly)):\n",
    "    folium.Marker(\n",
    "      location=(assembly.iloc[i]['Latitude'], assembly.iloc[i]['Longitude']),\n",
    "      popup=assembly.iloc[i]['Location'],\n",
    "      ).add_to(m)\n",
    "m"
   ]
  },
  {
   "cell_type": "markdown",
   "metadata": {
    "#student": false
   },
   "source": [
    "### Internment Camps\n"
   ]
  },
  {
   "cell_type": "code",
   "execution_count": null,
   "metadata": {
    "#student": false,
    "scrolled": true
   },
   "outputs": [],
   "source": [
    "m = folium.Map(location=[36.733300, -100.766700], zoom_start=4)\n",
    "tooltip = 'Click me!'\n",
    "for i in range(0,len(camps)):\n",
    "    folium.Marker(\n",
    "      location=(camps.iloc[i]['Latitude'], camps.iloc[i]['Longitude']),\n",
    "      popup=camps.iloc[i]['Internment Camp Name'],\n",
    "      ).add_to(m)\n",
    "m"
   ]
  },
  {
   "cell_type": "markdown",
   "metadata": {
    "#student": false
   },
   "source": [
    "## Section 4: Mapping and Movement<a id='section 3'></a>"
   ]
  },
  {
   "cell_type": "markdown",
   "metadata": {
    "#student": false
   },
   "source": [
    "One of the consequences of the Japanese internment camps was the relocation after World War 2. Many of the Japanese Americans that lived on the West Coast of the United States did not return to their previous homes since land holdings and possessions were lost during the process. This map shows the populations of each county at the start of World War II, just before the Executive Order 9066 in 1942. Japanese Americans were largely concentrated on the West Coast, with the largest population in Los Angeles.\n",
    "\n",
    "<img src=\"images/Hayward_Friends_say_goodbye.png\" width=\"400\">\n",
    "Neighbors in Hayward, California saying goodbye.\n",
    "This image is available from the United States Library of Congress's Prints and Photographs division."
   ]
  },
  {
   "cell_type": "code",
   "execution_count": null,
   "metadata": {
    "#student": false,
    "scrolled": false
   },
   "outputs": [],
   "source": [
    "m = folium.Map(location=[36.733300, -100.766700], zoom_start=4)\n",
    "tooltip = 'Click me!'\n",
    "for i in range(0,len(population1940_1945)):\n",
    "    folium.Circle(\n",
    "      location = (population1940_1945.iloc[i]['Latitude'], population1940_1945.iloc[i]['Longitude']),\n",
    "      popup = population1940_1945.iloc[i]['County'],\n",
    "      radius = float(population1940_1945.iloc[i]['1940']) *12,\n",
    "      color = 'blue',\n",
    "      fill = True,\n",
    "      fill_color = 'crimson').add_to(m)\n",
    "m"
   ]
  },
  {
   "cell_type": "markdown",
   "metadata": {
    "#student": false
   },
   "source": [
    "This table shows the amount of Japanese Americans in each county after the war. This data was self-reported by evacuees."
   ]
  },
  {
   "cell_type": "code",
   "execution_count": null,
   "metadata": {
    "#student": false
   },
   "outputs": [],
   "source": [
    "reloc_cities = pd.read_csv('data/RelocationDestinations_Cities_LL.csv', error_bad_lines = False)\n",
    "reloc_cities['People'] = reloc_cities['People'].astype(float)\n",
    "reloc_cities.head()"
   ]
  },
  {
   "cell_type": "markdown",
   "metadata": {
    "#student": false
   },
   "source": [
    "This map shows the cities that people relocated after the war. It allows us to visualize the extent people had to relocate from their original homes which were mostly on the west coast of the U.S. We can see a large population moved to the midwest (Chicago area) as well as the east coast, Canada, and even Mexico City. "
   ]
  },
  {
   "cell_type": "code",
   "execution_count": null,
   "metadata": {
    "#student": false
   },
   "outputs": [],
   "source": [
    "m = folium.Map(location=[36.733300, -100.766700], zoom_start=4)\n",
    "tooltip = 'Click me!'\n",
    "for i in range(0,len(reloc_cities)):\n",
    "    folium.Circle(\n",
    "      location=(reloc_cities.iloc[i]['Latitude'], reloc_cities.iloc[i]['Longitude']),\n",
    "      popup=reloc_cities.iloc[i]['City'],\n",
    "      radius=reloc_cities.iloc[i]['People'] * 12,\n",
    "      color='blue',\n",
    "      fill=True,\n",
    "      fill_color='red').add_to(m)\n",
    "m"
   ]
  },
  {
   "cell_type": "markdown",
   "metadata": {
    "#student": false
   },
   "source": [
    "Below is the table comparing the pre- and post-internment population sizes for West Coast states. The table has been separated into the three states for easier readability. Look through the population size values and look for trends that may be interesting to study in a future research project. "
   ]
  },
  {
   "cell_type": "code",
   "execution_count": null,
   "metadata": {
    "#student": false,
    "scrolled": false
   },
   "outputs": [],
   "source": [
    "population1940_1945[population1940_1945['State'] == 'CA']"
   ]
  },
  {
   "cell_type": "code",
   "execution_count": null,
   "metadata": {
    "#student": false,
    "scrolled": false
   },
   "outputs": [],
   "source": [
    "population1940_1945[population1940_1945['State'] == 'OR']"
   ]
  },
  {
   "cell_type": "code",
   "execution_count": null,
   "metadata": {
    "#student": false
   },
   "outputs": [],
   "source": [
    "population1940_1945[population1940_1945['State'] == 'WA']"
   ]
  },
  {
   "cell_type": "markdown",
   "metadata": {
    "#student": true
   },
   "source": [
    "\n",
    "**Question:** Based on the tables and maps above, identify a research question that could be pursued further using other types of data than we have included here, such as personal narratives or news articles."
   ]
  },
  {
   "cell_type": "markdown",
   "metadata": {
    "#student": true
   },
   "source": [
    "\n",
    "**Answer:** YOUR ANSWER HERE"
   ]
  },
  {
   "cell_type": "markdown",
   "metadata": {
    "#student": false
   },
   "source": [
    "---\n",
    "\n",
    "**Make sure that you've answered both questions.**\n",
    "\n",
    "You are finished with this notebook! Please run the following cell to generate a download link for your submission file to submit on bCourses. ***It is very likely that this download link will not work. If the download link does not work, please use the alternate download method described below.***\n",
    "\n",
    "Alternate download instructions:\n",
    "- open a new tab and go to https://datahub.berkeley.edu\n",
    "- go to the `colwrit-r4b` folder\n",
    "- click the box next to `Japanese-Internment-notebook.pdf`\n",
    "- click the \"Download\" link below the menu bar\n",
    "\n",
    "**Check the PDF before submitting and make sure all of your answers are shown.**"
   ]
  },
  {
   "cell_type": "code",
   "execution_count": null,
   "metadata": {
    "#student": false
   },
   "outputs": [],
   "source": [
    "!pip install gsexport -q\n",
    "import gsExport\n",
    "gsExport.generateSubmission(\"Japanese-Internment-notebook.ipynb\")"
   ]
  },
  {
   "cell_type": "markdown",
   "metadata": {
    "#student": false
   },
   "source": [
    "---\n",
    "Notebook developed by: Alleanna Clark, Aishah Mahmud, Monica Wilkinson\n",
    "\n",
    "Data Science Modules: http://data.berkeley.edu/education/modules\n"
   ]
  }
 ],
 "metadata": {
  "anaconda-cloud": {},
  "checksums": [
   "7d62f2d8fa9df9782dabafaf29f6be0b",
   "bf3feb850b5e1bd76ebcd7c07e4125a4",
   "9ccdd9fe0060bd3ab7328387f1a35413",
   "a22cdadfe7c74bd821ea894f242bab88",
   "3d3282284ee18c6a2fd069444fde3217",
   "c5063f438aba580d73b3fc8f015801be",
   "bb574c420b608257b5fc9f647c3eb81c",
   "2846119dbb959fc17c459eafab13dcb5",
   "e01f007aa5443efb9900bd44d13dd7c7",
   "b804469a98fe20f770090a7acc360a31",
   "a46e8d57f8644009ee6351df0927f2bf",
   "c9decc56cff48e3fd4fb28e48a7ba110",
   "1508a0313a4e1c0923287b9327cb6a80",
   "bdab940058951e88de397a485186a5de",
   "62c34e40515edab6c4225ccf15087052",
   "0fd80a084c06e3f7653144df829c2e3d",
   "5344dc57314f63d6ea2455f0c2a27d30",
   "6c521a0f63dbf362aaaf744085cf5b4d",
   "f7cbedf950e5a0393fa8414ec591073c",
   "690c6779b8184c6b3f7b44b28258a1c9",
   "a23b90f9b02415da624c64c700cd983c",
   "1a89c04b14ffca9f33ba99754b16bc05",
   "135645a8e6de40583293478107705afb",
   "4500e0043480e3b5ee091f37fa8c6f2b",
   "989ef4f9e0df1c73b2e59d8a21acdaa9",
   "e682d5808dd16a1e8e787c15da5093c0",
   "7a7210ab4f95ccb7a3ce5d78bb87b92b",
   "6fa6c6038ba08d3c2973c03c4f222cf3",
   "9efc314b65237d5d646e1b817372afc6",
   "6a1eee6a000db38bf48e3c7c8313c2ed",
   "99193259bf8cb447d9c11ef80a2d517a",
   "be412606d0ab971baafe92a2aceddabd",
   "1d93fa85a37e8a9a4ed56e0e42a5e388",
   "13c86accb3f14a7504c1443b3b85b17b",
   "8b8bd628f67be024162e121a028737d5",
   "deda54df303d85c87084d4c7934124f2",
   "343c55190c6e01f3a21869185435318b",
   "b9f9b50487bc24ced9e9be3181b107c8",
   "2c628b07d1bc8678a879f1b182dfea22",
   "40a3a18785bcf172b3f5bffc70e2204a",
   "1be47a1c3314182c8741fb78645afc4c",
   "1a4743083d499b807c0f310cf851dd3f",
   "9d45946f137dcbd9b0bb25635216ec88",
   "af1b20ba747adc76da8d13147e160754",
   "c45b863a08254980e2804d24899d6712",
   "659c5ba16081070bc38a02d0d963063f",
   "646d6bf77641e96b7cd5772a8d1a10ad",
   "6fa6c6038ba08d3c2973c03c4f222cf3",
   "4b7233c8a0f8c12db1a1fcd5a9b445fc",
   "6357eb980f2ec54eaebb96dc7e3e1f7b",
   "23b2e187b60113dbb89807ca8d37030a"
  ],
  "kernelspec": {
   "display_name": "Python 3",
   "language": "python",
   "name": "python3"
  },
  "language_info": {
   "codemirror_mode": {
    "name": "ipython",
    "version": 3
   },
   "file_extension": ".py",
   "mimetype": "text/x-python",
   "name": "python",
   "nbconvert_exporter": "python",
   "pygments_lexer": "ipython3",
   "version": "3.6.8"
  },
  "number_of_pagebreaks": 0
 },
 "nbformat": 4,
 "nbformat_minor": 1
}
