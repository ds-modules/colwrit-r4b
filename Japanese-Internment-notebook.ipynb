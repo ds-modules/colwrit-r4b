{
 "cells": [
  {
   "cell_type": "markdown",
   "metadata": {},
   "source": [
    "# COLWRIT R4B The Japanese American Internment and its Legacy\n",
    "\n",
    "\n",
    "---\n",
    "\n",
    "### Professor Patricia Steenland\n",
    "\n",
    "This notebook will explore data from the camps and provide context and techniques to analize the forced relocation of Japanese Americans during the 1940s.\n",
    "\n",
    "*Estimated Time: 90 minutes*\n",
    "\n",
    "---\n",
    "\n",
    "### Topics Covered\n",
    "1. [Section 1: Data Exploration and Visualization](#Section-1:-Data-Exploration-and-Visualization)\n",
    "2. [Section 2: Assembly Centers and Internment Centers](#Section-2:-Assembly-Centers-and-Internment-Centers)\n",
    "3. [Section 3: Mapping and Movement](#Section-3:-Mapping-and-Movement)\n",
    "\n",
    "<font color='red'>Add internal html links here</font> -\n",
    "\n",
    "---\n",
    "\n",
    "## Context <a id='data'></a>\n",
    "\n",
    "In this course, you've been studying the consequences of Japanese American internment. Through this data and subsequent analysis, you'll be able to visualize the forced movement of Japanese Americans, from the west coast, to scattered internment camps, and eventually to cities throughout the country. First, we need to learn how to use this notebook format, which is called a **Jupyter Notebook.**\n",
    "\n",
    "<font color='red'>The context should be the first thing the students see so they first see the motivation of the entire notebook. After that, you can say something along the lines of \"first, we need to learn how to use this notebook format...\"</font> -\n",
    "\n"
   ]
  },
  {
   "cell_type": "markdown",
   "metadata": {},
   "source": [
    "\n",
    "## The Jupyter Notebook\n",
    "\n",
    "First of all, note that this page is divided into what are called *cells*. You can navigate cells by clicking on them or by using the up and down arrows. Cells will be highlighted as you navigate them.\n",
    "\n",
    "### Text cells\n",
    "\n",
    "Text cells (like this one) can be edited by double-clicking on them. They're written in a simple format called [Markdown](http://daringfireball.net/projects/markdown/syntax) to add formatting and section headings.  You don't need to learn Markdown, but know the difference between Text Cells and Code Cells."
   ]
  },
  {
   "cell_type": "markdown",
   "metadata": {},
   "source": [
    "### Code cells\n",
    "Other cells contain code in the Python 3 language. Don't worry -- we'll show you everything you need to know to succeed in this part of the class. \n",
    "\n",
    "The fundamental building block of Python code is an **expression**. Cells can contain multiple lines with multiple expressions.  We'll explain what exactly we mean by \"expressions\" in just a moment: first, let's learn how to \"run\" cells."
   ]
  },
  {
   "cell_type": "markdown",
   "metadata": {},
   "source": [
    "### Running cells\n",
    "\n",
    "\"Running a cell\" is equivalent to pressing \"Enter\" on a calculator once you've typed in the expression you want to evaluate: it produces an **output**. When you run a text cell, it outputs clean, organized writing. When you run a code cell, it **computes** all of the expressions you want to evaluate, and can **output** the result of the computation.\n",
    "\n",
    "<p></p>\n",
    "\n",
    "<div class=\"alert alert-info\">\n",
    "To run the code in a code cell, first click on that cell to activate it.  It'll be highlighted with a little green or blue rectangle.  Next, you can either press the <code><b>▶|</b> Run </code> button above or press <b><code>Shift + Return</code></b> or <b><code>Shift + Enter</code></b>. This will run the current cell and select the next one.\n",
    "</div>\n",
    "\n",
    "Text cells are useful for taking notes and keeping your notebook organized, but your data analysis will be done in code cells. We will focus on code cells for the rest of the class.\n",
    "\n"
   ]
  },
  {
   "cell_type": "code",
   "execution_count": 66,
   "metadata": {
    "scrolled": true
   },
   "outputs": [
    {
     "name": "stdout",
     "output_type": "stream",
     "text": [
      "Hello world!\n"
     ]
    }
   ],
   "source": [
    "print(\"Hello world!\")"
   ]
  },
  {
   "cell_type": "code",
   "execution_count": 67,
   "metadata": {},
   "outputs": [],
   "source": [
    "#This is a comment. It is put in code cells as a description or instructions and does not affect the code."
   ]
  },
  {
   "cell_type": "markdown",
   "metadata": {},
   "source": [
    "<font color='red'>The content from here until the import statements is unnecessary.</font> -"
   ]
  },
  {
   "cell_type": "markdown",
   "metadata": {},
   "source": [
    "<font color='red'>Remove packages that aren't used in the notebook.</font> -"
   ]
  },
  {
   "cell_type": "code",
   "execution_count": 68,
   "metadata": {},
   "outputs": [],
   "source": [
    "# Just run this cell\n",
    "import pandas as pd\n",
    "import numpy as np\n",
    "import matplotlib.pyplot as plt\n",
    "import seaborn as sns\n",
    "import folium\n",
    "import plotly.express as px\n",
    "pop_by_month = pd.read_csv(\"data/CampPopulationsByMonth.csv\", error_bad_lines = False)\n",
    "relocations_states = pd.read_csv(\"data/RelocationDestinations_States.csv\", error_bad_lines = False)\n",
    "pop_1940_to_1945 = pd.read_csv(\"data/JapaneseAmericanPopulation_1940_1945.csv\", error_bad_lines = False)\n",
    "relocations_cities = pd.read_csv(\"data/RelocationDestinations_Cities.csv\", error_bad_lines = False)"
   ]
  },
  {
   "cell_type": "markdown",
   "metadata": {},
   "source": [
    "---\n",
    "\n",
    "## The Data <a id='data'></a>\n",
    "\n",
    "In this notebook, you'll be working with a dataset that was manually digitized from tables in The Evacuated People: A Quantitative Description, a report published by the War Relocation Authority in 1946. The tables required manual transcription because the results from automatic scraping contained too many errors. Thus, there may still be some human error. The datasets included contain the populations of each camp by month, the relocation destinations of those who were incarcerated, and the Japanese American population in America before and throughout the war. Take a look at the full dataset <a href = https://data.world/infinitecoop/japanese-internment-camps/> here</a>.\n",
    "\n",
    "The second dataset we're working with is collected by the Library of Congress and comes from newspapers that were produced by Japanese-American internees while they lived in the camps. You can access the data and read about the newspapers here https://www.arcgis.com/home/item.html?id=787f1fabd34c49308df8fe0d4dc7470f <font color='red'>this url shouldn't be visible</font> <font color='blue'>Replacing with \"here\" didn't work we **debug together</font>\n",
    "\n",
    "<font color='red'>It might be nice to load in the data here separately from the import statments and show a preview here as well to break up the text. </font> -\n",
    "\n",
    "<font color='red'>Also, since there are quite a few data sets used in this notebook, it would be nice to have a description of each of the data sets and what they tell us here at the beginning of the notebook.</font> -\n"
   ]
  },
  {
   "cell_type": "markdown",
   "metadata": {},
   "source": [
    "The **pop_by_month** table has the population of each of the ten camps at the start of every month."
   ]
  },
  {
   "cell_type": "code",
   "execution_count": 69,
   "metadata": {},
   "outputs": [],
   "source": [
    "#Loading and Reading the Data\n",
    "pop_by_month = pd.read_csv(\"data/CampPopulationsByMonth.csv\", error_bad_lines = False, thousands = ',')\n",
    "pop_by_month['Date']= pd.to_datetime(pop_by_month['Date']) \n",
    "camps = pd.read_csv('data/BehindBarbedWire_StoryMap_InternmentCampLocationsMap_Data.csv', error_bad_lines = False)\n",
    "camps[\"Maximum Population\"] = camps[\"Maximum Population\"].str.replace(',', '')\n",
    "camps['Maximum Population'] = camps['Maximum Population'].astype(float)"
   ]
  },
  {
   "cell_type": "markdown",
   "metadata": {},
   "source": [
    "<font color='red'>The terminology and processes here are likely completely foreign to these students, so rather than doing the data cleaning here, the <b>data should already be clean when it is read in.</b> This will avoid taking unnecessary technical detours that do not add to the learning experience.</font> -"
   ]
  },
  {
   "cell_type": "code",
   "execution_count": 70,
   "metadata": {},
   "outputs": [
    {
     "data": {
      "text/html": [
       "<div>\n",
       "<style scoped>\n",
       "    .dataframe tbody tr th:only-of-type {\n",
       "        vertical-align: middle;\n",
       "    }\n",
       "\n",
       "    .dataframe tbody tr th {\n",
       "        vertical-align: top;\n",
       "    }\n",
       "\n",
       "    .dataframe thead th {\n",
       "        text-align: right;\n",
       "    }\n",
       "</style>\n",
       "<table border=\"1\" class=\"dataframe\">\n",
       "  <thead>\n",
       "    <tr style=\"text-align: right;\">\n",
       "      <th></th>\n",
       "      <th>Date</th>\n",
       "      <th>Total</th>\n",
       "      <th>Topaz/Central Utah</th>\n",
       "      <th>Poston/Colorado River</th>\n",
       "      <th>Gila River</th>\n",
       "      <th>Granada</th>\n",
       "      <th>Heart Mountain</th>\n",
       "      <th>Jerome</th>\n",
       "      <th>Manzanar</th>\n",
       "      <th>Minidoka</th>\n",
       "      <th>Rohwer</th>\n",
       "      <th>Tule Lake</th>\n",
       "    </tr>\n",
       "  </thead>\n",
       "  <tbody>\n",
       "    <tr>\n",
       "      <th>0</th>\n",
       "      <td>1942-06-01</td>\n",
       "      <td>17393</td>\n",
       "      <td>0</td>\n",
       "      <td>7281</td>\n",
       "      <td>0</td>\n",
       "      <td>0</td>\n",
       "      <td>0</td>\n",
       "      <td>0</td>\n",
       "      <td>9666</td>\n",
       "      <td>0</td>\n",
       "      <td>0</td>\n",
       "      <td>446</td>\n",
       "    </tr>\n",
       "    <tr>\n",
       "      <th>1</th>\n",
       "      <td>1942-07-01</td>\n",
       "      <td>27633</td>\n",
       "      <td>0</td>\n",
       "      <td>8755</td>\n",
       "      <td>0</td>\n",
       "      <td>0</td>\n",
       "      <td>0</td>\n",
       "      <td>0</td>\n",
       "      <td>9840</td>\n",
       "      <td>0</td>\n",
       "      <td>0</td>\n",
       "      <td>9038</td>\n",
       "    </tr>\n",
       "    <tr>\n",
       "      <th>2</th>\n",
       "      <td>1942-08-01</td>\n",
       "      <td>40316</td>\n",
       "      <td>0</td>\n",
       "      <td>13262</td>\n",
       "      <td>2106</td>\n",
       "      <td>0</td>\n",
       "      <td>0</td>\n",
       "      <td>0</td>\n",
       "      <td>9928</td>\n",
       "      <td>0</td>\n",
       "      <td>0</td>\n",
       "      <td>15020</td>\n",
       "    </tr>\n",
       "    <tr>\n",
       "      <th>3</th>\n",
       "      <td>1942-09-01</td>\n",
       "      <td>63031</td>\n",
       "      <td>0</td>\n",
       "      <td>17818</td>\n",
       "      <td>9150</td>\n",
       "      <td>212</td>\n",
       "      <td>5758</td>\n",
       "      <td>0</td>\n",
       "      <td>10072</td>\n",
       "      <td>4840</td>\n",
       "      <td>0</td>\n",
       "      <td>15181</td>\n",
       "    </tr>\n",
       "    <tr>\n",
       "      <th>4</th>\n",
       "      <td>1942-10-01</td>\n",
       "      <td>90499</td>\n",
       "      <td>5806</td>\n",
       "      <td>17847</td>\n",
       "      <td>11555</td>\n",
       "      <td>7480</td>\n",
       "      <td>10813</td>\n",
       "      <td>0</td>\n",
       "      <td>10256</td>\n",
       "      <td>9200</td>\n",
       "      <td>2265</td>\n",
       "      <td>15277</td>\n",
       "    </tr>\n",
       "  </tbody>\n",
       "</table>\n",
       "</div>"
      ],
      "text/plain": [
       "        Date  Total  Topaz/Central Utah  Poston/Colorado River  Gila River  \\\n",
       "0 1942-06-01  17393                   0                   7281           0   \n",
       "1 1942-07-01  27633                   0                   8755           0   \n",
       "2 1942-08-01  40316                   0                  13262        2106   \n",
       "3 1942-09-01  63031                   0                  17818        9150   \n",
       "4 1942-10-01  90499                5806                  17847       11555   \n",
       "\n",
       "   Granada  Heart Mountain  Jerome  Manzanar  Minidoka  Rohwer  Tule Lake  \n",
       "0        0               0       0      9666         0       0        446  \n",
       "1        0               0       0      9840         0       0       9038  \n",
       "2        0               0       0      9928         0       0      15020  \n",
       "3      212            5758       0     10072      4840       0      15181  \n",
       "4     7480           10813       0     10256      9200    2265      15277  "
      ]
     },
     "execution_count": 70,
     "metadata": {},
     "output_type": "execute_result"
    }
   ],
   "source": [
    "pop_by_month.head()"
   ]
  },
  {
   "cell_type": "markdown",
   "metadata": {},
   "source": [
    "<font color='red'>Once again, try not to get into the technicalities of different data types even though this is a necessary step. This could all be done in a single \"reading data in\" cell.</font> -"
   ]
  },
  {
   "cell_type": "markdown",
   "metadata": {},
   "source": [
    "The **camps** table by Behind the Barbed Wire has a list of the internment camps, their locations-- city, name, latitude, and longitude-- the dates of when they opened and closed, and their maximum populations.\n",
    "\n",
    "<font color='red'>Once again, do this data cleaning behind the scenes so that there is less code for the students to get confused by.</font> -"
   ]
  },
  {
   "cell_type": "code",
   "execution_count": 71,
   "metadata": {
    "scrolled": true
   },
   "outputs": [
    {
     "data": {
      "text/html": [
       "<div>\n",
       "<style scoped>\n",
       "    .dataframe tbody tr th:only-of-type {\n",
       "        vertical-align: middle;\n",
       "    }\n",
       "\n",
       "    .dataframe tbody tr th {\n",
       "        vertical-align: top;\n",
       "    }\n",
       "\n",
       "    .dataframe thead th {\n",
       "        text-align: right;\n",
       "    }\n",
       "</style>\n",
       "<table border=\"1\" class=\"dataframe\">\n",
       "  <thead>\n",
       "    <tr style=\"text-align: right;\">\n",
       "      <th></th>\n",
       "      <th>Internment Camp Name</th>\n",
       "      <th>Location</th>\n",
       "      <th>State</th>\n",
       "      <th>Latitude</th>\n",
       "      <th>Longitude</th>\n",
       "      <th>Opened</th>\n",
       "      <th>Closed</th>\n",
       "      <th>Maximum Population</th>\n",
       "    </tr>\n",
       "  </thead>\n",
       "  <tbody>\n",
       "    <tr>\n",
       "      <th>0</th>\n",
       "      <td>Gila River Relocation Center</td>\n",
       "      <td>Rivers</td>\n",
       "      <td>Arizona</td>\n",
       "      <td>33.065083</td>\n",
       "      <td>-111.830528</td>\n",
       "      <td>20-Jul-42</td>\n",
       "      <td>16-Nov-45</td>\n",
       "      <td>13348.0</td>\n",
       "    </tr>\n",
       "    <tr>\n",
       "      <th>1</th>\n",
       "      <td>Poston Relocation Center</td>\n",
       "      <td>Parker</td>\n",
       "      <td>Arizona</td>\n",
       "      <td>33.987500</td>\n",
       "      <td>-114.401111</td>\n",
       "      <td>2-Jun-42</td>\n",
       "      <td>28-Nov-45</td>\n",
       "      <td>17814.0</td>\n",
       "    </tr>\n",
       "    <tr>\n",
       "      <th>2</th>\n",
       "      <td>Jerome Relocation Center</td>\n",
       "      <td>Denson</td>\n",
       "      <td>Arkansas</td>\n",
       "      <td>33.411667</td>\n",
       "      <td>-91.461111</td>\n",
       "      <td>6-Oct-42</td>\n",
       "      <td>30-Jun-44</td>\n",
       "      <td>8497.0</td>\n",
       "    </tr>\n",
       "    <tr>\n",
       "      <th>3</th>\n",
       "      <td>Rohwer Relocation Center</td>\n",
       "      <td>McGehee</td>\n",
       "      <td>Arkansas</td>\n",
       "      <td>33.766297</td>\n",
       "      <td>-91.280158</td>\n",
       "      <td>18-Sep-42</td>\n",
       "      <td>30-Nov-45</td>\n",
       "      <td>8475.0</td>\n",
       "    </tr>\n",
       "    <tr>\n",
       "      <th>4</th>\n",
       "      <td>Manzanar Relocation Center</td>\n",
       "      <td>Manzanar</td>\n",
       "      <td>California</td>\n",
       "      <td>36.728333</td>\n",
       "      <td>-118.154444</td>\n",
       "      <td>2-Jun-42</td>\n",
       "      <td>21-Nov-45</td>\n",
       "      <td>10046.0</td>\n",
       "    </tr>\n",
       "    <tr>\n",
       "      <th>5</th>\n",
       "      <td>Tule Lake Relocation Center</td>\n",
       "      <td>Newell</td>\n",
       "      <td>California</td>\n",
       "      <td>41.889444</td>\n",
       "      <td>-121.374722</td>\n",
       "      <td>27-May-42</td>\n",
       "      <td>20-Mar-46</td>\n",
       "      <td>18789.0</td>\n",
       "    </tr>\n",
       "    <tr>\n",
       "      <th>6</th>\n",
       "      <td>Granada Relocation Center</td>\n",
       "      <td>Amache</td>\n",
       "      <td>Colorado</td>\n",
       "      <td>38.049444</td>\n",
       "      <td>-102.328611</td>\n",
       "      <td>27-Aug-42</td>\n",
       "      <td>15-Oct-45</td>\n",
       "      <td>7318.0</td>\n",
       "    </tr>\n",
       "    <tr>\n",
       "      <th>7</th>\n",
       "      <td>Minidoka Relocation Center</td>\n",
       "      <td>Hunt</td>\n",
       "      <td>Idaho</td>\n",
       "      <td>42.679000</td>\n",
       "      <td>-114.244000</td>\n",
       "      <td>10-Aug-42</td>\n",
       "      <td>28-Oct-45</td>\n",
       "      <td>9397.0</td>\n",
       "    </tr>\n",
       "    <tr>\n",
       "      <th>8</th>\n",
       "      <td>Topaz Relocation Center</td>\n",
       "      <td>Topaz</td>\n",
       "      <td>Utah</td>\n",
       "      <td>39.418336</td>\n",
       "      <td>-112.708750</td>\n",
       "      <td>11-Sep-42</td>\n",
       "      <td>31-Oct-45</td>\n",
       "      <td>8130.0</td>\n",
       "    </tr>\n",
       "    <tr>\n",
       "      <th>9</th>\n",
       "      <td>Heart Mountain Relocation Center</td>\n",
       "      <td>Heart Mountain</td>\n",
       "      <td>Wyoming</td>\n",
       "      <td>44.671667</td>\n",
       "      <td>-108.946389</td>\n",
       "      <td>12-Aug-42</td>\n",
       "      <td>10-Nov-45</td>\n",
       "      <td>343.0</td>\n",
       "    </tr>\n",
       "  </tbody>\n",
       "</table>\n",
       "</div>"
      ],
      "text/plain": [
       "               Internment Camp Name        Location       State   Latitude  \\\n",
       "0      Gila River Relocation Center          Rivers     Arizona  33.065083   \n",
       "1          Poston Relocation Center          Parker     Arizona  33.987500   \n",
       "2          Jerome Relocation Center          Denson    Arkansas  33.411667   \n",
       "3          Rohwer Relocation Center         McGehee    Arkansas  33.766297   \n",
       "4        Manzanar Relocation Center        Manzanar  California  36.728333   \n",
       "5       Tule Lake Relocation Center          Newell  California  41.889444   \n",
       "6         Granada Relocation Center          Amache    Colorado  38.049444   \n",
       "7        Minidoka Relocation Center            Hunt       Idaho  42.679000   \n",
       "8           Topaz Relocation Center           Topaz        Utah  39.418336   \n",
       "9  Heart Mountain Relocation Center  Heart Mountain     Wyoming  44.671667   \n",
       "\n",
       "    Longitude     Opened     Closed  Maximum Population  \n",
       "0 -111.830528  20-Jul-42  16-Nov-45             13348.0  \n",
       "1 -114.401111   2-Jun-42  28-Nov-45             17814.0  \n",
       "2  -91.461111   6-Oct-42  30-Jun-44              8497.0  \n",
       "3  -91.280158  18-Sep-42  30-Nov-45              8475.0  \n",
       "4 -118.154444   2-Jun-42  21-Nov-45             10046.0  \n",
       "5 -121.374722  27-May-42  20-Mar-46             18789.0  \n",
       "6 -102.328611  27-Aug-42  15-Oct-45              7318.0  \n",
       "7 -114.244000  10-Aug-42  28-Oct-45              9397.0  \n",
       "8 -112.708750  11-Sep-42  31-Oct-45              8130.0  \n",
       "9 -108.946389  12-Aug-42  10-Nov-45               343.0  "
      ]
     },
     "execution_count": 71,
     "metadata": {},
     "output_type": "execute_result"
    }
   ],
   "source": [
    "camps"
   ]
  },
  {
   "cell_type": "markdown",
   "metadata": {},
   "source": [
    "The **assembly** table by Behind the Barbed Wire has the locations of each assembly center-- their city, state, latitude, and longitude--, as well as the number of people that were processed through each one."
   ]
  },
  {
   "cell_type": "code",
   "execution_count": 72,
   "metadata": {},
   "outputs": [
    {
     "data": {
      "text/html": [
       "<div>\n",
       "<style scoped>\n",
       "    .dataframe tbody tr th:only-of-type {\n",
       "        vertical-align: middle;\n",
       "    }\n",
       "\n",
       "    .dataframe tbody tr th {\n",
       "        vertical-align: top;\n",
       "    }\n",
       "\n",
       "    .dataframe thead th {\n",
       "        text-align: right;\n",
       "    }\n",
       "</style>\n",
       "<table border=\"1\" class=\"dataframe\">\n",
       "  <thead>\n",
       "    <tr style=\"text-align: right;\">\n",
       "      <th></th>\n",
       "      <th>Location</th>\n",
       "      <th>State</th>\n",
       "      <th>Number of People</th>\n",
       "      <th>Latitude</th>\n",
       "      <th>Longitude</th>\n",
       "    </tr>\n",
       "  </thead>\n",
       "  <tbody>\n",
       "    <tr>\n",
       "      <th>0</th>\n",
       "      <td>Sacramento (Walerga)</td>\n",
       "      <td>California</td>\n",
       "      <td>4598.0</td>\n",
       "      <td>38.566700</td>\n",
       "      <td>-121.483300</td>\n",
       "    </tr>\n",
       "    <tr>\n",
       "      <th>2</th>\n",
       "      <td>Manzanar (Up to 6/1/42)</td>\n",
       "      <td>California</td>\n",
       "      <td>9564.0</td>\n",
       "      <td>36.728333</td>\n",
       "      <td>-118.154444</td>\n",
       "    </tr>\n",
       "    <tr>\n",
       "      <th>3</th>\n",
       "      <td>Fresno</td>\n",
       "      <td>California</td>\n",
       "      <td>5069.0</td>\n",
       "      <td>36.733300</td>\n",
       "      <td>-119.766700</td>\n",
       "    </tr>\n",
       "    <tr>\n",
       "      <th>4</th>\n",
       "      <td>Marysville (Arboga)</td>\n",
       "      <td>California</td>\n",
       "      <td>2406.0</td>\n",
       "      <td>39.050000</td>\n",
       "      <td>-121.550050</td>\n",
       "    </tr>\n",
       "    <tr>\n",
       "      <th>5</th>\n",
       "      <td>Mayer</td>\n",
       "      <td>Arizona</td>\n",
       "      <td>249.0</td>\n",
       "      <td>34.383300</td>\n",
       "      <td>-112.233300</td>\n",
       "    </tr>\n",
       "    <tr>\n",
       "      <th>6</th>\n",
       "      <td>Merced</td>\n",
       "      <td>California</td>\n",
       "      <td>4081.0</td>\n",
       "      <td>37.300000</td>\n",
       "      <td>-120.466700</td>\n",
       "    </tr>\n",
       "    <tr>\n",
       "      <th>7</th>\n",
       "      <td>Pinedale</td>\n",
       "      <td>California</td>\n",
       "      <td>4664.0</td>\n",
       "      <td>36.840000</td>\n",
       "      <td>-119.800000</td>\n",
       "    </tr>\n",
       "    <tr>\n",
       "      <th>8</th>\n",
       "      <td>Pomona</td>\n",
       "      <td>California</td>\n",
       "      <td>5272.0</td>\n",
       "      <td>34.050000</td>\n",
       "      <td>-117.750000</td>\n",
       "    </tr>\n",
       "    <tr>\n",
       "      <th>9</th>\n",
       "      <td>Portland (Pacific Int. Exposition Ground)</td>\n",
       "      <td>Oregon</td>\n",
       "      <td>3667.0</td>\n",
       "      <td>45.516700</td>\n",
       "      <td>-122.666700</td>\n",
       "    </tr>\n",
       "    <tr>\n",
       "      <th>10</th>\n",
       "      <td>Puyallup</td>\n",
       "      <td>Washington</td>\n",
       "      <td>7348.0</td>\n",
       "      <td>47.183300</td>\n",
       "      <td>-122.283300</td>\n",
       "    </tr>\n",
       "    <tr>\n",
       "      <th>11</th>\n",
       "      <td>Salinas</td>\n",
       "      <td>California</td>\n",
       "      <td>3555.0</td>\n",
       "      <td>36.666700</td>\n",
       "      <td>-121.650000</td>\n",
       "    </tr>\n",
       "    <tr>\n",
       "      <th>12</th>\n",
       "      <td>Santa Anita</td>\n",
       "      <td>California</td>\n",
       "      <td>18424.0</td>\n",
       "      <td>34.133300</td>\n",
       "      <td>-118.033300</td>\n",
       "    </tr>\n",
       "    <tr>\n",
       "      <th>13</th>\n",
       "      <td>Stockton</td>\n",
       "      <td>California</td>\n",
       "      <td>4178.0</td>\n",
       "      <td>37.950000</td>\n",
       "      <td>-121.283300</td>\n",
       "    </tr>\n",
       "    <tr>\n",
       "      <th>14</th>\n",
       "      <td>Tanforan</td>\n",
       "      <td>California</td>\n",
       "      <td>7694.0</td>\n",
       "      <td>37.616700</td>\n",
       "      <td>-122.400000</td>\n",
       "    </tr>\n",
       "    <tr>\n",
       "      <th>15</th>\n",
       "      <td>Tulare</td>\n",
       "      <td>California</td>\n",
       "      <td>4915.0</td>\n",
       "      <td>36.200000</td>\n",
       "      <td>-119.333300</td>\n",
       "    </tr>\n",
       "    <tr>\n",
       "      <th>16</th>\n",
       "      <td>Turlock</td>\n",
       "      <td>California</td>\n",
       "      <td>3553.0</td>\n",
       "      <td>37.483300</td>\n",
       "      <td>-120.833300</td>\n",
       "    </tr>\n",
       "  </tbody>\n",
       "</table>\n",
       "</div>"
      ],
      "text/plain": [
       "                                     Location       State  Number of People  \\\n",
       "0                        Sacramento (Walerga)  California            4598.0   \n",
       "2                     Manzanar (Up to 6/1/42)  California            9564.0   \n",
       "3                                      Fresno  California            5069.0   \n",
       "4                         Marysville (Arboga)  California            2406.0   \n",
       "5                                       Mayer     Arizona             249.0   \n",
       "6                                      Merced  California            4081.0   \n",
       "7                                    Pinedale  California            4664.0   \n",
       "8                                      Pomona  California            5272.0   \n",
       "9   Portland (Pacific Int. Exposition Ground)      Oregon            3667.0   \n",
       "10                                   Puyallup  Washington            7348.0   \n",
       "11                                    Salinas  California            3555.0   \n",
       "12                                Santa Anita  California           18424.0   \n",
       "13                                   Stockton  California            4178.0   \n",
       "14                                   Tanforan  California            7694.0   \n",
       "15                                     Tulare  California            4915.0   \n",
       "16                                    Turlock  California            3553.0   \n",
       "\n",
       "     Latitude   Longitude  \n",
       "0   38.566700 -121.483300  \n",
       "2   36.728333 -118.154444  \n",
       "3   36.733300 -119.766700  \n",
       "4   39.050000 -121.550050  \n",
       "5   34.383300 -112.233300  \n",
       "6   37.300000 -120.466700  \n",
       "7   36.840000 -119.800000  \n",
       "8   34.050000 -117.750000  \n",
       "9   45.516700 -122.666700  \n",
       "10  47.183300 -122.283300  \n",
       "11  36.666700 -121.650000  \n",
       "12  34.133300 -118.033300  \n",
       "13  37.950000 -121.283300  \n",
       "14  37.616700 -122.400000  \n",
       "15  36.200000 -119.333300  \n",
       "16  37.483300 -120.833300  "
      ]
     },
     "execution_count": 72,
     "metadata": {},
     "output_type": "execute_result"
    }
   ],
   "source": [
    "assembly = pd.read_csv('data/BehindBarbedWire_StoryMap_AssemblyCentersMap_Data.csv', error_bad_lines = False)\n",
    "assembly = assembly.dropna(subset=['Latitude', 'Longitude']).dropna(axis = 1)\n",
    "assembly['Number of People'] = assembly['Number of People'].astype(float)\n",
    "assembly"
   ]
  },
  {
   "cell_type": "markdown",
   "metadata": {},
   "source": [
    "The **population1940_1945** table has a list of counties that Japanese Americans lived in in 1940 and 1945. A separate column calculates the percent that returned to the county that they were from."
   ]
  },
  {
   "cell_type": "code",
   "execution_count": 73,
   "metadata": {
    "scrolled": true
   },
   "outputs": [
    {
     "data": {
      "text/html": [
       "<div>\n",
       "<style scoped>\n",
       "    .dataframe tbody tr th:only-of-type {\n",
       "        vertical-align: middle;\n",
       "    }\n",
       "\n",
       "    .dataframe tbody tr th {\n",
       "        vertical-align: top;\n",
       "    }\n",
       "\n",
       "    .dataframe thead th {\n",
       "        text-align: right;\n",
       "    }\n",
       "</style>\n",
       "<table border=\"1\" class=\"dataframe\">\n",
       "  <thead>\n",
       "    <tr style=\"text-align: right;\">\n",
       "      <th></th>\n",
       "      <th>County</th>\n",
       "      <th>State</th>\n",
       "      <th>1940</th>\n",
       "      <th>1945</th>\n",
       "      <th>% returned</th>\n",
       "      <th>Latitude</th>\n",
       "      <th>Longitude</th>\n",
       "    </tr>\n",
       "  </thead>\n",
       "  <tbody>\n",
       "    <tr>\n",
       "      <th>0</th>\n",
       "      <td>Alameda</td>\n",
       "      <td>CA</td>\n",
       "      <td>5167</td>\n",
       "      <td>2703</td>\n",
       "      <td>52.3</td>\n",
       "      <td>37.779872</td>\n",
       "      <td>-122.282185</td>\n",
       "    </tr>\n",
       "    <tr>\n",
       "      <th>1</th>\n",
       "      <td>Amador</td>\n",
       "      <td>CA</td>\n",
       "      <td>2</td>\n",
       "      <td>0</td>\n",
       "      <td>0.0</td>\n",
       "      <td>37.667910</td>\n",
       "      <td>-121.873914</td>\n",
       "    </tr>\n",
       "    <tr>\n",
       "      <th>2</th>\n",
       "      <td>Butte</td>\n",
       "      <td>CA</td>\n",
       "      <td>216</td>\n",
       "      <td>107</td>\n",
       "      <td>49.5</td>\n",
       "      <td>46.003823</td>\n",
       "      <td>-112.534777</td>\n",
       "    </tr>\n",
       "    <tr>\n",
       "      <th>3</th>\n",
       "      <td>Calaveras</td>\n",
       "      <td>CA</td>\n",
       "      <td>6</td>\n",
       "      <td>0</td>\n",
       "      <td>0.0</td>\n",
       "      <td>36.159706</td>\n",
       "      <td>-95.958341</td>\n",
       "    </tr>\n",
       "    <tr>\n",
       "      <th>4</th>\n",
       "      <td>Colusa</td>\n",
       "      <td>CA</td>\n",
       "      <td>155</td>\n",
       "      <td>48</td>\n",
       "      <td>31.0</td>\n",
       "      <td>39.214334</td>\n",
       "      <td>-122.009417</td>\n",
       "    </tr>\n",
       "  </tbody>\n",
       "</table>\n",
       "</div>"
      ],
      "text/plain": [
       "      County State  1940  1945  % returned   Latitude   Longitude\n",
       "0    Alameda    CA  5167  2703        52.3  37.779872 -122.282185\n",
       "1     Amador    CA     2     0         0.0  37.667910 -121.873914\n",
       "2      Butte    CA   216   107        49.5  46.003823 -112.534777\n",
       "3  Calaveras    CA     6     0         0.0  36.159706  -95.958341\n",
       "4     Colusa    CA   155    48        31.0  39.214334 -122.009417"
      ]
     },
     "execution_count": 73,
     "metadata": {},
     "output_type": "execute_result"
    }
   ],
   "source": [
    "population1940_1945 = pd.read_csv(\"data/JapaneseAmericanPopulation_1940_1945_LL.csv\", error_bad_lines = False)\n",
    "population1940_1945.head()"
   ]
  },
  {
   "cell_type": "markdown",
   "metadata": {},
   "source": [
    "# Section 1: Data Exploration and Visualization"
   ]
  },
  {
   "cell_type": "markdown",
   "metadata": {},
   "source": [
    "Sometimes numbers don't always add up. We have two separate tables with data about the internment camps, collected by two separate organizations. Say we try to compare the maximum population of the Manzanar camps from both tables."
   ]
  },
  {
   "cell_type": "code",
   "execution_count": 106,
   "metadata": {},
   "outputs": [
    {
     "name": "stdout",
     "output_type": "stream",
     "text": [
      "Camps Data: 10046\n",
      "Popuation by Month Data: 10256\n"
     ]
    }
   ],
   "source": [
    "pop_by_month_max = pop_by_month['Manzanar'].max()\n",
    "camps_max = int(camps[camps['Internment Camp Name'] == 'Manzanar Relocation Center']['Maximum Population'])\n",
    "print('Camps Data:',  camps_max)\n",
    "print('Popuation by Month Data:' ,  pop_by_month_max)\n",
    "#Are the two numbers equal?"
   ]
  },
  {
   "cell_type": "markdown",
   "metadata": {},
   "source": [
    "The two numbers don't equal each other! The **pop_by_month** table says that the maximum population of Manzanar was 10,256, while the camps table says that the maximum was 10,046 people. While this isn't a huge difference, it's important to remember that there can be error in your datasets, and not to take any one dataset as complete and total fact. "
   ]
  },
  {
   "cell_type": "markdown",
   "metadata": {},
   "source": [
    "<font color='red'>These visualizations don't seem to belong to this section based on the title. Maybe call this section something like \"data exploration and visualization\" instead of having cleaning steps.</font> -\n",
    "\n",
    "Now we can look at the data and start to see beyond the numbers. **This over-laid line plot compares the change in populations of the camps by month.** \n",
    "\n",
    "<font color='red'>Make sure to use descriptive object names.</font> -"
   ]
  },
  {
   "cell_type": "code",
   "execution_count": 107,
   "metadata": {},
   "outputs": [
    {
     "data": {
      "application/vnd.plotly.v1+json": {
       "config": {
        "plotlyServerURL": "https://plot.ly"
       },
       "data": [
        {
         "hoverlabel": {
          "namelength": 0
         },
         "hovertemplate": "Camp=Topaz/Central Utah<br>Date=%{x}<br>Population=%{y}",
         "legendgroup": "Camp=Topaz/Central Utah",
         "line": {
          "color": "#636efa",
          "dash": "solid"
         },
         "mode": "lines",
         "name": "Camp=Topaz/Central Utah",
         "showlegend": true,
         "type": "scatter",
         "x": [
          "1942-06-01T00:00:00",
          "1942-07-01T00:00:00",
          "1942-08-01T00:00:00",
          "1942-09-01T00:00:00",
          "1942-10-01T00:00:00",
          "1942-11-01T00:00:00",
          "1942-12-01T00:00:00",
          "1943-01-01T00:00:00",
          "1943-02-01T00:00:00",
          "1943-03-01T00:00:00",
          "1943-04-01T00:00:00",
          "1943-05-01T00:00:00",
          "1943-06-01T00:00:00",
          "1943-07-01T00:00:00",
          "1943-08-01T00:00:00",
          "1943-09-01T00:00:00",
          "1943-10-01T00:00:00",
          "1943-11-01T00:00:00",
          "1943-12-01T00:00:00",
          "1944-01-01T00:00:00",
          "1944-02-01T00:00:00",
          "1944-03-01T00:00:00",
          "1944-04-01T00:00:00",
          "1944-05-01T00:00:00",
          "1944-06-01T00:00:00",
          "1944-07-01T00:00:00",
          "1944-08-01T00:00:00",
          "1944-09-01T00:00:00",
          "1944-10-01T00:00:00",
          "1944-11-01T00:00:00",
          "1944-12-01T00:00:00",
          "1945-01-01T00:00:00",
          "1945-02-01T00:00:00",
          "1945-03-01T00:00:00",
          "1945-04-01T00:00:00",
          "1945-05-01T00:00:00",
          "1945-06-01T00:00:00",
          "1945-07-01T00:00:00",
          "1945-08-01T00:00:00",
          "1945-09-01T00:00:00",
          "1945-10-01T00:00:00",
          "1945-11-01T00:00:00",
          "1945-12-01T00:00:00",
          "1946-01-01T00:00:00",
          "1946-02-01T00:00:00",
          "1946-03-01T00:00:00"
         ],
         "xaxis": "x",
         "y": [
          0,
          0,
          0,
          0,
          5806,
          8320,
          8294,
          8232,
          8214,
          8152,
          8332,
          8189,
          8018,
          7862,
          7809,
          7682,
          7608,
          7554,
          7585,
          7559,
          7438,
          7350,
          7227,
          7084,
          6879,
          6727,
          6621,
          6426,
          6280,
          6125,
          6026,
          5984,
          5883,
          5742,
          5589,
          5413,
          5165,
          4645,
          4176,
          3339,
          1899,
          0,
          0,
          0,
          0,
          0
         ],
         "yaxis": "y"
        },
        {
         "hoverlabel": {
          "namelength": 0
         },
         "hovertemplate": "Camp=Poston/Colorado River<br>Date=%{x}<br>Population=%{y}",
         "legendgroup": "Camp=Poston/Colorado River",
         "line": {
          "color": "#EF553B",
          "dash": "solid"
         },
         "mode": "lines",
         "name": "Camp=Poston/Colorado River",
         "showlegend": true,
         "type": "scatter",
         "x": [
          "1942-06-01T00:00:00",
          "1942-07-01T00:00:00",
          "1942-08-01T00:00:00",
          "1942-09-01T00:00:00",
          "1942-10-01T00:00:00",
          "1942-11-01T00:00:00",
          "1942-12-01T00:00:00",
          "1943-01-01T00:00:00",
          "1943-02-01T00:00:00",
          "1943-03-01T00:00:00",
          "1943-04-01T00:00:00",
          "1943-05-01T00:00:00",
          "1943-06-01T00:00:00",
          "1943-07-01T00:00:00",
          "1943-08-01T00:00:00",
          "1943-09-01T00:00:00",
          "1943-10-01T00:00:00",
          "1943-11-01T00:00:00",
          "1943-12-01T00:00:00",
          "1944-01-01T00:00:00",
          "1944-02-01T00:00:00",
          "1944-03-01T00:00:00",
          "1944-04-01T00:00:00",
          "1944-05-01T00:00:00",
          "1944-06-01T00:00:00",
          "1944-07-01T00:00:00",
          "1944-08-01T00:00:00",
          "1944-09-01T00:00:00",
          "1944-10-01T00:00:00",
          "1944-11-01T00:00:00",
          "1944-12-01T00:00:00",
          "1945-01-01T00:00:00",
          "1945-02-01T00:00:00",
          "1945-03-01T00:00:00",
          "1945-04-01T00:00:00",
          "1945-05-01T00:00:00",
          "1945-06-01T00:00:00",
          "1945-07-01T00:00:00",
          "1945-08-01T00:00:00",
          "1945-09-01T00:00:00",
          "1945-10-01T00:00:00",
          "1945-11-01T00:00:00",
          "1945-12-01T00:00:00",
          "1946-01-01T00:00:00",
          "1946-02-01T00:00:00",
          "1946-03-01T00:00:00"
         ],
         "xaxis": "x",
         "y": [
          7281,
          8755,
          13262,
          17818,
          17847,
          17877,
          17965,
          8039,
          18025,
          17984,
          17941,
          17741,
          17406,
          16995,
          16671,
          16279,
          16013,
          14470,
          14372,
          14295,
          14109,
          13876,
          13453,
          13241,
          13021,
          12725,
          12517,
          12152,
          12059,
          11881,
          11751,
          11710,
          11480,
          11251,
          10828,
          10421,
          9979,
          9386,
          8750,
          6828,
          2730,
          1088,
          0,
          0,
          0,
          0
         ],
         "yaxis": "y"
        },
        {
         "hoverlabel": {
          "namelength": 0
         },
         "hovertemplate": "Camp=Gila River<br>Date=%{x}<br>Population=%{y}",
         "legendgroup": "Camp=Gila River",
         "line": {
          "color": "#00cc96",
          "dash": "solid"
         },
         "mode": "lines",
         "name": "Camp=Gila River",
         "showlegend": true,
         "type": "scatter",
         "x": [
          "1942-06-01T00:00:00",
          "1942-07-01T00:00:00",
          "1942-08-01T00:00:00",
          "1942-09-01T00:00:00",
          "1942-10-01T00:00:00",
          "1942-11-01T00:00:00",
          "1942-12-01T00:00:00",
          "1943-01-01T00:00:00",
          "1943-02-01T00:00:00",
          "1943-03-01T00:00:00",
          "1943-04-01T00:00:00",
          "1943-05-01T00:00:00",
          "1943-06-01T00:00:00",
          "1943-07-01T00:00:00",
          "1943-08-01T00:00:00",
          "1943-09-01T00:00:00",
          "1943-10-01T00:00:00",
          "1943-11-01T00:00:00",
          "1943-12-01T00:00:00",
          "1944-01-01T00:00:00",
          "1944-02-01T00:00:00",
          "1944-03-01T00:00:00",
          "1944-04-01T00:00:00",
          "1944-05-01T00:00:00",
          "1944-06-01T00:00:00",
          "1944-07-01T00:00:00",
          "1944-08-01T00:00:00",
          "1944-09-01T00:00:00",
          "1944-10-01T00:00:00",
          "1944-11-01T00:00:00",
          "1944-12-01T00:00:00",
          "1945-01-01T00:00:00",
          "1945-02-01T00:00:00",
          "1945-03-01T00:00:00",
          "1945-04-01T00:00:00",
          "1945-05-01T00:00:00",
          "1945-06-01T00:00:00",
          "1945-07-01T00:00:00",
          "1945-08-01T00:00:00",
          "1945-09-01T00:00:00",
          "1945-10-01T00:00:00",
          "1945-11-01T00:00:00",
          "1945-12-01T00:00:00",
          "1946-01-01T00:00:00",
          "1946-02-01T00:00:00",
          "1946-03-01T00:00:00"
         ],
         "xaxis": "x",
         "y": [
          0,
          0,
          2106,
          9150,
          11555,
          13368,
          13368,
          13420,
          13411,
          13374,
          13372,
          13224,
          12954,
          12683,
          12542,
          12251,
          12056,
          10017,
          9898,
          9869,
          9800,
          9655,
          9419,
          9199,
          8788,
          10531,
          10291,
          9951,
          9651,
          9550,
          9534,
          9550,
          9432,
          9207,
          8988,
          8716,
          8319,
          7684,
          6765,
          5141,
          2760,
          754,
          0,
          0,
          0,
          0
         ],
         "yaxis": "y"
        },
        {
         "hoverlabel": {
          "namelength": 0
         },
         "hovertemplate": "Camp=Granada<br>Date=%{x}<br>Population=%{y}",
         "legendgroup": "Camp=Granada",
         "line": {
          "color": "#ab63fa",
          "dash": "solid"
         },
         "mode": "lines",
         "name": "Camp=Granada",
         "showlegend": true,
         "type": "scatter",
         "x": [
          "1942-06-01T00:00:00",
          "1942-07-01T00:00:00",
          "1942-08-01T00:00:00",
          "1942-09-01T00:00:00",
          "1942-10-01T00:00:00",
          "1942-11-01T00:00:00",
          "1942-12-01T00:00:00",
          "1943-01-01T00:00:00",
          "1943-02-01T00:00:00",
          "1943-03-01T00:00:00",
          "1943-04-01T00:00:00",
          "1943-05-01T00:00:00",
          "1943-06-01T00:00:00",
          "1943-07-01T00:00:00",
          "1943-08-01T00:00:00",
          "1943-09-01T00:00:00",
          "1943-10-01T00:00:00",
          "1943-11-01T00:00:00",
          "1943-12-01T00:00:00",
          "1944-01-01T00:00:00",
          "1944-02-01T00:00:00",
          "1944-03-01T00:00:00",
          "1944-04-01T00:00:00",
          "1944-05-01T00:00:00",
          "1944-06-01T00:00:00",
          "1944-07-01T00:00:00",
          "1944-08-01T00:00:00",
          "1944-09-01T00:00:00",
          "1944-10-01T00:00:00",
          "1944-11-01T00:00:00",
          "1944-12-01T00:00:00",
          "1945-01-01T00:00:00",
          "1945-02-01T00:00:00",
          "1945-03-01T00:00:00",
          "1945-04-01T00:00:00",
          "1945-05-01T00:00:00",
          "1945-06-01T00:00:00",
          "1945-07-01T00:00:00",
          "1945-08-01T00:00:00",
          "1945-09-01T00:00:00",
          "1945-10-01T00:00:00",
          "1945-11-01T00:00:00",
          "1945-12-01T00:00:00",
          "1946-01-01T00:00:00",
          "1946-02-01T00:00:00",
          "1946-03-01T00:00:00"
         ],
         "xaxis": "x",
         "y": [
          0,
          0,
          0,
          212,
          7480,
          7654,
          7651,
          7656,
          7622,
          7619,
          7476,
          7222,
          7016,
          6931,
          3876,
          6764,
          7494,
          7368,
          7393,
          7355,
          7176,
          6983,
          6786,
          6685,
          6424,
          6816,
          6664,
          6490,
          6403,
          6371,
          6311,
          6255,
          6177,
          6035,
          5805,
          5411,
          4980,
          4256,
          3758,
          3155,
          1379,
          0,
          0,
          0,
          0,
          0
         ],
         "yaxis": "y"
        },
        {
         "hoverlabel": {
          "namelength": 0
         },
         "hovertemplate": "Camp=Heart Mountain<br>Date=%{x}<br>Population=%{y}",
         "legendgroup": "Camp=Heart Mountain",
         "line": {
          "color": "#FFA15A",
          "dash": "solid"
         },
         "mode": "lines",
         "name": "Camp=Heart Mountain",
         "showlegend": true,
         "type": "scatter",
         "x": [
          "1942-06-01T00:00:00",
          "1942-07-01T00:00:00",
          "1942-08-01T00:00:00",
          "1942-09-01T00:00:00",
          "1942-10-01T00:00:00",
          "1942-11-01T00:00:00",
          "1942-12-01T00:00:00",
          "1943-01-01T00:00:00",
          "1943-02-01T00:00:00",
          "1943-03-01T00:00:00",
          "1943-04-01T00:00:00",
          "1943-05-01T00:00:00",
          "1943-06-01T00:00:00",
          "1943-07-01T00:00:00",
          "1943-08-01T00:00:00",
          "1943-09-01T00:00:00",
          "1943-10-01T00:00:00",
          "1943-11-01T00:00:00",
          "1943-12-01T00:00:00",
          "1944-01-01T00:00:00",
          "1944-02-01T00:00:00",
          "1944-03-01T00:00:00",
          "1944-04-01T00:00:00",
          "1944-05-01T00:00:00",
          "1944-06-01T00:00:00",
          "1944-07-01T00:00:00",
          "1944-08-01T00:00:00",
          "1944-09-01T00:00:00",
          "1944-10-01T00:00:00",
          "1944-11-01T00:00:00",
          "1944-12-01T00:00:00",
          "1945-01-01T00:00:00",
          "1945-02-01T00:00:00",
          "1945-03-01T00:00:00",
          "1945-04-01T00:00:00",
          "1945-05-01T00:00:00",
          "1945-06-01T00:00:00",
          "1945-07-01T00:00:00",
          "1945-08-01T00:00:00",
          "1945-09-01T00:00:00",
          "1945-10-01T00:00:00",
          "1945-11-01T00:00:00",
          "1945-12-01T00:00:00",
          "1946-01-01T00:00:00",
          "1946-02-01T00:00:00",
          "1946-03-01T00:00:00"
         ],
         "xaxis": "x",
         "y": [
          0,
          0,
          0,
          5758,
          10813,
          11107,
          11105,
          11062,
          11006,
          10959,
          10886,
          10724,
          10520,
          10307,
          10178,
          10073,
          10509,
          10426,
          10406,
          10388,
          10242,
          10112,
          9962,
          9760,
          9420,
          9712,
          9433,
          9241,
          9035,
          8886,
          8669,
          8537,
          8445,
          8213,
          7997,
          7556,
          7084,
          6325,
          5714,
          4611,
          3312,
          1156,
          0,
          0,
          0,
          0
         ],
         "yaxis": "y"
        },
        {
         "hoverlabel": {
          "namelength": 0
         },
         "hovertemplate": "Camp=Jerome<br>Date=%{x}<br>Population=%{y}",
         "legendgroup": "Camp=Jerome",
         "line": {
          "color": "#19d3f3",
          "dash": "solid"
         },
         "mode": "lines",
         "name": "Camp=Jerome",
         "showlegend": true,
         "type": "scatter",
         "x": [
          "1942-06-01T00:00:00",
          "1942-07-01T00:00:00",
          "1942-08-01T00:00:00",
          "1942-09-01T00:00:00",
          "1942-10-01T00:00:00",
          "1942-11-01T00:00:00",
          "1942-12-01T00:00:00",
          "1943-01-01T00:00:00",
          "1943-02-01T00:00:00",
          "1943-03-01T00:00:00",
          "1943-04-01T00:00:00",
          "1943-05-01T00:00:00",
          "1943-06-01T00:00:00",
          "1943-07-01T00:00:00",
          "1943-08-01T00:00:00",
          "1943-09-01T00:00:00",
          "1943-10-01T00:00:00",
          "1943-11-01T00:00:00",
          "1943-12-01T00:00:00",
          "1944-01-01T00:00:00",
          "1944-02-01T00:00:00",
          "1944-03-01T00:00:00",
          "1944-04-01T00:00:00",
          "1944-05-01T00:00:00",
          "1944-06-01T00:00:00",
          "1944-07-01T00:00:00",
          "1944-08-01T00:00:00",
          "1944-09-01T00:00:00",
          "1944-10-01T00:00:00",
          "1944-11-01T00:00:00",
          "1944-12-01T00:00:00",
          "1945-01-01T00:00:00",
          "1945-02-01T00:00:00",
          "1945-03-01T00:00:00",
          "1945-04-01T00:00:00",
          "1945-05-01T00:00:00",
          "1945-06-01T00:00:00",
          "1945-07-01T00:00:00",
          "1945-08-01T00:00:00",
          "1945-09-01T00:00:00",
          "1945-10-01T00:00:00",
          "1945-11-01T00:00:00",
          "1945-12-01T00:00:00",
          "1946-01-01T00:00:00",
          "1946-02-01T00:00:00",
          "1946-03-01T00:00:00"
         ],
         "xaxis": "x",
         "y": [
          0,
          0,
          0,
          0,
          0,
          7039,
          7925,
          7932,
          8354,
          8587,
          8526,
          8350,
          8182,
          7972,
          7808,
          7649,
          6899,
          6787,
          6726,
          6700,
          6632,
          6537,
          6529,
          6467,
          5601,
          4,
          4,
          4,
          3,
          3,
          3,
          3,
          2,
          2,
          0,
          0,
          0,
          0,
          0,
          0,
          0,
          0,
          0,
          0,
          0,
          0
         ],
         "yaxis": "y"
        },
        {
         "hoverlabel": {
          "namelength": 0
         },
         "hovertemplate": "Camp=Manzanar<br>Date=%{x}<br>Population=%{y}",
         "legendgroup": "Camp=Manzanar",
         "line": {
          "color": "#FF6692",
          "dash": "solid"
         },
         "mode": "lines",
         "name": "Camp=Manzanar",
         "showlegend": true,
         "type": "scatter",
         "x": [
          "1942-06-01T00:00:00",
          "1942-07-01T00:00:00",
          "1942-08-01T00:00:00",
          "1942-09-01T00:00:00",
          "1942-10-01T00:00:00",
          "1942-11-01T00:00:00",
          "1942-12-01T00:00:00",
          "1943-01-01T00:00:00",
          "1943-02-01T00:00:00",
          "1943-03-01T00:00:00",
          "1943-04-01T00:00:00",
          "1943-05-01T00:00:00",
          "1943-06-01T00:00:00",
          "1943-07-01T00:00:00",
          "1943-08-01T00:00:00",
          "1943-09-01T00:00:00",
          "1943-10-01T00:00:00",
          "1943-11-01T00:00:00",
          "1943-12-01T00:00:00",
          "1944-01-01T00:00:00",
          "1944-02-01T00:00:00",
          "1944-03-01T00:00:00",
          "1944-04-01T00:00:00",
          "1944-05-01T00:00:00",
          "1944-06-01T00:00:00",
          "1944-07-01T00:00:00",
          "1944-08-01T00:00:00",
          "1944-09-01T00:00:00",
          "1944-10-01T00:00:00",
          "1944-11-01T00:00:00",
          "1944-12-01T00:00:00",
          "1945-01-01T00:00:00",
          "1945-02-01T00:00:00",
          "1945-03-01T00:00:00",
          "1945-04-01T00:00:00",
          "1945-05-01T00:00:00",
          "1945-06-01T00:00:00",
          "1945-07-01T00:00:00",
          "1945-08-01T00:00:00",
          "1945-09-01T00:00:00",
          "1945-10-01T00:00:00",
          "1945-11-01T00:00:00",
          "1945-12-01T00:00:00",
          "1946-01-01T00:00:00",
          "1946-02-01T00:00:00",
          "1946-03-01T00:00:00"
         ],
         "xaxis": "x",
         "y": [
          9666,
          9840,
          9928,
          10072,
          10256,
          10181,
          10177,
          10121,
          10079,
          9796,
          9707,
          9496,
          9272,
          9197,
          9163,
          9105,
          9045,
          8701,
          8621,
          8643,
          8580,
          6655,
          6565,
          6456,
          6341,
          6232,
          6138,
          6057,
          5939,
          5836,
          5668,
          5588,
          5522,
          5435,
          5298,
          5030,
          4658,
          4248,
          3994,
          3552,
          2891,
          1146,
          0,
          0,
          0,
          0
         ],
         "yaxis": "y"
        },
        {
         "hoverlabel": {
          "namelength": 0
         },
         "hovertemplate": "Camp=Minidoka<br>Date=%{x}<br>Population=%{y}",
         "legendgroup": "Camp=Minidoka",
         "line": {
          "color": "#B6E880",
          "dash": "solid"
         },
         "mode": "lines",
         "name": "Camp=Minidoka",
         "showlegend": true,
         "type": "scatter",
         "x": [
          "1942-06-01T00:00:00",
          "1942-07-01T00:00:00",
          "1942-08-01T00:00:00",
          "1942-09-01T00:00:00",
          "1942-10-01T00:00:00",
          "1942-11-01T00:00:00",
          "1942-12-01T00:00:00",
          "1943-01-01T00:00:00",
          "1943-02-01T00:00:00",
          "1943-03-01T00:00:00",
          "1943-04-01T00:00:00",
          "1943-05-01T00:00:00",
          "1943-06-01T00:00:00",
          "1943-07-01T00:00:00",
          "1943-08-01T00:00:00",
          "1943-09-01T00:00:00",
          "1943-10-01T00:00:00",
          "1943-11-01T00:00:00",
          "1943-12-01T00:00:00",
          "1944-01-01T00:00:00",
          "1944-02-01T00:00:00",
          "1944-03-01T00:00:00",
          "1944-04-01T00:00:00",
          "1944-05-01T00:00:00",
          "1944-06-01T00:00:00",
          "1944-07-01T00:00:00",
          "1944-08-01T00:00:00",
          "1944-09-01T00:00:00",
          "1944-10-01T00:00:00",
          "1944-11-01T00:00:00",
          "1944-12-01T00:00:00",
          "1945-01-01T00:00:00",
          "1945-02-01T00:00:00",
          "1945-03-01T00:00:00",
          "1945-04-01T00:00:00",
          "1945-05-01T00:00:00",
          "1945-06-01T00:00:00",
          "1945-07-01T00:00:00",
          "1945-08-01T00:00:00",
          "1945-09-01T00:00:00",
          "1945-10-01T00:00:00",
          "1945-11-01T00:00:00",
          "1945-12-01T00:00:00",
          "1946-01-01T00:00:00",
          "1946-02-01T00:00:00",
          "1946-03-01T00:00:00"
         ],
         "xaxis": "x",
         "y": [
          0,
          0,
          0,
          4840,
          9200,
          9846,
          9849,
          9861,
          9814,
          9924,
          9772,
          9401,
          8989,
          8752,
          8556,
          8325,
          9530,
          9419,
          9492,
          9461,
          9374,
          9288,
          9027,
          8856,
          8514,
          8335,
          8160,
          8099,
          7972,
          7976,
          7867,
          7770,
          7574,
          7373,
          6851,
          6382,
          5615,
          4937,
          4330,
          3218,
          1482,
          0,
          0,
          0,
          0,
          0
         ],
         "yaxis": "y"
        },
        {
         "hoverlabel": {
          "namelength": 0
         },
         "hovertemplate": "Camp=Rohwer<br>Date=%{x}<br>Population=%{y}",
         "legendgroup": "Camp=Rohwer",
         "line": {
          "color": "#FF97FF",
          "dash": "solid"
         },
         "mode": "lines",
         "name": "Camp=Rohwer",
         "showlegend": true,
         "type": "scatter",
         "x": [
          "1942-06-01T00:00:00",
          "1942-07-01T00:00:00",
          "1942-08-01T00:00:00",
          "1942-09-01T00:00:00",
          "1942-10-01T00:00:00",
          "1942-11-01T00:00:00",
          "1942-12-01T00:00:00",
          "1943-01-01T00:00:00",
          "1943-02-01T00:00:00",
          "1943-03-01T00:00:00",
          "1943-04-01T00:00:00",
          "1943-05-01T00:00:00",
          "1943-06-01T00:00:00",
          "1943-07-01T00:00:00",
          "1943-08-01T00:00:00",
          "1943-09-01T00:00:00",
          "1943-10-01T00:00:00",
          "1943-11-01T00:00:00",
          "1943-12-01T00:00:00",
          "1944-01-01T00:00:00",
          "1944-02-01T00:00:00",
          "1944-03-01T00:00:00",
          "1944-04-01T00:00:00",
          "1944-05-01T00:00:00",
          "1944-06-01T00:00:00",
          "1944-07-01T00:00:00",
          "1944-08-01T00:00:00",
          "1944-09-01T00:00:00",
          "1944-10-01T00:00:00",
          "1944-11-01T00:00:00",
          "1944-12-01T00:00:00",
          "1945-01-01T00:00:00",
          "1945-02-01T00:00:00",
          "1945-03-01T00:00:00",
          "1945-04-01T00:00:00",
          "1945-05-01T00:00:00",
          "1945-06-01T00:00:00",
          "1945-07-01T00:00:00",
          "1945-08-01T00:00:00",
          "1945-09-01T00:00:00",
          "1945-10-01T00:00:00",
          "1945-11-01T00:00:00",
          "1945-12-01T00:00:00",
          "1946-01-01T00:00:00",
          "1946-02-01T00:00:00",
          "1946-03-01T00:00:00"
         ],
         "xaxis": "x",
         "y": [
          0,
          0,
          0,
          0,
          2265,
          8407,
          8515,
          8548,
          8538,
          8528,
          8478,
          8286,
          8061,
          7895,
          7781,
          7552,
          7123,
          6731,
          6676,
          6676,
          6600,
          6514,
          6375,
          6248,
          5479,
          7623,
          7279,
          6900,
          6764,
          6700,
          6689,
          6747,
          6697,
          6563,
          6339,
          5991,
          5447,
          4910,
          4098,
          3332,
          2175,
          1804,
          0,
          0,
          0,
          0
         ],
         "yaxis": "y"
        },
        {
         "hoverlabel": {
          "namelength": 0
         },
         "hovertemplate": "Camp=Tule Lake<br>Date=%{x}<br>Population=%{y}",
         "legendgroup": "Camp=Tule Lake",
         "line": {
          "color": "#FECB52",
          "dash": "solid"
         },
         "mode": "lines",
         "name": "Camp=Tule Lake",
         "showlegend": true,
         "type": "scatter",
         "x": [
          "1942-06-01T00:00:00",
          "1942-07-01T00:00:00",
          "1942-08-01T00:00:00",
          "1942-09-01T00:00:00",
          "1942-10-01T00:00:00",
          "1942-11-01T00:00:00",
          "1942-12-01T00:00:00",
          "1943-01-01T00:00:00",
          "1943-02-01T00:00:00",
          "1943-03-01T00:00:00",
          "1943-04-01T00:00:00",
          "1943-05-01T00:00:00",
          "1943-06-01T00:00:00",
          "1943-07-01T00:00:00",
          "1943-08-01T00:00:00",
          "1943-09-01T00:00:00",
          "1943-10-01T00:00:00",
          "1943-11-01T00:00:00",
          "1943-12-01T00:00:00",
          "1944-01-01T00:00:00",
          "1944-02-01T00:00:00",
          "1944-03-01T00:00:00",
          "1944-04-01T00:00:00",
          "1944-05-01T00:00:00",
          "1944-06-01T00:00:00",
          "1944-07-01T00:00:00",
          "1944-08-01T00:00:00",
          "1944-09-01T00:00:00",
          "1944-10-01T00:00:00",
          "1944-11-01T00:00:00",
          "1944-12-01T00:00:00",
          "1945-01-01T00:00:00",
          "1945-02-01T00:00:00",
          "1945-03-01T00:00:00",
          "1945-04-01T00:00:00",
          "1945-05-01T00:00:00",
          "1945-06-01T00:00:00",
          "1945-07-01T00:00:00",
          "1945-08-01T00:00:00",
          "1945-09-01T00:00:00",
          "1945-10-01T00:00:00",
          "1945-11-01T00:00:00",
          "1945-12-01T00:00:00",
          "1946-01-01T00:00:00",
          "1946-02-01T00:00:00",
          "1946-03-01T00:00:00"
         ],
         "xaxis": "x",
         "y": [
          446,
          9038,
          15020,
          15181,
          15277,
          15393,
          15311,
          15369,
          15274,
          15219,
          15124,
          15015,
          14828,
          14630,
          14484,
          14185,
          12183,
          16012,
          15671,
          15630,
          15625,
          17492,
          17580,
          16964,
          18652,
          18678,
          18709,
          18726,
          18728,
          18718,
          18770,
          18734,
          18593,
          17953,
          17864,
          17886,
          17879,
          17466,
          17366,
          17286,
          16740,
          15450,
          12628,
          7303,
          5046,
          2808
         ],
         "yaxis": "y"
        }
       ],
       "layout": {
        "height": 600,
        "legend": {
         "tracegroupgap": 0
        },
        "template": {
         "data": {
          "bar": [
           {
            "error_x": {
             "color": "#2a3f5f"
            },
            "error_y": {
             "color": "#2a3f5f"
            },
            "marker": {
             "line": {
              "color": "#E5ECF6",
              "width": 0.5
             }
            },
            "type": "bar"
           }
          ],
          "barpolar": [
           {
            "marker": {
             "line": {
              "color": "#E5ECF6",
              "width": 0.5
             }
            },
            "type": "barpolar"
           }
          ],
          "carpet": [
           {
            "aaxis": {
             "endlinecolor": "#2a3f5f",
             "gridcolor": "white",
             "linecolor": "white",
             "minorgridcolor": "white",
             "startlinecolor": "#2a3f5f"
            },
            "baxis": {
             "endlinecolor": "#2a3f5f",
             "gridcolor": "white",
             "linecolor": "white",
             "minorgridcolor": "white",
             "startlinecolor": "#2a3f5f"
            },
            "type": "carpet"
           }
          ],
          "choropleth": [
           {
            "colorbar": {
             "outlinewidth": 0,
             "ticks": ""
            },
            "type": "choropleth"
           }
          ],
          "contour": [
           {
            "colorbar": {
             "outlinewidth": 0,
             "ticks": ""
            },
            "colorscale": [
             [
              0,
              "#0d0887"
             ],
             [
              0.1111111111111111,
              "#46039f"
             ],
             [
              0.2222222222222222,
              "#7201a8"
             ],
             [
              0.3333333333333333,
              "#9c179e"
             ],
             [
              0.4444444444444444,
              "#bd3786"
             ],
             [
              0.5555555555555556,
              "#d8576b"
             ],
             [
              0.6666666666666666,
              "#ed7953"
             ],
             [
              0.7777777777777778,
              "#fb9f3a"
             ],
             [
              0.8888888888888888,
              "#fdca26"
             ],
             [
              1,
              "#f0f921"
             ]
            ],
            "type": "contour"
           }
          ],
          "contourcarpet": [
           {
            "colorbar": {
             "outlinewidth": 0,
             "ticks": ""
            },
            "type": "contourcarpet"
           }
          ],
          "heatmap": [
           {
            "colorbar": {
             "outlinewidth": 0,
             "ticks": ""
            },
            "colorscale": [
             [
              0,
              "#0d0887"
             ],
             [
              0.1111111111111111,
              "#46039f"
             ],
             [
              0.2222222222222222,
              "#7201a8"
             ],
             [
              0.3333333333333333,
              "#9c179e"
             ],
             [
              0.4444444444444444,
              "#bd3786"
             ],
             [
              0.5555555555555556,
              "#d8576b"
             ],
             [
              0.6666666666666666,
              "#ed7953"
             ],
             [
              0.7777777777777778,
              "#fb9f3a"
             ],
             [
              0.8888888888888888,
              "#fdca26"
             ],
             [
              1,
              "#f0f921"
             ]
            ],
            "type": "heatmap"
           }
          ],
          "heatmapgl": [
           {
            "colorbar": {
             "outlinewidth": 0,
             "ticks": ""
            },
            "colorscale": [
             [
              0,
              "#0d0887"
             ],
             [
              0.1111111111111111,
              "#46039f"
             ],
             [
              0.2222222222222222,
              "#7201a8"
             ],
             [
              0.3333333333333333,
              "#9c179e"
             ],
             [
              0.4444444444444444,
              "#bd3786"
             ],
             [
              0.5555555555555556,
              "#d8576b"
             ],
             [
              0.6666666666666666,
              "#ed7953"
             ],
             [
              0.7777777777777778,
              "#fb9f3a"
             ],
             [
              0.8888888888888888,
              "#fdca26"
             ],
             [
              1,
              "#f0f921"
             ]
            ],
            "type": "heatmapgl"
           }
          ],
          "histogram": [
           {
            "marker": {
             "colorbar": {
              "outlinewidth": 0,
              "ticks": ""
             }
            },
            "type": "histogram"
           }
          ],
          "histogram2d": [
           {
            "colorbar": {
             "outlinewidth": 0,
             "ticks": ""
            },
            "colorscale": [
             [
              0,
              "#0d0887"
             ],
             [
              0.1111111111111111,
              "#46039f"
             ],
             [
              0.2222222222222222,
              "#7201a8"
             ],
             [
              0.3333333333333333,
              "#9c179e"
             ],
             [
              0.4444444444444444,
              "#bd3786"
             ],
             [
              0.5555555555555556,
              "#d8576b"
             ],
             [
              0.6666666666666666,
              "#ed7953"
             ],
             [
              0.7777777777777778,
              "#fb9f3a"
             ],
             [
              0.8888888888888888,
              "#fdca26"
             ],
             [
              1,
              "#f0f921"
             ]
            ],
            "type": "histogram2d"
           }
          ],
          "histogram2dcontour": [
           {
            "colorbar": {
             "outlinewidth": 0,
             "ticks": ""
            },
            "colorscale": [
             [
              0,
              "#0d0887"
             ],
             [
              0.1111111111111111,
              "#46039f"
             ],
             [
              0.2222222222222222,
              "#7201a8"
             ],
             [
              0.3333333333333333,
              "#9c179e"
             ],
             [
              0.4444444444444444,
              "#bd3786"
             ],
             [
              0.5555555555555556,
              "#d8576b"
             ],
             [
              0.6666666666666666,
              "#ed7953"
             ],
             [
              0.7777777777777778,
              "#fb9f3a"
             ],
             [
              0.8888888888888888,
              "#fdca26"
             ],
             [
              1,
              "#f0f921"
             ]
            ],
            "type": "histogram2dcontour"
           }
          ],
          "mesh3d": [
           {
            "colorbar": {
             "outlinewidth": 0,
             "ticks": ""
            },
            "type": "mesh3d"
           }
          ],
          "parcoords": [
           {
            "line": {
             "colorbar": {
              "outlinewidth": 0,
              "ticks": ""
             }
            },
            "type": "parcoords"
           }
          ],
          "scatter": [
           {
            "marker": {
             "colorbar": {
              "outlinewidth": 0,
              "ticks": ""
             }
            },
            "type": "scatter"
           }
          ],
          "scatter3d": [
           {
            "line": {
             "colorbar": {
              "outlinewidth": 0,
              "ticks": ""
             }
            },
            "marker": {
             "colorbar": {
              "outlinewidth": 0,
              "ticks": ""
             }
            },
            "type": "scatter3d"
           }
          ],
          "scattercarpet": [
           {
            "marker": {
             "colorbar": {
              "outlinewidth": 0,
              "ticks": ""
             }
            },
            "type": "scattercarpet"
           }
          ],
          "scattergeo": [
           {
            "marker": {
             "colorbar": {
              "outlinewidth": 0,
              "ticks": ""
             }
            },
            "type": "scattergeo"
           }
          ],
          "scattergl": [
           {
            "marker": {
             "colorbar": {
              "outlinewidth": 0,
              "ticks": ""
             }
            },
            "type": "scattergl"
           }
          ],
          "scattermapbox": [
           {
            "marker": {
             "colorbar": {
              "outlinewidth": 0,
              "ticks": ""
             }
            },
            "type": "scattermapbox"
           }
          ],
          "scatterpolar": [
           {
            "marker": {
             "colorbar": {
              "outlinewidth": 0,
              "ticks": ""
             }
            },
            "type": "scatterpolar"
           }
          ],
          "scatterpolargl": [
           {
            "marker": {
             "colorbar": {
              "outlinewidth": 0,
              "ticks": ""
             }
            },
            "type": "scatterpolargl"
           }
          ],
          "scatterternary": [
           {
            "marker": {
             "colorbar": {
              "outlinewidth": 0,
              "ticks": ""
             }
            },
            "type": "scatterternary"
           }
          ],
          "surface": [
           {
            "colorbar": {
             "outlinewidth": 0,
             "ticks": ""
            },
            "colorscale": [
             [
              0,
              "#0d0887"
             ],
             [
              0.1111111111111111,
              "#46039f"
             ],
             [
              0.2222222222222222,
              "#7201a8"
             ],
             [
              0.3333333333333333,
              "#9c179e"
             ],
             [
              0.4444444444444444,
              "#bd3786"
             ],
             [
              0.5555555555555556,
              "#d8576b"
             ],
             [
              0.6666666666666666,
              "#ed7953"
             ],
             [
              0.7777777777777778,
              "#fb9f3a"
             ],
             [
              0.8888888888888888,
              "#fdca26"
             ],
             [
              1,
              "#f0f921"
             ]
            ],
            "type": "surface"
           }
          ],
          "table": [
           {
            "cells": {
             "fill": {
              "color": "#EBF0F8"
             },
             "line": {
              "color": "white"
             }
            },
            "header": {
             "fill": {
              "color": "#C8D4E3"
             },
             "line": {
              "color": "white"
             }
            },
            "type": "table"
           }
          ]
         },
         "layout": {
          "annotationdefaults": {
           "arrowcolor": "#2a3f5f",
           "arrowhead": 0,
           "arrowwidth": 1
          },
          "colorscale": {
           "diverging": [
            [
             0,
             "#8e0152"
            ],
            [
             0.1,
             "#c51b7d"
            ],
            [
             0.2,
             "#de77ae"
            ],
            [
             0.3,
             "#f1b6da"
            ],
            [
             0.4,
             "#fde0ef"
            ],
            [
             0.5,
             "#f7f7f7"
            ],
            [
             0.6,
             "#e6f5d0"
            ],
            [
             0.7,
             "#b8e186"
            ],
            [
             0.8,
             "#7fbc41"
            ],
            [
             0.9,
             "#4d9221"
            ],
            [
             1,
             "#276419"
            ]
           ],
           "sequential": [
            [
             0,
             "#0d0887"
            ],
            [
             0.1111111111111111,
             "#46039f"
            ],
            [
             0.2222222222222222,
             "#7201a8"
            ],
            [
             0.3333333333333333,
             "#9c179e"
            ],
            [
             0.4444444444444444,
             "#bd3786"
            ],
            [
             0.5555555555555556,
             "#d8576b"
            ],
            [
             0.6666666666666666,
             "#ed7953"
            ],
            [
             0.7777777777777778,
             "#fb9f3a"
            ],
            [
             0.8888888888888888,
             "#fdca26"
            ],
            [
             1,
             "#f0f921"
            ]
           ],
           "sequentialminus": [
            [
             0,
             "#0d0887"
            ],
            [
             0.1111111111111111,
             "#46039f"
            ],
            [
             0.2222222222222222,
             "#7201a8"
            ],
            [
             0.3333333333333333,
             "#9c179e"
            ],
            [
             0.4444444444444444,
             "#bd3786"
            ],
            [
             0.5555555555555556,
             "#d8576b"
            ],
            [
             0.6666666666666666,
             "#ed7953"
            ],
            [
             0.7777777777777778,
             "#fb9f3a"
            ],
            [
             0.8888888888888888,
             "#fdca26"
            ],
            [
             1,
             "#f0f921"
            ]
           ]
          },
          "colorway": [
           "#636efa",
           "#EF553B",
           "#00cc96",
           "#ab63fa",
           "#FFA15A",
           "#19d3f3",
           "#FF6692",
           "#B6E880",
           "#FF97FF",
           "#FECB52"
          ],
          "font": {
           "color": "#2a3f5f"
          },
          "geo": {
           "bgcolor": "white",
           "lakecolor": "white",
           "landcolor": "#E5ECF6",
           "showlakes": true,
           "showland": true,
           "subunitcolor": "white"
          },
          "hoverlabel": {
           "align": "left"
          },
          "hovermode": "closest",
          "mapbox": {
           "style": "light"
          },
          "paper_bgcolor": "white",
          "plot_bgcolor": "#E5ECF6",
          "polar": {
           "angularaxis": {
            "gridcolor": "white",
            "linecolor": "white",
            "ticks": ""
           },
           "bgcolor": "#E5ECF6",
           "radialaxis": {
            "gridcolor": "white",
            "linecolor": "white",
            "ticks": ""
           }
          },
          "scene": {
           "xaxis": {
            "backgroundcolor": "#E5ECF6",
            "gridcolor": "white",
            "gridwidth": 2,
            "linecolor": "white",
            "showbackground": true,
            "ticks": "",
            "zerolinecolor": "white"
           },
           "yaxis": {
            "backgroundcolor": "#E5ECF6",
            "gridcolor": "white",
            "gridwidth": 2,
            "linecolor": "white",
            "showbackground": true,
            "ticks": "",
            "zerolinecolor": "white"
           },
           "zaxis": {
            "backgroundcolor": "#E5ECF6",
            "gridcolor": "white",
            "gridwidth": 2,
            "linecolor": "white",
            "showbackground": true,
            "ticks": "",
            "zerolinecolor": "white"
           }
          },
          "shapedefaults": {
           "line": {
            "color": "#2a3f5f"
           }
          },
          "ternary": {
           "aaxis": {
            "gridcolor": "white",
            "linecolor": "white",
            "ticks": ""
           },
           "baxis": {
            "gridcolor": "white",
            "linecolor": "white",
            "ticks": ""
           },
           "bgcolor": "#E5ECF6",
           "caxis": {
            "gridcolor": "white",
            "linecolor": "white",
            "ticks": ""
           }
          },
          "title": {
           "x": 0.05
          },
          "xaxis": {
           "automargin": true,
           "gridcolor": "white",
           "linecolor": "white",
           "ticks": "",
           "zerolinecolor": "white",
           "zerolinewidth": 2
          },
          "yaxis": {
           "automargin": true,
           "gridcolor": "white",
           "linecolor": "white",
           "ticks": "",
           "zerolinecolor": "white",
           "zerolinewidth": 2
          }
         }
        },
        "title": {
         "text": "Camp Populations by Month"
        },
        "xaxis": {
         "anchor": "y",
         "domain": [
          0,
          0.98
         ],
         "title": {
          "text": "Date"
         }
        },
        "yaxis": {
         "anchor": "x",
         "domain": [
          0,
          1
         ],
         "title": {
          "text": "Population"
         }
        }
       }
      },
      "text/html": [
       "<div>\n",
       "        \n",
       "        \n",
       "            <div id=\"9fb8ef65-d260-4c64-832d-a41e71c16567\" class=\"plotly-graph-div\" style=\"height:600px; width:100%;\"></div>\n",
       "            <script type=\"text/javascript\">\n",
       "                require([\"plotly\"], function(Plotly) {\n",
       "                    window.PLOTLYENV=window.PLOTLYENV || {};\n",
       "                    \n",
       "                if (document.getElementById(\"9fb8ef65-d260-4c64-832d-a41e71c16567\")) {\n",
       "                    Plotly.newPlot(\n",
       "                        '9fb8ef65-d260-4c64-832d-a41e71c16567',\n",
       "                        [{\"hoverlabel\": {\"namelength\": 0}, \"hovertemplate\": \"Camp=Topaz/Central Utah<br>Date=%{x}<br>Population=%{y}\", \"legendgroup\": \"Camp=Topaz/Central Utah\", \"line\": {\"color\": \"#636efa\", \"dash\": \"solid\"}, \"mode\": \"lines\", \"name\": \"Camp=Topaz/Central Utah\", \"showlegend\": true, \"type\": \"scatter\", \"x\": [\"1942-06-01T00:00:00\", \"1942-07-01T00:00:00\", \"1942-08-01T00:00:00\", \"1942-09-01T00:00:00\", \"1942-10-01T00:00:00\", \"1942-11-01T00:00:00\", \"1942-12-01T00:00:00\", \"1943-01-01T00:00:00\", \"1943-02-01T00:00:00\", \"1943-03-01T00:00:00\", \"1943-04-01T00:00:00\", \"1943-05-01T00:00:00\", \"1943-06-01T00:00:00\", \"1943-07-01T00:00:00\", \"1943-08-01T00:00:00\", \"1943-09-01T00:00:00\", \"1943-10-01T00:00:00\", \"1943-11-01T00:00:00\", \"1943-12-01T00:00:00\", \"1944-01-01T00:00:00\", \"1944-02-01T00:00:00\", \"1944-03-01T00:00:00\", \"1944-04-01T00:00:00\", \"1944-05-01T00:00:00\", \"1944-06-01T00:00:00\", \"1944-07-01T00:00:00\", \"1944-08-01T00:00:00\", \"1944-09-01T00:00:00\", \"1944-10-01T00:00:00\", \"1944-11-01T00:00:00\", \"1944-12-01T00:00:00\", \"1945-01-01T00:00:00\", \"1945-02-01T00:00:00\", \"1945-03-01T00:00:00\", \"1945-04-01T00:00:00\", \"1945-05-01T00:00:00\", \"1945-06-01T00:00:00\", \"1945-07-01T00:00:00\", \"1945-08-01T00:00:00\", \"1945-09-01T00:00:00\", \"1945-10-01T00:00:00\", \"1945-11-01T00:00:00\", \"1945-12-01T00:00:00\", \"1946-01-01T00:00:00\", \"1946-02-01T00:00:00\", \"1946-03-01T00:00:00\"], \"xaxis\": \"x\", \"y\": [0, 0, 0, 0, 5806, 8320, 8294, 8232, 8214, 8152, 8332, 8189, 8018, 7862, 7809, 7682, 7608, 7554, 7585, 7559, 7438, 7350, 7227, 7084, 6879, 6727, 6621, 6426, 6280, 6125, 6026, 5984, 5883, 5742, 5589, 5413, 5165, 4645, 4176, 3339, 1899, 0, 0, 0, 0, 0], \"yaxis\": \"y\"}, {\"hoverlabel\": {\"namelength\": 0}, \"hovertemplate\": \"Camp=Poston/Colorado River<br>Date=%{x}<br>Population=%{y}\", \"legendgroup\": \"Camp=Poston/Colorado River\", \"line\": {\"color\": \"#EF553B\", \"dash\": \"solid\"}, \"mode\": \"lines\", \"name\": \"Camp=Poston/Colorado River\", \"showlegend\": true, \"type\": \"scatter\", \"x\": [\"1942-06-01T00:00:00\", \"1942-07-01T00:00:00\", \"1942-08-01T00:00:00\", \"1942-09-01T00:00:00\", \"1942-10-01T00:00:00\", \"1942-11-01T00:00:00\", \"1942-12-01T00:00:00\", \"1943-01-01T00:00:00\", \"1943-02-01T00:00:00\", \"1943-03-01T00:00:00\", \"1943-04-01T00:00:00\", \"1943-05-01T00:00:00\", \"1943-06-01T00:00:00\", \"1943-07-01T00:00:00\", \"1943-08-01T00:00:00\", \"1943-09-01T00:00:00\", \"1943-10-01T00:00:00\", \"1943-11-01T00:00:00\", \"1943-12-01T00:00:00\", \"1944-01-01T00:00:00\", \"1944-02-01T00:00:00\", \"1944-03-01T00:00:00\", \"1944-04-01T00:00:00\", \"1944-05-01T00:00:00\", \"1944-06-01T00:00:00\", \"1944-07-01T00:00:00\", \"1944-08-01T00:00:00\", \"1944-09-01T00:00:00\", \"1944-10-01T00:00:00\", \"1944-11-01T00:00:00\", \"1944-12-01T00:00:00\", \"1945-01-01T00:00:00\", \"1945-02-01T00:00:00\", \"1945-03-01T00:00:00\", \"1945-04-01T00:00:00\", \"1945-05-01T00:00:00\", \"1945-06-01T00:00:00\", \"1945-07-01T00:00:00\", \"1945-08-01T00:00:00\", \"1945-09-01T00:00:00\", \"1945-10-01T00:00:00\", \"1945-11-01T00:00:00\", \"1945-12-01T00:00:00\", \"1946-01-01T00:00:00\", \"1946-02-01T00:00:00\", \"1946-03-01T00:00:00\"], \"xaxis\": \"x\", \"y\": [7281, 8755, 13262, 17818, 17847, 17877, 17965, 8039, 18025, 17984, 17941, 17741, 17406, 16995, 16671, 16279, 16013, 14470, 14372, 14295, 14109, 13876, 13453, 13241, 13021, 12725, 12517, 12152, 12059, 11881, 11751, 11710, 11480, 11251, 10828, 10421, 9979, 9386, 8750, 6828, 2730, 1088, 0, 0, 0, 0], \"yaxis\": \"y\"}, {\"hoverlabel\": {\"namelength\": 0}, \"hovertemplate\": \"Camp=Gila River<br>Date=%{x}<br>Population=%{y}\", \"legendgroup\": \"Camp=Gila River\", \"line\": {\"color\": \"#00cc96\", \"dash\": \"solid\"}, \"mode\": \"lines\", \"name\": \"Camp=Gila River\", \"showlegend\": true, \"type\": \"scatter\", \"x\": [\"1942-06-01T00:00:00\", \"1942-07-01T00:00:00\", \"1942-08-01T00:00:00\", \"1942-09-01T00:00:00\", \"1942-10-01T00:00:00\", \"1942-11-01T00:00:00\", \"1942-12-01T00:00:00\", \"1943-01-01T00:00:00\", \"1943-02-01T00:00:00\", \"1943-03-01T00:00:00\", \"1943-04-01T00:00:00\", \"1943-05-01T00:00:00\", \"1943-06-01T00:00:00\", \"1943-07-01T00:00:00\", \"1943-08-01T00:00:00\", \"1943-09-01T00:00:00\", \"1943-10-01T00:00:00\", \"1943-11-01T00:00:00\", \"1943-12-01T00:00:00\", \"1944-01-01T00:00:00\", \"1944-02-01T00:00:00\", \"1944-03-01T00:00:00\", \"1944-04-01T00:00:00\", \"1944-05-01T00:00:00\", \"1944-06-01T00:00:00\", \"1944-07-01T00:00:00\", \"1944-08-01T00:00:00\", \"1944-09-01T00:00:00\", \"1944-10-01T00:00:00\", \"1944-11-01T00:00:00\", \"1944-12-01T00:00:00\", \"1945-01-01T00:00:00\", \"1945-02-01T00:00:00\", \"1945-03-01T00:00:00\", \"1945-04-01T00:00:00\", \"1945-05-01T00:00:00\", \"1945-06-01T00:00:00\", \"1945-07-01T00:00:00\", \"1945-08-01T00:00:00\", \"1945-09-01T00:00:00\", \"1945-10-01T00:00:00\", \"1945-11-01T00:00:00\", \"1945-12-01T00:00:00\", \"1946-01-01T00:00:00\", \"1946-02-01T00:00:00\", \"1946-03-01T00:00:00\"], \"xaxis\": \"x\", \"y\": [0, 0, 2106, 9150, 11555, 13368, 13368, 13420, 13411, 13374, 13372, 13224, 12954, 12683, 12542, 12251, 12056, 10017, 9898, 9869, 9800, 9655, 9419, 9199, 8788, 10531, 10291, 9951, 9651, 9550, 9534, 9550, 9432, 9207, 8988, 8716, 8319, 7684, 6765, 5141, 2760, 754, 0, 0, 0, 0], \"yaxis\": \"y\"}, {\"hoverlabel\": {\"namelength\": 0}, \"hovertemplate\": \"Camp=Granada<br>Date=%{x}<br>Population=%{y}\", \"legendgroup\": \"Camp=Granada\", \"line\": {\"color\": \"#ab63fa\", \"dash\": \"solid\"}, \"mode\": \"lines\", \"name\": \"Camp=Granada\", \"showlegend\": true, \"type\": \"scatter\", \"x\": [\"1942-06-01T00:00:00\", \"1942-07-01T00:00:00\", \"1942-08-01T00:00:00\", \"1942-09-01T00:00:00\", \"1942-10-01T00:00:00\", \"1942-11-01T00:00:00\", \"1942-12-01T00:00:00\", \"1943-01-01T00:00:00\", \"1943-02-01T00:00:00\", \"1943-03-01T00:00:00\", \"1943-04-01T00:00:00\", \"1943-05-01T00:00:00\", \"1943-06-01T00:00:00\", \"1943-07-01T00:00:00\", \"1943-08-01T00:00:00\", \"1943-09-01T00:00:00\", \"1943-10-01T00:00:00\", \"1943-11-01T00:00:00\", \"1943-12-01T00:00:00\", \"1944-01-01T00:00:00\", \"1944-02-01T00:00:00\", \"1944-03-01T00:00:00\", \"1944-04-01T00:00:00\", \"1944-05-01T00:00:00\", \"1944-06-01T00:00:00\", \"1944-07-01T00:00:00\", \"1944-08-01T00:00:00\", \"1944-09-01T00:00:00\", \"1944-10-01T00:00:00\", \"1944-11-01T00:00:00\", \"1944-12-01T00:00:00\", \"1945-01-01T00:00:00\", \"1945-02-01T00:00:00\", \"1945-03-01T00:00:00\", \"1945-04-01T00:00:00\", \"1945-05-01T00:00:00\", \"1945-06-01T00:00:00\", \"1945-07-01T00:00:00\", \"1945-08-01T00:00:00\", \"1945-09-01T00:00:00\", \"1945-10-01T00:00:00\", \"1945-11-01T00:00:00\", \"1945-12-01T00:00:00\", \"1946-01-01T00:00:00\", \"1946-02-01T00:00:00\", \"1946-03-01T00:00:00\"], \"xaxis\": \"x\", \"y\": [0, 0, 0, 212, 7480, 7654, 7651, 7656, 7622, 7619, 7476, 7222, 7016, 6931, 3876, 6764, 7494, 7368, 7393, 7355, 7176, 6983, 6786, 6685, 6424, 6816, 6664, 6490, 6403, 6371, 6311, 6255, 6177, 6035, 5805, 5411, 4980, 4256, 3758, 3155, 1379, 0, 0, 0, 0, 0], \"yaxis\": \"y\"}, {\"hoverlabel\": {\"namelength\": 0}, \"hovertemplate\": \"Camp=Heart Mountain<br>Date=%{x}<br>Population=%{y}\", \"legendgroup\": \"Camp=Heart Mountain\", \"line\": {\"color\": \"#FFA15A\", \"dash\": \"solid\"}, \"mode\": \"lines\", \"name\": \"Camp=Heart Mountain\", \"showlegend\": true, \"type\": \"scatter\", \"x\": [\"1942-06-01T00:00:00\", \"1942-07-01T00:00:00\", \"1942-08-01T00:00:00\", \"1942-09-01T00:00:00\", \"1942-10-01T00:00:00\", \"1942-11-01T00:00:00\", \"1942-12-01T00:00:00\", \"1943-01-01T00:00:00\", \"1943-02-01T00:00:00\", \"1943-03-01T00:00:00\", \"1943-04-01T00:00:00\", \"1943-05-01T00:00:00\", \"1943-06-01T00:00:00\", \"1943-07-01T00:00:00\", \"1943-08-01T00:00:00\", \"1943-09-01T00:00:00\", \"1943-10-01T00:00:00\", \"1943-11-01T00:00:00\", \"1943-12-01T00:00:00\", \"1944-01-01T00:00:00\", \"1944-02-01T00:00:00\", \"1944-03-01T00:00:00\", \"1944-04-01T00:00:00\", \"1944-05-01T00:00:00\", \"1944-06-01T00:00:00\", \"1944-07-01T00:00:00\", \"1944-08-01T00:00:00\", \"1944-09-01T00:00:00\", \"1944-10-01T00:00:00\", \"1944-11-01T00:00:00\", \"1944-12-01T00:00:00\", \"1945-01-01T00:00:00\", \"1945-02-01T00:00:00\", \"1945-03-01T00:00:00\", \"1945-04-01T00:00:00\", \"1945-05-01T00:00:00\", \"1945-06-01T00:00:00\", \"1945-07-01T00:00:00\", \"1945-08-01T00:00:00\", \"1945-09-01T00:00:00\", \"1945-10-01T00:00:00\", \"1945-11-01T00:00:00\", \"1945-12-01T00:00:00\", \"1946-01-01T00:00:00\", \"1946-02-01T00:00:00\", \"1946-03-01T00:00:00\"], \"xaxis\": \"x\", \"y\": [0, 0, 0, 5758, 10813, 11107, 11105, 11062, 11006, 10959, 10886, 10724, 10520, 10307, 10178, 10073, 10509, 10426, 10406, 10388, 10242, 10112, 9962, 9760, 9420, 9712, 9433, 9241, 9035, 8886, 8669, 8537, 8445, 8213, 7997, 7556, 7084, 6325, 5714, 4611, 3312, 1156, 0, 0, 0, 0], \"yaxis\": \"y\"}, {\"hoverlabel\": {\"namelength\": 0}, \"hovertemplate\": \"Camp=Jerome<br>Date=%{x}<br>Population=%{y}\", \"legendgroup\": \"Camp=Jerome\", \"line\": {\"color\": \"#19d3f3\", \"dash\": \"solid\"}, \"mode\": \"lines\", \"name\": \"Camp=Jerome\", \"showlegend\": true, \"type\": \"scatter\", \"x\": [\"1942-06-01T00:00:00\", \"1942-07-01T00:00:00\", \"1942-08-01T00:00:00\", \"1942-09-01T00:00:00\", \"1942-10-01T00:00:00\", \"1942-11-01T00:00:00\", \"1942-12-01T00:00:00\", \"1943-01-01T00:00:00\", \"1943-02-01T00:00:00\", \"1943-03-01T00:00:00\", \"1943-04-01T00:00:00\", \"1943-05-01T00:00:00\", \"1943-06-01T00:00:00\", \"1943-07-01T00:00:00\", \"1943-08-01T00:00:00\", \"1943-09-01T00:00:00\", \"1943-10-01T00:00:00\", \"1943-11-01T00:00:00\", \"1943-12-01T00:00:00\", \"1944-01-01T00:00:00\", \"1944-02-01T00:00:00\", \"1944-03-01T00:00:00\", \"1944-04-01T00:00:00\", \"1944-05-01T00:00:00\", \"1944-06-01T00:00:00\", \"1944-07-01T00:00:00\", \"1944-08-01T00:00:00\", \"1944-09-01T00:00:00\", \"1944-10-01T00:00:00\", \"1944-11-01T00:00:00\", \"1944-12-01T00:00:00\", \"1945-01-01T00:00:00\", \"1945-02-01T00:00:00\", \"1945-03-01T00:00:00\", \"1945-04-01T00:00:00\", \"1945-05-01T00:00:00\", \"1945-06-01T00:00:00\", \"1945-07-01T00:00:00\", \"1945-08-01T00:00:00\", \"1945-09-01T00:00:00\", \"1945-10-01T00:00:00\", \"1945-11-01T00:00:00\", \"1945-12-01T00:00:00\", \"1946-01-01T00:00:00\", \"1946-02-01T00:00:00\", \"1946-03-01T00:00:00\"], \"xaxis\": \"x\", \"y\": [0, 0, 0, 0, 0, 7039, 7925, 7932, 8354, 8587, 8526, 8350, 8182, 7972, 7808, 7649, 6899, 6787, 6726, 6700, 6632, 6537, 6529, 6467, 5601, 4, 4, 4, 3, 3, 3, 3, 2, 2, 0, 0, 0, 0, 0, 0, 0, 0, 0, 0, 0, 0], \"yaxis\": \"y\"}, {\"hoverlabel\": {\"namelength\": 0}, \"hovertemplate\": \"Camp=Manzanar<br>Date=%{x}<br>Population=%{y}\", \"legendgroup\": \"Camp=Manzanar\", \"line\": {\"color\": \"#FF6692\", \"dash\": \"solid\"}, \"mode\": \"lines\", \"name\": \"Camp=Manzanar\", \"showlegend\": true, \"type\": \"scatter\", \"x\": [\"1942-06-01T00:00:00\", \"1942-07-01T00:00:00\", \"1942-08-01T00:00:00\", \"1942-09-01T00:00:00\", \"1942-10-01T00:00:00\", \"1942-11-01T00:00:00\", \"1942-12-01T00:00:00\", \"1943-01-01T00:00:00\", \"1943-02-01T00:00:00\", \"1943-03-01T00:00:00\", \"1943-04-01T00:00:00\", \"1943-05-01T00:00:00\", \"1943-06-01T00:00:00\", \"1943-07-01T00:00:00\", \"1943-08-01T00:00:00\", \"1943-09-01T00:00:00\", \"1943-10-01T00:00:00\", \"1943-11-01T00:00:00\", \"1943-12-01T00:00:00\", \"1944-01-01T00:00:00\", \"1944-02-01T00:00:00\", \"1944-03-01T00:00:00\", \"1944-04-01T00:00:00\", \"1944-05-01T00:00:00\", \"1944-06-01T00:00:00\", \"1944-07-01T00:00:00\", \"1944-08-01T00:00:00\", \"1944-09-01T00:00:00\", \"1944-10-01T00:00:00\", \"1944-11-01T00:00:00\", \"1944-12-01T00:00:00\", \"1945-01-01T00:00:00\", \"1945-02-01T00:00:00\", \"1945-03-01T00:00:00\", \"1945-04-01T00:00:00\", \"1945-05-01T00:00:00\", \"1945-06-01T00:00:00\", \"1945-07-01T00:00:00\", \"1945-08-01T00:00:00\", \"1945-09-01T00:00:00\", \"1945-10-01T00:00:00\", \"1945-11-01T00:00:00\", \"1945-12-01T00:00:00\", \"1946-01-01T00:00:00\", \"1946-02-01T00:00:00\", \"1946-03-01T00:00:00\"], \"xaxis\": \"x\", \"y\": [9666, 9840, 9928, 10072, 10256, 10181, 10177, 10121, 10079, 9796, 9707, 9496, 9272, 9197, 9163, 9105, 9045, 8701, 8621, 8643, 8580, 6655, 6565, 6456, 6341, 6232, 6138, 6057, 5939, 5836, 5668, 5588, 5522, 5435, 5298, 5030, 4658, 4248, 3994, 3552, 2891, 1146, 0, 0, 0, 0], \"yaxis\": \"y\"}, {\"hoverlabel\": {\"namelength\": 0}, \"hovertemplate\": \"Camp=Minidoka<br>Date=%{x}<br>Population=%{y}\", \"legendgroup\": \"Camp=Minidoka\", \"line\": {\"color\": \"#B6E880\", \"dash\": \"solid\"}, \"mode\": \"lines\", \"name\": \"Camp=Minidoka\", \"showlegend\": true, \"type\": \"scatter\", \"x\": [\"1942-06-01T00:00:00\", \"1942-07-01T00:00:00\", \"1942-08-01T00:00:00\", \"1942-09-01T00:00:00\", \"1942-10-01T00:00:00\", \"1942-11-01T00:00:00\", \"1942-12-01T00:00:00\", \"1943-01-01T00:00:00\", \"1943-02-01T00:00:00\", \"1943-03-01T00:00:00\", \"1943-04-01T00:00:00\", \"1943-05-01T00:00:00\", \"1943-06-01T00:00:00\", \"1943-07-01T00:00:00\", \"1943-08-01T00:00:00\", \"1943-09-01T00:00:00\", \"1943-10-01T00:00:00\", \"1943-11-01T00:00:00\", \"1943-12-01T00:00:00\", \"1944-01-01T00:00:00\", \"1944-02-01T00:00:00\", \"1944-03-01T00:00:00\", \"1944-04-01T00:00:00\", \"1944-05-01T00:00:00\", \"1944-06-01T00:00:00\", \"1944-07-01T00:00:00\", \"1944-08-01T00:00:00\", \"1944-09-01T00:00:00\", \"1944-10-01T00:00:00\", \"1944-11-01T00:00:00\", \"1944-12-01T00:00:00\", \"1945-01-01T00:00:00\", \"1945-02-01T00:00:00\", \"1945-03-01T00:00:00\", \"1945-04-01T00:00:00\", \"1945-05-01T00:00:00\", \"1945-06-01T00:00:00\", \"1945-07-01T00:00:00\", \"1945-08-01T00:00:00\", \"1945-09-01T00:00:00\", \"1945-10-01T00:00:00\", \"1945-11-01T00:00:00\", \"1945-12-01T00:00:00\", \"1946-01-01T00:00:00\", \"1946-02-01T00:00:00\", \"1946-03-01T00:00:00\"], \"xaxis\": \"x\", \"y\": [0, 0, 0, 4840, 9200, 9846, 9849, 9861, 9814, 9924, 9772, 9401, 8989, 8752, 8556, 8325, 9530, 9419, 9492, 9461, 9374, 9288, 9027, 8856, 8514, 8335, 8160, 8099, 7972, 7976, 7867, 7770, 7574, 7373, 6851, 6382, 5615, 4937, 4330, 3218, 1482, 0, 0, 0, 0, 0], \"yaxis\": \"y\"}, {\"hoverlabel\": {\"namelength\": 0}, \"hovertemplate\": \"Camp=Rohwer<br>Date=%{x}<br>Population=%{y}\", \"legendgroup\": \"Camp=Rohwer\", \"line\": {\"color\": \"#FF97FF\", \"dash\": \"solid\"}, \"mode\": \"lines\", \"name\": \"Camp=Rohwer\", \"showlegend\": true, \"type\": \"scatter\", \"x\": [\"1942-06-01T00:00:00\", \"1942-07-01T00:00:00\", \"1942-08-01T00:00:00\", \"1942-09-01T00:00:00\", \"1942-10-01T00:00:00\", \"1942-11-01T00:00:00\", \"1942-12-01T00:00:00\", \"1943-01-01T00:00:00\", \"1943-02-01T00:00:00\", \"1943-03-01T00:00:00\", \"1943-04-01T00:00:00\", \"1943-05-01T00:00:00\", \"1943-06-01T00:00:00\", \"1943-07-01T00:00:00\", \"1943-08-01T00:00:00\", \"1943-09-01T00:00:00\", \"1943-10-01T00:00:00\", \"1943-11-01T00:00:00\", \"1943-12-01T00:00:00\", \"1944-01-01T00:00:00\", \"1944-02-01T00:00:00\", \"1944-03-01T00:00:00\", \"1944-04-01T00:00:00\", \"1944-05-01T00:00:00\", \"1944-06-01T00:00:00\", \"1944-07-01T00:00:00\", \"1944-08-01T00:00:00\", \"1944-09-01T00:00:00\", \"1944-10-01T00:00:00\", \"1944-11-01T00:00:00\", \"1944-12-01T00:00:00\", \"1945-01-01T00:00:00\", \"1945-02-01T00:00:00\", \"1945-03-01T00:00:00\", \"1945-04-01T00:00:00\", \"1945-05-01T00:00:00\", \"1945-06-01T00:00:00\", \"1945-07-01T00:00:00\", \"1945-08-01T00:00:00\", \"1945-09-01T00:00:00\", \"1945-10-01T00:00:00\", \"1945-11-01T00:00:00\", \"1945-12-01T00:00:00\", \"1946-01-01T00:00:00\", \"1946-02-01T00:00:00\", \"1946-03-01T00:00:00\"], \"xaxis\": \"x\", \"y\": [0, 0, 0, 0, 2265, 8407, 8515, 8548, 8538, 8528, 8478, 8286, 8061, 7895, 7781, 7552, 7123, 6731, 6676, 6676, 6600, 6514, 6375, 6248, 5479, 7623, 7279, 6900, 6764, 6700, 6689, 6747, 6697, 6563, 6339, 5991, 5447, 4910, 4098, 3332, 2175, 1804, 0, 0, 0, 0], \"yaxis\": \"y\"}, {\"hoverlabel\": {\"namelength\": 0}, \"hovertemplate\": \"Camp=Tule Lake<br>Date=%{x}<br>Population=%{y}\", \"legendgroup\": \"Camp=Tule Lake\", \"line\": {\"color\": \"#FECB52\", \"dash\": \"solid\"}, \"mode\": \"lines\", \"name\": \"Camp=Tule Lake\", \"showlegend\": true, \"type\": \"scatter\", \"x\": [\"1942-06-01T00:00:00\", \"1942-07-01T00:00:00\", \"1942-08-01T00:00:00\", \"1942-09-01T00:00:00\", \"1942-10-01T00:00:00\", \"1942-11-01T00:00:00\", \"1942-12-01T00:00:00\", \"1943-01-01T00:00:00\", \"1943-02-01T00:00:00\", \"1943-03-01T00:00:00\", \"1943-04-01T00:00:00\", \"1943-05-01T00:00:00\", \"1943-06-01T00:00:00\", \"1943-07-01T00:00:00\", \"1943-08-01T00:00:00\", \"1943-09-01T00:00:00\", \"1943-10-01T00:00:00\", \"1943-11-01T00:00:00\", \"1943-12-01T00:00:00\", \"1944-01-01T00:00:00\", \"1944-02-01T00:00:00\", \"1944-03-01T00:00:00\", \"1944-04-01T00:00:00\", \"1944-05-01T00:00:00\", \"1944-06-01T00:00:00\", \"1944-07-01T00:00:00\", \"1944-08-01T00:00:00\", \"1944-09-01T00:00:00\", \"1944-10-01T00:00:00\", \"1944-11-01T00:00:00\", \"1944-12-01T00:00:00\", \"1945-01-01T00:00:00\", \"1945-02-01T00:00:00\", \"1945-03-01T00:00:00\", \"1945-04-01T00:00:00\", \"1945-05-01T00:00:00\", \"1945-06-01T00:00:00\", \"1945-07-01T00:00:00\", \"1945-08-01T00:00:00\", \"1945-09-01T00:00:00\", \"1945-10-01T00:00:00\", \"1945-11-01T00:00:00\", \"1945-12-01T00:00:00\", \"1946-01-01T00:00:00\", \"1946-02-01T00:00:00\", \"1946-03-01T00:00:00\"], \"xaxis\": \"x\", \"y\": [446, 9038, 15020, 15181, 15277, 15393, 15311, 15369, 15274, 15219, 15124, 15015, 14828, 14630, 14484, 14185, 12183, 16012, 15671, 15630, 15625, 17492, 17580, 16964, 18652, 18678, 18709, 18726, 18728, 18718, 18770, 18734, 18593, 17953, 17864, 17886, 17879, 17466, 17366, 17286, 16740, 15450, 12628, 7303, 5046, 2808], \"yaxis\": \"y\"}],\n",
       "                        {\"height\": 600, \"legend\": {\"tracegroupgap\": 0}, \"template\": {\"data\": {\"bar\": [{\"error_x\": {\"color\": \"#2a3f5f\"}, \"error_y\": {\"color\": \"#2a3f5f\"}, \"marker\": {\"line\": {\"color\": \"#E5ECF6\", \"width\": 0.5}}, \"type\": \"bar\"}], \"barpolar\": [{\"marker\": {\"line\": {\"color\": \"#E5ECF6\", \"width\": 0.5}}, \"type\": \"barpolar\"}], \"carpet\": [{\"aaxis\": {\"endlinecolor\": \"#2a3f5f\", \"gridcolor\": \"white\", \"linecolor\": \"white\", \"minorgridcolor\": \"white\", \"startlinecolor\": \"#2a3f5f\"}, \"baxis\": {\"endlinecolor\": \"#2a3f5f\", \"gridcolor\": \"white\", \"linecolor\": \"white\", \"minorgridcolor\": \"white\", \"startlinecolor\": \"#2a3f5f\"}, \"type\": \"carpet\"}], \"choropleth\": [{\"colorbar\": {\"outlinewidth\": 0, \"ticks\": \"\"}, \"type\": \"choropleth\"}], \"contour\": [{\"colorbar\": {\"outlinewidth\": 0, \"ticks\": \"\"}, \"colorscale\": [[0.0, \"#0d0887\"], [0.1111111111111111, \"#46039f\"], [0.2222222222222222, \"#7201a8\"], [0.3333333333333333, \"#9c179e\"], [0.4444444444444444, \"#bd3786\"], [0.5555555555555556, \"#d8576b\"], [0.6666666666666666, \"#ed7953\"], [0.7777777777777778, \"#fb9f3a\"], [0.8888888888888888, \"#fdca26\"], [1.0, \"#f0f921\"]], \"type\": \"contour\"}], \"contourcarpet\": [{\"colorbar\": {\"outlinewidth\": 0, \"ticks\": \"\"}, \"type\": \"contourcarpet\"}], \"heatmap\": [{\"colorbar\": {\"outlinewidth\": 0, \"ticks\": \"\"}, \"colorscale\": [[0.0, \"#0d0887\"], [0.1111111111111111, \"#46039f\"], [0.2222222222222222, \"#7201a8\"], [0.3333333333333333, \"#9c179e\"], [0.4444444444444444, \"#bd3786\"], [0.5555555555555556, \"#d8576b\"], [0.6666666666666666, \"#ed7953\"], [0.7777777777777778, \"#fb9f3a\"], [0.8888888888888888, \"#fdca26\"], [1.0, \"#f0f921\"]], \"type\": \"heatmap\"}], \"heatmapgl\": [{\"colorbar\": {\"outlinewidth\": 0, \"ticks\": \"\"}, \"colorscale\": [[0.0, \"#0d0887\"], [0.1111111111111111, \"#46039f\"], [0.2222222222222222, \"#7201a8\"], [0.3333333333333333, \"#9c179e\"], [0.4444444444444444, \"#bd3786\"], [0.5555555555555556, \"#d8576b\"], [0.6666666666666666, \"#ed7953\"], [0.7777777777777778, \"#fb9f3a\"], [0.8888888888888888, \"#fdca26\"], [1.0, \"#f0f921\"]], \"type\": \"heatmapgl\"}], \"histogram\": [{\"marker\": {\"colorbar\": {\"outlinewidth\": 0, \"ticks\": \"\"}}, \"type\": \"histogram\"}], \"histogram2d\": [{\"colorbar\": {\"outlinewidth\": 0, \"ticks\": \"\"}, \"colorscale\": [[0.0, \"#0d0887\"], [0.1111111111111111, \"#46039f\"], [0.2222222222222222, \"#7201a8\"], [0.3333333333333333, \"#9c179e\"], [0.4444444444444444, \"#bd3786\"], [0.5555555555555556, \"#d8576b\"], [0.6666666666666666, \"#ed7953\"], [0.7777777777777778, \"#fb9f3a\"], [0.8888888888888888, \"#fdca26\"], [1.0, \"#f0f921\"]], \"type\": \"histogram2d\"}], \"histogram2dcontour\": [{\"colorbar\": {\"outlinewidth\": 0, \"ticks\": \"\"}, \"colorscale\": [[0.0, \"#0d0887\"], [0.1111111111111111, \"#46039f\"], [0.2222222222222222, \"#7201a8\"], [0.3333333333333333, \"#9c179e\"], [0.4444444444444444, \"#bd3786\"], [0.5555555555555556, \"#d8576b\"], [0.6666666666666666, \"#ed7953\"], [0.7777777777777778, \"#fb9f3a\"], [0.8888888888888888, \"#fdca26\"], [1.0, \"#f0f921\"]], \"type\": \"histogram2dcontour\"}], \"mesh3d\": [{\"colorbar\": {\"outlinewidth\": 0, \"ticks\": \"\"}, \"type\": \"mesh3d\"}], \"parcoords\": [{\"line\": {\"colorbar\": {\"outlinewidth\": 0, \"ticks\": \"\"}}, \"type\": \"parcoords\"}], \"scatter\": [{\"marker\": {\"colorbar\": {\"outlinewidth\": 0, \"ticks\": \"\"}}, \"type\": \"scatter\"}], \"scatter3d\": [{\"line\": {\"colorbar\": {\"outlinewidth\": 0, \"ticks\": \"\"}}, \"marker\": {\"colorbar\": {\"outlinewidth\": 0, \"ticks\": \"\"}}, \"type\": \"scatter3d\"}], \"scattercarpet\": [{\"marker\": {\"colorbar\": {\"outlinewidth\": 0, \"ticks\": \"\"}}, \"type\": \"scattercarpet\"}], \"scattergeo\": [{\"marker\": {\"colorbar\": {\"outlinewidth\": 0, \"ticks\": \"\"}}, \"type\": \"scattergeo\"}], \"scattergl\": [{\"marker\": {\"colorbar\": {\"outlinewidth\": 0, \"ticks\": \"\"}}, \"type\": \"scattergl\"}], \"scattermapbox\": [{\"marker\": {\"colorbar\": {\"outlinewidth\": 0, \"ticks\": \"\"}}, \"type\": \"scattermapbox\"}], \"scatterpolar\": [{\"marker\": {\"colorbar\": {\"outlinewidth\": 0, \"ticks\": \"\"}}, \"type\": \"scatterpolar\"}], \"scatterpolargl\": [{\"marker\": {\"colorbar\": {\"outlinewidth\": 0, \"ticks\": \"\"}}, \"type\": \"scatterpolargl\"}], \"scatterternary\": [{\"marker\": {\"colorbar\": {\"outlinewidth\": 0, \"ticks\": \"\"}}, \"type\": \"scatterternary\"}], \"surface\": [{\"colorbar\": {\"outlinewidth\": 0, \"ticks\": \"\"}, \"colorscale\": [[0.0, \"#0d0887\"], [0.1111111111111111, \"#46039f\"], [0.2222222222222222, \"#7201a8\"], [0.3333333333333333, \"#9c179e\"], [0.4444444444444444, \"#bd3786\"], [0.5555555555555556, \"#d8576b\"], [0.6666666666666666, \"#ed7953\"], [0.7777777777777778, \"#fb9f3a\"], [0.8888888888888888, \"#fdca26\"], [1.0, \"#f0f921\"]], \"type\": \"surface\"}], \"table\": [{\"cells\": {\"fill\": {\"color\": \"#EBF0F8\"}, \"line\": {\"color\": \"white\"}}, \"header\": {\"fill\": {\"color\": \"#C8D4E3\"}, \"line\": {\"color\": \"white\"}}, \"type\": \"table\"}]}, \"layout\": {\"annotationdefaults\": {\"arrowcolor\": \"#2a3f5f\", \"arrowhead\": 0, \"arrowwidth\": 1}, \"colorscale\": {\"diverging\": [[0, \"#8e0152\"], [0.1, \"#c51b7d\"], [0.2, \"#de77ae\"], [0.3, \"#f1b6da\"], [0.4, \"#fde0ef\"], [0.5, \"#f7f7f7\"], [0.6, \"#e6f5d0\"], [0.7, \"#b8e186\"], [0.8, \"#7fbc41\"], [0.9, \"#4d9221\"], [1, \"#276419\"]], \"sequential\": [[0.0, \"#0d0887\"], [0.1111111111111111, \"#46039f\"], [0.2222222222222222, \"#7201a8\"], [0.3333333333333333, \"#9c179e\"], [0.4444444444444444, \"#bd3786\"], [0.5555555555555556, \"#d8576b\"], [0.6666666666666666, \"#ed7953\"], [0.7777777777777778, \"#fb9f3a\"], [0.8888888888888888, \"#fdca26\"], [1.0, \"#f0f921\"]], \"sequentialminus\": [[0.0, \"#0d0887\"], [0.1111111111111111, \"#46039f\"], [0.2222222222222222, \"#7201a8\"], [0.3333333333333333, \"#9c179e\"], [0.4444444444444444, \"#bd3786\"], [0.5555555555555556, \"#d8576b\"], [0.6666666666666666, \"#ed7953\"], [0.7777777777777778, \"#fb9f3a\"], [0.8888888888888888, \"#fdca26\"], [1.0, \"#f0f921\"]]}, \"colorway\": [\"#636efa\", \"#EF553B\", \"#00cc96\", \"#ab63fa\", \"#FFA15A\", \"#19d3f3\", \"#FF6692\", \"#B6E880\", \"#FF97FF\", \"#FECB52\"], \"font\": {\"color\": \"#2a3f5f\"}, \"geo\": {\"bgcolor\": \"white\", \"lakecolor\": \"white\", \"landcolor\": \"#E5ECF6\", \"showlakes\": true, \"showland\": true, \"subunitcolor\": \"white\"}, \"hoverlabel\": {\"align\": \"left\"}, \"hovermode\": \"closest\", \"mapbox\": {\"style\": \"light\"}, \"paper_bgcolor\": \"white\", \"plot_bgcolor\": \"#E5ECF6\", \"polar\": {\"angularaxis\": {\"gridcolor\": \"white\", \"linecolor\": \"white\", \"ticks\": \"\"}, \"bgcolor\": \"#E5ECF6\", \"radialaxis\": {\"gridcolor\": \"white\", \"linecolor\": \"white\", \"ticks\": \"\"}}, \"scene\": {\"xaxis\": {\"backgroundcolor\": \"#E5ECF6\", \"gridcolor\": \"white\", \"gridwidth\": 2, \"linecolor\": \"white\", \"showbackground\": true, \"ticks\": \"\", \"zerolinecolor\": \"white\"}, \"yaxis\": {\"backgroundcolor\": \"#E5ECF6\", \"gridcolor\": \"white\", \"gridwidth\": 2, \"linecolor\": \"white\", \"showbackground\": true, \"ticks\": \"\", \"zerolinecolor\": \"white\"}, \"zaxis\": {\"backgroundcolor\": \"#E5ECF6\", \"gridcolor\": \"white\", \"gridwidth\": 2, \"linecolor\": \"white\", \"showbackground\": true, \"ticks\": \"\", \"zerolinecolor\": \"white\"}}, \"shapedefaults\": {\"line\": {\"color\": \"#2a3f5f\"}}, \"ternary\": {\"aaxis\": {\"gridcolor\": \"white\", \"linecolor\": \"white\", \"ticks\": \"\"}, \"baxis\": {\"gridcolor\": \"white\", \"linecolor\": \"white\", \"ticks\": \"\"}, \"bgcolor\": \"#E5ECF6\", \"caxis\": {\"gridcolor\": \"white\", \"linecolor\": \"white\", \"ticks\": \"\"}}, \"title\": {\"x\": 0.05}, \"xaxis\": {\"automargin\": true, \"gridcolor\": \"white\", \"linecolor\": \"white\", \"ticks\": \"\", \"zerolinecolor\": \"white\", \"zerolinewidth\": 2}, \"yaxis\": {\"automargin\": true, \"gridcolor\": \"white\", \"linecolor\": \"white\", \"ticks\": \"\", \"zerolinecolor\": \"white\", \"zerolinewidth\": 2}}}, \"title\": {\"text\": \"Camp Populations by Month\"}, \"xaxis\": {\"anchor\": \"y\", \"domain\": [0.0, 0.98], \"title\": {\"text\": \"Date\"}}, \"yaxis\": {\"anchor\": \"x\", \"domain\": [0.0, 1.0], \"title\": {\"text\": \"Population\"}}},\n",
       "                        {\"responsive\": true}\n",
       "                    ).then(function(){\n",
       "                            \n",
       "var gd = document.getElementById('9fb8ef65-d260-4c64-832d-a41e71c16567');\n",
       "var x = new MutationObserver(function (mutations, observer) {{\n",
       "        var display = window.getComputedStyle(gd).display;\n",
       "        if (!display || display === 'none') {{\n",
       "            console.log([gd, 'removed!']);\n",
       "            Plotly.purge(gd);\n",
       "            observer.disconnect();\n",
       "        }}\n",
       "}});\n",
       "\n",
       "// Listen for the removal of the full notebook cells\n",
       "var notebookContainer = gd.closest('#notebook-container');\n",
       "if (notebookContainer) {{\n",
       "    x.observe(notebookContainer, {childList: true});\n",
       "}}\n",
       "\n",
       "// Listen for the clearing of the current output cell\n",
       "var outputEl = gd.closest('.output');\n",
       "if (outputEl) {{\n",
       "    x.observe(outputEl, {childList: true});\n",
       "}}\n",
       "\n",
       "                        })\n",
       "                };\n",
       "                });\n",
       "            </script>\n",
       "        </div>"
      ]
     },
     "metadata": {},
     "output_type": "display_data"
    }
   ],
   "source": [
    "melted = pd.melt(pop_by_month, id_vars = [\"Date\"], value_vars = pop_by_month.columns[1:], var_name = 'Camp', value_name = \"Population\")\n",
    "fig = px.line(melted, x = 'Date', y = 'Population', color = 'Camp', title = 'Camp Populations by Month')\n",
    "fig.show();"
   ]
  },
  {
   "cell_type": "markdown",
   "metadata": {},
   "source": [
    "We can see from this histogram that most people did not return to where they originally lived because the bin that is at 0 percent returned has the highest percentage.\n",
    "\n",
    "<font color='red'>Add descriptive labels to this plot. </font> - "
   ]
  },
  {
   "cell_type": "code",
   "execution_count": 108,
   "metadata": {},
   "outputs": [
    {
     "data": {
      "image/png": "[encoded data removed]",
      "text/plain": [
       "<Figure size 432x288 with 1 Axes>"
      ]
     },
     "metadata": {
      "needs_background": "light"
     },
     "output_type": "display_data"
    }
   ],
   "source": [
    "sns.distplot(population1940_1945['% returned'])\n",
    "plt.title(\"Percent Returned to Original County\");"
   ]
  },
  {
   "cell_type": "markdown",
   "metadata": {},
   "source": [
    "Visualizations allow us to picture how the numbers change and find abnormalities in the data set. What are some abnormalities that you see in the first plot? What are some possible explanations for these abnormalities?"
   ]
  },
  {
   "cell_type": "markdown",
   "metadata": {},
   "source": [
    "<b>Answer: </b> YOUR ANSWER HERE"
   ]
  },
  {
   "cell_type": "markdown",
   "metadata": {},
   "source": [
    "---"
   ]
  },
  {
   "cell_type": "markdown",
   "metadata": {},
   "source": [
    "## Section 2: Assembly Centers and Internment Centers<a id='section 2'></a>"
   ]
  },
  {
   "cell_type": "markdown",
   "metadata": {},
   "source": [
    "After Executive Order 9066 was signed, the army was authorized to remove civilians from designated military exclusion zones spanning Washington, Oregon, California, and Arizona. Assembly centers were created to funnel Japanese Americans into internment camps. Through these maps, you can see how far people were forced to move from one location to another. Mapping data is a useful tool to visualize locations and provide context when we are given longitude and latitude data! \n",
    "\n",
    "<font color='red'>This seems like information that should be cited</font>"
   ]
  },
  {
   "cell_type": "markdown",
   "metadata": {},
   "source": [
    "<font color='red'>There should be a description of what this map is as well as a description of how to interact with the output map (i.e. scroll or use +/- to zoom, hover over and click on markers).</font> - \n",
    "\n",
    "## Assembly Centers\n",
    "Japanese Americans were transported from assembly centers to internment camps across the country and we can use mapping techniques to visualize the movement of Japanese Americans from their original homes, to assembly centers, to internment camps, and then to various locations afterwards."
   ]
  },
  {
   "cell_type": "code",
   "execution_count": 53,
   "metadata": {},
   "outputs": [
    {
     "data": {
      "text/html": [
       "<div style=\"width:100%;\"><div style=\"position:relative;width:100%;height:0;padding-bottom:60%;\"><iframe src=\"data:text/html;charset=utf-8;base64,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\" style=\"position:absolute;width:100%;height:100%;left:0;top:0;border:none !important;\" allowfullscreen webkitallowfullscreen mozallowfullscreen></iframe></div></div>"
      ],
      "text/plain": [
       "<folium.folium.Map at 0x7f8fc34421d0>"
      ]
     },
     "execution_count": 53,
     "metadata": {},
     "output_type": "execute_result"
    }
   ],
   "source": [
    "m = folium.Map(location=[36.733300, -100.766700], zoom_start=4)\n",
    "tooltip = 'Click me!'\n",
    "for i in range(0,len(assembly)):\n",
    "    folium.Marker(\n",
    "      location=(assembly.iloc[i]['Latitude'], assembly.iloc[i]['Longitude']),\n",
    "      popup=assembly.iloc[i]['Location'],\n",
    "      ).add_to(m)\n",
    "m"
   ]
  },
  {
   "cell_type": "markdown",
   "metadata": {},
   "source": [
    "<font color='red'>Again, it may be useful here or at the beginning of this section to make a distinction between \"assembly centers\" and \"relocation centers\"</font> - \n",
    "## Internment Camps\n"
   ]
  },
  {
   "cell_type": "code",
   "execution_count": 54,
   "metadata": {
    "scrolled": true
   },
   "outputs": [
    {
     "data": {
      "text/html": [
       "<div style=\"width:100%;\"><div style=\"position:relative;width:100%;height:0;padding-bottom:60%;\"><iframe src=\"data:text/html;charset=utf-8;base64,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\" style=\"position:absolute;width:100%;height:100%;left:0;top:0;border:none !important;\" allowfullscreen webkitallowfullscreen mozallowfullscreen></iframe></div></div>"
      ],
      "text/plain": [
       "<folium.folium.Map at 0x7f8fc2d5cc18>"
      ]
     },
     "execution_count": 54,
     "metadata": {},
     "output_type": "execute_result"
    }
   ],
   "source": [
    "m = folium.Map(location=[36.733300, -100.766700], zoom_start=4)\n",
    "tooltip = 'Click me!'\n",
    "for i in range(0,len(camps)):\n",
    "    folium.Marker(\n",
    "      location=(camps.iloc[i]['Latitude'], camps.iloc[i]['Longitude']),\n",
    "      popup=camps.iloc[i]['Internment Camp Name'],\n",
    "      ).add_to(m)\n",
    "m"
   ]
  },
  {
   "cell_type": "markdown",
   "metadata": {},
   "source": [
    "## Section 3: Mapping and Movement<a id='section 3'></a>"
   ]
  },
  {
   "cell_type": "markdown",
   "metadata": {},
   "source": [
    "The biggest impact, among many, of Japanese internment was the subsequent relocation of Japanese Americans across the nation. While they had originally been settled and successful on the west coast, the effects of their forced internment ruined their lives, forcing them to uproot themselves and start anew.\n",
    "\n",
    "<font color='red'>The opening statement here is kind of debatable especially considering that many Japanese Americans lost posessions and land holdings during the process of internment. Also, you seem to be making a statement here that <i>all</i> Japanese Americans originally settled on the west coast, but you have a map later in the notebook that shows that's not entirely true.</font>"
   ]
  },
  {
   "cell_type": "markdown",
   "metadata": {},
   "source": [
    "This map shows the populations of each county at the start of World War II, just before the Executive Order 9066 in 1942. Japanese Americans were largely concentrated on the West Coast, with the largest population in Los Angeles.\n",
    "\n",
    "<font color='red'>Scaling by 50 made the circle around LA so big that you couldn't even see where it was centered. It's at 20 now, and I'm not sure if that's the perfect number either, but I think something on that scale or smaller makes the map easier to read when zoomed out to the entire United States. If they want to zoom in they'll be able to see the smaller circles.</font>"
   ]
  },
  {
   "cell_type": "code",
   "execution_count": 58,
   "metadata": {},
   "outputs": [
    {
     "data": {
      "text/plain": [
       "814"
      ]
     },
     "execution_count": 58,
     "metadata": {},
     "output_type": "execute_result"
    }
   ],
   "source": [
    "population1940_1945.iloc[i]['1940']"
   ]
  },
  {
   "cell_type": "code",
   "execution_count": 59,
   "metadata": {
    "scrolled": true
   },
   "outputs": [
    {
     "data": {
      "text/html": [
       "<div style=\"width:100%;\"><div style=\"position:relative;width:100%;height:0;padding-bottom:60%;\"><iframe src=\"data:text/html;charset=utf-8;base64,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\" style=\"position:absolute;width:100%;height:100%;left:0;top:0;border:none !important;\" allowfullscreen webkitallowfullscreen mozallowfullscreen></iframe></div></div>"
      ],
      "text/plain": [
       "<folium.folium.Map at 0x7f8fc2d02ba8>"
      ]
     },
     "execution_count": 59,
     "metadata": {},
     "output_type": "execute_result"
    }
   ],
   "source": [
    "m = folium.Map(location=[36.733300, -100.766700], zoom_start=4)\n",
    "tooltip = 'Click me!'\n",
    "for i in range(0,len(population1940_1945)):\n",
    "    folium.Circle(\n",
    "      location = (population1940_1945.iloc[i]['Latitude'], population1940_1945.iloc[i]['Longitude']),\n",
    "      popup = population1940_1945.iloc[i]['County'],\n",
    "      radius = float(population1940_1945.iloc[i]['1940']) *12,\n",
    "      color = 'blue',\n",
    "      fill = True,\n",
    "      fill_color = 'crimson').add_to(m)\n",
    "m"
   ]
  },
  {
   "cell_type": "markdown",
   "metadata": {},
   "source": [
    "This table shows the amount of Japanese Americans in each county after the war. This data was self-reported by evacuees.\n",
    "\n",
    "<font color='red'>What is different from this dataset compared to \"RelocationDestinations_Cities.csv\"? </font>"
   ]
  },
  {
   "cell_type": "code",
   "execution_count": 61,
   "metadata": {},
   "outputs": [
    {
     "data": {
      "text/html": [
       "<div>\n",
       "<style scoped>\n",
       "    .dataframe tbody tr th:only-of-type {\n",
       "        vertical-align: middle;\n",
       "    }\n",
       "\n",
       "    .dataframe tbody tr th {\n",
       "        vertical-align: top;\n",
       "    }\n",
       "\n",
       "    .dataframe thead th {\n",
       "        text-align: right;\n",
       "    }\n",
       "</style>\n",
       "<table border=\"1\" class=\"dataframe\">\n",
       "  <thead>\n",
       "    <tr style=\"text-align: right;\">\n",
       "      <th></th>\n",
       "      <th>City</th>\n",
       "      <th>State</th>\n",
       "      <th>People</th>\n",
       "      <th>Latitude</th>\n",
       "      <th>Longitude</th>\n",
       "    </tr>\n",
       "  </thead>\n",
       "  <tbody>\n",
       "    <tr>\n",
       "      <th>0</th>\n",
       "      <td>Glendale</td>\n",
       "      <td>AZ</td>\n",
       "      <td>487.0</td>\n",
       "      <td>34.142508</td>\n",
       "      <td>-118.255075</td>\n",
       "    </tr>\n",
       "    <tr>\n",
       "      <th>1</th>\n",
       "      <td>Alameda</td>\n",
       "      <td>CA</td>\n",
       "      <td>211.0</td>\n",
       "      <td>37.779872</td>\n",
       "      <td>-122.282185</td>\n",
       "    </tr>\n",
       "    <tr>\n",
       "      <th>2</th>\n",
       "      <td>Berkely</td>\n",
       "      <td>CA</td>\n",
       "      <td>844.0</td>\n",
       "      <td>37.871523</td>\n",
       "      <td>-122.273042</td>\n",
       "    </tr>\n",
       "    <tr>\n",
       "      <th>3</th>\n",
       "      <td>Burbank</td>\n",
       "      <td>CA</td>\n",
       "      <td>228.0</td>\n",
       "      <td>34.180839</td>\n",
       "      <td>-118.308966</td>\n",
       "    </tr>\n",
       "    <tr>\n",
       "      <th>4</th>\n",
       "      <td>Dinuba</td>\n",
       "      <td>CA</td>\n",
       "      <td>201.0</td>\n",
       "      <td>36.543284</td>\n",
       "      <td>-119.387066</td>\n",
       "    </tr>\n",
       "  </tbody>\n",
       "</table>\n",
       "</div>"
      ],
      "text/plain": [
       "       City State  People   Latitude   Longitude\n",
       "0  Glendale    AZ   487.0  34.142508 -118.255075\n",
       "1   Alameda    CA   211.0  37.779872 -122.282185\n",
       "2   Berkely    CA   844.0  37.871523 -122.273042\n",
       "3   Burbank    CA   228.0  34.180839 -118.308966\n",
       "4    Dinuba    CA   201.0  36.543284 -119.387066"
      ]
     },
     "execution_count": 61,
     "metadata": {},
     "output_type": "execute_result"
    }
   ],
   "source": [
    "reloc_cities=pd.read_csv(\"data/RelocationDestinations_Cities_LL.csv\", error_bad_lines = False)\n",
    "reloc_cities['People'] = reloc_cities['People'].astype(float)\n",
    "reloc_cities.head()"
   ]
  },
  {
   "cell_type": "markdown",
   "metadata": {},
   "source": [
    "This map shows the cities that people relocated after the war. It allows us to visualize the extent people had to relocate from their original homes which were mostly on the west coast of the U.S. We can see a large population moved to the midwest (Chicago area) as well as the east coast, Canada, and even Mexico City. \n",
    "\n",
    "<font color='red'>Also changed the bubble scale here</font>"
   ]
  },
  {
   "cell_type": "code",
   "execution_count": 62,
   "metadata": {},
   "outputs": [
    {
     "data": {
      "text/html": [
       "<div style=\"width:100%;\"><div style=\"position:relative;width:100%;height:0;padding-bottom:60%;\"><iframe src=\"data:text/html;charset=utf-8;base64,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\" style=\"position:absolute;width:100%;height:100%;left:0;top:0;border:none !important;\" allowfullscreen webkitallowfullscreen mozallowfullscreen></iframe></div></div>"
      ],
      "text/plain": [
       "<folium.folium.Map at 0x7f8fc2b9e9e8>"
      ]
     },
     "execution_count": 62,
     "metadata": {},
     "output_type": "execute_result"
    }
   ],
   "source": [
    "m = folium.Map(location=[36.733300, -100.766700], zoom_start=4)\n",
    "tooltip = 'Click me!'\n",
    "for i in range(0,len(reloc_cities)):\n",
    "    folium.Circle(\n",
    "      location=(reloc_cities.iloc[i]['Latitude'], reloc_cities.iloc[i]['Longitude']),\n",
    "      popup=reloc_cities.iloc[i]['City'],\n",
    "      radius=reloc_cities.iloc[i]['People'] * 12,\n",
    "      color='blue',\n",
    "      fill=True,\n",
    "      fill_color='red').add_to(m)\n",
    "m"
   ]
  },
  {
   "cell_type": "markdown",
   "metadata": {},
   "source": [
    "<font color='red'>\n",
    "    <b>General Notes:</b>\n",
    "    <ul>\n",
    "        <li>It would be nice to add in maybe 1-3 images throughout the notebook to add content variety and to aid in the storytelling. Make sure to check Creative Commons Licensing</li> **Maybe we can find good images together during meeting\n",
    "        <li>Add a section at the end with citations for both data and information.</li>\n",
    "        <li>Remove all unused files from the repository</li>\n",
    "        <li>Put data in a data folder</li>\n",
    "        <li>Where processing does need to be done in the notebook, explain what is happening in laymans terms where possible</li>\n",
    "        <li>Object names can be verbose as long as they are descriptive</li>\n",
    "    </ul>\n",
    "</font>"
   ]
  },
  {
   "cell_type": "markdown",
   "metadata": {},
   "source": [
    "---\n",
    "Notebook developed by: Alleanna Clark, Aishah Mahmud\n",
    "\n",
    "Data Science Modules: http://data.berkeley.edu/education/modules\n"
   ]
  }
 ],
 "metadata": {
  "anaconda-cloud": {},
  "kernelspec": {
   "display_name": "Python 3",
   "language": "python",
   "name": "python3"
  },
  "language_info": {
   "codemirror_mode": {
    "name": "ipython",
    "version": 3
   },
   "file_extension": ".py",
   "mimetype": "text/x-python",
   "name": "python",
   "nbconvert_exporter": "python",
   "pygments_lexer": "ipython3",
   "version": "3.6.8"
  }
 },
 "nbformat": 4,
 "nbformat_minor": 1
}
