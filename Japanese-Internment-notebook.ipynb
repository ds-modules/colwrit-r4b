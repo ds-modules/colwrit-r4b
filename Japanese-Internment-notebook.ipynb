{
 "cells": [
  {
   "cell_type": "markdown",
   "metadata": {},
   "source": [
    "# COLWRIT R4B The Japanese American Internment and its Legacy\n",
    "\n",
    "\n",
    "---\n",
    "\n",
    "### Professor Patricia Steenland\n",
    "\n",
    "This notebook will explore data from the camps and provide context and techniques to analize the forced relocation of Japanese Americans during the 1940s.\n",
    "\n",
    "*Estimated Time: 90 minutes*\n",
    "\n",
    "---\n",
    "\n",
    "### Topics Covered\n",
    "1. [Section 1: Data Exploration and Visualization](#Section-1:-Data-Exploration-and-Visualization)\n",
    "2. [Section 2: Assembly Centers and Internment Centers](#Section-2:-Assembly-Centers-and-Internment-Centers)\n",
    "3. [Section 3: Mapping and Movement](#Section-3:-Mapping-and-Movement)\n",
    "\n",
    "\n",
    "---\n",
    "\n",
    "## Context <a id='data'></a>\n",
    "\n",
    "In this course, you've been studying the consequences of Japanese American internment. Through this data and subsequent analysis, you'll be able to visualize the forced movement of Japanese Americans, from the west coast, to scattered internment camps, and eventually to cities throughout the country. First, we need to learn how to use this notebook format, which is called a **Jupyter Notebook.**\n",
    "\n"
   ]
  },
  {
   "cell_type": "markdown",
   "metadata": {},
   "source": [
    "\n",
    "## The Jupyter Notebook\n",
    "\n",
    "First of all, note that this page is divided into what are called *cells*. You can navigate cells by clicking on them or by using the up and down arrows. Cells will be highlighted as you navigate them.\n",
    "\n",
    "### Text cells\n",
    "\n",
    "Text cells (like this one) can be edited by double-clicking on them. They're written in a simple format called [Markdown](http://daringfireball.net/projects/markdown/syntax) to add formatting and section headings.  You don't need to learn Markdown, but know the difference between Text Cells and Code Cells."
   ]
  },
  {
   "cell_type": "markdown",
   "metadata": {},
   "source": [
    "### Code cells\n",
    "Other cells contain code in the Python 3 language. Don't worry -- we'll show you everything you need to know to succeed in this part of the class. \n",
    "\n",
    "The fundamental building block of Python code is an **expression**. Cells can contain multiple lines with multiple expressions.  We'll explain what exactly we mean by \"expressions\" in just a moment: first, let's learn how to \"run\" cells."
   ]
  },
  {
   "cell_type": "markdown",
   "metadata": {},
   "source": [
    "### Running cells\n",
    "\n",
    "\"Running a cell\" is equivalent to pressing \"Enter\" on a calculator once you've typed in the expression you want to evaluate: it produces an **output**. When you run a text cell, it outputs clean, organized writing. When you run a code cell, it **computes** all of the expressions you want to evaluate, and can **output** the result of the computation.\n",
    "\n",
    "<p></p>\n",
    "\n",
    "<div class=\"alert alert-info\">\n",
    "To run the code in a code cell, first click on that cell to activate it.  It'll be highlighted with a little green or blue rectangle.  Next, you can either press the <code><b>▶|</b> Run </code> button above or press <b><code>Shift + Return</code></b> or <b><code>Shift + Enter</code></b>. This will run the current cell and select the next one.\n",
    "</div>\n",
    "\n",
    "Text cells are useful for taking notes and keeping your notebook organized, but your data analysis will be done in code cells. We will focus on code cells for the rest of the class.\n",
    "\n"
   ]
  },
  {
   "cell_type": "code",
   "execution_count": 39,
   "metadata": {
    "scrolled": true
   },
   "outputs": [
    {
     "name": "stdout",
     "output_type": "stream",
     "text": [
      "Hello world!\n"
     ]
    }
   ],
   "source": [
    "print(\"Hello world!\")"
   ]
  },
  {
   "cell_type": "code",
   "execution_count": 40,
   "metadata": {},
   "outputs": [],
   "source": [
    "#This is a comment. It is put in code cells as a description or instructions and does not affect the code."
   ]
  },
  {
   "cell_type": "code",
   "execution_count": 41,
   "metadata": {},
   "outputs": [],
   "source": [
    "# Just run this cell\n",
    "import pandas as pd\n",
    "import numpy as np\n",
    "import matplotlib.pyplot as plt\n",
    "import seaborn as sns\n",
    "import folium\n",
    "import plotly.express as px\n",
    "pop_by_month = pd.read_csv(\"data/CampPopulationsByMonth.csv\", error_bad_lines = False, thousands = ',')\n",
    "pop_1940_to_1945 = pd.read_csv(\"data/JapaneseAmericanPopulation_1940_1945_LL.csv\", error_bad_lines = False)\n",
    "relocations_cities = pd.read_csv(\"data/RelocationDestinations_Cities_LL.csv\", error_bad_lines = False)"
   ]
  },
  {
   "cell_type": "markdown",
   "metadata": {},
   "source": [
    "---\n",
    "\n",
    "## The Data <a id='data'></a>\n",
    "\n",
    "In this notebook, you'll be working with a dataset that was manually digitized from tables in The Evacuated People: A Quantitative Description, a report published by the War Relocation Authority in 1946. The tables required manual transcription because the results from automatic scraping contained too many errors. Thus, there may still be some human error. The datasets included contain the populations of each camp by month, the relocation destinations of those who were incarcerated, and the Japanese American population in America before and throughout the war. Take a look at the full dataset <a href = https://data.world/infinitecoop/japanese-internment-camps/> here</a>.\n",
    "\n",
    "The second dataset we're working with is collected by the Library of Congress and comes from newspapers that were produced by Japanese-American internees while they lived in the camps. You can access the data and read about the newspapers <a href = https://tinyurl.com/y4g5kq77> here</a>.\n",
    "<img src=\"images/Posted_Japanese_American_Exclusion_Order.png\" width=\"450\">\n"
   ]
  },
  {
   "cell_type": "markdown",
   "metadata": {},
   "source": [
    "The **pop_by_month** table has the population of each of the ten camps at the start of every month."
   ]
  },
  {
   "cell_type": "code",
   "execution_count": 42,
   "metadata": {},
   "outputs": [],
   "source": [
    "#Loading and Reading the Data\n",
    "pop_by_month['Date']= pd.to_datetime(pop_by_month['Date']) \n",
    "camps = pd.read_csv('data/BehindBarbedWire_StoryMap_InternmentCampLocationsMap_Data.csv', error_bad_lines = False)\n",
    "camps[\"Maximum Population\"] = camps[\"Maximum Population\"].str.replace(',', '')\n",
    "camps['Maximum Population'] = camps['Maximum Population'].astype(float)"
   ]
  },
  {
   "cell_type": "code",
   "execution_count": 43,
   "metadata": {},
   "outputs": [
    {
     "data": {
      "text/html": [
       "<div>\n",
       "<style scoped>\n",
       "    .dataframe tbody tr th:only-of-type {\n",
       "        vertical-align: middle;\n",
       "    }\n",
       "\n",
       "    .dataframe tbody tr th {\n",
       "        vertical-align: top;\n",
       "    }\n",
       "\n",
       "    .dataframe thead th {\n",
       "        text-align: right;\n",
       "    }\n",
       "</style>\n",
       "<table border=\"1\" class=\"dataframe\">\n",
       "  <thead>\n",
       "    <tr style=\"text-align: right;\">\n",
       "      <th></th>\n",
       "      <th>Date</th>\n",
       "      <th>Total</th>\n",
       "      <th>Topaz/Central Utah</th>\n",
       "      <th>Poston/Colorado River</th>\n",
       "      <th>Gila River</th>\n",
       "      <th>Granada</th>\n",
       "      <th>Heart Mountain</th>\n",
       "      <th>Jerome</th>\n",
       "      <th>Manzanar</th>\n",
       "      <th>Minidoka</th>\n",
       "      <th>Rohwer</th>\n",
       "      <th>Tule Lake</th>\n",
       "    </tr>\n",
       "  </thead>\n",
       "  <tbody>\n",
       "    <tr>\n",
       "      <th>0</th>\n",
       "      <td>1942-06-01</td>\n",
       "      <td>17393</td>\n",
       "      <td>0</td>\n",
       "      <td>7281</td>\n",
       "      <td>0</td>\n",
       "      <td>0</td>\n",
       "      <td>0</td>\n",
       "      <td>0</td>\n",
       "      <td>9666</td>\n",
       "      <td>0</td>\n",
       "      <td>0</td>\n",
       "      <td>446</td>\n",
       "    </tr>\n",
       "    <tr>\n",
       "      <th>1</th>\n",
       "      <td>1942-07-01</td>\n",
       "      <td>27633</td>\n",
       "      <td>0</td>\n",
       "      <td>8755</td>\n",
       "      <td>0</td>\n",
       "      <td>0</td>\n",
       "      <td>0</td>\n",
       "      <td>0</td>\n",
       "      <td>9840</td>\n",
       "      <td>0</td>\n",
       "      <td>0</td>\n",
       "      <td>9038</td>\n",
       "    </tr>\n",
       "    <tr>\n",
       "      <th>2</th>\n",
       "      <td>1942-08-01</td>\n",
       "      <td>40316</td>\n",
       "      <td>0</td>\n",
       "      <td>13262</td>\n",
       "      <td>2106</td>\n",
       "      <td>0</td>\n",
       "      <td>0</td>\n",
       "      <td>0</td>\n",
       "      <td>9928</td>\n",
       "      <td>0</td>\n",
       "      <td>0</td>\n",
       "      <td>15020</td>\n",
       "    </tr>\n",
       "    <tr>\n",
       "      <th>3</th>\n",
       "      <td>1942-09-01</td>\n",
       "      <td>63031</td>\n",
       "      <td>0</td>\n",
       "      <td>17818</td>\n",
       "      <td>9150</td>\n",
       "      <td>212</td>\n",
       "      <td>5758</td>\n",
       "      <td>0</td>\n",
       "      <td>10072</td>\n",
       "      <td>4840</td>\n",
       "      <td>0</td>\n",
       "      <td>15181</td>\n",
       "    </tr>\n",
       "    <tr>\n",
       "      <th>4</th>\n",
       "      <td>1942-10-01</td>\n",
       "      <td>90499</td>\n",
       "      <td>5806</td>\n",
       "      <td>17847</td>\n",
       "      <td>11555</td>\n",
       "      <td>7480</td>\n",
       "      <td>10813</td>\n",
       "      <td>0</td>\n",
       "      <td>10256</td>\n",
       "      <td>9200</td>\n",
       "      <td>2265</td>\n",
       "      <td>15277</td>\n",
       "    </tr>\n",
       "  </tbody>\n",
       "</table>\n",
       "</div>"
      ],
      "text/plain": [
       "        Date  Total  Topaz/Central Utah  Poston/Colorado River  Gila River  \\\n",
       "0 1942-06-01  17393                   0                   7281           0   \n",
       "1 1942-07-01  27633                   0                   8755           0   \n",
       "2 1942-08-01  40316                   0                  13262        2106   \n",
       "3 1942-09-01  63031                   0                  17818        9150   \n",
       "4 1942-10-01  90499                5806                  17847       11555   \n",
       "\n",
       "   Granada  Heart Mountain  Jerome  Manzanar  Minidoka  Rohwer  Tule Lake  \n",
       "0        0               0       0      9666         0       0        446  \n",
       "1        0               0       0      9840         0       0       9038  \n",
       "2        0               0       0      9928         0       0      15020  \n",
       "3      212            5758       0     10072      4840       0      15181  \n",
       "4     7480           10813       0     10256      9200    2265      15277  "
      ]
     },
     "execution_count": 43,
     "metadata": {},
     "output_type": "execute_result"
    }
   ],
   "source": [
    "pop_by_month.head()"
   ]
  },
  {
   "cell_type": "markdown",
   "metadata": {},
   "source": [
    "The **camps** table by Behind the Barbed Wire has a list of the internment camps, their locations-- city, name, latitude, and longitude-- the dates of when they opened and closed, and their maximum populations."
   ]
  },
  {
   "cell_type": "code",
   "execution_count": 44,
   "metadata": {
    "scrolled": true
   },
   "outputs": [
    {
     "data": {
      "text/html": [
       "<div>\n",
       "<style scoped>\n",
       "    .dataframe tbody tr th:only-of-type {\n",
       "        vertical-align: middle;\n",
       "    }\n",
       "\n",
       "    .dataframe tbody tr th {\n",
       "        vertical-align: top;\n",
       "    }\n",
       "\n",
       "    .dataframe thead th {\n",
       "        text-align: right;\n",
       "    }\n",
       "</style>\n",
       "<table border=\"1\" class=\"dataframe\">\n",
       "  <thead>\n",
       "    <tr style=\"text-align: right;\">\n",
       "      <th></th>\n",
       "      <th>Internment Camp Name</th>\n",
       "      <th>Location</th>\n",
       "      <th>State</th>\n",
       "      <th>Latitude</th>\n",
       "      <th>Longitude</th>\n",
       "      <th>Opened</th>\n",
       "      <th>Closed</th>\n",
       "      <th>Maximum Population</th>\n",
       "    </tr>\n",
       "  </thead>\n",
       "  <tbody>\n",
       "    <tr>\n",
       "      <th>0</th>\n",
       "      <td>Gila River Relocation Center</td>\n",
       "      <td>Rivers</td>\n",
       "      <td>Arizona</td>\n",
       "      <td>33.065083</td>\n",
       "      <td>-111.830528</td>\n",
       "      <td>20-Jul-42</td>\n",
       "      <td>16-Nov-45</td>\n",
       "      <td>13348.0</td>\n",
       "    </tr>\n",
       "    <tr>\n",
       "      <th>1</th>\n",
       "      <td>Poston Relocation Center</td>\n",
       "      <td>Parker</td>\n",
       "      <td>Arizona</td>\n",
       "      <td>33.987500</td>\n",
       "      <td>-114.401111</td>\n",
       "      <td>2-Jun-42</td>\n",
       "      <td>28-Nov-45</td>\n",
       "      <td>17814.0</td>\n",
       "    </tr>\n",
       "    <tr>\n",
       "      <th>2</th>\n",
       "      <td>Jerome Relocation Center</td>\n",
       "      <td>Denson</td>\n",
       "      <td>Arkansas</td>\n",
       "      <td>33.411667</td>\n",
       "      <td>-91.461111</td>\n",
       "      <td>6-Oct-42</td>\n",
       "      <td>30-Jun-44</td>\n",
       "      <td>8497.0</td>\n",
       "    </tr>\n",
       "    <tr>\n",
       "      <th>3</th>\n",
       "      <td>Rohwer Relocation Center</td>\n",
       "      <td>McGehee</td>\n",
       "      <td>Arkansas</td>\n",
       "      <td>33.766297</td>\n",
       "      <td>-91.280158</td>\n",
       "      <td>18-Sep-42</td>\n",
       "      <td>30-Nov-45</td>\n",
       "      <td>8475.0</td>\n",
       "    </tr>\n",
       "    <tr>\n",
       "      <th>4</th>\n",
       "      <td>Manzanar Relocation Center</td>\n",
       "      <td>Manzanar</td>\n",
       "      <td>California</td>\n",
       "      <td>36.728333</td>\n",
       "      <td>-118.154444</td>\n",
       "      <td>2-Jun-42</td>\n",
       "      <td>21-Nov-45</td>\n",
       "      <td>10046.0</td>\n",
       "    </tr>\n",
       "    <tr>\n",
       "      <th>5</th>\n",
       "      <td>Tule Lake Relocation Center</td>\n",
       "      <td>Newell</td>\n",
       "      <td>California</td>\n",
       "      <td>41.889444</td>\n",
       "      <td>-121.374722</td>\n",
       "      <td>27-May-42</td>\n",
       "      <td>20-Mar-46</td>\n",
       "      <td>18789.0</td>\n",
       "    </tr>\n",
       "    <tr>\n",
       "      <th>6</th>\n",
       "      <td>Granada Relocation Center</td>\n",
       "      <td>Amache</td>\n",
       "      <td>Colorado</td>\n",
       "      <td>38.049444</td>\n",
       "      <td>-102.328611</td>\n",
       "      <td>27-Aug-42</td>\n",
       "      <td>15-Oct-45</td>\n",
       "      <td>7318.0</td>\n",
       "    </tr>\n",
       "    <tr>\n",
       "      <th>7</th>\n",
       "      <td>Minidoka Relocation Center</td>\n",
       "      <td>Hunt</td>\n",
       "      <td>Idaho</td>\n",
       "      <td>42.679000</td>\n",
       "      <td>-114.244000</td>\n",
       "      <td>10-Aug-42</td>\n",
       "      <td>28-Oct-45</td>\n",
       "      <td>9397.0</td>\n",
       "    </tr>\n",
       "    <tr>\n",
       "      <th>8</th>\n",
       "      <td>Topaz Relocation Center</td>\n",
       "      <td>Topaz</td>\n",
       "      <td>Utah</td>\n",
       "      <td>39.418336</td>\n",
       "      <td>-112.708750</td>\n",
       "      <td>11-Sep-42</td>\n",
       "      <td>31-Oct-45</td>\n",
       "      <td>8130.0</td>\n",
       "    </tr>\n",
       "    <tr>\n",
       "      <th>9</th>\n",
       "      <td>Heart Mountain Relocation Center</td>\n",
       "      <td>Heart Mountain</td>\n",
       "      <td>Wyoming</td>\n",
       "      <td>44.671667</td>\n",
       "      <td>-108.946389</td>\n",
       "      <td>12-Aug-42</td>\n",
       "      <td>10-Nov-45</td>\n",
       "      <td>343.0</td>\n",
       "    </tr>\n",
       "  </tbody>\n",
       "</table>\n",
       "</div>"
      ],
      "text/plain": [
       "               Internment Camp Name        Location       State   Latitude  \\\n",
       "0      Gila River Relocation Center          Rivers     Arizona  33.065083   \n",
       "1          Poston Relocation Center          Parker     Arizona  33.987500   \n",
       "2          Jerome Relocation Center          Denson    Arkansas  33.411667   \n",
       "3          Rohwer Relocation Center         McGehee    Arkansas  33.766297   \n",
       "4        Manzanar Relocation Center        Manzanar  California  36.728333   \n",
       "5       Tule Lake Relocation Center          Newell  California  41.889444   \n",
       "6         Granada Relocation Center          Amache    Colorado  38.049444   \n",
       "7        Minidoka Relocation Center            Hunt       Idaho  42.679000   \n",
       "8           Topaz Relocation Center           Topaz        Utah  39.418336   \n",
       "9  Heart Mountain Relocation Center  Heart Mountain     Wyoming  44.671667   \n",
       "\n",
       "    Longitude     Opened     Closed  Maximum Population  \n",
       "0 -111.830528  20-Jul-42  16-Nov-45             13348.0  \n",
       "1 -114.401111   2-Jun-42  28-Nov-45             17814.0  \n",
       "2  -91.461111   6-Oct-42  30-Jun-44              8497.0  \n",
       "3  -91.280158  18-Sep-42  30-Nov-45              8475.0  \n",
       "4 -118.154444   2-Jun-42  21-Nov-45             10046.0  \n",
       "5 -121.374722  27-May-42  20-Mar-46             18789.0  \n",
       "6 -102.328611  27-Aug-42  15-Oct-45              7318.0  \n",
       "7 -114.244000  10-Aug-42  28-Oct-45              9397.0  \n",
       "8 -112.708750  11-Sep-42  31-Oct-45              8130.0  \n",
       "9 -108.946389  12-Aug-42  10-Nov-45               343.0  "
      ]
     },
     "execution_count": 44,
     "metadata": {},
     "output_type": "execute_result"
    }
   ],
   "source": [
    "camps"
   ]
  },
  {
   "cell_type": "markdown",
   "metadata": {},
   "source": [
    "The **assembly** table by Behind the Barbed Wire has the locations of each assembly center-- their city, state, latitude, and longitude--, as well as the number of people that were processed through each one."
   ]
  },
  {
   "cell_type": "code",
   "execution_count": 45,
   "metadata": {},
   "outputs": [
    {
     "data": {
      "text/html": [
       "<div>\n",
       "<style scoped>\n",
       "    .dataframe tbody tr th:only-of-type {\n",
       "        vertical-align: middle;\n",
       "    }\n",
       "\n",
       "    .dataframe tbody tr th {\n",
       "        vertical-align: top;\n",
       "    }\n",
       "\n",
       "    .dataframe thead th {\n",
       "        text-align: right;\n",
       "    }\n",
       "</style>\n",
       "<table border=\"1\" class=\"dataframe\">\n",
       "  <thead>\n",
       "    <tr style=\"text-align: right;\">\n",
       "      <th></th>\n",
       "      <th>Location</th>\n",
       "      <th>State</th>\n",
       "      <th>Number of People</th>\n",
       "      <th>Latitude</th>\n",
       "      <th>Longitude</th>\n",
       "    </tr>\n",
       "  </thead>\n",
       "  <tbody>\n",
       "    <tr>\n",
       "      <th>0</th>\n",
       "      <td>Sacramento (Walerga)</td>\n",
       "      <td>California</td>\n",
       "      <td>4598.0</td>\n",
       "      <td>38.566700</td>\n",
       "      <td>-121.483300</td>\n",
       "    </tr>\n",
       "    <tr>\n",
       "      <th>2</th>\n",
       "      <td>Manzanar (Up to 6/1/42)</td>\n",
       "      <td>California</td>\n",
       "      <td>9564.0</td>\n",
       "      <td>36.728333</td>\n",
       "      <td>-118.154444</td>\n",
       "    </tr>\n",
       "    <tr>\n",
       "      <th>3</th>\n",
       "      <td>Fresno</td>\n",
       "      <td>California</td>\n",
       "      <td>5069.0</td>\n",
       "      <td>36.733300</td>\n",
       "      <td>-119.766700</td>\n",
       "    </tr>\n",
       "    <tr>\n",
       "      <th>4</th>\n",
       "      <td>Marysville (Arboga)</td>\n",
       "      <td>California</td>\n",
       "      <td>2406.0</td>\n",
       "      <td>39.050000</td>\n",
       "      <td>-121.550050</td>\n",
       "    </tr>\n",
       "    <tr>\n",
       "      <th>5</th>\n",
       "      <td>Mayer</td>\n",
       "      <td>Arizona</td>\n",
       "      <td>249.0</td>\n",
       "      <td>34.383300</td>\n",
       "      <td>-112.233300</td>\n",
       "    </tr>\n",
       "    <tr>\n",
       "      <th>6</th>\n",
       "      <td>Merced</td>\n",
       "      <td>California</td>\n",
       "      <td>4081.0</td>\n",
       "      <td>37.300000</td>\n",
       "      <td>-120.466700</td>\n",
       "    </tr>\n",
       "    <tr>\n",
       "      <th>7</th>\n",
       "      <td>Pinedale</td>\n",
       "      <td>California</td>\n",
       "      <td>4664.0</td>\n",
       "      <td>36.840000</td>\n",
       "      <td>-119.800000</td>\n",
       "    </tr>\n",
       "    <tr>\n",
       "      <th>8</th>\n",
       "      <td>Pomona</td>\n",
       "      <td>California</td>\n",
       "      <td>5272.0</td>\n",
       "      <td>34.050000</td>\n",
       "      <td>-117.750000</td>\n",
       "    </tr>\n",
       "    <tr>\n",
       "      <th>9</th>\n",
       "      <td>Portland (Pacific Int. Exposition Ground)</td>\n",
       "      <td>Oregon</td>\n",
       "      <td>3667.0</td>\n",
       "      <td>45.516700</td>\n",
       "      <td>-122.666700</td>\n",
       "    </tr>\n",
       "    <tr>\n",
       "      <th>10</th>\n",
       "      <td>Puyallup</td>\n",
       "      <td>Washington</td>\n",
       "      <td>7348.0</td>\n",
       "      <td>47.183300</td>\n",
       "      <td>-122.283300</td>\n",
       "    </tr>\n",
       "    <tr>\n",
       "      <th>11</th>\n",
       "      <td>Salinas</td>\n",
       "      <td>California</td>\n",
       "      <td>3555.0</td>\n",
       "      <td>36.666700</td>\n",
       "      <td>-121.650000</td>\n",
       "    </tr>\n",
       "    <tr>\n",
       "      <th>12</th>\n",
       "      <td>Santa Anita</td>\n",
       "      <td>California</td>\n",
       "      <td>18424.0</td>\n",
       "      <td>34.133300</td>\n",
       "      <td>-118.033300</td>\n",
       "    </tr>\n",
       "    <tr>\n",
       "      <th>13</th>\n",
       "      <td>Stockton</td>\n",
       "      <td>California</td>\n",
       "      <td>4178.0</td>\n",
       "      <td>37.950000</td>\n",
       "      <td>-121.283300</td>\n",
       "    </tr>\n",
       "    <tr>\n",
       "      <th>14</th>\n",
       "      <td>Tanforan</td>\n",
       "      <td>California</td>\n",
       "      <td>7694.0</td>\n",
       "      <td>37.616700</td>\n",
       "      <td>-122.400000</td>\n",
       "    </tr>\n",
       "    <tr>\n",
       "      <th>15</th>\n",
       "      <td>Tulare</td>\n",
       "      <td>California</td>\n",
       "      <td>4915.0</td>\n",
       "      <td>36.200000</td>\n",
       "      <td>-119.333300</td>\n",
       "    </tr>\n",
       "    <tr>\n",
       "      <th>16</th>\n",
       "      <td>Turlock</td>\n",
       "      <td>California</td>\n",
       "      <td>3553.0</td>\n",
       "      <td>37.483300</td>\n",
       "      <td>-120.833300</td>\n",
       "    </tr>\n",
       "  </tbody>\n",
       "</table>\n",
       "</div>"
      ],
      "text/plain": [
       "                                     Location       State  Number of People  \\\n",
       "0                        Sacramento (Walerga)  California            4598.0   \n",
       "2                     Manzanar (Up to 6/1/42)  California            9564.0   \n",
       "3                                      Fresno  California            5069.0   \n",
       "4                         Marysville (Arboga)  California            2406.0   \n",
       "5                                       Mayer     Arizona             249.0   \n",
       "6                                      Merced  California            4081.0   \n",
       "7                                    Pinedale  California            4664.0   \n",
       "8                                      Pomona  California            5272.0   \n",
       "9   Portland (Pacific Int. Exposition Ground)      Oregon            3667.0   \n",
       "10                                   Puyallup  Washington            7348.0   \n",
       "11                                    Salinas  California            3555.0   \n",
       "12                                Santa Anita  California           18424.0   \n",
       "13                                   Stockton  California            4178.0   \n",
       "14                                   Tanforan  California            7694.0   \n",
       "15                                     Tulare  California            4915.0   \n",
       "16                                    Turlock  California            3553.0   \n",
       "\n",
       "     Latitude   Longitude  \n",
       "0   38.566700 -121.483300  \n",
       "2   36.728333 -118.154444  \n",
       "3   36.733300 -119.766700  \n",
       "4   39.050000 -121.550050  \n",
       "5   34.383300 -112.233300  \n",
       "6   37.300000 -120.466700  \n",
       "7   36.840000 -119.800000  \n",
       "8   34.050000 -117.750000  \n",
       "9   45.516700 -122.666700  \n",
       "10  47.183300 -122.283300  \n",
       "11  36.666700 -121.650000  \n",
       "12  34.133300 -118.033300  \n",
       "13  37.950000 -121.283300  \n",
       "14  37.616700 -122.400000  \n",
       "15  36.200000 -119.333300  \n",
       "16  37.483300 -120.833300  "
      ]
     },
     "execution_count": 45,
     "metadata": {},
     "output_type": "execute_result"
    }
   ],
   "source": [
    "assembly = assembly.dropna(subset=['Latitude', 'Longitude']).dropna(axis = 1)\n",
    "assembly['Number of People'] = assembly['Number of People'].astype(float)\n",
    "assembly"
   ]
  },
  {
   "cell_type": "markdown",
   "metadata": {},
   "source": [
    "The **population1940_1945** table has a list of counties that Japanese Americans lived in in 1940 and 1945. A separate column calculates the percent that returned to the county that they were from."
   ]
  },
  {
   "cell_type": "code",
   "execution_count": 46,
   "metadata": {
    "scrolled": true
   },
   "outputs": [
    {
     "data": {
      "text/html": [
       "<div>\n",
       "<style scoped>\n",
       "    .dataframe tbody tr th:only-of-type {\n",
       "        vertical-align: middle;\n",
       "    }\n",
       "\n",
       "    .dataframe tbody tr th {\n",
       "        vertical-align: top;\n",
       "    }\n",
       "\n",
       "    .dataframe thead th {\n",
       "        text-align: right;\n",
       "    }\n",
       "</style>\n",
       "<table border=\"1\" class=\"dataframe\">\n",
       "  <thead>\n",
       "    <tr style=\"text-align: right;\">\n",
       "      <th></th>\n",
       "      <th>County</th>\n",
       "      <th>State</th>\n",
       "      <th>1940</th>\n",
       "      <th>1945</th>\n",
       "      <th>% returned</th>\n",
       "      <th>Latitude</th>\n",
       "      <th>Longitude</th>\n",
       "    </tr>\n",
       "  </thead>\n",
       "  <tbody>\n",
       "    <tr>\n",
       "      <th>0</th>\n",
       "      <td>Alameda</td>\n",
       "      <td>CA</td>\n",
       "      <td>5167</td>\n",
       "      <td>2703</td>\n",
       "      <td>52.3</td>\n",
       "      <td>37.779872</td>\n",
       "      <td>-122.282185</td>\n",
       "    </tr>\n",
       "    <tr>\n",
       "      <th>1</th>\n",
       "      <td>Amador</td>\n",
       "      <td>CA</td>\n",
       "      <td>2</td>\n",
       "      <td>0</td>\n",
       "      <td>0.0</td>\n",
       "      <td>37.667910</td>\n",
       "      <td>-121.873914</td>\n",
       "    </tr>\n",
       "    <tr>\n",
       "      <th>2</th>\n",
       "      <td>Butte</td>\n",
       "      <td>CA</td>\n",
       "      <td>216</td>\n",
       "      <td>107</td>\n",
       "      <td>49.5</td>\n",
       "      <td>46.003823</td>\n",
       "      <td>-112.534777</td>\n",
       "    </tr>\n",
       "    <tr>\n",
       "      <th>3</th>\n",
       "      <td>Calaveras</td>\n",
       "      <td>CA</td>\n",
       "      <td>6</td>\n",
       "      <td>0</td>\n",
       "      <td>0.0</td>\n",
       "      <td>36.159706</td>\n",
       "      <td>-95.958341</td>\n",
       "    </tr>\n",
       "    <tr>\n",
       "      <th>4</th>\n",
       "      <td>Colusa</td>\n",
       "      <td>CA</td>\n",
       "      <td>155</td>\n",
       "      <td>48</td>\n",
       "      <td>31.0</td>\n",
       "      <td>39.214334</td>\n",
       "      <td>-122.009417</td>\n",
       "    </tr>\n",
       "  </tbody>\n",
       "</table>\n",
       "</div>"
      ],
      "text/plain": [
       "      County State  1940  1945  % returned   Latitude   Longitude\n",
       "0    Alameda    CA  5167  2703        52.3  37.779872 -122.282185\n",
       "1     Amador    CA     2     0         0.0  37.667910 -121.873914\n",
       "2      Butte    CA   216   107        49.5  46.003823 -112.534777\n",
       "3  Calaveras    CA     6     0         0.0  36.159706  -95.958341\n",
       "4     Colusa    CA   155    48        31.0  39.214334 -122.009417"
      ]
     },
     "execution_count": 46,
     "metadata": {},
     "output_type": "execute_result"
    }
   ],
   "source": [
    "population1940_1945.head()"
   ]
  },
  {
   "cell_type": "markdown",
   "metadata": {},
   "source": [
    "# Section 1: Data Exploration and Visualization"
   ]
  },
  {
   "cell_type": "markdown",
   "metadata": {},
   "source": [
    "Sometimes numbers don't always add up. We have two separate tables with data about the internment camps, collected by two separate organizations. Say we try to compare the maximum population of the Manzanar camps from both tables."
   ]
  },
  {
   "cell_type": "code",
   "execution_count": 47,
   "metadata": {},
   "outputs": [
    {
     "name": "stdout",
     "output_type": "stream",
     "text": [
      "Camps Data: 10046\n",
      "Popuation by Month Data: 10256\n"
     ]
    }
   ],
   "source": [
    "pop_by_month_max = pop_by_month['Manzanar'].max()\n",
    "camps_max = int(camps[camps['Internment Camp Name'] == 'Manzanar Relocation Center']['Maximum Population'])\n",
    "print('Camps Data:',  camps_max)\n",
    "print('Popuation by Month Data:' ,  pop_by_month_max)\n",
    "#Are the two numbers equal?"
   ]
  },
  {
   "cell_type": "markdown",
   "metadata": {},
   "source": [
    "The two numbers don't equal each other! The **pop_by_month** table says that the maximum population of Manzanar was 10,256, while the camps table says that the maximum was 10,046 people. While this isn't a huge difference, it's important to remember that there can be error in your datasets, and not to take any one dataset as complete and total fact. "
   ]
  },
  {
   "cell_type": "markdown",
   "metadata": {},
   "source": [
    "Now we can look at the data and start to see beyond the numbers. **This over-laid line plot compares the change in populations of the camps by month.** "
   ]
  },
  {
   "cell_type": "code",
   "execution_count": 48,
   "metadata": {},
   "outputs": [
    {
     "data": {
      "application/vnd.plotly.v1+json": {
       "config": {
        "plotlyServerURL": "https://plot.ly"
       },
       "data": [
        {
         "hoverlabel": {
          "namelength": 0
         },
         "hovertemplate": "Camp=Topaz/Central Utah<br>Date=%{x}<br>Population=%{y}",
         "legendgroup": "Camp=Topaz/Central Utah",
         "line": {
          "color": "#636efa",
          "dash": "solid"
         },
         "mode": "lines",
         "name": "Camp=Topaz/Central Utah",
         "showlegend": true,
         "type": "scatter",
         "x": [
          "1942-06-01T00:00:00",
          "1942-07-01T00:00:00",
          "1942-08-01T00:00:00",
          "1942-09-01T00:00:00",
          "1942-10-01T00:00:00",
          "1942-11-01T00:00:00",
          "1942-12-01T00:00:00",
          "1943-01-01T00:00:00",
          "1943-02-01T00:00:00",
          "1943-03-01T00:00:00",
          "1943-04-01T00:00:00",
          "1943-05-01T00:00:00",
          "1943-06-01T00:00:00",
          "1943-07-01T00:00:00",
          "1943-08-01T00:00:00",
          "1943-09-01T00:00:00",
          "1943-10-01T00:00:00",
          "1943-11-01T00:00:00",
          "1943-12-01T00:00:00",
          "1944-01-01T00:00:00",
          "1944-02-01T00:00:00",
          "1944-03-01T00:00:00",
          "1944-04-01T00:00:00",
          "1944-05-01T00:00:00",
          "1944-06-01T00:00:00",
          "1944-07-01T00:00:00",
          "1944-08-01T00:00:00",
          "1944-09-01T00:00:00",
          "1944-10-01T00:00:00",
          "1944-11-01T00:00:00",
          "1944-12-01T00:00:00",
          "1945-01-01T00:00:00",
          "1945-02-01T00:00:00",
          "1945-03-01T00:00:00",
          "1945-04-01T00:00:00",
          "1945-05-01T00:00:00",
          "1945-06-01T00:00:00",
          "1945-07-01T00:00:00",
          "1945-08-01T00:00:00",
          "1945-09-01T00:00:00",
          "1945-10-01T00:00:00",
          "1945-11-01T00:00:00",
          "1945-12-01T00:00:00",
          "1946-01-01T00:00:00",
          "1946-02-01T00:00:00",
          "1946-03-01T00:00:00"
         ],
         "xaxis": "x",
         "y": [
          0,
          0,
          0,
          0,
          5806,
          8320,
          8294,
          8232,
          8214,
          8152,
          8332,
          8189,
          8018,
          7862,
          7809,
          7682,
          7608,
          7554,
          7585,
          7559,
          7438,
          7350,
          7227,
          7084,
          6879,
          6727,
          6621,
          6426,
          6280,
          6125,
          6026,
          5984,
          5883,
          5742,
          5589,
          5413,
          5165,
          4645,
          4176,
          3339,
          1899,
          0,
          0,
          0,
          0,
          0
         ],
         "yaxis": "y"
        },
        {
         "hoverlabel": {
          "namelength": 0
         },
         "hovertemplate": "Camp=Poston/Colorado River<br>Date=%{x}<br>Population=%{y}",
         "legendgroup": "Camp=Poston/Colorado River",
         "line": {
          "color": "#EF553B",
          "dash": "solid"
         },
         "mode": "lines",
         "name": "Camp=Poston/Colorado River",
         "showlegend": true,
         "type": "scatter",
         "x": [
          "1942-06-01T00:00:00",
          "1942-07-01T00:00:00",
          "1942-08-01T00:00:00",
          "1942-09-01T00:00:00",
          "1942-10-01T00:00:00",
          "1942-11-01T00:00:00",
          "1942-12-01T00:00:00",
          "1943-01-01T00:00:00",
          "1943-02-01T00:00:00",
          "1943-03-01T00:00:00",
          "1943-04-01T00:00:00",
          "1943-05-01T00:00:00",
          "1943-06-01T00:00:00",
          "1943-07-01T00:00:00",
          "1943-08-01T00:00:00",
          "1943-09-01T00:00:00",
          "1943-10-01T00:00:00",
          "1943-11-01T00:00:00",
          "1943-12-01T00:00:00",
          "1944-01-01T00:00:00",
          "1944-02-01T00:00:00",
          "1944-03-01T00:00:00",
          "1944-04-01T00:00:00",
          "1944-05-01T00:00:00",
          "1944-06-01T00:00:00",
          "1944-07-01T00:00:00",
          "1944-08-01T00:00:00",
          "1944-09-01T00:00:00",
          "1944-10-01T00:00:00",
          "1944-11-01T00:00:00",
          "1944-12-01T00:00:00",
          "1945-01-01T00:00:00",
          "1945-02-01T00:00:00",
          "1945-03-01T00:00:00",
          "1945-04-01T00:00:00",
          "1945-05-01T00:00:00",
          "1945-06-01T00:00:00",
          "1945-07-01T00:00:00",
          "1945-08-01T00:00:00",
          "1945-09-01T00:00:00",
          "1945-10-01T00:00:00",
          "1945-11-01T00:00:00",
          "1945-12-01T00:00:00",
          "1946-01-01T00:00:00",
          "1946-02-01T00:00:00",
          "1946-03-01T00:00:00"
         ],
         "xaxis": "x",
         "y": [
          7281,
          8755,
          13262,
          17818,
          17847,
          17877,
          17965,
          8039,
          18025,
          17984,
          17941,
          17741,
          17406,
          16995,
          16671,
          16279,
          16013,
          14470,
          14372,
          14295,
          14109,
          13876,
          13453,
          13241,
          13021,
          12725,
          12517,
          12152,
          12059,
          11881,
          11751,
          11710,
          11480,
          11251,
          10828,
          10421,
          9979,
          9386,
          8750,
          6828,
          2730,
          1088,
          0,
          0,
          0,
          0
         ],
         "yaxis": "y"
        },
        {
         "hoverlabel": {
          "namelength": 0
         },
         "hovertemplate": "Camp=Gila River<br>Date=%{x}<br>Population=%{y}",
         "legendgroup": "Camp=Gila River",
         "line": {
          "color": "#00cc96",
          "dash": "solid"
         },
         "mode": "lines",
         "name": "Camp=Gila River",
         "showlegend": true,
         "type": "scatter",
         "x": [
          "1942-06-01T00:00:00",
          "1942-07-01T00:00:00",
          "1942-08-01T00:00:00",
          "1942-09-01T00:00:00",
          "1942-10-01T00:00:00",
          "1942-11-01T00:00:00",
          "1942-12-01T00:00:00",
          "1943-01-01T00:00:00",
          "1943-02-01T00:00:00",
          "1943-03-01T00:00:00",
          "1943-04-01T00:00:00",
          "1943-05-01T00:00:00",
          "1943-06-01T00:00:00",
          "1943-07-01T00:00:00",
          "1943-08-01T00:00:00",
          "1943-09-01T00:00:00",
          "1943-10-01T00:00:00",
          "1943-11-01T00:00:00",
          "1943-12-01T00:00:00",
          "1944-01-01T00:00:00",
          "1944-02-01T00:00:00",
          "1944-03-01T00:00:00",
          "1944-04-01T00:00:00",
          "1944-05-01T00:00:00",
          "1944-06-01T00:00:00",
          "1944-07-01T00:00:00",
          "1944-08-01T00:00:00",
          "1944-09-01T00:00:00",
          "1944-10-01T00:00:00",
          "1944-11-01T00:00:00",
          "1944-12-01T00:00:00",
          "1945-01-01T00:00:00",
          "1945-02-01T00:00:00",
          "1945-03-01T00:00:00",
          "1945-04-01T00:00:00",
          "1945-05-01T00:00:00",
          "1945-06-01T00:00:00",
          "1945-07-01T00:00:00",
          "1945-08-01T00:00:00",
          "1945-09-01T00:00:00",
          "1945-10-01T00:00:00",
          "1945-11-01T00:00:00",
          "1945-12-01T00:00:00",
          "1946-01-01T00:00:00",
          "1946-02-01T00:00:00",
          "1946-03-01T00:00:00"
         ],
         "xaxis": "x",
         "y": [
          0,
          0,
          2106,
          9150,
          11555,
          13368,
          13368,
          13420,
          13411,
          13374,
          13372,
          13224,
          12954,
          12683,
          12542,
          12251,
          12056,
          10017,
          9898,
          9869,
          9800,
          9655,
          9419,
          9199,
          8788,
          10531,
          10291,
          9951,
          9651,
          9550,
          9534,
          9550,
          9432,
          9207,
          8988,
          8716,
          8319,
          7684,
          6765,
          5141,
          2760,
          754,
          0,
          0,
          0,
          0
         ],
         "yaxis": "y"
        },
        {
         "hoverlabel": {
          "namelength": 0
         },
         "hovertemplate": "Camp=Granada<br>Date=%{x}<br>Population=%{y}",
         "legendgroup": "Camp=Granada",
         "line": {
          "color": "#ab63fa",
          "dash": "solid"
         },
         "mode": "lines",
         "name": "Camp=Granada",
         "showlegend": true,
         "type": "scatter",
         "x": [
          "1942-06-01T00:00:00",
          "1942-07-01T00:00:00",
          "1942-08-01T00:00:00",
          "1942-09-01T00:00:00",
          "1942-10-01T00:00:00",
          "1942-11-01T00:00:00",
          "1942-12-01T00:00:00",
          "1943-01-01T00:00:00",
          "1943-02-01T00:00:00",
          "1943-03-01T00:00:00",
          "1943-04-01T00:00:00",
          "1943-05-01T00:00:00",
          "1943-06-01T00:00:00",
          "1943-07-01T00:00:00",
          "1943-08-01T00:00:00",
          "1943-09-01T00:00:00",
          "1943-10-01T00:00:00",
          "1943-11-01T00:00:00",
          "1943-12-01T00:00:00",
          "1944-01-01T00:00:00",
          "1944-02-01T00:00:00",
          "1944-03-01T00:00:00",
          "1944-04-01T00:00:00",
          "1944-05-01T00:00:00",
          "1944-06-01T00:00:00",
          "1944-07-01T00:00:00",
          "1944-08-01T00:00:00",
          "1944-09-01T00:00:00",
          "1944-10-01T00:00:00",
          "1944-11-01T00:00:00",
          "1944-12-01T00:00:00",
          "1945-01-01T00:00:00",
          "1945-02-01T00:00:00",
          "1945-03-01T00:00:00",
          "1945-04-01T00:00:00",
          "1945-05-01T00:00:00",
          "1945-06-01T00:00:00",
          "1945-07-01T00:00:00",
          "1945-08-01T00:00:00",
          "1945-09-01T00:00:00",
          "1945-10-01T00:00:00",
          "1945-11-01T00:00:00",
          "1945-12-01T00:00:00",
          "1946-01-01T00:00:00",
          "1946-02-01T00:00:00",
          "1946-03-01T00:00:00"
         ],
         "xaxis": "x",
         "y": [
          0,
          0,
          0,
          212,
          7480,
          7654,
          7651,
          7656,
          7622,
          7619,
          7476,
          7222,
          7016,
          6931,
          3876,
          6764,
          7494,
          7368,
          7393,
          7355,
          7176,
          6983,
          6786,
          6685,
          6424,
          6816,
          6664,
          6490,
          6403,
          6371,
          6311,
          6255,
          6177,
          6035,
          5805,
          5411,
          4980,
          4256,
          3758,
          3155,
          1379,
          0,
          0,
          0,
          0,
          0
         ],
         "yaxis": "y"
        },
        {
         "hoverlabel": {
          "namelength": 0
         },
         "hovertemplate": "Camp=Heart Mountain<br>Date=%{x}<br>Population=%{y}",
         "legendgroup": "Camp=Heart Mountain",
         "line": {
          "color": "#FFA15A",
          "dash": "solid"
         },
         "mode": "lines",
         "name": "Camp=Heart Mountain",
         "showlegend": true,
         "type": "scatter",
         "x": [
          "1942-06-01T00:00:00",
          "1942-07-01T00:00:00",
          "1942-08-01T00:00:00",
          "1942-09-01T00:00:00",
          "1942-10-01T00:00:00",
          "1942-11-01T00:00:00",
          "1942-12-01T00:00:00",
          "1943-01-01T00:00:00",
          "1943-02-01T00:00:00",
          "1943-03-01T00:00:00",
          "1943-04-01T00:00:00",
          "1943-05-01T00:00:00",
          "1943-06-01T00:00:00",
          "1943-07-01T00:00:00",
          "1943-08-01T00:00:00",
          "1943-09-01T00:00:00",
          "1943-10-01T00:00:00",
          "1943-11-01T00:00:00",
          "1943-12-01T00:00:00",
          "1944-01-01T00:00:00",
          "1944-02-01T00:00:00",
          "1944-03-01T00:00:00",
          "1944-04-01T00:00:00",
          "1944-05-01T00:00:00",
          "1944-06-01T00:00:00",
          "1944-07-01T00:00:00",
          "1944-08-01T00:00:00",
          "1944-09-01T00:00:00",
          "1944-10-01T00:00:00",
          "1944-11-01T00:00:00",
          "1944-12-01T00:00:00",
          "1945-01-01T00:00:00",
          "1945-02-01T00:00:00",
          "1945-03-01T00:00:00",
          "1945-04-01T00:00:00",
          "1945-05-01T00:00:00",
          "1945-06-01T00:00:00",
          "1945-07-01T00:00:00",
          "1945-08-01T00:00:00",
          "1945-09-01T00:00:00",
          "1945-10-01T00:00:00",
          "1945-11-01T00:00:00",
          "1945-12-01T00:00:00",
          "1946-01-01T00:00:00",
          "1946-02-01T00:00:00",
          "1946-03-01T00:00:00"
         ],
         "xaxis": "x",
         "y": [
          0,
          0,
          0,
          5758,
          10813,
          11107,
          11105,
          11062,
          11006,
          10959,
          10886,
          10724,
          10520,
          10307,
          10178,
          10073,
          10509,
          10426,
          10406,
          10388,
          10242,
          10112,
          9962,
          9760,
          9420,
          9712,
          9433,
          9241,
          9035,
          8886,
          8669,
          8537,
          8445,
          8213,
          7997,
          7556,
          7084,
          6325,
          5714,
          4611,
          3312,
          1156,
          0,
          0,
          0,
          0
         ],
         "yaxis": "y"
        },
        {
         "hoverlabel": {
          "namelength": 0
         },
         "hovertemplate": "Camp=Jerome<br>Date=%{x}<br>Population=%{y}",
         "legendgroup": "Camp=Jerome",
         "line": {
          "color": "#19d3f3",
          "dash": "solid"
         },
         "mode": "lines",
         "name": "Camp=Jerome",
         "showlegend": true,
         "type": "scatter",
         "x": [
          "1942-06-01T00:00:00",
          "1942-07-01T00:00:00",
          "1942-08-01T00:00:00",
          "1942-09-01T00:00:00",
          "1942-10-01T00:00:00",
          "1942-11-01T00:00:00",
          "1942-12-01T00:00:00",
          "1943-01-01T00:00:00",
          "1943-02-01T00:00:00",
          "1943-03-01T00:00:00",
          "1943-04-01T00:00:00",
          "1943-05-01T00:00:00",
          "1943-06-01T00:00:00",
          "1943-07-01T00:00:00",
          "1943-08-01T00:00:00",
          "1943-09-01T00:00:00",
          "1943-10-01T00:00:00",
          "1943-11-01T00:00:00",
          "1943-12-01T00:00:00",
          "1944-01-01T00:00:00",
          "1944-02-01T00:00:00",
          "1944-03-01T00:00:00",
          "1944-04-01T00:00:00",
          "1944-05-01T00:00:00",
          "1944-06-01T00:00:00",
          "1944-07-01T00:00:00",
          "1944-08-01T00:00:00",
          "1944-09-01T00:00:00",
          "1944-10-01T00:00:00",
          "1944-11-01T00:00:00",
          "1944-12-01T00:00:00",
          "1945-01-01T00:00:00",
          "1945-02-01T00:00:00",
          "1945-03-01T00:00:00",
          "1945-04-01T00:00:00",
          "1945-05-01T00:00:00",
          "1945-06-01T00:00:00",
          "1945-07-01T00:00:00",
          "1945-08-01T00:00:00",
          "1945-09-01T00:00:00",
          "1945-10-01T00:00:00",
          "1945-11-01T00:00:00",
          "1945-12-01T00:00:00",
          "1946-01-01T00:00:00",
          "1946-02-01T00:00:00",
          "1946-03-01T00:00:00"
         ],
         "xaxis": "x",
         "y": [
          0,
          0,
          0,
          0,
          0,
          7039,
          7925,
          7932,
          8354,
          8587,
          8526,
          8350,
          8182,
          7972,
          7808,
          7649,
          6899,
          6787,
          6726,
          6700,
          6632,
          6537,
          6529,
          6467,
          5601,
          4,
          4,
          4,
          3,
          3,
          3,
          3,
          2,
          2,
          0,
          0,
          0,
          0,
          0,
          0,
          0,
          0,
          0,
          0,
          0,
          0
         ],
         "yaxis": "y"
        },
        {
         "hoverlabel": {
          "namelength": 0
         },
         "hovertemplate": "Camp=Manzanar<br>Date=%{x}<br>Population=%{y}",
         "legendgroup": "Camp=Manzanar",
         "line": {
          "color": "#FF6692",
          "dash": "solid"
         },
         "mode": "lines",
         "name": "Camp=Manzanar",
         "showlegend": true,
         "type": "scatter",
         "x": [
          "1942-06-01T00:00:00",
          "1942-07-01T00:00:00",
          "1942-08-01T00:00:00",
          "1942-09-01T00:00:00",
          "1942-10-01T00:00:00",
          "1942-11-01T00:00:00",
          "1942-12-01T00:00:00",
          "1943-01-01T00:00:00",
          "1943-02-01T00:00:00",
          "1943-03-01T00:00:00",
          "1943-04-01T00:00:00",
          "1943-05-01T00:00:00",
          "1943-06-01T00:00:00",
          "1943-07-01T00:00:00",
          "1943-08-01T00:00:00",
          "1943-09-01T00:00:00",
          "1943-10-01T00:00:00",
          "1943-11-01T00:00:00",
          "1943-12-01T00:00:00",
          "1944-01-01T00:00:00",
          "1944-02-01T00:00:00",
          "1944-03-01T00:00:00",
          "1944-04-01T00:00:00",
          "1944-05-01T00:00:00",
          "1944-06-01T00:00:00",
          "1944-07-01T00:00:00",
          "1944-08-01T00:00:00",
          "1944-09-01T00:00:00",
          "1944-10-01T00:00:00",
          "1944-11-01T00:00:00",
          "1944-12-01T00:00:00",
          "1945-01-01T00:00:00",
          "1945-02-01T00:00:00",
          "1945-03-01T00:00:00",
          "1945-04-01T00:00:00",
          "1945-05-01T00:00:00",
          "1945-06-01T00:00:00",
          "1945-07-01T00:00:00",
          "1945-08-01T00:00:00",
          "1945-09-01T00:00:00",
          "1945-10-01T00:00:00",
          "1945-11-01T00:00:00",
          "1945-12-01T00:00:00",
          "1946-01-01T00:00:00",
          "1946-02-01T00:00:00",
          "1946-03-01T00:00:00"
         ],
         "xaxis": "x",
         "y": [
          9666,
          9840,
          9928,
          10072,
          10256,
          10181,
          10177,
          10121,
          10079,
          9796,
          9707,
          9496,
          9272,
          9197,
          9163,
          9105,
          9045,
          8701,
          8621,
          8643,
          8580,
          6655,
          6565,
          6456,
          6341,
          6232,
          6138,
          6057,
          5939,
          5836,
          5668,
          5588,
          5522,
          5435,
          5298,
          5030,
          4658,
          4248,
          3994,
          3552,
          2891,
          1146,
          0,
          0,
          0,
          0
         ],
         "yaxis": "y"
        },
        {
         "hoverlabel": {
          "namelength": 0
         },
         "hovertemplate": "Camp=Minidoka<br>Date=%{x}<br>Population=%{y}",
         "legendgroup": "Camp=Minidoka",
         "line": {
          "color": "#B6E880",
          "dash": "solid"
         },
         "mode": "lines",
         "name": "Camp=Minidoka",
         "showlegend": true,
         "type": "scatter",
         "x": [
          "1942-06-01T00:00:00",
          "1942-07-01T00:00:00",
          "1942-08-01T00:00:00",
          "1942-09-01T00:00:00",
          "1942-10-01T00:00:00",
          "1942-11-01T00:00:00",
          "1942-12-01T00:00:00",
          "1943-01-01T00:00:00",
          "1943-02-01T00:00:00",
          "1943-03-01T00:00:00",
          "1943-04-01T00:00:00",
          "1943-05-01T00:00:00",
          "1943-06-01T00:00:00",
          "1943-07-01T00:00:00",
          "1943-08-01T00:00:00",
          "1943-09-01T00:00:00",
          "1943-10-01T00:00:00",
          "1943-11-01T00:00:00",
          "1943-12-01T00:00:00",
          "1944-01-01T00:00:00",
          "1944-02-01T00:00:00",
          "1944-03-01T00:00:00",
          "1944-04-01T00:00:00",
          "1944-05-01T00:00:00",
          "1944-06-01T00:00:00",
          "1944-07-01T00:00:00",
          "1944-08-01T00:00:00",
          "1944-09-01T00:00:00",
          "1944-10-01T00:00:00",
          "1944-11-01T00:00:00",
          "1944-12-01T00:00:00",
          "1945-01-01T00:00:00",
          "1945-02-01T00:00:00",
          "1945-03-01T00:00:00",
          "1945-04-01T00:00:00",
          "1945-05-01T00:00:00",
          "1945-06-01T00:00:00",
          "1945-07-01T00:00:00",
          "1945-08-01T00:00:00",
          "1945-09-01T00:00:00",
          "1945-10-01T00:00:00",
          "1945-11-01T00:00:00",
          "1945-12-01T00:00:00",
          "1946-01-01T00:00:00",
          "1946-02-01T00:00:00",
          "1946-03-01T00:00:00"
         ],
         "xaxis": "x",
         "y": [
          0,
          0,
          0,
          4840,
          9200,
          9846,
          9849,
          9861,
          9814,
          9924,
          9772,
          9401,
          8989,
          8752,
          8556,
          8325,
          9530,
          9419,
          9492,
          9461,
          9374,
          9288,
          9027,
          8856,
          8514,
          8335,
          8160,
          8099,
          7972,
          7976,
          7867,
          7770,
          7574,
          7373,
          6851,
          6382,
          5615,
          4937,
          4330,
          3218,
          1482,
          0,
          0,
          0,
          0,
          0
         ],
         "yaxis": "y"
        },
        {
         "hoverlabel": {
          "namelength": 0
         },
         "hovertemplate": "Camp=Rohwer<br>Date=%{x}<br>Population=%{y}",
         "legendgroup": "Camp=Rohwer",
         "line": {
          "color": "#FF97FF",
          "dash": "solid"
         },
         "mode": "lines",
         "name": "Camp=Rohwer",
         "showlegend": true,
         "type": "scatter",
         "x": [
          "1942-06-01T00:00:00",
          "1942-07-01T00:00:00",
          "1942-08-01T00:00:00",
          "1942-09-01T00:00:00",
          "1942-10-01T00:00:00",
          "1942-11-01T00:00:00",
          "1942-12-01T00:00:00",
          "1943-01-01T00:00:00",
          "1943-02-01T00:00:00",
          "1943-03-01T00:00:00",
          "1943-04-01T00:00:00",
          "1943-05-01T00:00:00",
          "1943-06-01T00:00:00",
          "1943-07-01T00:00:00",
          "1943-08-01T00:00:00",
          "1943-09-01T00:00:00",
          "1943-10-01T00:00:00",
          "1943-11-01T00:00:00",
          "1943-12-01T00:00:00",
          "1944-01-01T00:00:00",
          "1944-02-01T00:00:00",
          "1944-03-01T00:00:00",
          "1944-04-01T00:00:00",
          "1944-05-01T00:00:00",
          "1944-06-01T00:00:00",
          "1944-07-01T00:00:00",
          "1944-08-01T00:00:00",
          "1944-09-01T00:00:00",
          "1944-10-01T00:00:00",
          "1944-11-01T00:00:00",
          "1944-12-01T00:00:00",
          "1945-01-01T00:00:00",
          "1945-02-01T00:00:00",
          "1945-03-01T00:00:00",
          "1945-04-01T00:00:00",
          "1945-05-01T00:00:00",
          "1945-06-01T00:00:00",
          "1945-07-01T00:00:00",
          "1945-08-01T00:00:00",
          "1945-09-01T00:00:00",
          "1945-10-01T00:00:00",
          "1945-11-01T00:00:00",
          "1945-12-01T00:00:00",
          "1946-01-01T00:00:00",
          "1946-02-01T00:00:00",
          "1946-03-01T00:00:00"
         ],
         "xaxis": "x",
         "y": [
          0,
          0,
          0,
          0,
          2265,
          8407,
          8515,
          8548,
          8538,
          8528,
          8478,
          8286,
          8061,
          7895,
          7781,
          7552,
          7123,
          6731,
          6676,
          6676,
          6600,
          6514,
          6375,
          6248,
          5479,
          7623,
          7279,
          6900,
          6764,
          6700,
          6689,
          6747,
          6697,
          6563,
          6339,
          5991,
          5447,
          4910,
          4098,
          3332,
          2175,
          1804,
          0,
          0,
          0,
          0
         ],
         "yaxis": "y"
        },
        {
         "hoverlabel": {
          "namelength": 0
         },
         "hovertemplate": "Camp=Tule Lake<br>Date=%{x}<br>Population=%{y}",
         "legendgroup": "Camp=Tule Lake",
         "line": {
          "color": "#FECB52",
          "dash": "solid"
         },
         "mode": "lines",
         "name": "Camp=Tule Lake",
         "showlegend": true,
         "type": "scatter",
         "x": [
          "1942-06-01T00:00:00",
          "1942-07-01T00:00:00",
          "1942-08-01T00:00:00",
          "1942-09-01T00:00:00",
          "1942-10-01T00:00:00",
          "1942-11-01T00:00:00",
          "1942-12-01T00:00:00",
          "1943-01-01T00:00:00",
          "1943-02-01T00:00:00",
          "1943-03-01T00:00:00",
          "1943-04-01T00:00:00",
          "1943-05-01T00:00:00",
          "1943-06-01T00:00:00",
          "1943-07-01T00:00:00",
          "1943-08-01T00:00:00",
          "1943-09-01T00:00:00",
          "1943-10-01T00:00:00",
          "1943-11-01T00:00:00",
          "1943-12-01T00:00:00",
          "1944-01-01T00:00:00",
          "1944-02-01T00:00:00",
          "1944-03-01T00:00:00",
          "1944-04-01T00:00:00",
          "1944-05-01T00:00:00",
          "1944-06-01T00:00:00",
          "1944-07-01T00:00:00",
          "1944-08-01T00:00:00",
          "1944-09-01T00:00:00",
          "1944-10-01T00:00:00",
          "1944-11-01T00:00:00",
          "1944-12-01T00:00:00",
          "1945-01-01T00:00:00",
          "1945-02-01T00:00:00",
          "1945-03-01T00:00:00",
          "1945-04-01T00:00:00",
          "1945-05-01T00:00:00",
          "1945-06-01T00:00:00",
          "1945-07-01T00:00:00",
          "1945-08-01T00:00:00",
          "1945-09-01T00:00:00",
          "1945-10-01T00:00:00",
          "1945-11-01T00:00:00",
          "1945-12-01T00:00:00",
          "1946-01-01T00:00:00",
          "1946-02-01T00:00:00",
          "1946-03-01T00:00:00"
         ],
         "xaxis": "x",
         "y": [
          446,
          9038,
          15020,
          15181,
          15277,
          15393,
          15311,
          15369,
          15274,
          15219,
          15124,
          15015,
          14828,
          14630,
          14484,
          14185,
          12183,
          16012,
          15671,
          15630,
          15625,
          17492,
          17580,
          16964,
          18652,
          18678,
          18709,
          18726,
          18728,
          18718,
          18770,
          18734,
          18593,
          17953,
          17864,
          17886,
          17879,
          17466,
          17366,
          17286,
          16740,
          15450,
          12628,
          7303,
          5046,
          2808
         ],
         "yaxis": "y"
        }
       ],
       "layout": {
        "height": 600,
        "legend": {
         "tracegroupgap": 0
        },
        "template": {
         "data": {
          "bar": [
           {
            "error_x": {
             "color": "#2a3f5f"
            },
            "error_y": {
             "color": "#2a3f5f"
            },
            "marker": {
             "line": {
              "color": "#E5ECF6",
              "width": 0.5
             }
            },
            "type": "bar"
           }
          ],
          "barpolar": [
           {
            "marker": {
             "line": {
              "color": "#E5ECF6",
              "width": 0.5
             }
            },
            "type": "barpolar"
           }
          ],
          "carpet": [
           {
            "aaxis": {
             "endlinecolor": "#2a3f5f",
             "gridcolor": "white",
             "linecolor": "white",
             "minorgridcolor": "white",
             "startlinecolor": "#2a3f5f"
            },
            "baxis": {
             "endlinecolor": "#2a3f5f",
             "gridcolor": "white",
             "linecolor": "white",
             "minorgridcolor": "white",
             "startlinecolor": "#2a3f5f"
            },
            "type": "carpet"
           }
          ],
          "choropleth": [
           {
            "colorbar": {
             "outlinewidth": 0,
             "ticks": ""
            },
            "type": "choropleth"
           }
          ],
          "contour": [
           {
            "colorbar": {
             "outlinewidth": 0,
             "ticks": ""
            },
            "colorscale": [
             [
              0,
              "#0d0887"
             ],
             [
              0.1111111111111111,
              "#46039f"
             ],
             [
              0.2222222222222222,
              "#7201a8"
             ],
             [
              0.3333333333333333,
              "#9c179e"
             ],
             [
              0.4444444444444444,
              "#bd3786"
             ],
             [
              0.5555555555555556,
              "#d8576b"
             ],
             [
              0.6666666666666666,
              "#ed7953"
             ],
             [
              0.7777777777777778,
              "#fb9f3a"
             ],
             [
              0.8888888888888888,
              "#fdca26"
             ],
             [
              1,
              "#f0f921"
             ]
            ],
            "type": "contour"
           }
          ],
          "contourcarpet": [
           {
            "colorbar": {
             "outlinewidth": 0,
             "ticks": ""
            },
            "type": "contourcarpet"
           }
          ],
          "heatmap": [
           {
            "colorbar": {
             "outlinewidth": 0,
             "ticks": ""
            },
            "colorscale": [
             [
              0,
              "#0d0887"
             ],
             [
              0.1111111111111111,
              "#46039f"
             ],
             [
              0.2222222222222222,
              "#7201a8"
             ],
             [
              0.3333333333333333,
              "#9c179e"
             ],
             [
              0.4444444444444444,
              "#bd3786"
             ],
             [
              0.5555555555555556,
              "#d8576b"
             ],
             [
              0.6666666666666666,
              "#ed7953"
             ],
             [
              0.7777777777777778,
              "#fb9f3a"
             ],
             [
              0.8888888888888888,
              "#fdca26"
             ],
             [
              1,
              "#f0f921"
             ]
            ],
            "type": "heatmap"
           }
          ],
          "heatmapgl": [
           {
            "colorbar": {
             "outlinewidth": 0,
             "ticks": ""
            },
            "colorscale": [
             [
              0,
              "#0d0887"
             ],
             [
              0.1111111111111111,
              "#46039f"
             ],
             [
              0.2222222222222222,
              "#7201a8"
             ],
             [
              0.3333333333333333,
              "#9c179e"
             ],
             [
              0.4444444444444444,
              "#bd3786"
             ],
             [
              0.5555555555555556,
              "#d8576b"
             ],
             [
              0.6666666666666666,
              "#ed7953"
             ],
             [
              0.7777777777777778,
              "#fb9f3a"
             ],
             [
              0.8888888888888888,
              "#fdca26"
             ],
             [
              1,
              "#f0f921"
             ]
            ],
            "type": "heatmapgl"
           }
          ],
          "histogram": [
           {
            "marker": {
             "colorbar": {
              "outlinewidth": 0,
              "ticks": ""
             }
            },
            "type": "histogram"
           }
          ],
          "histogram2d": [
           {
            "colorbar": {
             "outlinewidth": 0,
             "ticks": ""
            },
            "colorscale": [
             [
              0,
              "#0d0887"
             ],
             [
              0.1111111111111111,
              "#46039f"
             ],
             [
              0.2222222222222222,
              "#7201a8"
             ],
             [
              0.3333333333333333,
              "#9c179e"
             ],
             [
              0.4444444444444444,
              "#bd3786"
             ],
             [
              0.5555555555555556,
              "#d8576b"
             ],
             [
              0.6666666666666666,
              "#ed7953"
             ],
             [
              0.7777777777777778,
              "#fb9f3a"
             ],
             [
              0.8888888888888888,
              "#fdca26"
             ],
             [
              1,
              "#f0f921"
             ]
            ],
            "type": "histogram2d"
           }
          ],
          "histogram2dcontour": [
           {
            "colorbar": {
             "outlinewidth": 0,
             "ticks": ""
            },
            "colorscale": [
             [
              0,
              "#0d0887"
             ],
             [
              0.1111111111111111,
              "#46039f"
             ],
             [
              0.2222222222222222,
              "#7201a8"
             ],
             [
              0.3333333333333333,
              "#9c179e"
             ],
             [
              0.4444444444444444,
              "#bd3786"
             ],
             [
              0.5555555555555556,
              "#d8576b"
             ],
             [
              0.6666666666666666,
              "#ed7953"
             ],
             [
              0.7777777777777778,
              "#fb9f3a"
             ],
             [
              0.8888888888888888,
              "#fdca26"
             ],
             [
              1,
              "#f0f921"
             ]
            ],
            "type": "histogram2dcontour"
           }
          ],
          "mesh3d": [
           {
            "colorbar": {
             "outlinewidth": 0,
             "ticks": ""
            },
            "type": "mesh3d"
           }
          ],
          "parcoords": [
           {
            "line": {
             "colorbar": {
              "outlinewidth": 0,
              "ticks": ""
             }
            },
            "type": "parcoords"
           }
          ],
          "scatter": [
           {
            "marker": {
             "colorbar": {
              "outlinewidth": 0,
              "ticks": ""
             }
            },
            "type": "scatter"
           }
          ],
          "scatter3d": [
           {
            "line": {
             "colorbar": {
              "outlinewidth": 0,
              "ticks": ""
             }
            },
            "marker": {
             "colorbar": {
              "outlinewidth": 0,
              "ticks": ""
             }
            },
            "type": "scatter3d"
           }
          ],
          "scattercarpet": [
           {
            "marker": {
             "colorbar": {
              "outlinewidth": 0,
              "ticks": ""
             }
            },
            "type": "scattercarpet"
           }
          ],
          "scattergeo": [
           {
            "marker": {
             "colorbar": {
              "outlinewidth": 0,
              "ticks": ""
             }
            },
            "type": "scattergeo"
           }
          ],
          "scattergl": [
           {
            "marker": {
             "colorbar": {
              "outlinewidth": 0,
              "ticks": ""
             }
            },
            "type": "scattergl"
           }
          ],
          "scattermapbox": [
           {
            "marker": {
             "colorbar": {
              "outlinewidth": 0,
              "ticks": ""
             }
            },
            "type": "scattermapbox"
           }
          ],
          "scatterpolar": [
           {
            "marker": {
             "colorbar": {
              "outlinewidth": 0,
              "ticks": ""
             }
            },
            "type": "scatterpolar"
           }
          ],
          "scatterpolargl": [
           {
            "marker": {
             "colorbar": {
              "outlinewidth": 0,
              "ticks": ""
             }
            },
            "type": "scatterpolargl"
           }
          ],
          "scatterternary": [
           {
            "marker": {
             "colorbar": {
              "outlinewidth": 0,
              "ticks": ""
             }
            },
            "type": "scatterternary"
           }
          ],
          "surface": [
           {
            "colorbar": {
             "outlinewidth": 0,
             "ticks": ""
            },
            "colorscale": [
             [
              0,
              "#0d0887"
             ],
             [
              0.1111111111111111,
              "#46039f"
             ],
             [
              0.2222222222222222,
              "#7201a8"
             ],
             [
              0.3333333333333333,
              "#9c179e"
             ],
             [
              0.4444444444444444,
              "#bd3786"
             ],
             [
              0.5555555555555556,
              "#d8576b"
             ],
             [
              0.6666666666666666,
              "#ed7953"
             ],
             [
              0.7777777777777778,
              "#fb9f3a"
             ],
             [
              0.8888888888888888,
              "#fdca26"
             ],
             [
              1,
              "#f0f921"
             ]
            ],
            "type": "surface"
           }
          ],
          "table": [
           {
            "cells": {
             "fill": {
              "color": "#EBF0F8"
             },
             "line": {
              "color": "white"
             }
            },
            "header": {
             "fill": {
              "color": "#C8D4E3"
             },
             "line": {
              "color": "white"
             }
            },
            "type": "table"
           }
          ]
         },
         "layout": {
          "annotationdefaults": {
           "arrowcolor": "#2a3f5f",
           "arrowhead": 0,
           "arrowwidth": 1
          },
          "colorscale": {
           "diverging": [
            [
             0,
             "#8e0152"
            ],
            [
             0.1,
             "#c51b7d"
            ],
            [
             0.2,
             "#de77ae"
            ],
            [
             0.3,
             "#f1b6da"
            ],
            [
             0.4,
             "#fde0ef"
            ],
            [
             0.5,
             "#f7f7f7"
            ],
            [
             0.6,
             "#e6f5d0"
            ],
            [
             0.7,
             "#b8e186"
            ],
            [
             0.8,
             "#7fbc41"
            ],
            [
             0.9,
             "#4d9221"
            ],
            [
             1,
             "#276419"
            ]
           ],
           "sequential": [
            [
             0,
             "#0d0887"
            ],
            [
             0.1111111111111111,
             "#46039f"
            ],
            [
             0.2222222222222222,
             "#7201a8"
            ],
            [
             0.3333333333333333,
             "#9c179e"
            ],
            [
             0.4444444444444444,
             "#bd3786"
            ],
            [
             0.5555555555555556,
             "#d8576b"
            ],
            [
             0.6666666666666666,
             "#ed7953"
            ],
            [
             0.7777777777777778,
             "#fb9f3a"
            ],
            [
             0.8888888888888888,
             "#fdca26"
            ],
            [
             1,
             "#f0f921"
            ]
           ],
           "sequentialminus": [
            [
             0,
             "#0d0887"
            ],
            [
             0.1111111111111111,
             "#46039f"
            ],
            [
             0.2222222222222222,
             "#7201a8"
            ],
            [
             0.3333333333333333,
             "#9c179e"
            ],
            [
             0.4444444444444444,
             "#bd3786"
            ],
            [
             0.5555555555555556,
             "#d8576b"
            ],
            [
             0.6666666666666666,
             "#ed7953"
            ],
            [
             0.7777777777777778,
             "#fb9f3a"
            ],
            [
             0.8888888888888888,
             "#fdca26"
            ],
            [
             1,
             "#f0f921"
            ]
           ]
          },
          "colorway": [
           "#636efa",
           "#EF553B",
           "#00cc96",
           "#ab63fa",
           "#FFA15A",
           "#19d3f3",
           "#FF6692",
           "#B6E880",
           "#FF97FF",
           "#FECB52"
          ],
          "font": {
           "color": "#2a3f5f"
          },
          "geo": {
           "bgcolor": "white",
           "lakecolor": "white",
           "landcolor": "#E5ECF6",
           "showlakes": true,
           "showland": true,
           "subunitcolor": "white"
          },
          "hoverlabel": {
           "align": "left"
          },
          "hovermode": "closest",
          "mapbox": {
           "style": "light"
          },
          "paper_bgcolor": "white",
          "plot_bgcolor": "#E5ECF6",
          "polar": {
           "angularaxis": {
            "gridcolor": "white",
            "linecolor": "white",
            "ticks": ""
           },
           "bgcolor": "#E5ECF6",
           "radialaxis": {
            "gridcolor": "white",
            "linecolor": "white",
            "ticks": ""
           }
          },
          "scene": {
           "xaxis": {
            "backgroundcolor": "#E5ECF6",
            "gridcolor": "white",
            "gridwidth": 2,
            "linecolor": "white",
            "showbackground": true,
            "ticks": "",
            "zerolinecolor": "white"
           },
           "yaxis": {
            "backgroundcolor": "#E5ECF6",
            "gridcolor": "white",
            "gridwidth": 2,
            "linecolor": "white",
            "showbackground": true,
            "ticks": "",
            "zerolinecolor": "white"
           },
           "zaxis": {
            "backgroundcolor": "#E5ECF6",
            "gridcolor": "white",
            "gridwidth": 2,
            "linecolor": "white",
            "showbackground": true,
            "ticks": "",
            "zerolinecolor": "white"
           }
          },
          "shapedefaults": {
           "line": {
            "color": "#2a3f5f"
           }
          },
          "ternary": {
           "aaxis": {
            "gridcolor": "white",
            "linecolor": "white",
            "ticks": ""
           },
           "baxis": {
            "gridcolor": "white",
            "linecolor": "white",
            "ticks": ""
           },
           "bgcolor": "#E5ECF6",
           "caxis": {
            "gridcolor": "white",
            "linecolor": "white",
            "ticks": ""
           }
          },
          "title": {
           "x": 0.05
          },
          "xaxis": {
           "automargin": true,
           "gridcolor": "white",
           "linecolor": "white",
           "ticks": "",
           "zerolinecolor": "white",
           "zerolinewidth": 2
          },
          "yaxis": {
           "automargin": true,
           "gridcolor": "white",
           "linecolor": "white",
           "ticks": "",
           "zerolinecolor": "white",
           "zerolinewidth": 2
          }
         }
        },
        "title": {
         "text": "Camp Populations by Month"
        },
        "xaxis": {
         "anchor": "y",
         "domain": [
          0,
          0.98
         ],
         "title": {
          "text": "Date"
         }
        },
        "yaxis": {
         "anchor": "x",
         "domain": [
          0,
          1
         ],
         "title": {
          "text": "Population"
         }
        }
       }
      },
      "text/html": [
       "<div>\n",
       "        \n",
       "        \n",
       "            <div id=\"227477eb-475a-4961-b5e4-ce9d955bfee4\" class=\"plotly-graph-div\" style=\"height:600px; width:100%;\"></div>\n",
       "            <script type=\"text/javascript\">\n",
       "                require([\"plotly\"], function(Plotly) {\n",
       "                    window.PLOTLYENV=window.PLOTLYENV || {};\n",
       "                    \n",
       "                if (document.getElementById(\"227477eb-475a-4961-b5e4-ce9d955bfee4\")) {\n",
       "                    Plotly.newPlot(\n",
       "                        '227477eb-475a-4961-b5e4-ce9d955bfee4',\n",
       "                        [{\"hoverlabel\": {\"namelength\": 0}, \"hovertemplate\": \"Camp=Topaz/Central Utah<br>Date=%{x}<br>Population=%{y}\", \"legendgroup\": \"Camp=Topaz/Central Utah\", \"line\": {\"color\": \"#636efa\", \"dash\": \"solid\"}, \"mode\": \"lines\", \"name\": \"Camp=Topaz/Central Utah\", \"showlegend\": true, \"type\": \"scatter\", \"x\": [\"1942-06-01T00:00:00\", \"1942-07-01T00:00:00\", \"1942-08-01T00:00:00\", \"1942-09-01T00:00:00\", \"1942-10-01T00:00:00\", \"1942-11-01T00:00:00\", \"1942-12-01T00:00:00\", \"1943-01-01T00:00:00\", \"1943-02-01T00:00:00\", \"1943-03-01T00:00:00\", \"1943-04-01T00:00:00\", \"1943-05-01T00:00:00\", \"1943-06-01T00:00:00\", \"1943-07-01T00:00:00\", \"1943-08-01T00:00:00\", \"1943-09-01T00:00:00\", \"1943-10-01T00:00:00\", \"1943-11-01T00:00:00\", \"1943-12-01T00:00:00\", \"1944-01-01T00:00:00\", \"1944-02-01T00:00:00\", \"1944-03-01T00:00:00\", \"1944-04-01T00:00:00\", \"1944-05-01T00:00:00\", \"1944-06-01T00:00:00\", \"1944-07-01T00:00:00\", \"1944-08-01T00:00:00\", \"1944-09-01T00:00:00\", \"1944-10-01T00:00:00\", \"1944-11-01T00:00:00\", \"1944-12-01T00:00:00\", \"1945-01-01T00:00:00\", \"1945-02-01T00:00:00\", \"1945-03-01T00:00:00\", \"1945-04-01T00:00:00\", \"1945-05-01T00:00:00\", \"1945-06-01T00:00:00\", \"1945-07-01T00:00:00\", \"1945-08-01T00:00:00\", \"1945-09-01T00:00:00\", \"1945-10-01T00:00:00\", \"1945-11-01T00:00:00\", \"1945-12-01T00:00:00\", \"1946-01-01T00:00:00\", \"1946-02-01T00:00:00\", \"1946-03-01T00:00:00\"], \"xaxis\": \"x\", \"y\": [0, 0, 0, 0, 5806, 8320, 8294, 8232, 8214, 8152, 8332, 8189, 8018, 7862, 7809, 7682, 7608, 7554, 7585, 7559, 7438, 7350, 7227, 7084, 6879, 6727, 6621, 6426, 6280, 6125, 6026, 5984, 5883, 5742, 5589, 5413, 5165, 4645, 4176, 3339, 1899, 0, 0, 0, 0, 0], \"yaxis\": \"y\"}, {\"hoverlabel\": {\"namelength\": 0}, \"hovertemplate\": \"Camp=Poston/Colorado River<br>Date=%{x}<br>Population=%{y}\", \"legendgroup\": \"Camp=Poston/Colorado River\", \"line\": {\"color\": \"#EF553B\", \"dash\": \"solid\"}, \"mode\": \"lines\", \"name\": \"Camp=Poston/Colorado River\", \"showlegend\": true, \"type\": \"scatter\", \"x\": [\"1942-06-01T00:00:00\", \"1942-07-01T00:00:00\", \"1942-08-01T00:00:00\", \"1942-09-01T00:00:00\", \"1942-10-01T00:00:00\", \"1942-11-01T00:00:00\", \"1942-12-01T00:00:00\", \"1943-01-01T00:00:00\", \"1943-02-01T00:00:00\", \"1943-03-01T00:00:00\", \"1943-04-01T00:00:00\", \"1943-05-01T00:00:00\", \"1943-06-01T00:00:00\", \"1943-07-01T00:00:00\", \"1943-08-01T00:00:00\", \"1943-09-01T00:00:00\", \"1943-10-01T00:00:00\", \"1943-11-01T00:00:00\", \"1943-12-01T00:00:00\", \"1944-01-01T00:00:00\", \"1944-02-01T00:00:00\", \"1944-03-01T00:00:00\", \"1944-04-01T00:00:00\", \"1944-05-01T00:00:00\", \"1944-06-01T00:00:00\", \"1944-07-01T00:00:00\", \"1944-08-01T00:00:00\", \"1944-09-01T00:00:00\", \"1944-10-01T00:00:00\", \"1944-11-01T00:00:00\", \"1944-12-01T00:00:00\", \"1945-01-01T00:00:00\", \"1945-02-01T00:00:00\", \"1945-03-01T00:00:00\", \"1945-04-01T00:00:00\", \"1945-05-01T00:00:00\", \"1945-06-01T00:00:00\", \"1945-07-01T00:00:00\", \"1945-08-01T00:00:00\", \"1945-09-01T00:00:00\", \"1945-10-01T00:00:00\", \"1945-11-01T00:00:00\", \"1945-12-01T00:00:00\", \"1946-01-01T00:00:00\", \"1946-02-01T00:00:00\", \"1946-03-01T00:00:00\"], \"xaxis\": \"x\", \"y\": [7281, 8755, 13262, 17818, 17847, 17877, 17965, 8039, 18025, 17984, 17941, 17741, 17406, 16995, 16671, 16279, 16013, 14470, 14372, 14295, 14109, 13876, 13453, 13241, 13021, 12725, 12517, 12152, 12059, 11881, 11751, 11710, 11480, 11251, 10828, 10421, 9979, 9386, 8750, 6828, 2730, 1088, 0, 0, 0, 0], \"yaxis\": \"y\"}, {\"hoverlabel\": {\"namelength\": 0}, \"hovertemplate\": \"Camp=Gila River<br>Date=%{x}<br>Population=%{y}\", \"legendgroup\": \"Camp=Gila River\", \"line\": {\"color\": \"#00cc96\", \"dash\": \"solid\"}, \"mode\": \"lines\", \"name\": \"Camp=Gila River\", \"showlegend\": true, \"type\": \"scatter\", \"x\": [\"1942-06-01T00:00:00\", \"1942-07-01T00:00:00\", \"1942-08-01T00:00:00\", \"1942-09-01T00:00:00\", \"1942-10-01T00:00:00\", \"1942-11-01T00:00:00\", \"1942-12-01T00:00:00\", \"1943-01-01T00:00:00\", \"1943-02-01T00:00:00\", \"1943-03-01T00:00:00\", \"1943-04-01T00:00:00\", \"1943-05-01T00:00:00\", \"1943-06-01T00:00:00\", \"1943-07-01T00:00:00\", \"1943-08-01T00:00:00\", \"1943-09-01T00:00:00\", \"1943-10-01T00:00:00\", \"1943-11-01T00:00:00\", \"1943-12-01T00:00:00\", \"1944-01-01T00:00:00\", \"1944-02-01T00:00:00\", \"1944-03-01T00:00:00\", \"1944-04-01T00:00:00\", \"1944-05-01T00:00:00\", \"1944-06-01T00:00:00\", \"1944-07-01T00:00:00\", \"1944-08-01T00:00:00\", \"1944-09-01T00:00:00\", \"1944-10-01T00:00:00\", \"1944-11-01T00:00:00\", \"1944-12-01T00:00:00\", \"1945-01-01T00:00:00\", \"1945-02-01T00:00:00\", \"1945-03-01T00:00:00\", \"1945-04-01T00:00:00\", \"1945-05-01T00:00:00\", \"1945-06-01T00:00:00\", \"1945-07-01T00:00:00\", \"1945-08-01T00:00:00\", \"1945-09-01T00:00:00\", \"1945-10-01T00:00:00\", \"1945-11-01T00:00:00\", \"1945-12-01T00:00:00\", \"1946-01-01T00:00:00\", \"1946-02-01T00:00:00\", \"1946-03-01T00:00:00\"], \"xaxis\": \"x\", \"y\": [0, 0, 2106, 9150, 11555, 13368, 13368, 13420, 13411, 13374, 13372, 13224, 12954, 12683, 12542, 12251, 12056, 10017, 9898, 9869, 9800, 9655, 9419, 9199, 8788, 10531, 10291, 9951, 9651, 9550, 9534, 9550, 9432, 9207, 8988, 8716, 8319, 7684, 6765, 5141, 2760, 754, 0, 0, 0, 0], \"yaxis\": \"y\"}, {\"hoverlabel\": {\"namelength\": 0}, \"hovertemplate\": \"Camp=Granada<br>Date=%{x}<br>Population=%{y}\", \"legendgroup\": \"Camp=Granada\", \"line\": {\"color\": \"#ab63fa\", \"dash\": \"solid\"}, \"mode\": \"lines\", \"name\": \"Camp=Granada\", \"showlegend\": true, \"type\": \"scatter\", \"x\": [\"1942-06-01T00:00:00\", \"1942-07-01T00:00:00\", \"1942-08-01T00:00:00\", \"1942-09-01T00:00:00\", \"1942-10-01T00:00:00\", \"1942-11-01T00:00:00\", \"1942-12-01T00:00:00\", \"1943-01-01T00:00:00\", \"1943-02-01T00:00:00\", \"1943-03-01T00:00:00\", \"1943-04-01T00:00:00\", \"1943-05-01T00:00:00\", \"1943-06-01T00:00:00\", \"1943-07-01T00:00:00\", \"1943-08-01T00:00:00\", \"1943-09-01T00:00:00\", \"1943-10-01T00:00:00\", \"1943-11-01T00:00:00\", \"1943-12-01T00:00:00\", \"1944-01-01T00:00:00\", \"1944-02-01T00:00:00\", \"1944-03-01T00:00:00\", \"1944-04-01T00:00:00\", \"1944-05-01T00:00:00\", \"1944-06-01T00:00:00\", \"1944-07-01T00:00:00\", \"1944-08-01T00:00:00\", \"1944-09-01T00:00:00\", \"1944-10-01T00:00:00\", \"1944-11-01T00:00:00\", \"1944-12-01T00:00:00\", \"1945-01-01T00:00:00\", \"1945-02-01T00:00:00\", \"1945-03-01T00:00:00\", \"1945-04-01T00:00:00\", \"1945-05-01T00:00:00\", \"1945-06-01T00:00:00\", \"1945-07-01T00:00:00\", \"1945-08-01T00:00:00\", \"1945-09-01T00:00:00\", \"1945-10-01T00:00:00\", \"1945-11-01T00:00:00\", \"1945-12-01T00:00:00\", \"1946-01-01T00:00:00\", \"1946-02-01T00:00:00\", \"1946-03-01T00:00:00\"], \"xaxis\": \"x\", \"y\": [0, 0, 0, 212, 7480, 7654, 7651, 7656, 7622, 7619, 7476, 7222, 7016, 6931, 3876, 6764, 7494, 7368, 7393, 7355, 7176, 6983, 6786, 6685, 6424, 6816, 6664, 6490, 6403, 6371, 6311, 6255, 6177, 6035, 5805, 5411, 4980, 4256, 3758, 3155, 1379, 0, 0, 0, 0, 0], \"yaxis\": \"y\"}, {\"hoverlabel\": {\"namelength\": 0}, \"hovertemplate\": \"Camp=Heart Mountain<br>Date=%{x}<br>Population=%{y}\", \"legendgroup\": \"Camp=Heart Mountain\", \"line\": {\"color\": \"#FFA15A\", \"dash\": \"solid\"}, \"mode\": \"lines\", \"name\": \"Camp=Heart Mountain\", \"showlegend\": true, \"type\": \"scatter\", \"x\": [\"1942-06-01T00:00:00\", \"1942-07-01T00:00:00\", \"1942-08-01T00:00:00\", \"1942-09-01T00:00:00\", \"1942-10-01T00:00:00\", \"1942-11-01T00:00:00\", \"1942-12-01T00:00:00\", \"1943-01-01T00:00:00\", \"1943-02-01T00:00:00\", \"1943-03-01T00:00:00\", \"1943-04-01T00:00:00\", \"1943-05-01T00:00:00\", \"1943-06-01T00:00:00\", \"1943-07-01T00:00:00\", \"1943-08-01T00:00:00\", \"1943-09-01T00:00:00\", \"1943-10-01T00:00:00\", \"1943-11-01T00:00:00\", \"1943-12-01T00:00:00\", \"1944-01-01T00:00:00\", \"1944-02-01T00:00:00\", \"1944-03-01T00:00:00\", \"1944-04-01T00:00:00\", \"1944-05-01T00:00:00\", \"1944-06-01T00:00:00\", \"1944-07-01T00:00:00\", \"1944-08-01T00:00:00\", \"1944-09-01T00:00:00\", \"1944-10-01T00:00:00\", \"1944-11-01T00:00:00\", \"1944-12-01T00:00:00\", \"1945-01-01T00:00:00\", \"1945-02-01T00:00:00\", \"1945-03-01T00:00:00\", \"1945-04-01T00:00:00\", \"1945-05-01T00:00:00\", \"1945-06-01T00:00:00\", \"1945-07-01T00:00:00\", \"1945-08-01T00:00:00\", \"1945-09-01T00:00:00\", \"1945-10-01T00:00:00\", \"1945-11-01T00:00:00\", \"1945-12-01T00:00:00\", \"1946-01-01T00:00:00\", \"1946-02-01T00:00:00\", \"1946-03-01T00:00:00\"], \"xaxis\": \"x\", \"y\": [0, 0, 0, 5758, 10813, 11107, 11105, 11062, 11006, 10959, 10886, 10724, 10520, 10307, 10178, 10073, 10509, 10426, 10406, 10388, 10242, 10112, 9962, 9760, 9420, 9712, 9433, 9241, 9035, 8886, 8669, 8537, 8445, 8213, 7997, 7556, 7084, 6325, 5714, 4611, 3312, 1156, 0, 0, 0, 0], \"yaxis\": \"y\"}, {\"hoverlabel\": {\"namelength\": 0}, \"hovertemplate\": \"Camp=Jerome<br>Date=%{x}<br>Population=%{y}\", \"legendgroup\": \"Camp=Jerome\", \"line\": {\"color\": \"#19d3f3\", \"dash\": \"solid\"}, \"mode\": \"lines\", \"name\": \"Camp=Jerome\", \"showlegend\": true, \"type\": \"scatter\", \"x\": [\"1942-06-01T00:00:00\", \"1942-07-01T00:00:00\", \"1942-08-01T00:00:00\", \"1942-09-01T00:00:00\", \"1942-10-01T00:00:00\", \"1942-11-01T00:00:00\", \"1942-12-01T00:00:00\", \"1943-01-01T00:00:00\", \"1943-02-01T00:00:00\", \"1943-03-01T00:00:00\", \"1943-04-01T00:00:00\", \"1943-05-01T00:00:00\", \"1943-06-01T00:00:00\", \"1943-07-01T00:00:00\", \"1943-08-01T00:00:00\", \"1943-09-01T00:00:00\", \"1943-10-01T00:00:00\", \"1943-11-01T00:00:00\", \"1943-12-01T00:00:00\", \"1944-01-01T00:00:00\", \"1944-02-01T00:00:00\", \"1944-03-01T00:00:00\", \"1944-04-01T00:00:00\", \"1944-05-01T00:00:00\", \"1944-06-01T00:00:00\", \"1944-07-01T00:00:00\", \"1944-08-01T00:00:00\", \"1944-09-01T00:00:00\", \"1944-10-01T00:00:00\", \"1944-11-01T00:00:00\", \"1944-12-01T00:00:00\", \"1945-01-01T00:00:00\", \"1945-02-01T00:00:00\", \"1945-03-01T00:00:00\", \"1945-04-01T00:00:00\", \"1945-05-01T00:00:00\", \"1945-06-01T00:00:00\", \"1945-07-01T00:00:00\", \"1945-08-01T00:00:00\", \"1945-09-01T00:00:00\", \"1945-10-01T00:00:00\", \"1945-11-01T00:00:00\", \"1945-12-01T00:00:00\", \"1946-01-01T00:00:00\", \"1946-02-01T00:00:00\", \"1946-03-01T00:00:00\"], \"xaxis\": \"x\", \"y\": [0, 0, 0, 0, 0, 7039, 7925, 7932, 8354, 8587, 8526, 8350, 8182, 7972, 7808, 7649, 6899, 6787, 6726, 6700, 6632, 6537, 6529, 6467, 5601, 4, 4, 4, 3, 3, 3, 3, 2, 2, 0, 0, 0, 0, 0, 0, 0, 0, 0, 0, 0, 0], \"yaxis\": \"y\"}, {\"hoverlabel\": {\"namelength\": 0}, \"hovertemplate\": \"Camp=Manzanar<br>Date=%{x}<br>Population=%{y}\", \"legendgroup\": \"Camp=Manzanar\", \"line\": {\"color\": \"#FF6692\", \"dash\": \"solid\"}, \"mode\": \"lines\", \"name\": \"Camp=Manzanar\", \"showlegend\": true, \"type\": \"scatter\", \"x\": [\"1942-06-01T00:00:00\", \"1942-07-01T00:00:00\", \"1942-08-01T00:00:00\", \"1942-09-01T00:00:00\", \"1942-10-01T00:00:00\", \"1942-11-01T00:00:00\", \"1942-12-01T00:00:00\", \"1943-01-01T00:00:00\", \"1943-02-01T00:00:00\", \"1943-03-01T00:00:00\", \"1943-04-01T00:00:00\", \"1943-05-01T00:00:00\", \"1943-06-01T00:00:00\", \"1943-07-01T00:00:00\", \"1943-08-01T00:00:00\", \"1943-09-01T00:00:00\", \"1943-10-01T00:00:00\", \"1943-11-01T00:00:00\", \"1943-12-01T00:00:00\", \"1944-01-01T00:00:00\", \"1944-02-01T00:00:00\", \"1944-03-01T00:00:00\", \"1944-04-01T00:00:00\", \"1944-05-01T00:00:00\", \"1944-06-01T00:00:00\", \"1944-07-01T00:00:00\", \"1944-08-01T00:00:00\", \"1944-09-01T00:00:00\", \"1944-10-01T00:00:00\", \"1944-11-01T00:00:00\", \"1944-12-01T00:00:00\", \"1945-01-01T00:00:00\", \"1945-02-01T00:00:00\", \"1945-03-01T00:00:00\", \"1945-04-01T00:00:00\", \"1945-05-01T00:00:00\", \"1945-06-01T00:00:00\", \"1945-07-01T00:00:00\", \"1945-08-01T00:00:00\", \"1945-09-01T00:00:00\", \"1945-10-01T00:00:00\", \"1945-11-01T00:00:00\", \"1945-12-01T00:00:00\", \"1946-01-01T00:00:00\", \"1946-02-01T00:00:00\", \"1946-03-01T00:00:00\"], \"xaxis\": \"x\", \"y\": [9666, 9840, 9928, 10072, 10256, 10181, 10177, 10121, 10079, 9796, 9707, 9496, 9272, 9197, 9163, 9105, 9045, 8701, 8621, 8643, 8580, 6655, 6565, 6456, 6341, 6232, 6138, 6057, 5939, 5836, 5668, 5588, 5522, 5435, 5298, 5030, 4658, 4248, 3994, 3552, 2891, 1146, 0, 0, 0, 0], \"yaxis\": \"y\"}, {\"hoverlabel\": {\"namelength\": 0}, \"hovertemplate\": \"Camp=Minidoka<br>Date=%{x}<br>Population=%{y}\", \"legendgroup\": \"Camp=Minidoka\", \"line\": {\"color\": \"#B6E880\", \"dash\": \"solid\"}, \"mode\": \"lines\", \"name\": \"Camp=Minidoka\", \"showlegend\": true, \"type\": \"scatter\", \"x\": [\"1942-06-01T00:00:00\", \"1942-07-01T00:00:00\", \"1942-08-01T00:00:00\", \"1942-09-01T00:00:00\", \"1942-10-01T00:00:00\", \"1942-11-01T00:00:00\", \"1942-12-01T00:00:00\", \"1943-01-01T00:00:00\", \"1943-02-01T00:00:00\", \"1943-03-01T00:00:00\", \"1943-04-01T00:00:00\", \"1943-05-01T00:00:00\", \"1943-06-01T00:00:00\", \"1943-07-01T00:00:00\", \"1943-08-01T00:00:00\", \"1943-09-01T00:00:00\", \"1943-10-01T00:00:00\", \"1943-11-01T00:00:00\", \"1943-12-01T00:00:00\", \"1944-01-01T00:00:00\", \"1944-02-01T00:00:00\", \"1944-03-01T00:00:00\", \"1944-04-01T00:00:00\", \"1944-05-01T00:00:00\", \"1944-06-01T00:00:00\", \"1944-07-01T00:00:00\", \"1944-08-01T00:00:00\", \"1944-09-01T00:00:00\", \"1944-10-01T00:00:00\", \"1944-11-01T00:00:00\", \"1944-12-01T00:00:00\", \"1945-01-01T00:00:00\", \"1945-02-01T00:00:00\", \"1945-03-01T00:00:00\", \"1945-04-01T00:00:00\", \"1945-05-01T00:00:00\", \"1945-06-01T00:00:00\", \"1945-07-01T00:00:00\", \"1945-08-01T00:00:00\", \"1945-09-01T00:00:00\", \"1945-10-01T00:00:00\", \"1945-11-01T00:00:00\", \"1945-12-01T00:00:00\", \"1946-01-01T00:00:00\", \"1946-02-01T00:00:00\", \"1946-03-01T00:00:00\"], \"xaxis\": \"x\", \"y\": [0, 0, 0, 4840, 9200, 9846, 9849, 9861, 9814, 9924, 9772, 9401, 8989, 8752, 8556, 8325, 9530, 9419, 9492, 9461, 9374, 9288, 9027, 8856, 8514, 8335, 8160, 8099, 7972, 7976, 7867, 7770, 7574, 7373, 6851, 6382, 5615, 4937, 4330, 3218, 1482, 0, 0, 0, 0, 0], \"yaxis\": \"y\"}, {\"hoverlabel\": {\"namelength\": 0}, \"hovertemplate\": \"Camp=Rohwer<br>Date=%{x}<br>Population=%{y}\", \"legendgroup\": \"Camp=Rohwer\", \"line\": {\"color\": \"#FF97FF\", \"dash\": \"solid\"}, \"mode\": \"lines\", \"name\": \"Camp=Rohwer\", \"showlegend\": true, \"type\": \"scatter\", \"x\": [\"1942-06-01T00:00:00\", \"1942-07-01T00:00:00\", \"1942-08-01T00:00:00\", \"1942-09-01T00:00:00\", \"1942-10-01T00:00:00\", \"1942-11-01T00:00:00\", \"1942-12-01T00:00:00\", \"1943-01-01T00:00:00\", \"1943-02-01T00:00:00\", \"1943-03-01T00:00:00\", \"1943-04-01T00:00:00\", \"1943-05-01T00:00:00\", \"1943-06-01T00:00:00\", \"1943-07-01T00:00:00\", \"1943-08-01T00:00:00\", \"1943-09-01T00:00:00\", \"1943-10-01T00:00:00\", \"1943-11-01T00:00:00\", \"1943-12-01T00:00:00\", \"1944-01-01T00:00:00\", \"1944-02-01T00:00:00\", \"1944-03-01T00:00:00\", \"1944-04-01T00:00:00\", \"1944-05-01T00:00:00\", \"1944-06-01T00:00:00\", \"1944-07-01T00:00:00\", \"1944-08-01T00:00:00\", \"1944-09-01T00:00:00\", \"1944-10-01T00:00:00\", \"1944-11-01T00:00:00\", \"1944-12-01T00:00:00\", \"1945-01-01T00:00:00\", \"1945-02-01T00:00:00\", \"1945-03-01T00:00:00\", \"1945-04-01T00:00:00\", \"1945-05-01T00:00:00\", \"1945-06-01T00:00:00\", \"1945-07-01T00:00:00\", \"1945-08-01T00:00:00\", \"1945-09-01T00:00:00\", \"1945-10-01T00:00:00\", \"1945-11-01T00:00:00\", \"1945-12-01T00:00:00\", \"1946-01-01T00:00:00\", \"1946-02-01T00:00:00\", \"1946-03-01T00:00:00\"], \"xaxis\": \"x\", \"y\": [0, 0, 0, 0, 2265, 8407, 8515, 8548, 8538, 8528, 8478, 8286, 8061, 7895, 7781, 7552, 7123, 6731, 6676, 6676, 6600, 6514, 6375, 6248, 5479, 7623, 7279, 6900, 6764, 6700, 6689, 6747, 6697, 6563, 6339, 5991, 5447, 4910, 4098, 3332, 2175, 1804, 0, 0, 0, 0], \"yaxis\": \"y\"}, {\"hoverlabel\": {\"namelength\": 0}, \"hovertemplate\": \"Camp=Tule Lake<br>Date=%{x}<br>Population=%{y}\", \"legendgroup\": \"Camp=Tule Lake\", \"line\": {\"color\": \"#FECB52\", \"dash\": \"solid\"}, \"mode\": \"lines\", \"name\": \"Camp=Tule Lake\", \"showlegend\": true, \"type\": \"scatter\", \"x\": [\"1942-06-01T00:00:00\", \"1942-07-01T00:00:00\", \"1942-08-01T00:00:00\", \"1942-09-01T00:00:00\", \"1942-10-01T00:00:00\", \"1942-11-01T00:00:00\", \"1942-12-01T00:00:00\", \"1943-01-01T00:00:00\", \"1943-02-01T00:00:00\", \"1943-03-01T00:00:00\", \"1943-04-01T00:00:00\", \"1943-05-01T00:00:00\", \"1943-06-01T00:00:00\", \"1943-07-01T00:00:00\", \"1943-08-01T00:00:00\", \"1943-09-01T00:00:00\", \"1943-10-01T00:00:00\", \"1943-11-01T00:00:00\", \"1943-12-01T00:00:00\", \"1944-01-01T00:00:00\", \"1944-02-01T00:00:00\", \"1944-03-01T00:00:00\", \"1944-04-01T00:00:00\", \"1944-05-01T00:00:00\", \"1944-06-01T00:00:00\", \"1944-07-01T00:00:00\", \"1944-08-01T00:00:00\", \"1944-09-01T00:00:00\", \"1944-10-01T00:00:00\", \"1944-11-01T00:00:00\", \"1944-12-01T00:00:00\", \"1945-01-01T00:00:00\", \"1945-02-01T00:00:00\", \"1945-03-01T00:00:00\", \"1945-04-01T00:00:00\", \"1945-05-01T00:00:00\", \"1945-06-01T00:00:00\", \"1945-07-01T00:00:00\", \"1945-08-01T00:00:00\", \"1945-09-01T00:00:00\", \"1945-10-01T00:00:00\", \"1945-11-01T00:00:00\", \"1945-12-01T00:00:00\", \"1946-01-01T00:00:00\", \"1946-02-01T00:00:00\", \"1946-03-01T00:00:00\"], \"xaxis\": \"x\", \"y\": [446, 9038, 15020, 15181, 15277, 15393, 15311, 15369, 15274, 15219, 15124, 15015, 14828, 14630, 14484, 14185, 12183, 16012, 15671, 15630, 15625, 17492, 17580, 16964, 18652, 18678, 18709, 18726, 18728, 18718, 18770, 18734, 18593, 17953, 17864, 17886, 17879, 17466, 17366, 17286, 16740, 15450, 12628, 7303, 5046, 2808], \"yaxis\": \"y\"}],\n",
       "                        {\"height\": 600, \"legend\": {\"tracegroupgap\": 0}, \"template\": {\"data\": {\"bar\": [{\"error_x\": {\"color\": \"#2a3f5f\"}, \"error_y\": {\"color\": \"#2a3f5f\"}, \"marker\": {\"line\": {\"color\": \"#E5ECF6\", \"width\": 0.5}}, \"type\": \"bar\"}], \"barpolar\": [{\"marker\": {\"line\": {\"color\": \"#E5ECF6\", \"width\": 0.5}}, \"type\": \"barpolar\"}], \"carpet\": [{\"aaxis\": {\"endlinecolor\": \"#2a3f5f\", \"gridcolor\": \"white\", \"linecolor\": \"white\", \"minorgridcolor\": \"white\", \"startlinecolor\": \"#2a3f5f\"}, \"baxis\": {\"endlinecolor\": \"#2a3f5f\", \"gridcolor\": \"white\", \"linecolor\": \"white\", \"minorgridcolor\": \"white\", \"startlinecolor\": \"#2a3f5f\"}, \"type\": \"carpet\"}], \"choropleth\": [{\"colorbar\": {\"outlinewidth\": 0, \"ticks\": \"\"}, \"type\": \"choropleth\"}], \"contour\": [{\"colorbar\": {\"outlinewidth\": 0, \"ticks\": \"\"}, \"colorscale\": [[0.0, \"#0d0887\"], [0.1111111111111111, \"#46039f\"], [0.2222222222222222, \"#7201a8\"], [0.3333333333333333, \"#9c179e\"], [0.4444444444444444, \"#bd3786\"], [0.5555555555555556, \"#d8576b\"], [0.6666666666666666, \"#ed7953\"], [0.7777777777777778, \"#fb9f3a\"], [0.8888888888888888, \"#fdca26\"], [1.0, \"#f0f921\"]], \"type\": \"contour\"}], \"contourcarpet\": [{\"colorbar\": {\"outlinewidth\": 0, \"ticks\": \"\"}, \"type\": \"contourcarpet\"}], \"heatmap\": [{\"colorbar\": {\"outlinewidth\": 0, \"ticks\": \"\"}, \"colorscale\": [[0.0, \"#0d0887\"], [0.1111111111111111, \"#46039f\"], [0.2222222222222222, \"#7201a8\"], [0.3333333333333333, \"#9c179e\"], [0.4444444444444444, \"#bd3786\"], [0.5555555555555556, \"#d8576b\"], [0.6666666666666666, \"#ed7953\"], [0.7777777777777778, \"#fb9f3a\"], [0.8888888888888888, \"#fdca26\"], [1.0, \"#f0f921\"]], \"type\": \"heatmap\"}], \"heatmapgl\": [{\"colorbar\": {\"outlinewidth\": 0, \"ticks\": \"\"}, \"colorscale\": [[0.0, \"#0d0887\"], [0.1111111111111111, \"#46039f\"], [0.2222222222222222, \"#7201a8\"], [0.3333333333333333, \"#9c179e\"], [0.4444444444444444, \"#bd3786\"], [0.5555555555555556, \"#d8576b\"], [0.6666666666666666, \"#ed7953\"], [0.7777777777777778, \"#fb9f3a\"], [0.8888888888888888, \"#fdca26\"], [1.0, \"#f0f921\"]], \"type\": \"heatmapgl\"}], \"histogram\": [{\"marker\": {\"colorbar\": {\"outlinewidth\": 0, \"ticks\": \"\"}}, \"type\": \"histogram\"}], \"histogram2d\": [{\"colorbar\": {\"outlinewidth\": 0, \"ticks\": \"\"}, \"colorscale\": [[0.0, \"#0d0887\"], [0.1111111111111111, \"#46039f\"], [0.2222222222222222, \"#7201a8\"], [0.3333333333333333, \"#9c179e\"], [0.4444444444444444, \"#bd3786\"], [0.5555555555555556, \"#d8576b\"], [0.6666666666666666, \"#ed7953\"], [0.7777777777777778, \"#fb9f3a\"], [0.8888888888888888, \"#fdca26\"], [1.0, \"#f0f921\"]], \"type\": \"histogram2d\"}], \"histogram2dcontour\": [{\"colorbar\": {\"outlinewidth\": 0, \"ticks\": \"\"}, \"colorscale\": [[0.0, \"#0d0887\"], [0.1111111111111111, \"#46039f\"], [0.2222222222222222, \"#7201a8\"], [0.3333333333333333, \"#9c179e\"], [0.4444444444444444, \"#bd3786\"], [0.5555555555555556, \"#d8576b\"], [0.6666666666666666, \"#ed7953\"], [0.7777777777777778, \"#fb9f3a\"], [0.8888888888888888, \"#fdca26\"], [1.0, \"#f0f921\"]], \"type\": \"histogram2dcontour\"}], \"mesh3d\": [{\"colorbar\": {\"outlinewidth\": 0, \"ticks\": \"\"}, \"type\": \"mesh3d\"}], \"parcoords\": [{\"line\": {\"colorbar\": {\"outlinewidth\": 0, \"ticks\": \"\"}}, \"type\": \"parcoords\"}], \"scatter\": [{\"marker\": {\"colorbar\": {\"outlinewidth\": 0, \"ticks\": \"\"}}, \"type\": \"scatter\"}], \"scatter3d\": [{\"line\": {\"colorbar\": {\"outlinewidth\": 0, \"ticks\": \"\"}}, \"marker\": {\"colorbar\": {\"outlinewidth\": 0, \"ticks\": \"\"}}, \"type\": \"scatter3d\"}], \"scattercarpet\": [{\"marker\": {\"colorbar\": {\"outlinewidth\": 0, \"ticks\": \"\"}}, \"type\": \"scattercarpet\"}], \"scattergeo\": [{\"marker\": {\"colorbar\": {\"outlinewidth\": 0, \"ticks\": \"\"}}, \"type\": \"scattergeo\"}], \"scattergl\": [{\"marker\": {\"colorbar\": {\"outlinewidth\": 0, \"ticks\": \"\"}}, \"type\": \"scattergl\"}], \"scattermapbox\": [{\"marker\": {\"colorbar\": {\"outlinewidth\": 0, \"ticks\": \"\"}}, \"type\": \"scattermapbox\"}], \"scatterpolar\": [{\"marker\": {\"colorbar\": {\"outlinewidth\": 0, \"ticks\": \"\"}}, \"type\": \"scatterpolar\"}], \"scatterpolargl\": [{\"marker\": {\"colorbar\": {\"outlinewidth\": 0, \"ticks\": \"\"}}, \"type\": \"scatterpolargl\"}], \"scatterternary\": [{\"marker\": {\"colorbar\": {\"outlinewidth\": 0, \"ticks\": \"\"}}, \"type\": \"scatterternary\"}], \"surface\": [{\"colorbar\": {\"outlinewidth\": 0, \"ticks\": \"\"}, \"colorscale\": [[0.0, \"#0d0887\"], [0.1111111111111111, \"#46039f\"], [0.2222222222222222, \"#7201a8\"], [0.3333333333333333, \"#9c179e\"], [0.4444444444444444, \"#bd3786\"], [0.5555555555555556, \"#d8576b\"], [0.6666666666666666, \"#ed7953\"], [0.7777777777777778, \"#fb9f3a\"], [0.8888888888888888, \"#fdca26\"], [1.0, \"#f0f921\"]], \"type\": \"surface\"}], \"table\": [{\"cells\": {\"fill\": {\"color\": \"#EBF0F8\"}, \"line\": {\"color\": \"white\"}}, \"header\": {\"fill\": {\"color\": \"#C8D4E3\"}, \"line\": {\"color\": \"white\"}}, \"type\": \"table\"}]}, \"layout\": {\"annotationdefaults\": {\"arrowcolor\": \"#2a3f5f\", \"arrowhead\": 0, \"arrowwidth\": 1}, \"colorscale\": {\"diverging\": [[0, \"#8e0152\"], [0.1, \"#c51b7d\"], [0.2, \"#de77ae\"], [0.3, \"#f1b6da\"], [0.4, \"#fde0ef\"], [0.5, \"#f7f7f7\"], [0.6, \"#e6f5d0\"], [0.7, \"#b8e186\"], [0.8, \"#7fbc41\"], [0.9, \"#4d9221\"], [1, \"#276419\"]], \"sequential\": [[0.0, \"#0d0887\"], [0.1111111111111111, \"#46039f\"], [0.2222222222222222, \"#7201a8\"], [0.3333333333333333, \"#9c179e\"], [0.4444444444444444, \"#bd3786\"], [0.5555555555555556, \"#d8576b\"], [0.6666666666666666, \"#ed7953\"], [0.7777777777777778, \"#fb9f3a\"], [0.8888888888888888, \"#fdca26\"], [1.0, \"#f0f921\"]], \"sequentialminus\": [[0.0, \"#0d0887\"], [0.1111111111111111, \"#46039f\"], [0.2222222222222222, \"#7201a8\"], [0.3333333333333333, \"#9c179e\"], [0.4444444444444444, \"#bd3786\"], [0.5555555555555556, \"#d8576b\"], [0.6666666666666666, \"#ed7953\"], [0.7777777777777778, \"#fb9f3a\"], [0.8888888888888888, \"#fdca26\"], [1.0, \"#f0f921\"]]}, \"colorway\": [\"#636efa\", \"#EF553B\", \"#00cc96\", \"#ab63fa\", \"#FFA15A\", \"#19d3f3\", \"#FF6692\", \"#B6E880\", \"#FF97FF\", \"#FECB52\"], \"font\": {\"color\": \"#2a3f5f\"}, \"geo\": {\"bgcolor\": \"white\", \"lakecolor\": \"white\", \"landcolor\": \"#E5ECF6\", \"showlakes\": true, \"showland\": true, \"subunitcolor\": \"white\"}, \"hoverlabel\": {\"align\": \"left\"}, \"hovermode\": \"closest\", \"mapbox\": {\"style\": \"light\"}, \"paper_bgcolor\": \"white\", \"plot_bgcolor\": \"#E5ECF6\", \"polar\": {\"angularaxis\": {\"gridcolor\": \"white\", \"linecolor\": \"white\", \"ticks\": \"\"}, \"bgcolor\": \"#E5ECF6\", \"radialaxis\": {\"gridcolor\": \"white\", \"linecolor\": \"white\", \"ticks\": \"\"}}, \"scene\": {\"xaxis\": {\"backgroundcolor\": \"#E5ECF6\", \"gridcolor\": \"white\", \"gridwidth\": 2, \"linecolor\": \"white\", \"showbackground\": true, \"ticks\": \"\", \"zerolinecolor\": \"white\"}, \"yaxis\": {\"backgroundcolor\": \"#E5ECF6\", \"gridcolor\": \"white\", \"gridwidth\": 2, \"linecolor\": \"white\", \"showbackground\": true, \"ticks\": \"\", \"zerolinecolor\": \"white\"}, \"zaxis\": {\"backgroundcolor\": \"#E5ECF6\", \"gridcolor\": \"white\", \"gridwidth\": 2, \"linecolor\": \"white\", \"showbackground\": true, \"ticks\": \"\", \"zerolinecolor\": \"white\"}}, \"shapedefaults\": {\"line\": {\"color\": \"#2a3f5f\"}}, \"ternary\": {\"aaxis\": {\"gridcolor\": \"white\", \"linecolor\": \"white\", \"ticks\": \"\"}, \"baxis\": {\"gridcolor\": \"white\", \"linecolor\": \"white\", \"ticks\": \"\"}, \"bgcolor\": \"#E5ECF6\", \"caxis\": {\"gridcolor\": \"white\", \"linecolor\": \"white\", \"ticks\": \"\"}}, \"title\": {\"x\": 0.05}, \"xaxis\": {\"automargin\": true, \"gridcolor\": \"white\", \"linecolor\": \"white\", \"ticks\": \"\", \"zerolinecolor\": \"white\", \"zerolinewidth\": 2}, \"yaxis\": {\"automargin\": true, \"gridcolor\": \"white\", \"linecolor\": \"white\", \"ticks\": \"\", \"zerolinecolor\": \"white\", \"zerolinewidth\": 2}}}, \"title\": {\"text\": \"Camp Populations by Month\"}, \"xaxis\": {\"anchor\": \"y\", \"domain\": [0.0, 0.98], \"title\": {\"text\": \"Date\"}}, \"yaxis\": {\"anchor\": \"x\", \"domain\": [0.0, 1.0], \"title\": {\"text\": \"Population\"}}},\n",
       "                        {\"responsive\": true}\n",
       "                    ).then(function(){\n",
       "                            \n",
       "var gd = document.getElementById('227477eb-475a-4961-b5e4-ce9d955bfee4');\n",
       "var x = new MutationObserver(function (mutations, observer) {{\n",
       "        var display = window.getComputedStyle(gd).display;\n",
       "        if (!display || display === 'none') {{\n",
       "            console.log([gd, 'removed!']);\n",
       "            Plotly.purge(gd);\n",
       "            observer.disconnect();\n",
       "        }}\n",
       "}});\n",
       "\n",
       "// Listen for the removal of the full notebook cells\n",
       "var notebookContainer = gd.closest('#notebook-container');\n",
       "if (notebookContainer) {{\n",
       "    x.observe(notebookContainer, {childList: true});\n",
       "}}\n",
       "\n",
       "// Listen for the clearing of the current output cell\n",
       "var outputEl = gd.closest('.output');\n",
       "if (outputEl) {{\n",
       "    x.observe(outputEl, {childList: true});\n",
       "}}\n",
       "\n",
       "                        })\n",
       "                };\n",
       "                });\n",
       "            </script>\n",
       "        </div>"
      ]
     },
     "metadata": {},
     "output_type": "display_data"
    }
   ],
   "source": [
    "pop_by_month2 = pop_by_month.drop(\"Total\", axis = 1)\n",
    "melted = pd.melt(pop_by_month2, id_vars = [\"Date\"], value_vars = pop_by_month2.columns[1:], var_name = 'Camp', value_name = \"Population\")\n",
    "fig = px.line(melted, x = 'Date', y = 'Population', color = 'Camp', title = 'Camp Populations by Month')\n",
    "fig.show();"
   ]
  },
  {
   "cell_type": "markdown",
   "metadata": {},
   "source": [
    "We can see from this histogram that most people did not return to where they originally lived because the bin that is at 0 percent returned has the highest percentage (the bar is the highest closest to 0). "
   ]
  },
  {
   "cell_type": "code",
   "execution_count": 49,
   "metadata": {},
   "outputs": [
    {
     "data": {
      "image/png": "[encoded data removed]",
      "text/plain": [
       "<Figure size 432x288 with 1 Axes>"
      ]
     },
     "metadata": {
      "needs_background": "light"
     },
     "output_type": "display_data"
    }
   ],
   "source": [
    "sns.distplot(population1940_1945['% returned'])\n",
    "plt.title(\"Percent Returned to Original County\");"
   ]
  },
  {
   "cell_type": "markdown",
   "metadata": {},
   "source": [
    "Visualizations allow us to picture how the numbers change and find abnormalities in the data set. What are some abnormalities that you see in the first plot? What are some possible explanations for these abnormalities?"
   ]
  },
  {
   "cell_type": "markdown",
   "metadata": {},
   "source": [
    "<b>Answer: </b> YOUR ANSWER HERE"
   ]
  },
  {
   "cell_type": "markdown",
   "metadata": {},
   "source": [
    "---"
   ]
  },
  {
   "cell_type": "markdown",
   "metadata": {},
   "source": [
    "## Section 2: Assembly Centers and Internment Centers<a id='section 2'></a>"
   ]
  },
  {
   "cell_type": "markdown",
   "metadata": {},
   "source": [
    "After Executive Order 9066 was signed, the army was authorized to remove civilians from designated military exclusion zones spanning Washington, Oregon, California, and Arizona. Assembly centers were created to funnel Japanese Americans into internment camps. Through these maps, you can see how far people were forced to move from one location to another. Mapping data is a useful tool to visualize locations and provide context when we are given longitude and latitude data! \n",
    "<img src=\"images/Luggage_Japanese_American_internment.png\" width=\"400\">\n",
    "The luggage of the Japanese Americans who have arrived at a reception center."
   ]
  },
  {
   "cell_type": "markdown",
   "metadata": {},
   "source": [
    "## Assembly Centers\n",
    "Japanese Americans were transported from assembly centers to internment camps across the country and we can use mapping techniques to visualize the movement of Japanese Americans from their original homes, to assembly centers, to internment camps, and then to various locations afterwards. To zoom in and out on the map, you can press the + and - buttons or scroll up and down. Also, if you click a blue marker, the assembly center name with show up!"
   ]
  },
  {
   "cell_type": "code",
   "execution_count": 50,
   "metadata": {
    "scrolled": true
   },
   "outputs": [
    {
     "data": {
      "text/html": [
       "<div style=\"width:100%;\"><div style=\"position:relative;width:100%;height:0;padding-bottom:60%;\"><iframe src=\"data:text/html;charset=utf-8;base64,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\" style=\"position:absolute;width:100%;height:100%;left:0;top:0;border:none !important;\" allowfullscreen webkitallowfullscreen mozallowfullscreen></iframe></div></div>"
      ],
      "text/plain": [
       "<folium.folium.Map at 0x7fa573728eb8>"
      ]
     },
     "execution_count": 50,
     "metadata": {},
     "output_type": "execute_result"
    }
   ],
   "source": [
    "m = folium.Map(location=[36.733300, -100.766700], zoom_start=4)\n",
    "tooltip = 'Click me!'\n",
    "for i in range(0,len(assembly)):\n",
    "    folium.Marker(\n",
    "      location=(assembly.iloc[i]['Latitude'], assembly.iloc[i]['Longitude']),\n",
    "      popup=assembly.iloc[i]['Location'],\n",
    "      ).add_to(m)\n",
    "m"
   ]
  },
  {
   "cell_type": "markdown",
   "metadata": {},
   "source": [
    "## Internment Camps\n"
   ]
  },
  {
   "cell_type": "code",
   "execution_count": 51,
   "metadata": {
    "scrolled": true
   },
   "outputs": [
    {
     "data": {
      "text/html": [
       "<div style=\"width:100%;\"><div style=\"position:relative;width:100%;height:0;padding-bottom:60%;\"><iframe src=\"data:text/html;charset=utf-8;base64,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\" style=\"position:absolute;width:100%;height:100%;left:0;top:0;border:none !important;\" allowfullscreen webkitallowfullscreen mozallowfullscreen></iframe></div></div>"
      ],
      "text/plain": [
       "<folium.folium.Map at 0x7fa573750e80>"
      ]
     },
     "execution_count": 51,
     "metadata": {},
     "output_type": "execute_result"
    }
   ],
   "source": [
    "m = folium.Map(location=[36.733300, -100.766700], zoom_start=4)\n",
    "tooltip = 'Click me!'\n",
    "for i in range(0,len(camps)):\n",
    "    folium.Marker(\n",
    "      location=(camps.iloc[i]['Latitude'], camps.iloc[i]['Longitude']),\n",
    "      popup=camps.iloc[i]['Internment Camp Name'],\n",
    "      ).add_to(m)\n",
    "m"
   ]
  },
  {
   "cell_type": "markdown",
   "metadata": {},
   "source": [
    "## Section 3: Mapping and Movement<a id='section 3'></a>"
   ]
  },
  {
   "cell_type": "markdown",
   "metadata": {},
   "source": [
    "One of the consequences of the Japanese internment camps was the relocation after World War 2. Many of the Japanese Americans that lived on the West Coast of the United States did not return to their previous homes since land holdings and possessions were lost during the process. This map shows the populations of each county at the start of World War II, just before the Executive Order 9066 in 1942. Japanese Americans were largely concentrated on the West Coast, with the largest population in Los Angeles.\n",
    "\n",
    "<img src=\"images/Hayward_Friends_say_goodbye.png\" width=\"400\">\n",
    "Neighbors in Hayward, California saying goodbye."
   ]
  },
  {
   "cell_type": "code",
   "execution_count": 52,
   "metadata": {
    "scrolled": true
   },
   "outputs": [
    {
     "data": {
      "text/html": [
       "<div style=\"width:100%;\"><div style=\"position:relative;width:100%;height:0;padding-bottom:60%;\"><iframe src=\"data:text/html;charset=utf-8;base64,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\" style=\"position:absolute;width:100%;height:100%;left:0;top:0;border:none !important;\" allowfullscreen webkitallowfullscreen mozallowfullscreen></iframe></div></div>"
      ],
      "text/plain": [
       "<folium.folium.Map at 0x7fa5734d6710>"
      ]
     },
     "execution_count": 52,
     "metadata": {},
     "output_type": "execute_result"
    }
   ],
   "source": [
    "m = folium.Map(location=[36.733300, -100.766700], zoom_start=4)\n",
    "tooltip = 'Click me!'\n",
    "for i in range(0,len(population1940_1945)):\n",
    "    folium.Circle(\n",
    "      location = (population1940_1945.iloc[i]['Latitude'], population1940_1945.iloc[i]['Longitude']),\n",
    "      popup = population1940_1945.iloc[i]['County'],\n",
    "      radius = float(population1940_1945.iloc[i]['1940']) *12,\n",
    "      color = 'blue',\n",
    "      fill = True,\n",
    "      fill_color = 'crimson').add_to(m)\n",
    "m"
   ]
  },
  {
   "cell_type": "markdown",
   "metadata": {},
   "source": [
    "This table shows the amount of Japanese Americans in each county after the war. This data was self-reported by evacuees."
   ]
  },
  {
   "cell_type": "code",
   "execution_count": 53,
   "metadata": {},
   "outputs": [
    {
     "data": {
      "text/html": [
       "<div>\n",
       "<style scoped>\n",
       "    .dataframe tbody tr th:only-of-type {\n",
       "        vertical-align: middle;\n",
       "    }\n",
       "\n",
       "    .dataframe tbody tr th {\n",
       "        vertical-align: top;\n",
       "    }\n",
       "\n",
       "    .dataframe thead th {\n",
       "        text-align: right;\n",
       "    }\n",
       "</style>\n",
       "<table border=\"1\" class=\"dataframe\">\n",
       "  <thead>\n",
       "    <tr style=\"text-align: right;\">\n",
       "      <th></th>\n",
       "      <th>City</th>\n",
       "      <th>State</th>\n",
       "      <th>People</th>\n",
       "      <th>Latitude</th>\n",
       "      <th>Longitude</th>\n",
       "    </tr>\n",
       "  </thead>\n",
       "  <tbody>\n",
       "    <tr>\n",
       "      <th>0</th>\n",
       "      <td>Glendale</td>\n",
       "      <td>AZ</td>\n",
       "      <td>487.0</td>\n",
       "      <td>34.142508</td>\n",
       "      <td>-118.255075</td>\n",
       "    </tr>\n",
       "    <tr>\n",
       "      <th>1</th>\n",
       "      <td>Alameda</td>\n",
       "      <td>CA</td>\n",
       "      <td>211.0</td>\n",
       "      <td>37.779872</td>\n",
       "      <td>-122.282185</td>\n",
       "    </tr>\n",
       "    <tr>\n",
       "      <th>2</th>\n",
       "      <td>Berkely</td>\n",
       "      <td>CA</td>\n",
       "      <td>844.0</td>\n",
       "      <td>37.871523</td>\n",
       "      <td>-122.273042</td>\n",
       "    </tr>\n",
       "    <tr>\n",
       "      <th>3</th>\n",
       "      <td>Burbank</td>\n",
       "      <td>CA</td>\n",
       "      <td>228.0</td>\n",
       "      <td>34.180839</td>\n",
       "      <td>-118.308966</td>\n",
       "    </tr>\n",
       "    <tr>\n",
       "      <th>4</th>\n",
       "      <td>Dinuba</td>\n",
       "      <td>CA</td>\n",
       "      <td>201.0</td>\n",
       "      <td>36.543284</td>\n",
       "      <td>-119.387066</td>\n",
       "    </tr>\n",
       "  </tbody>\n",
       "</table>\n",
       "</div>"
      ],
      "text/plain": [
       "       City State  People   Latitude   Longitude\n",
       "0  Glendale    AZ   487.0  34.142508 -118.255075\n",
       "1   Alameda    CA   211.0  37.779872 -122.282185\n",
       "2   Berkely    CA   844.0  37.871523 -122.273042\n",
       "3   Burbank    CA   228.0  34.180839 -118.308966\n",
       "4    Dinuba    CA   201.0  36.543284 -119.387066"
      ]
     },
     "execution_count": 53,
     "metadata": {},
     "output_type": "execute_result"
    }
   ],
   "source": [
    "reloc_cities['People'] = reloc_cities['People'].astype(float)\n",
    "reloc_cities.head()"
   ]
  },
  {
   "cell_type": "markdown",
   "metadata": {},
   "source": [
    "This map shows the cities that people relocated after the war. It allows us to visualize the extent people had to relocate from their original homes which were mostly on the west coast of the U.S. We can see a large population moved to the midwest (Chicago area) as well as the east coast, Canada, and even Mexico City. "
   ]
  },
  {
   "cell_type": "code",
   "execution_count": 54,
   "metadata": {},
   "outputs": [
    {
     "data": {
      "text/html": [
       "<div style=\"width:100%;\"><div style=\"position:relative;width:100%;height:0;padding-bottom:60%;\"><iframe src=\"data:text/html;charset=utf-8;base64,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\" style=\"position:absolute;width:100%;height:100%;left:0;top:0;border:none !important;\" allowfullscreen webkitallowfullscreen mozallowfullscreen></iframe></div></div>"
      ],
      "text/plain": [
       "<folium.folium.Map at 0x7fa57389c6d8>"
      ]
     },
     "execution_count": 54,
     "metadata": {},
     "output_type": "execute_result"
    }
   ],
   "source": [
    "m = folium.Map(location=[36.733300, -100.766700], zoom_start=4)\n",
    "tooltip = 'Click me!'\n",
    "for i in range(0,len(reloc_cities)):\n",
    "    folium.Circle(\n",
    "      location=(reloc_cities.iloc[i]['Latitude'], reloc_cities.iloc[i]['Longitude']),\n",
    "      popup=reloc_cities.iloc[i]['City'],\n",
    "      radius=reloc_cities.iloc[i]['People'] * 12,\n",
    "      color='blue',\n",
    "      fill=True,\n",
    "      fill_color='red').add_to(m)\n",
    "m"
   ]
  },
  {
   "cell_type": "markdown",
   "metadata": {},
   "source": [
    "---\n",
    "Notebook developed by: Alleanna Clark, Aishah Mahmud\n",
    "\n",
    "Data Science Modules: http://data.berkeley.edu/education/modules\n"
   ]
  },
  {
   "cell_type": "code",
   "execution_count": null,
   "metadata": {},
   "outputs": [],
   "source": []
  }
 ],
 "metadata": {
  "anaconda-cloud": {},
  "kernelspec": {
   "display_name": "Python 3",
   "language": "python",
   "name": "python3"
  },
  "language_info": {
   "codemirror_mode": {
    "name": "ipython",
    "version": 3
   },
   "file_extension": ".py",
   "mimetype": "text/x-python",
   "name": "python",
   "nbconvert_exporter": "python",
   "pygments_lexer": "ipython3",
   "version": "3.6.8"
  }
 },
 "nbformat": 4,
 "nbformat_minor": 1
}
