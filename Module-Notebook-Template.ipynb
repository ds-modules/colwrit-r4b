{
 "cells": [
  {
   "cell_type": "markdown",
   "metadata": {},
   "source": [
    "# COLWRIT R4B The Japanese American Internment and its Legacy\n",
    "\n",
    "\n",
    "---\n",
    "\n",
    "### Professor Patricia Steenland\n",
    "\n",
    "This notebook will explore data from the camps and provide context and techniques to analize the forced relocation of Japanese Americans during the 1940s.\n",
    "\n",
    "*Estimated Time: 90 minutes*\n",
    "\n",
    "---\n",
    "\n",
    "### Topics Covered\n",
    "- Short sentence topic 1\n",
    "- Short sentence topic 2\n",
    "- Short sentence topic 3\n",
    "\n",
    "### Table of Contents\n",
    "\n",
    "[The Data](#section data)<br>\n",
    "\n",
    "[Context](#section context)<br>\n",
    "\n",
    "1 - [Section 1](#section 1)<br>\n",
    "\n",
    "2 - [Section 2](#section 2)<br>\n",
    "\n",
    "3 - [Section 3](#section 3)<br>\n",
    "\n",
    "&nbsp;&nbsp;&nbsp;&nbsp;&nbsp;&nbsp; 1 - [Subsection 1](#subsection 1)\n",
    "\n",
    "\n",
    "\n",
    "**Dependencies:**"
   ]
  },
  {
   "cell_type": "code",
   "execution_count": 11,
   "metadata": {},
   "outputs": [
    {
     "name": "stdout",
     "output_type": "stream",
     "text": [
      "Requirement already satisfied: folium in /srv/app/venv/lib/python3.6/site-packages\n",
      "Requirement already satisfied: numpy in /srv/app/venv/lib/python3.6/site-packages (from folium)\n",
      "Requirement already satisfied: jinja2>=2.9 in /srv/app/venv/lib/python3.6/site-packages (from folium)\n",
      "Requirement already satisfied: branca>=0.3.0 in /srv/app/venv/lib/python3.6/site-packages (from folium)\n",
      "Requirement already satisfied: requests in /srv/app/venv/lib/python3.6/site-packages (from folium)\n",
      "Requirement already satisfied: MarkupSafe>=0.23 in /srv/app/venv/lib/python3.6/site-packages (from jinja2>=2.9->folium)\n",
      "Requirement already satisfied: six in /srv/app/venv/lib/python3.6/site-packages (from branca>=0.3.0->folium)\n",
      "Requirement already satisfied: idna<2.9,>=2.5 in /srv/app/venv/lib/python3.6/site-packages (from requests->folium)\n",
      "Requirement already satisfied: urllib3<1.25,>=1.21.1 in /srv/app/venv/lib/python3.6/site-packages (from requests->folium)\n",
      "Requirement already satisfied: certifi>=2017.4.17 in /srv/app/venv/lib/python3.6/site-packages (from requests->folium)\n",
      "Requirement already satisfied: chardet<3.1.0,>=3.0.2 in /srv/app/venv/lib/python3.6/site-packages (from requests->folium)\n"
     ]
    }
   ],
   "source": [
    "! pip install folium\n",
    "import pandas as pd\n",
    "import numpy as np\n",
    "import matplotlib.pyplot as plt\n",
    "import seaborn as sns\n",
    "import geojson\n",
    "import geopandas as gpd\n",
    "pop_by_month = pd.read_csv(\"CampPopulationsByMonth.csv\", error_bad_lines = False)\n",
    "relocations_states = pd.read_csv(\"RelocationDestinations_States.csv\", error_bad_lines = False)\n",
    "pop_1940_to_1945 = pd.read_csv(\"JapaneseAmericanPopulation_1940_1945.csv\", error_bad_lines = False)\n",
    "relocations_cities = pd.read_csv(\"RelocationDestinations_Cities.csv\", error_bad_lines = False)"
   ]
  },
  {
   "cell_type": "markdown",
   "metadata": {},
   "source": [
    "---\n",
    "\n",
    "## The Data <a id='data'></a>\n",
    "Explanation of the data the students will be working with. \n",
    "\n",
    "<b>Example</b>: In this notebook, you'll be working with a poll relating to the upcoming Presidential election. The results detail support for each of the two leading candidates (Hillary Clinton and Donald Trump) among a variety of demographics. The poll itself comes from Pew Research Center, and we recommend reading their analysis on the same data set once you've done your own! Find that <a href = http://www.people-press.org/2016/08/18/clinton-trump-supporters-have-starkly-different-views-of-a-changing-nation/> here</a>.\n",
    "\n",
    "---\n",
    "\n",
    "## Context - Data Collection<a id='data'></a>\n",
    "Explanation of how the dataset relates to the course content.\n",
    "\n",
    "<b>Example</b>: In this government course, we have learned a lot about elections. By exploring this dataset, we will obtain a better understanding of modern day elections.\n",
    "\n",
    "---\n"
   ]
  },
  {
   "cell_type": "markdown",
   "metadata": {},
   "source": [
    "## Section 1  <a id='section 1'></a>"
   ]
  },
  {
   "cell_type": "markdown",
   "metadata": {},
   "source": [
    "Intro to section 1 here."
   ]
  },
  {
   "cell_type": "code",
   "execution_count": 2,
   "metadata": {},
   "outputs": [],
   "source": [
    "# CODE"
   ]
  },
  {
   "cell_type": "markdown",
   "metadata": {},
   "source": [
    "Ask students questions to get them thinking about the data themselves. Make sure it is clear that this text is a question they have to answer and give them a clear place to answer the question."
   ]
  },
  {
   "cell_type": "markdown",
   "metadata": {},
   "source": [
    "---\n",
    "\n",
    "Suggested format:\n",
    "\n",
    "<b>Question 1:</b> What kind of patterns do you see in this graph? \n",
    "\n",
    "<b>Answer: </b> YOUR ANSWER HERE\n"
   ]
  },
  {
   "cell_type": "markdown",
   "metadata": {},
   "source": [
    "<b> Question 2</b>: Write the command to print \"Hello world\"."
   ]
  },
  {
   "cell_type": "code",
   "execution_count": 3,
   "metadata": {},
   "outputs": [],
   "source": [
    "# YOUR CODE HERE"
   ]
  },
  {
   "cell_type": "markdown",
   "metadata": {},
   "source": [
    "---"
   ]
  },
  {
   "cell_type": "markdown",
   "metadata": {},
   "source": [
    "## Section 2 <a id='section 2'></a>"
   ]
  },
  {
   "cell_type": "markdown",
   "metadata": {},
   "source": [
    "Intro to section 2 here."
   ]
  },
  {
   "cell_type": "code",
   "execution_count": 4,
   "metadata": {},
   "outputs": [],
   "source": [
    "# CODE"
   ]
  },
  {
   "cell_type": "markdown",
   "metadata": {},
   "source": [
    "## Section 3 <a id='section 3'></a>"
   ]
  },
  {
   "cell_type": "markdown",
   "metadata": {},
   "source": [
    "Intro to section 3 here."
   ]
  },
  {
   "cell_type": "code",
   "execution_count": 5,
   "metadata": {},
   "outputs": [],
   "source": [
    "# CODE"
   ]
  },
  {
   "cell_type": "markdown",
   "metadata": {},
   "source": [
    "### Subsection 1 <a id='subsection 1'></a>"
   ]
  },
  {
   "cell_type": "markdown",
   "metadata": {},
   "source": [
    "Intro to subsection 1 here."
   ]
  },
  {
   "cell_type": "code",
   "execution_count": 6,
   "metadata": {},
   "outputs": [],
   "source": [
    "# CODE"
   ]
  },
  {
   "cell_type": "markdown",
   "metadata": {},
   "source": [
    "---\n",
    "\n",
    "## Bibliography"
   ]
  },
  {
   "cell_type": "markdown",
   "metadata": {},
   "source": [
    "Cite sources in this format, separated with bullet points:\n",
    "\n",
    "<b>Format</b>: `Author` - `How source was used`. `URL`\n",
    "\n",
    "Example:\n",
    "\n",
    "- John Denero - Adapted NLP techniques. https://denero.org"
   ]
  },
  {
   "cell_type": "markdown",
   "metadata": {},
   "source": []
  },
  {
   "cell_type": "markdown",
   "metadata": {},
   "source": [
    "First, we will learn about basic plotting with pandas and seaborn."
   ]
  },
  {
   "cell_type": "code",
   "execution_count": 7,
   "metadata": {},
   "outputs": [
    {
     "data": {
      "text/plain": [
       "<Figure size 640x480 with 1 Axes>"
      ]
     },
     "metadata": {},
     "output_type": "display_data"
    }
   ],
   "source": [
    "# Import pandas, a data science library, and matplotlib for plotting\n",
    "import pandas as pd\n",
    "import matplotlib.pyplot as plt\n",
    "\n",
    "# Create a DataFrame, or a container of data, with numbers 1 - 3\n",
    "numbers = pd.DataFrame([1, 2, 3])\n",
    "\n",
    "# Plots the numbers DataFrame\n",
    "plt.plot(numbers)\n",
    "plt.title(\"Number Line\") \n",
    "plt.xlabel(\"x-axis\")\n",
    "plt.ylabel(\"y-axis\")\n",
    "plt.show()"
   ]
  },
  {
   "cell_type": "markdown",
   "metadata": {},
   "source": [
    "---\n",
    "Notebook developed by: Alleanna Clark, Aishah Mahmud\n",
    "\n",
    "Data Science Modules: http://data.berkeley.edu/education/modules\n"
   ]
  }
 ],
 "metadata": {
  "anaconda-cloud": {},
  "kernelspec": {
   "display_name": "Python 3",
   "language": "python",
   "name": "python3"
  },
  "language_info": {
   "codemirror_mode": {
    "name": "ipython",
    "version": 3
   },
   "file_extension": ".py",
   "mimetype": "text/x-python",
   "name": "python",
   "nbconvert_exporter": "python",
   "pygments_lexer": "ipython3",
   "version": "3.6.8"
  }
 },
 "nbformat": 4,
 "nbformat_minor": 1
}
