{
 "cells": [
  {
   "cell_type": "markdown",
   "metadata": {},
   "source": [
    "# COLWRIT R4B The Japanese American Internment and its Legacy\n",
    "\n",
    "\n",
    "---\n",
    "\n",
    "### Professor Patricia Steenland\n",
    "\n",
    "This notebook will explore data from the camps and provide context and techniques to analize the forced relocation of Japanese Americans during the 1940s.\n",
    "\n",
    "*Estimated Time: 90 minutes*\n",
    "\n",
    "---\n",
    "\n",
    "### Topics Covered\n",
    "- Data Collection and Context\n",
    "- The Populations of the Camps\n",
    "- Mapping and Relocation\n"
   ]
  },
  {
   "cell_type": "markdown",
   "metadata": {},
   "source": [
    "## The Jupyter Notebook\n",
    "\n",
    "First of all, note that this page is divided into what are called *cells*. You can navigate cells by clicking on them or by using the up and down arrows. Cells will be highlighted as you navigate them.\n",
    "\n",
    "### Text cells\n",
    "\n",
    "Text cells (like this one) can be edited by double-clicking on them. They're written in a simple format called [Markdown](http://daringfireball.net/projects/markdown/syntax) to add formatting and section headings.  You don't need to learn Markdown, but know the difference between Text Cells and Code Cells."
   ]
  },
  {
   "cell_type": "markdown",
   "metadata": {},
   "source": [
    "### Code cells\n",
    "Other cells contain code in the Python 3 language. Don't worry -- we'll show you everything you need to know to succeed in this part of the class. \n",
    "\n",
    "The fundamental building block of Python code is an **expression**. Cells can contain multiple lines with multiple expressions.  We'll explain what exactly we mean by \"expressions\" in just a moment: first, let's learn how to \"run\" cells."
   ]
  },
  {
   "cell_type": "markdown",
   "metadata": {},
   "source": [
    "### Running cells\n",
    "\n",
    "\"Running a cell\" is equivalent to pressing \"Enter\" on a calculator once you've typed in the expression you want to evaluate: it produces an **output**. When you run a text cell, it outputs clean, organized writing. When you run a code cell, it **computes** all of the expressions you want to evaluate, and can **output** the result of the computation.\n",
    "\n",
    "<p></p>\n",
    "\n",
    "<div class=\"alert alert-info\">\n",
    "To run the code in a code cell, first click on that cell to activate it.  It'll be highlighted with a little green or blue rectangle.  Next, you can either press the <code><b>▶|</b> Run </code> button above or press <b><code>Shift + Return</code></b> or <b><code>Shift + Enter</code></b>. This will run the current cell and select the next one.\n",
    "</div>\n",
    "\n",
    "Text cells are useful for taking notes and keeping your notebook organized, but your data analysis will be done in code cells. We will focus on code cells for the rest of the class.\n",
    "\n"
   ]
  },
  {
   "cell_type": "code",
   "execution_count": 10,
   "metadata": {
    "scrolled": true
   },
   "outputs": [
    {
     "name": "stdout",
     "output_type": "stream",
     "text": [
      "Hello world!\n"
     ]
    }
   ],
   "source": [
    "print(\"Hello world!\")"
   ]
  },
  {
   "cell_type": "code",
   "execution_count": 11,
   "metadata": {},
   "outputs": [],
   "source": [
    "#This is a comment. It is put in code cells as a description or instructions and does not affect the code."
   ]
  },
  {
   "cell_type": "markdown",
   "metadata": {},
   "source": [
    "Information is expressed in different data types such as **strings and integers**. Strings are generally desriptors whereas integers act as numbers and can be operated on as numbers. (We can perform mathematical operations on them)"
   ]
  },
  {
   "cell_type": "code",
   "execution_count": 12,
   "metadata": {},
   "outputs": [
    {
     "data": {
      "text/plain": [
       "123"
      ]
     },
     "execution_count": 12,
     "metadata": {},
     "output_type": "execute_result"
    }
   ],
   "source": [
    "#I output a number\n",
    "123"
   ]
  },
  {
   "cell_type": "code",
   "execution_count": 13,
   "metadata": {},
   "outputs": [
    {
     "data": {
      "text/plain": [
       "5"
      ]
     },
     "execution_count": 13,
     "metadata": {},
     "output_type": "execute_result"
    }
   ],
   "source": [
    "2 + 3"
   ]
  },
  {
   "cell_type": "code",
   "execution_count": 14,
   "metadata": {},
   "outputs": [
    {
     "data": {
      "text/plain": [
       "'Woohoo'"
      ]
     },
     "execution_count": 14,
     "metadata": {},
     "output_type": "execute_result"
    }
   ],
   "source": [
    "#I output a string\n",
    "\"Woohoo\""
   ]
  },
  {
   "cell_type": "code",
   "execution_count": 15,
   "metadata": {},
   "outputs": [
    {
     "data": {
      "text/plain": [
       "'123'"
      ]
     },
     "execution_count": 15,
     "metadata": {},
     "output_type": "execute_result"
    }
   ],
   "source": [
    "#Numbers can also be strings!\n",
    "\"123\""
   ]
  },
  {
   "cell_type": "code",
   "execution_count": 16,
   "metadata": {},
   "outputs": [
    {
     "name": "stdout",
     "output_type": "stream",
     "text": [
      "Requirement already satisfied: folium in /srv/app/venv/lib/python3.6/site-packages\n",
      "Requirement already satisfied: branca>=0.3.0 in /srv/app/venv/lib/python3.6/site-packages (from folium)\n",
      "Requirement already satisfied: requests in /srv/app/venv/lib/python3.6/site-packages (from folium)\n",
      "Requirement already satisfied: jinja2>=2.9 in /srv/app/venv/lib/python3.6/site-packages (from folium)\n",
      "Requirement already satisfied: numpy in /srv/app/venv/lib/python3.6/site-packages (from folium)\n",
      "Requirement already satisfied: six in /srv/app/venv/lib/python3.6/site-packages (from branca>=0.3.0->folium)\n",
      "Requirement already satisfied: urllib3<1.25,>=1.21.1 in /srv/app/venv/lib/python3.6/site-packages (from requests->folium)\n",
      "Requirement already satisfied: idna<2.9,>=2.5 in /srv/app/venv/lib/python3.6/site-packages (from requests->folium)\n",
      "Requirement already satisfied: chardet<3.1.0,>=3.0.2 in /srv/app/venv/lib/python3.6/site-packages (from requests->folium)\n",
      "Requirement already satisfied: certifi>=2017.4.17 in /srv/app/venv/lib/python3.6/site-packages (from requests->folium)\n",
      "Requirement already satisfied: MarkupSafe>=0.23 in /srv/app/venv/lib/python3.6/site-packages (from jinja2>=2.9->folium)\n"
     ]
    }
   ],
   "source": [
    "#This imports programs. You don't need to worry about it.\n",
    "! pip install folium\n",
    "import pandas as pd\n",
    "import numpy as np\n",
    "import matplotlib.pyplot as plt\n",
    "import seaborn as sns\n",
    "import folium\n",
    "import geojson\n",
    "import geopandas as gpd\n",
    "import plotly.express as px\n",
    "\n",
    "pop_by_month = pd.read_csv(\"CampPopulationsByMonth.csv\", error_bad_lines = False)\n",
    "relocations_states = pd.read_csv(\"RelocationDestinations_States.csv\", error_bad_lines = False)\n",
    "pop_1940_to_1945 = pd.read_csv(\"JapaneseAmericanPopulation_1940_1945.csv\", error_bad_lines = False)\n",
    "relocations_cities = pd.read_csv(\"RelocationDestinations_Cities.csv\", error_bad_lines = False)"
   ]
  },
  {
   "cell_type": "markdown",
   "metadata": {},
   "source": [
    "---\n",
    "\n",
    "## The Data <a id='data'></a>\n",
    "\n",
    "In this notebook, you'll be working with a dataset that was manually digitized from tables in The Evacuated People: A Quantitative Description, a report published by the War Relocation Authority] in 1946. The tables required manual transcription because the results from automatic scraping contained too many errors. Thus, there may still be some human error. The datasets included contain the populations of each camp by month, the relocation destinations of those who were incarcerated, and the Japanese American population in America before and throughout the war. Take a look at the full dataset <a href = https://data.world/infinitecoop/japanese-internment-camps/> here</a>.\n",
    "\n",
    "---\n",
    "\n",
    "## Context <a id='data'></a>\n",
    "\n",
    "In this course, you've been studying the consequences of Japanese American internment. Through this data and subsequent analysis, you'll be able to visualize the forced movement of Japanese Americans, from the west coast, to scattered internment camps, and eventually to cities throughout the country. \n",
    "\n",
    "---\n"
   ]
  },
  {
   "cell_type": "markdown",
   "metadata": {},
   "source": [
    "## Section 1  Data Cleaning and Collection<a id='section 1'></a>"
   ]
  },
  {
   "cell_type": "markdown",
   "metadata": {},
   "source": [
    "When we get a dataset it is usually in a raw form so **data cleaning** is the techniques we use in order to make the dataset usable for analysis. This next cell will return our data table of the Camp populations by month in its original form, however, the commas in the numbers make it difficult to work with."
   ]
  },
  {
   "cell_type": "code",
   "execution_count": 17,
   "metadata": {
    "scrolled": true
   },
   "outputs": [
    {
     "data": {
      "text/html": [
       "<div>\n",
       "<style scoped>\n",
       "    .dataframe tbody tr th:only-of-type {\n",
       "        vertical-align: middle;\n",
       "    }\n",
       "\n",
       "    .dataframe tbody tr th {\n",
       "        vertical-align: top;\n",
       "    }\n",
       "\n",
       "    .dataframe thead th {\n",
       "        text-align: right;\n",
       "    }\n",
       "</style>\n",
       "<table border=\"1\" class=\"dataframe\">\n",
       "  <thead>\n",
       "    <tr style=\"text-align: right;\">\n",
       "      <th></th>\n",
       "      <th>Date</th>\n",
       "      <th>Total</th>\n",
       "      <th>Topaz/Central Utah</th>\n",
       "      <th>Poston/Colorado River</th>\n",
       "      <th>Gila River</th>\n",
       "      <th>Granada</th>\n",
       "      <th>Heart Mountain</th>\n",
       "      <th>Jerome</th>\n",
       "      <th>Manzanar</th>\n",
       "      <th>Minidoka</th>\n",
       "      <th>Rohwer</th>\n",
       "      <th>Tule Lake</th>\n",
       "    </tr>\n",
       "  </thead>\n",
       "  <tbody>\n",
       "    <tr>\n",
       "      <th>0</th>\n",
       "      <td>1942-06-01</td>\n",
       "      <td>17393</td>\n",
       "      <td>0</td>\n",
       "      <td>7281</td>\n",
       "      <td>0</td>\n",
       "      <td>0</td>\n",
       "      <td>0</td>\n",
       "      <td>0</td>\n",
       "      <td>9666</td>\n",
       "      <td>0</td>\n",
       "      <td>0</td>\n",
       "      <td>446</td>\n",
       "    </tr>\n",
       "    <tr>\n",
       "      <th>1</th>\n",
       "      <td>1942-07-01</td>\n",
       "      <td>27633</td>\n",
       "      <td>0</td>\n",
       "      <td>8755</td>\n",
       "      <td>0</td>\n",
       "      <td>0</td>\n",
       "      <td>0</td>\n",
       "      <td>0</td>\n",
       "      <td>9840</td>\n",
       "      <td>0</td>\n",
       "      <td>0</td>\n",
       "      <td>9038</td>\n",
       "    </tr>\n",
       "    <tr>\n",
       "      <th>2</th>\n",
       "      <td>1942-08-01</td>\n",
       "      <td>40316</td>\n",
       "      <td>0</td>\n",
       "      <td>13262</td>\n",
       "      <td>2106</td>\n",
       "      <td>0</td>\n",
       "      <td>0</td>\n",
       "      <td>0</td>\n",
       "      <td>9928</td>\n",
       "      <td>0</td>\n",
       "      <td>0</td>\n",
       "      <td>15020</td>\n",
       "    </tr>\n",
       "    <tr>\n",
       "      <th>3</th>\n",
       "      <td>1942-09-01</td>\n",
       "      <td>63031</td>\n",
       "      <td>0</td>\n",
       "      <td>17818</td>\n",
       "      <td>9150</td>\n",
       "      <td>212</td>\n",
       "      <td>5758</td>\n",
       "      <td>0</td>\n",
       "      <td>10072</td>\n",
       "      <td>4840</td>\n",
       "      <td>0</td>\n",
       "      <td>15181</td>\n",
       "    </tr>\n",
       "    <tr>\n",
       "      <th>4</th>\n",
       "      <td>1942-10-01</td>\n",
       "      <td>90499</td>\n",
       "      <td>5806</td>\n",
       "      <td>17847</td>\n",
       "      <td>11555</td>\n",
       "      <td>7480</td>\n",
       "      <td>10813</td>\n",
       "      <td>0</td>\n",
       "      <td>10256</td>\n",
       "      <td>9200</td>\n",
       "      <td>2265</td>\n",
       "      <td>15277</td>\n",
       "    </tr>\n",
       "  </tbody>\n",
       "</table>\n",
       "</div>"
      ],
      "text/plain": [
       "        Date  Total  Topaz/Central Utah  Poston/Colorado River  Gila River  \\\n",
       "0 1942-06-01  17393                   0                   7281           0   \n",
       "1 1942-07-01  27633                   0                   8755           0   \n",
       "2 1942-08-01  40316                   0                  13262        2106   \n",
       "3 1942-09-01  63031                   0                  17818        9150   \n",
       "4 1942-10-01  90499                5806                  17847       11555   \n",
       "\n",
       "   Granada  Heart Mountain  Jerome  Manzanar  Minidoka  Rohwer  Tule Lake  \n",
       "0        0               0       0      9666         0       0        446  \n",
       "1        0               0       0      9840         0       0       9038  \n",
       "2        0               0       0      9928         0       0      15020  \n",
       "3      212            5758       0     10072      4840       0      15181  \n",
       "4     7480           10813       0     10256      9200    2265      15277  "
      ]
     },
     "execution_count": 17,
     "metadata": {},
     "output_type": "execute_result"
    }
   ],
   "source": [
    "#Camp Populations by month \n",
    "#We can see when camps closed/opened based on where the zeros start\n",
    "#Date of first of the month with the total populations over time\n",
    "#Line plot could be useful\n",
    "#Data collected at beginning of month?\n",
    "pop_by_month = pd.read_csv(\"CampPopulationsByMonth.csv\", error_bad_lines = False, thousands = ',')\n",
    "pop_by_month['Date']= pd.to_datetime(pop_by_month['Date']) \n",
    "pop_by_month.head(5)"
   ]
  },
  {
   "cell_type": "markdown",
   "metadata": {},
   "source": [
    "In this next cell we are **cleaning** the data set by replacing the commas with white space and also making them integers instead of strings"
   ]
  },
  {
   "cell_type": "code",
   "execution_count": 24,
   "metadata": {},
   "outputs": [
    {
     "data": {
      "text/plain": [
       "<Figure size 576x864 with 0 Axes>"
      ]
     },
     "metadata": {},
     "output_type": "display_data"
    },
    {
     "data": {
      "image/png": "[encoded data removed]",
      "text/plain": [
       "<Figure size 432x288 with 1 Axes>"
      ]
     },
     "metadata": {
      "needs_background": "light"
     },
     "output_type": "display_data"
    }
   ],
   "source": [
    "#Camp Populations by month \n",
    "#We can see when camps closed/opened based on where the zeros start\n",
    "#Date of first of the month with the total populations over time\n",
    "#Line plot could be useful\n",
    "#Data collected at beginning of month?\n",
    "#pop_by_month = pd.read_csv(\"CampPopulationsByMonth.csv\", error_bad_lines = False)\n",
    "#pop_by_month['Date']= pd.to_datetime(pop_by_month['Date']) \n",
    "\n",
    "pop_by_month.T.reset_index().groupby(\"index\").sum().reset_index()\n",
    "#pop_by_month_index.drop(['Total'], axis = 1)\n",
    "#pop_to_graph[\"Camps\"] = pop_by_month_index.index\n",
    "#pop_to_graph.set_index(pop_by_month_index.index)\n",
    "#pop_to_graph.T.reset_index()\n",
    "plt.figure(figsize = (8, 12))\n",
    "m = pop_by_month.set_index(\"Date\").drop(\"Total\", axis = 1)\n",
    "m.plot.line()\n"
   ]
  },
  {
   "cell_type": "markdown",
   "metadata": {},
   "source": [
    "Now we can look at this data and start to see beyond the numbers. **Over-laid line plot comparing the change in populations of the camps by month** We have it without a for loop for now."
   ]
  },
  {
   "cell_type": "code",
   "execution_count": null,
   "metadata": {},
   "outputs": [],
   "source": [
    "#for col in enumerate(pop_by_month.columns[2:]):\n",
    "#    print(col)\n",
    "#    print(pop_by_month.columns[2:])\n",
    "#    sns.lineplot(x=\"Date\", y = col, data = pop_by_month)\n",
    "sns.lineplot(\"Date\", data = pop_by_month)\n",
    "\n",
    "#come back to this"
   ]
  },
  {
   "cell_type": "code",
   "execution_count": null,
   "metadata": {},
   "outputs": [],
   "source": [
    "#pop_by_month = pd.pivot_table(pop_by_month, values = 'Granada', index=pop_by_month.columns, columns = 'Date').reset_index()\n",
    "fig = px.line(pop_by_month, x = 'Date', y = 'Total')\n",
    "fig.show()"
   ]
  },
  {
   "cell_type": "code",
   "execution_count": null,
   "metadata": {
    "scrolled": true
   },
   "outputs": [],
   "source": [
    "sns.lineplot(x=\"Date\", y= 'Manzanar', data = pop_by_month)"
   ]
  },
  {
   "cell_type": "markdown",
   "metadata": {},
   "source": [
    "Visualizations allow us to picture how the numbers change and find abnormalities in the data set. What are some abnormalities that you see? What could be possible reasons for these?"
   ]
  },
  {
   "cell_type": "markdown",
   "metadata": {},
   "source": [
    "<b>Answer: </b> YOUR ANSWER HERE"
   ]
  },
  {
   "cell_type": "markdown",
   "metadata": {},
   "source": [
    "---"
   ]
  },
  {
   "cell_type": "markdown",
   "metadata": {},
   "source": [
    "## Section 2 Assembly Centers and Internment Centers<a id='section 2'></a>"
   ]
  },
  {
   "cell_type": "markdown",
   "metadata": {},
   "source": [
    "After Executive Order 9066 was signed, the army was authorized to remove civilians from designated military exclusion zones spanning Washington, Oregon, California, and Arizona. Assembly centers were created to funnel Japanese Americans into internment camps. Through these maps, you can see how many people were forced from one location to another. Mapping data is a useful tool to visualize locations and provide context when we are given longitude and latitude data!"
   ]
  },
  {
   "cell_type": "code",
   "execution_count": 47,
   "metadata": {},
   "outputs": [
    {
     "data": {
      "text/html": [
       "<div>\n",
       "<style scoped>\n",
       "    .dataframe tbody tr th:only-of-type {\n",
       "        vertical-align: middle;\n",
       "    }\n",
       "\n",
       "    .dataframe tbody tr th {\n",
       "        vertical-align: top;\n",
       "    }\n",
       "\n",
       "    .dataframe thead th {\n",
       "        text-align: right;\n",
       "    }\n",
       "</style>\n",
       "<table border=\"1\" class=\"dataframe\">\n",
       "  <thead>\n",
       "    <tr style=\"text-align: right;\">\n",
       "      <th></th>\n",
       "      <th>Location</th>\n",
       "      <th>State</th>\n",
       "      <th>Number of People</th>\n",
       "      <th>Latitude</th>\n",
       "      <th>Longitude</th>\n",
       "    </tr>\n",
       "  </thead>\n",
       "  <tbody>\n",
       "    <tr>\n",
       "      <th>0</th>\n",
       "      <td>Sacramento (Walerga)</td>\n",
       "      <td>California</td>\n",
       "      <td>4598</td>\n",
       "      <td>38.566700</td>\n",
       "      <td>-121.483300</td>\n",
       "    </tr>\n",
       "    <tr>\n",
       "      <th>2</th>\n",
       "      <td>Manzanar (Up to 6/1/42)</td>\n",
       "      <td>California</td>\n",
       "      <td>9564</td>\n",
       "      <td>36.728333</td>\n",
       "      <td>-118.154444</td>\n",
       "    </tr>\n",
       "    <tr>\n",
       "      <th>3</th>\n",
       "      <td>Fresno</td>\n",
       "      <td>California</td>\n",
       "      <td>5069</td>\n",
       "      <td>36.733300</td>\n",
       "      <td>-119.766700</td>\n",
       "    </tr>\n",
       "    <tr>\n",
       "      <th>4</th>\n",
       "      <td>Marysville (Arboga)</td>\n",
       "      <td>California</td>\n",
       "      <td>2406</td>\n",
       "      <td>39.050000</td>\n",
       "      <td>-121.550050</td>\n",
       "    </tr>\n",
       "    <tr>\n",
       "      <th>5</th>\n",
       "      <td>Mayer</td>\n",
       "      <td>Arizona</td>\n",
       "      <td>249</td>\n",
       "      <td>34.383300</td>\n",
       "      <td>-112.233300</td>\n",
       "    </tr>\n",
       "    <tr>\n",
       "      <th>6</th>\n",
       "      <td>Merced</td>\n",
       "      <td>California</td>\n",
       "      <td>4081</td>\n",
       "      <td>37.300000</td>\n",
       "      <td>-120.466700</td>\n",
       "    </tr>\n",
       "    <tr>\n",
       "      <th>7</th>\n",
       "      <td>Pinedale</td>\n",
       "      <td>California</td>\n",
       "      <td>4664</td>\n",
       "      <td>36.840000</td>\n",
       "      <td>-119.800000</td>\n",
       "    </tr>\n",
       "    <tr>\n",
       "      <th>8</th>\n",
       "      <td>Pomona</td>\n",
       "      <td>California</td>\n",
       "      <td>5272</td>\n",
       "      <td>34.050000</td>\n",
       "      <td>-117.750000</td>\n",
       "    </tr>\n",
       "    <tr>\n",
       "      <th>9</th>\n",
       "      <td>Portland (Pacific Int. Exposition Ground)</td>\n",
       "      <td>Oregon</td>\n",
       "      <td>3667</td>\n",
       "      <td>45.516700</td>\n",
       "      <td>-122.666700</td>\n",
       "    </tr>\n",
       "    <tr>\n",
       "      <th>10</th>\n",
       "      <td>Puyallup</td>\n",
       "      <td>Washington</td>\n",
       "      <td>7348</td>\n",
       "      <td>47.183300</td>\n",
       "      <td>-122.283300</td>\n",
       "    </tr>\n",
       "    <tr>\n",
       "      <th>11</th>\n",
       "      <td>Salinas</td>\n",
       "      <td>California</td>\n",
       "      <td>3555</td>\n",
       "      <td>36.666700</td>\n",
       "      <td>-121.650000</td>\n",
       "    </tr>\n",
       "    <tr>\n",
       "      <th>12</th>\n",
       "      <td>Santa Anita</td>\n",
       "      <td>California</td>\n",
       "      <td>18424</td>\n",
       "      <td>34.133300</td>\n",
       "      <td>-118.033300</td>\n",
       "    </tr>\n",
       "    <tr>\n",
       "      <th>13</th>\n",
       "      <td>Stockton</td>\n",
       "      <td>California</td>\n",
       "      <td>4178</td>\n",
       "      <td>37.950000</td>\n",
       "      <td>-121.283300</td>\n",
       "    </tr>\n",
       "    <tr>\n",
       "      <th>14</th>\n",
       "      <td>Tanforan</td>\n",
       "      <td>California</td>\n",
       "      <td>7694</td>\n",
       "      <td>37.616700</td>\n",
       "      <td>-122.400000</td>\n",
       "    </tr>\n",
       "    <tr>\n",
       "      <th>15</th>\n",
       "      <td>Tulare</td>\n",
       "      <td>California</td>\n",
       "      <td>4915</td>\n",
       "      <td>36.200000</td>\n",
       "      <td>-119.333300</td>\n",
       "    </tr>\n",
       "    <tr>\n",
       "      <th>16</th>\n",
       "      <td>Turlock</td>\n",
       "      <td>California</td>\n",
       "      <td>3553</td>\n",
       "      <td>37.483300</td>\n",
       "      <td>-120.833300</td>\n",
       "    </tr>\n",
       "  </tbody>\n",
       "</table>\n",
       "</div>"
      ],
      "text/plain": [
       "                                     Location       State  Number of People  \\\n",
       "0                        Sacramento (Walerga)  California              4598   \n",
       "2                     Manzanar (Up to 6/1/42)  California              9564   \n",
       "3                                      Fresno  California              5069   \n",
       "4                         Marysville (Arboga)  California              2406   \n",
       "5                                       Mayer     Arizona               249   \n",
       "6                                      Merced  California              4081   \n",
       "7                                    Pinedale  California              4664   \n",
       "8                                      Pomona  California              5272   \n",
       "9   Portland (Pacific Int. Exposition Ground)      Oregon              3667   \n",
       "10                                   Puyallup  Washington              7348   \n",
       "11                                    Salinas  California              3555   \n",
       "12                                Santa Anita  California             18424   \n",
       "13                                   Stockton  California              4178   \n",
       "14                                   Tanforan  California              7694   \n",
       "15                                     Tulare  California              4915   \n",
       "16                                    Turlock  California              3553   \n",
       "\n",
       "     Latitude   Longitude  \n",
       "0   38.566700 -121.483300  \n",
       "2   36.728333 -118.154444  \n",
       "3   36.733300 -119.766700  \n",
       "4   39.050000 -121.550050  \n",
       "5   34.383300 -112.233300  \n",
       "6   37.300000 -120.466700  \n",
       "7   36.840000 -119.800000  \n",
       "8   34.050000 -117.750000  \n",
       "9   45.516700 -122.666700  \n",
       "10  47.183300 -122.283300  \n",
       "11  36.666700 -121.650000  \n",
       "12  34.133300 -118.033300  \n",
       "13  37.950000 -121.283300  \n",
       "14  37.616700 -122.400000  \n",
       "15  36.200000 -119.333300  \n",
       "16  37.483300 -120.833300  "
      ]
     },
     "execution_count": 47,
     "metadata": {},
     "output_type": "execute_result"
    }
   ],
   "source": [
    "assembly = pd.read_csv('BehindBarbedWire_StoryMap_AssemblyCentersMap_Data.csv', error_bad_lines = False)\n",
    "assembly.dropna(subset=['Latitude', 'Longitude']).dropna(axis = 1)\n",
    "#assembly.dtypes"
   ]
  },
  {
   "cell_type": "code",
   "execution_count": 48,
   "metadata": {},
   "outputs": [
    {
     "data": {
      "text/html": [
       "<div style=\"width:100%;\"><div style=\"position:relative;width:100%;height:0;padding-bottom:60%;\"><iframe src=\"data:text/html;charset=utf-8;base64,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\" style=\"position:absolute;width:100%;height:100%;left:0;top:0;border:none !important;\" allowfullscreen webkitallowfullscreen mozallowfullscreen></iframe></div></div>"
      ],
      "text/plain": [
       "<folium.folium.Map at 0x7f53a71d54e0>"
      ]
     },
     "execution_count": 48,
     "metadata": {},
     "output_type": "execute_result"
    }
   ],
   "source": [
    "#need to make this a bubble folium map\n",
    "m = folium.Map(location=[36.733300, -100.766700], zoom_start = 4)\n",
    "tooltip = 'Click me!'\n",
    "n = folium.Marker([38.566700, -121.483300], popup='<i>Mt. Hood Meadows</i>', tooltip='Sacramento(Walerga)').add_to(m)\n",
    "n = folium.Marker([36.728333, -118.154444], popup='<i>Mt. Hood Meadows</i>', tooltip='Manzanar').add_to(m)\n",
    "n = folium.Marker([36.733300, -119.766700], popup='<i>Mt. Hood Meadows</i>', tooltip='Fresno').add_to(m)\n",
    "n = folium.Marker([34.383300, -112.233300], popup='<i>Mt. Hood Meadows</i>', tooltip='Mayer, AZ').add_to(m)\n",
    "n = folium.Marker([39.050000, -121.550050], popup='<i>Mt. Hood Meadows</i>', tooltip='Marysville (Arboga)').add_to(m)\n",
    "n = folium.Marker([37.300000, -120.466700], popup='<i>Mt. Hood Meadows</i>', tooltip='Merced').add_to(m)\n",
    "n = folium.Marker([34.383300, -112.233300], popup='<i>Mt. Hood Meadows</i>', tooltip='Pinedale').add_to(m)\n",
    "n = folium.Marker([34.050000, -117.750000], popup='<i>Mt. Hood Meadows</i>', tooltip='Pomona').add_to(m)\n",
    "n = folium.Marker([45.516700, -122.666700], popup='<i>Mt. Hood Meadows</i>', tooltip='Portlan, OR').add_to(m)\n",
    "n = folium.Marker([47.183300, -122.283300], popup='<i>Mt. Hood Meadows</i>', tooltip='Puyallup').add_to(m)\n",
    "n = folium.Marker([36.666700, -121.650000], popup='<i>Mt. Hood Meadows</i>', tooltip='Salinas').add_to(m)\n",
    "n = folium.Marker([34.133300, -118.033300], popup='<i>Mt. Hood Meadows</i>', tooltip='Santa Anita').add_to(m)\n",
    "n = folium.Marker([37.950000, -121.283300], popup='<i>Mt. Hood Meadows</i>', tooltip='Stockton').add_to(m)\n",
    "n = folium.Marker([37.616700, -122.400000], popup='<i>Mt. Hood Meadows</i>', tooltip='Tanforan').add_to(m)\n",
    "n = folium.Marker([36.200000, -119.333300], popup='<i>Mt. Hood Meadows</i>', tooltip='Tulare').add_to(m)\n",
    "n = folium.Marker([37.483300, -120.833300], popup='<i>Mt. Hood Meadows</i>', tooltip='Turlock').add_to(m)\n",
    "\n",
    "m"
   ]
  },
  {
   "cell_type": "markdown",
   "metadata": {},
   "source": [
    "Japanese Americans were transported from assembly centers to internment camps across the country"
   ]
  },
  {
   "cell_type": "code",
   "execution_count": 37,
   "metadata": {},
   "outputs": [],
   "source": [
    "camps = pd.read_csv('BehindBarbedWire_StoryMap_InternmentCampLocationsMap_Data.csv', error_bad_lines = False)\n",
    "camps[\"Maximum Population\"] = camps[\"Maximum Population\"].str.replace(',', '')\n",
    "camps[\"Maximum Population\"] = camps[\"Maximum Population\"].astype(float)"
   ]
  },
  {
   "cell_type": "code",
   "execution_count": 38,
   "metadata": {},
   "outputs": [],
   "source": [
    "m = folium.Map(location=[36.733300, -100.766700], zoom_start=2)\n",
    "n = folium.Marker([38.566700, -121.483300], popup='<i>Mt. Hood Meadows</i>', tooltip='Sacramento(Walerga)').add_to(m)\n"
   ]
  },
  {
   "cell_type": "code",
   "execution_count": 69,
   "metadata": {},
   "outputs": [
    {
     "data": {
      "text/html": [
       "<div style=\"width:100%;\"><div style=\"position:relative;width:100%;height:0;padding-bottom:60%;\"><iframe src=\"data:text/html;charset=utf-8;base64,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\" style=\"position:absolute;width:100%;height:100%;left:0;top:0;border:none !important;\" allowfullscreen webkitallowfullscreen mozallowfullscreen></iframe></div></div>"
      ],
      "text/plain": [
       "<folium.folium.Map at 0x7fc643179470>"
      ]
     },
     "execution_count": 69,
     "metadata": {},
     "output_type": "execute_result"
    }
   ],
   "source": [
    "m = folium.Map(location=[36.733300, -100.766700], zoom_start=2)\n",
    "for i in range(0,len(camps)):\n",
    "    folium.Marker(\n",
    "        location=[camps.iloc[i]['Latitude'], camps.iloc[i]['Longitude']],\n",
    "        popup = camps.iloc[i]['Internment Camp Name'],\n",
    "        radius = camps.iloc[i]['Maximum Population']*1000,\n",
    "        color='crimson',\n",
    "        fill = True,\n",
    "        fill_color ='crimson',\n",
    "        tooltip = 'test').add_to(m)\n",
    "m\n",
    "m.save('mymap.html')\n",
    "m"
   ]
  },
  {
   "cell_type": "code",
   "execution_count": 27,
   "metadata": {},
   "outputs": [
    {
     "data": {
      "text/html": [
       "<div style=\"width:100%;\"><div style=\"position:relative;width:100%;height:0;padding-bottom:60%;\"><iframe src=\"data:text/html;charset=utf-8;base64,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\" style=\"position:absolute;width:100%;height:100%;left:0;top:0;border:none !important;\" allowfullscreen webkitallowfullscreen mozallowfullscreen></iframe></div></div>"
      ],
      "text/plain": [
       "<folium.folium.Map at 0x7fc6436cbd68>"
      ]
     },
     "execution_count": 27,
     "metadata": {},
     "output_type": "execute_result"
    }
   ],
   "source": [
    "m = folium.Map(location=[36.733300, -100.766700], zoom_start = 4)\n",
    "tooltip = 'Click me!'\n",
    "n = folium.Marker([33.065083, -111.830528], popup='<i>Mt. Hood Meadows</i>', tooltip='Gila River Relocation Center').add_to(m)\n",
    "n = folium.Marker([33.987500, -114.401111], popup='<i>Mt. Hood Meadows</i>', tooltip='Poston Relocation Center').add_to(m)\n",
    "n = folium.Marker([33.411667, -91.461111], popup='<i>Mt. Hood Meadows</i>', tooltip='Jerome Relocation Center').add_to(m)\n",
    "n = folium.Marker([33.766297, -91.280158], popup='<i>Mt. Hood Meadows</i>', tooltip='Rohwer Relocation Center').add_to(m)\n",
    "n = folium.Marker([36.728333, -118.154444], popup='<i>Mt. Hood Meadows</i>', tooltip='Manzanar Relocation Center').add_to(m)\n",
    "n = folium.Marker([41.889444, -121.374722], popup='<i>Mt. Hood Meadows</i>', tooltip='Tule Lake Relocation Center').add_to(m)\n",
    "n = folium.Marker([38.049444, -102.328611], popup='<i>Mt. Hood Meadows</i>', tooltip='Granada Relocation Center').add_to(m)\n",
    "n = folium.Marker([42.679000, -114.244000], popup='<i>Mt. Hood Meadows</i>', tooltip='Minidoka Relocation Center').add_to(m)\n",
    "n = folium.Marker([39.418336, -112.708750], popup='<i>Mt. Hood Meadows</i>', tooltip='Topaz Relocation Center').add_to(m)\n",
    "n = folium.Marker([44.671667, -108.946389], popup='<i>Mt. Hood Meadows</i>', tooltip='Heart Mountain Relocation Center').add_to(m)\n",
    "\n",
    "m"
   ]
  },
  {
   "cell_type": "markdown",
   "metadata": {},
   "source": [
    "## Section 3  Mapping and Movement<a id='section 3'></a>"
   ]
  },
  {
   "cell_type": "markdown",
   "metadata": {},
   "source": [
    "The biggest impact, among many, of Japanese internment was the subsequent relocation of Japanese Americans across the nation. While they had originally been settled and successful on the west coast, the effects of their forced internment ruined their lives, forcing them to uproot themselves and start anew"
   ]
  },
  {
   "cell_type": "code",
   "execution_count": 99,
   "metadata": {},
   "outputs": [
    {
     "data": {
      "text/html": [
       "<div>\n",
       "<style scoped>\n",
       "    .dataframe tbody tr th:only-of-type {\n",
       "        vertical-align: middle;\n",
       "    }\n",
       "\n",
       "    .dataframe tbody tr th {\n",
       "        vertical-align: top;\n",
       "    }\n",
       "\n",
       "    .dataframe thead th {\n",
       "        text-align: right;\n",
       "    }\n",
       "</style>\n",
       "<table border=\"1\" class=\"dataframe\">\n",
       "  <thead>\n",
       "    <tr style=\"text-align: right;\">\n",
       "      <th></th>\n",
       "      <th>County</th>\n",
       "      <th>State</th>\n",
       "      <th>1940</th>\n",
       "      <th>1945</th>\n",
       "      <th>% returned</th>\n",
       "      <th>Latitude</th>\n",
       "      <th>Longitude</th>\n",
       "    </tr>\n",
       "  </thead>\n",
       "  <tbody>\n",
       "    <tr>\n",
       "      <th>0</th>\n",
       "      <td>Alameda</td>\n",
       "      <td>CA</td>\n",
       "      <td>5167</td>\n",
       "      <td>2703</td>\n",
       "      <td>52.3</td>\n",
       "      <td>37.779872</td>\n",
       "      <td>-122.282185</td>\n",
       "    </tr>\n",
       "    <tr>\n",
       "      <th>1</th>\n",
       "      <td>Amador</td>\n",
       "      <td>CA</td>\n",
       "      <td>2</td>\n",
       "      <td>0</td>\n",
       "      <td>0.0</td>\n",
       "      <td>37.667910</td>\n",
       "      <td>-121.873914</td>\n",
       "    </tr>\n",
       "    <tr>\n",
       "      <th>2</th>\n",
       "      <td>Butte</td>\n",
       "      <td>CA</td>\n",
       "      <td>216</td>\n",
       "      <td>107</td>\n",
       "      <td>49.5</td>\n",
       "      <td>46.003823</td>\n",
       "      <td>-112.534777</td>\n",
       "    </tr>\n",
       "    <tr>\n",
       "      <th>3</th>\n",
       "      <td>Calaveras</td>\n",
       "      <td>CA</td>\n",
       "      <td>6</td>\n",
       "      <td>0</td>\n",
       "      <td>0.0</td>\n",
       "      <td>36.159706</td>\n",
       "      <td>-95.958341</td>\n",
       "    </tr>\n",
       "    <tr>\n",
       "      <th>4</th>\n",
       "      <td>Colusa</td>\n",
       "      <td>CA</td>\n",
       "      <td>155</td>\n",
       "      <td>48</td>\n",
       "      <td>31.0</td>\n",
       "      <td>39.214334</td>\n",
       "      <td>-122.009417</td>\n",
       "    </tr>\n",
       "  </tbody>\n",
       "</table>\n",
       "</div>"
      ],
      "text/plain": [
       "      County State  1940  1945  % returned   Latitude   Longitude\n",
       "0    Alameda    CA  5167  2703        52.3  37.779872 -122.282185\n",
       "1     Amador    CA     2     0         0.0  37.667910 -121.873914\n",
       "2      Butte    CA   216   107        49.5  46.003823 -112.534777\n",
       "3  Calaveras    CA     6     0         0.0  36.159706  -95.958341\n",
       "4     Colusa    CA   155    48        31.0  39.214334 -122.009417"
      ]
     },
     "execution_count": 99,
     "metadata": {},
     "output_type": "execute_result"
    }
   ],
   "source": [
    "#Use in conjuction with relocation Destinations to track movement\n",
    "pd.read_csv(\"JapaneseAmericanPopulation_1940_1945_LL.csv\", error_bad_lines = False).head()"
   ]
  },
  {
   "cell_type": "code",
   "execution_count": 100,
   "metadata": {},
   "outputs": [
    {
     "data": {
      "text/html": [
       "<div>\n",
       "<style scoped>\n",
       "    .dataframe tbody tr th:only-of-type {\n",
       "        vertical-align: middle;\n",
       "    }\n",
       "\n",
       "    .dataframe tbody tr th {\n",
       "        vertical-align: top;\n",
       "    }\n",
       "\n",
       "    .dataframe thead th {\n",
       "        text-align: right;\n",
       "    }\n",
       "</style>\n",
       "<table border=\"1\" class=\"dataframe\">\n",
       "  <thead>\n",
       "    <tr style=\"text-align: right;\">\n",
       "      <th></th>\n",
       "      <th>City</th>\n",
       "      <th>State</th>\n",
       "      <th>People</th>\n",
       "      <th>Latitude</th>\n",
       "      <th>Longitude</th>\n",
       "    </tr>\n",
       "  </thead>\n",
       "  <tbody>\n",
       "    <tr>\n",
       "      <th>0</th>\n",
       "      <td>Glendale</td>\n",
       "      <td>AZ</td>\n",
       "      <td>487</td>\n",
       "      <td>34.142508</td>\n",
       "      <td>-118.255075</td>\n",
       "    </tr>\n",
       "    <tr>\n",
       "      <th>1</th>\n",
       "      <td>Alameda</td>\n",
       "      <td>CA</td>\n",
       "      <td>211</td>\n",
       "      <td>37.779872</td>\n",
       "      <td>-122.282185</td>\n",
       "    </tr>\n",
       "    <tr>\n",
       "      <th>2</th>\n",
       "      <td>Berkely</td>\n",
       "      <td>CA</td>\n",
       "      <td>844</td>\n",
       "      <td>37.871523</td>\n",
       "      <td>-122.273042</td>\n",
       "    </tr>\n",
       "    <tr>\n",
       "      <th>3</th>\n",
       "      <td>Burbank</td>\n",
       "      <td>CA</td>\n",
       "      <td>228</td>\n",
       "      <td>34.180839</td>\n",
       "      <td>-118.308966</td>\n",
       "    </tr>\n",
       "    <tr>\n",
       "      <th>4</th>\n",
       "      <td>Dinuba</td>\n",
       "      <td>CA</td>\n",
       "      <td>201</td>\n",
       "      <td>36.543284</td>\n",
       "      <td>-119.387066</td>\n",
       "    </tr>\n",
       "  </tbody>\n",
       "</table>\n",
       "</div>"
      ],
      "text/plain": [
       "       City State  People   Latitude   Longitude\n",
       "0  Glendale    AZ     487  34.142508 -118.255075\n",
       "1   Alameda    CA     211  37.779872 -122.282185\n",
       "2   Berkely    CA     844  37.871523 -122.273042\n",
       "3   Burbank    CA     228  34.180839 -118.308966\n",
       "4    Dinuba    CA     201  36.543284 -119.387066"
      ]
     },
     "execution_count": 100,
     "metadata": {},
     "output_type": "execute_result"
    }
   ],
   "source": [
    "pd.read_csv(\"RelocationDestinations_Cities_LL.csv\", error_bad_lines = False).head()"
   ]
  },
  {
   "cell_type": "markdown",
   "metadata": {},
   "source": [
    "---\n",
    "Notebook developed by: Alleanna Clark, Aishah Mahmud\n",
    "\n",
    "Data Science Modules: http://data.berkeley.edu/education/modules\n"
   ]
  },
  {
   "cell_type": "code",
   "execution_count": null,
   "metadata": {},
   "outputs": [],
   "source": []
  },
  {
   "cell_type": "code",
   "execution_count": null,
   "metadata": {},
   "outputs": [],
   "source": []
  },
  {
   "cell_type": "code",
   "execution_count": null,
   "metadata": {},
   "outputs": [],
   "source": []
  },
  {
   "cell_type": "code",
   "execution_count": null,
   "metadata": {},
   "outputs": [],
   "source": []
  }
 ],
 "metadata": {
  "anaconda-cloud": {},
  "kernelspec": {
   "display_name": "Python 3",
   "language": "python",
   "name": "python3"
  },
  "language_info": {
   "codemirror_mode": {
    "name": "ipython",
    "version": 3
   },
   "file_extension": ".py",
   "mimetype": "text/x-python",
   "name": "python",
   "nbconvert_exporter": "python",
   "pygments_lexer": "ipython3",
   "version": "3.6.8"
  }
 },
 "nbformat": 4,
 "nbformat_minor": 1
}
