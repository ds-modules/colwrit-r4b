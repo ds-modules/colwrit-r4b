{
 "cells": [
  {
   "cell_type": "markdown",
   "metadata": {},
   "source": [
    "# COLWRIT R4B The Japanese American Internment and its Legacy\n",
    "\n",
    "\n",
    "---\n",
    "\n",
    "### Professor Patricia Steenland\n",
    "\n",
    "This notebook will explore data from the camps and provide context and techniques to analize the forced relocation of Japanese Americans during the 1940s.\n",
    "\n",
    "*Estimated Time: 90 minutes*\n",
    "\n",
    "---\n",
    "\n",
    "### Topics Covered\n",
    "1. [Section 1: Data Exploration and Visualization](#Section-1:-Data-Exploration-and-Visualization)\n",
    "2. [Section 2: Assembly Centers and Internment Centers](#Section-2:-Assembly-Centers-and-Internment-Centers)\n",
    "3. [Section 3: Mapping and Movement](#Section-3:-Mapping-and-Movement)\n",
    "\n",
    "\n",
    "---\n",
    "\n",
    "## Context <a id='data'></a>\n",
    "\n",
    "In this course, you've been studying the consequences of Japanese American internment. Through this data and subsequent analysis, you'll be able to visualize the forced movement of Japanese Americans, from the west coast, to scattered internment camps, and eventually to cities throughout the country. First, we need to learn how to use this notebook format, which is called a **Jupyter Notebook.**\n",
    "\n"
   ]
  },
  {
   "cell_type": "markdown",
   "metadata": {},
   "source": [
    "\n",
    "## The Jupyter Notebook\n",
    "\n",
    "First of all, note that this page is divided into what are called *cells*. You can navigate cells by clicking on them or by using the up and down arrows. Cells will be highlighted as you navigate them.\n",
    "\n",
    "### Text cells\n",
    "\n",
    "Text cells (like this one) can be edited by double-clicking on them. They're written in a simple format called [Markdown](http://daringfireball.net/projects/markdown/syntax) to add formatting and section headings.  You don't need to learn Markdown, but know the difference between Text Cells and Code Cells."
   ]
  },
  {
   "cell_type": "markdown",
   "metadata": {},
   "source": [
    "### Code cells\n",
    "Other cells contain code in the Python 3 language. Don't worry -- we'll show you everything you need to know to succeed in this part of the class. \n",
    "\n",
    "The fundamental building block of Python code is an **expression**. Cells can contain multiple lines with multiple expressions.  We'll explain what exactly we mean by \"expressions\" in just a moment: first, let's learn how to \"run\" cells."
   ]
  },
  {
   "cell_type": "markdown",
   "metadata": {},
   "source": [
    "### Running cells\n",
    "\n",
    "\"Running a cell\" is equivalent to pressing \"Enter\" on a calculator once you've typed in the expression you want to evaluate: it produces an **output**. When you run a text cell, it outputs clean, organized writing. When you run a code cell, it **computes** all of the expressions you want to evaluate, and can **output** the result of the computation.\n",
    "\n",
    "<p></p>\n",
    "\n",
    "<div class=\"alert alert-info\">\n",
    "To run the code in a code cell, first click on that cell to activate it.  It'll be highlighted with a little green or blue rectangle.  Next, you can either press the <code><b>▶|</b> Run </code> button above or press <b><code>Shift + Return</code></b> or <b><code>Shift + Enter</code></b>. This will run the current cell and select the next one.\n",
    "</div>\n",
    "\n",
    "Text cells are useful for taking notes and keeping your notebook organized, but your data analysis will be done in code cells. We will focus on code cells for the rest of the class.\n",
    "\n"
   ]
  },
  {
   "cell_type": "code",
   "execution_count": 1,
   "metadata": {
    "scrolled": true
   },
   "outputs": [
    {
     "name": "stdout",
     "output_type": "stream",
     "text": [
      "Hello world!\n"
     ]
    }
   ],
   "source": [
    "print(\"Hello world!\")"
   ]
  },
  {
   "cell_type": "code",
   "execution_count": 2,
   "metadata": {},
   "outputs": [],
   "source": [
    "#This is a comment. It is put in code cells as a description or instructions and does not affect the code."
   ]
  },
  {
   "cell_type": "code",
   "execution_count": 19,
   "metadata": {},
   "outputs": [],
   "source": [
    "# Just run this cell\n",
    "import pandas as pd\n",
    "import numpy as np\n",
    "import matplotlib.pyplot as plt\n",
    "import seaborn as sns\n",
    "import folium\n",
    "import plotly.express as px\n",
    "pop_by_month = pd.read_csv(\"data/CampPopulationsByMonth.csv\", error_bad_lines = False)\n",
    "#relocations_states = pd.read_csv(\"data/RelocationDestinations_States.csv\", error_bad_lines = False)\n",
    "pop_1940_to_1945 = pd.read_csv(\"data/JapaneseAmericanPopulation_1940_1945_LL.csv\", error_bad_lines = False)\n",
    "relocations_cities = pd.read_csv(\"data/RelocationDestinations_Cities_LL.csv\", error_bad_lines = False)"
   ]
  },
  {
   "cell_type": "markdown",
   "metadata": {},
   "source": [
    "---\n",
    "\n",
    "## The Data <a id='data'></a>\n",
    "\n",
    "In this notebook, you'll be working with a dataset that was manually digitized from tables in The Evacuated People: A Quantitative Description, a report published by the War Relocation Authority in 1946. The tables required manual transcription because the results from automatic scraping contained too many errors. Thus, there may still be some human error. The datasets included contain the populations of each camp by month, the relocation destinations of those who were incarcerated, and the Japanese American population in America before and throughout the war. Take a look at the full dataset <a href = https://data.world/infinitecoop/japanese-internment-camps/> here</a>.\n",
    "\n",
    "The second dataset we're working with is collected by the Library of Congress and comes from newspapers that were produced by Japanese-American internees while they lived in the camps. You can access the data and read about the newspapers here https://www.arcgis.com/home/item.html?id=787f1fabd34c49308df8fe0d4dc7470f \n",
    "<img src=\"images/Posted_Japanese_American_Exclusion_Order.png\" width=\"450\">\n"
   ]
  },
  {
   "cell_type": "markdown",
   "metadata": {},
   "source": [
    "The **pop_by_month** table has the population of each of the ten camps at the start of every month."
   ]
  },
  {
   "cell_type": "code",
   "execution_count": 20,
   "metadata": {},
   "outputs": [],
   "source": [
    "#Loading and Reading the Data\n",
    "pop_by_month = pd.read_csv(\"data/CampPopulationsByMonth.csv\", error_bad_lines = False, thousands = ',')\n",
    "pop_by_month['Date']= pd.to_datetime(pop_by_month['Date']) \n",
    "camps = pd.read_csv('data/BehindBarbedWire_StoryMap_InternmentCampLocationsMap_Data.csv', error_bad_lines = False)\n",
    "camps[\"Maximum Population\"] = camps[\"Maximum Population\"].str.replace(',', '')\n",
    "camps['Maximum Population'] = camps['Maximum Population'].astype(float)"
   ]
  },
  {
   "cell_type": "code",
   "execution_count": 21,
   "metadata": {},
   "outputs": [
    {
     "data": {
      "text/html": [
       "<div>\n",
       "<style scoped>\n",
       "    .dataframe tbody tr th:only-of-type {\n",
       "        vertical-align: middle;\n",
       "    }\n",
       "\n",
       "    .dataframe tbody tr th {\n",
       "        vertical-align: top;\n",
       "    }\n",
       "\n",
       "    .dataframe thead th {\n",
       "        text-align: right;\n",
       "    }\n",
       "</style>\n",
       "<table border=\"1\" class=\"dataframe\">\n",
       "  <thead>\n",
       "    <tr style=\"text-align: right;\">\n",
       "      <th></th>\n",
       "      <th>Date</th>\n",
       "      <th>Total</th>\n",
       "      <th>Topaz/Central Utah</th>\n",
       "      <th>Poston/Colorado River</th>\n",
       "      <th>Gila River</th>\n",
       "      <th>Granada</th>\n",
       "      <th>Heart Mountain</th>\n",
       "      <th>Jerome</th>\n",
       "      <th>Manzanar</th>\n",
       "      <th>Minidoka</th>\n",
       "      <th>Rohwer</th>\n",
       "      <th>Tule Lake</th>\n",
       "    </tr>\n",
       "  </thead>\n",
       "  <tbody>\n",
       "    <tr>\n",
       "      <th>0</th>\n",
       "      <td>1942-06-01</td>\n",
       "      <td>17393</td>\n",
       "      <td>0</td>\n",
       "      <td>7281</td>\n",
       "      <td>0</td>\n",
       "      <td>0</td>\n",
       "      <td>0</td>\n",
       "      <td>0</td>\n",
       "      <td>9666</td>\n",
       "      <td>0</td>\n",
       "      <td>0</td>\n",
       "      <td>446</td>\n",
       "    </tr>\n",
       "    <tr>\n",
       "      <th>1</th>\n",
       "      <td>1942-07-01</td>\n",
       "      <td>27633</td>\n",
       "      <td>0</td>\n",
       "      <td>8755</td>\n",
       "      <td>0</td>\n",
       "      <td>0</td>\n",
       "      <td>0</td>\n",
       "      <td>0</td>\n",
       "      <td>9840</td>\n",
       "      <td>0</td>\n",
       "      <td>0</td>\n",
       "      <td>9038</td>\n",
       "    </tr>\n",
       "    <tr>\n",
       "      <th>2</th>\n",
       "      <td>1942-08-01</td>\n",
       "      <td>40316</td>\n",
       "      <td>0</td>\n",
       "      <td>13262</td>\n",
       "      <td>2106</td>\n",
       "      <td>0</td>\n",
       "      <td>0</td>\n",
       "      <td>0</td>\n",
       "      <td>9928</td>\n",
       "      <td>0</td>\n",
       "      <td>0</td>\n",
       "      <td>15020</td>\n",
       "    </tr>\n",
       "    <tr>\n",
       "      <th>3</th>\n",
       "      <td>1942-09-01</td>\n",
       "      <td>63031</td>\n",
       "      <td>0</td>\n",
       "      <td>17818</td>\n",
       "      <td>9150</td>\n",
       "      <td>212</td>\n",
       "      <td>5758</td>\n",
       "      <td>0</td>\n",
       "      <td>10072</td>\n",
       "      <td>4840</td>\n",
       "      <td>0</td>\n",
       "      <td>15181</td>\n",
       "    </tr>\n",
       "    <tr>\n",
       "      <th>4</th>\n",
       "      <td>1942-10-01</td>\n",
       "      <td>90499</td>\n",
       "      <td>5806</td>\n",
       "      <td>17847</td>\n",
       "      <td>11555</td>\n",
       "      <td>7480</td>\n",
       "      <td>10813</td>\n",
       "      <td>0</td>\n",
       "      <td>10256</td>\n",
       "      <td>9200</td>\n",
       "      <td>2265</td>\n",
       "      <td>15277</td>\n",
       "    </tr>\n",
       "  </tbody>\n",
       "</table>\n",
       "</div>"
      ],
      "text/plain": [
       "        Date  Total  Topaz/Central Utah  Poston/Colorado River  Gila River  \\\n",
       "0 1942-06-01  17393                   0                   7281           0   \n",
       "1 1942-07-01  27633                   0                   8755           0   \n",
       "2 1942-08-01  40316                   0                  13262        2106   \n",
       "3 1942-09-01  63031                   0                  17818        9150   \n",
       "4 1942-10-01  90499                5806                  17847       11555   \n",
       "\n",
       "   Granada  Heart Mountain  Jerome  Manzanar  Minidoka  Rohwer  Tule Lake  \n",
       "0        0               0       0      9666         0       0        446  \n",
       "1        0               0       0      9840         0       0       9038  \n",
       "2        0               0       0      9928         0       0      15020  \n",
       "3      212            5758       0     10072      4840       0      15181  \n",
       "4     7480           10813       0     10256      9200    2265      15277  "
      ]
     },
     "execution_count": 21,
     "metadata": {},
     "output_type": "execute_result"
    }
   ],
   "source": [
    "pop_by_month.head()"
   ]
  },
  {
   "cell_type": "markdown",
   "metadata": {},
   "source": [
    "The **camps** table by Behind the Barbed Wire has a list of the internment camps, their locations-- city, name, latitude, and longitude-- the dates of when they opened and closed, and their maximum populations."
   ]
  },
  {
   "cell_type": "code",
   "execution_count": 22,
   "metadata": {
    "scrolled": true
   },
   "outputs": [
    {
     "data": {
      "text/html": [
       "<div>\n",
       "<style scoped>\n",
       "    .dataframe tbody tr th:only-of-type {\n",
       "        vertical-align: middle;\n",
       "    }\n",
       "\n",
       "    .dataframe tbody tr th {\n",
       "        vertical-align: top;\n",
       "    }\n",
       "\n",
       "    .dataframe thead th {\n",
       "        text-align: right;\n",
       "    }\n",
       "</style>\n",
       "<table border=\"1\" class=\"dataframe\">\n",
       "  <thead>\n",
       "    <tr style=\"text-align: right;\">\n",
       "      <th></th>\n",
       "      <th>Internment Camp Name</th>\n",
       "      <th>Location</th>\n",
       "      <th>State</th>\n",
       "      <th>Latitude</th>\n",
       "      <th>Longitude</th>\n",
       "      <th>Opened</th>\n",
       "      <th>Closed</th>\n",
       "      <th>Maximum Population</th>\n",
       "    </tr>\n",
       "  </thead>\n",
       "  <tbody>\n",
       "    <tr>\n",
       "      <th>0</th>\n",
       "      <td>Gila River Relocation Center</td>\n",
       "      <td>Rivers</td>\n",
       "      <td>Arizona</td>\n",
       "      <td>33.065083</td>\n",
       "      <td>-111.830528</td>\n",
       "      <td>20-Jul-42</td>\n",
       "      <td>16-Nov-45</td>\n",
       "      <td>13348.0</td>\n",
       "    </tr>\n",
       "    <tr>\n",
       "      <th>1</th>\n",
       "      <td>Poston Relocation Center</td>\n",
       "      <td>Parker</td>\n",
       "      <td>Arizona</td>\n",
       "      <td>33.987500</td>\n",
       "      <td>-114.401111</td>\n",
       "      <td>2-Jun-42</td>\n",
       "      <td>28-Nov-45</td>\n",
       "      <td>17814.0</td>\n",
       "    </tr>\n",
       "    <tr>\n",
       "      <th>2</th>\n",
       "      <td>Jerome Relocation Center</td>\n",
       "      <td>Denson</td>\n",
       "      <td>Arkansas</td>\n",
       "      <td>33.411667</td>\n",
       "      <td>-91.461111</td>\n",
       "      <td>6-Oct-42</td>\n",
       "      <td>30-Jun-44</td>\n",
       "      <td>8497.0</td>\n",
       "    </tr>\n",
       "    <tr>\n",
       "      <th>3</th>\n",
       "      <td>Rohwer Relocation Center</td>\n",
       "      <td>McGehee</td>\n",
       "      <td>Arkansas</td>\n",
       "      <td>33.766297</td>\n",
       "      <td>-91.280158</td>\n",
       "      <td>18-Sep-42</td>\n",
       "      <td>30-Nov-45</td>\n",
       "      <td>8475.0</td>\n",
       "    </tr>\n",
       "    <tr>\n",
       "      <th>4</th>\n",
       "      <td>Manzanar Relocation Center</td>\n",
       "      <td>Manzanar</td>\n",
       "      <td>California</td>\n",
       "      <td>36.728333</td>\n",
       "      <td>-118.154444</td>\n",
       "      <td>2-Jun-42</td>\n",
       "      <td>21-Nov-45</td>\n",
       "      <td>10046.0</td>\n",
       "    </tr>\n",
       "    <tr>\n",
       "      <th>5</th>\n",
       "      <td>Tule Lake Relocation Center</td>\n",
       "      <td>Newell</td>\n",
       "      <td>California</td>\n",
       "      <td>41.889444</td>\n",
       "      <td>-121.374722</td>\n",
       "      <td>27-May-42</td>\n",
       "      <td>20-Mar-46</td>\n",
       "      <td>18789.0</td>\n",
       "    </tr>\n",
       "    <tr>\n",
       "      <th>6</th>\n",
       "      <td>Granada Relocation Center</td>\n",
       "      <td>Amache</td>\n",
       "      <td>Colorado</td>\n",
       "      <td>38.049444</td>\n",
       "      <td>-102.328611</td>\n",
       "      <td>27-Aug-42</td>\n",
       "      <td>15-Oct-45</td>\n",
       "      <td>7318.0</td>\n",
       "    </tr>\n",
       "    <tr>\n",
       "      <th>7</th>\n",
       "      <td>Minidoka Relocation Center</td>\n",
       "      <td>Hunt</td>\n",
       "      <td>Idaho</td>\n",
       "      <td>42.679000</td>\n",
       "      <td>-114.244000</td>\n",
       "      <td>10-Aug-42</td>\n",
       "      <td>28-Oct-45</td>\n",
       "      <td>9397.0</td>\n",
       "    </tr>\n",
       "    <tr>\n",
       "      <th>8</th>\n",
       "      <td>Topaz Relocation Center</td>\n",
       "      <td>Topaz</td>\n",
       "      <td>Utah</td>\n",
       "      <td>39.418336</td>\n",
       "      <td>-112.708750</td>\n",
       "      <td>11-Sep-42</td>\n",
       "      <td>31-Oct-45</td>\n",
       "      <td>8130.0</td>\n",
       "    </tr>\n",
       "    <tr>\n",
       "      <th>9</th>\n",
       "      <td>Heart Mountain Relocation Center</td>\n",
       "      <td>Heart Mountain</td>\n",
       "      <td>Wyoming</td>\n",
       "      <td>44.671667</td>\n",
       "      <td>-108.946389</td>\n",
       "      <td>12-Aug-42</td>\n",
       "      <td>10-Nov-45</td>\n",
       "      <td>343.0</td>\n",
       "    </tr>\n",
       "  </tbody>\n",
       "</table>\n",
       "</div>"
      ],
      "text/plain": [
       "               Internment Camp Name        Location       State   Latitude  \\\n",
       "0      Gila River Relocation Center          Rivers     Arizona  33.065083   \n",
       "1          Poston Relocation Center          Parker     Arizona  33.987500   \n",
       "2          Jerome Relocation Center          Denson    Arkansas  33.411667   \n",
       "3          Rohwer Relocation Center         McGehee    Arkansas  33.766297   \n",
       "4        Manzanar Relocation Center        Manzanar  California  36.728333   \n",
       "5       Tule Lake Relocation Center          Newell  California  41.889444   \n",
       "6         Granada Relocation Center          Amache    Colorado  38.049444   \n",
       "7        Minidoka Relocation Center            Hunt       Idaho  42.679000   \n",
       "8           Topaz Relocation Center           Topaz        Utah  39.418336   \n",
       "9  Heart Mountain Relocation Center  Heart Mountain     Wyoming  44.671667   \n",
       "\n",
       "    Longitude     Opened     Closed  Maximum Population  \n",
       "0 -111.830528  20-Jul-42  16-Nov-45             13348.0  \n",
       "1 -114.401111   2-Jun-42  28-Nov-45             17814.0  \n",
       "2  -91.461111   6-Oct-42  30-Jun-44              8497.0  \n",
       "3  -91.280158  18-Sep-42  30-Nov-45              8475.0  \n",
       "4 -118.154444   2-Jun-42  21-Nov-45             10046.0  \n",
       "5 -121.374722  27-May-42  20-Mar-46             18789.0  \n",
       "6 -102.328611  27-Aug-42  15-Oct-45              7318.0  \n",
       "7 -114.244000  10-Aug-42  28-Oct-45              9397.0  \n",
       "8 -112.708750  11-Sep-42  31-Oct-45              8130.0  \n",
       "9 -108.946389  12-Aug-42  10-Nov-45               343.0  "
      ]
     },
     "execution_count": 22,
     "metadata": {},
     "output_type": "execute_result"
    }
   ],
   "source": [
    "camps"
   ]
  },
  {
   "cell_type": "markdown",
   "metadata": {},
   "source": [
    "The **assembly** table by Behind the Barbed Wire has the locations of each assembly center-- their city, state, latitude, and longitude--, as well as the number of people that were processed through each one."
   ]
  },
  {
   "cell_type": "code",
   "execution_count": 23,
   "metadata": {},
   "outputs": [
    {
     "data": {
      "text/html": [
       "<div>\n",
       "<style scoped>\n",
       "    .dataframe tbody tr th:only-of-type {\n",
       "        vertical-align: middle;\n",
       "    }\n",
       "\n",
       "    .dataframe tbody tr th {\n",
       "        vertical-align: top;\n",
       "    }\n",
       "\n",
       "    .dataframe thead th {\n",
       "        text-align: right;\n",
       "    }\n",
       "</style>\n",
       "<table border=\"1\" class=\"dataframe\">\n",
       "  <thead>\n",
       "    <tr style=\"text-align: right;\">\n",
       "      <th></th>\n",
       "      <th>Location</th>\n",
       "      <th>State</th>\n",
       "      <th>Number of People</th>\n",
       "      <th>Latitude</th>\n",
       "      <th>Longitude</th>\n",
       "    </tr>\n",
       "  </thead>\n",
       "  <tbody>\n",
       "    <tr>\n",
       "      <th>0</th>\n",
       "      <td>Sacramento (Walerga)</td>\n",
       "      <td>California</td>\n",
       "      <td>4598.0</td>\n",
       "      <td>38.566700</td>\n",
       "      <td>-121.483300</td>\n",
       "    </tr>\n",
       "    <tr>\n",
       "      <th>2</th>\n",
       "      <td>Manzanar (Up to 6/1/42)</td>\n",
       "      <td>California</td>\n",
       "      <td>9564.0</td>\n",
       "      <td>36.728333</td>\n",
       "      <td>-118.154444</td>\n",
       "    </tr>\n",
       "    <tr>\n",
       "      <th>3</th>\n",
       "      <td>Fresno</td>\n",
       "      <td>California</td>\n",
       "      <td>5069.0</td>\n",
       "      <td>36.733300</td>\n",
       "      <td>-119.766700</td>\n",
       "    </tr>\n",
       "    <tr>\n",
       "      <th>4</th>\n",
       "      <td>Marysville (Arboga)</td>\n",
       "      <td>California</td>\n",
       "      <td>2406.0</td>\n",
       "      <td>39.050000</td>\n",
       "      <td>-121.550050</td>\n",
       "    </tr>\n",
       "    <tr>\n",
       "      <th>5</th>\n",
       "      <td>Mayer</td>\n",
       "      <td>Arizona</td>\n",
       "      <td>249.0</td>\n",
       "      <td>34.383300</td>\n",
       "      <td>-112.233300</td>\n",
       "    </tr>\n",
       "    <tr>\n",
       "      <th>6</th>\n",
       "      <td>Merced</td>\n",
       "      <td>California</td>\n",
       "      <td>4081.0</td>\n",
       "      <td>37.300000</td>\n",
       "      <td>-120.466700</td>\n",
       "    </tr>\n",
       "    <tr>\n",
       "      <th>7</th>\n",
       "      <td>Pinedale</td>\n",
       "      <td>California</td>\n",
       "      <td>4664.0</td>\n",
       "      <td>36.840000</td>\n",
       "      <td>-119.800000</td>\n",
       "    </tr>\n",
       "    <tr>\n",
       "      <th>8</th>\n",
       "      <td>Pomona</td>\n",
       "      <td>California</td>\n",
       "      <td>5272.0</td>\n",
       "      <td>34.050000</td>\n",
       "      <td>-117.750000</td>\n",
       "    </tr>\n",
       "    <tr>\n",
       "      <th>9</th>\n",
       "      <td>Portland (Pacific Int. Exposition Ground)</td>\n",
       "      <td>Oregon</td>\n",
       "      <td>3667.0</td>\n",
       "      <td>45.516700</td>\n",
       "      <td>-122.666700</td>\n",
       "    </tr>\n",
       "    <tr>\n",
       "      <th>10</th>\n",
       "      <td>Puyallup</td>\n",
       "      <td>Washington</td>\n",
       "      <td>7348.0</td>\n",
       "      <td>47.183300</td>\n",
       "      <td>-122.283300</td>\n",
       "    </tr>\n",
       "    <tr>\n",
       "      <th>11</th>\n",
       "      <td>Salinas</td>\n",
       "      <td>California</td>\n",
       "      <td>3555.0</td>\n",
       "      <td>36.666700</td>\n",
       "      <td>-121.650000</td>\n",
       "    </tr>\n",
       "    <tr>\n",
       "      <th>12</th>\n",
       "      <td>Santa Anita</td>\n",
       "      <td>California</td>\n",
       "      <td>18424.0</td>\n",
       "      <td>34.133300</td>\n",
       "      <td>-118.033300</td>\n",
       "    </tr>\n",
       "    <tr>\n",
       "      <th>13</th>\n",
       "      <td>Stockton</td>\n",
       "      <td>California</td>\n",
       "      <td>4178.0</td>\n",
       "      <td>37.950000</td>\n",
       "      <td>-121.283300</td>\n",
       "    </tr>\n",
       "    <tr>\n",
       "      <th>14</th>\n",
       "      <td>Tanforan</td>\n",
       "      <td>California</td>\n",
       "      <td>7694.0</td>\n",
       "      <td>37.616700</td>\n",
       "      <td>-122.400000</td>\n",
       "    </tr>\n",
       "    <tr>\n",
       "      <th>15</th>\n",
       "      <td>Tulare</td>\n",
       "      <td>California</td>\n",
       "      <td>4915.0</td>\n",
       "      <td>36.200000</td>\n",
       "      <td>-119.333300</td>\n",
       "    </tr>\n",
       "    <tr>\n",
       "      <th>16</th>\n",
       "      <td>Turlock</td>\n",
       "      <td>California</td>\n",
       "      <td>3553.0</td>\n",
       "      <td>37.483300</td>\n",
       "      <td>-120.833300</td>\n",
       "    </tr>\n",
       "  </tbody>\n",
       "</table>\n",
       "</div>"
      ],
      "text/plain": [
       "                                     Location       State  Number of People  \\\n",
       "0                        Sacramento (Walerga)  California            4598.0   \n",
       "2                     Manzanar (Up to 6/1/42)  California            9564.0   \n",
       "3                                      Fresno  California            5069.0   \n",
       "4                         Marysville (Arboga)  California            2406.0   \n",
       "5                                       Mayer     Arizona             249.0   \n",
       "6                                      Merced  California            4081.0   \n",
       "7                                    Pinedale  California            4664.0   \n",
       "8                                      Pomona  California            5272.0   \n",
       "9   Portland (Pacific Int. Exposition Ground)      Oregon            3667.0   \n",
       "10                                   Puyallup  Washington            7348.0   \n",
       "11                                    Salinas  California            3555.0   \n",
       "12                                Santa Anita  California           18424.0   \n",
       "13                                   Stockton  California            4178.0   \n",
       "14                                   Tanforan  California            7694.0   \n",
       "15                                     Tulare  California            4915.0   \n",
       "16                                    Turlock  California            3553.0   \n",
       "\n",
       "     Latitude   Longitude  \n",
       "0   38.566700 -121.483300  \n",
       "2   36.728333 -118.154444  \n",
       "3   36.733300 -119.766700  \n",
       "4   39.050000 -121.550050  \n",
       "5   34.383300 -112.233300  \n",
       "6   37.300000 -120.466700  \n",
       "7   36.840000 -119.800000  \n",
       "8   34.050000 -117.750000  \n",
       "9   45.516700 -122.666700  \n",
       "10  47.183300 -122.283300  \n",
       "11  36.666700 -121.650000  \n",
       "12  34.133300 -118.033300  \n",
       "13  37.950000 -121.283300  \n",
       "14  37.616700 -122.400000  \n",
       "15  36.200000 -119.333300  \n",
       "16  37.483300 -120.833300  "
      ]
     },
     "execution_count": 23,
     "metadata": {},
     "output_type": "execute_result"
    }
   ],
   "source": [
    "assembly = pd.read_csv('data/BehindBarbedWire_StoryMap_AssemblyCentersMap_Data.csv', error_bad_lines = False)\n",
    "assembly = assembly.dropna(subset=['Latitude', 'Longitude']).dropna(axis = 1)\n",
    "assembly['Number of People'] = assembly['Number of People'].astype(float)\n",
    "assembly"
   ]
  },
  {
   "cell_type": "markdown",
   "metadata": {},
   "source": [
    "The **population1940_1945** table has a list of counties that Japanese Americans lived in in 1940 and 1945. A separate column calculates the percent that returned to the county that they were from."
   ]
  },
  {
   "cell_type": "code",
   "execution_count": 24,
   "metadata": {
    "scrolled": true
   },
   "outputs": [
    {
     "data": {
      "text/html": [
       "<div>\n",
       "<style scoped>\n",
       "    .dataframe tbody tr th:only-of-type {\n",
       "        vertical-align: middle;\n",
       "    }\n",
       "\n",
       "    .dataframe tbody tr th {\n",
       "        vertical-align: top;\n",
       "    }\n",
       "\n",
       "    .dataframe thead th {\n",
       "        text-align: right;\n",
       "    }\n",
       "</style>\n",
       "<table border=\"1\" class=\"dataframe\">\n",
       "  <thead>\n",
       "    <tr style=\"text-align: right;\">\n",
       "      <th></th>\n",
       "      <th>County</th>\n",
       "      <th>State</th>\n",
       "      <th>1940</th>\n",
       "      <th>1945</th>\n",
       "      <th>% returned</th>\n",
       "      <th>Latitude</th>\n",
       "      <th>Longitude</th>\n",
       "    </tr>\n",
       "  </thead>\n",
       "  <tbody>\n",
       "    <tr>\n",
       "      <th>0</th>\n",
       "      <td>Alameda</td>\n",
       "      <td>CA</td>\n",
       "      <td>5167</td>\n",
       "      <td>2703</td>\n",
       "      <td>52.3</td>\n",
       "      <td>37.779872</td>\n",
       "      <td>-122.282185</td>\n",
       "    </tr>\n",
       "    <tr>\n",
       "      <th>1</th>\n",
       "      <td>Amador</td>\n",
       "      <td>CA</td>\n",
       "      <td>2</td>\n",
       "      <td>0</td>\n",
       "      <td>0.0</td>\n",
       "      <td>37.667910</td>\n",
       "      <td>-121.873914</td>\n",
       "    </tr>\n",
       "    <tr>\n",
       "      <th>2</th>\n",
       "      <td>Butte</td>\n",
       "      <td>CA</td>\n",
       "      <td>216</td>\n",
       "      <td>107</td>\n",
       "      <td>49.5</td>\n",
       "      <td>46.003823</td>\n",
       "      <td>-112.534777</td>\n",
       "    </tr>\n",
       "    <tr>\n",
       "      <th>3</th>\n",
       "      <td>Calaveras</td>\n",
       "      <td>CA</td>\n",
       "      <td>6</td>\n",
       "      <td>0</td>\n",
       "      <td>0.0</td>\n",
       "      <td>36.159706</td>\n",
       "      <td>-95.958341</td>\n",
       "    </tr>\n",
       "    <tr>\n",
       "      <th>4</th>\n",
       "      <td>Colusa</td>\n",
       "      <td>CA</td>\n",
       "      <td>155</td>\n",
       "      <td>48</td>\n",
       "      <td>31.0</td>\n",
       "      <td>39.214334</td>\n",
       "      <td>-122.009417</td>\n",
       "    </tr>\n",
       "  </tbody>\n",
       "</table>\n",
       "</div>"
      ],
      "text/plain": [
       "      County State  1940  1945  % returned   Latitude   Longitude\n",
       "0    Alameda    CA  5167  2703        52.3  37.779872 -122.282185\n",
       "1     Amador    CA     2     0         0.0  37.667910 -121.873914\n",
       "2      Butte    CA   216   107        49.5  46.003823 -112.534777\n",
       "3  Calaveras    CA     6     0         0.0  36.159706  -95.958341\n",
       "4     Colusa    CA   155    48        31.0  39.214334 -122.009417"
      ]
     },
     "execution_count": 24,
     "metadata": {},
     "output_type": "execute_result"
    }
   ],
   "source": [
    "population1940_1945 = pd.read_csv(\"data/JapaneseAmericanPopulation_1940_1945_LL.csv\", error_bad_lines = False)\n",
    "population1940_1945.head()"
   ]
  },
  {
   "cell_type": "markdown",
   "metadata": {},
   "source": [
    "# Section 1: Data Exploration and Visualization"
   ]
  },
  {
   "cell_type": "markdown",
   "metadata": {},
   "source": [
    "Sometimes numbers don't always add up. We have two separate tables with data about the internment camps, collected by two separate organizations. Say we try to compare the maximum population of the Manzanar camps from both tables."
   ]
  },
  {
   "cell_type": "code",
   "execution_count": 25,
   "metadata": {},
   "outputs": [
    {
     "name": "stdout",
     "output_type": "stream",
     "text": [
      "Camps Data: 10046\n",
      "Popuation by Month Data: 10256\n"
     ]
    }
   ],
   "source": [
    "pop_by_month_max = pop_by_month['Manzanar'].max()\n",
    "camps_max = int(camps[camps['Internment Camp Name'] == 'Manzanar Relocation Center']['Maximum Population'])\n",
    "print('Camps Data:',  camps_max)\n",
    "print('Popuation by Month Data:' ,  pop_by_month_max)\n",
    "#Are the two numbers equal?"
   ]
  },
  {
   "cell_type": "markdown",
   "metadata": {},
   "source": [
    "The two numbers don't equal each other! The **pop_by_month** table says that the maximum population of Manzanar was 10,256, while the camps table says that the maximum was 10,046 people. While this isn't a huge difference, it's important to remember that there can be error in your datasets, and not to take any one dataset as complete and total fact. "
   ]
  },
  {
   "cell_type": "markdown",
   "metadata": {},
   "source": [
    "Now we can look at the data and start to see beyond the numbers. **This over-laid line plot compares the change in populations of the camps by month.** "
   ]
  },
  {
   "cell_type": "code",
   "execution_count": 26,
   "metadata": {},
   "outputs": [
    {
     "data": {
      "application/vnd.plotly.v1+json": {
       "config": {
        "plotlyServerURL": "https://plot.ly"
       },
       "data": [
        {
         "hoverlabel": {
          "namelength": 0
         },
         "hovertemplate": "Camp=Topaz/Central Utah<br>Date=%{x}<br>Population=%{y}",
         "legendgroup": "Camp=Topaz/Central Utah",
         "line": {
          "color": "#636efa",
          "dash": "solid"
         },
         "mode": "lines",
         "name": "Camp=Topaz/Central Utah",
         "showlegend": true,
         "type": "scatter",
         "x": [
          "1942-06-01T00:00:00",
          "1942-07-01T00:00:00",
          "1942-08-01T00:00:00",
          "1942-09-01T00:00:00",
          "1942-10-01T00:00:00",
          "1942-11-01T00:00:00",
          "1942-12-01T00:00:00",
          "1943-01-01T00:00:00",
          "1943-02-01T00:00:00",
          "1943-03-01T00:00:00",
          "1943-04-01T00:00:00",
          "1943-05-01T00:00:00",
          "1943-06-01T00:00:00",
          "1943-07-01T00:00:00",
          "1943-08-01T00:00:00",
          "1943-09-01T00:00:00",
          "1943-10-01T00:00:00",
          "1943-11-01T00:00:00",
          "1943-12-01T00:00:00",
          "1944-01-01T00:00:00",
          "1944-02-01T00:00:00",
          "1944-03-01T00:00:00",
          "1944-04-01T00:00:00",
          "1944-05-01T00:00:00",
          "1944-06-01T00:00:00",
          "1944-07-01T00:00:00",
          "1944-08-01T00:00:00",
          "1944-09-01T00:00:00",
          "1944-10-01T00:00:00",
          "1944-11-01T00:00:00",
          "1944-12-01T00:00:00",
          "1945-01-01T00:00:00",
          "1945-02-01T00:00:00",
          "1945-03-01T00:00:00",
          "1945-04-01T00:00:00",
          "1945-05-01T00:00:00",
          "1945-06-01T00:00:00",
          "1945-07-01T00:00:00",
          "1945-08-01T00:00:00",
          "1945-09-01T00:00:00",
          "1945-10-01T00:00:00",
          "1945-11-01T00:00:00",
          "1945-12-01T00:00:00",
          "1946-01-01T00:00:00",
          "1946-02-01T00:00:00",
          "1946-03-01T00:00:00"
         ],
         "xaxis": "x",
         "y": [
          0,
          0,
          0,
          0,
          5806,
          8320,
          8294,
          8232,
          8214,
          8152,
          8332,
          8189,
          8018,
          7862,
          7809,
          7682,
          7608,
          7554,
          7585,
          7559,
          7438,
          7350,
          7227,
          7084,
          6879,
          6727,
          6621,
          6426,
          6280,
          6125,
          6026,
          5984,
          5883,
          5742,
          5589,
          5413,
          5165,
          4645,
          4176,
          3339,
          1899,
          0,
          0,
          0,
          0,
          0
         ],
         "yaxis": "y"
        },
        {
         "hoverlabel": {
          "namelength": 0
         },
         "hovertemplate": "Camp=Poston/Colorado River<br>Date=%{x}<br>Population=%{y}",
         "legendgroup": "Camp=Poston/Colorado River",
         "line": {
          "color": "#EF553B",
          "dash": "solid"
         },
         "mode": "lines",
         "name": "Camp=Poston/Colorado River",
         "showlegend": true,
         "type": "scatter",
         "x": [
          "1942-06-01T00:00:00",
          "1942-07-01T00:00:00",
          "1942-08-01T00:00:00",
          "1942-09-01T00:00:00",
          "1942-10-01T00:00:00",
          "1942-11-01T00:00:00",
          "1942-12-01T00:00:00",
          "1943-01-01T00:00:00",
          "1943-02-01T00:00:00",
          "1943-03-01T00:00:00",
          "1943-04-01T00:00:00",
          "1943-05-01T00:00:00",
          "1943-06-01T00:00:00",
          "1943-07-01T00:00:00",
          "1943-08-01T00:00:00",
          "1943-09-01T00:00:00",
          "1943-10-01T00:00:00",
          "1943-11-01T00:00:00",
          "1943-12-01T00:00:00",
          "1944-01-01T00:00:00",
          "1944-02-01T00:00:00",
          "1944-03-01T00:00:00",
          "1944-04-01T00:00:00",
          "1944-05-01T00:00:00",
          "1944-06-01T00:00:00",
          "1944-07-01T00:00:00",
          "1944-08-01T00:00:00",
          "1944-09-01T00:00:00",
          "1944-10-01T00:00:00",
          "1944-11-01T00:00:00",
          "1944-12-01T00:00:00",
          "1945-01-01T00:00:00",
          "1945-02-01T00:00:00",
          "1945-03-01T00:00:00",
          "1945-04-01T00:00:00",
          "1945-05-01T00:00:00",
          "1945-06-01T00:00:00",
          "1945-07-01T00:00:00",
          "1945-08-01T00:00:00",
          "1945-09-01T00:00:00",
          "1945-10-01T00:00:00",
          "1945-11-01T00:00:00",
          "1945-12-01T00:00:00",
          "1946-01-01T00:00:00",
          "1946-02-01T00:00:00",
          "1946-03-01T00:00:00"
         ],
         "xaxis": "x",
         "y": [
          7281,
          8755,
          13262,
          17818,
          17847,
          17877,
          17965,
          8039,
          18025,
          17984,
          17941,
          17741,
          17406,
          16995,
          16671,
          16279,
          16013,
          14470,
          14372,
          14295,
          14109,
          13876,
          13453,
          13241,
          13021,
          12725,
          12517,
          12152,
          12059,
          11881,
          11751,
          11710,
          11480,
          11251,
          10828,
          10421,
          9979,
          9386,
          8750,
          6828,
          2730,
          1088,
          0,
          0,
          0,
          0
         ],
         "yaxis": "y"
        },
        {
         "hoverlabel": {
          "namelength": 0
         },
         "hovertemplate": "Camp=Gila River<br>Date=%{x}<br>Population=%{y}",
         "legendgroup": "Camp=Gila River",
         "line": {
          "color": "#00cc96",
          "dash": "solid"
         },
         "mode": "lines",
         "name": "Camp=Gila River",
         "showlegend": true,
         "type": "scatter",
         "x": [
          "1942-06-01T00:00:00",
          "1942-07-01T00:00:00",
          "1942-08-01T00:00:00",
          "1942-09-01T00:00:00",
          "1942-10-01T00:00:00",
          "1942-11-01T00:00:00",
          "1942-12-01T00:00:00",
          "1943-01-01T00:00:00",
          "1943-02-01T00:00:00",
          "1943-03-01T00:00:00",
          "1943-04-01T00:00:00",
          "1943-05-01T00:00:00",
          "1943-06-01T00:00:00",
          "1943-07-01T00:00:00",
          "1943-08-01T00:00:00",
          "1943-09-01T00:00:00",
          "1943-10-01T00:00:00",
          "1943-11-01T00:00:00",
          "1943-12-01T00:00:00",
          "1944-01-01T00:00:00",
          "1944-02-01T00:00:00",
          "1944-03-01T00:00:00",
          "1944-04-01T00:00:00",
          "1944-05-01T00:00:00",
          "1944-06-01T00:00:00",
          "1944-07-01T00:00:00",
          "1944-08-01T00:00:00",
          "1944-09-01T00:00:00",
          "1944-10-01T00:00:00",
          "1944-11-01T00:00:00",
          "1944-12-01T00:00:00",
          "1945-01-01T00:00:00",
          "1945-02-01T00:00:00",
          "1945-03-01T00:00:00",
          "1945-04-01T00:00:00",
          "1945-05-01T00:00:00",
          "1945-06-01T00:00:00",
          "1945-07-01T00:00:00",
          "1945-08-01T00:00:00",
          "1945-09-01T00:00:00",
          "1945-10-01T00:00:00",
          "1945-11-01T00:00:00",
          "1945-12-01T00:00:00",
          "1946-01-01T00:00:00",
          "1946-02-01T00:00:00",
          "1946-03-01T00:00:00"
         ],
         "xaxis": "x",
         "y": [
          0,
          0,
          2106,
          9150,
          11555,
          13368,
          13368,
          13420,
          13411,
          13374,
          13372,
          13224,
          12954,
          12683,
          12542,
          12251,
          12056,
          10017,
          9898,
          9869,
          9800,
          9655,
          9419,
          9199,
          8788,
          10531,
          10291,
          9951,
          9651,
          9550,
          9534,
          9550,
          9432,
          9207,
          8988,
          8716,
          8319,
          7684,
          6765,
          5141,
          2760,
          754,
          0,
          0,
          0,
          0
         ],
         "yaxis": "y"
        },
        {
         "hoverlabel": {
          "namelength": 0
         },
         "hovertemplate": "Camp=Granada<br>Date=%{x}<br>Population=%{y}",
         "legendgroup": "Camp=Granada",
         "line": {
          "color": "#ab63fa",
          "dash": "solid"
         },
         "mode": "lines",
         "name": "Camp=Granada",
         "showlegend": true,
         "type": "scatter",
         "x": [
          "1942-06-01T00:00:00",
          "1942-07-01T00:00:00",
          "1942-08-01T00:00:00",
          "1942-09-01T00:00:00",
          "1942-10-01T00:00:00",
          "1942-11-01T00:00:00",
          "1942-12-01T00:00:00",
          "1943-01-01T00:00:00",
          "1943-02-01T00:00:00",
          "1943-03-01T00:00:00",
          "1943-04-01T00:00:00",
          "1943-05-01T00:00:00",
          "1943-06-01T00:00:00",
          "1943-07-01T00:00:00",
          "1943-08-01T00:00:00",
          "1943-09-01T00:00:00",
          "1943-10-01T00:00:00",
          "1943-11-01T00:00:00",
          "1943-12-01T00:00:00",
          "1944-01-01T00:00:00",
          "1944-02-01T00:00:00",
          "1944-03-01T00:00:00",
          "1944-04-01T00:00:00",
          "1944-05-01T00:00:00",
          "1944-06-01T00:00:00",
          "1944-07-01T00:00:00",
          "1944-08-01T00:00:00",
          "1944-09-01T00:00:00",
          "1944-10-01T00:00:00",
          "1944-11-01T00:00:00",
          "1944-12-01T00:00:00",
          "1945-01-01T00:00:00",
          "1945-02-01T00:00:00",
          "1945-03-01T00:00:00",
          "1945-04-01T00:00:00",
          "1945-05-01T00:00:00",
          "1945-06-01T00:00:00",
          "1945-07-01T00:00:00",
          "1945-08-01T00:00:00",
          "1945-09-01T00:00:00",
          "1945-10-01T00:00:00",
          "1945-11-01T00:00:00",
          "1945-12-01T00:00:00",
          "1946-01-01T00:00:00",
          "1946-02-01T00:00:00",
          "1946-03-01T00:00:00"
         ],
         "xaxis": "x",
         "y": [
          0,
          0,
          0,
          212,
          7480,
          7654,
          7651,
          7656,
          7622,
          7619,
          7476,
          7222,
          7016,
          6931,
          3876,
          6764,
          7494,
          7368,
          7393,
          7355,
          7176,
          6983,
          6786,
          6685,
          6424,
          6816,
          6664,
          6490,
          6403,
          6371,
          6311,
          6255,
          6177,
          6035,
          5805,
          5411,
          4980,
          4256,
          3758,
          3155,
          1379,
          0,
          0,
          0,
          0,
          0
         ],
         "yaxis": "y"
        },
        {
         "hoverlabel": {
          "namelength": 0
         },
         "hovertemplate": "Camp=Heart Mountain<br>Date=%{x}<br>Population=%{y}",
         "legendgroup": "Camp=Heart Mountain",
         "line": {
          "color": "#FFA15A",
          "dash": "solid"
         },
         "mode": "lines",
         "name": "Camp=Heart Mountain",
         "showlegend": true,
         "type": "scatter",
         "x": [
          "1942-06-01T00:00:00",
          "1942-07-01T00:00:00",
          "1942-08-01T00:00:00",
          "1942-09-01T00:00:00",
          "1942-10-01T00:00:00",
          "1942-11-01T00:00:00",
          "1942-12-01T00:00:00",
          "1943-01-01T00:00:00",
          "1943-02-01T00:00:00",
          "1943-03-01T00:00:00",
          "1943-04-01T00:00:00",
          "1943-05-01T00:00:00",
          "1943-06-01T00:00:00",
          "1943-07-01T00:00:00",
          "1943-08-01T00:00:00",
          "1943-09-01T00:00:00",
          "1943-10-01T00:00:00",
          "1943-11-01T00:00:00",
          "1943-12-01T00:00:00",
          "1944-01-01T00:00:00",
          "1944-02-01T00:00:00",
          "1944-03-01T00:00:00",
          "1944-04-01T00:00:00",
          "1944-05-01T00:00:00",
          "1944-06-01T00:00:00",
          "1944-07-01T00:00:00",
          "1944-08-01T00:00:00",
          "1944-09-01T00:00:00",
          "1944-10-01T00:00:00",
          "1944-11-01T00:00:00",
          "1944-12-01T00:00:00",
          "1945-01-01T00:00:00",
          "1945-02-01T00:00:00",
          "1945-03-01T00:00:00",
          "1945-04-01T00:00:00",
          "1945-05-01T00:00:00",
          "1945-06-01T00:00:00",
          "1945-07-01T00:00:00",
          "1945-08-01T00:00:00",
          "1945-09-01T00:00:00",
          "1945-10-01T00:00:00",
          "1945-11-01T00:00:00",
          "1945-12-01T00:00:00",
          "1946-01-01T00:00:00",
          "1946-02-01T00:00:00",
          "1946-03-01T00:00:00"
         ],
         "xaxis": "x",
         "y": [
          0,
          0,
          0,
          5758,
          10813,
          11107,
          11105,
          11062,
          11006,
          10959,
          10886,
          10724,
          10520,
          10307,
          10178,
          10073,
          10509,
          10426,
          10406,
          10388,
          10242,
          10112,
          9962,
          9760,
          9420,
          9712,
          9433,
          9241,
          9035,
          8886,
          8669,
          8537,
          8445,
          8213,
          7997,
          7556,
          7084,
          6325,
          5714,
          4611,
          3312,
          1156,
          0,
          0,
          0,
          0
         ],
         "yaxis": "y"
        },
        {
         "hoverlabel": {
          "namelength": 0
         },
         "hovertemplate": "Camp=Jerome<br>Date=%{x}<br>Population=%{y}",
         "legendgroup": "Camp=Jerome",
         "line": {
          "color": "#19d3f3",
          "dash": "solid"
         },
         "mode": "lines",
         "name": "Camp=Jerome",
         "showlegend": true,
         "type": "scatter",
         "x": [
          "1942-06-01T00:00:00",
          "1942-07-01T00:00:00",
          "1942-08-01T00:00:00",
          "1942-09-01T00:00:00",
          "1942-10-01T00:00:00",
          "1942-11-01T00:00:00",
          "1942-12-01T00:00:00",
          "1943-01-01T00:00:00",
          "1943-02-01T00:00:00",
          "1943-03-01T00:00:00",
          "1943-04-01T00:00:00",
          "1943-05-01T00:00:00",
          "1943-06-01T00:00:00",
          "1943-07-01T00:00:00",
          "1943-08-01T00:00:00",
          "1943-09-01T00:00:00",
          "1943-10-01T00:00:00",
          "1943-11-01T00:00:00",
          "1943-12-01T00:00:00",
          "1944-01-01T00:00:00",
          "1944-02-01T00:00:00",
          "1944-03-01T00:00:00",
          "1944-04-01T00:00:00",
          "1944-05-01T00:00:00",
          "1944-06-01T00:00:00",
          "1944-07-01T00:00:00",
          "1944-08-01T00:00:00",
          "1944-09-01T00:00:00",
          "1944-10-01T00:00:00",
          "1944-11-01T00:00:00",
          "1944-12-01T00:00:00",
          "1945-01-01T00:00:00",
          "1945-02-01T00:00:00",
          "1945-03-01T00:00:00",
          "1945-04-01T00:00:00",
          "1945-05-01T00:00:00",
          "1945-06-01T00:00:00",
          "1945-07-01T00:00:00",
          "1945-08-01T00:00:00",
          "1945-09-01T00:00:00",
          "1945-10-01T00:00:00",
          "1945-11-01T00:00:00",
          "1945-12-01T00:00:00",
          "1946-01-01T00:00:00",
          "1946-02-01T00:00:00",
          "1946-03-01T00:00:00"
         ],
         "xaxis": "x",
         "y": [
          0,
          0,
          0,
          0,
          0,
          7039,
          7925,
          7932,
          8354,
          8587,
          8526,
          8350,
          8182,
          7972,
          7808,
          7649,
          6899,
          6787,
          6726,
          6700,
          6632,
          6537,
          6529,
          6467,
          5601,
          4,
          4,
          4,
          3,
          3,
          3,
          3,
          2,
          2,
          0,
          0,
          0,
          0,
          0,
          0,
          0,
          0,
          0,
          0,
          0,
          0
         ],
         "yaxis": "y"
        },
        {
         "hoverlabel": {
          "namelength": 0
         },
         "hovertemplate": "Camp=Manzanar<br>Date=%{x}<br>Population=%{y}",
         "legendgroup": "Camp=Manzanar",
         "line": {
          "color": "#FF6692",
          "dash": "solid"
         },
         "mode": "lines",
         "name": "Camp=Manzanar",
         "showlegend": true,
         "type": "scatter",
         "x": [
          "1942-06-01T00:00:00",
          "1942-07-01T00:00:00",
          "1942-08-01T00:00:00",
          "1942-09-01T00:00:00",
          "1942-10-01T00:00:00",
          "1942-11-01T00:00:00",
          "1942-12-01T00:00:00",
          "1943-01-01T00:00:00",
          "1943-02-01T00:00:00",
          "1943-03-01T00:00:00",
          "1943-04-01T00:00:00",
          "1943-05-01T00:00:00",
          "1943-06-01T00:00:00",
          "1943-07-01T00:00:00",
          "1943-08-01T00:00:00",
          "1943-09-01T00:00:00",
          "1943-10-01T00:00:00",
          "1943-11-01T00:00:00",
          "1943-12-01T00:00:00",
          "1944-01-01T00:00:00",
          "1944-02-01T00:00:00",
          "1944-03-01T00:00:00",
          "1944-04-01T00:00:00",
          "1944-05-01T00:00:00",
          "1944-06-01T00:00:00",
          "1944-07-01T00:00:00",
          "1944-08-01T00:00:00",
          "1944-09-01T00:00:00",
          "1944-10-01T00:00:00",
          "1944-11-01T00:00:00",
          "1944-12-01T00:00:00",
          "1945-01-01T00:00:00",
          "1945-02-01T00:00:00",
          "1945-03-01T00:00:00",
          "1945-04-01T00:00:00",
          "1945-05-01T00:00:00",
          "1945-06-01T00:00:00",
          "1945-07-01T00:00:00",
          "1945-08-01T00:00:00",
          "1945-09-01T00:00:00",
          "1945-10-01T00:00:00",
          "1945-11-01T00:00:00",
          "1945-12-01T00:00:00",
          "1946-01-01T00:00:00",
          "1946-02-01T00:00:00",
          "1946-03-01T00:00:00"
         ],
         "xaxis": "x",
         "y": [
          9666,
          9840,
          9928,
          10072,
          10256,
          10181,
          10177,
          10121,
          10079,
          9796,
          9707,
          9496,
          9272,
          9197,
          9163,
          9105,
          9045,
          8701,
          8621,
          8643,
          8580,
          6655,
          6565,
          6456,
          6341,
          6232,
          6138,
          6057,
          5939,
          5836,
          5668,
          5588,
          5522,
          5435,
          5298,
          5030,
          4658,
          4248,
          3994,
          3552,
          2891,
          1146,
          0,
          0,
          0,
          0
         ],
         "yaxis": "y"
        },
        {
         "hoverlabel": {
          "namelength": 0
         },
         "hovertemplate": "Camp=Minidoka<br>Date=%{x}<br>Population=%{y}",
         "legendgroup": "Camp=Minidoka",
         "line": {
          "color": "#B6E880",
          "dash": "solid"
         },
         "mode": "lines",
         "name": "Camp=Minidoka",
         "showlegend": true,
         "type": "scatter",
         "x": [
          "1942-06-01T00:00:00",
          "1942-07-01T00:00:00",
          "1942-08-01T00:00:00",
          "1942-09-01T00:00:00",
          "1942-10-01T00:00:00",
          "1942-11-01T00:00:00",
          "1942-12-01T00:00:00",
          "1943-01-01T00:00:00",
          "1943-02-01T00:00:00",
          "1943-03-01T00:00:00",
          "1943-04-01T00:00:00",
          "1943-05-01T00:00:00",
          "1943-06-01T00:00:00",
          "1943-07-01T00:00:00",
          "1943-08-01T00:00:00",
          "1943-09-01T00:00:00",
          "1943-10-01T00:00:00",
          "1943-11-01T00:00:00",
          "1943-12-01T00:00:00",
          "1944-01-01T00:00:00",
          "1944-02-01T00:00:00",
          "1944-03-01T00:00:00",
          "1944-04-01T00:00:00",
          "1944-05-01T00:00:00",
          "1944-06-01T00:00:00",
          "1944-07-01T00:00:00",
          "1944-08-01T00:00:00",
          "1944-09-01T00:00:00",
          "1944-10-01T00:00:00",
          "1944-11-01T00:00:00",
          "1944-12-01T00:00:00",
          "1945-01-01T00:00:00",
          "1945-02-01T00:00:00",
          "1945-03-01T00:00:00",
          "1945-04-01T00:00:00",
          "1945-05-01T00:00:00",
          "1945-06-01T00:00:00",
          "1945-07-01T00:00:00",
          "1945-08-01T00:00:00",
          "1945-09-01T00:00:00",
          "1945-10-01T00:00:00",
          "1945-11-01T00:00:00",
          "1945-12-01T00:00:00",
          "1946-01-01T00:00:00",
          "1946-02-01T00:00:00",
          "1946-03-01T00:00:00"
         ],
         "xaxis": "x",
         "y": [
          0,
          0,
          0,
          4840,
          9200,
          9846,
          9849,
          9861,
          9814,
          9924,
          9772,
          9401,
          8989,
          8752,
          8556,
          8325,
          9530,
          9419,
          9492,
          9461,
          9374,
          9288,
          9027,
          8856,
          8514,
          8335,
          8160,
          8099,
          7972,
          7976,
          7867,
          7770,
          7574,
          7373,
          6851,
          6382,
          5615,
          4937,
          4330,
          3218,
          1482,
          0,
          0,
          0,
          0,
          0
         ],
         "yaxis": "y"
        },
        {
         "hoverlabel": {
          "namelength": 0
         },
         "hovertemplate": "Camp=Rohwer<br>Date=%{x}<br>Population=%{y}",
         "legendgroup": "Camp=Rohwer",
         "line": {
          "color": "#FF97FF",
          "dash": "solid"
         },
         "mode": "lines",
         "name": "Camp=Rohwer",
         "showlegend": true,
         "type": "scatter",
         "x": [
          "1942-06-01T00:00:00",
          "1942-07-01T00:00:00",
          "1942-08-01T00:00:00",
          "1942-09-01T00:00:00",
          "1942-10-01T00:00:00",
          "1942-11-01T00:00:00",
          "1942-12-01T00:00:00",
          "1943-01-01T00:00:00",
          "1943-02-01T00:00:00",
          "1943-03-01T00:00:00",
          "1943-04-01T00:00:00",
          "1943-05-01T00:00:00",
          "1943-06-01T00:00:00",
          "1943-07-01T00:00:00",
          "1943-08-01T00:00:00",
          "1943-09-01T00:00:00",
          "1943-10-01T00:00:00",
          "1943-11-01T00:00:00",
          "1943-12-01T00:00:00",
          "1944-01-01T00:00:00",
          "1944-02-01T00:00:00",
          "1944-03-01T00:00:00",
          "1944-04-01T00:00:00",
          "1944-05-01T00:00:00",
          "1944-06-01T00:00:00",
          "1944-07-01T00:00:00",
          "1944-08-01T00:00:00",
          "1944-09-01T00:00:00",
          "1944-10-01T00:00:00",
          "1944-11-01T00:00:00",
          "1944-12-01T00:00:00",
          "1945-01-01T00:00:00",
          "1945-02-01T00:00:00",
          "1945-03-01T00:00:00",
          "1945-04-01T00:00:00",
          "1945-05-01T00:00:00",
          "1945-06-01T00:00:00",
          "1945-07-01T00:00:00",
          "1945-08-01T00:00:00",
          "1945-09-01T00:00:00",
          "1945-10-01T00:00:00",
          "1945-11-01T00:00:00",
          "1945-12-01T00:00:00",
          "1946-01-01T00:00:00",
          "1946-02-01T00:00:00",
          "1946-03-01T00:00:00"
         ],
         "xaxis": "x",
         "y": [
          0,
          0,
          0,
          0,
          2265,
          8407,
          8515,
          8548,
          8538,
          8528,
          8478,
          8286,
          8061,
          7895,
          7781,
          7552,
          7123,
          6731,
          6676,
          6676,
          6600,
          6514,
          6375,
          6248,
          5479,
          7623,
          7279,
          6900,
          6764,
          6700,
          6689,
          6747,
          6697,
          6563,
          6339,
          5991,
          5447,
          4910,
          4098,
          3332,
          2175,
          1804,
          0,
          0,
          0,
          0
         ],
         "yaxis": "y"
        },
        {
         "hoverlabel": {
          "namelength": 0
         },
         "hovertemplate": "Camp=Tule Lake<br>Date=%{x}<br>Population=%{y}",
         "legendgroup": "Camp=Tule Lake",
         "line": {
          "color": "#FECB52",
          "dash": "solid"
         },
         "mode": "lines",
         "name": "Camp=Tule Lake",
         "showlegend": true,
         "type": "scatter",
         "x": [
          "1942-06-01T00:00:00",
          "1942-07-01T00:00:00",
          "1942-08-01T00:00:00",
          "1942-09-01T00:00:00",
          "1942-10-01T00:00:00",
          "1942-11-01T00:00:00",
          "1942-12-01T00:00:00",
          "1943-01-01T00:00:00",
          "1943-02-01T00:00:00",
          "1943-03-01T00:00:00",
          "1943-04-01T00:00:00",
          "1943-05-01T00:00:00",
          "1943-06-01T00:00:00",
          "1943-07-01T00:00:00",
          "1943-08-01T00:00:00",
          "1943-09-01T00:00:00",
          "1943-10-01T00:00:00",
          "1943-11-01T00:00:00",
          "1943-12-01T00:00:00",
          "1944-01-01T00:00:00",
          "1944-02-01T00:00:00",
          "1944-03-01T00:00:00",
          "1944-04-01T00:00:00",
          "1944-05-01T00:00:00",
          "1944-06-01T00:00:00",
          "1944-07-01T00:00:00",
          "1944-08-01T00:00:00",
          "1944-09-01T00:00:00",
          "1944-10-01T00:00:00",
          "1944-11-01T00:00:00",
          "1944-12-01T00:00:00",
          "1945-01-01T00:00:00",
          "1945-02-01T00:00:00",
          "1945-03-01T00:00:00",
          "1945-04-01T00:00:00",
          "1945-05-01T00:00:00",
          "1945-06-01T00:00:00",
          "1945-07-01T00:00:00",
          "1945-08-01T00:00:00",
          "1945-09-01T00:00:00",
          "1945-10-01T00:00:00",
          "1945-11-01T00:00:00",
          "1945-12-01T00:00:00",
          "1946-01-01T00:00:00",
          "1946-02-01T00:00:00",
          "1946-03-01T00:00:00"
         ],
         "xaxis": "x",
         "y": [
          446,
          9038,
          15020,
          15181,
          15277,
          15393,
          15311,
          15369,
          15274,
          15219,
          15124,
          15015,
          14828,
          14630,
          14484,
          14185,
          12183,
          16012,
          15671,
          15630,
          15625,
          17492,
          17580,
          16964,
          18652,
          18678,
          18709,
          18726,
          18728,
          18718,
          18770,
          18734,
          18593,
          17953,
          17864,
          17886,
          17879,
          17466,
          17366,
          17286,
          16740,
          15450,
          12628,
          7303,
          5046,
          2808
         ],
         "yaxis": "y"
        }
       ],
       "layout": {
        "height": 600,
        "legend": {
         "tracegroupgap": 0
        },
        "template": {
         "data": {
          "bar": [
           {
            "error_x": {
             "color": "#2a3f5f"
            },
            "error_y": {
             "color": "#2a3f5f"
            },
            "marker": {
             "line": {
              "color": "#E5ECF6",
              "width": 0.5
             }
            },
            "type": "bar"
           }
          ],
          "barpolar": [
           {
            "marker": {
             "line": {
              "color": "#E5ECF6",
              "width": 0.5
             }
            },
            "type": "barpolar"
           }
          ],
          "carpet": [
           {
            "aaxis": {
             "endlinecolor": "#2a3f5f",
             "gridcolor": "white",
             "linecolor": "white",
             "minorgridcolor": "white",
             "startlinecolor": "#2a3f5f"
            },
            "baxis": {
             "endlinecolor": "#2a3f5f",
             "gridcolor": "white",
             "linecolor": "white",
             "minorgridcolor": "white",
             "startlinecolor": "#2a3f5f"
            },
            "type": "carpet"
           }
          ],
          "choropleth": [
           {
            "colorbar": {
             "outlinewidth": 0,
             "ticks": ""
            },
            "type": "choropleth"
           }
          ],
          "contour": [
           {
            "colorbar": {
             "outlinewidth": 0,
             "ticks": ""
            },
            "colorscale": [
             [
              0,
              "#0d0887"
             ],
             [
              0.1111111111111111,
              "#46039f"
             ],
             [
              0.2222222222222222,
              "#7201a8"
             ],
             [
              0.3333333333333333,
              "#9c179e"
             ],
             [
              0.4444444444444444,
              "#bd3786"
             ],
             [
              0.5555555555555556,
              "#d8576b"
             ],
             [
              0.6666666666666666,
              "#ed7953"
             ],
             [
              0.7777777777777778,
              "#fb9f3a"
             ],
             [
              0.8888888888888888,
              "#fdca26"
             ],
             [
              1,
              "#f0f921"
             ]
            ],
            "type": "contour"
           }
          ],
          "contourcarpet": [
           {
            "colorbar": {
             "outlinewidth": 0,
             "ticks": ""
            },
            "type": "contourcarpet"
           }
          ],
          "heatmap": [
           {
            "colorbar": {
             "outlinewidth": 0,
             "ticks": ""
            },
            "colorscale": [
             [
              0,
              "#0d0887"
             ],
             [
              0.1111111111111111,
              "#46039f"
             ],
             [
              0.2222222222222222,
              "#7201a8"
             ],
             [
              0.3333333333333333,
              "#9c179e"
             ],
             [
              0.4444444444444444,
              "#bd3786"
             ],
             [
              0.5555555555555556,
              "#d8576b"
             ],
             [
              0.6666666666666666,
              "#ed7953"
             ],
             [
              0.7777777777777778,
              "#fb9f3a"
             ],
             [
              0.8888888888888888,
              "#fdca26"
             ],
             [
              1,
              "#f0f921"
             ]
            ],
            "type": "heatmap"
           }
          ],
          "heatmapgl": [
           {
            "colorbar": {
             "outlinewidth": 0,
             "ticks": ""
            },
            "colorscale": [
             [
              0,
              "#0d0887"
             ],
             [
              0.1111111111111111,
              "#46039f"
             ],
             [
              0.2222222222222222,
              "#7201a8"
             ],
             [
              0.3333333333333333,
              "#9c179e"
             ],
             [
              0.4444444444444444,
              "#bd3786"
             ],
             [
              0.5555555555555556,
              "#d8576b"
             ],
             [
              0.6666666666666666,
              "#ed7953"
             ],
             [
              0.7777777777777778,
              "#fb9f3a"
             ],
             [
              0.8888888888888888,
              "#fdca26"
             ],
             [
              1,
              "#f0f921"
             ]
            ],
            "type": "heatmapgl"
           }
          ],
          "histogram": [
           {
            "marker": {
             "colorbar": {
              "outlinewidth": 0,
              "ticks": ""
             }
            },
            "type": "histogram"
           }
          ],
          "histogram2d": [
           {
            "colorbar": {
             "outlinewidth": 0,
             "ticks": ""
            },
            "colorscale": [
             [
              0,
              "#0d0887"
             ],
             [
              0.1111111111111111,
              "#46039f"
             ],
             [
              0.2222222222222222,
              "#7201a8"
             ],
             [
              0.3333333333333333,
              "#9c179e"
             ],
             [
              0.4444444444444444,
              "#bd3786"
             ],
             [
              0.5555555555555556,
              "#d8576b"
             ],
             [
              0.6666666666666666,
              "#ed7953"
             ],
             [
              0.7777777777777778,
              "#fb9f3a"
             ],
             [
              0.8888888888888888,
              "#fdca26"
             ],
             [
              1,
              "#f0f921"
             ]
            ],
            "type": "histogram2d"
           }
          ],
          "histogram2dcontour": [
           {
            "colorbar": {
             "outlinewidth": 0,
             "ticks": ""
            },
            "colorscale": [
             [
              0,
              "#0d0887"
             ],
             [
              0.1111111111111111,
              "#46039f"
             ],
             [
              0.2222222222222222,
              "#7201a8"
             ],
             [
              0.3333333333333333,
              "#9c179e"
             ],
             [
              0.4444444444444444,
              "#bd3786"
             ],
             [
              0.5555555555555556,
              "#d8576b"
             ],
             [
              0.6666666666666666,
              "#ed7953"
             ],
             [
              0.7777777777777778,
              "#fb9f3a"
             ],
             [
              0.8888888888888888,
              "#fdca26"
             ],
             [
              1,
              "#f0f921"
             ]
            ],
            "type": "histogram2dcontour"
           }
          ],
          "mesh3d": [
           {
            "colorbar": {
             "outlinewidth": 0,
             "ticks": ""
            },
            "type": "mesh3d"
           }
          ],
          "parcoords": [
           {
            "line": {
             "colorbar": {
              "outlinewidth": 0,
              "ticks": ""
             }
            },
            "type": "parcoords"
           }
          ],
          "scatter": [
           {
            "marker": {
             "colorbar": {
              "outlinewidth": 0,
              "ticks": ""
             }
            },
            "type": "scatter"
           }
          ],
          "scatter3d": [
           {
            "line": {
             "colorbar": {
              "outlinewidth": 0,
              "ticks": ""
             }
            },
            "marker": {
             "colorbar": {
              "outlinewidth": 0,
              "ticks": ""
             }
            },
            "type": "scatter3d"
           }
          ],
          "scattercarpet": [
           {
            "marker": {
             "colorbar": {
              "outlinewidth": 0,
              "ticks": ""
             }
            },
            "type": "scattercarpet"
           }
          ],
          "scattergeo": [
           {
            "marker": {
             "colorbar": {
              "outlinewidth": 0,
              "ticks": ""
             }
            },
            "type": "scattergeo"
           }
          ],
          "scattergl": [
           {
            "marker": {
             "colorbar": {
              "outlinewidth": 0,
              "ticks": ""
             }
            },
            "type": "scattergl"
           }
          ],
          "scattermapbox": [
           {
            "marker": {
             "colorbar": {
              "outlinewidth": 0,
              "ticks": ""
             }
            },
            "type": "scattermapbox"
           }
          ],
          "scatterpolar": [
           {
            "marker": {
             "colorbar": {
              "outlinewidth": 0,
              "ticks": ""
             }
            },
            "type": "scatterpolar"
           }
          ],
          "scatterpolargl": [
           {
            "marker": {
             "colorbar": {
              "outlinewidth": 0,
              "ticks": ""
             }
            },
            "type": "scatterpolargl"
           }
          ],
          "scatterternary": [
           {
            "marker": {
             "colorbar": {
              "outlinewidth": 0,
              "ticks": ""
             }
            },
            "type": "scatterternary"
           }
          ],
          "surface": [
           {
            "colorbar": {
             "outlinewidth": 0,
             "ticks": ""
            },
            "colorscale": [
             [
              0,
              "#0d0887"
             ],
             [
              0.1111111111111111,
              "#46039f"
             ],
             [
              0.2222222222222222,
              "#7201a8"
             ],
             [
              0.3333333333333333,
              "#9c179e"
             ],
             [
              0.4444444444444444,
              "#bd3786"
             ],
             [
              0.5555555555555556,
              "#d8576b"
             ],
             [
              0.6666666666666666,
              "#ed7953"
             ],
             [
              0.7777777777777778,
              "#fb9f3a"
             ],
             [
              0.8888888888888888,
              "#fdca26"
             ],
             [
              1,
              "#f0f921"
             ]
            ],
            "type": "surface"
           }
          ],
          "table": [
           {
            "cells": {
             "fill": {
              "color": "#EBF0F8"
             },
             "line": {
              "color": "white"
             }
            },
            "header": {
             "fill": {
              "color": "#C8D4E3"
             },
             "line": {
              "color": "white"
             }
            },
            "type": "table"
           }
          ]
         },
         "layout": {
          "annotationdefaults": {
           "arrowcolor": "#2a3f5f",
           "arrowhead": 0,
           "arrowwidth": 1
          },
          "colorscale": {
           "diverging": [
            [
             0,
             "#8e0152"
            ],
            [
             0.1,
             "#c51b7d"
            ],
            [
             0.2,
             "#de77ae"
            ],
            [
             0.3,
             "#f1b6da"
            ],
            [
             0.4,
             "#fde0ef"
            ],
            [
             0.5,
             "#f7f7f7"
            ],
            [
             0.6,
             "#e6f5d0"
            ],
            [
             0.7,
             "#b8e186"
            ],
            [
             0.8,
             "#7fbc41"
            ],
            [
             0.9,
             "#4d9221"
            ],
            [
             1,
             "#276419"
            ]
           ],
           "sequential": [
            [
             0,
             "#0d0887"
            ],
            [
             0.1111111111111111,
             "#46039f"
            ],
            [
             0.2222222222222222,
             "#7201a8"
            ],
            [
             0.3333333333333333,
             "#9c179e"
            ],
            [
             0.4444444444444444,
             "#bd3786"
            ],
            [
             0.5555555555555556,
             "#d8576b"
            ],
            [
             0.6666666666666666,
             "#ed7953"
            ],
            [
             0.7777777777777778,
             "#fb9f3a"
            ],
            [
             0.8888888888888888,
             "#fdca26"
            ],
            [
             1,
             "#f0f921"
            ]
           ],
           "sequentialminus": [
            [
             0,
             "#0d0887"
            ],
            [
             0.1111111111111111,
             "#46039f"
            ],
            [
             0.2222222222222222,
             "#7201a8"
            ],
            [
             0.3333333333333333,
             "#9c179e"
            ],
            [
             0.4444444444444444,
             "#bd3786"
            ],
            [
             0.5555555555555556,
             "#d8576b"
            ],
            [
             0.6666666666666666,
             "#ed7953"
            ],
            [
             0.7777777777777778,
             "#fb9f3a"
            ],
            [
             0.8888888888888888,
             "#fdca26"
            ],
            [
             1,
             "#f0f921"
            ]
           ]
          },
          "colorway": [
           "#636efa",
           "#EF553B",
           "#00cc96",
           "#ab63fa",
           "#FFA15A",
           "#19d3f3",
           "#FF6692",
           "#B6E880",
           "#FF97FF",
           "#FECB52"
          ],
          "font": {
           "color": "#2a3f5f"
          },
          "geo": {
           "bgcolor": "white",
           "lakecolor": "white",
           "landcolor": "#E5ECF6",
           "showlakes": true,
           "showland": true,
           "subunitcolor": "white"
          },
          "hoverlabel": {
           "align": "left"
          },
          "hovermode": "closest",
          "mapbox": {
           "style": "light"
          },
          "paper_bgcolor": "white",
          "plot_bgcolor": "#E5ECF6",
          "polar": {
           "angularaxis": {
            "gridcolor": "white",
            "linecolor": "white",
            "ticks": ""
           },
           "bgcolor": "#E5ECF6",
           "radialaxis": {
            "gridcolor": "white",
            "linecolor": "white",
            "ticks": ""
           }
          },
          "scene": {
           "xaxis": {
            "backgroundcolor": "#E5ECF6",
            "gridcolor": "white",
            "gridwidth": 2,
            "linecolor": "white",
            "showbackground": true,
            "ticks": "",
            "zerolinecolor": "white"
           },
           "yaxis": {
            "backgroundcolor": "#E5ECF6",
            "gridcolor": "white",
            "gridwidth": 2,
            "linecolor": "white",
            "showbackground": true,
            "ticks": "",
            "zerolinecolor": "white"
           },
           "zaxis": {
            "backgroundcolor": "#E5ECF6",
            "gridcolor": "white",
            "gridwidth": 2,
            "linecolor": "white",
            "showbackground": true,
            "ticks": "",
            "zerolinecolor": "white"
           }
          },
          "shapedefaults": {
           "line": {
            "color": "#2a3f5f"
           }
          },
          "ternary": {
           "aaxis": {
            "gridcolor": "white",
            "linecolor": "white",
            "ticks": ""
           },
           "baxis": {
            "gridcolor": "white",
            "linecolor": "white",
            "ticks": ""
           },
           "bgcolor": "#E5ECF6",
           "caxis": {
            "gridcolor": "white",
            "linecolor": "white",
            "ticks": ""
           }
          },
          "title": {
           "x": 0.05
          },
          "xaxis": {
           "automargin": true,
           "gridcolor": "white",
           "linecolor": "white",
           "ticks": "",
           "zerolinecolor": "white",
           "zerolinewidth": 2
          },
          "yaxis": {
           "automargin": true,
           "gridcolor": "white",
           "linecolor": "white",
           "ticks": "",
           "zerolinecolor": "white",
           "zerolinewidth": 2
          }
         }
        },
        "title": {
         "text": "Camp Populations by Month"
        },
        "xaxis": {
         "anchor": "y",
         "domain": [
          0,
          0.98
         ],
         "title": {
          "text": "Date"
         }
        },
        "yaxis": {
         "anchor": "x",
         "domain": [
          0,
          1
         ],
         "title": {
          "text": "Population"
         }
        }
       }
      },
      "text/html": [
       "<div>\n",
       "        \n",
       "        \n",
       "            <div id=\"1b6a1173-5e47-4822-8df1-6f1a8f398171\" class=\"plotly-graph-div\" style=\"height:600px; width:100%;\"></div>\n",
       "            <script type=\"text/javascript\">\n",
       "                require([\"plotly\"], function(Plotly) {\n",
       "                    window.PLOTLYENV=window.PLOTLYENV || {};\n",
       "                    \n",
       "                if (document.getElementById(\"1b6a1173-5e47-4822-8df1-6f1a8f398171\")) {\n",
       "                    Plotly.newPlot(\n",
       "                        '1b6a1173-5e47-4822-8df1-6f1a8f398171',\n",
       "                        [{\"hoverlabel\": {\"namelength\": 0}, \"hovertemplate\": \"Camp=Topaz/Central Utah<br>Date=%{x}<br>Population=%{y}\", \"legendgroup\": \"Camp=Topaz/Central Utah\", \"line\": {\"color\": \"#636efa\", \"dash\": \"solid\"}, \"mode\": \"lines\", \"name\": \"Camp=Topaz/Central Utah\", \"showlegend\": true, \"type\": \"scatter\", \"x\": [\"1942-06-01T00:00:00\", \"1942-07-01T00:00:00\", \"1942-08-01T00:00:00\", \"1942-09-01T00:00:00\", \"1942-10-01T00:00:00\", \"1942-11-01T00:00:00\", \"1942-12-01T00:00:00\", \"1943-01-01T00:00:00\", \"1943-02-01T00:00:00\", \"1943-03-01T00:00:00\", \"1943-04-01T00:00:00\", \"1943-05-01T00:00:00\", \"1943-06-01T00:00:00\", \"1943-07-01T00:00:00\", \"1943-08-01T00:00:00\", \"1943-09-01T00:00:00\", \"1943-10-01T00:00:00\", \"1943-11-01T00:00:00\", \"1943-12-01T00:00:00\", \"1944-01-01T00:00:00\", \"1944-02-01T00:00:00\", \"1944-03-01T00:00:00\", \"1944-04-01T00:00:00\", \"1944-05-01T00:00:00\", \"1944-06-01T00:00:00\", \"1944-07-01T00:00:00\", \"1944-08-01T00:00:00\", \"1944-09-01T00:00:00\", \"1944-10-01T00:00:00\", \"1944-11-01T00:00:00\", \"1944-12-01T00:00:00\", \"1945-01-01T00:00:00\", \"1945-02-01T00:00:00\", \"1945-03-01T00:00:00\", \"1945-04-01T00:00:00\", \"1945-05-01T00:00:00\", \"1945-06-01T00:00:00\", \"1945-07-01T00:00:00\", \"1945-08-01T00:00:00\", \"1945-09-01T00:00:00\", \"1945-10-01T00:00:00\", \"1945-11-01T00:00:00\", \"1945-12-01T00:00:00\", \"1946-01-01T00:00:00\", \"1946-02-01T00:00:00\", \"1946-03-01T00:00:00\"], \"xaxis\": \"x\", \"y\": [0, 0, 0, 0, 5806, 8320, 8294, 8232, 8214, 8152, 8332, 8189, 8018, 7862, 7809, 7682, 7608, 7554, 7585, 7559, 7438, 7350, 7227, 7084, 6879, 6727, 6621, 6426, 6280, 6125, 6026, 5984, 5883, 5742, 5589, 5413, 5165, 4645, 4176, 3339, 1899, 0, 0, 0, 0, 0], \"yaxis\": \"y\"}, {\"hoverlabel\": {\"namelength\": 0}, \"hovertemplate\": \"Camp=Poston/Colorado River<br>Date=%{x}<br>Population=%{y}\", \"legendgroup\": \"Camp=Poston/Colorado River\", \"line\": {\"color\": \"#EF553B\", \"dash\": \"solid\"}, \"mode\": \"lines\", \"name\": \"Camp=Poston/Colorado River\", \"showlegend\": true, \"type\": \"scatter\", \"x\": [\"1942-06-01T00:00:00\", \"1942-07-01T00:00:00\", \"1942-08-01T00:00:00\", \"1942-09-01T00:00:00\", \"1942-10-01T00:00:00\", \"1942-11-01T00:00:00\", \"1942-12-01T00:00:00\", \"1943-01-01T00:00:00\", \"1943-02-01T00:00:00\", \"1943-03-01T00:00:00\", \"1943-04-01T00:00:00\", \"1943-05-01T00:00:00\", \"1943-06-01T00:00:00\", \"1943-07-01T00:00:00\", \"1943-08-01T00:00:00\", \"1943-09-01T00:00:00\", \"1943-10-01T00:00:00\", \"1943-11-01T00:00:00\", \"1943-12-01T00:00:00\", \"1944-01-01T00:00:00\", \"1944-02-01T00:00:00\", \"1944-03-01T00:00:00\", \"1944-04-01T00:00:00\", \"1944-05-01T00:00:00\", \"1944-06-01T00:00:00\", \"1944-07-01T00:00:00\", \"1944-08-01T00:00:00\", \"1944-09-01T00:00:00\", \"1944-10-01T00:00:00\", \"1944-11-01T00:00:00\", \"1944-12-01T00:00:00\", \"1945-01-01T00:00:00\", \"1945-02-01T00:00:00\", \"1945-03-01T00:00:00\", \"1945-04-01T00:00:00\", \"1945-05-01T00:00:00\", \"1945-06-01T00:00:00\", \"1945-07-01T00:00:00\", \"1945-08-01T00:00:00\", \"1945-09-01T00:00:00\", \"1945-10-01T00:00:00\", \"1945-11-01T00:00:00\", \"1945-12-01T00:00:00\", \"1946-01-01T00:00:00\", \"1946-02-01T00:00:00\", \"1946-03-01T00:00:00\"], \"xaxis\": \"x\", \"y\": [7281, 8755, 13262, 17818, 17847, 17877, 17965, 8039, 18025, 17984, 17941, 17741, 17406, 16995, 16671, 16279, 16013, 14470, 14372, 14295, 14109, 13876, 13453, 13241, 13021, 12725, 12517, 12152, 12059, 11881, 11751, 11710, 11480, 11251, 10828, 10421, 9979, 9386, 8750, 6828, 2730, 1088, 0, 0, 0, 0], \"yaxis\": \"y\"}, {\"hoverlabel\": {\"namelength\": 0}, \"hovertemplate\": \"Camp=Gila River<br>Date=%{x}<br>Population=%{y}\", \"legendgroup\": \"Camp=Gila River\", \"line\": {\"color\": \"#00cc96\", \"dash\": \"solid\"}, \"mode\": \"lines\", \"name\": \"Camp=Gila River\", \"showlegend\": true, \"type\": \"scatter\", \"x\": [\"1942-06-01T00:00:00\", \"1942-07-01T00:00:00\", \"1942-08-01T00:00:00\", \"1942-09-01T00:00:00\", \"1942-10-01T00:00:00\", \"1942-11-01T00:00:00\", \"1942-12-01T00:00:00\", \"1943-01-01T00:00:00\", \"1943-02-01T00:00:00\", \"1943-03-01T00:00:00\", \"1943-04-01T00:00:00\", \"1943-05-01T00:00:00\", \"1943-06-01T00:00:00\", \"1943-07-01T00:00:00\", \"1943-08-01T00:00:00\", \"1943-09-01T00:00:00\", \"1943-10-01T00:00:00\", \"1943-11-01T00:00:00\", \"1943-12-01T00:00:00\", \"1944-01-01T00:00:00\", \"1944-02-01T00:00:00\", \"1944-03-01T00:00:00\", \"1944-04-01T00:00:00\", \"1944-05-01T00:00:00\", \"1944-06-01T00:00:00\", \"1944-07-01T00:00:00\", \"1944-08-01T00:00:00\", \"1944-09-01T00:00:00\", \"1944-10-01T00:00:00\", \"1944-11-01T00:00:00\", \"1944-12-01T00:00:00\", \"1945-01-01T00:00:00\", \"1945-02-01T00:00:00\", \"1945-03-01T00:00:00\", \"1945-04-01T00:00:00\", \"1945-05-01T00:00:00\", \"1945-06-01T00:00:00\", \"1945-07-01T00:00:00\", \"1945-08-01T00:00:00\", \"1945-09-01T00:00:00\", \"1945-10-01T00:00:00\", \"1945-11-01T00:00:00\", \"1945-12-01T00:00:00\", \"1946-01-01T00:00:00\", \"1946-02-01T00:00:00\", \"1946-03-01T00:00:00\"], \"xaxis\": \"x\", \"y\": [0, 0, 2106, 9150, 11555, 13368, 13368, 13420, 13411, 13374, 13372, 13224, 12954, 12683, 12542, 12251, 12056, 10017, 9898, 9869, 9800, 9655, 9419, 9199, 8788, 10531, 10291, 9951, 9651, 9550, 9534, 9550, 9432, 9207, 8988, 8716, 8319, 7684, 6765, 5141, 2760, 754, 0, 0, 0, 0], \"yaxis\": \"y\"}, {\"hoverlabel\": {\"namelength\": 0}, \"hovertemplate\": \"Camp=Granada<br>Date=%{x}<br>Population=%{y}\", \"legendgroup\": \"Camp=Granada\", \"line\": {\"color\": \"#ab63fa\", \"dash\": \"solid\"}, \"mode\": \"lines\", \"name\": \"Camp=Granada\", \"showlegend\": true, \"type\": \"scatter\", \"x\": [\"1942-06-01T00:00:00\", \"1942-07-01T00:00:00\", \"1942-08-01T00:00:00\", \"1942-09-01T00:00:00\", \"1942-10-01T00:00:00\", \"1942-11-01T00:00:00\", \"1942-12-01T00:00:00\", \"1943-01-01T00:00:00\", \"1943-02-01T00:00:00\", \"1943-03-01T00:00:00\", \"1943-04-01T00:00:00\", \"1943-05-01T00:00:00\", \"1943-06-01T00:00:00\", \"1943-07-01T00:00:00\", \"1943-08-01T00:00:00\", \"1943-09-01T00:00:00\", \"1943-10-01T00:00:00\", \"1943-11-01T00:00:00\", \"1943-12-01T00:00:00\", \"1944-01-01T00:00:00\", \"1944-02-01T00:00:00\", \"1944-03-01T00:00:00\", \"1944-04-01T00:00:00\", \"1944-05-01T00:00:00\", \"1944-06-01T00:00:00\", \"1944-07-01T00:00:00\", \"1944-08-01T00:00:00\", \"1944-09-01T00:00:00\", \"1944-10-01T00:00:00\", \"1944-11-01T00:00:00\", \"1944-12-01T00:00:00\", \"1945-01-01T00:00:00\", \"1945-02-01T00:00:00\", \"1945-03-01T00:00:00\", \"1945-04-01T00:00:00\", \"1945-05-01T00:00:00\", \"1945-06-01T00:00:00\", \"1945-07-01T00:00:00\", \"1945-08-01T00:00:00\", \"1945-09-01T00:00:00\", \"1945-10-01T00:00:00\", \"1945-11-01T00:00:00\", \"1945-12-01T00:00:00\", \"1946-01-01T00:00:00\", \"1946-02-01T00:00:00\", \"1946-03-01T00:00:00\"], \"xaxis\": \"x\", \"y\": [0, 0, 0, 212, 7480, 7654, 7651, 7656, 7622, 7619, 7476, 7222, 7016, 6931, 3876, 6764, 7494, 7368, 7393, 7355, 7176, 6983, 6786, 6685, 6424, 6816, 6664, 6490, 6403, 6371, 6311, 6255, 6177, 6035, 5805, 5411, 4980, 4256, 3758, 3155, 1379, 0, 0, 0, 0, 0], \"yaxis\": \"y\"}, {\"hoverlabel\": {\"namelength\": 0}, \"hovertemplate\": \"Camp=Heart Mountain<br>Date=%{x}<br>Population=%{y}\", \"legendgroup\": \"Camp=Heart Mountain\", \"line\": {\"color\": \"#FFA15A\", \"dash\": \"solid\"}, \"mode\": \"lines\", \"name\": \"Camp=Heart Mountain\", \"showlegend\": true, \"type\": \"scatter\", \"x\": [\"1942-06-01T00:00:00\", \"1942-07-01T00:00:00\", \"1942-08-01T00:00:00\", \"1942-09-01T00:00:00\", \"1942-10-01T00:00:00\", \"1942-11-01T00:00:00\", \"1942-12-01T00:00:00\", \"1943-01-01T00:00:00\", \"1943-02-01T00:00:00\", \"1943-03-01T00:00:00\", \"1943-04-01T00:00:00\", \"1943-05-01T00:00:00\", \"1943-06-01T00:00:00\", \"1943-07-01T00:00:00\", \"1943-08-01T00:00:00\", \"1943-09-01T00:00:00\", \"1943-10-01T00:00:00\", \"1943-11-01T00:00:00\", \"1943-12-01T00:00:00\", \"1944-01-01T00:00:00\", \"1944-02-01T00:00:00\", \"1944-03-01T00:00:00\", \"1944-04-01T00:00:00\", \"1944-05-01T00:00:00\", \"1944-06-01T00:00:00\", \"1944-07-01T00:00:00\", \"1944-08-01T00:00:00\", \"1944-09-01T00:00:00\", \"1944-10-01T00:00:00\", \"1944-11-01T00:00:00\", \"1944-12-01T00:00:00\", \"1945-01-01T00:00:00\", \"1945-02-01T00:00:00\", \"1945-03-01T00:00:00\", \"1945-04-01T00:00:00\", \"1945-05-01T00:00:00\", \"1945-06-01T00:00:00\", \"1945-07-01T00:00:00\", \"1945-08-01T00:00:00\", \"1945-09-01T00:00:00\", \"1945-10-01T00:00:00\", \"1945-11-01T00:00:00\", \"1945-12-01T00:00:00\", \"1946-01-01T00:00:00\", \"1946-02-01T00:00:00\", \"1946-03-01T00:00:00\"], \"xaxis\": \"x\", \"y\": [0, 0, 0, 5758, 10813, 11107, 11105, 11062, 11006, 10959, 10886, 10724, 10520, 10307, 10178, 10073, 10509, 10426, 10406, 10388, 10242, 10112, 9962, 9760, 9420, 9712, 9433, 9241, 9035, 8886, 8669, 8537, 8445, 8213, 7997, 7556, 7084, 6325, 5714, 4611, 3312, 1156, 0, 0, 0, 0], \"yaxis\": \"y\"}, {\"hoverlabel\": {\"namelength\": 0}, \"hovertemplate\": \"Camp=Jerome<br>Date=%{x}<br>Population=%{y}\", \"legendgroup\": \"Camp=Jerome\", \"line\": {\"color\": \"#19d3f3\", \"dash\": \"solid\"}, \"mode\": \"lines\", \"name\": \"Camp=Jerome\", \"showlegend\": true, \"type\": \"scatter\", \"x\": [\"1942-06-01T00:00:00\", \"1942-07-01T00:00:00\", \"1942-08-01T00:00:00\", \"1942-09-01T00:00:00\", \"1942-10-01T00:00:00\", \"1942-11-01T00:00:00\", \"1942-12-01T00:00:00\", \"1943-01-01T00:00:00\", \"1943-02-01T00:00:00\", \"1943-03-01T00:00:00\", \"1943-04-01T00:00:00\", \"1943-05-01T00:00:00\", \"1943-06-01T00:00:00\", \"1943-07-01T00:00:00\", \"1943-08-01T00:00:00\", \"1943-09-01T00:00:00\", \"1943-10-01T00:00:00\", \"1943-11-01T00:00:00\", \"1943-12-01T00:00:00\", \"1944-01-01T00:00:00\", \"1944-02-01T00:00:00\", \"1944-03-01T00:00:00\", \"1944-04-01T00:00:00\", \"1944-05-01T00:00:00\", \"1944-06-01T00:00:00\", \"1944-07-01T00:00:00\", \"1944-08-01T00:00:00\", \"1944-09-01T00:00:00\", \"1944-10-01T00:00:00\", \"1944-11-01T00:00:00\", \"1944-12-01T00:00:00\", \"1945-01-01T00:00:00\", \"1945-02-01T00:00:00\", \"1945-03-01T00:00:00\", \"1945-04-01T00:00:00\", \"1945-05-01T00:00:00\", \"1945-06-01T00:00:00\", \"1945-07-01T00:00:00\", \"1945-08-01T00:00:00\", \"1945-09-01T00:00:00\", \"1945-10-01T00:00:00\", \"1945-11-01T00:00:00\", \"1945-12-01T00:00:00\", \"1946-01-01T00:00:00\", \"1946-02-01T00:00:00\", \"1946-03-01T00:00:00\"], \"xaxis\": \"x\", \"y\": [0, 0, 0, 0, 0, 7039, 7925, 7932, 8354, 8587, 8526, 8350, 8182, 7972, 7808, 7649, 6899, 6787, 6726, 6700, 6632, 6537, 6529, 6467, 5601, 4, 4, 4, 3, 3, 3, 3, 2, 2, 0, 0, 0, 0, 0, 0, 0, 0, 0, 0, 0, 0], \"yaxis\": \"y\"}, {\"hoverlabel\": {\"namelength\": 0}, \"hovertemplate\": \"Camp=Manzanar<br>Date=%{x}<br>Population=%{y}\", \"legendgroup\": \"Camp=Manzanar\", \"line\": {\"color\": \"#FF6692\", \"dash\": \"solid\"}, \"mode\": \"lines\", \"name\": \"Camp=Manzanar\", \"showlegend\": true, \"type\": \"scatter\", \"x\": [\"1942-06-01T00:00:00\", \"1942-07-01T00:00:00\", \"1942-08-01T00:00:00\", \"1942-09-01T00:00:00\", \"1942-10-01T00:00:00\", \"1942-11-01T00:00:00\", \"1942-12-01T00:00:00\", \"1943-01-01T00:00:00\", \"1943-02-01T00:00:00\", \"1943-03-01T00:00:00\", \"1943-04-01T00:00:00\", \"1943-05-01T00:00:00\", \"1943-06-01T00:00:00\", \"1943-07-01T00:00:00\", \"1943-08-01T00:00:00\", \"1943-09-01T00:00:00\", \"1943-10-01T00:00:00\", \"1943-11-01T00:00:00\", \"1943-12-01T00:00:00\", \"1944-01-01T00:00:00\", \"1944-02-01T00:00:00\", \"1944-03-01T00:00:00\", \"1944-04-01T00:00:00\", \"1944-05-01T00:00:00\", \"1944-06-01T00:00:00\", \"1944-07-01T00:00:00\", \"1944-08-01T00:00:00\", \"1944-09-01T00:00:00\", \"1944-10-01T00:00:00\", \"1944-11-01T00:00:00\", \"1944-12-01T00:00:00\", \"1945-01-01T00:00:00\", \"1945-02-01T00:00:00\", \"1945-03-01T00:00:00\", \"1945-04-01T00:00:00\", \"1945-05-01T00:00:00\", \"1945-06-01T00:00:00\", \"1945-07-01T00:00:00\", \"1945-08-01T00:00:00\", \"1945-09-01T00:00:00\", \"1945-10-01T00:00:00\", \"1945-11-01T00:00:00\", \"1945-12-01T00:00:00\", \"1946-01-01T00:00:00\", \"1946-02-01T00:00:00\", \"1946-03-01T00:00:00\"], \"xaxis\": \"x\", \"y\": [9666, 9840, 9928, 10072, 10256, 10181, 10177, 10121, 10079, 9796, 9707, 9496, 9272, 9197, 9163, 9105, 9045, 8701, 8621, 8643, 8580, 6655, 6565, 6456, 6341, 6232, 6138, 6057, 5939, 5836, 5668, 5588, 5522, 5435, 5298, 5030, 4658, 4248, 3994, 3552, 2891, 1146, 0, 0, 0, 0], \"yaxis\": \"y\"}, {\"hoverlabel\": {\"namelength\": 0}, \"hovertemplate\": \"Camp=Minidoka<br>Date=%{x}<br>Population=%{y}\", \"legendgroup\": \"Camp=Minidoka\", \"line\": {\"color\": \"#B6E880\", \"dash\": \"solid\"}, \"mode\": \"lines\", \"name\": \"Camp=Minidoka\", \"showlegend\": true, \"type\": \"scatter\", \"x\": [\"1942-06-01T00:00:00\", \"1942-07-01T00:00:00\", \"1942-08-01T00:00:00\", \"1942-09-01T00:00:00\", \"1942-10-01T00:00:00\", \"1942-11-01T00:00:00\", \"1942-12-01T00:00:00\", \"1943-01-01T00:00:00\", \"1943-02-01T00:00:00\", \"1943-03-01T00:00:00\", \"1943-04-01T00:00:00\", \"1943-05-01T00:00:00\", \"1943-06-01T00:00:00\", \"1943-07-01T00:00:00\", \"1943-08-01T00:00:00\", \"1943-09-01T00:00:00\", \"1943-10-01T00:00:00\", \"1943-11-01T00:00:00\", \"1943-12-01T00:00:00\", \"1944-01-01T00:00:00\", \"1944-02-01T00:00:00\", \"1944-03-01T00:00:00\", \"1944-04-01T00:00:00\", \"1944-05-01T00:00:00\", \"1944-06-01T00:00:00\", \"1944-07-01T00:00:00\", \"1944-08-01T00:00:00\", \"1944-09-01T00:00:00\", \"1944-10-01T00:00:00\", \"1944-11-01T00:00:00\", \"1944-12-01T00:00:00\", \"1945-01-01T00:00:00\", \"1945-02-01T00:00:00\", \"1945-03-01T00:00:00\", \"1945-04-01T00:00:00\", \"1945-05-01T00:00:00\", \"1945-06-01T00:00:00\", \"1945-07-01T00:00:00\", \"1945-08-01T00:00:00\", \"1945-09-01T00:00:00\", \"1945-10-01T00:00:00\", \"1945-11-01T00:00:00\", \"1945-12-01T00:00:00\", \"1946-01-01T00:00:00\", \"1946-02-01T00:00:00\", \"1946-03-01T00:00:00\"], \"xaxis\": \"x\", \"y\": [0, 0, 0, 4840, 9200, 9846, 9849, 9861, 9814, 9924, 9772, 9401, 8989, 8752, 8556, 8325, 9530, 9419, 9492, 9461, 9374, 9288, 9027, 8856, 8514, 8335, 8160, 8099, 7972, 7976, 7867, 7770, 7574, 7373, 6851, 6382, 5615, 4937, 4330, 3218, 1482, 0, 0, 0, 0, 0], \"yaxis\": \"y\"}, {\"hoverlabel\": {\"namelength\": 0}, \"hovertemplate\": \"Camp=Rohwer<br>Date=%{x}<br>Population=%{y}\", \"legendgroup\": \"Camp=Rohwer\", \"line\": {\"color\": \"#FF97FF\", \"dash\": \"solid\"}, \"mode\": \"lines\", \"name\": \"Camp=Rohwer\", \"showlegend\": true, \"type\": \"scatter\", \"x\": [\"1942-06-01T00:00:00\", \"1942-07-01T00:00:00\", \"1942-08-01T00:00:00\", \"1942-09-01T00:00:00\", \"1942-10-01T00:00:00\", \"1942-11-01T00:00:00\", \"1942-12-01T00:00:00\", \"1943-01-01T00:00:00\", \"1943-02-01T00:00:00\", \"1943-03-01T00:00:00\", \"1943-04-01T00:00:00\", \"1943-05-01T00:00:00\", \"1943-06-01T00:00:00\", \"1943-07-01T00:00:00\", \"1943-08-01T00:00:00\", \"1943-09-01T00:00:00\", \"1943-10-01T00:00:00\", \"1943-11-01T00:00:00\", \"1943-12-01T00:00:00\", \"1944-01-01T00:00:00\", \"1944-02-01T00:00:00\", \"1944-03-01T00:00:00\", \"1944-04-01T00:00:00\", \"1944-05-01T00:00:00\", \"1944-06-01T00:00:00\", \"1944-07-01T00:00:00\", \"1944-08-01T00:00:00\", \"1944-09-01T00:00:00\", \"1944-10-01T00:00:00\", \"1944-11-01T00:00:00\", \"1944-12-01T00:00:00\", \"1945-01-01T00:00:00\", \"1945-02-01T00:00:00\", \"1945-03-01T00:00:00\", \"1945-04-01T00:00:00\", \"1945-05-01T00:00:00\", \"1945-06-01T00:00:00\", \"1945-07-01T00:00:00\", \"1945-08-01T00:00:00\", \"1945-09-01T00:00:00\", \"1945-10-01T00:00:00\", \"1945-11-01T00:00:00\", \"1945-12-01T00:00:00\", \"1946-01-01T00:00:00\", \"1946-02-01T00:00:00\", \"1946-03-01T00:00:00\"], \"xaxis\": \"x\", \"y\": [0, 0, 0, 0, 2265, 8407, 8515, 8548, 8538, 8528, 8478, 8286, 8061, 7895, 7781, 7552, 7123, 6731, 6676, 6676, 6600, 6514, 6375, 6248, 5479, 7623, 7279, 6900, 6764, 6700, 6689, 6747, 6697, 6563, 6339, 5991, 5447, 4910, 4098, 3332, 2175, 1804, 0, 0, 0, 0], \"yaxis\": \"y\"}, {\"hoverlabel\": {\"namelength\": 0}, \"hovertemplate\": \"Camp=Tule Lake<br>Date=%{x}<br>Population=%{y}\", \"legendgroup\": \"Camp=Tule Lake\", \"line\": {\"color\": \"#FECB52\", \"dash\": \"solid\"}, \"mode\": \"lines\", \"name\": \"Camp=Tule Lake\", \"showlegend\": true, \"type\": \"scatter\", \"x\": [\"1942-06-01T00:00:00\", \"1942-07-01T00:00:00\", \"1942-08-01T00:00:00\", \"1942-09-01T00:00:00\", \"1942-10-01T00:00:00\", \"1942-11-01T00:00:00\", \"1942-12-01T00:00:00\", \"1943-01-01T00:00:00\", \"1943-02-01T00:00:00\", \"1943-03-01T00:00:00\", \"1943-04-01T00:00:00\", \"1943-05-01T00:00:00\", \"1943-06-01T00:00:00\", \"1943-07-01T00:00:00\", \"1943-08-01T00:00:00\", \"1943-09-01T00:00:00\", \"1943-10-01T00:00:00\", \"1943-11-01T00:00:00\", \"1943-12-01T00:00:00\", \"1944-01-01T00:00:00\", \"1944-02-01T00:00:00\", \"1944-03-01T00:00:00\", \"1944-04-01T00:00:00\", \"1944-05-01T00:00:00\", \"1944-06-01T00:00:00\", \"1944-07-01T00:00:00\", \"1944-08-01T00:00:00\", \"1944-09-01T00:00:00\", \"1944-10-01T00:00:00\", \"1944-11-01T00:00:00\", \"1944-12-01T00:00:00\", \"1945-01-01T00:00:00\", \"1945-02-01T00:00:00\", \"1945-03-01T00:00:00\", \"1945-04-01T00:00:00\", \"1945-05-01T00:00:00\", \"1945-06-01T00:00:00\", \"1945-07-01T00:00:00\", \"1945-08-01T00:00:00\", \"1945-09-01T00:00:00\", \"1945-10-01T00:00:00\", \"1945-11-01T00:00:00\", \"1945-12-01T00:00:00\", \"1946-01-01T00:00:00\", \"1946-02-01T00:00:00\", \"1946-03-01T00:00:00\"], \"xaxis\": \"x\", \"y\": [446, 9038, 15020, 15181, 15277, 15393, 15311, 15369, 15274, 15219, 15124, 15015, 14828, 14630, 14484, 14185, 12183, 16012, 15671, 15630, 15625, 17492, 17580, 16964, 18652, 18678, 18709, 18726, 18728, 18718, 18770, 18734, 18593, 17953, 17864, 17886, 17879, 17466, 17366, 17286, 16740, 15450, 12628, 7303, 5046, 2808], \"yaxis\": \"y\"}],\n",
       "                        {\"height\": 600, \"legend\": {\"tracegroupgap\": 0}, \"template\": {\"data\": {\"bar\": [{\"error_x\": {\"color\": \"#2a3f5f\"}, \"error_y\": {\"color\": \"#2a3f5f\"}, \"marker\": {\"line\": {\"color\": \"#E5ECF6\", \"width\": 0.5}}, \"type\": \"bar\"}], \"barpolar\": [{\"marker\": {\"line\": {\"color\": \"#E5ECF6\", \"width\": 0.5}}, \"type\": \"barpolar\"}], \"carpet\": [{\"aaxis\": {\"endlinecolor\": \"#2a3f5f\", \"gridcolor\": \"white\", \"linecolor\": \"white\", \"minorgridcolor\": \"white\", \"startlinecolor\": \"#2a3f5f\"}, \"baxis\": {\"endlinecolor\": \"#2a3f5f\", \"gridcolor\": \"white\", \"linecolor\": \"white\", \"minorgridcolor\": \"white\", \"startlinecolor\": \"#2a3f5f\"}, \"type\": \"carpet\"}], \"choropleth\": [{\"colorbar\": {\"outlinewidth\": 0, \"ticks\": \"\"}, \"type\": \"choropleth\"}], \"contour\": [{\"colorbar\": {\"outlinewidth\": 0, \"ticks\": \"\"}, \"colorscale\": [[0.0, \"#0d0887\"], [0.1111111111111111, \"#46039f\"], [0.2222222222222222, \"#7201a8\"], [0.3333333333333333, \"#9c179e\"], [0.4444444444444444, \"#bd3786\"], [0.5555555555555556, \"#d8576b\"], [0.6666666666666666, \"#ed7953\"], [0.7777777777777778, \"#fb9f3a\"], [0.8888888888888888, \"#fdca26\"], [1.0, \"#f0f921\"]], \"type\": \"contour\"}], \"contourcarpet\": [{\"colorbar\": {\"outlinewidth\": 0, \"ticks\": \"\"}, \"type\": \"contourcarpet\"}], \"heatmap\": [{\"colorbar\": {\"outlinewidth\": 0, \"ticks\": \"\"}, \"colorscale\": [[0.0, \"#0d0887\"], [0.1111111111111111, \"#46039f\"], [0.2222222222222222, \"#7201a8\"], [0.3333333333333333, \"#9c179e\"], [0.4444444444444444, \"#bd3786\"], [0.5555555555555556, \"#d8576b\"], [0.6666666666666666, \"#ed7953\"], [0.7777777777777778, \"#fb9f3a\"], [0.8888888888888888, \"#fdca26\"], [1.0, \"#f0f921\"]], \"type\": \"heatmap\"}], \"heatmapgl\": [{\"colorbar\": {\"outlinewidth\": 0, \"ticks\": \"\"}, \"colorscale\": [[0.0, \"#0d0887\"], [0.1111111111111111, \"#46039f\"], [0.2222222222222222, \"#7201a8\"], [0.3333333333333333, \"#9c179e\"], [0.4444444444444444, \"#bd3786\"], [0.5555555555555556, \"#d8576b\"], [0.6666666666666666, \"#ed7953\"], [0.7777777777777778, \"#fb9f3a\"], [0.8888888888888888, \"#fdca26\"], [1.0, \"#f0f921\"]], \"type\": \"heatmapgl\"}], \"histogram\": [{\"marker\": {\"colorbar\": {\"outlinewidth\": 0, \"ticks\": \"\"}}, \"type\": \"histogram\"}], \"histogram2d\": [{\"colorbar\": {\"outlinewidth\": 0, \"ticks\": \"\"}, \"colorscale\": [[0.0, \"#0d0887\"], [0.1111111111111111, \"#46039f\"], [0.2222222222222222, \"#7201a8\"], [0.3333333333333333, \"#9c179e\"], [0.4444444444444444, \"#bd3786\"], [0.5555555555555556, \"#d8576b\"], [0.6666666666666666, \"#ed7953\"], [0.7777777777777778, \"#fb9f3a\"], [0.8888888888888888, \"#fdca26\"], [1.0, \"#f0f921\"]], \"type\": \"histogram2d\"}], \"histogram2dcontour\": [{\"colorbar\": {\"outlinewidth\": 0, \"ticks\": \"\"}, \"colorscale\": [[0.0, \"#0d0887\"], [0.1111111111111111, \"#46039f\"], [0.2222222222222222, \"#7201a8\"], [0.3333333333333333, \"#9c179e\"], [0.4444444444444444, \"#bd3786\"], [0.5555555555555556, \"#d8576b\"], [0.6666666666666666, \"#ed7953\"], [0.7777777777777778, \"#fb9f3a\"], [0.8888888888888888, \"#fdca26\"], [1.0, \"#f0f921\"]], \"type\": \"histogram2dcontour\"}], \"mesh3d\": [{\"colorbar\": {\"outlinewidth\": 0, \"ticks\": \"\"}, \"type\": \"mesh3d\"}], \"parcoords\": [{\"line\": {\"colorbar\": {\"outlinewidth\": 0, \"ticks\": \"\"}}, \"type\": \"parcoords\"}], \"scatter\": [{\"marker\": {\"colorbar\": {\"outlinewidth\": 0, \"ticks\": \"\"}}, \"type\": \"scatter\"}], \"scatter3d\": [{\"line\": {\"colorbar\": {\"outlinewidth\": 0, \"ticks\": \"\"}}, \"marker\": {\"colorbar\": {\"outlinewidth\": 0, \"ticks\": \"\"}}, \"type\": \"scatter3d\"}], \"scattercarpet\": [{\"marker\": {\"colorbar\": {\"outlinewidth\": 0, \"ticks\": \"\"}}, \"type\": \"scattercarpet\"}], \"scattergeo\": [{\"marker\": {\"colorbar\": {\"outlinewidth\": 0, \"ticks\": \"\"}}, \"type\": \"scattergeo\"}], \"scattergl\": [{\"marker\": {\"colorbar\": {\"outlinewidth\": 0, \"ticks\": \"\"}}, \"type\": \"scattergl\"}], \"scattermapbox\": [{\"marker\": {\"colorbar\": {\"outlinewidth\": 0, \"ticks\": \"\"}}, \"type\": \"scattermapbox\"}], \"scatterpolar\": [{\"marker\": {\"colorbar\": {\"outlinewidth\": 0, \"ticks\": \"\"}}, \"type\": \"scatterpolar\"}], \"scatterpolargl\": [{\"marker\": {\"colorbar\": {\"outlinewidth\": 0, \"ticks\": \"\"}}, \"type\": \"scatterpolargl\"}], \"scatterternary\": [{\"marker\": {\"colorbar\": {\"outlinewidth\": 0, \"ticks\": \"\"}}, \"type\": \"scatterternary\"}], \"surface\": [{\"colorbar\": {\"outlinewidth\": 0, \"ticks\": \"\"}, \"colorscale\": [[0.0, \"#0d0887\"], [0.1111111111111111, \"#46039f\"], [0.2222222222222222, \"#7201a8\"], [0.3333333333333333, \"#9c179e\"], [0.4444444444444444, \"#bd3786\"], [0.5555555555555556, \"#d8576b\"], [0.6666666666666666, \"#ed7953\"], [0.7777777777777778, \"#fb9f3a\"], [0.8888888888888888, \"#fdca26\"], [1.0, \"#f0f921\"]], \"type\": \"surface\"}], \"table\": [{\"cells\": {\"fill\": {\"color\": \"#EBF0F8\"}, \"line\": {\"color\": \"white\"}}, \"header\": {\"fill\": {\"color\": \"#C8D4E3\"}, \"line\": {\"color\": \"white\"}}, \"type\": \"table\"}]}, \"layout\": {\"annotationdefaults\": {\"arrowcolor\": \"#2a3f5f\", \"arrowhead\": 0, \"arrowwidth\": 1}, \"colorscale\": {\"diverging\": [[0, \"#8e0152\"], [0.1, \"#c51b7d\"], [0.2, \"#de77ae\"], [0.3, \"#f1b6da\"], [0.4, \"#fde0ef\"], [0.5, \"#f7f7f7\"], [0.6, \"#e6f5d0\"], [0.7, \"#b8e186\"], [0.8, \"#7fbc41\"], [0.9, \"#4d9221\"], [1, \"#276419\"]], \"sequential\": [[0.0, \"#0d0887\"], [0.1111111111111111, \"#46039f\"], [0.2222222222222222, \"#7201a8\"], [0.3333333333333333, \"#9c179e\"], [0.4444444444444444, \"#bd3786\"], [0.5555555555555556, \"#d8576b\"], [0.6666666666666666, \"#ed7953\"], [0.7777777777777778, \"#fb9f3a\"], [0.8888888888888888, \"#fdca26\"], [1.0, \"#f0f921\"]], \"sequentialminus\": [[0.0, \"#0d0887\"], [0.1111111111111111, \"#46039f\"], [0.2222222222222222, \"#7201a8\"], [0.3333333333333333, \"#9c179e\"], [0.4444444444444444, \"#bd3786\"], [0.5555555555555556, \"#d8576b\"], [0.6666666666666666, \"#ed7953\"], [0.7777777777777778, \"#fb9f3a\"], [0.8888888888888888, \"#fdca26\"], [1.0, \"#f0f921\"]]}, \"colorway\": [\"#636efa\", \"#EF553B\", \"#00cc96\", \"#ab63fa\", \"#FFA15A\", \"#19d3f3\", \"#FF6692\", \"#B6E880\", \"#FF97FF\", \"#FECB52\"], \"font\": {\"color\": \"#2a3f5f\"}, \"geo\": {\"bgcolor\": \"white\", \"lakecolor\": \"white\", \"landcolor\": \"#E5ECF6\", \"showlakes\": true, \"showland\": true, \"subunitcolor\": \"white\"}, \"hoverlabel\": {\"align\": \"left\"}, \"hovermode\": \"closest\", \"mapbox\": {\"style\": \"light\"}, \"paper_bgcolor\": \"white\", \"plot_bgcolor\": \"#E5ECF6\", \"polar\": {\"angularaxis\": {\"gridcolor\": \"white\", \"linecolor\": \"white\", \"ticks\": \"\"}, \"bgcolor\": \"#E5ECF6\", \"radialaxis\": {\"gridcolor\": \"white\", \"linecolor\": \"white\", \"ticks\": \"\"}}, \"scene\": {\"xaxis\": {\"backgroundcolor\": \"#E5ECF6\", \"gridcolor\": \"white\", \"gridwidth\": 2, \"linecolor\": \"white\", \"showbackground\": true, \"ticks\": \"\", \"zerolinecolor\": \"white\"}, \"yaxis\": {\"backgroundcolor\": \"#E5ECF6\", \"gridcolor\": \"white\", \"gridwidth\": 2, \"linecolor\": \"white\", \"showbackground\": true, \"ticks\": \"\", \"zerolinecolor\": \"white\"}, \"zaxis\": {\"backgroundcolor\": \"#E5ECF6\", \"gridcolor\": \"white\", \"gridwidth\": 2, \"linecolor\": \"white\", \"showbackground\": true, \"ticks\": \"\", \"zerolinecolor\": \"white\"}}, \"shapedefaults\": {\"line\": {\"color\": \"#2a3f5f\"}}, \"ternary\": {\"aaxis\": {\"gridcolor\": \"white\", \"linecolor\": \"white\", \"ticks\": \"\"}, \"baxis\": {\"gridcolor\": \"white\", \"linecolor\": \"white\", \"ticks\": \"\"}, \"bgcolor\": \"#E5ECF6\", \"caxis\": {\"gridcolor\": \"white\", \"linecolor\": \"white\", \"ticks\": \"\"}}, \"title\": {\"x\": 0.05}, \"xaxis\": {\"automargin\": true, \"gridcolor\": \"white\", \"linecolor\": \"white\", \"ticks\": \"\", \"zerolinecolor\": \"white\", \"zerolinewidth\": 2}, \"yaxis\": {\"automargin\": true, \"gridcolor\": \"white\", \"linecolor\": \"white\", \"ticks\": \"\", \"zerolinecolor\": \"white\", \"zerolinewidth\": 2}}}, \"title\": {\"text\": \"Camp Populations by Month\"}, \"xaxis\": {\"anchor\": \"y\", \"domain\": [0.0, 0.98], \"title\": {\"text\": \"Date\"}}, \"yaxis\": {\"anchor\": \"x\", \"domain\": [0.0, 1.0], \"title\": {\"text\": \"Population\"}}},\n",
       "                        {\"responsive\": true}\n",
       "                    ).then(function(){\n",
       "                            \n",
       "var gd = document.getElementById('1b6a1173-5e47-4822-8df1-6f1a8f398171');\n",
       "var x = new MutationObserver(function (mutations, observer) {{\n",
       "        var display = window.getComputedStyle(gd).display;\n",
       "        if (!display || display === 'none') {{\n",
       "            console.log([gd, 'removed!']);\n",
       "            Plotly.purge(gd);\n",
       "            observer.disconnect();\n",
       "        }}\n",
       "}});\n",
       "\n",
       "// Listen for the removal of the full notebook cells\n",
       "var notebookContainer = gd.closest('#notebook-container');\n",
       "if (notebookContainer) {{\n",
       "    x.observe(notebookContainer, {childList: true});\n",
       "}}\n",
       "\n",
       "// Listen for the clearing of the current output cell\n",
       "var outputEl = gd.closest('.output');\n",
       "if (outputEl) {{\n",
       "    x.observe(outputEl, {childList: true});\n",
       "}}\n",
       "\n",
       "                        })\n",
       "                };\n",
       "                });\n",
       "            </script>\n",
       "        </div>"
      ]
     },
     "metadata": {},
     "output_type": "display_data"
    }
   ],
   "source": [
    "pop_by_month2 = pop_by_month.drop(\"Total\", axis = 1)\n",
    "melted = pd.melt(pop_by_month2, id_vars = [\"Date\"], value_vars = pop_by_month2.columns[1:], var_name = 'Camp', value_name = \"Population\")\n",
    "fig = px.line(melted, x = 'Date', y = 'Population', color = 'Camp', title = 'Camp Populations by Month')\n",
    "fig.show();"
   ]
  },
  {
   "cell_type": "markdown",
   "metadata": {},
   "source": [
    "We can see from this histogram that most people did not return to where they originally lived because the bin that is at 0 percent returned has the highest percentage (the bar is the highest closest to 0). "
   ]
  },
  {
   "cell_type": "code",
   "execution_count": 27,
   "metadata": {},
   "outputs": [
    {
     "data": {
      "image/png": "[encoded data removed]",
      "text/plain": [
       "<Figure size 432x288 with 1 Axes>"
      ]
     },
     "metadata": {
      "needs_background": "light"
     },
     "output_type": "display_data"
    }
   ],
   "source": [
    "sns.distplot(population1940_1945['% returned'])\n",
    "plt.title(\"Percent Returned to Original County\");"
   ]
  },
  {
   "cell_type": "markdown",
   "metadata": {},
   "source": [
    "Visualizations allow us to picture how the numbers change and find abnormalities in the data set. What are some abnormalities that you see in the first plot? What are some possible explanations for these abnormalities?"
   ]
  },
  {
   "cell_type": "markdown",
   "metadata": {},
   "source": [
    "<b>Answer: </b> YOUR ANSWER HERE"
   ]
  },
  {
   "cell_type": "markdown",
   "metadata": {},
   "source": [
    "---"
   ]
  },
  {
   "cell_type": "markdown",
   "metadata": {},
   "source": [
    "## Section 2: Assembly Centers and Internment Centers<a id='section 2'></a>"
   ]
  },
  {
   "cell_type": "markdown",
   "metadata": {},
   "source": [
    "After Executive Order 9066 was signed, the army was authorized to remove civilians from designated military exclusion zones spanning Washington, Oregon, California, and Arizona. Assembly centers were created to funnel Japanese Americans into internment camps. Through these maps, you can see how far people were forced to move from one location to another. Mapping data is a useful tool to visualize locations and provide context when we are given longitude and latitude data! \n",
    "<img src=\"images/Luggage_Japanese_American_internment.png\" width=\"400\">\n",
    "The luggage of the Japanese Americans who have arrived at a reception center."
   ]
  },
  {
   "cell_type": "markdown",
   "metadata": {},
   "source": [
    "## Assembly Centers\n",
    "Japanese Americans were transported from assembly centers to internment camps across the country and we can use mapping techniques to visualize the movement of Japanese Americans from their original homes, to assembly centers, to internment camps, and then to various locations afterwards. To zoom in and out on the map, you can press the + and - buttons or scroll up and down. Also, if you click a blue marker, the assembly center name with show up!"
   ]
  },
  {
   "cell_type": "code",
   "execution_count": 28,
   "metadata": {
    "scrolled": true
   },
   "outputs": [
    {
     "data": {
      "text/html": [
       "<div style=\"width:100%;\"><div style=\"position:relative;width:100%;height:0;padding-bottom:60%;\"><iframe src=\"data:text/html;charset=utf-8;base64,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\" style=\"position:absolute;width:100%;height:100%;left:0;top:0;border:none !important;\" allowfullscreen webkitallowfullscreen mozallowfullscreen></iframe></div></div>"
      ],
      "text/plain": [
       "<folium.folium.Map at 0x7fa570d99898>"
      ]
     },
     "execution_count": 28,
     "metadata": {},
     "output_type": "execute_result"
    }
   ],
   "source": [
    "m = folium.Map(location=[36.733300, -100.766700], zoom_start=4)\n",
    "tooltip = 'Click me!'\n",
    "for i in range(0,len(assembly)):\n",
    "    folium.Marker(\n",
    "      location=(assembly.iloc[i]['Latitude'], assembly.iloc[i]['Longitude']),\n",
    "      popup=assembly.iloc[i]['Location'],\n",
    "      ).add_to(m)\n",
    "m"
   ]
  },
  {
   "cell_type": "markdown",
   "metadata": {},
   "source": [
    "## Internment Camps\n"
   ]
  },
  {
   "cell_type": "code",
   "execution_count": 29,
   "metadata": {
    "scrolled": true
   },
   "outputs": [
    {
     "data": {
      "text/html": [
       "<div style=\"width:100%;\"><div style=\"position:relative;width:100%;height:0;padding-bottom:60%;\"><iframe src=\"data:text/html;charset=utf-8;base64,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\" style=\"position:absolute;width:100%;height:100%;left:0;top:0;border:none !important;\" allowfullscreen webkitallowfullscreen mozallowfullscreen></iframe></div></div>"
      ],
      "text/plain": [
       "<folium.folium.Map at 0x7fa570dbbeb8>"
      ]
     },
     "execution_count": 29,
     "metadata": {},
     "output_type": "execute_result"
    }
   ],
   "source": [
    "m = folium.Map(location=[36.733300, -100.766700], zoom_start=4)\n",
    "tooltip = 'Click me!'\n",
    "for i in range(0,len(camps)):\n",
    "    folium.Marker(\n",
    "      location=(camps.iloc[i]['Latitude'], camps.iloc[i]['Longitude']),\n",
    "      popup=camps.iloc[i]['Internment Camp Name'],\n",
    "      ).add_to(m)\n",
    "m"
   ]
  },
  {
   "cell_type": "markdown",
   "metadata": {},
   "source": [
    "## Section 3: Mapping and Movement<a id='section 3'></a>"
   ]
  },
  {
   "cell_type": "markdown",
   "metadata": {},
   "source": [
    "One of the consequences of the Japanese internment camps was the relocation after World War 2. Many of the Japanese Americans that lived on the West Coast of the United States did not return to their previous homes since land holdings and possessions were lost during the process. This map shows the populations of each county at the start of World War II, just before the Executive Order 9066 in 1942. Japanese Americans were largely concentrated on the West Coast, with the largest population in Los Angeles.\n",
    "\n",
    "<img src=\"images/Hayward_Friends_say_goodbye.png\" width=\"400\">\n",
    "Neighbors in Hayward, California saying goodbye."
   ]
  },
  {
   "cell_type": "code",
   "execution_count": 30,
   "metadata": {
    "scrolled": true
   },
   "outputs": [
    {
     "data": {
      "text/html": [
       "<div style=\"width:100%;\"><div style=\"position:relative;width:100%;height:0;padding-bottom:60%;\"><iframe src=\"data:text/html;charset=utf-8;base64,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\" style=\"position:absolute;width:100%;height:100%;left:0;top:0;border:none !important;\" allowfullscreen webkitallowfullscreen mozallowfullscreen></iframe></div></div>"
      ],
      "text/plain": [
       "<folium.folium.Map at 0x7fa570d63748>"
      ]
     },
     "execution_count": 30,
     "metadata": {},
     "output_type": "execute_result"
    }
   ],
   "source": [
    "m = folium.Map(location=[36.733300, -100.766700], zoom_start=4)\n",
    "tooltip = 'Click me!'\n",
    "for i in range(0,len(population1940_1945)):\n",
    "    folium.Circle(\n",
    "      location = (population1940_1945.iloc[i]['Latitude'], population1940_1945.iloc[i]['Longitude']),\n",
    "      popup = population1940_1945.iloc[i]['County'],\n",
    "      radius = float(population1940_1945.iloc[i]['1940']) *12,\n",
    "      color = 'blue',\n",
    "      fill = True,\n",
    "      fill_color = 'crimson').add_to(m)\n",
    "m"
   ]
  },
  {
   "cell_type": "markdown",
   "metadata": {},
   "source": [
    "This table shows the amount of Japanese Americans in each county after the war. This data was self-reported by evacuees."
   ]
  },
  {
   "cell_type": "code",
   "execution_count": 31,
   "metadata": {},
   "outputs": [
    {
     "data": {
      "text/html": [
       "<div>\n",
       "<style scoped>\n",
       "    .dataframe tbody tr th:only-of-type {\n",
       "        vertical-align: middle;\n",
       "    }\n",
       "\n",
       "    .dataframe tbody tr th {\n",
       "        vertical-align: top;\n",
       "    }\n",
       "\n",
       "    .dataframe thead th {\n",
       "        text-align: right;\n",
       "    }\n",
       "</style>\n",
       "<table border=\"1\" class=\"dataframe\">\n",
       "  <thead>\n",
       "    <tr style=\"text-align: right;\">\n",
       "      <th></th>\n",
       "      <th>City</th>\n",
       "      <th>State</th>\n",
       "      <th>People</th>\n",
       "      <th>Latitude</th>\n",
       "      <th>Longitude</th>\n",
       "    </tr>\n",
       "  </thead>\n",
       "  <tbody>\n",
       "    <tr>\n",
       "      <th>0</th>\n",
       "      <td>Glendale</td>\n",
       "      <td>AZ</td>\n",
       "      <td>487.0</td>\n",
       "      <td>34.142508</td>\n",
       "      <td>-118.255075</td>\n",
       "    </tr>\n",
       "    <tr>\n",
       "      <th>1</th>\n",
       "      <td>Alameda</td>\n",
       "      <td>CA</td>\n",
       "      <td>211.0</td>\n",
       "      <td>37.779872</td>\n",
       "      <td>-122.282185</td>\n",
       "    </tr>\n",
       "    <tr>\n",
       "      <th>2</th>\n",
       "      <td>Berkely</td>\n",
       "      <td>CA</td>\n",
       "      <td>844.0</td>\n",
       "      <td>37.871523</td>\n",
       "      <td>-122.273042</td>\n",
       "    </tr>\n",
       "    <tr>\n",
       "      <th>3</th>\n",
       "      <td>Burbank</td>\n",
       "      <td>CA</td>\n",
       "      <td>228.0</td>\n",
       "      <td>34.180839</td>\n",
       "      <td>-118.308966</td>\n",
       "    </tr>\n",
       "    <tr>\n",
       "      <th>4</th>\n",
       "      <td>Dinuba</td>\n",
       "      <td>CA</td>\n",
       "      <td>201.0</td>\n",
       "      <td>36.543284</td>\n",
       "      <td>-119.387066</td>\n",
       "    </tr>\n",
       "  </tbody>\n",
       "</table>\n",
       "</div>"
      ],
      "text/plain": [
       "       City State  People   Latitude   Longitude\n",
       "0  Glendale    AZ   487.0  34.142508 -118.255075\n",
       "1   Alameda    CA   211.0  37.779872 -122.282185\n",
       "2   Berkely    CA   844.0  37.871523 -122.273042\n",
       "3   Burbank    CA   228.0  34.180839 -118.308966\n",
       "4    Dinuba    CA   201.0  36.543284 -119.387066"
      ]
     },
     "execution_count": 31,
     "metadata": {},
     "output_type": "execute_result"
    }
   ],
   "source": [
    "reloc_cities = pd.read_csv(\"data/RelocationDestinations_Cities_LL.csv\", error_bad_lines = False)\n",
    "reloc_cities['People'] = reloc_cities['People'].astype(float)\n",
    "reloc_cities.head()"
   ]
  },
  {
   "cell_type": "markdown",
   "metadata": {},
   "source": [
    "This map shows the cities that people relocated after the war. It allows us to visualize the extent people had to relocate from their original homes which were mostly on the west coast of the U.S. We can see a large population moved to the midwest (Chicago area) as well as the east coast, Canada, and even Mexico City. "
   ]
  },
  {
   "cell_type": "code",
   "execution_count": 32,
   "metadata": {},
   "outputs": [
    {
     "data": {
      "text/html": [
       "<div style=\"width:100%;\"><div style=\"position:relative;width:100%;height:0;padding-bottom:60%;\"><iframe src=\"data:text/html;charset=utf-8;base64,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\" style=\"position:absolute;width:100%;height:100%;left:0;top:0;border:none !important;\" allowfullscreen webkitallowfullscreen mozallowfullscreen></iframe></div></div>"
      ],
      "text/plain": [
       "<folium.folium.Map at 0x7fa570c61358>"
      ]
     },
     "execution_count": 32,
     "metadata": {},
     "output_type": "execute_result"
    }
   ],
   "source": [
    "m = folium.Map(location=[36.733300, -100.766700], zoom_start=4)\n",
    "tooltip = 'Click me!'\n",
    "for i in range(0,len(reloc_cities)):\n",
    "    folium.Circle(\n",
    "      location=(reloc_cities.iloc[i]['Latitude'], reloc_cities.iloc[i]['Longitude']),\n",
    "      popup=reloc_cities.iloc[i]['City'],\n",
    "      radius=reloc_cities.iloc[i]['People'] * 12,\n",
    "      color='blue',\n",
    "      fill=True,\n",
    "      fill_color='red').add_to(m)\n",
    "m"
   ]
  },
  {
   "cell_type": "markdown",
   "metadata": {},
   "source": [
    "---\n",
    "Notebook developed by: Alleanna Clark, Aishah Mahmud\n",
    "\n",
    "Data Science Modules: http://data.berkeley.edu/education/modules\n"
   ]
  },
  {
   "cell_type": "code",
   "execution_count": null,
   "metadata": {},
   "outputs": [],
   "source": []
  }
 ],
 "metadata": {
  "anaconda-cloud": {},
  "kernelspec": {
   "display_name": "Python 3",
   "language": "python",
   "name": "python3"
  },
  "language_info": {
   "codemirror_mode": {
    "name": "ipython",
    "version": 3
   },
   "file_extension": ".py",
   "mimetype": "text/x-python",
   "name": "python",
   "nbconvert_exporter": "python",
   "pygments_lexer": "ipython3",
   "version": "3.6.8"
  }
 },
 "nbformat": 4,
 "nbformat_minor": 1
}
