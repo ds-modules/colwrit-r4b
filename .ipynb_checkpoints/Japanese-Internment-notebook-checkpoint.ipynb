{
 "cells": [
  {
   "cell_type": "markdown",
   "metadata": {},
   "source": [
    "# COLWRIT R4B The Japanese American Internment and its Legacy\n",
    "\n",
    "\n",
    "---\n",
    "\n",
    "### Professor Patricia Steenland\n",
    "\n",
    "This notebook will explore data from the camps and provide context and techniques to analize the forced relocation of Japanese Americans during the 1940s.\n",
    "\n",
    "*Estimated Time: 90 minutes*\n",
    "\n",
    "---\n",
    "\n",
    "### Topics Covered\n",
    "1. [Section 1: Data Exploration and Visualization](#Section-1:-Data-Exploration-and-Visualization)\n",
    "2. [Section 2: Assembly Centers and Internment Centers](#Section-2:-Assembly-Centers-and-Internment-Centers)\n",
    "3. [Section 3: Mapping and Movement](#Section-3:-Mapping-and-Movement)\n",
    "\n",
    "\n",
    "---\n",
    "\n",
    "## Context <a id='data'></a>\n",
    "\n",
    "In this course, you've been studying the consequences of Japanese American internment. Through this data and subsequent analysis, you'll be able to visualize the forced movement of Japanese Americans, from the west coast, to scattered internment camps, and eventually to cities throughout the country. First, we need to learn how to use this notebook format, which is called a **Jupyter Notebook.**\n",
    "\n"
   ]
  },
  {
   "cell_type": "markdown",
   "metadata": {},
   "source": [
    "\n",
    "## The Jupyter Notebook\n",
    "\n",
    "First of all, note that this page is divided into what are called *cells*. You can navigate cells by clicking on them or by using the up and down arrows. Cells will be highlighted as you navigate them.\n",
    "\n",
    "### Text cells\n",
    "\n",
    "Text cells (like this one) can be edited by double-clicking on them. They're written in a simple format called [Markdown](http://daringfireball.net/projects/markdown/syntax) to add formatting and section headings.  You don't need to learn Markdown, but know the difference between Text Cells and Code Cells."
   ]
  },
  {
   "cell_type": "markdown",
   "metadata": {},
   "source": [
    "### Code cells\n",
    "Other cells contain code in the Python 3 language. Don't worry -- we'll show you everything you need to know to succeed in this part of the class. \n",
    "\n",
    "The fundamental building block of Python code is an **expression**. Cells can contain multiple lines with multiple expressions.  We'll explain what exactly we mean by \"expressions\" in just a moment: first, let's learn how to \"run\" cells."
   ]
  },
  {
   "cell_type": "markdown",
   "metadata": {},
   "source": [
    "### Running cells\n",
    "\n",
    "\"Running a cell\" is equivalent to pressing \"Enter\" on a calculator once you've typed in the expression you want to evaluate: it produces an **output**. When you run a text cell, it outputs clean, organized writing. When you run a code cell, it **computes** all of the expressions you want to evaluate, and can **output** the result of the computation.\n",
    "\n",
    "<p></p>\n",
    "\n",
    "<div class=\"alert alert-info\">\n",
    "To run the code in a code cell, first click on that cell to activate it.  It'll be highlighted with a little green or blue rectangle.  Next, you can either press the <code><b>▶|</b> Run </code> button above or press <b><code>Shift + Return</code></b> or <b><code>Shift + Enter</code></b>. This will run the current cell and select the next one.\n",
    "</div>\n",
    "\n",
    "Text cells are useful for taking notes and keeping your notebook organized, but your data analysis will be done in code cells. We will focus on code cells for the rest of the class.\n",
    "\n"
   ]
  },
  {
   "cell_type": "code",
   "execution_count": 9,
   "metadata": {
    "scrolled": true
   },
   "outputs": [
    {
     "name": "stdout",
     "output_type": "stream",
     "text": [
      "Hello world!\n"
     ]
    }
   ],
   "source": [
    "print(\"Hello world!\")"
   ]
  },
  {
   "cell_type": "code",
   "execution_count": 10,
   "metadata": {},
   "outputs": [],
   "source": [
    "#This is a comment. It is put in code cells as a description or instructions and does not affect the code."
   ]
  },
  {
   "cell_type": "code",
   "execution_count": 11,
   "metadata": {},
   "outputs": [],
   "source": [
    "# Just run this cell\n",
    "import pandas as pd\n",
    "import numpy as np\n",
    "import matplotlib.pyplot as plt\n",
    "import seaborn as sns\n",
    "import folium\n",
    "import plotly.express as px\n",
    "pop_by_month = pd.read_csv(\"data/CampPopulationsByMonth.csv\", error_bad_lines = False)\n",
    "relocations_states = pd.read_csv(\"data/RelocationDestinations_States.csv\", error_bad_lines = False)\n",
    "pop_1940_to_1945 = pd.read_csv(\"data/JapaneseAmericanPopulation_1940_1945.csv\", error_bad_lines = False)\n",
    "relocations_cities = pd.read_csv(\"data/RelocationDestinations_Cities.csv\", error_bad_lines = False)"
   ]
  },
  {
   "cell_type": "markdown",
   "metadata": {},
   "source": [
    "---\n",
    "\n",
    "## The Data <a id='data'></a>\n",
    "\n",
    "In this notebook, you'll be working with a dataset that was manually digitized from tables in The Evacuated People: A Quantitative Description, a report published by the War Relocation Authority in 1946. The tables required manual transcription because the results from automatic scraping contained too many errors. Thus, there may still be some human error. The datasets included contain the populations of each camp by month, the relocation destinations of those who were incarcerated, and the Japanese American population in America before and throughout the war. Take a look at the full dataset <a href = https://data.world/infinitecoop/japanese-internment-camps/> here</a>.\n",
    "\n",
    "The second dataset we're working with is collected by the Library of Congress and comes from newspapers that were produced by Japanese-American internees while they lived in the camps. You can access the data and read about the newspapers here https://www.arcgis.com/home/item.html?id=787f1fabd34c49308df8fe0d4dc7470f \n",
    "<img src=\"images/Posted_Japanese_American_Exclusion_Order.png\" width=\"450\">\n"
   ]
  },
  {
   "cell_type": "markdown",
   "metadata": {},
   "source": [
    "The **pop_by_month** table has the population of each of the ten camps at the start of every month."
   ]
  },
  {
   "cell_type": "code",
   "execution_count": 12,
   "metadata": {},
   "outputs": [],
   "source": [
    "#Loading and Reading the Data\n",
    "pop_by_month = pd.read_csv(\"data/CampPopulationsByMonth.csv\", error_bad_lines = False, thousands = ',')\n",
    "pop_by_month['Date']= pd.to_datetime(pop_by_month['Date']) \n",
    "camps = pd.read_csv('data/BehindBarbedWire_StoryMap_InternmentCampLocationsMap_Data.csv', error_bad_lines = False)\n",
    "camps[\"Maximum Population\"] = camps[\"Maximum Population\"].str.replace(',', '')\n",
    "camps['Maximum Population'] = camps['Maximum Population'].astype(float)"
   ]
  },
  {
   "cell_type": "code",
   "execution_count": 13,
   "metadata": {},
   "outputs": [
    {
     "data": {
      "text/html": [
       "<div>\n",
       "<style scoped>\n",
       "    .dataframe tbody tr th:only-of-type {\n",
       "        vertical-align: middle;\n",
       "    }\n",
       "\n",
       "    .dataframe tbody tr th {\n",
       "        vertical-align: top;\n",
       "    }\n",
       "\n",
       "    .dataframe thead th {\n",
       "        text-align: right;\n",
       "    }\n",
       "</style>\n",
       "<table border=\"1\" class=\"dataframe\">\n",
       "  <thead>\n",
       "    <tr style=\"text-align: right;\">\n",
       "      <th></th>\n",
       "      <th>Date</th>\n",
       "      <th>Total</th>\n",
       "      <th>Topaz/Central Utah</th>\n",
       "      <th>Poston/Colorado River</th>\n",
       "      <th>Gila River</th>\n",
       "      <th>Granada</th>\n",
       "      <th>Heart Mountain</th>\n",
       "      <th>Jerome</th>\n",
       "      <th>Manzanar</th>\n",
       "      <th>Minidoka</th>\n",
       "      <th>Rohwer</th>\n",
       "      <th>Tule Lake</th>\n",
       "    </tr>\n",
       "  </thead>\n",
       "  <tbody>\n",
       "    <tr>\n",
       "      <th>0</th>\n",
       "      <td>1942-06-01</td>\n",
       "      <td>17393</td>\n",
       "      <td>0</td>\n",
       "      <td>7281</td>\n",
       "      <td>0</td>\n",
       "      <td>0</td>\n",
       "      <td>0</td>\n",
       "      <td>0</td>\n",
       "      <td>9666</td>\n",
       "      <td>0</td>\n",
       "      <td>0</td>\n",
       "      <td>446</td>\n",
       "    </tr>\n",
       "    <tr>\n",
       "      <th>1</th>\n",
       "      <td>1942-07-01</td>\n",
       "      <td>27633</td>\n",
       "      <td>0</td>\n",
       "      <td>8755</td>\n",
       "      <td>0</td>\n",
       "      <td>0</td>\n",
       "      <td>0</td>\n",
       "      <td>0</td>\n",
       "      <td>9840</td>\n",
       "      <td>0</td>\n",
       "      <td>0</td>\n",
       "      <td>9038</td>\n",
       "    </tr>\n",
       "    <tr>\n",
       "      <th>2</th>\n",
       "      <td>1942-08-01</td>\n",
       "      <td>40316</td>\n",
       "      <td>0</td>\n",
       "      <td>13262</td>\n",
       "      <td>2106</td>\n",
       "      <td>0</td>\n",
       "      <td>0</td>\n",
       "      <td>0</td>\n",
       "      <td>9928</td>\n",
       "      <td>0</td>\n",
       "      <td>0</td>\n",
       "      <td>15020</td>\n",
       "    </tr>\n",
       "    <tr>\n",
       "      <th>3</th>\n",
       "      <td>1942-09-01</td>\n",
       "      <td>63031</td>\n",
       "      <td>0</td>\n",
       "      <td>17818</td>\n",
       "      <td>9150</td>\n",
       "      <td>212</td>\n",
       "      <td>5758</td>\n",
       "      <td>0</td>\n",
       "      <td>10072</td>\n",
       "      <td>4840</td>\n",
       "      <td>0</td>\n",
       "      <td>15181</td>\n",
       "    </tr>\n",
       "    <tr>\n",
       "      <th>4</th>\n",
       "      <td>1942-10-01</td>\n",
       "      <td>90499</td>\n",
       "      <td>5806</td>\n",
       "      <td>17847</td>\n",
       "      <td>11555</td>\n",
       "      <td>7480</td>\n",
       "      <td>10813</td>\n",
       "      <td>0</td>\n",
       "      <td>10256</td>\n",
       "      <td>9200</td>\n",
       "      <td>2265</td>\n",
       "      <td>15277</td>\n",
       "    </tr>\n",
       "  </tbody>\n",
       "</table>\n",
       "</div>"
      ],
      "text/plain": [
       "        Date  Total  Topaz/Central Utah  Poston/Colorado River  Gila River  \\\n",
       "0 1942-06-01  17393                   0                   7281           0   \n",
       "1 1942-07-01  27633                   0                   8755           0   \n",
       "2 1942-08-01  40316                   0                  13262        2106   \n",
       "3 1942-09-01  63031                   0                  17818        9150   \n",
       "4 1942-10-01  90499                5806                  17847       11555   \n",
       "\n",
       "   Granada  Heart Mountain  Jerome  Manzanar  Minidoka  Rohwer  Tule Lake  \n",
       "0        0               0       0      9666         0       0        446  \n",
       "1        0               0       0      9840         0       0       9038  \n",
       "2        0               0       0      9928         0       0      15020  \n",
       "3      212            5758       0     10072      4840       0      15181  \n",
       "4     7480           10813       0     10256      9200    2265      15277  "
      ]
     },
     "execution_count": 13,
     "metadata": {},
     "output_type": "execute_result"
    }
   ],
   "source": [
    "pop_by_month.head()"
   ]
  },
  {
   "cell_type": "markdown",
   "metadata": {},
   "source": [
    "The **camps** table by Behind the Barbed Wire has a list of the internment camps, their locations-- city, name, latitude, and longitude-- the dates of when they opened and closed, and their maximum populations."
   ]
  },
  {
   "cell_type": "code",
   "execution_count": 14,
   "metadata": {
    "scrolled": true
   },
   "outputs": [
    {
     "data": {
      "text/html": [
       "<div>\n",
       "<style scoped>\n",
       "    .dataframe tbody tr th:only-of-type {\n",
       "        vertical-align: middle;\n",
       "    }\n",
       "\n",
       "    .dataframe tbody tr th {\n",
       "        vertical-align: top;\n",
       "    }\n",
       "\n",
       "    .dataframe thead th {\n",
       "        text-align: right;\n",
       "    }\n",
       "</style>\n",
       "<table border=\"1\" class=\"dataframe\">\n",
       "  <thead>\n",
       "    <tr style=\"text-align: right;\">\n",
       "      <th></th>\n",
       "      <th>Internment Camp Name</th>\n",
       "      <th>Location</th>\n",
       "      <th>State</th>\n",
       "      <th>Latitude</th>\n",
       "      <th>Longitude</th>\n",
       "      <th>Opened</th>\n",
       "      <th>Closed</th>\n",
       "      <th>Maximum Population</th>\n",
       "    </tr>\n",
       "  </thead>\n",
       "  <tbody>\n",
       "    <tr>\n",
       "      <th>0</th>\n",
       "      <td>Gila River Relocation Center</td>\n",
       "      <td>Rivers</td>\n",
       "      <td>Arizona</td>\n",
       "      <td>33.065083</td>\n",
       "      <td>-111.830528</td>\n",
       "      <td>20-Jul-42</td>\n",
       "      <td>16-Nov-45</td>\n",
       "      <td>13348.0</td>\n",
       "    </tr>\n",
       "    <tr>\n",
       "      <th>1</th>\n",
       "      <td>Poston Relocation Center</td>\n",
       "      <td>Parker</td>\n",
       "      <td>Arizona</td>\n",
       "      <td>33.987500</td>\n",
       "      <td>-114.401111</td>\n",
       "      <td>2-Jun-42</td>\n",
       "      <td>28-Nov-45</td>\n",
       "      <td>17814.0</td>\n",
       "    </tr>\n",
       "    <tr>\n",
       "      <th>2</th>\n",
       "      <td>Jerome Relocation Center</td>\n",
       "      <td>Denson</td>\n",
       "      <td>Arkansas</td>\n",
       "      <td>33.411667</td>\n",
       "      <td>-91.461111</td>\n",
       "      <td>6-Oct-42</td>\n",
       "      <td>30-Jun-44</td>\n",
       "      <td>8497.0</td>\n",
       "    </tr>\n",
       "    <tr>\n",
       "      <th>3</th>\n",
       "      <td>Rohwer Relocation Center</td>\n",
       "      <td>McGehee</td>\n",
       "      <td>Arkansas</td>\n",
       "      <td>33.766297</td>\n",
       "      <td>-91.280158</td>\n",
       "      <td>18-Sep-42</td>\n",
       "      <td>30-Nov-45</td>\n",
       "      <td>8475.0</td>\n",
       "    </tr>\n",
       "    <tr>\n",
       "      <th>4</th>\n",
       "      <td>Manzanar Relocation Center</td>\n",
       "      <td>Manzanar</td>\n",
       "      <td>California</td>\n",
       "      <td>36.728333</td>\n",
       "      <td>-118.154444</td>\n",
       "      <td>2-Jun-42</td>\n",
       "      <td>21-Nov-45</td>\n",
       "      <td>10046.0</td>\n",
       "    </tr>\n",
       "    <tr>\n",
       "      <th>5</th>\n",
       "      <td>Tule Lake Relocation Center</td>\n",
       "      <td>Newell</td>\n",
       "      <td>California</td>\n",
       "      <td>41.889444</td>\n",
       "      <td>-121.374722</td>\n",
       "      <td>27-May-42</td>\n",
       "      <td>20-Mar-46</td>\n",
       "      <td>18789.0</td>\n",
       "    </tr>\n",
       "    <tr>\n",
       "      <th>6</th>\n",
       "      <td>Granada Relocation Center</td>\n",
       "      <td>Amache</td>\n",
       "      <td>Colorado</td>\n",
       "      <td>38.049444</td>\n",
       "      <td>-102.328611</td>\n",
       "      <td>27-Aug-42</td>\n",
       "      <td>15-Oct-45</td>\n",
       "      <td>7318.0</td>\n",
       "    </tr>\n",
       "    <tr>\n",
       "      <th>7</th>\n",
       "      <td>Minidoka Relocation Center</td>\n",
       "      <td>Hunt</td>\n",
       "      <td>Idaho</td>\n",
       "      <td>42.679000</td>\n",
       "      <td>-114.244000</td>\n",
       "      <td>10-Aug-42</td>\n",
       "      <td>28-Oct-45</td>\n",
       "      <td>9397.0</td>\n",
       "    </tr>\n",
       "    <tr>\n",
       "      <th>8</th>\n",
       "      <td>Topaz Relocation Center</td>\n",
       "      <td>Topaz</td>\n",
       "      <td>Utah</td>\n",
       "      <td>39.418336</td>\n",
       "      <td>-112.708750</td>\n",
       "      <td>11-Sep-42</td>\n",
       "      <td>31-Oct-45</td>\n",
       "      <td>8130.0</td>\n",
       "    </tr>\n",
       "    <tr>\n",
       "      <th>9</th>\n",
       "      <td>Heart Mountain Relocation Center</td>\n",
       "      <td>Heart Mountain</td>\n",
       "      <td>Wyoming</td>\n",
       "      <td>44.671667</td>\n",
       "      <td>-108.946389</td>\n",
       "      <td>12-Aug-42</td>\n",
       "      <td>10-Nov-45</td>\n",
       "      <td>343.0</td>\n",
       "    </tr>\n",
       "  </tbody>\n",
       "</table>\n",
       "</div>"
      ],
      "text/plain": [
       "               Internment Camp Name        Location       State   Latitude  \\\n",
       "0      Gila River Relocation Center          Rivers     Arizona  33.065083   \n",
       "1          Poston Relocation Center          Parker     Arizona  33.987500   \n",
       "2          Jerome Relocation Center          Denson    Arkansas  33.411667   \n",
       "3          Rohwer Relocation Center         McGehee    Arkansas  33.766297   \n",
       "4        Manzanar Relocation Center        Manzanar  California  36.728333   \n",
       "5       Tule Lake Relocation Center          Newell  California  41.889444   \n",
       "6         Granada Relocation Center          Amache    Colorado  38.049444   \n",
       "7        Minidoka Relocation Center            Hunt       Idaho  42.679000   \n",
       "8           Topaz Relocation Center           Topaz        Utah  39.418336   \n",
       "9  Heart Mountain Relocation Center  Heart Mountain     Wyoming  44.671667   \n",
       "\n",
       "    Longitude     Opened     Closed  Maximum Population  \n",
       "0 -111.830528  20-Jul-42  16-Nov-45             13348.0  \n",
       "1 -114.401111   2-Jun-42  28-Nov-45             17814.0  \n",
       "2  -91.461111   6-Oct-42  30-Jun-44              8497.0  \n",
       "3  -91.280158  18-Sep-42  30-Nov-45              8475.0  \n",
       "4 -118.154444   2-Jun-42  21-Nov-45             10046.0  \n",
       "5 -121.374722  27-May-42  20-Mar-46             18789.0  \n",
       "6 -102.328611  27-Aug-42  15-Oct-45              7318.0  \n",
       "7 -114.244000  10-Aug-42  28-Oct-45              9397.0  \n",
       "8 -112.708750  11-Sep-42  31-Oct-45              8130.0  \n",
       "9 -108.946389  12-Aug-42  10-Nov-45               343.0  "
      ]
     },
     "execution_count": 14,
     "metadata": {},
     "output_type": "execute_result"
    }
   ],
   "source": [
    "camps"
   ]
  },
  {
   "cell_type": "markdown",
   "metadata": {},
   "source": [
    "The **assembly** table by Behind the Barbed Wire has the locations of each assembly center-- their city, state, latitude, and longitude--, as well as the number of people that were processed through each one."
   ]
  },
  {
   "cell_type": "code",
   "execution_count": 15,
   "metadata": {},
   "outputs": [
    {
     "data": {
      "text/html": [
       "<div>\n",
       "<style scoped>\n",
       "    .dataframe tbody tr th:only-of-type {\n",
       "        vertical-align: middle;\n",
       "    }\n",
       "\n",
       "    .dataframe tbody tr th {\n",
       "        vertical-align: top;\n",
       "    }\n",
       "\n",
       "    .dataframe thead th {\n",
       "        text-align: right;\n",
       "    }\n",
       "</style>\n",
       "<table border=\"1\" class=\"dataframe\">\n",
       "  <thead>\n",
       "    <tr style=\"text-align: right;\">\n",
       "      <th></th>\n",
       "      <th>Location</th>\n",
       "      <th>State</th>\n",
       "      <th>Number of People</th>\n",
       "      <th>Latitude</th>\n",
       "      <th>Longitude</th>\n",
       "    </tr>\n",
       "  </thead>\n",
       "  <tbody>\n",
       "    <tr>\n",
       "      <th>0</th>\n",
       "      <td>Sacramento (Walerga)</td>\n",
       "      <td>California</td>\n",
       "      <td>4598.0</td>\n",
       "      <td>38.566700</td>\n",
       "      <td>-121.483300</td>\n",
       "    </tr>\n",
       "    <tr>\n",
       "      <th>2</th>\n",
       "      <td>Manzanar (Up to 6/1/42)</td>\n",
       "      <td>California</td>\n",
       "      <td>9564.0</td>\n",
       "      <td>36.728333</td>\n",
       "      <td>-118.154444</td>\n",
       "    </tr>\n",
       "    <tr>\n",
       "      <th>3</th>\n",
       "      <td>Fresno</td>\n",
       "      <td>California</td>\n",
       "      <td>5069.0</td>\n",
       "      <td>36.733300</td>\n",
       "      <td>-119.766700</td>\n",
       "    </tr>\n",
       "    <tr>\n",
       "      <th>4</th>\n",
       "      <td>Marysville (Arboga)</td>\n",
       "      <td>California</td>\n",
       "      <td>2406.0</td>\n",
       "      <td>39.050000</td>\n",
       "      <td>-121.550050</td>\n",
       "    </tr>\n",
       "    <tr>\n",
       "      <th>5</th>\n",
       "      <td>Mayer</td>\n",
       "      <td>Arizona</td>\n",
       "      <td>249.0</td>\n",
       "      <td>34.383300</td>\n",
       "      <td>-112.233300</td>\n",
       "    </tr>\n",
       "    <tr>\n",
       "      <th>6</th>\n",
       "      <td>Merced</td>\n",
       "      <td>California</td>\n",
       "      <td>4081.0</td>\n",
       "      <td>37.300000</td>\n",
       "      <td>-120.466700</td>\n",
       "    </tr>\n",
       "    <tr>\n",
       "      <th>7</th>\n",
       "      <td>Pinedale</td>\n",
       "      <td>California</td>\n",
       "      <td>4664.0</td>\n",
       "      <td>36.840000</td>\n",
       "      <td>-119.800000</td>\n",
       "    </tr>\n",
       "    <tr>\n",
       "      <th>8</th>\n",
       "      <td>Pomona</td>\n",
       "      <td>California</td>\n",
       "      <td>5272.0</td>\n",
       "      <td>34.050000</td>\n",
       "      <td>-117.750000</td>\n",
       "    </tr>\n",
       "    <tr>\n",
       "      <th>9</th>\n",
       "      <td>Portland (Pacific Int. Exposition Ground)</td>\n",
       "      <td>Oregon</td>\n",
       "      <td>3667.0</td>\n",
       "      <td>45.516700</td>\n",
       "      <td>-122.666700</td>\n",
       "    </tr>\n",
       "    <tr>\n",
       "      <th>10</th>\n",
       "      <td>Puyallup</td>\n",
       "      <td>Washington</td>\n",
       "      <td>7348.0</td>\n",
       "      <td>47.183300</td>\n",
       "      <td>-122.283300</td>\n",
       "    </tr>\n",
       "    <tr>\n",
       "      <th>11</th>\n",
       "      <td>Salinas</td>\n",
       "      <td>California</td>\n",
       "      <td>3555.0</td>\n",
       "      <td>36.666700</td>\n",
       "      <td>-121.650000</td>\n",
       "    </tr>\n",
       "    <tr>\n",
       "      <th>12</th>\n",
       "      <td>Santa Anita</td>\n",
       "      <td>California</td>\n",
       "      <td>18424.0</td>\n",
       "      <td>34.133300</td>\n",
       "      <td>-118.033300</td>\n",
       "    </tr>\n",
       "    <tr>\n",
       "      <th>13</th>\n",
       "      <td>Stockton</td>\n",
       "      <td>California</td>\n",
       "      <td>4178.0</td>\n",
       "      <td>37.950000</td>\n",
       "      <td>-121.283300</td>\n",
       "    </tr>\n",
       "    <tr>\n",
       "      <th>14</th>\n",
       "      <td>Tanforan</td>\n",
       "      <td>California</td>\n",
       "      <td>7694.0</td>\n",
       "      <td>37.616700</td>\n",
       "      <td>-122.400000</td>\n",
       "    </tr>\n",
       "    <tr>\n",
       "      <th>15</th>\n",
       "      <td>Tulare</td>\n",
       "      <td>California</td>\n",
       "      <td>4915.0</td>\n",
       "      <td>36.200000</td>\n",
       "      <td>-119.333300</td>\n",
       "    </tr>\n",
       "    <tr>\n",
       "      <th>16</th>\n",
       "      <td>Turlock</td>\n",
       "      <td>California</td>\n",
       "      <td>3553.0</td>\n",
       "      <td>37.483300</td>\n",
       "      <td>-120.833300</td>\n",
       "    </tr>\n",
       "  </tbody>\n",
       "</table>\n",
       "</div>"
      ],
      "text/plain": [
       "                                     Location       State  Number of People  \\\n",
       "0                        Sacramento (Walerga)  California            4598.0   \n",
       "2                     Manzanar (Up to 6/1/42)  California            9564.0   \n",
       "3                                      Fresno  California            5069.0   \n",
       "4                         Marysville (Arboga)  California            2406.0   \n",
       "5                                       Mayer     Arizona             249.0   \n",
       "6                                      Merced  California            4081.0   \n",
       "7                                    Pinedale  California            4664.0   \n",
       "8                                      Pomona  California            5272.0   \n",
       "9   Portland (Pacific Int. Exposition Ground)      Oregon            3667.0   \n",
       "10                                   Puyallup  Washington            7348.0   \n",
       "11                                    Salinas  California            3555.0   \n",
       "12                                Santa Anita  California           18424.0   \n",
       "13                                   Stockton  California            4178.0   \n",
       "14                                   Tanforan  California            7694.0   \n",
       "15                                     Tulare  California            4915.0   \n",
       "16                                    Turlock  California            3553.0   \n",
       "\n",
       "     Latitude   Longitude  \n",
       "0   38.566700 -121.483300  \n",
       "2   36.728333 -118.154444  \n",
       "3   36.733300 -119.766700  \n",
       "4   39.050000 -121.550050  \n",
       "5   34.383300 -112.233300  \n",
       "6   37.300000 -120.466700  \n",
       "7   36.840000 -119.800000  \n",
       "8   34.050000 -117.750000  \n",
       "9   45.516700 -122.666700  \n",
       "10  47.183300 -122.283300  \n",
       "11  36.666700 -121.650000  \n",
       "12  34.133300 -118.033300  \n",
       "13  37.950000 -121.283300  \n",
       "14  37.616700 -122.400000  \n",
       "15  36.200000 -119.333300  \n",
       "16  37.483300 -120.833300  "
      ]
     },
     "execution_count": 15,
     "metadata": {},
     "output_type": "execute_result"
    }
   ],
   "source": [
    "assembly = pd.read_csv('data/BehindBarbedWire_StoryMap_AssemblyCentersMap_Data.csv', error_bad_lines = False)\n",
    "assembly = assembly.dropna(subset=['Latitude', 'Longitude']).dropna(axis = 1)\n",
    "assembly['Number of People'] = assembly['Number of People'].astype(float)\n",
    "assembly"
   ]
  },
  {
   "cell_type": "markdown",
   "metadata": {},
   "source": [
    "The **population1940_1945** table has a list of counties that Japanese Americans lived in in 1940 and 1945. A separate column calculates the percent that returned to the county that they were from."
   ]
  },
  {
   "cell_type": "code",
   "execution_count": 16,
   "metadata": {
    "scrolled": true
   },
   "outputs": [
    {
     "data": {
      "text/html": [
       "<div>\n",
       "<style scoped>\n",
       "    .dataframe tbody tr th:only-of-type {\n",
       "        vertical-align: middle;\n",
       "    }\n",
       "\n",
       "    .dataframe tbody tr th {\n",
       "        vertical-align: top;\n",
       "    }\n",
       "\n",
       "    .dataframe thead th {\n",
       "        text-align: right;\n",
       "    }\n",
       "</style>\n",
       "<table border=\"1\" class=\"dataframe\">\n",
       "  <thead>\n",
       "    <tr style=\"text-align: right;\">\n",
       "      <th></th>\n",
       "      <th>County</th>\n",
       "      <th>State</th>\n",
       "      <th>1940</th>\n",
       "      <th>1945</th>\n",
       "      <th>% returned</th>\n",
       "      <th>Latitude</th>\n",
       "      <th>Longitude</th>\n",
       "    </tr>\n",
       "  </thead>\n",
       "  <tbody>\n",
       "    <tr>\n",
       "      <th>0</th>\n",
       "      <td>Alameda</td>\n",
       "      <td>CA</td>\n",
       "      <td>5167</td>\n",
       "      <td>2703</td>\n",
       "      <td>52.3</td>\n",
       "      <td>37.779872</td>\n",
       "      <td>-122.282185</td>\n",
       "    </tr>\n",
       "    <tr>\n",
       "      <th>1</th>\n",
       "      <td>Amador</td>\n",
       "      <td>CA</td>\n",
       "      <td>2</td>\n",
       "      <td>0</td>\n",
       "      <td>0.0</td>\n",
       "      <td>37.667910</td>\n",
       "      <td>-121.873914</td>\n",
       "    </tr>\n",
       "    <tr>\n",
       "      <th>2</th>\n",
       "      <td>Butte</td>\n",
       "      <td>CA</td>\n",
       "      <td>216</td>\n",
       "      <td>107</td>\n",
       "      <td>49.5</td>\n",
       "      <td>46.003823</td>\n",
       "      <td>-112.534777</td>\n",
       "    </tr>\n",
       "    <tr>\n",
       "      <th>3</th>\n",
       "      <td>Calaveras</td>\n",
       "      <td>CA</td>\n",
       "      <td>6</td>\n",
       "      <td>0</td>\n",
       "      <td>0.0</td>\n",
       "      <td>36.159706</td>\n",
       "      <td>-95.958341</td>\n",
       "    </tr>\n",
       "    <tr>\n",
       "      <th>4</th>\n",
       "      <td>Colusa</td>\n",
       "      <td>CA</td>\n",
       "      <td>155</td>\n",
       "      <td>48</td>\n",
       "      <td>31.0</td>\n",
       "      <td>39.214334</td>\n",
       "      <td>-122.009417</td>\n",
       "    </tr>\n",
       "  </tbody>\n",
       "</table>\n",
       "</div>"
      ],
      "text/plain": [
       "      County State  1940  1945  % returned   Latitude   Longitude\n",
       "0    Alameda    CA  5167  2703        52.3  37.779872 -122.282185\n",
       "1     Amador    CA     2     0         0.0  37.667910 -121.873914\n",
       "2      Butte    CA   216   107        49.5  46.003823 -112.534777\n",
       "3  Calaveras    CA     6     0         0.0  36.159706  -95.958341\n",
       "4     Colusa    CA   155    48        31.0  39.214334 -122.009417"
      ]
     },
     "execution_count": 16,
     "metadata": {},
     "output_type": "execute_result"
    }
   ],
   "source": [
    "population1940_1945 = pd.read_csv(\"data/JapaneseAmericanPopulation_1940_1945_LL.csv\", error_bad_lines = False)\n",
    "population1940_1945.head()"
   ]
  },
  {
   "cell_type": "markdown",
   "metadata": {},
   "source": [
    "# Section 1: Data Exploration and Visualization"
   ]
  },
  {
   "cell_type": "markdown",
   "metadata": {},
   "source": [
    "Sometimes numbers don't always add up. We have two separate tables with data about the internment camps, collected by two separate organizations. Say we try to compare the maximum population of the Manzanar camps from both tables."
   ]
  },
  {
   "cell_type": "code",
   "execution_count": 17,
   "metadata": {},
   "outputs": [
    {
     "name": "stdout",
     "output_type": "stream",
     "text": [
      "Camps Data: 10046\n",
      "Popuation by Month Data: 10256\n"
     ]
    }
   ],
   "source": [
    "pop_by_month_max = pop_by_month['Manzanar'].max()\n",
    "camps_max = int(camps[camps['Internment Camp Name'] == 'Manzanar Relocation Center']['Maximum Population'])\n",
    "print('Camps Data:',  camps_max)\n",
    "print('Popuation by Month Data:' ,  pop_by_month_max)\n",
    "#Are the two numbers equal?"
   ]
  },
  {
   "cell_type": "markdown",
   "metadata": {},
   "source": [
    "The two numbers don't equal each other! The **pop_by_month** table says that the maximum population of Manzanar was 10,256, while the camps table says that the maximum was 10,046 people. While this isn't a huge difference, it's important to remember that there can be error in your datasets, and not to take any one dataset as complete and total fact. "
   ]
  },
  {
   "cell_type": "markdown",
   "metadata": {},
   "source": [
    "Now we can look at the data and start to see beyond the numbers. **This over-laid line plot compares the change in populations of the camps by month.** "
   ]
  },
  {
   "cell_type": "code",
   "execution_count": 29,
   "metadata": {},
   "outputs": [
    {
     "data": {
      "application/vnd.plotly.v1+json": {
       "config": {
        "plotlyServerURL": "https://plot.ly"
       },
       "data": [
        {
         "hoverlabel": {
          "namelength": 0
         },
         "hovertemplate": "Camp=Topaz/Central Utah<br>Date=%{x}<br>Population=%{y}",
         "legendgroup": "Camp=Topaz/Central Utah",
         "line": {
          "color": "#636efa",
          "dash": "solid"
         },
         "mode": "lines",
         "name": "Camp=Topaz/Central Utah",
         "showlegend": true,
         "type": "scatter",
         "x": [
          "1942-06-01T00:00:00",
          "1942-07-01T00:00:00",
          "1942-08-01T00:00:00",
          "1942-09-01T00:00:00",
          "1942-10-01T00:00:00",
          "1942-11-01T00:00:00",
          "1942-12-01T00:00:00",
          "1943-01-01T00:00:00",
          "1943-02-01T00:00:00",
          "1943-03-01T00:00:00",
          "1943-04-01T00:00:00",
          "1943-05-01T00:00:00",
          "1943-06-01T00:00:00",
          "1943-07-01T00:00:00",
          "1943-08-01T00:00:00",
          "1943-09-01T00:00:00",
          "1943-10-01T00:00:00",
          "1943-11-01T00:00:00",
          "1943-12-01T00:00:00",
          "1944-01-01T00:00:00",
          "1944-02-01T00:00:00",
          "1944-03-01T00:00:00",
          "1944-04-01T00:00:00",
          "1944-05-01T00:00:00",
          "1944-06-01T00:00:00",
          "1944-07-01T00:00:00",
          "1944-08-01T00:00:00",
          "1944-09-01T00:00:00",
          "1944-10-01T00:00:00",
          "1944-11-01T00:00:00",
          "1944-12-01T00:00:00",
          "1945-01-01T00:00:00",
          "1945-02-01T00:00:00",
          "1945-03-01T00:00:00",
          "1945-04-01T00:00:00",
          "1945-05-01T00:00:00",
          "1945-06-01T00:00:00",
          "1945-07-01T00:00:00",
          "1945-08-01T00:00:00",
          "1945-09-01T00:00:00",
          "1945-10-01T00:00:00",
          "1945-11-01T00:00:00",
          "1945-12-01T00:00:00",
          "1946-01-01T00:00:00",
          "1946-02-01T00:00:00",
          "1946-03-01T00:00:00"
         ],
         "xaxis": "x",
         "y": [
          0,
          0,
          0,
          0,
          5806,
          8320,
          8294,
          8232,
          8214,
          8152,
          8332,
          8189,
          8018,
          7862,
          7809,
          7682,
          7608,
          7554,
          7585,
          7559,
          7438,
          7350,
          7227,
          7084,
          6879,
          6727,
          6621,
          6426,
          6280,
          6125,
          6026,
          5984,
          5883,
          5742,
          5589,
          5413,
          5165,
          4645,
          4176,
          3339,
          1899,
          0,
          0,
          0,
          0,
          0
         ],
         "yaxis": "y"
        },
        {
         "hoverlabel": {
          "namelength": 0
         },
         "hovertemplate": "Camp=Poston/Colorado River<br>Date=%{x}<br>Population=%{y}",
         "legendgroup": "Camp=Poston/Colorado River",
         "line": {
          "color": "#EF553B",
          "dash": "solid"
         },
         "mode": "lines",
         "name": "Camp=Poston/Colorado River",
         "showlegend": true,
         "type": "scatter",
         "x": [
          "1942-06-01T00:00:00",
          "1942-07-01T00:00:00",
          "1942-08-01T00:00:00",
          "1942-09-01T00:00:00",
          "1942-10-01T00:00:00",
          "1942-11-01T00:00:00",
          "1942-12-01T00:00:00",
          "1943-01-01T00:00:00",
          "1943-02-01T00:00:00",
          "1943-03-01T00:00:00",
          "1943-04-01T00:00:00",
          "1943-05-01T00:00:00",
          "1943-06-01T00:00:00",
          "1943-07-01T00:00:00",
          "1943-08-01T00:00:00",
          "1943-09-01T00:00:00",
          "1943-10-01T00:00:00",
          "1943-11-01T00:00:00",
          "1943-12-01T00:00:00",
          "1944-01-01T00:00:00",
          "1944-02-01T00:00:00",
          "1944-03-01T00:00:00",
          "1944-04-01T00:00:00",
          "1944-05-01T00:00:00",
          "1944-06-01T00:00:00",
          "1944-07-01T00:00:00",
          "1944-08-01T00:00:00",
          "1944-09-01T00:00:00",
          "1944-10-01T00:00:00",
          "1944-11-01T00:00:00",
          "1944-12-01T00:00:00",
          "1945-01-01T00:00:00",
          "1945-02-01T00:00:00",
          "1945-03-01T00:00:00",
          "1945-04-01T00:00:00",
          "1945-05-01T00:00:00",
          "1945-06-01T00:00:00",
          "1945-07-01T00:00:00",
          "1945-08-01T00:00:00",
          "1945-09-01T00:00:00",
          "1945-10-01T00:00:00",
          "1945-11-01T00:00:00",
          "1945-12-01T00:00:00",
          "1946-01-01T00:00:00",
          "1946-02-01T00:00:00",
          "1946-03-01T00:00:00"
         ],
         "xaxis": "x",
         "y": [
          7281,
          8755,
          13262,
          17818,
          17847,
          17877,
          17965,
          8039,
          18025,
          17984,
          17941,
          17741,
          17406,
          16995,
          16671,
          16279,
          16013,
          14470,
          14372,
          14295,
          14109,
          13876,
          13453,
          13241,
          13021,
          12725,
          12517,
          12152,
          12059,
          11881,
          11751,
          11710,
          11480,
          11251,
          10828,
          10421,
          9979,
          9386,
          8750,
          6828,
          2730,
          1088,
          0,
          0,
          0,
          0
         ],
         "yaxis": "y"
        },
        {
         "hoverlabel": {
          "namelength": 0
         },
         "hovertemplate": "Camp=Gila River<br>Date=%{x}<br>Population=%{y}",
         "legendgroup": "Camp=Gila River",
         "line": {
          "color": "#00cc96",
          "dash": "solid"
         },
         "mode": "lines",
         "name": "Camp=Gila River",
         "showlegend": true,
         "type": "scatter",
         "x": [
          "1942-06-01T00:00:00",
          "1942-07-01T00:00:00",
          "1942-08-01T00:00:00",
          "1942-09-01T00:00:00",
          "1942-10-01T00:00:00",
          "1942-11-01T00:00:00",
          "1942-12-01T00:00:00",
          "1943-01-01T00:00:00",
          "1943-02-01T00:00:00",
          "1943-03-01T00:00:00",
          "1943-04-01T00:00:00",
          "1943-05-01T00:00:00",
          "1943-06-01T00:00:00",
          "1943-07-01T00:00:00",
          "1943-08-01T00:00:00",
          "1943-09-01T00:00:00",
          "1943-10-01T00:00:00",
          "1943-11-01T00:00:00",
          "1943-12-01T00:00:00",
          "1944-01-01T00:00:00",
          "1944-02-01T00:00:00",
          "1944-03-01T00:00:00",
          "1944-04-01T00:00:00",
          "1944-05-01T00:00:00",
          "1944-06-01T00:00:00",
          "1944-07-01T00:00:00",
          "1944-08-01T00:00:00",
          "1944-09-01T00:00:00",
          "1944-10-01T00:00:00",
          "1944-11-01T00:00:00",
          "1944-12-01T00:00:00",
          "1945-01-01T00:00:00",
          "1945-02-01T00:00:00",
          "1945-03-01T00:00:00",
          "1945-04-01T00:00:00",
          "1945-05-01T00:00:00",
          "1945-06-01T00:00:00",
          "1945-07-01T00:00:00",
          "1945-08-01T00:00:00",
          "1945-09-01T00:00:00",
          "1945-10-01T00:00:00",
          "1945-11-01T00:00:00",
          "1945-12-01T00:00:00",
          "1946-01-01T00:00:00",
          "1946-02-01T00:00:00",
          "1946-03-01T00:00:00"
         ],
         "xaxis": "x",
         "y": [
          0,
          0,
          2106,
          9150,
          11555,
          13368,
          13368,
          13420,
          13411,
          13374,
          13372,
          13224,
          12954,
          12683,
          12542,
          12251,
          12056,
          10017,
          9898,
          9869,
          9800,
          9655,
          9419,
          9199,
          8788,
          10531,
          10291,
          9951,
          9651,
          9550,
          9534,
          9550,
          9432,
          9207,
          8988,
          8716,
          8319,
          7684,
          6765,
          5141,
          2760,
          754,
          0,
          0,
          0,
          0
         ],
         "yaxis": "y"
        },
        {
         "hoverlabel": {
          "namelength": 0
         },
         "hovertemplate": "Camp=Granada<br>Date=%{x}<br>Population=%{y}",
         "legendgroup": "Camp=Granada",
         "line": {
          "color": "#ab63fa",
          "dash": "solid"
         },
         "mode": "lines",
         "name": "Camp=Granada",
         "showlegend": true,
         "type": "scatter",
         "x": [
          "1942-06-01T00:00:00",
          "1942-07-01T00:00:00",
          "1942-08-01T00:00:00",
          "1942-09-01T00:00:00",
          "1942-10-01T00:00:00",
          "1942-11-01T00:00:00",
          "1942-12-01T00:00:00",
          "1943-01-01T00:00:00",
          "1943-02-01T00:00:00",
          "1943-03-01T00:00:00",
          "1943-04-01T00:00:00",
          "1943-05-01T00:00:00",
          "1943-06-01T00:00:00",
          "1943-07-01T00:00:00",
          "1943-08-01T00:00:00",
          "1943-09-01T00:00:00",
          "1943-10-01T00:00:00",
          "1943-11-01T00:00:00",
          "1943-12-01T00:00:00",
          "1944-01-01T00:00:00",
          "1944-02-01T00:00:00",
          "1944-03-01T00:00:00",
          "1944-04-01T00:00:00",
          "1944-05-01T00:00:00",
          "1944-06-01T00:00:00",
          "1944-07-01T00:00:00",
          "1944-08-01T00:00:00",
          "1944-09-01T00:00:00",
          "1944-10-01T00:00:00",
          "1944-11-01T00:00:00",
          "1944-12-01T00:00:00",
          "1945-01-01T00:00:00",
          "1945-02-01T00:00:00",
          "1945-03-01T00:00:00",
          "1945-04-01T00:00:00",
          "1945-05-01T00:00:00",
          "1945-06-01T00:00:00",
          "1945-07-01T00:00:00",
          "1945-08-01T00:00:00",
          "1945-09-01T00:00:00",
          "1945-10-01T00:00:00",
          "1945-11-01T00:00:00",
          "1945-12-01T00:00:00",
          "1946-01-01T00:00:00",
          "1946-02-01T00:00:00",
          "1946-03-01T00:00:00"
         ],
         "xaxis": "x",
         "y": [
          0,
          0,
          0,
          212,
          7480,
          7654,
          7651,
          7656,
          7622,
          7619,
          7476,
          7222,
          7016,
          6931,
          3876,
          6764,
          7494,
          7368,
          7393,
          7355,
          7176,
          6983,
          6786,
          6685,
          6424,
          6816,
          6664,
          6490,
          6403,
          6371,
          6311,
          6255,
          6177,
          6035,
          5805,
          5411,
          4980,
          4256,
          3758,
          3155,
          1379,
          0,
          0,
          0,
          0,
          0
         ],
         "yaxis": "y"
        },
        {
         "hoverlabel": {
          "namelength": 0
         },
         "hovertemplate": "Camp=Heart Mountain<br>Date=%{x}<br>Population=%{y}",
         "legendgroup": "Camp=Heart Mountain",
         "line": {
          "color": "#FFA15A",
          "dash": "solid"
         },
         "mode": "lines",
         "name": "Camp=Heart Mountain",
         "showlegend": true,
         "type": "scatter",
         "x": [
          "1942-06-01T00:00:00",
          "1942-07-01T00:00:00",
          "1942-08-01T00:00:00",
          "1942-09-01T00:00:00",
          "1942-10-01T00:00:00",
          "1942-11-01T00:00:00",
          "1942-12-01T00:00:00",
          "1943-01-01T00:00:00",
          "1943-02-01T00:00:00",
          "1943-03-01T00:00:00",
          "1943-04-01T00:00:00",
          "1943-05-01T00:00:00",
          "1943-06-01T00:00:00",
          "1943-07-01T00:00:00",
          "1943-08-01T00:00:00",
          "1943-09-01T00:00:00",
          "1943-10-01T00:00:00",
          "1943-11-01T00:00:00",
          "1943-12-01T00:00:00",
          "1944-01-01T00:00:00",
          "1944-02-01T00:00:00",
          "1944-03-01T00:00:00",
          "1944-04-01T00:00:00",
          "1944-05-01T00:00:00",
          "1944-06-01T00:00:00",
          "1944-07-01T00:00:00",
          "1944-08-01T00:00:00",
          "1944-09-01T00:00:00",
          "1944-10-01T00:00:00",
          "1944-11-01T00:00:00",
          "1944-12-01T00:00:00",
          "1945-01-01T00:00:00",
          "1945-02-01T00:00:00",
          "1945-03-01T00:00:00",
          "1945-04-01T00:00:00",
          "1945-05-01T00:00:00",
          "1945-06-01T00:00:00",
          "1945-07-01T00:00:00",
          "1945-08-01T00:00:00",
          "1945-09-01T00:00:00",
          "1945-10-01T00:00:00",
          "1945-11-01T00:00:00",
          "1945-12-01T00:00:00",
          "1946-01-01T00:00:00",
          "1946-02-01T00:00:00",
          "1946-03-01T00:00:00"
         ],
         "xaxis": "x",
         "y": [
          0,
          0,
          0,
          5758,
          10813,
          11107,
          11105,
          11062,
          11006,
          10959,
          10886,
          10724,
          10520,
          10307,
          10178,
          10073,
          10509,
          10426,
          10406,
          10388,
          10242,
          10112,
          9962,
          9760,
          9420,
          9712,
          9433,
          9241,
          9035,
          8886,
          8669,
          8537,
          8445,
          8213,
          7997,
          7556,
          7084,
          6325,
          5714,
          4611,
          3312,
          1156,
          0,
          0,
          0,
          0
         ],
         "yaxis": "y"
        },
        {
         "hoverlabel": {
          "namelength": 0
         },
         "hovertemplate": "Camp=Jerome<br>Date=%{x}<br>Population=%{y}",
         "legendgroup": "Camp=Jerome",
         "line": {
          "color": "#19d3f3",
          "dash": "solid"
         },
         "mode": "lines",
         "name": "Camp=Jerome",
         "showlegend": true,
         "type": "scatter",
         "x": [
          "1942-06-01T00:00:00",
          "1942-07-01T00:00:00",
          "1942-08-01T00:00:00",
          "1942-09-01T00:00:00",
          "1942-10-01T00:00:00",
          "1942-11-01T00:00:00",
          "1942-12-01T00:00:00",
          "1943-01-01T00:00:00",
          "1943-02-01T00:00:00",
          "1943-03-01T00:00:00",
          "1943-04-01T00:00:00",
          "1943-05-01T00:00:00",
          "1943-06-01T00:00:00",
          "1943-07-01T00:00:00",
          "1943-08-01T00:00:00",
          "1943-09-01T00:00:00",
          "1943-10-01T00:00:00",
          "1943-11-01T00:00:00",
          "1943-12-01T00:00:00",
          "1944-01-01T00:00:00",
          "1944-02-01T00:00:00",
          "1944-03-01T00:00:00",
          "1944-04-01T00:00:00",
          "1944-05-01T00:00:00",
          "1944-06-01T00:00:00",
          "1944-07-01T00:00:00",
          "1944-08-01T00:00:00",
          "1944-09-01T00:00:00",
          "1944-10-01T00:00:00",
          "1944-11-01T00:00:00",
          "1944-12-01T00:00:00",
          "1945-01-01T00:00:00",
          "1945-02-01T00:00:00",
          "1945-03-01T00:00:00",
          "1945-04-01T00:00:00",
          "1945-05-01T00:00:00",
          "1945-06-01T00:00:00",
          "1945-07-01T00:00:00",
          "1945-08-01T00:00:00",
          "1945-09-01T00:00:00",
          "1945-10-01T00:00:00",
          "1945-11-01T00:00:00",
          "1945-12-01T00:00:00",
          "1946-01-01T00:00:00",
          "1946-02-01T00:00:00",
          "1946-03-01T00:00:00"
         ],
         "xaxis": "x",
         "y": [
          0,
          0,
          0,
          0,
          0,
          7039,
          7925,
          7932,
          8354,
          8587,
          8526,
          8350,
          8182,
          7972,
          7808,
          7649,
          6899,
          6787,
          6726,
          6700,
          6632,
          6537,
          6529,
          6467,
          5601,
          4,
          4,
          4,
          3,
          3,
          3,
          3,
          2,
          2,
          0,
          0,
          0,
          0,
          0,
          0,
          0,
          0,
          0,
          0,
          0,
          0
         ],
         "yaxis": "y"
        },
        {
         "hoverlabel": {
          "namelength": 0
         },
         "hovertemplate": "Camp=Manzanar<br>Date=%{x}<br>Population=%{y}",
         "legendgroup": "Camp=Manzanar",
         "line": {
          "color": "#FF6692",
          "dash": "solid"
         },
         "mode": "lines",
         "name": "Camp=Manzanar",
         "showlegend": true,
         "type": "scatter",
         "x": [
          "1942-06-01T00:00:00",
          "1942-07-01T00:00:00",
          "1942-08-01T00:00:00",
          "1942-09-01T00:00:00",
          "1942-10-01T00:00:00",
          "1942-11-01T00:00:00",
          "1942-12-01T00:00:00",
          "1943-01-01T00:00:00",
          "1943-02-01T00:00:00",
          "1943-03-01T00:00:00",
          "1943-04-01T00:00:00",
          "1943-05-01T00:00:00",
          "1943-06-01T00:00:00",
          "1943-07-01T00:00:00",
          "1943-08-01T00:00:00",
          "1943-09-01T00:00:00",
          "1943-10-01T00:00:00",
          "1943-11-01T00:00:00",
          "1943-12-01T00:00:00",
          "1944-01-01T00:00:00",
          "1944-02-01T00:00:00",
          "1944-03-01T00:00:00",
          "1944-04-01T00:00:00",
          "1944-05-01T00:00:00",
          "1944-06-01T00:00:00",
          "1944-07-01T00:00:00",
          "1944-08-01T00:00:00",
          "1944-09-01T00:00:00",
          "1944-10-01T00:00:00",
          "1944-11-01T00:00:00",
          "1944-12-01T00:00:00",
          "1945-01-01T00:00:00",
          "1945-02-01T00:00:00",
          "1945-03-01T00:00:00",
          "1945-04-01T00:00:00",
          "1945-05-01T00:00:00",
          "1945-06-01T00:00:00",
          "1945-07-01T00:00:00",
          "1945-08-01T00:00:00",
          "1945-09-01T00:00:00",
          "1945-10-01T00:00:00",
          "1945-11-01T00:00:00",
          "1945-12-01T00:00:00",
          "1946-01-01T00:00:00",
          "1946-02-01T00:00:00",
          "1946-03-01T00:00:00"
         ],
         "xaxis": "x",
         "y": [
          9666,
          9840,
          9928,
          10072,
          10256,
          10181,
          10177,
          10121,
          10079,
          9796,
          9707,
          9496,
          9272,
          9197,
          9163,
          9105,
          9045,
          8701,
          8621,
          8643,
          8580,
          6655,
          6565,
          6456,
          6341,
          6232,
          6138,
          6057,
          5939,
          5836,
          5668,
          5588,
          5522,
          5435,
          5298,
          5030,
          4658,
          4248,
          3994,
          3552,
          2891,
          1146,
          0,
          0,
          0,
          0
         ],
         "yaxis": "y"
        },
        {
         "hoverlabel": {
          "namelength": 0
         },
         "hovertemplate": "Camp=Minidoka<br>Date=%{x}<br>Population=%{y}",
         "legendgroup": "Camp=Minidoka",
         "line": {
          "color": "#B6E880",
          "dash": "solid"
         },
         "mode": "lines",
         "name": "Camp=Minidoka",
         "showlegend": true,
         "type": "scatter",
         "x": [
          "1942-06-01T00:00:00",
          "1942-07-01T00:00:00",
          "1942-08-01T00:00:00",
          "1942-09-01T00:00:00",
          "1942-10-01T00:00:00",
          "1942-11-01T00:00:00",
          "1942-12-01T00:00:00",
          "1943-01-01T00:00:00",
          "1943-02-01T00:00:00",
          "1943-03-01T00:00:00",
          "1943-04-01T00:00:00",
          "1943-05-01T00:00:00",
          "1943-06-01T00:00:00",
          "1943-07-01T00:00:00",
          "1943-08-01T00:00:00",
          "1943-09-01T00:00:00",
          "1943-10-01T00:00:00",
          "1943-11-01T00:00:00",
          "1943-12-01T00:00:00",
          "1944-01-01T00:00:00",
          "1944-02-01T00:00:00",
          "1944-03-01T00:00:00",
          "1944-04-01T00:00:00",
          "1944-05-01T00:00:00",
          "1944-06-01T00:00:00",
          "1944-07-01T00:00:00",
          "1944-08-01T00:00:00",
          "1944-09-01T00:00:00",
          "1944-10-01T00:00:00",
          "1944-11-01T00:00:00",
          "1944-12-01T00:00:00",
          "1945-01-01T00:00:00",
          "1945-02-01T00:00:00",
          "1945-03-01T00:00:00",
          "1945-04-01T00:00:00",
          "1945-05-01T00:00:00",
          "1945-06-01T00:00:00",
          "1945-07-01T00:00:00",
          "1945-08-01T00:00:00",
          "1945-09-01T00:00:00",
          "1945-10-01T00:00:00",
          "1945-11-01T00:00:00",
          "1945-12-01T00:00:00",
          "1946-01-01T00:00:00",
          "1946-02-01T00:00:00",
          "1946-03-01T00:00:00"
         ],
         "xaxis": "x",
         "y": [
          0,
          0,
          0,
          4840,
          9200,
          9846,
          9849,
          9861,
          9814,
          9924,
          9772,
          9401,
          8989,
          8752,
          8556,
          8325,
          9530,
          9419,
          9492,
          9461,
          9374,
          9288,
          9027,
          8856,
          8514,
          8335,
          8160,
          8099,
          7972,
          7976,
          7867,
          7770,
          7574,
          7373,
          6851,
          6382,
          5615,
          4937,
          4330,
          3218,
          1482,
          0,
          0,
          0,
          0,
          0
         ],
         "yaxis": "y"
        },
        {
         "hoverlabel": {
          "namelength": 0
         },
         "hovertemplate": "Camp=Rohwer<br>Date=%{x}<br>Population=%{y}",
         "legendgroup": "Camp=Rohwer",
         "line": {
          "color": "#FF97FF",
          "dash": "solid"
         },
         "mode": "lines",
         "name": "Camp=Rohwer",
         "showlegend": true,
         "type": "scatter",
         "x": [
          "1942-06-01T00:00:00",
          "1942-07-01T00:00:00",
          "1942-08-01T00:00:00",
          "1942-09-01T00:00:00",
          "1942-10-01T00:00:00",
          "1942-11-01T00:00:00",
          "1942-12-01T00:00:00",
          "1943-01-01T00:00:00",
          "1943-02-01T00:00:00",
          "1943-03-01T00:00:00",
          "1943-04-01T00:00:00",
          "1943-05-01T00:00:00",
          "1943-06-01T00:00:00",
          "1943-07-01T00:00:00",
          "1943-08-01T00:00:00",
          "1943-09-01T00:00:00",
          "1943-10-01T00:00:00",
          "1943-11-01T00:00:00",
          "1943-12-01T00:00:00",
          "1944-01-01T00:00:00",
          "1944-02-01T00:00:00",
          "1944-03-01T00:00:00",
          "1944-04-01T00:00:00",
          "1944-05-01T00:00:00",
          "1944-06-01T00:00:00",
          "1944-07-01T00:00:00",
          "1944-08-01T00:00:00",
          "1944-09-01T00:00:00",
          "1944-10-01T00:00:00",
          "1944-11-01T00:00:00",
          "1944-12-01T00:00:00",
          "1945-01-01T00:00:00",
          "1945-02-01T00:00:00",
          "1945-03-01T00:00:00",
          "1945-04-01T00:00:00",
          "1945-05-01T00:00:00",
          "1945-06-01T00:00:00",
          "1945-07-01T00:00:00",
          "1945-08-01T00:00:00",
          "1945-09-01T00:00:00",
          "1945-10-01T00:00:00",
          "1945-11-01T00:00:00",
          "1945-12-01T00:00:00",
          "1946-01-01T00:00:00",
          "1946-02-01T00:00:00",
          "1946-03-01T00:00:00"
         ],
         "xaxis": "x",
         "y": [
          0,
          0,
          0,
          0,
          2265,
          8407,
          8515,
          8548,
          8538,
          8528,
          8478,
          8286,
          8061,
          7895,
          7781,
          7552,
          7123,
          6731,
          6676,
          6676,
          6600,
          6514,
          6375,
          6248,
          5479,
          7623,
          7279,
          6900,
          6764,
          6700,
          6689,
          6747,
          6697,
          6563,
          6339,
          5991,
          5447,
          4910,
          4098,
          3332,
          2175,
          1804,
          0,
          0,
          0,
          0
         ],
         "yaxis": "y"
        },
        {
         "hoverlabel": {
          "namelength": 0
         },
         "hovertemplate": "Camp=Tule Lake<br>Date=%{x}<br>Population=%{y}",
         "legendgroup": "Camp=Tule Lake",
         "line": {
          "color": "#FECB52",
          "dash": "solid"
         },
         "mode": "lines",
         "name": "Camp=Tule Lake",
         "showlegend": true,
         "type": "scatter",
         "x": [
          "1942-06-01T00:00:00",
          "1942-07-01T00:00:00",
          "1942-08-01T00:00:00",
          "1942-09-01T00:00:00",
          "1942-10-01T00:00:00",
          "1942-11-01T00:00:00",
          "1942-12-01T00:00:00",
          "1943-01-01T00:00:00",
          "1943-02-01T00:00:00",
          "1943-03-01T00:00:00",
          "1943-04-01T00:00:00",
          "1943-05-01T00:00:00",
          "1943-06-01T00:00:00",
          "1943-07-01T00:00:00",
          "1943-08-01T00:00:00",
          "1943-09-01T00:00:00",
          "1943-10-01T00:00:00",
          "1943-11-01T00:00:00",
          "1943-12-01T00:00:00",
          "1944-01-01T00:00:00",
          "1944-02-01T00:00:00",
          "1944-03-01T00:00:00",
          "1944-04-01T00:00:00",
          "1944-05-01T00:00:00",
          "1944-06-01T00:00:00",
          "1944-07-01T00:00:00",
          "1944-08-01T00:00:00",
          "1944-09-01T00:00:00",
          "1944-10-01T00:00:00",
          "1944-11-01T00:00:00",
          "1944-12-01T00:00:00",
          "1945-01-01T00:00:00",
          "1945-02-01T00:00:00",
          "1945-03-01T00:00:00",
          "1945-04-01T00:00:00",
          "1945-05-01T00:00:00",
          "1945-06-01T00:00:00",
          "1945-07-01T00:00:00",
          "1945-08-01T00:00:00",
          "1945-09-01T00:00:00",
          "1945-10-01T00:00:00",
          "1945-11-01T00:00:00",
          "1945-12-01T00:00:00",
          "1946-01-01T00:00:00",
          "1946-02-01T00:00:00",
          "1946-03-01T00:00:00"
         ],
         "xaxis": "x",
         "y": [
          446,
          9038,
          15020,
          15181,
          15277,
          15393,
          15311,
          15369,
          15274,
          15219,
          15124,
          15015,
          14828,
          14630,
          14484,
          14185,
          12183,
          16012,
          15671,
          15630,
          15625,
          17492,
          17580,
          16964,
          18652,
          18678,
          18709,
          18726,
          18728,
          18718,
          18770,
          18734,
          18593,
          17953,
          17864,
          17886,
          17879,
          17466,
          17366,
          17286,
          16740,
          15450,
          12628,
          7303,
          5046,
          2808
         ],
         "yaxis": "y"
        }
       ],
       "layout": {
        "height": 600,
        "legend": {
         "tracegroupgap": 0
        },
        "template": {
         "data": {
          "bar": [
           {
            "error_x": {
             "color": "#2a3f5f"
            },
            "error_y": {
             "color": "#2a3f5f"
            },
            "marker": {
             "line": {
              "color": "#E5ECF6",
              "width": 0.5
             }
            },
            "type": "bar"
           }
          ],
          "barpolar": [
           {
            "marker": {
             "line": {
              "color": "#E5ECF6",
              "width": 0.5
             }
            },
            "type": "barpolar"
           }
          ],
          "carpet": [
           {
            "aaxis": {
             "endlinecolor": "#2a3f5f",
             "gridcolor": "white",
             "linecolor": "white",
             "minorgridcolor": "white",
             "startlinecolor": "#2a3f5f"
            },
            "baxis": {
             "endlinecolor": "#2a3f5f",
             "gridcolor": "white",
             "linecolor": "white",
             "minorgridcolor": "white",
             "startlinecolor": "#2a3f5f"
            },
            "type": "carpet"
           }
          ],
          "choropleth": [
           {
            "colorbar": {
             "outlinewidth": 0,
             "ticks": ""
            },
            "type": "choropleth"
           }
          ],
          "contour": [
           {
            "colorbar": {
             "outlinewidth": 0,
             "ticks": ""
            },
            "colorscale": [
             [
              0,
              "#0d0887"
             ],
             [
              0.1111111111111111,
              "#46039f"
             ],
             [
              0.2222222222222222,
              "#7201a8"
             ],
             [
              0.3333333333333333,
              "#9c179e"
             ],
             [
              0.4444444444444444,
              "#bd3786"
             ],
             [
              0.5555555555555556,
              "#d8576b"
             ],
             [
              0.6666666666666666,
              "#ed7953"
             ],
             [
              0.7777777777777778,
              "#fb9f3a"
             ],
             [
              0.8888888888888888,
              "#fdca26"
             ],
             [
              1,
              "#f0f921"
             ]
            ],
            "type": "contour"
           }
          ],
          "contourcarpet": [
           {
            "colorbar": {
             "outlinewidth": 0,
             "ticks": ""
            },
            "type": "contourcarpet"
           }
          ],
          "heatmap": [
           {
            "colorbar": {
             "outlinewidth": 0,
             "ticks": ""
            },
            "colorscale": [
             [
              0,
              "#0d0887"
             ],
             [
              0.1111111111111111,
              "#46039f"
             ],
             [
              0.2222222222222222,
              "#7201a8"
             ],
             [
              0.3333333333333333,
              "#9c179e"
             ],
             [
              0.4444444444444444,
              "#bd3786"
             ],
             [
              0.5555555555555556,
              "#d8576b"
             ],
             [
              0.6666666666666666,
              "#ed7953"
             ],
             [
              0.7777777777777778,
              "#fb9f3a"
             ],
             [
              0.8888888888888888,
              "#fdca26"
             ],
             [
              1,
              "#f0f921"
             ]
            ],
            "type": "heatmap"
           }
          ],
          "heatmapgl": [
           {
            "colorbar": {
             "outlinewidth": 0,
             "ticks": ""
            },
            "colorscale": [
             [
              0,
              "#0d0887"
             ],
             [
              0.1111111111111111,
              "#46039f"
             ],
             [
              0.2222222222222222,
              "#7201a8"
             ],
             [
              0.3333333333333333,
              "#9c179e"
             ],
             [
              0.4444444444444444,
              "#bd3786"
             ],
             [
              0.5555555555555556,
              "#d8576b"
             ],
             [
              0.6666666666666666,
              "#ed7953"
             ],
             [
              0.7777777777777778,
              "#fb9f3a"
             ],
             [
              0.8888888888888888,
              "#fdca26"
             ],
             [
              1,
              "#f0f921"
             ]
            ],
            "type": "heatmapgl"
           }
          ],
          "histogram": [
           {
            "marker": {
             "colorbar": {
              "outlinewidth": 0,
              "ticks": ""
             }
            },
            "type": "histogram"
           }
          ],
          "histogram2d": [
           {
            "colorbar": {
             "outlinewidth": 0,
             "ticks": ""
            },
            "colorscale": [
             [
              0,
              "#0d0887"
             ],
             [
              0.1111111111111111,
              "#46039f"
             ],
             [
              0.2222222222222222,
              "#7201a8"
             ],
             [
              0.3333333333333333,
              "#9c179e"
             ],
             [
              0.4444444444444444,
              "#bd3786"
             ],
             [
              0.5555555555555556,
              "#d8576b"
             ],
             [
              0.6666666666666666,
              "#ed7953"
             ],
             [
              0.7777777777777778,
              "#fb9f3a"
             ],
             [
              0.8888888888888888,
              "#fdca26"
             ],
             [
              1,
              "#f0f921"
             ]
            ],
            "type": "histogram2d"
           }
          ],
          "histogram2dcontour": [
           {
            "colorbar": {
             "outlinewidth": 0,
             "ticks": ""
            },
            "colorscale": [
             [
              0,
              "#0d0887"
             ],
             [
              0.1111111111111111,
              "#46039f"
             ],
             [
              0.2222222222222222,
              "#7201a8"
             ],
             [
              0.3333333333333333,
              "#9c179e"
             ],
             [
              0.4444444444444444,
              "#bd3786"
             ],
             [
              0.5555555555555556,
              "#d8576b"
             ],
             [
              0.6666666666666666,
              "#ed7953"
             ],
             [
              0.7777777777777778,
              "#fb9f3a"
             ],
             [
              0.8888888888888888,
              "#fdca26"
             ],
             [
              1,
              "#f0f921"
             ]
            ],
            "type": "histogram2dcontour"
           }
          ],
          "mesh3d": [
           {
            "colorbar": {
             "outlinewidth": 0,
             "ticks": ""
            },
            "type": "mesh3d"
           }
          ],
          "parcoords": [
           {
            "line": {
             "colorbar": {
              "outlinewidth": 0,
              "ticks": ""
             }
            },
            "type": "parcoords"
           }
          ],
          "scatter": [
           {
            "marker": {
             "colorbar": {
              "outlinewidth": 0,
              "ticks": ""
             }
            },
            "type": "scatter"
           }
          ],
          "scatter3d": [
           {
            "line": {
             "colorbar": {
              "outlinewidth": 0,
              "ticks": ""
             }
            },
            "marker": {
             "colorbar": {
              "outlinewidth": 0,
              "ticks": ""
             }
            },
            "type": "scatter3d"
           }
          ],
          "scattercarpet": [
           {
            "marker": {
             "colorbar": {
              "outlinewidth": 0,
              "ticks": ""
             }
            },
            "type": "scattercarpet"
           }
          ],
          "scattergeo": [
           {
            "marker": {
             "colorbar": {
              "outlinewidth": 0,
              "ticks": ""
             }
            },
            "type": "scattergeo"
           }
          ],
          "scattergl": [
           {
            "marker": {
             "colorbar": {
              "outlinewidth": 0,
              "ticks": ""
             }
            },
            "type": "scattergl"
           }
          ],
          "scattermapbox": [
           {
            "marker": {
             "colorbar": {
              "outlinewidth": 0,
              "ticks": ""
             }
            },
            "type": "scattermapbox"
           }
          ],
          "scatterpolar": [
           {
            "marker": {
             "colorbar": {
              "outlinewidth": 0,
              "ticks": ""
             }
            },
            "type": "scatterpolar"
           }
          ],
          "scatterpolargl": [
           {
            "marker": {
             "colorbar": {
              "outlinewidth": 0,
              "ticks": ""
             }
            },
            "type": "scatterpolargl"
           }
          ],
          "scatterternary": [
           {
            "marker": {
             "colorbar": {
              "outlinewidth": 0,
              "ticks": ""
             }
            },
            "type": "scatterternary"
           }
          ],
          "surface": [
           {
            "colorbar": {
             "outlinewidth": 0,
             "ticks": ""
            },
            "colorscale": [
             [
              0,
              "#0d0887"
             ],
             [
              0.1111111111111111,
              "#46039f"
             ],
             [
              0.2222222222222222,
              "#7201a8"
             ],
             [
              0.3333333333333333,
              "#9c179e"
             ],
             [
              0.4444444444444444,
              "#bd3786"
             ],
             [
              0.5555555555555556,
              "#d8576b"
             ],
             [
              0.6666666666666666,
              "#ed7953"
             ],
             [
              0.7777777777777778,
              "#fb9f3a"
             ],
             [
              0.8888888888888888,
              "#fdca26"
             ],
             [
              1,
              "#f0f921"
             ]
            ],
            "type": "surface"
           }
          ],
          "table": [
           {
            "cells": {
             "fill": {
              "color": "#EBF0F8"
             },
             "line": {
              "color": "white"
             }
            },
            "header": {
             "fill": {
              "color": "#C8D4E3"
             },
             "line": {
              "color": "white"
             }
            },
            "type": "table"
           }
          ]
         },
         "layout": {
          "annotationdefaults": {
           "arrowcolor": "#2a3f5f",
           "arrowhead": 0,
           "arrowwidth": 1
          },
          "colorscale": {
           "diverging": [
            [
             0,
             "#8e0152"
            ],
            [
             0.1,
             "#c51b7d"
            ],
            [
             0.2,
             "#de77ae"
            ],
            [
             0.3,
             "#f1b6da"
            ],
            [
             0.4,
             "#fde0ef"
            ],
            [
             0.5,
             "#f7f7f7"
            ],
            [
             0.6,
             "#e6f5d0"
            ],
            [
             0.7,
             "#b8e186"
            ],
            [
             0.8,
             "#7fbc41"
            ],
            [
             0.9,
             "#4d9221"
            ],
            [
             1,
             "#276419"
            ]
           ],
           "sequential": [
            [
             0,
             "#0d0887"
            ],
            [
             0.1111111111111111,
             "#46039f"
            ],
            [
             0.2222222222222222,
             "#7201a8"
            ],
            [
             0.3333333333333333,
             "#9c179e"
            ],
            [
             0.4444444444444444,
             "#bd3786"
            ],
            [
             0.5555555555555556,
             "#d8576b"
            ],
            [
             0.6666666666666666,
             "#ed7953"
            ],
            [
             0.7777777777777778,
             "#fb9f3a"
            ],
            [
             0.8888888888888888,
             "#fdca26"
            ],
            [
             1,
             "#f0f921"
            ]
           ],
           "sequentialminus": [
            [
             0,
             "#0d0887"
            ],
            [
             0.1111111111111111,
             "#46039f"
            ],
            [
             0.2222222222222222,
             "#7201a8"
            ],
            [
             0.3333333333333333,
             "#9c179e"
            ],
            [
             0.4444444444444444,
             "#bd3786"
            ],
            [
             0.5555555555555556,
             "#d8576b"
            ],
            [
             0.6666666666666666,
             "#ed7953"
            ],
            [
             0.7777777777777778,
             "#fb9f3a"
            ],
            [
             0.8888888888888888,
             "#fdca26"
            ],
            [
             1,
             "#f0f921"
            ]
           ]
          },
          "colorway": [
           "#636efa",
           "#EF553B",
           "#00cc96",
           "#ab63fa",
           "#FFA15A",
           "#19d3f3",
           "#FF6692",
           "#B6E880",
           "#FF97FF",
           "#FECB52"
          ],
          "font": {
           "color": "#2a3f5f"
          },
          "geo": {
           "bgcolor": "white",
           "lakecolor": "white",
           "landcolor": "#E5ECF6",
           "showlakes": true,
           "showland": true,
           "subunitcolor": "white"
          },
          "hoverlabel": {
           "align": "left"
          },
          "hovermode": "closest",
          "mapbox": {
           "style": "light"
          },
          "paper_bgcolor": "white",
          "plot_bgcolor": "#E5ECF6",
          "polar": {
           "angularaxis": {
            "gridcolor": "white",
            "linecolor": "white",
            "ticks": ""
           },
           "bgcolor": "#E5ECF6",
           "radialaxis": {
            "gridcolor": "white",
            "linecolor": "white",
            "ticks": ""
           }
          },
          "scene": {
           "xaxis": {
            "backgroundcolor": "#E5ECF6",
            "gridcolor": "white",
            "gridwidth": 2,
            "linecolor": "white",
            "showbackground": true,
            "ticks": "",
            "zerolinecolor": "white"
           },
           "yaxis": {
            "backgroundcolor": "#E5ECF6",
            "gridcolor": "white",
            "gridwidth": 2,
            "linecolor": "white",
            "showbackground": true,
            "ticks": "",
            "zerolinecolor": "white"
           },
           "zaxis": {
            "backgroundcolor": "#E5ECF6",
            "gridcolor": "white",
            "gridwidth": 2,
            "linecolor": "white",
            "showbackground": true,
            "ticks": "",
            "zerolinecolor": "white"
           }
          },
          "shapedefaults": {
           "line": {
            "color": "#2a3f5f"
           }
          },
          "ternary": {
           "aaxis": {
            "gridcolor": "white",
            "linecolor": "white",
            "ticks": ""
           },
           "baxis": {
            "gridcolor": "white",
            "linecolor": "white",
            "ticks": ""
           },
           "bgcolor": "#E5ECF6",
           "caxis": {
            "gridcolor": "white",
            "linecolor": "white",
            "ticks": ""
           }
          },
          "title": {
           "x": 0.05
          },
          "xaxis": {
           "automargin": true,
           "gridcolor": "white",
           "linecolor": "white",
           "ticks": "",
           "zerolinecolor": "white",
           "zerolinewidth": 2
          },
          "yaxis": {
           "automargin": true,
           "gridcolor": "white",
           "linecolor": "white",
           "ticks": "",
           "zerolinecolor": "white",
           "zerolinewidth": 2
          }
         }
        },
        "title": {
         "text": "Camp Populations by Month"
        },
        "xaxis": {
         "anchor": "y",
         "domain": [
          0,
          0.98
         ],
         "title": {
          "text": "Date"
         }
        },
        "yaxis": {
         "anchor": "x",
         "domain": [
          0,
          1
         ],
         "title": {
          "text": "Population"
         }
        }
       }
      },
      "text/html": [
       "<div>\n",
       "        \n",
       "        \n",
       "            <div id=\"9507538a-35f5-4960-829c-8c0f8a21785d\" class=\"plotly-graph-div\" style=\"height:600px; width:100%;\"></div>\n",
       "            <script type=\"text/javascript\">\n",
       "                require([\"plotly\"], function(Plotly) {\n",
       "                    window.PLOTLYENV=window.PLOTLYENV || {};\n",
       "                    \n",
       "                if (document.getElementById(\"9507538a-35f5-4960-829c-8c0f8a21785d\")) {\n",
       "                    Plotly.newPlot(\n",
       "                        '9507538a-35f5-4960-829c-8c0f8a21785d',\n",
       "                        [{\"hoverlabel\": {\"namelength\": 0}, \"hovertemplate\": \"Camp=Topaz/Central Utah<br>Date=%{x}<br>Population=%{y}\", \"legendgroup\": \"Camp=Topaz/Central Utah\", \"line\": {\"color\": \"#636efa\", \"dash\": \"solid\"}, \"mode\": \"lines\", \"name\": \"Camp=Topaz/Central Utah\", \"showlegend\": true, \"type\": \"scatter\", \"x\": [\"1942-06-01T00:00:00\", \"1942-07-01T00:00:00\", \"1942-08-01T00:00:00\", \"1942-09-01T00:00:00\", \"1942-10-01T00:00:00\", \"1942-11-01T00:00:00\", \"1942-12-01T00:00:00\", \"1943-01-01T00:00:00\", \"1943-02-01T00:00:00\", \"1943-03-01T00:00:00\", \"1943-04-01T00:00:00\", \"1943-05-01T00:00:00\", \"1943-06-01T00:00:00\", \"1943-07-01T00:00:00\", \"1943-08-01T00:00:00\", \"1943-09-01T00:00:00\", \"1943-10-01T00:00:00\", \"1943-11-01T00:00:00\", \"1943-12-01T00:00:00\", \"1944-01-01T00:00:00\", \"1944-02-01T00:00:00\", \"1944-03-01T00:00:00\", \"1944-04-01T00:00:00\", \"1944-05-01T00:00:00\", \"1944-06-01T00:00:00\", \"1944-07-01T00:00:00\", \"1944-08-01T00:00:00\", \"1944-09-01T00:00:00\", \"1944-10-01T00:00:00\", \"1944-11-01T00:00:00\", \"1944-12-01T00:00:00\", \"1945-01-01T00:00:00\", \"1945-02-01T00:00:00\", \"1945-03-01T00:00:00\", \"1945-04-01T00:00:00\", \"1945-05-01T00:00:00\", \"1945-06-01T00:00:00\", \"1945-07-01T00:00:00\", \"1945-08-01T00:00:00\", \"1945-09-01T00:00:00\", \"1945-10-01T00:00:00\", \"1945-11-01T00:00:00\", \"1945-12-01T00:00:00\", \"1946-01-01T00:00:00\", \"1946-02-01T00:00:00\", \"1946-03-01T00:00:00\"], \"xaxis\": \"x\", \"y\": [0, 0, 0, 0, 5806, 8320, 8294, 8232, 8214, 8152, 8332, 8189, 8018, 7862, 7809, 7682, 7608, 7554, 7585, 7559, 7438, 7350, 7227, 7084, 6879, 6727, 6621, 6426, 6280, 6125, 6026, 5984, 5883, 5742, 5589, 5413, 5165, 4645, 4176, 3339, 1899, 0, 0, 0, 0, 0], \"yaxis\": \"y\"}, {\"hoverlabel\": {\"namelength\": 0}, \"hovertemplate\": \"Camp=Poston/Colorado River<br>Date=%{x}<br>Population=%{y}\", \"legendgroup\": \"Camp=Poston/Colorado River\", \"line\": {\"color\": \"#EF553B\", \"dash\": \"solid\"}, \"mode\": \"lines\", \"name\": \"Camp=Poston/Colorado River\", \"showlegend\": true, \"type\": \"scatter\", \"x\": [\"1942-06-01T00:00:00\", \"1942-07-01T00:00:00\", \"1942-08-01T00:00:00\", \"1942-09-01T00:00:00\", \"1942-10-01T00:00:00\", \"1942-11-01T00:00:00\", \"1942-12-01T00:00:00\", \"1943-01-01T00:00:00\", \"1943-02-01T00:00:00\", \"1943-03-01T00:00:00\", \"1943-04-01T00:00:00\", \"1943-05-01T00:00:00\", \"1943-06-01T00:00:00\", \"1943-07-01T00:00:00\", \"1943-08-01T00:00:00\", \"1943-09-01T00:00:00\", \"1943-10-01T00:00:00\", \"1943-11-01T00:00:00\", \"1943-12-01T00:00:00\", \"1944-01-01T00:00:00\", \"1944-02-01T00:00:00\", \"1944-03-01T00:00:00\", \"1944-04-01T00:00:00\", \"1944-05-01T00:00:00\", \"1944-06-01T00:00:00\", \"1944-07-01T00:00:00\", \"1944-08-01T00:00:00\", \"1944-09-01T00:00:00\", \"1944-10-01T00:00:00\", \"1944-11-01T00:00:00\", \"1944-12-01T00:00:00\", \"1945-01-01T00:00:00\", \"1945-02-01T00:00:00\", \"1945-03-01T00:00:00\", \"1945-04-01T00:00:00\", \"1945-05-01T00:00:00\", \"1945-06-01T00:00:00\", \"1945-07-01T00:00:00\", \"1945-08-01T00:00:00\", \"1945-09-01T00:00:00\", \"1945-10-01T00:00:00\", \"1945-11-01T00:00:00\", \"1945-12-01T00:00:00\", \"1946-01-01T00:00:00\", \"1946-02-01T00:00:00\", \"1946-03-01T00:00:00\"], \"xaxis\": \"x\", \"y\": [7281, 8755, 13262, 17818, 17847, 17877, 17965, 8039, 18025, 17984, 17941, 17741, 17406, 16995, 16671, 16279, 16013, 14470, 14372, 14295, 14109, 13876, 13453, 13241, 13021, 12725, 12517, 12152, 12059, 11881, 11751, 11710, 11480, 11251, 10828, 10421, 9979, 9386, 8750, 6828, 2730, 1088, 0, 0, 0, 0], \"yaxis\": \"y\"}, {\"hoverlabel\": {\"namelength\": 0}, \"hovertemplate\": \"Camp=Gila River<br>Date=%{x}<br>Population=%{y}\", \"legendgroup\": \"Camp=Gila River\", \"line\": {\"color\": \"#00cc96\", \"dash\": \"solid\"}, \"mode\": \"lines\", \"name\": \"Camp=Gila River\", \"showlegend\": true, \"type\": \"scatter\", \"x\": [\"1942-06-01T00:00:00\", \"1942-07-01T00:00:00\", \"1942-08-01T00:00:00\", \"1942-09-01T00:00:00\", \"1942-10-01T00:00:00\", \"1942-11-01T00:00:00\", \"1942-12-01T00:00:00\", \"1943-01-01T00:00:00\", \"1943-02-01T00:00:00\", \"1943-03-01T00:00:00\", \"1943-04-01T00:00:00\", \"1943-05-01T00:00:00\", \"1943-06-01T00:00:00\", \"1943-07-01T00:00:00\", \"1943-08-01T00:00:00\", \"1943-09-01T00:00:00\", \"1943-10-01T00:00:00\", \"1943-11-01T00:00:00\", \"1943-12-01T00:00:00\", \"1944-01-01T00:00:00\", \"1944-02-01T00:00:00\", \"1944-03-01T00:00:00\", \"1944-04-01T00:00:00\", \"1944-05-01T00:00:00\", \"1944-06-01T00:00:00\", \"1944-07-01T00:00:00\", \"1944-08-01T00:00:00\", \"1944-09-01T00:00:00\", \"1944-10-01T00:00:00\", \"1944-11-01T00:00:00\", \"1944-12-01T00:00:00\", \"1945-01-01T00:00:00\", \"1945-02-01T00:00:00\", \"1945-03-01T00:00:00\", \"1945-04-01T00:00:00\", \"1945-05-01T00:00:00\", \"1945-06-01T00:00:00\", \"1945-07-01T00:00:00\", \"1945-08-01T00:00:00\", \"1945-09-01T00:00:00\", \"1945-10-01T00:00:00\", \"1945-11-01T00:00:00\", \"1945-12-01T00:00:00\", \"1946-01-01T00:00:00\", \"1946-02-01T00:00:00\", \"1946-03-01T00:00:00\"], \"xaxis\": \"x\", \"y\": [0, 0, 2106, 9150, 11555, 13368, 13368, 13420, 13411, 13374, 13372, 13224, 12954, 12683, 12542, 12251, 12056, 10017, 9898, 9869, 9800, 9655, 9419, 9199, 8788, 10531, 10291, 9951, 9651, 9550, 9534, 9550, 9432, 9207, 8988, 8716, 8319, 7684, 6765, 5141, 2760, 754, 0, 0, 0, 0], \"yaxis\": \"y\"}, {\"hoverlabel\": {\"namelength\": 0}, \"hovertemplate\": \"Camp=Granada<br>Date=%{x}<br>Population=%{y}\", \"legendgroup\": \"Camp=Granada\", \"line\": {\"color\": \"#ab63fa\", \"dash\": \"solid\"}, \"mode\": \"lines\", \"name\": \"Camp=Granada\", \"showlegend\": true, \"type\": \"scatter\", \"x\": [\"1942-06-01T00:00:00\", \"1942-07-01T00:00:00\", \"1942-08-01T00:00:00\", \"1942-09-01T00:00:00\", \"1942-10-01T00:00:00\", \"1942-11-01T00:00:00\", \"1942-12-01T00:00:00\", \"1943-01-01T00:00:00\", \"1943-02-01T00:00:00\", \"1943-03-01T00:00:00\", \"1943-04-01T00:00:00\", \"1943-05-01T00:00:00\", \"1943-06-01T00:00:00\", \"1943-07-01T00:00:00\", \"1943-08-01T00:00:00\", \"1943-09-01T00:00:00\", \"1943-10-01T00:00:00\", \"1943-11-01T00:00:00\", \"1943-12-01T00:00:00\", \"1944-01-01T00:00:00\", \"1944-02-01T00:00:00\", \"1944-03-01T00:00:00\", \"1944-04-01T00:00:00\", \"1944-05-01T00:00:00\", \"1944-06-01T00:00:00\", \"1944-07-01T00:00:00\", \"1944-08-01T00:00:00\", \"1944-09-01T00:00:00\", \"1944-10-01T00:00:00\", \"1944-11-01T00:00:00\", \"1944-12-01T00:00:00\", \"1945-01-01T00:00:00\", \"1945-02-01T00:00:00\", \"1945-03-01T00:00:00\", \"1945-04-01T00:00:00\", \"1945-05-01T00:00:00\", \"1945-06-01T00:00:00\", \"1945-07-01T00:00:00\", \"1945-08-01T00:00:00\", \"1945-09-01T00:00:00\", \"1945-10-01T00:00:00\", \"1945-11-01T00:00:00\", \"1945-12-01T00:00:00\", \"1946-01-01T00:00:00\", \"1946-02-01T00:00:00\", \"1946-03-01T00:00:00\"], \"xaxis\": \"x\", \"y\": [0, 0, 0, 212, 7480, 7654, 7651, 7656, 7622, 7619, 7476, 7222, 7016, 6931, 3876, 6764, 7494, 7368, 7393, 7355, 7176, 6983, 6786, 6685, 6424, 6816, 6664, 6490, 6403, 6371, 6311, 6255, 6177, 6035, 5805, 5411, 4980, 4256, 3758, 3155, 1379, 0, 0, 0, 0, 0], \"yaxis\": \"y\"}, {\"hoverlabel\": {\"namelength\": 0}, \"hovertemplate\": \"Camp=Heart Mountain<br>Date=%{x}<br>Population=%{y}\", \"legendgroup\": \"Camp=Heart Mountain\", \"line\": {\"color\": \"#FFA15A\", \"dash\": \"solid\"}, \"mode\": \"lines\", \"name\": \"Camp=Heart Mountain\", \"showlegend\": true, \"type\": \"scatter\", \"x\": [\"1942-06-01T00:00:00\", \"1942-07-01T00:00:00\", \"1942-08-01T00:00:00\", \"1942-09-01T00:00:00\", \"1942-10-01T00:00:00\", \"1942-11-01T00:00:00\", \"1942-12-01T00:00:00\", \"1943-01-01T00:00:00\", \"1943-02-01T00:00:00\", \"1943-03-01T00:00:00\", \"1943-04-01T00:00:00\", \"1943-05-01T00:00:00\", \"1943-06-01T00:00:00\", \"1943-07-01T00:00:00\", \"1943-08-01T00:00:00\", \"1943-09-01T00:00:00\", \"1943-10-01T00:00:00\", \"1943-11-01T00:00:00\", \"1943-12-01T00:00:00\", \"1944-01-01T00:00:00\", \"1944-02-01T00:00:00\", \"1944-03-01T00:00:00\", \"1944-04-01T00:00:00\", \"1944-05-01T00:00:00\", \"1944-06-01T00:00:00\", \"1944-07-01T00:00:00\", \"1944-08-01T00:00:00\", \"1944-09-01T00:00:00\", \"1944-10-01T00:00:00\", \"1944-11-01T00:00:00\", \"1944-12-01T00:00:00\", \"1945-01-01T00:00:00\", \"1945-02-01T00:00:00\", \"1945-03-01T00:00:00\", \"1945-04-01T00:00:00\", \"1945-05-01T00:00:00\", \"1945-06-01T00:00:00\", \"1945-07-01T00:00:00\", \"1945-08-01T00:00:00\", \"1945-09-01T00:00:00\", \"1945-10-01T00:00:00\", \"1945-11-01T00:00:00\", \"1945-12-01T00:00:00\", \"1946-01-01T00:00:00\", \"1946-02-01T00:00:00\", \"1946-03-01T00:00:00\"], \"xaxis\": \"x\", \"y\": [0, 0, 0, 5758, 10813, 11107, 11105, 11062, 11006, 10959, 10886, 10724, 10520, 10307, 10178, 10073, 10509, 10426, 10406, 10388, 10242, 10112, 9962, 9760, 9420, 9712, 9433, 9241, 9035, 8886, 8669, 8537, 8445, 8213, 7997, 7556, 7084, 6325, 5714, 4611, 3312, 1156, 0, 0, 0, 0], \"yaxis\": \"y\"}, {\"hoverlabel\": {\"namelength\": 0}, \"hovertemplate\": \"Camp=Jerome<br>Date=%{x}<br>Population=%{y}\", \"legendgroup\": \"Camp=Jerome\", \"line\": {\"color\": \"#19d3f3\", \"dash\": \"solid\"}, \"mode\": \"lines\", \"name\": \"Camp=Jerome\", \"showlegend\": true, \"type\": \"scatter\", \"x\": [\"1942-06-01T00:00:00\", \"1942-07-01T00:00:00\", \"1942-08-01T00:00:00\", \"1942-09-01T00:00:00\", \"1942-10-01T00:00:00\", \"1942-11-01T00:00:00\", \"1942-12-01T00:00:00\", \"1943-01-01T00:00:00\", \"1943-02-01T00:00:00\", \"1943-03-01T00:00:00\", \"1943-04-01T00:00:00\", \"1943-05-01T00:00:00\", \"1943-06-01T00:00:00\", \"1943-07-01T00:00:00\", \"1943-08-01T00:00:00\", \"1943-09-01T00:00:00\", \"1943-10-01T00:00:00\", \"1943-11-01T00:00:00\", \"1943-12-01T00:00:00\", \"1944-01-01T00:00:00\", \"1944-02-01T00:00:00\", \"1944-03-01T00:00:00\", \"1944-04-01T00:00:00\", \"1944-05-01T00:00:00\", \"1944-06-01T00:00:00\", \"1944-07-01T00:00:00\", \"1944-08-01T00:00:00\", \"1944-09-01T00:00:00\", \"1944-10-01T00:00:00\", \"1944-11-01T00:00:00\", \"1944-12-01T00:00:00\", \"1945-01-01T00:00:00\", \"1945-02-01T00:00:00\", \"1945-03-01T00:00:00\", \"1945-04-01T00:00:00\", \"1945-05-01T00:00:00\", \"1945-06-01T00:00:00\", \"1945-07-01T00:00:00\", \"1945-08-01T00:00:00\", \"1945-09-01T00:00:00\", \"1945-10-01T00:00:00\", \"1945-11-01T00:00:00\", \"1945-12-01T00:00:00\", \"1946-01-01T00:00:00\", \"1946-02-01T00:00:00\", \"1946-03-01T00:00:00\"], \"xaxis\": \"x\", \"y\": [0, 0, 0, 0, 0, 7039, 7925, 7932, 8354, 8587, 8526, 8350, 8182, 7972, 7808, 7649, 6899, 6787, 6726, 6700, 6632, 6537, 6529, 6467, 5601, 4, 4, 4, 3, 3, 3, 3, 2, 2, 0, 0, 0, 0, 0, 0, 0, 0, 0, 0, 0, 0], \"yaxis\": \"y\"}, {\"hoverlabel\": {\"namelength\": 0}, \"hovertemplate\": \"Camp=Manzanar<br>Date=%{x}<br>Population=%{y}\", \"legendgroup\": \"Camp=Manzanar\", \"line\": {\"color\": \"#FF6692\", \"dash\": \"solid\"}, \"mode\": \"lines\", \"name\": \"Camp=Manzanar\", \"showlegend\": true, \"type\": \"scatter\", \"x\": [\"1942-06-01T00:00:00\", \"1942-07-01T00:00:00\", \"1942-08-01T00:00:00\", \"1942-09-01T00:00:00\", \"1942-10-01T00:00:00\", \"1942-11-01T00:00:00\", \"1942-12-01T00:00:00\", \"1943-01-01T00:00:00\", \"1943-02-01T00:00:00\", \"1943-03-01T00:00:00\", \"1943-04-01T00:00:00\", \"1943-05-01T00:00:00\", \"1943-06-01T00:00:00\", \"1943-07-01T00:00:00\", \"1943-08-01T00:00:00\", \"1943-09-01T00:00:00\", \"1943-10-01T00:00:00\", \"1943-11-01T00:00:00\", \"1943-12-01T00:00:00\", \"1944-01-01T00:00:00\", \"1944-02-01T00:00:00\", \"1944-03-01T00:00:00\", \"1944-04-01T00:00:00\", \"1944-05-01T00:00:00\", \"1944-06-01T00:00:00\", \"1944-07-01T00:00:00\", \"1944-08-01T00:00:00\", \"1944-09-01T00:00:00\", \"1944-10-01T00:00:00\", \"1944-11-01T00:00:00\", \"1944-12-01T00:00:00\", \"1945-01-01T00:00:00\", \"1945-02-01T00:00:00\", \"1945-03-01T00:00:00\", \"1945-04-01T00:00:00\", \"1945-05-01T00:00:00\", \"1945-06-01T00:00:00\", \"1945-07-01T00:00:00\", \"1945-08-01T00:00:00\", \"1945-09-01T00:00:00\", \"1945-10-01T00:00:00\", \"1945-11-01T00:00:00\", \"1945-12-01T00:00:00\", \"1946-01-01T00:00:00\", \"1946-02-01T00:00:00\", \"1946-03-01T00:00:00\"], \"xaxis\": \"x\", \"y\": [9666, 9840, 9928, 10072, 10256, 10181, 10177, 10121, 10079, 9796, 9707, 9496, 9272, 9197, 9163, 9105, 9045, 8701, 8621, 8643, 8580, 6655, 6565, 6456, 6341, 6232, 6138, 6057, 5939, 5836, 5668, 5588, 5522, 5435, 5298, 5030, 4658, 4248, 3994, 3552, 2891, 1146, 0, 0, 0, 0], \"yaxis\": \"y\"}, {\"hoverlabel\": {\"namelength\": 0}, \"hovertemplate\": \"Camp=Minidoka<br>Date=%{x}<br>Population=%{y}\", \"legendgroup\": \"Camp=Minidoka\", \"line\": {\"color\": \"#B6E880\", \"dash\": \"solid\"}, \"mode\": \"lines\", \"name\": \"Camp=Minidoka\", \"showlegend\": true, \"type\": \"scatter\", \"x\": [\"1942-06-01T00:00:00\", \"1942-07-01T00:00:00\", \"1942-08-01T00:00:00\", \"1942-09-01T00:00:00\", \"1942-10-01T00:00:00\", \"1942-11-01T00:00:00\", \"1942-12-01T00:00:00\", \"1943-01-01T00:00:00\", \"1943-02-01T00:00:00\", \"1943-03-01T00:00:00\", \"1943-04-01T00:00:00\", \"1943-05-01T00:00:00\", \"1943-06-01T00:00:00\", \"1943-07-01T00:00:00\", \"1943-08-01T00:00:00\", \"1943-09-01T00:00:00\", \"1943-10-01T00:00:00\", \"1943-11-01T00:00:00\", \"1943-12-01T00:00:00\", \"1944-01-01T00:00:00\", \"1944-02-01T00:00:00\", \"1944-03-01T00:00:00\", \"1944-04-01T00:00:00\", \"1944-05-01T00:00:00\", \"1944-06-01T00:00:00\", \"1944-07-01T00:00:00\", \"1944-08-01T00:00:00\", \"1944-09-01T00:00:00\", \"1944-10-01T00:00:00\", \"1944-11-01T00:00:00\", \"1944-12-01T00:00:00\", \"1945-01-01T00:00:00\", \"1945-02-01T00:00:00\", \"1945-03-01T00:00:00\", \"1945-04-01T00:00:00\", \"1945-05-01T00:00:00\", \"1945-06-01T00:00:00\", \"1945-07-01T00:00:00\", \"1945-08-01T00:00:00\", \"1945-09-01T00:00:00\", \"1945-10-01T00:00:00\", \"1945-11-01T00:00:00\", \"1945-12-01T00:00:00\", \"1946-01-01T00:00:00\", \"1946-02-01T00:00:00\", \"1946-03-01T00:00:00\"], \"xaxis\": \"x\", \"y\": [0, 0, 0, 4840, 9200, 9846, 9849, 9861, 9814, 9924, 9772, 9401, 8989, 8752, 8556, 8325, 9530, 9419, 9492, 9461, 9374, 9288, 9027, 8856, 8514, 8335, 8160, 8099, 7972, 7976, 7867, 7770, 7574, 7373, 6851, 6382, 5615, 4937, 4330, 3218, 1482, 0, 0, 0, 0, 0], \"yaxis\": \"y\"}, {\"hoverlabel\": {\"namelength\": 0}, \"hovertemplate\": \"Camp=Rohwer<br>Date=%{x}<br>Population=%{y}\", \"legendgroup\": \"Camp=Rohwer\", \"line\": {\"color\": \"#FF97FF\", \"dash\": \"solid\"}, \"mode\": \"lines\", \"name\": \"Camp=Rohwer\", \"showlegend\": true, \"type\": \"scatter\", \"x\": [\"1942-06-01T00:00:00\", \"1942-07-01T00:00:00\", \"1942-08-01T00:00:00\", \"1942-09-01T00:00:00\", \"1942-10-01T00:00:00\", \"1942-11-01T00:00:00\", \"1942-12-01T00:00:00\", \"1943-01-01T00:00:00\", \"1943-02-01T00:00:00\", \"1943-03-01T00:00:00\", \"1943-04-01T00:00:00\", \"1943-05-01T00:00:00\", \"1943-06-01T00:00:00\", \"1943-07-01T00:00:00\", \"1943-08-01T00:00:00\", \"1943-09-01T00:00:00\", \"1943-10-01T00:00:00\", \"1943-11-01T00:00:00\", \"1943-12-01T00:00:00\", \"1944-01-01T00:00:00\", \"1944-02-01T00:00:00\", \"1944-03-01T00:00:00\", \"1944-04-01T00:00:00\", \"1944-05-01T00:00:00\", \"1944-06-01T00:00:00\", \"1944-07-01T00:00:00\", \"1944-08-01T00:00:00\", \"1944-09-01T00:00:00\", \"1944-10-01T00:00:00\", \"1944-11-01T00:00:00\", \"1944-12-01T00:00:00\", \"1945-01-01T00:00:00\", \"1945-02-01T00:00:00\", \"1945-03-01T00:00:00\", \"1945-04-01T00:00:00\", \"1945-05-01T00:00:00\", \"1945-06-01T00:00:00\", \"1945-07-01T00:00:00\", \"1945-08-01T00:00:00\", \"1945-09-01T00:00:00\", \"1945-10-01T00:00:00\", \"1945-11-01T00:00:00\", \"1945-12-01T00:00:00\", \"1946-01-01T00:00:00\", \"1946-02-01T00:00:00\", \"1946-03-01T00:00:00\"], \"xaxis\": \"x\", \"y\": [0, 0, 0, 0, 2265, 8407, 8515, 8548, 8538, 8528, 8478, 8286, 8061, 7895, 7781, 7552, 7123, 6731, 6676, 6676, 6600, 6514, 6375, 6248, 5479, 7623, 7279, 6900, 6764, 6700, 6689, 6747, 6697, 6563, 6339, 5991, 5447, 4910, 4098, 3332, 2175, 1804, 0, 0, 0, 0], \"yaxis\": \"y\"}, {\"hoverlabel\": {\"namelength\": 0}, \"hovertemplate\": \"Camp=Tule Lake<br>Date=%{x}<br>Population=%{y}\", \"legendgroup\": \"Camp=Tule Lake\", \"line\": {\"color\": \"#FECB52\", \"dash\": \"solid\"}, \"mode\": \"lines\", \"name\": \"Camp=Tule Lake\", \"showlegend\": true, \"type\": \"scatter\", \"x\": [\"1942-06-01T00:00:00\", \"1942-07-01T00:00:00\", \"1942-08-01T00:00:00\", \"1942-09-01T00:00:00\", \"1942-10-01T00:00:00\", \"1942-11-01T00:00:00\", \"1942-12-01T00:00:00\", \"1943-01-01T00:00:00\", \"1943-02-01T00:00:00\", \"1943-03-01T00:00:00\", \"1943-04-01T00:00:00\", \"1943-05-01T00:00:00\", \"1943-06-01T00:00:00\", \"1943-07-01T00:00:00\", \"1943-08-01T00:00:00\", \"1943-09-01T00:00:00\", \"1943-10-01T00:00:00\", \"1943-11-01T00:00:00\", \"1943-12-01T00:00:00\", \"1944-01-01T00:00:00\", \"1944-02-01T00:00:00\", \"1944-03-01T00:00:00\", \"1944-04-01T00:00:00\", \"1944-05-01T00:00:00\", \"1944-06-01T00:00:00\", \"1944-07-01T00:00:00\", \"1944-08-01T00:00:00\", \"1944-09-01T00:00:00\", \"1944-10-01T00:00:00\", \"1944-11-01T00:00:00\", \"1944-12-01T00:00:00\", \"1945-01-01T00:00:00\", \"1945-02-01T00:00:00\", \"1945-03-01T00:00:00\", \"1945-04-01T00:00:00\", \"1945-05-01T00:00:00\", \"1945-06-01T00:00:00\", \"1945-07-01T00:00:00\", \"1945-08-01T00:00:00\", \"1945-09-01T00:00:00\", \"1945-10-01T00:00:00\", \"1945-11-01T00:00:00\", \"1945-12-01T00:00:00\", \"1946-01-01T00:00:00\", \"1946-02-01T00:00:00\", \"1946-03-01T00:00:00\"], \"xaxis\": \"x\", \"y\": [446, 9038, 15020, 15181, 15277, 15393, 15311, 15369, 15274, 15219, 15124, 15015, 14828, 14630, 14484, 14185, 12183, 16012, 15671, 15630, 15625, 17492, 17580, 16964, 18652, 18678, 18709, 18726, 18728, 18718, 18770, 18734, 18593, 17953, 17864, 17886, 17879, 17466, 17366, 17286, 16740, 15450, 12628, 7303, 5046, 2808], \"yaxis\": \"y\"}],\n",
       "                        {\"height\": 600, \"legend\": {\"tracegroupgap\": 0}, \"template\": {\"data\": {\"bar\": [{\"error_x\": {\"color\": \"#2a3f5f\"}, \"error_y\": {\"color\": \"#2a3f5f\"}, \"marker\": {\"line\": {\"color\": \"#E5ECF6\", \"width\": 0.5}}, \"type\": \"bar\"}], \"barpolar\": [{\"marker\": {\"line\": {\"color\": \"#E5ECF6\", \"width\": 0.5}}, \"type\": \"barpolar\"}], \"carpet\": [{\"aaxis\": {\"endlinecolor\": \"#2a3f5f\", \"gridcolor\": \"white\", \"linecolor\": \"white\", \"minorgridcolor\": \"white\", \"startlinecolor\": \"#2a3f5f\"}, \"baxis\": {\"endlinecolor\": \"#2a3f5f\", \"gridcolor\": \"white\", \"linecolor\": \"white\", \"minorgridcolor\": \"white\", \"startlinecolor\": \"#2a3f5f\"}, \"type\": \"carpet\"}], \"choropleth\": [{\"colorbar\": {\"outlinewidth\": 0, \"ticks\": \"\"}, \"type\": \"choropleth\"}], \"contour\": [{\"colorbar\": {\"outlinewidth\": 0, \"ticks\": \"\"}, \"colorscale\": [[0.0, \"#0d0887\"], [0.1111111111111111, \"#46039f\"], [0.2222222222222222, \"#7201a8\"], [0.3333333333333333, \"#9c179e\"], [0.4444444444444444, \"#bd3786\"], [0.5555555555555556, \"#d8576b\"], [0.6666666666666666, \"#ed7953\"], [0.7777777777777778, \"#fb9f3a\"], [0.8888888888888888, \"#fdca26\"], [1.0, \"#f0f921\"]], \"type\": \"contour\"}], \"contourcarpet\": [{\"colorbar\": {\"outlinewidth\": 0, \"ticks\": \"\"}, \"type\": \"contourcarpet\"}], \"heatmap\": [{\"colorbar\": {\"outlinewidth\": 0, \"ticks\": \"\"}, \"colorscale\": [[0.0, \"#0d0887\"], [0.1111111111111111, \"#46039f\"], [0.2222222222222222, \"#7201a8\"], [0.3333333333333333, \"#9c179e\"], [0.4444444444444444, \"#bd3786\"], [0.5555555555555556, \"#d8576b\"], [0.6666666666666666, \"#ed7953\"], [0.7777777777777778, \"#fb9f3a\"], [0.8888888888888888, \"#fdca26\"], [1.0, \"#f0f921\"]], \"type\": \"heatmap\"}], \"heatmapgl\": [{\"colorbar\": {\"outlinewidth\": 0, \"ticks\": \"\"}, \"colorscale\": [[0.0, \"#0d0887\"], [0.1111111111111111, \"#46039f\"], [0.2222222222222222, \"#7201a8\"], [0.3333333333333333, \"#9c179e\"], [0.4444444444444444, \"#bd3786\"], [0.5555555555555556, \"#d8576b\"], [0.6666666666666666, \"#ed7953\"], [0.7777777777777778, \"#fb9f3a\"], [0.8888888888888888, \"#fdca26\"], [1.0, \"#f0f921\"]], \"type\": \"heatmapgl\"}], \"histogram\": [{\"marker\": {\"colorbar\": {\"outlinewidth\": 0, \"ticks\": \"\"}}, \"type\": \"histogram\"}], \"histogram2d\": [{\"colorbar\": {\"outlinewidth\": 0, \"ticks\": \"\"}, \"colorscale\": [[0.0, \"#0d0887\"], [0.1111111111111111, \"#46039f\"], [0.2222222222222222, \"#7201a8\"], [0.3333333333333333, \"#9c179e\"], [0.4444444444444444, \"#bd3786\"], [0.5555555555555556, \"#d8576b\"], [0.6666666666666666, \"#ed7953\"], [0.7777777777777778, \"#fb9f3a\"], [0.8888888888888888, \"#fdca26\"], [1.0, \"#f0f921\"]], \"type\": \"histogram2d\"}], \"histogram2dcontour\": [{\"colorbar\": {\"outlinewidth\": 0, \"ticks\": \"\"}, \"colorscale\": [[0.0, \"#0d0887\"], [0.1111111111111111, \"#46039f\"], [0.2222222222222222, \"#7201a8\"], [0.3333333333333333, \"#9c179e\"], [0.4444444444444444, \"#bd3786\"], [0.5555555555555556, \"#d8576b\"], [0.6666666666666666, \"#ed7953\"], [0.7777777777777778, \"#fb9f3a\"], [0.8888888888888888, \"#fdca26\"], [1.0, \"#f0f921\"]], \"type\": \"histogram2dcontour\"}], \"mesh3d\": [{\"colorbar\": {\"outlinewidth\": 0, \"ticks\": \"\"}, \"type\": \"mesh3d\"}], \"parcoords\": [{\"line\": {\"colorbar\": {\"outlinewidth\": 0, \"ticks\": \"\"}}, \"type\": \"parcoords\"}], \"scatter\": [{\"marker\": {\"colorbar\": {\"outlinewidth\": 0, \"ticks\": \"\"}}, \"type\": \"scatter\"}], \"scatter3d\": [{\"line\": {\"colorbar\": {\"outlinewidth\": 0, \"ticks\": \"\"}}, \"marker\": {\"colorbar\": {\"outlinewidth\": 0, \"ticks\": \"\"}}, \"type\": \"scatter3d\"}], \"scattercarpet\": [{\"marker\": {\"colorbar\": {\"outlinewidth\": 0, \"ticks\": \"\"}}, \"type\": \"scattercarpet\"}], \"scattergeo\": [{\"marker\": {\"colorbar\": {\"outlinewidth\": 0, \"ticks\": \"\"}}, \"type\": \"scattergeo\"}], \"scattergl\": [{\"marker\": {\"colorbar\": {\"outlinewidth\": 0, \"ticks\": \"\"}}, \"type\": \"scattergl\"}], \"scattermapbox\": [{\"marker\": {\"colorbar\": {\"outlinewidth\": 0, \"ticks\": \"\"}}, \"type\": \"scattermapbox\"}], \"scatterpolar\": [{\"marker\": {\"colorbar\": {\"outlinewidth\": 0, \"ticks\": \"\"}}, \"type\": \"scatterpolar\"}], \"scatterpolargl\": [{\"marker\": {\"colorbar\": {\"outlinewidth\": 0, \"ticks\": \"\"}}, \"type\": \"scatterpolargl\"}], \"scatterternary\": [{\"marker\": {\"colorbar\": {\"outlinewidth\": 0, \"ticks\": \"\"}}, \"type\": \"scatterternary\"}], \"surface\": [{\"colorbar\": {\"outlinewidth\": 0, \"ticks\": \"\"}, \"colorscale\": [[0.0, \"#0d0887\"], [0.1111111111111111, \"#46039f\"], [0.2222222222222222, \"#7201a8\"], [0.3333333333333333, \"#9c179e\"], [0.4444444444444444, \"#bd3786\"], [0.5555555555555556, \"#d8576b\"], [0.6666666666666666, \"#ed7953\"], [0.7777777777777778, \"#fb9f3a\"], [0.8888888888888888, \"#fdca26\"], [1.0, \"#f0f921\"]], \"type\": \"surface\"}], \"table\": [{\"cells\": {\"fill\": {\"color\": \"#EBF0F8\"}, \"line\": {\"color\": \"white\"}}, \"header\": {\"fill\": {\"color\": \"#C8D4E3\"}, \"line\": {\"color\": \"white\"}}, \"type\": \"table\"}]}, \"layout\": {\"annotationdefaults\": {\"arrowcolor\": \"#2a3f5f\", \"arrowhead\": 0, \"arrowwidth\": 1}, \"colorscale\": {\"diverging\": [[0, \"#8e0152\"], [0.1, \"#c51b7d\"], [0.2, \"#de77ae\"], [0.3, \"#f1b6da\"], [0.4, \"#fde0ef\"], [0.5, \"#f7f7f7\"], [0.6, \"#e6f5d0\"], [0.7, \"#b8e186\"], [0.8, \"#7fbc41\"], [0.9, \"#4d9221\"], [1, \"#276419\"]], \"sequential\": [[0.0, \"#0d0887\"], [0.1111111111111111, \"#46039f\"], [0.2222222222222222, \"#7201a8\"], [0.3333333333333333, \"#9c179e\"], [0.4444444444444444, \"#bd3786\"], [0.5555555555555556, \"#d8576b\"], [0.6666666666666666, \"#ed7953\"], [0.7777777777777778, \"#fb9f3a\"], [0.8888888888888888, \"#fdca26\"], [1.0, \"#f0f921\"]], \"sequentialminus\": [[0.0, \"#0d0887\"], [0.1111111111111111, \"#46039f\"], [0.2222222222222222, \"#7201a8\"], [0.3333333333333333, \"#9c179e\"], [0.4444444444444444, \"#bd3786\"], [0.5555555555555556, \"#d8576b\"], [0.6666666666666666, \"#ed7953\"], [0.7777777777777778, \"#fb9f3a\"], [0.8888888888888888, \"#fdca26\"], [1.0, \"#f0f921\"]]}, \"colorway\": [\"#636efa\", \"#EF553B\", \"#00cc96\", \"#ab63fa\", \"#FFA15A\", \"#19d3f3\", \"#FF6692\", \"#B6E880\", \"#FF97FF\", \"#FECB52\"], \"font\": {\"color\": \"#2a3f5f\"}, \"geo\": {\"bgcolor\": \"white\", \"lakecolor\": \"white\", \"landcolor\": \"#E5ECF6\", \"showlakes\": true, \"showland\": true, \"subunitcolor\": \"white\"}, \"hoverlabel\": {\"align\": \"left\"}, \"hovermode\": \"closest\", \"mapbox\": {\"style\": \"light\"}, \"paper_bgcolor\": \"white\", \"plot_bgcolor\": \"#E5ECF6\", \"polar\": {\"angularaxis\": {\"gridcolor\": \"white\", \"linecolor\": \"white\", \"ticks\": \"\"}, \"bgcolor\": \"#E5ECF6\", \"radialaxis\": {\"gridcolor\": \"white\", \"linecolor\": \"white\", \"ticks\": \"\"}}, \"scene\": {\"xaxis\": {\"backgroundcolor\": \"#E5ECF6\", \"gridcolor\": \"white\", \"gridwidth\": 2, \"linecolor\": \"white\", \"showbackground\": true, \"ticks\": \"\", \"zerolinecolor\": \"white\"}, \"yaxis\": {\"backgroundcolor\": \"#E5ECF6\", \"gridcolor\": \"white\", \"gridwidth\": 2, \"linecolor\": \"white\", \"showbackground\": true, \"ticks\": \"\", \"zerolinecolor\": \"white\"}, \"zaxis\": {\"backgroundcolor\": \"#E5ECF6\", \"gridcolor\": \"white\", \"gridwidth\": 2, \"linecolor\": \"white\", \"showbackground\": true, \"ticks\": \"\", \"zerolinecolor\": \"white\"}}, \"shapedefaults\": {\"line\": {\"color\": \"#2a3f5f\"}}, \"ternary\": {\"aaxis\": {\"gridcolor\": \"white\", \"linecolor\": \"white\", \"ticks\": \"\"}, \"baxis\": {\"gridcolor\": \"white\", \"linecolor\": \"white\", \"ticks\": \"\"}, \"bgcolor\": \"#E5ECF6\", \"caxis\": {\"gridcolor\": \"white\", \"linecolor\": \"white\", \"ticks\": \"\"}}, \"title\": {\"x\": 0.05}, \"xaxis\": {\"automargin\": true, \"gridcolor\": \"white\", \"linecolor\": \"white\", \"ticks\": \"\", \"zerolinecolor\": \"white\", \"zerolinewidth\": 2}, \"yaxis\": {\"automargin\": true, \"gridcolor\": \"white\", \"linecolor\": \"white\", \"ticks\": \"\", \"zerolinecolor\": \"white\", \"zerolinewidth\": 2}}}, \"title\": {\"text\": \"Camp Populations by Month\"}, \"xaxis\": {\"anchor\": \"y\", \"domain\": [0.0, 0.98], \"title\": {\"text\": \"Date\"}}, \"yaxis\": {\"anchor\": \"x\", \"domain\": [0.0, 1.0], \"title\": {\"text\": \"Population\"}}},\n",
       "                        {\"responsive\": true}\n",
       "                    ).then(function(){\n",
       "                            \n",
       "var gd = document.getElementById('9507538a-35f5-4960-829c-8c0f8a21785d');\n",
       "var x = new MutationObserver(function (mutations, observer) {{\n",
       "        var display = window.getComputedStyle(gd).display;\n",
       "        if (!display || display === 'none') {{\n",
       "            console.log([gd, 'removed!']);\n",
       "            Plotly.purge(gd);\n",
       "            observer.disconnect();\n",
       "        }}\n",
       "}});\n",
       "\n",
       "// Listen for the removal of the full notebook cells\n",
       "var notebookContainer = gd.closest('#notebook-container');\n",
       "if (notebookContainer) {{\n",
       "    x.observe(notebookContainer, {childList: true});\n",
       "}}\n",
       "\n",
       "// Listen for the clearing of the current output cell\n",
       "var outputEl = gd.closest('.output');\n",
       "if (outputEl) {{\n",
       "    x.observe(outputEl, {childList: true});\n",
       "}}\n",
       "\n",
       "                        })\n",
       "                };\n",
       "                });\n",
       "            </script>\n",
       "        </div>"
      ]
     },
     "metadata": {},
     "output_type": "display_data"
    }
   ],
   "source": [
    "pop_by_month2 = pop_by_month.drop(\"Total\", axis = 1)\n",
    "melted = pd.melt(pop_by_month2, id_vars = [\"Date\"], value_vars = pop_by_month2.columns[1:], var_name = 'Camp', value_name = \"Population\")\n",
    "fig = px.line(melted, x = 'Date', y = 'Population', color = 'Camp', title = 'Camp Populations by Month')\n",
    "fig.show();"
   ]
  },
  {
   "cell_type": "markdown",
   "metadata": {},
   "source": [
    "We can see from this histogram that most people did not return to where they originally lived because the bin that is at 0 percent returned has the highest percentage (the bar is the highest closest to 0). "
   ]
  },
  {
   "cell_type": "code",
   "execution_count": 31,
   "metadata": {},
   "outputs": [
    {
     "data": {
      "image/png": "[encoded data removed]",
      "text/plain": [
       "<Figure size 432x288 with 1 Axes>"
      ]
     },
     "metadata": {
      "needs_background": "light"
     },
     "output_type": "display_data"
    }
   ],
   "source": [
    "sns.distplot(population1940_1945['% returned'])\n",
    "plt.title(\"Percent Returned to Original County\");"
   ]
  },
  {
   "cell_type": "markdown",
   "metadata": {},
   "source": [
    "Visualizations allow us to picture how the numbers change and find abnormalities in the data set. What are some abnormalities that you see in the first plot? What are some possible explanations for these abnormalities?"
   ]
  },
  {
   "cell_type": "markdown",
   "metadata": {},
   "source": [
    "<b>Answer: </b> YOUR ANSWER HERE"
   ]
  },
  {
   "cell_type": "markdown",
   "metadata": {},
   "source": [
    "---"
   ]
  },
  {
   "cell_type": "markdown",
   "metadata": {},
   "source": [
    "## Section 2: Assembly Centers and Internment Centers<a id='section 2'></a>"
   ]
  },
  {
   "cell_type": "markdown",
   "metadata": {},
   "source": [
    "After Executive Order 9066 was signed, the army was authorized to remove civilians from designated military exclusion zones spanning Washington, Oregon, California, and Arizona. Assembly centers were created to funnel Japanese Americans into internment camps. Through these maps, you can see how far people were forced to move from one location to another. Mapping data is a useful tool to visualize locations and provide context when we are given longitude and latitude data! \n",
    "<img src=\"images/Luggage_Japanese_American_internment.png\" width=\"400\">\n",
    "The luggage of the Japanese Americans who have arrived at a reception center."
   ]
  },
  {
   "cell_type": "markdown",
   "metadata": {},
   "source": [
    "## Assembly Centers\n",
    "Japanese Americans were transported from assembly centers to internment camps across the country and we can use mapping techniques to visualize the movement of Japanese Americans from their original homes, to assembly centers, to internment camps, and then to various locations afterwards. To zoom in and out on the map, you can press the + and - buttons or scroll up and down. Also, if you click a blue marker, the assembly center name with show up!"
   ]
  },
  {
   "cell_type": "code",
   "execution_count": 33,
   "metadata": {
    "scrolled": true
   },
   "outputs": [
    {
     "data": {
      "text/html": [
       "<div style=\"width:100%;\"><div style=\"position:relative;width:100%;height:0;padding-bottom:60%;\"><iframe src=\"data:text/html;charset=utf-8;base64,PCFET0NUWVBFIGh0bWw+CjxoZWFkPiAgICAKICAgIDxtZXRhIGh0dHAtZXF1aXY9ImNvbnRlbnQtdHlwZSIgY29udGVudD0idGV4dC9odG1sOyBjaGFyc2V0PVVURi04IiAvPgogICAgCiAgICAgICAgPHNjcmlwdD4KICAgICAgICAgICAgTF9OT19UT1VDSCA9IGZhbHNlOwogICAgICAgICAgICBMX0RJU0FCTEVfM0QgPSBmYWxzZTsKICAgICAgICA8L3NjcmlwdD4KICAgIAogICAgPHNjcmlwdCBzcmM9Imh0dHBzOi8vY2RuLmpzZGVsaXZyLm5ldC9ucG0vbGVhZmxldEAxLjQuMC9kaXN0L2xlYWZsZXQuanMiPjwvc2NyaXB0PgogICAgPHNjcmlwdCBzcmM9Imh0dHBzOi8vY29kZS5qcXVlcnkuY29tL2pxdWVyeS0xLjEyLjQubWluLmpzIj48L3NjcmlwdD4KICAgIDxzY3JpcHQgc3JjPSJodHRwczovL21heGNkbi5ib290c3RyYXBjZG4uY29tL2Jvb3RzdHJhcC8zLjIuMC9qcy9ib290c3RyYXAubWluLmpzIj48L3NjcmlwdD4KICAgIDxzY3JpcHQgc3JjPSJodHRwczovL2NkbmpzLmNsb3VkZmxhcmUuY29tL2FqYXgvbGlicy9MZWFmbGV0LmF3ZXNvbWUtbWFya2Vycy8yLjAuMi9sZWFmbGV0LmF3ZXNvbWUtbWFya2Vycy5qcyI+PC9zY3JpcHQ+CiAgICA8bGluayByZWw9InN0eWxlc2hlZXQiIGhyZWY9Imh0dHBzOi8vY2RuLmpzZGVsaXZyLm5ldC9ucG0vbGVhZmxldEAxLjQuMC9kaXN0L2xlYWZsZXQuY3NzIi8+CiAgICA8bGluayByZWw9InN0eWxlc2hlZXQiIGhyZWY9Imh0dHBzOi8vbWF4Y2RuLmJvb3RzdHJhcGNkbi5jb20vYm9vdHN0cmFwLzMuMi4wL2Nzcy9ib290c3RyYXAubWluLmNzcyIvPgogICAgPGxpbmsgcmVsPSJzdHlsZXNoZWV0IiBocmVmPSJodHRwczovL21heGNkbi5ib290c3RyYXBjZG4uY29tL2Jvb3RzdHJhcC8zLjIuMC9jc3MvYm9vdHN0cmFwLXRoZW1lLm1pbi5jc3MiLz4KICAgIDxsaW5rIHJlbD0ic3R5bGVzaGVldCIgaHJlZj0iaHR0cHM6Ly9tYXhjZG4uYm9vdHN0cmFwY2RuLmNvbS9mb250LWF3ZXNvbWUvNC42LjMvY3NzL2ZvbnQtYXdlc29tZS5taW4uY3NzIi8+CiAgICA8bGluayByZWw9InN0eWxlc2hlZXQiIGhyZWY9Imh0dHBzOi8vY2RuanMuY2xvdWRmbGFyZS5jb20vYWpheC9saWJzL0xlYWZsZXQuYXdlc29tZS1tYXJrZXJzLzIuMC4yL2xlYWZsZXQuYXdlc29tZS1tYXJrZXJzLmNzcyIvPgogICAgPGxpbmsgcmVsPSJzdHlsZXNoZWV0IiBocmVmPSJodHRwczovL3Jhd2Nkbi5naXRoYWNrLmNvbS9weXRob24tdmlzdWFsaXphdGlvbi9mb2xpdW0vbWFzdGVyL2ZvbGl1bS90ZW1wbGF0ZXMvbGVhZmxldC5hd2Vzb21lLnJvdGF0ZS5jc3MiLz4KICAgIDxzdHlsZT5odG1sLCBib2R5IHt3aWR0aDogMTAwJTtoZWlnaHQ6IDEwMCU7bWFyZ2luOiAwO3BhZGRpbmc6IDA7fTwvc3R5bGU+CiAgICA8c3R5bGU+I21hcCB7cG9zaXRpb246YWJzb2x1dGU7dG9wOjA7Ym90dG9tOjA7cmlnaHQ6MDtsZWZ0OjA7fTwvc3R5bGU+CiAgICAKICAgICAgICAgICAgPG1ldGEgbmFtZT0idmlld3BvcnQiIGNvbnRlbnQ9IndpZHRoPWRldmljZS13aWR0aCwKICAgICAgICAgICAgICAgIGluaXRpYWwtc2NhbGU9MS4wLCBtYXhpbXVtLXNjYWxlPTEuMCwgdXNlci1zY2FsYWJsZT1ubyIgLz4KICAgICAgICAgICAgPHN0eWxlPgogICAgICAgICAgICAgICAgI21hcF84YzVmZDgxYzIzZDU0Nzg0ODFhOTJlMDgyNWJjNDc2MiB7CiAgICAgICAgICAgICAgICAgICAgcG9zaXRpb246IHJlbGF0aXZlOwogICAgICAgICAgICAgICAgICAgIHdpZHRoOiAxMDAuMCU7CiAgICAgICAgICAgICAgICAgICAgaGVpZ2h0OiAxMDAuMCU7CiAgICAgICAgICAgICAgICAgICAgbGVmdDogMC4wJTsKICAgICAgICAgICAgICAgICAgICB0b3A6IDAuMCU7CiAgICAgICAgICAgICAgICB9CiAgICAgICAgICAgIDwvc3R5bGU+CiAgICAgICAgCjwvaGVhZD4KPGJvZHk+ICAgIAogICAgCiAgICAgICAgICAgIDxkaXYgY2xhc3M9ImZvbGl1bS1tYXAiIGlkPSJtYXBfOGM1ZmQ4MWMyM2Q1NDc4NDgxYTkyZTA4MjViYzQ3NjIiID48L2Rpdj4KICAgICAgICAKPC9ib2R5Pgo8c2NyaXB0PiAgICAKICAgIAogICAgICAgICAgICB2YXIgbWFwXzhjNWZkODFjMjNkNTQ3ODQ4MWE5MmUwODI1YmM0NzYyID0gTC5tYXAoCiAgICAgICAgICAgICAgICAibWFwXzhjNWZkODFjMjNkNTQ3ODQ4MWE5MmUwODI1YmM0NzYyIiwKICAgICAgICAgICAgICAgIHsKICAgICAgICAgICAgICAgICAgICBjZW50ZXI6IFszNi43MzMzLCAtMTAwLjc2NjddLAogICAgICAgICAgICAgICAgICAgIGNyczogTC5DUlMuRVBTRzM4NTcsCiAgICAgICAgICAgICAgICAgICAgem9vbTogNCwKICAgICAgICAgICAgICAgICAgICB6b29tQ29udHJvbDogdHJ1ZSwKICAgICAgICAgICAgICAgICAgICBwcmVmZXJDYW52YXM6IGZhbHNlLAogICAgICAgICAgICAgICAgfQogICAgICAgICAgICApOwoKICAgICAgICAgICAgCgogICAgICAgIAogICAgCiAgICAgICAgICAgIHZhciB0aWxlX2xheWVyX2JmYzZjMjRhNDJhZDQyYzFhNzMzMTNjNTE2MzM2NzE3ID0gTC50aWxlTGF5ZXIoCiAgICAgICAgICAgICAgICAiaHR0cHM6Ly97c30udGlsZS5vcGVuc3RyZWV0bWFwLm9yZy97en0ve3h9L3t5fS5wbmciLAogICAgICAgICAgICAgICAgeyJhdHRyaWJ1dGlvbiI6ICJEYXRhIGJ5IFx1MDAyNmNvcHk7IFx1MDAzY2EgaHJlZj1cImh0dHA6Ly9vcGVuc3RyZWV0bWFwLm9yZ1wiXHUwMDNlT3BlblN0cmVldE1hcFx1MDAzYy9hXHUwMDNlLCB1bmRlciBcdTAwM2NhIGhyZWY9XCJodHRwOi8vd3d3Lm9wZW5zdHJlZXRtYXAub3JnL2NvcHlyaWdodFwiXHUwMDNlT0RiTFx1MDAzYy9hXHUwMDNlLiIsICJkZXRlY3RSZXRpbmEiOiBmYWxzZSwgIm1heE5hdGl2ZVpvb20iOiAxOCwgIm1heFpvb20iOiAxOCwgIm1pblpvb20iOiAwLCAibm9XcmFwIjogZmFsc2UsICJvcGFjaXR5IjogMSwgInN1YmRvbWFpbnMiOiAiYWJjIiwgInRtcyI6IGZhbHNlfQogICAgICAgICAgICApLmFkZFRvKG1hcF84YzVmZDgxYzIzZDU0Nzg0ODFhOTJlMDgyNWJjNDc2Mik7CiAgICAgICAgCiAgICAKICAgICAgICAgICAgdmFyIG1hcmtlcl8wMzUwZjJhMDQyYzY0MDFkYWUyODQzOTJiYWQxMjEzYSA9IEwubWFya2VyKAogICAgICAgICAgICAgICAgWzM4LjU2NjcsIC0xMjEuNDgzM10sCiAgICAgICAgICAgICAgICB7fQogICAgICAgICAgICApLmFkZFRvKG1hcF84YzVmZDgxYzIzZDU0Nzg0ODFhOTJlMDgyNWJjNDc2Mik7CiAgICAgICAgCiAgICAKICAgICAgICB2YXIgcG9wdXBfMzBlYTEwOGJjMjRlNDMyMTkyNDg1ZjY0MzQ4M2NhYzEgPSBMLnBvcHVwKHsibWF4V2lkdGgiOiAiMTAwJSJ9KTsKCiAgICAgICAgCiAgICAgICAgICAgIHZhciBodG1sX2FlYTgwZjVjNjgxNTRkNmFhYWVmYjdlNGRiMTY2N2Q1ID0gJChgPGRpdiBpZD0iaHRtbF9hZWE4MGY1YzY4MTU0ZDZhYWFlZmI3ZTRkYjE2NjdkNSIgc3R5bGU9IndpZHRoOiAxMDAuMCU7IGhlaWdodDogMTAwLjAlOyI+U2FjcmFtZW50byAoV2FsZXJnYSk8L2Rpdj5gKVswXTsKICAgICAgICAgICAgcG9wdXBfMzBlYTEwOGJjMjRlNDMyMTkyNDg1ZjY0MzQ4M2NhYzEuc2V0Q29udGVudChodG1sX2FlYTgwZjVjNjgxNTRkNmFhYWVmYjdlNGRiMTY2N2Q1KTsKICAgICAgICAKCiAgICAgICAgbWFya2VyXzAzNTBmMmEwNDJjNjQwMWRhZTI4NDM5MmJhZDEyMTNhLmJpbmRQb3B1cChwb3B1cF8zMGVhMTA4YmMyNGU0MzIxOTI0ODVmNjQzNDgzY2FjMSkKICAgICAgICA7CgogICAgICAgIAogICAgCiAgICAKICAgICAgICAgICAgdmFyIG1hcmtlcl9kNGE4MWE3OWZkYjE0MjNmOWU3ZDQxYjM3Y2QyMjYwYyA9IEwubWFya2VyKAogICAgICAgICAgICAgICAgWzM2LjcyODMzMywgLTExOC4xNTQ0NDRdLAogICAgICAgICAgICAgICAge30KICAgICAgICAgICAgKS5hZGRUbyhtYXBfOGM1ZmQ4MWMyM2Q1NDc4NDgxYTkyZTA4MjViYzQ3NjIpOwogICAgICAgIAogICAgCiAgICAgICAgdmFyIHBvcHVwXzBmMjljOGRkZWRlZTQzYjE4NTc4MmY5MDM5ZDc4ZWQxID0gTC5wb3B1cCh7Im1heFdpZHRoIjogIjEwMCUifSk7CgogICAgICAgIAogICAgICAgICAgICB2YXIgaHRtbF8xM2YxZWFmOTk2N2Q0M2VkOTI0MTYwYmM0Mzg1OTdkNyA9ICQoYDxkaXYgaWQ9Imh0bWxfMTNmMWVhZjk5NjdkNDNlZDkyNDE2MGJjNDM4NTk3ZDciIHN0eWxlPSJ3aWR0aDogMTAwLjAlOyBoZWlnaHQ6IDEwMC4wJTsiPk1hbnphbmFyIChVcCB0byA2LzEvNDIpPC9kaXY+YClbMF07CiAgICAgICAgICAgIHBvcHVwXzBmMjljOGRkZWRlZTQzYjE4NTc4MmY5MDM5ZDc4ZWQxLnNldENvbnRlbnQoaHRtbF8xM2YxZWFmOTk2N2Q0M2VkOTI0MTYwYmM0Mzg1OTdkNyk7CiAgICAgICAgCgogICAgICAgIG1hcmtlcl9kNGE4MWE3OWZkYjE0MjNmOWU3ZDQxYjM3Y2QyMjYwYy5iaW5kUG9wdXAocG9wdXBfMGYyOWM4ZGRlZGVlNDNiMTg1NzgyZjkwMzlkNzhlZDEpCiAgICAgICAgOwoKICAgICAgICAKICAgIAogICAgCiAgICAgICAgICAgIHZhciBtYXJrZXJfZDEzZjRhYmQ3YTI4NDJlZTk5YmIzMTJjY2RjMTQ2OTcgPSBMLm1hcmtlcigKICAgICAgICAgICAgICAgIFszNi43MzMzLCAtMTE5Ljc2NjddLAogICAgICAgICAgICAgICAge30KICAgICAgICAgICAgKS5hZGRUbyhtYXBfOGM1ZmQ4MWMyM2Q1NDc4NDgxYTkyZTA4MjViYzQ3NjIpOwogICAgICAgIAogICAgCiAgICAgICAgdmFyIHBvcHVwX2Y4NzI2ZDU0NWZlZTQwMzY4YmQzZTcxZWVhZTYyNTc2ID0gTC5wb3B1cCh7Im1heFdpZHRoIjogIjEwMCUifSk7CgogICAgICAgIAogICAgICAgICAgICB2YXIgaHRtbF8wNzA0NTVkNjAzMjA0ZDBlYTEwMjVjNjU1OTIwZDUyZCA9ICQoYDxkaXYgaWQ9Imh0bWxfMDcwNDU1ZDYwMzIwNGQwZWExMDI1YzY1NTkyMGQ1MmQiIHN0eWxlPSJ3aWR0aDogMTAwLjAlOyBoZWlnaHQ6IDEwMC4wJTsiPkZyZXNubzwvZGl2PmApWzBdOwogICAgICAgICAgICBwb3B1cF9mODcyNmQ1NDVmZWU0MDM2OGJkM2U3MWVlYWU2MjU3Ni5zZXRDb250ZW50KGh0bWxfMDcwNDU1ZDYwMzIwNGQwZWExMDI1YzY1NTkyMGQ1MmQpOwogICAgICAgIAoKICAgICAgICBtYXJrZXJfZDEzZjRhYmQ3YTI4NDJlZTk5YmIzMTJjY2RjMTQ2OTcuYmluZFBvcHVwKHBvcHVwX2Y4NzI2ZDU0NWZlZTQwMzY4YmQzZTcxZWVhZTYyNTc2KQogICAgICAgIDsKCiAgICAgICAgCiAgICAKICAgIAogICAgICAgICAgICB2YXIgbWFya2VyXzM5ZWRhNDczOWIxMTQyZWJiZGM1NjczNDY4N2EwZmY4ID0gTC5tYXJrZXIoCiAgICAgICAgICAgICAgICBbMzkuMDUsIC0xMjEuNTUwMDVdLAogICAgICAgICAgICAgICAge30KICAgICAgICAgICAgKS5hZGRUbyhtYXBfOGM1ZmQ4MWMyM2Q1NDc4NDgxYTkyZTA4MjViYzQ3NjIpOwogICAgICAgIAogICAgCiAgICAgICAgdmFyIHBvcHVwX2NiYWEwZjAyNjAyYjQzMzBhNjg4Y2ZiNTgzNjdmMzAwID0gTC5wb3B1cCh7Im1heFdpZHRoIjogIjEwMCUifSk7CgogICAgICAgIAogICAgICAgICAgICB2YXIgaHRtbF9iNzhiMTY3YjA0Mjc0YTk4OTc4NmQ1MTdkMzZkMjgzMiA9ICQoYDxkaXYgaWQ9Imh0bWxfYjc4YjE2N2IwNDI3NGE5ODk3ODZkNTE3ZDM2ZDI4MzIiIHN0eWxlPSJ3aWR0aDogMTAwLjAlOyBoZWlnaHQ6IDEwMC4wJTsiPk1hcnlzdmlsbGUgKEFyYm9nYSk8L2Rpdj5gKVswXTsKICAgICAgICAgICAgcG9wdXBfY2JhYTBmMDI2MDJiNDMzMGE2ODhjZmI1ODM2N2YzMDAuc2V0Q29udGVudChodG1sX2I3OGIxNjdiMDQyNzRhOTg5Nzg2ZDUxN2QzNmQyODMyKTsKICAgICAgICAKCiAgICAgICAgbWFya2VyXzM5ZWRhNDczOWIxMTQyZWJiZGM1NjczNDY4N2EwZmY4LmJpbmRQb3B1cChwb3B1cF9jYmFhMGYwMjYwMmI0MzMwYTY4OGNmYjU4MzY3ZjMwMCkKICAgICAgICA7CgogICAgICAgIAogICAgCiAgICAKICAgICAgICAgICAgdmFyIG1hcmtlcl84ODczNWY4MTE3Nzk0MTlhODgwMTU2NjJkZTEyMDhkZSA9IEwubWFya2VyKAogICAgICAgICAgICAgICAgWzM0LjM4MzMsIC0xMTIuMjMzM10sCiAgICAgICAgICAgICAgICB7fQogICAgICAgICAgICApLmFkZFRvKG1hcF84YzVmZDgxYzIzZDU0Nzg0ODFhOTJlMDgyNWJjNDc2Mik7CiAgICAgICAgCiAgICAKICAgICAgICB2YXIgcG9wdXBfOWYwMmQ1Y2I4ZjJmNGMzODllMWY0OTczYTZiZmY5OWMgPSBMLnBvcHVwKHsibWF4V2lkdGgiOiAiMTAwJSJ9KTsKCiAgICAgICAgCiAgICAgICAgICAgIHZhciBodG1sXzIxYmM5YWQyODExZTQyM2VhZDM1Nzk5ZWVjMWZjZjdjID0gJChgPGRpdiBpZD0iaHRtbF8yMWJjOWFkMjgxMWU0MjNlYWQzNTc5OWVlYzFmY2Y3YyIgc3R5bGU9IndpZHRoOiAxMDAuMCU7IGhlaWdodDogMTAwLjAlOyI+TWF5ZXI8L2Rpdj5gKVswXTsKICAgICAgICAgICAgcG9wdXBfOWYwMmQ1Y2I4ZjJmNGMzODllMWY0OTczYTZiZmY5OWMuc2V0Q29udGVudChodG1sXzIxYmM5YWQyODExZTQyM2VhZDM1Nzk5ZWVjMWZjZjdjKTsKICAgICAgICAKCiAgICAgICAgbWFya2VyXzg4NzM1ZjgxMTc3OTQxOWE4ODAxNTY2MmRlMTIwOGRlLmJpbmRQb3B1cChwb3B1cF85ZjAyZDVjYjhmMmY0YzM4OWUxZjQ5NzNhNmJmZjk5YykKICAgICAgICA7CgogICAgICAgIAogICAgCiAgICAKICAgICAgICAgICAgdmFyIG1hcmtlcl84ZTMxMjg2M2U0NDI0NWU4YTBmYzdhNzkzOGU3ZjFkMyA9IEwubWFya2VyKAogICAgICAgICAgICAgICAgWzM3LjMsIC0xMjAuNDY2N10sCiAgICAgICAgICAgICAgICB7fQogICAgICAgICAgICApLmFkZFRvKG1hcF84YzVmZDgxYzIzZDU0Nzg0ODFhOTJlMDgyNWJjNDc2Mik7CiAgICAgICAgCiAgICAKICAgICAgICB2YXIgcG9wdXBfOTU0NWMzMDRlNGU4NGY4NTk1OWVlYzVkNjQxOWZkMTUgPSBMLnBvcHVwKHsibWF4V2lkdGgiOiAiMTAwJSJ9KTsKCiAgICAgICAgCiAgICAgICAgICAgIHZhciBodG1sXzFhZDVmOWVkNGFjNjQxODA4NjdlYmNkNGI5NmUzNmNkID0gJChgPGRpdiBpZD0iaHRtbF8xYWQ1ZjllZDRhYzY0MTgwODY3ZWJjZDRiOTZlMzZjZCIgc3R5bGU9IndpZHRoOiAxMDAuMCU7IGhlaWdodDogMTAwLjAlOyI+TWVyY2VkPC9kaXY+YClbMF07CiAgICAgICAgICAgIHBvcHVwXzk1NDVjMzA0ZTRlODRmODU5NTllZWM1ZDY0MTlmZDE1LnNldENvbnRlbnQoaHRtbF8xYWQ1ZjllZDRhYzY0MTgwODY3ZWJjZDRiOTZlMzZjZCk7CiAgICAgICAgCgogICAgICAgIG1hcmtlcl84ZTMxMjg2M2U0NDI0NWU4YTBmYzdhNzkzOGU3ZjFkMy5iaW5kUG9wdXAocG9wdXBfOTU0NWMzMDRlNGU4NGY4NTk1OWVlYzVkNjQxOWZkMTUpCiAgICAgICAgOwoKICAgICAgICAKICAgIAogICAgCiAgICAgICAgICAgIHZhciBtYXJrZXJfZmRmNjBkZDdhMjdlNDliM2FiNjY2ZmEyOGRiNmE2YWIgPSBMLm1hcmtlcigKICAgICAgICAgICAgICAgIFszNi44NCwgLTExOS44XSwKICAgICAgICAgICAgICAgIHt9CiAgICAgICAgICAgICkuYWRkVG8obWFwXzhjNWZkODFjMjNkNTQ3ODQ4MWE5MmUwODI1YmM0NzYyKTsKICAgICAgICAKICAgIAogICAgICAgIHZhciBwb3B1cF9jN2M3M2E4Njc1YzI0NjNmYWZhYjkwNjYxZWZiY2M4NyA9IEwucG9wdXAoeyJtYXhXaWR0aCI6ICIxMDAlIn0pOwoKICAgICAgICAKICAgICAgICAgICAgdmFyIGh0bWxfZTljYzM0ZGRlN2FmNDRmZDgwNDRhYzY5ZTg3ZDgzY2IgPSAkKGA8ZGl2IGlkPSJodG1sX2U5Y2MzNGRkZTdhZjQ0ZmQ4MDQ0YWM2OWU4N2Q4M2NiIiBzdHlsZT0id2lkdGg6IDEwMC4wJTsgaGVpZ2h0OiAxMDAuMCU7Ij5QaW5lZGFsZTwvZGl2PmApWzBdOwogICAgICAgICAgICBwb3B1cF9jN2M3M2E4Njc1YzI0NjNmYWZhYjkwNjYxZWZiY2M4Ny5zZXRDb250ZW50KGh0bWxfZTljYzM0ZGRlN2FmNDRmZDgwNDRhYzY5ZTg3ZDgzY2IpOwogICAgICAgIAoKICAgICAgICBtYXJrZXJfZmRmNjBkZDdhMjdlNDliM2FiNjY2ZmEyOGRiNmE2YWIuYmluZFBvcHVwKHBvcHVwX2M3YzczYTg2NzVjMjQ2M2ZhZmFiOTA2NjFlZmJjYzg3KQogICAgICAgIDsKCiAgICAgICAgCiAgICAKICAgIAogICAgICAgICAgICB2YXIgbWFya2VyXzZkYWJkNDYzZTg4ZjRmZGZiZTVhMDJkZjc4ZGZjZTE0ID0gTC5tYXJrZXIoCiAgICAgICAgICAgICAgICBbMzQuMDUsIC0xMTcuNzVdLAogICAgICAgICAgICAgICAge30KICAgICAgICAgICAgKS5hZGRUbyhtYXBfOGM1ZmQ4MWMyM2Q1NDc4NDgxYTkyZTA4MjViYzQ3NjIpOwogICAgICAgIAogICAgCiAgICAgICAgdmFyIHBvcHVwXzg4MjMyYmI1MzY5ZTRlOTJhNDVhZjI4MGIxMzY0ZTJhID0gTC5wb3B1cCh7Im1heFdpZHRoIjogIjEwMCUifSk7CgogICAgICAgIAogICAgICAgICAgICB2YXIgaHRtbF80YWRjYmE0MGUyMTU0OWY3YmJkMjAyMGMxMTgwZjIzMCA9ICQoYDxkaXYgaWQ9Imh0bWxfNGFkY2JhNDBlMjE1NDlmN2JiZDIwMjBjMTE4MGYyMzAiIHN0eWxlPSJ3aWR0aDogMTAwLjAlOyBoZWlnaHQ6IDEwMC4wJTsiPlBvbW9uYTwvZGl2PmApWzBdOwogICAgICAgICAgICBwb3B1cF84ODIzMmJiNTM2OWU0ZTkyYTQ1YWYyODBiMTM2NGUyYS5zZXRDb250ZW50KGh0bWxfNGFkY2JhNDBlMjE1NDlmN2JiZDIwMjBjMTE4MGYyMzApOwogICAgICAgIAoKICAgICAgICBtYXJrZXJfNmRhYmQ0NjNlODhmNGZkZmJlNWEwMmRmNzhkZmNlMTQuYmluZFBvcHVwKHBvcHVwXzg4MjMyYmI1MzY5ZTRlOTJhNDVhZjI4MGIxMzY0ZTJhKQogICAgICAgIDsKCiAgICAgICAgCiAgICAKICAgIAogICAgICAgICAgICB2YXIgbWFya2VyX2VlZGE0YmFmYTMyZjRlZWNiYmJhNWU2Y2QxMWE0Yjc0ID0gTC5tYXJrZXIoCiAgICAgICAgICAgICAgICBbNDUuNTE2NywgLTEyMi42NjY3XSwKICAgICAgICAgICAgICAgIHt9CiAgICAgICAgICAgICkuYWRkVG8obWFwXzhjNWZkODFjMjNkNTQ3ODQ4MWE5MmUwODI1YmM0NzYyKTsKICAgICAgICAKICAgIAogICAgICAgIHZhciBwb3B1cF83YWVjY2U0ZDAwYzM0MTg0YTMzMmViMjRlNWUwMTNiZSA9IEwucG9wdXAoeyJtYXhXaWR0aCI6ICIxMDAlIn0pOwoKICAgICAgICAKICAgICAgICAgICAgdmFyIGh0bWxfMDg2NDMzMDQyMjg2NGVlYjkyNjgyOTQ2NTViOTFlODcgPSAkKGA8ZGl2IGlkPSJodG1sXzA4NjQzMzA0MjI4NjRlZWI5MjY4Mjk0NjU1YjkxZTg3IiBzdHlsZT0id2lkdGg6IDEwMC4wJTsgaGVpZ2h0OiAxMDAuMCU7Ij5Qb3J0bGFuZCAoUGFjaWZpYyBJbnQuIEV4cG9zaXRpb24gR3JvdW5kKTwvZGl2PmApWzBdOwogICAgICAgICAgICBwb3B1cF83YWVjY2U0ZDAwYzM0MTg0YTMzMmViMjRlNWUwMTNiZS5zZXRDb250ZW50KGh0bWxfMDg2NDMzMDQyMjg2NGVlYjkyNjgyOTQ2NTViOTFlODcpOwogICAgICAgIAoKICAgICAgICBtYXJrZXJfZWVkYTRiYWZhMzJmNGVlY2JiYmE1ZTZjZDExYTRiNzQuYmluZFBvcHVwKHBvcHVwXzdhZWNjZTRkMDBjMzQxODRhMzMyZWIyNGU1ZTAxM2JlKQogICAgICAgIDsKCiAgICAgICAgCiAgICAKICAgIAogICAgICAgICAgICB2YXIgbWFya2VyXzM4YzYyNGVjZGUxYjRhZTliMDg0ZGJlNTI5NDFmZWUwID0gTC5tYXJrZXIoCiAgICAgICAgICAgICAgICBbNDcuMTgzMywgLTEyMi4yODMzXSwKICAgICAgICAgICAgICAgIHt9CiAgICAgICAgICAgICkuYWRkVG8obWFwXzhjNWZkODFjMjNkNTQ3ODQ4MWE5MmUwODI1YmM0NzYyKTsKICAgICAgICAKICAgIAogICAgICAgIHZhciBwb3B1cF9mODAwZjFmMmVkNTM0ZGIzOTljNTkyNzAxYjhlYjc4YiA9IEwucG9wdXAoeyJtYXhXaWR0aCI6ICIxMDAlIn0pOwoKICAgICAgICAKICAgICAgICAgICAgdmFyIGh0bWxfYTVmOTJiY2I2Y2U0NGI5MjhiNTE0MTZjNjYzOWE2MzIgPSAkKGA8ZGl2IGlkPSJodG1sX2E1ZjkyYmNiNmNlNDRiOTI4YjUxNDE2YzY2MzlhNjMyIiBzdHlsZT0id2lkdGg6IDEwMC4wJTsgaGVpZ2h0OiAxMDAuMCU7Ij5QdXlhbGx1cDwvZGl2PmApWzBdOwogICAgICAgICAgICBwb3B1cF9mODAwZjFmMmVkNTM0ZGIzOTljNTkyNzAxYjhlYjc4Yi5zZXRDb250ZW50KGh0bWxfYTVmOTJiY2I2Y2U0NGI5MjhiNTE0MTZjNjYzOWE2MzIpOwogICAgICAgIAoKICAgICAgICBtYXJrZXJfMzhjNjI0ZWNkZTFiNGFlOWIwODRkYmU1Mjk0MWZlZTAuYmluZFBvcHVwKHBvcHVwX2Y4MDBmMWYyZWQ1MzRkYjM5OWM1OTI3MDFiOGViNzhiKQogICAgICAgIDsKCiAgICAgICAgCiAgICAKICAgIAogICAgICAgICAgICB2YXIgbWFya2VyXzY0NjcwOTMzM2EzMDRkN2RhMmYyNDFlNmVkNGI2NTg2ID0gTC5tYXJrZXIoCiAgICAgICAgICAgICAgICBbMzYuNjY2NywgLTEyMS42NV0sCiAgICAgICAgICAgICAgICB7fQogICAgICAgICAgICApLmFkZFRvKG1hcF84YzVmZDgxYzIzZDU0Nzg0ODFhOTJlMDgyNWJjNDc2Mik7CiAgICAgICAgCiAgICAKICAgICAgICB2YXIgcG9wdXBfZThkODhlNTcwY2NmNDZiODg2YzhjZTFmZGMxZjMwNmMgPSBMLnBvcHVwKHsibWF4V2lkdGgiOiAiMTAwJSJ9KTsKCiAgICAgICAgCiAgICAgICAgICAgIHZhciBodG1sXzcxNmVhMDJkNGQzMDQ5YTRiNzU5YWRkNzcxM2Q1YWIxID0gJChgPGRpdiBpZD0iaHRtbF83MTZlYTAyZDRkMzA0OWE0Yjc1OWFkZDc3MTNkNWFiMSIgc3R5bGU9IndpZHRoOiAxMDAuMCU7IGhlaWdodDogMTAwLjAlOyI+U2FsaW5hczwvZGl2PmApWzBdOwogICAgICAgICAgICBwb3B1cF9lOGQ4OGU1NzBjY2Y0NmI4ODZjOGNlMWZkYzFmMzA2Yy5zZXRDb250ZW50KGh0bWxfNzE2ZWEwMmQ0ZDMwNDlhNGI3NTlhZGQ3NzEzZDVhYjEpOwogICAgICAgIAoKICAgICAgICBtYXJrZXJfNjQ2NzA5MzMzYTMwNGQ3ZGEyZjI0MWU2ZWQ0YjY1ODYuYmluZFBvcHVwKHBvcHVwX2U4ZDg4ZTU3MGNjZjQ2Yjg4NmM4Y2UxZmRjMWYzMDZjKQogICAgICAgIDsKCiAgICAgICAgCiAgICAKICAgIAogICAgICAgICAgICB2YXIgbWFya2VyXzg5YjBkNGM5NDEzNzQ5OTM4YWU3MzZhYWZlMzA0NjgwID0gTC5tYXJrZXIoCiAgICAgICAgICAgICAgICBbMzQuMTMzMywgLTExOC4wMzMzXSwKICAgICAgICAgICAgICAgIHt9CiAgICAgICAgICAgICkuYWRkVG8obWFwXzhjNWZkODFjMjNkNTQ3ODQ4MWE5MmUwODI1YmM0NzYyKTsKICAgICAgICAKICAgIAogICAgICAgIHZhciBwb3B1cF82NDY5ZjVhMmJmODM0YmQ2YWE2M2M4ZDQxNzU0Y2Y3NiA9IEwucG9wdXAoeyJtYXhXaWR0aCI6ICIxMDAlIn0pOwoKICAgICAgICAKICAgICAgICAgICAgdmFyIGh0bWxfNmRiMzc0NmU2MmQwNGFlOGJlOGJlMjg1NDBjMzk0NDQgPSAkKGA8ZGl2IGlkPSJodG1sXzZkYjM3NDZlNjJkMDRhZThiZThiZTI4NTQwYzM5NDQ0IiBzdHlsZT0id2lkdGg6IDEwMC4wJTsgaGVpZ2h0OiAxMDAuMCU7Ij5TYW50YSBBbml0YTwvZGl2PmApWzBdOwogICAgICAgICAgICBwb3B1cF82NDY5ZjVhMmJmODM0YmQ2YWE2M2M4ZDQxNzU0Y2Y3Ni5zZXRDb250ZW50KGh0bWxfNmRiMzc0NmU2MmQwNGFlOGJlOGJlMjg1NDBjMzk0NDQpOwogICAgICAgIAoKICAgICAgICBtYXJrZXJfODliMGQ0Yzk0MTM3NDk5MzhhZTczNmFhZmUzMDQ2ODAuYmluZFBvcHVwKHBvcHVwXzY0NjlmNWEyYmY4MzRiZDZhYTYzYzhkNDE3NTRjZjc2KQogICAgICAgIDsKCiAgICAgICAgCiAgICAKICAgIAogICAgICAgICAgICB2YXIgbWFya2VyXzc4NjYxNTJkMTFkNzQ2MDY4ODYwMThmOTI4MmMyNmYzID0gTC5tYXJrZXIoCiAgICAgICAgICAgICAgICBbMzcuOTUsIC0xMjEuMjgzM10sCiAgICAgICAgICAgICAgICB7fQogICAgICAgICAgICApLmFkZFRvKG1hcF84YzVmZDgxYzIzZDU0Nzg0ODFhOTJlMDgyNWJjNDc2Mik7CiAgICAgICAgCiAgICAKICAgICAgICB2YXIgcG9wdXBfNTkzZTA1ZDcxNGQ3NGZhYjg3MTYyYWE3MGQxNTdhZTQgPSBMLnBvcHVwKHsibWF4V2lkdGgiOiAiMTAwJSJ9KTsKCiAgICAgICAgCiAgICAgICAgICAgIHZhciBodG1sX2I3YTQ3NWUwNjAyNzQ5MWQ5ZDQ4ZTA3MzI2NjdiYmM3ID0gJChgPGRpdiBpZD0iaHRtbF9iN2E0NzVlMDYwMjc0OTFkOWQ0OGUwNzMyNjY3YmJjNyIgc3R5bGU9IndpZHRoOiAxMDAuMCU7IGhlaWdodDogMTAwLjAlOyI+U3RvY2t0b248L2Rpdj5gKVswXTsKICAgICAgICAgICAgcG9wdXBfNTkzZTA1ZDcxNGQ3NGZhYjg3MTYyYWE3MGQxNTdhZTQuc2V0Q29udGVudChodG1sX2I3YTQ3NWUwNjAyNzQ5MWQ5ZDQ4ZTA3MzI2NjdiYmM3KTsKICAgICAgICAKCiAgICAgICAgbWFya2VyXzc4NjYxNTJkMTFkNzQ2MDY4ODYwMThmOTI4MmMyNmYzLmJpbmRQb3B1cChwb3B1cF81OTNlMDVkNzE0ZDc0ZmFiODcxNjJhYTcwZDE1N2FlNCkKICAgICAgICA7CgogICAgICAgIAogICAgCiAgICAKICAgICAgICAgICAgdmFyIG1hcmtlcl9hZDg0ZmY0ZTg4MzU0OTE5YjI4OTE2NTAzMzczNDExNSA9IEwubWFya2VyKAogICAgICAgICAgICAgICAgWzM3LjYxNjcsIC0xMjIuNF0sCiAgICAgICAgICAgICAgICB7fQogICAgICAgICAgICApLmFkZFRvKG1hcF84YzVmZDgxYzIzZDU0Nzg0ODFhOTJlMDgyNWJjNDc2Mik7CiAgICAgICAgCiAgICAKICAgICAgICB2YXIgcG9wdXBfMGIyMjFhMTUwYzgyNDMyZjhjMDNmZTAyOTUzYjJjNGMgPSBMLnBvcHVwKHsibWF4V2lkdGgiOiAiMTAwJSJ9KTsKCiAgICAgICAgCiAgICAgICAgICAgIHZhciBodG1sXzA4MGYzY2EyYmRjMDQ2OGNhZDY0NmVlNjU5MzJiMjg1ID0gJChgPGRpdiBpZD0iaHRtbF8wODBmM2NhMmJkYzA0NjhjYWQ2NDZlZTY1OTMyYjI4NSIgc3R5bGU9IndpZHRoOiAxMDAuMCU7IGhlaWdodDogMTAwLjAlOyI+VGFuZm9yYW48L2Rpdj5gKVswXTsKICAgICAgICAgICAgcG9wdXBfMGIyMjFhMTUwYzgyNDMyZjhjMDNmZTAyOTUzYjJjNGMuc2V0Q29udGVudChodG1sXzA4MGYzY2EyYmRjMDQ2OGNhZDY0NmVlNjU5MzJiMjg1KTsKICAgICAgICAKCiAgICAgICAgbWFya2VyX2FkODRmZjRlODgzNTQ5MTliMjg5MTY1MDMzNzM0MTE1LmJpbmRQb3B1cChwb3B1cF8wYjIyMWExNTBjODI0MzJmOGMwM2ZlMDI5NTNiMmM0YykKICAgICAgICA7CgogICAgICAgIAogICAgCiAgICAKICAgICAgICAgICAgdmFyIG1hcmtlcl82ZGU5NGYyYzFmMzI0MGQwYjFhNzAwYjk1OTMyOTc4NSA9IEwubWFya2VyKAogICAgICAgICAgICAgICAgWzM2LjIsIC0xMTkuMzMzM10sCiAgICAgICAgICAgICAgICB7fQogICAgICAgICAgICApLmFkZFRvKG1hcF84YzVmZDgxYzIzZDU0Nzg0ODFhOTJlMDgyNWJjNDc2Mik7CiAgICAgICAgCiAgICAKICAgICAgICB2YXIgcG9wdXBfMWRjNmIzYTRkOWIzNDY4MTk0NzYyZDdiOWVjZTE3MWEgPSBMLnBvcHVwKHsibWF4V2lkdGgiOiAiMTAwJSJ9KTsKCiAgICAgICAgCiAgICAgICAgICAgIHZhciBodG1sXzU0M2Q2ZmRlM2Y0YjRhYWQ5ZTNmMzViNjVlMzA5MTgxID0gJChgPGRpdiBpZD0iaHRtbF81NDNkNmZkZTNmNGI0YWFkOWUzZjM1YjY1ZTMwOTE4MSIgc3R5bGU9IndpZHRoOiAxMDAuMCU7IGhlaWdodDogMTAwLjAlOyI+VHVsYXJlPC9kaXY+YClbMF07CiAgICAgICAgICAgIHBvcHVwXzFkYzZiM2E0ZDliMzQ2ODE5NDc2MmQ3YjllY2UxNzFhLnNldENvbnRlbnQoaHRtbF81NDNkNmZkZTNmNGI0YWFkOWUzZjM1YjY1ZTMwOTE4MSk7CiAgICAgICAgCgogICAgICAgIG1hcmtlcl82ZGU5NGYyYzFmMzI0MGQwYjFhNzAwYjk1OTMyOTc4NS5iaW5kUG9wdXAocG9wdXBfMWRjNmIzYTRkOWIzNDY4MTk0NzYyZDdiOWVjZTE3MWEpCiAgICAgICAgOwoKICAgICAgICAKICAgIAogICAgCiAgICAgICAgICAgIHZhciBtYXJrZXJfNDA4ZDM0ZGUxMzlmNDU1Y2IzZDhiNjFiYTFhNWVjYmEgPSBMLm1hcmtlcigKICAgICAgICAgICAgICAgIFszNy40ODMzLCAtMTIwLjgzMzNdLAogICAgICAgICAgICAgICAge30KICAgICAgICAgICAgKS5hZGRUbyhtYXBfOGM1ZmQ4MWMyM2Q1NDc4NDgxYTkyZTA4MjViYzQ3NjIpOwogICAgICAgIAogICAgCiAgICAgICAgdmFyIHBvcHVwXzUxODMxOWUzNDNhZTQwZmY5OWEwZGZkZGRlMDM1ZmIxID0gTC5wb3B1cCh7Im1heFdpZHRoIjogIjEwMCUifSk7CgogICAgICAgIAogICAgICAgICAgICB2YXIgaHRtbF81ZGUyMGRkZGRjMzA0NTAzOWExZTZlYjZkYTkzYTAyMCA9ICQoYDxkaXYgaWQ9Imh0bWxfNWRlMjBkZGRkYzMwNDUwMzlhMWU2ZWI2ZGE5M2EwMjAiIHN0eWxlPSJ3aWR0aDogMTAwLjAlOyBoZWlnaHQ6IDEwMC4wJTsiPlR1cmxvY2s8L2Rpdj5gKVswXTsKICAgICAgICAgICAgcG9wdXBfNTE4MzE5ZTM0M2FlNDBmZjk5YTBkZmRkZGUwMzVmYjEuc2V0Q29udGVudChodG1sXzVkZTIwZGRkZGMzMDQ1MDM5YTFlNmViNmRhOTNhMDIwKTsKICAgICAgICAKCiAgICAgICAgbWFya2VyXzQwOGQzNGRlMTM5ZjQ1NWNiM2Q4YjYxYmExYTVlY2JhLmJpbmRQb3B1cChwb3B1cF81MTgzMTllMzQzYWU0MGZmOTlhMGRmZGRkZTAzNWZiMSkKICAgICAgICA7CgogICAgICAgIAogICAgCjwvc2NyaXB0Pg==\" style=\"position:absolute;width:100%;height:100%;left:0;top:0;border:none !important;\" allowfullscreen webkitallowfullscreen mozallowfullscreen></iframe></div></div>"
      ],
      "text/plain": [
       "<folium.folium.Map at 0x7f6a13d7ce10>"
      ]
     },
     "execution_count": 33,
     "metadata": {},
     "output_type": "execute_result"
    }
   ],
   "source": [
    "m = folium.Map(location=[36.733300, -100.766700], zoom_start=4)\n",
    "tooltip = 'Click me!'\n",
    "for i in range(0,len(assembly)):\n",
    "    folium.Marker(\n",
    "      location=(assembly.iloc[i]['Latitude'], assembly.iloc[i]['Longitude']),\n",
    "      popup=assembly.iloc[i]['Location'],\n",
    "      ).add_to(m)\n",
    "m"
   ]
  },
  {
   "cell_type": "markdown",
   "metadata": {},
   "source": [
    "## Internment Camps\n"
   ]
  },
  {
   "cell_type": "code",
   "execution_count": 34,
   "metadata": {
    "scrolled": true
   },
   "outputs": [
    {
     "data": {
      "text/html": [
       "<div style=\"width:100%;\"><div style=\"position:relative;width:100%;height:0;padding-bottom:60%;\"><iframe src=\"data:text/html;charset=utf-8;base64,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\" style=\"position:absolute;width:100%;height:100%;left:0;top:0;border:none !important;\" allowfullscreen webkitallowfullscreen mozallowfullscreen></iframe></div></div>"
      ],
      "text/plain": [
       "<folium.folium.Map at 0x7f6a1a3992b0>"
      ]
     },
     "execution_count": 34,
     "metadata": {},
     "output_type": "execute_result"
    }
   ],
   "source": [
    "m = folium.Map(location=[36.733300, -100.766700], zoom_start=4)\n",
    "tooltip = 'Click me!'\n",
    "for i in range(0,len(camps)):\n",
    "    folium.Marker(\n",
    "      location=(camps.iloc[i]['Latitude'], camps.iloc[i]['Longitude']),\n",
    "      popup=camps.iloc[i]['Internment Camp Name'],\n",
    "      ).add_to(m)\n",
    "m"
   ]
  },
  {
   "cell_type": "markdown",
   "metadata": {},
   "source": [
    "## Section 3: Mapping and Movement<a id='section 3'></a>"
   ]
  },
  {
   "cell_type": "markdown",
   "metadata": {},
   "source": [
    "One of the consequences of the Japanese internment camps was the relocation after World War 2. Many of the Japanese Americans that lived on the West Coast of the United States did not return to their previous homes since land holdings and possessions were lost during the process. This map shows the populations of each county at the start of World War II, just before the Executive Order 9066 in 1942. Japanese Americans were largely concentrated on the West Coast, with the largest population in Los Angeles.\n",
    "\n",
    "<img src=\"images/Hayward_Friends_say_goodbye.png\" width=\"400\">\n",
    "Neighbors in Hayward, California saying goodbye."
   ]
  },
  {
   "cell_type": "code",
   "execution_count": 36,
   "metadata": {
    "scrolled": true
   },
   "outputs": [
    {
     "data": {
      "text/html": [
       "<div style=\"width:100%;\"><div style=\"position:relative;width:100%;height:0;padding-bottom:60%;\"><iframe src=\"data:text/html;charset=utf-8;base64,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\" style=\"position:absolute;width:100%;height:100%;left:0;top:0;border:none !important;\" allowfullscreen webkitallowfullscreen mozallowfullscreen></iframe></div></div>"
      ],
      "text/plain": [
       "<folium.folium.Map at 0x7f6a1a997ba8>"
      ]
     },
     "execution_count": 36,
     "metadata": {},
     "output_type": "execute_result"
    }
   ],
   "source": [
    "m = folium.Map(location=[36.733300, -100.766700], zoom_start=4)\n",
    "tooltip = 'Click me!'\n",
    "for i in range(0,len(population1940_1945)):\n",
    "    folium.Circle(\n",
    "      location = (population1940_1945.iloc[i]['Latitude'], population1940_1945.iloc[i]['Longitude']),\n",
    "      popup = population1940_1945.iloc[i]['County'],\n",
    "      radius = float(population1940_1945.iloc[i]['1940']) *12,\n",
    "      color = 'blue',\n",
    "      fill = True,\n",
    "      fill_color = 'crimson').add_to(m)\n",
    "m"
   ]
  },
  {
   "cell_type": "markdown",
   "metadata": {},
   "source": [
    "This table shows the amount of Japanese Americans in each county after the war. This data was self-reported by evacuees."
   ]
  },
  {
   "cell_type": "code",
   "execution_count": 37,
   "metadata": {},
   "outputs": [
    {
     "data": {
      "text/html": [
       "<div>\n",
       "<style scoped>\n",
       "    .dataframe tbody tr th:only-of-type {\n",
       "        vertical-align: middle;\n",
       "    }\n",
       "\n",
       "    .dataframe tbody tr th {\n",
       "        vertical-align: top;\n",
       "    }\n",
       "\n",
       "    .dataframe thead th {\n",
       "        text-align: right;\n",
       "    }\n",
       "</style>\n",
       "<table border=\"1\" class=\"dataframe\">\n",
       "  <thead>\n",
       "    <tr style=\"text-align: right;\">\n",
       "      <th></th>\n",
       "      <th>City</th>\n",
       "      <th>State</th>\n",
       "      <th>People</th>\n",
       "      <th>Latitude</th>\n",
       "      <th>Longitude</th>\n",
       "    </tr>\n",
       "  </thead>\n",
       "  <tbody>\n",
       "    <tr>\n",
       "      <th>0</th>\n",
       "      <td>Glendale</td>\n",
       "      <td>AZ</td>\n",
       "      <td>487.0</td>\n",
       "      <td>34.142508</td>\n",
       "      <td>-118.255075</td>\n",
       "    </tr>\n",
       "    <tr>\n",
       "      <th>1</th>\n",
       "      <td>Alameda</td>\n",
       "      <td>CA</td>\n",
       "      <td>211.0</td>\n",
       "      <td>37.779872</td>\n",
       "      <td>-122.282185</td>\n",
       "    </tr>\n",
       "    <tr>\n",
       "      <th>2</th>\n",
       "      <td>Berkely</td>\n",
       "      <td>CA</td>\n",
       "      <td>844.0</td>\n",
       "      <td>37.871523</td>\n",
       "      <td>-122.273042</td>\n",
       "    </tr>\n",
       "    <tr>\n",
       "      <th>3</th>\n",
       "      <td>Burbank</td>\n",
       "      <td>CA</td>\n",
       "      <td>228.0</td>\n",
       "      <td>34.180839</td>\n",
       "      <td>-118.308966</td>\n",
       "    </tr>\n",
       "    <tr>\n",
       "      <th>4</th>\n",
       "      <td>Dinuba</td>\n",
       "      <td>CA</td>\n",
       "      <td>201.0</td>\n",
       "      <td>36.543284</td>\n",
       "      <td>-119.387066</td>\n",
       "    </tr>\n",
       "  </tbody>\n",
       "</table>\n",
       "</div>"
      ],
      "text/plain": [
       "       City State  People   Latitude   Longitude\n",
       "0  Glendale    AZ   487.0  34.142508 -118.255075\n",
       "1   Alameda    CA   211.0  37.779872 -122.282185\n",
       "2   Berkely    CA   844.0  37.871523 -122.273042\n",
       "3   Burbank    CA   228.0  34.180839 -118.308966\n",
       "4    Dinuba    CA   201.0  36.543284 -119.387066"
      ]
     },
     "execution_count": 37,
     "metadata": {},
     "output_type": "execute_result"
    }
   ],
   "source": [
    "reloc_cities = pd.read_csv(\"data/RelocationDestinations_Cities_LL.csv\", error_bad_lines = False)\n",
    "reloc_cities['People'] = reloc_cities['People'].astype(float)\n",
    "reloc_cities.head()"
   ]
  },
  {
   "cell_type": "markdown",
   "metadata": {},
   "source": [
    "This map shows the cities that people relocated after the war. It allows us to visualize the extent people had to relocate from their original homes which were mostly on the west coast of the U.S. We can see a large population moved to the midwest (Chicago area) as well as the east coast, Canada, and even Mexico City. "
   ]
  },
  {
   "cell_type": "code",
   "execution_count": 38,
   "metadata": {},
   "outputs": [
    {
     "data": {
      "text/html": [
       "<div style=\"width:100%;\"><div style=\"position:relative;width:100%;height:0;padding-bottom:60%;\"><iframe src=\"data:text/html;charset=utf-8;base64,PCFET0NUWVBFIGh0bWw+CjxoZWFkPiAgICAKICAgIDxtZXRhIGh0dHAtZXF1aXY9ImNvbnRlbnQtdHlwZSIgY29udGVudD0idGV4dC9odG1sOyBjaGFyc2V0PVVURi04IiAvPgogICAgCiAgICAgICAgPHNjcmlwdD4KICAgICAgICAgICAgTF9OT19UT1VDSCA9IGZhbHNlOwogICAgICAgICAgICBMX0RJU0FCTEVfM0QgPSBmYWxzZTsKICAgICAgICA8L3NjcmlwdD4KICAgIAogICAgPHNjcmlwdCBzcmM9Imh0dHBzOi8vY2RuLmpzZGVsaXZyLm5ldC9ucG0vbGVhZmxldEAxLjQuMC9kaXN0L2xlYWZsZXQuanMiPjwvc2NyaXB0PgogICAgPHNjcmlwdCBzcmM9Imh0dHBzOi8vY29kZS5qcXVlcnkuY29tL2pxdWVyeS0xLjEyLjQubWluLmpzIj48L3NjcmlwdD4KICAgIDxzY3JpcHQgc3JjPSJodHRwczovL21heGNkbi5ib290c3RyYXBjZG4uY29tL2Jvb3RzdHJhcC8zLjIuMC9qcy9ib290c3RyYXAubWluLmpzIj48L3NjcmlwdD4KICAgIDxzY3JpcHQgc3JjPSJodHRwczovL2NkbmpzLmNsb3VkZmxhcmUuY29tL2FqYXgvbGlicy9MZWFmbGV0LmF3ZXNvbWUtbWFya2Vycy8yLjAuMi9sZWFmbGV0LmF3ZXNvbWUtbWFya2Vycy5qcyI+PC9zY3JpcHQ+CiAgICA8bGluayByZWw9InN0eWxlc2hlZXQiIGhyZWY9Imh0dHBzOi8vY2RuLmpzZGVsaXZyLm5ldC9ucG0vbGVhZmxldEAxLjQuMC9kaXN0L2xlYWZsZXQuY3NzIi8+CiAgICA8bGluayByZWw9InN0eWxlc2hlZXQiIGhyZWY9Imh0dHBzOi8vbWF4Y2RuLmJvb3RzdHJhcGNkbi5jb20vYm9vdHN0cmFwLzMuMi4wL2Nzcy9ib290c3RyYXAubWluLmNzcyIvPgogICAgPGxpbmsgcmVsPSJzdHlsZXNoZWV0IiBocmVmPSJodHRwczovL21heGNkbi5ib290c3RyYXBjZG4uY29tL2Jvb3RzdHJhcC8zLjIuMC9jc3MvYm9vdHN0cmFwLXRoZW1lLm1pbi5jc3MiLz4KICAgIDxsaW5rIHJlbD0ic3R5bGVzaGVldCIgaHJlZj0iaHR0cHM6Ly9tYXhjZG4uYm9vdHN0cmFwY2RuLmNvbS9mb250LWF3ZXNvbWUvNC42LjMvY3NzL2ZvbnQtYXdlc29tZS5taW4uY3NzIi8+CiAgICA8bGluayByZWw9InN0eWxlc2hlZXQiIGhyZWY9Imh0dHBzOi8vY2RuanMuY2xvdWRmbGFyZS5jb20vYWpheC9saWJzL0xlYWZsZXQuYXdlc29tZS1tYXJrZXJzLzIuMC4yL2xlYWZsZXQuYXdlc29tZS1tYXJrZXJzLmNzcyIvPgogICAgPGxpbmsgcmVsPSJzdHlsZXNoZWV0IiBocmVmPSJodHRwczovL3Jhd2Nkbi5naXRoYWNrLmNvbS9weXRob24tdmlzdWFsaXphdGlvbi9mb2xpdW0vbWFzdGVyL2ZvbGl1bS90ZW1wbGF0ZXMvbGVhZmxldC5hd2Vzb21lLnJvdGF0ZS5jc3MiLz4KICAgIDxzdHlsZT5odG1sLCBib2R5IHt3aWR0aDogMTAwJTtoZWlnaHQ6IDEwMCU7bWFyZ2luOiAwO3BhZGRpbmc6IDA7fTwvc3R5bGU+CiAgICA8c3R5bGU+I21hcCB7cG9zaXRpb246YWJzb2x1dGU7dG9wOjA7Ym90dG9tOjA7cmlnaHQ6MDtsZWZ0OjA7fTwvc3R5bGU+CiAgICAKICAgICAgICAgICAgPG1ldGEgbmFtZT0idmlld3BvcnQiIGNvbnRlbnQ9IndpZHRoPWRldmljZS13aWR0aCwKICAgICAgICAgICAgICAgIGluaXRpYWwtc2NhbGU9MS4wLCBtYXhpbXVtLXNjYWxlPTEuMCwgdXNlci1zY2FsYWJsZT1ubyIgLz4KICAgICAgICAgICAgPHN0eWxlPgogICAgICAgICAgICAgICAgI21hcF9jOTkxOWJjM2E4ZGI0MzhiYjRiOTczZThlM2MxNjVlMyB7CiAgICAgICAgICAgICAgICAgICAgcG9zaXRpb246IHJlbGF0aXZlOwogICAgICAgICAgICAgICAgICAgIHdpZHRoOiAxMDAuMCU7CiAgICAgICAgICAgICAgICAgICAgaGVpZ2h0OiAxMDAuMCU7CiAgICAgICAgICAgICAgICAgICAgbGVmdDogMC4wJTsKICAgICAgICAgICAgICAgICAgICB0b3A6IDAuMCU7CiAgICAgICAgICAgICAgICB9CiAgICAgICAgICAgIDwvc3R5bGU+CiAgICAgICAgCjwvaGVhZD4KPGJvZHk+ICAgIAogICAgCiAgICAgICAgICAgIDxkaXYgY2xhc3M9ImZvbGl1bS1tYXAiIGlkPSJtYXBfYzk5MTliYzNhOGRiNDM4YmI0Yjk3M2U4ZTNjMTY1ZTMiID48L2Rpdj4KICAgICAgICAKPC9ib2R5Pgo8c2NyaXB0PiAgICAKICAgIAogICAgICAgICAgICB2YXIgbWFwX2M5OTE5YmMzYThkYjQzOGJiNGI5NzNlOGUzYzE2NWUzID0gTC5tYXAoCiAgICAgICAgICAgICAgICAibWFwX2M5OTE5YmMzYThkYjQzOGJiNGI5NzNlOGUzYzE2NWUzIiwKICAgICAgICAgICAgICAgIHsKICAgICAgICAgICAgICAgICAgICBjZW50ZXI6IFszNi43MzMzLCAtMTAwLjc2NjddLAogICAgICAgICAgICAgICAgICAgIGNyczogTC5DUlMuRVBTRzM4NTcsCiAgICAgICAgICAgICAgICAgICAgem9vbTogNCwKICAgICAgICAgICAgICAgICAgICB6b29tQ29udHJvbDogdHJ1ZSwKICAgICAgICAgICAgICAgICAgICBwcmVmZXJDYW52YXM6IGZhbHNlLAogICAgICAgICAgICAgICAgfQogICAgICAgICAgICApOwoKICAgICAgICAgICAgCgogICAgICAgIAogICAgCiAgICAgICAgICAgIHZhciB0aWxlX2xheWVyXzc3MmM0Y2NkNjYyYjRkNzVhYjZlZTNkMjcwNTM2ZjRlID0gTC50aWxlTGF5ZXIoCiAgICAgICAgICAgICAgICAiaHR0cHM6Ly97c30udGlsZS5vcGVuc3RyZWV0bWFwLm9yZy97en0ve3h9L3t5fS5wbmciLAogICAgICAgICAgICAgICAgeyJhdHRyaWJ1dGlvbiI6ICJEYXRhIGJ5IFx1MDAyNmNvcHk7IFx1MDAzY2EgaHJlZj1cImh0dHA6Ly9vcGVuc3RyZWV0bWFwLm9yZ1wiXHUwMDNlT3BlblN0cmVldE1hcFx1MDAzYy9hXHUwMDNlLCB1bmRlciBcdTAwM2NhIGhyZWY9XCJodHRwOi8vd3d3Lm9wZW5zdHJlZXRtYXAub3JnL2NvcHlyaWdodFwiXHUwMDNlT0RiTFx1MDAzYy9hXHUwMDNlLiIsICJkZXRlY3RSZXRpbmEiOiBmYWxzZSwgIm1heE5hdGl2ZVpvb20iOiAxOCwgIm1heFpvb20iOiAxOCwgIm1pblpvb20iOiAwLCAibm9XcmFwIjogZmFsc2UsICJvcGFjaXR5IjogMSwgInN1YmRvbWFpbnMiOiAiYWJjIiwgInRtcyI6IGZhbHNlfQogICAgICAgICAgICApLmFkZFRvKG1hcF9jOTkxOWJjM2E4ZGI0MzhiYjRiOTczZThlM2MxNjVlMyk7CiAgICAgICAgCiAgICAKICAgICAgICAgICAgdmFyIGNpcmNsZV80MjdkMjJiODU0N2I0NTFjODkwMzhkMzlhZTRjZjQxOSA9IEwuY2lyY2xlKAogICAgICAgICAgICAgICAgWzM0LjE0MjUwNzgsIC0xMTguMjU1MDc1XSwKICAgICAgICAgICAgICAgIHsiYnViYmxpbmdNb3VzZUV2ZW50cyI6IHRydWUsICJjb2xvciI6ICJibHVlIiwgImRhc2hBcnJheSI6IG51bGwsICJkYXNoT2Zmc2V0IjogbnVsbCwgImZpbGwiOiB0cnVlLCAiZmlsbENvbG9yIjogInJlZCIsICJmaWxsT3BhY2l0eSI6IDAuMiwgImZpbGxSdWxlIjogImV2ZW5vZGQiLCAibGluZUNhcCI6ICJyb3VuZCIsICJsaW5lSm9pbiI6ICJyb3VuZCIsICJvcGFjaXR5IjogMS4wLCAicmFkaXVzIjogNTg0NC4wLCAic3Ryb2tlIjogdHJ1ZSwgIndlaWdodCI6IDN9CiAgICAgICAgICAgICkuYWRkVG8obWFwX2M5OTE5YmMzYThkYjQzOGJiNGI5NzNlOGUzYzE2NWUzKTsKICAgICAgICAKICAgIAogICAgICAgIHZhciBwb3B1cF84NGI1YzA0OGZmMGY0ZjM3ODg4ZTgyMGVlZmU5YjhkNSA9IEwucG9wdXAoeyJtYXhXaWR0aCI6ICIxMDAlIn0pOwoKICAgICAgICAKICAgICAgICAgICAgdmFyIGh0bWxfMmUwOTI3N2ExMDNkNDIxZGExOTE1NWU5ZDNkNTAwYTggPSAkKGA8ZGl2IGlkPSJodG1sXzJlMDkyNzdhMTAzZDQyMWRhMTkxNTVlOWQzZDUwMGE4IiBzdHlsZT0id2lkdGg6IDEwMC4wJTsgaGVpZ2h0OiAxMDAuMCU7Ij5HbGVuZGFsZTwvZGl2PmApWzBdOwogICAgICAgICAgICBwb3B1cF84NGI1YzA0OGZmMGY0ZjM3ODg4ZTgyMGVlZmU5YjhkNS5zZXRDb250ZW50KGh0bWxfMmUwOTI3N2ExMDNkNDIxZGExOTE1NWU5ZDNkNTAwYTgpOwogICAgICAgIAoKICAgICAgICBjaXJjbGVfNDI3ZDIyYjg1NDdiNDUxYzg5MDM4ZDM5YWU0Y2Y0MTkuYmluZFBvcHVwKHBvcHVwXzg0YjVjMDQ4ZmYwZjRmMzc4ODhlODIwZWVmZTliOGQ1KQogICAgICAgIDsKCiAgICAgICAgCiAgICAKICAgIAogICAgICAgICAgICB2YXIgY2lyY2xlXzViZDI0ZGUzNTk4NDQxMjViMzUwODMwMTE5MmUxZTIxID0gTC5jaXJjbGUoCiAgICAgICAgICAgICAgICBbMzcuNzc5ODcyMSwgLTEyMi4yODIxODU1XSwKICAgICAgICAgICAgICAgIHsiYnViYmxpbmdNb3VzZUV2ZW50cyI6IHRydWUsICJjb2xvciI6ICJibHVlIiwgImRhc2hBcnJheSI6IG51bGwsICJkYXNoT2Zmc2V0IjogbnVsbCwgImZpbGwiOiB0cnVlLCAiZmlsbENvbG9yIjogInJlZCIsICJmaWxsT3BhY2l0eSI6IDAuMiwgImZpbGxSdWxlIjogImV2ZW5vZGQiLCAibGluZUNhcCI6ICJyb3VuZCIsICJsaW5lSm9pbiI6ICJyb3VuZCIsICJvcGFjaXR5IjogMS4wLCAicmFkaXVzIjogMjUzMi4wLCAic3Ryb2tlIjogdHJ1ZSwgIndlaWdodCI6IDN9CiAgICAgICAgICAgICkuYWRkVG8obWFwX2M5OTE5YmMzYThkYjQzOGJiNGI5NzNlOGUzYzE2NWUzKTsKICAgICAgICAKICAgIAogICAgICAgIHZhciBwb3B1cF9hNDNjN2E5M2Q5N2Y0OTVmYTczMmY3Zjk5OTk0MGE4NCA9IEwucG9wdXAoeyJtYXhXaWR0aCI6ICIxMDAlIn0pOwoKICAgICAgICAKICAgICAgICAgICAgdmFyIGh0bWxfNmE2NDk4MjM2MzI0NGI1NDlkZTZkMGE0Zjg5YWE1ZDAgPSAkKGA8ZGl2IGlkPSJodG1sXzZhNjQ5ODIzNjMyNDRiNTQ5ZGU2ZDBhNGY4OWFhNWQwIiBzdHlsZT0id2lkdGg6IDEwMC4wJTsgaGVpZ2h0OiAxMDAuMCU7Ij5BbGFtZWRhPC9kaXY+YClbMF07CiAgICAgICAgICAgIHBvcHVwX2E0M2M3YTkzZDk3ZjQ5NWZhNzMyZjdmOTk5OTQwYTg0LnNldENvbnRlbnQoaHRtbF82YTY0OTgyMzYzMjQ0YjU0OWRlNmQwYTRmODlhYTVkMCk7CiAgICAgICAgCgogICAgICAgIGNpcmNsZV81YmQyNGRlMzU5ODQ0MTI1YjM1MDgzMDExOTJlMWUyMS5iaW5kUG9wdXAocG9wdXBfYTQzYzdhOTNkOTdmNDk1ZmE3MzJmN2Y5OTk5NDBhODQpCiAgICAgICAgOwoKICAgICAgICAKICAgIAogICAgCiAgICAgICAgICAgIHZhciBjaXJjbGVfZDI1MzlmZjE1ZjM3NDg4MGJiN2JhZTFmMDQ5Nzc1ZDAgPSBMLmNpcmNsZSgKICAgICAgICAgICAgICAgIFszNy44NzE1MjI2MDAwMDAwMDYsIC0xMjIuMjczMDQxOTk5OTk5OTldLAogICAgICAgICAgICAgICAgeyJidWJibGluZ01vdXNlRXZlbnRzIjogdHJ1ZSwgImNvbG9yIjogImJsdWUiLCAiZGFzaEFycmF5IjogbnVsbCwgImRhc2hPZmZzZXQiOiBudWxsLCAiZmlsbCI6IHRydWUsICJmaWxsQ29sb3IiOiAicmVkIiwgImZpbGxPcGFjaXR5IjogMC4yLCAiZmlsbFJ1bGUiOiAiZXZlbm9kZCIsICJsaW5lQ2FwIjogInJvdW5kIiwgImxpbmVKb2luIjogInJvdW5kIiwgIm9wYWNpdHkiOiAxLjAsICJyYWRpdXMiOiAxMDEyOC4wLCAic3Ryb2tlIjogdHJ1ZSwgIndlaWdodCI6IDN9CiAgICAgICAgICAgICkuYWRkVG8obWFwX2M5OTE5YmMzYThkYjQzOGJiNGI5NzNlOGUzYzE2NWUzKTsKICAgICAgICAKICAgIAogICAgICAgIHZhciBwb3B1cF8wMTUxMWEzYTg2ZDY0NzMyOWFkNWJlZGI4OTc2YjFlMSA9IEwucG9wdXAoeyJtYXhXaWR0aCI6ICIxMDAlIn0pOwoKICAgICAgICAKICAgICAgICAgICAgdmFyIGh0bWxfYWFhYzQ2YjY1MWE3NGFiMWI1M2M2YzUxODNhZDE4NGEgPSAkKGA8ZGl2IGlkPSJodG1sX2FhYWM0NmI2NTFhNzRhYjFiNTNjNmM1MTgzYWQxODRhIiBzdHlsZT0id2lkdGg6IDEwMC4wJTsgaGVpZ2h0OiAxMDAuMCU7Ij5CZXJrZWx5PC9kaXY+YClbMF07CiAgICAgICAgICAgIHBvcHVwXzAxNTExYTNhODZkNjQ3MzI5YWQ1YmVkYjg5NzZiMWUxLnNldENvbnRlbnQoaHRtbF9hYWFjNDZiNjUxYTc0YWIxYjUzYzZjNTE4M2FkMTg0YSk7CiAgICAgICAgCgogICAgICAgIGNpcmNsZV9kMjUzOWZmMTVmMzc0ODgwYmI3YmFlMWYwNDk3NzVkMC5iaW5kUG9wdXAocG9wdXBfMDE1MTFhM2E4NmQ2NDczMjlhZDViZWRiODk3NmIxZTEpCiAgICAgICAgOwoKICAgICAgICAKICAgIAogICAgCiAgICAgICAgICAgIHZhciBjaXJjbGVfM2ExZmY1Y2VlZTNmNDMyMjkwOTRlOGQwZjZhNGEyM2UgPSBMLmNpcmNsZSgKICAgICAgICAgICAgICAgIFszNC4xODA4MzkyMDAwMDAwMSwgLTExOC4zMDg5NjYwOTk5OTk5OF0sCiAgICAgICAgICAgICAgICB7ImJ1YmJsaW5nTW91c2VFdmVudHMiOiB0cnVlLCAiY29sb3IiOiAiYmx1ZSIsICJkYXNoQXJyYXkiOiBudWxsLCAiZGFzaE9mZnNldCI6IG51bGwsICJmaWxsIjogdHJ1ZSwgImZpbGxDb2xvciI6ICJyZWQiLCAiZmlsbE9wYWNpdHkiOiAwLjIsICJmaWxsUnVsZSI6ICJldmVub2RkIiwgImxpbmVDYXAiOiAicm91bmQiLCAibGluZUpvaW4iOiAicm91bmQiLCAib3BhY2l0eSI6IDEuMCwgInJhZGl1cyI6IDI3MzYuMCwgInN0cm9rZSI6IHRydWUsICJ3ZWlnaHQiOiAzfQogICAgICAgICAgICApLmFkZFRvKG1hcF9jOTkxOWJjM2E4ZGI0MzhiYjRiOTczZThlM2MxNjVlMyk7CiAgICAgICAgCiAgICAKICAgICAgICB2YXIgcG9wdXBfMmNiODA4NTRkNWY5NGQzOWE5ODcyNzQxMWM2NzQ5MTQgPSBMLnBvcHVwKHsibWF4V2lkdGgiOiAiMTAwJSJ9KTsKCiAgICAgICAgCiAgICAgICAgICAgIHZhciBodG1sX2EyYmY4ZTg3YzFlZDRiM2JiYjIxOTU5ZmMzN2UwNmU3ID0gJChgPGRpdiBpZD0iaHRtbF9hMmJmOGU4N2MxZWQ0YjNiYmIyMTk1OWZjMzdlMDZlNyIgc3R5bGU9IndpZHRoOiAxMDAuMCU7IGhlaWdodDogMTAwLjAlOyI+QnVyYmFuazwvZGl2PmApWzBdOwogICAgICAgICAgICBwb3B1cF8yY2I4MDg1NGQ1Zjk0ZDM5YTk4NzI3NDExYzY3NDkxNC5zZXRDb250ZW50KGh0bWxfYTJiZjhlODdjMWVkNGIzYmJiMjE5NTlmYzM3ZTA2ZTcpOwogICAgICAgIAoKICAgICAgICBjaXJjbGVfM2ExZmY1Y2VlZTNmNDMyMjkwOTRlOGQwZjZhNGEyM2UuYmluZFBvcHVwKHBvcHVwXzJjYjgwODU0ZDVmOTRkMzlhOTg3Mjc0MTFjNjc0OTE0KQogICAgICAgIDsKCiAgICAgICAgCiAgICAKICAgIAogICAgICAgICAgICB2YXIgY2lyY2xlXzRmMzE1ZDQyZDI3NTQ1MTE4ZGRhYzBiYmRiY2Q0OTdmID0gTC5jaXJjbGUoCiAgICAgICAgICAgICAgICBbMzYuNTQzMjgzNywgLTExOS4zODcwNjU2XSwKICAgICAgICAgICAgICAgIHsiYnViYmxpbmdNb3VzZUV2ZW50cyI6IHRydWUsICJjb2xvciI6ICJibHVlIiwgImRhc2hBcnJheSI6IG51bGwsICJkYXNoT2Zmc2V0IjogbnVsbCwgImZpbGwiOiB0cnVlLCAiZmlsbENvbG9yIjogInJlZCIsICJmaWxsT3BhY2l0eSI6IDAuMiwgImZpbGxSdWxlIjogImV2ZW5vZGQiLCAibGluZUNhcCI6ICJyb3VuZCIsICJsaW5lSm9pbiI6ICJyb3VuZCIsICJvcGFjaXR5IjogMS4wLCAicmFkaXVzIjogMjQxMi4wLCAic3Ryb2tlIjogdHJ1ZSwgIndlaWdodCI6IDN9CiAgICAgICAgICAgICkuYWRkVG8obWFwX2M5OTE5YmMzYThkYjQzOGJiNGI5NzNlOGUzYzE2NWUzKTsKICAgICAgICAKICAgIAogICAgICAgIHZhciBwb3B1cF85MzZlNDNjMTQyZDg0MmM3YTQxNDU3ZmUyZWM2YmJjNyA9IEwucG9wdXAoeyJtYXhXaWR0aCI6ICIxMDAlIn0pOwoKICAgICAgICAKICAgICAgICAgICAgdmFyIGh0bWxfZDQ1MDUwYjIyYzk5NDMyMGE1YzJmZDQ4ZGMyNWYxMTkgPSAkKGA8ZGl2IGlkPSJodG1sX2Q0NTA1MGIyMmM5OTQzMjBhNWMyZmQ0OGRjMjVmMTE5IiBzdHlsZT0id2lkdGg6IDEwMC4wJTsgaGVpZ2h0OiAxMDAuMCU7Ij5EaW51YmE8L2Rpdj5gKVswXTsKICAgICAgICAgICAgcG9wdXBfOTM2ZTQzYzE0MmQ4NDJjN2E0MTQ1N2ZlMmVjNmJiYzcuc2V0Q29udGVudChodG1sX2Q0NTA1MGIyMmM5OTQzMjBhNWMyZmQ0OGRjMjVmMTE5KTsKICAgICAgICAKCiAgICAgICAgY2lyY2xlXzRmMzE1ZDQyZDI3NTQ1MTE4ZGRhYzBiYmRiY2Q0OTdmLmJpbmRQb3B1cChwb3B1cF85MzZlNDNjMTQyZDg0MmM3YTQxNDU3ZmUyZWM2YmJjNykKICAgICAgICA7CgogICAgICAgIAogICAgCiAgICAKICAgICAgICAgICAgdmFyIGNpcmNsZV9jYmNmNGQxMjM2Yzc0MzIxOTdiNjUyMjI1ZWFiNzAxNSA9IEwuY2lyY2xlKAogICAgICAgICAgICAgICAgWzM4LjQ5NjAxODcsIC0xMjEuNDA4ODQxNl0sCiAgICAgICAgICAgICAgICB7ImJ1YmJsaW5nTW91c2VFdmVudHMiOiB0cnVlLCAiY29sb3IiOiAiYmx1ZSIsICJkYXNoQXJyYXkiOiBudWxsLCAiZGFzaE9mZnNldCI6IG51bGwsICJmaWxsIjogdHJ1ZSwgImZpbGxDb2xvciI6ICJyZWQiLCAiZmlsbE9wYWNpdHkiOiAwLjIsICJmaWxsUnVsZSI6ICJldmVub2RkIiwgImxpbmVDYXAiOiAicm91bmQiLCAibGluZUpvaW4iOiAicm91bmQiLCAib3BhY2l0eSI6IDEuMCwgInJhZGl1cyI6IDM1MjguMCwgInN0cm9rZSI6IHRydWUsICJ3ZWlnaHQiOiAzfQogICAgICAgICAgICApLmFkZFRvKG1hcF9jOTkxOWJjM2E4ZGI0MzhiYjRiOTczZThlM2MxNjVlMyk7CiAgICAgICAgCiAgICAKICAgICAgICB2YXIgcG9wdXBfMzI5NGNhMTdiMDMxNDQzYmEyZWM3NmRmODBmOGQzODMgPSBMLnBvcHVwKHsibWF4V2lkdGgiOiAiMTAwJSJ9KTsKCiAgICAgICAgCiAgICAgICAgICAgIHZhciBodG1sX2EyYWVhZDM0MjQ4OTQzZmE4Zjg3NzBjMjA2NjdlYmFlID0gJChgPGRpdiBpZD0iaHRtbF9hMmFlYWQzNDI0ODk0M2ZhOGY4NzcwYzIwNjY3ZWJhZSIgc3R5bGU9IndpZHRoOiAxMDAuMCU7IGhlaWdodDogMTAwLjAlOyI+RmxvcmluPC9kaXY+YClbMF07CiAgICAgICAgICAgIHBvcHVwXzMyOTRjYTE3YjAzMTQ0M2JhMmVjNzZkZjgwZjhkMzgzLnNldENvbnRlbnQoaHRtbF9hMmFlYWQzNDI0ODk0M2ZhOGY4NzcwYzIwNjY3ZWJhZSk7CiAgICAgICAgCgogICAgICAgIGNpcmNsZV9jYmNmNGQxMjM2Yzc0MzIxOTdiNjUyMjI1ZWFiNzAxNS5iaW5kUG9wdXAocG9wdXBfMzI5NGNhMTdiMDMxNDQzYmEyZWM3NmRmODBmOGQzODMpCiAgICAgICAgOwoKICAgICAgICAKICAgIAogICAgCiAgICAgICAgICAgIHZhciBjaXJjbGVfMTJiOGQ1MjM2YzI2NDQzZDg1MzNiZWZlOTk1ZGE0OGUgPSBMLmNpcmNsZSgKICAgICAgICAgICAgICAgIFszNi42MzA1MDU3OTk5OTk5OTUsIC0xMTkuNjc4NDY5N10sCiAgICAgICAgICAgICAgICB7ImJ1YmJsaW5nTW91c2VFdmVudHMiOiB0cnVlLCAiY29sb3IiOiAiYmx1ZSIsICJkYXNoQXJyYXkiOiBudWxsLCAiZGFzaE9mZnNldCI6IG51bGwsICJmaWxsIjogdHJ1ZSwgImZpbGxDb2xvciI6ICJyZWQiLCAiZmlsbE9wYWNpdHkiOiAwLjIsICJmaWxsUnVsZSI6ICJldmVub2RkIiwgImxpbmVDYXAiOiAicm91bmQiLCAibGluZUpvaW4iOiAicm91bmQiLCAib3BhY2l0eSI6IDEuMCwgInJhZGl1cyI6IDM5NDguMCwgInN0cm9rZSI6IHRydWUsICJ3ZWlnaHQiOiAzfQogICAgICAgICAgICApLmFkZFRvKG1hcF9jOTkxOWJjM2E4ZGI0MzhiYjRiOTczZThlM2MxNjVlMyk7CiAgICAgICAgCiAgICAKICAgICAgICB2YXIgcG9wdXBfYmFjYjg2MjdmODA4NDZiNjhjMTNmYWM4NzdkMjYxNjMgPSBMLnBvcHVwKHsibWF4V2lkdGgiOiAiMTAwJSJ9KTsKCiAgICAgICAgCiAgICAgICAgICAgIHZhciBodG1sXzQ0NDM3NmUzMzcxYzQ0MjA5YTdiMGUwOWU5Y2RhMjVlID0gJChgPGRpdiBpZD0iaHRtbF80NDQzNzZlMzM3MWM0NDIwOWE3YjBlMDllOWNkYTI1ZSIgc3R5bGU9IndpZHRoOiAxMDAuMCU7IGhlaWdodDogMTAwLjAlOyI+Rm93bGVyPC9kaXY+YClbMF07CiAgICAgICAgICAgIHBvcHVwX2JhY2I4NjI3ZjgwODQ2YjY4YzEzZmFjODc3ZDI2MTYzLnNldENvbnRlbnQoaHRtbF80NDQzNzZlMzM3MWM0NDIwOWE3YjBlMDllOWNkYTI1ZSk7CiAgICAgICAgCgogICAgICAgIGNpcmNsZV8xMmI4ZDUyMzZjMjY0NDNkODUzM2JlZmU5OTVkYTQ4ZS5iaW5kUG9wdXAocG9wdXBfYmFjYjg2MjdmODA4NDZiNjhjMTNmYWM4NzdkMjYxNjMpCiAgICAgICAgOwoKICAgICAgICAKICAgIAogICAgCiAgICAgICAgICAgIHZhciBjaXJjbGVfOTI0MTc2NjgzMjkxNGY5NDk2NTJlZDRkNTNiMWZjYmYgPSBMLmNpcmNsZSgKICAgICAgICAgICAgICAgIFszNi43Mzc3OTgxMDAwMDAwMDYsIC0xMTkuNzg3MTI0Njk5OTk5OTldLAogICAgICAgICAgICAgICAgeyJidWJibGluZ01vdXNlRXZlbnRzIjogdHJ1ZSwgImNvbG9yIjogImJsdWUiLCAiZGFzaEFycmF5IjogbnVsbCwgImRhc2hPZmZzZXQiOiBudWxsLCAiZmlsbCI6IHRydWUsICJmaWxsQ29sb3IiOiAicmVkIiwgImZpbGxPcGFjaXR5IjogMC4yLCAiZmlsbFJ1bGUiOiAiZXZlbm9kZCIsICJsaW5lQ2FwIjogInJvdW5kIiwgImxpbmVKb2luIjogInJvdW5kIiwgIm9wYWNpdHkiOiAxLjAsICJyYWRpdXMiOiAxODM4NC4wLCAic3Ryb2tlIjogdHJ1ZSwgIndlaWdodCI6IDN9CiAgICAgICAgICAgICkuYWRkVG8obWFwX2M5OTE5YmMzYThkYjQzOGJiNGI5NzNlOGUzYzE2NWUzKTsKICAgICAgICAKICAgIAogICAgICAgIHZhciBwb3B1cF9hOTlkZDYyZGUwYzU0NmFlYmY5OGJhYjU1ZDFmODkxOSA9IEwucG9wdXAoeyJtYXhXaWR0aCI6ICIxMDAlIn0pOwoKICAgICAgICAKICAgICAgICAgICAgdmFyIGh0bWxfNTlkM2Y5MjIwZDdhNDA3YWI1MGRhNmQ3NmI2ZjQ5YTcgPSAkKGA8ZGl2IGlkPSJodG1sXzU5ZDNmOTIyMGQ3YTQwN2FiNTBkYTZkNzZiNmY0OWE3IiBzdHlsZT0id2lkdGg6IDEwMC4wJTsgaGVpZ2h0OiAxMDAuMCU7Ij5GcmVzbm88L2Rpdj5gKVswXTsKICAgICAgICAgICAgcG9wdXBfYTk5ZGQ2MmRlMGM1NDZhZWJmOThiYWI1NWQxZjg5MTkuc2V0Q29udGVudChodG1sXzU5ZDNmOTIyMGQ3YTQwN2FiNTBkYTZkNzZiNmY0OWE3KTsKICAgICAgICAKCiAgICAgICAgY2lyY2xlXzkyNDE3NjY4MzI5MTRmOTQ5NjUyZWQ0ZDUzYjFmY2JmLmJpbmRQb3B1cChwb3B1cF9hOTlkZDYyZGUwYzU0NmFlYmY5OGJhYjU1ZDFmODkxOSkKICAgICAgICA7CgogICAgICAgIAogICAgCiAgICAKICAgICAgICAgICAgdmFyIGNpcmNsZV82MWY1MTdkNDNmNDM0YWY5ODY0NTdiZmVlNzEwMzk0ZCA9IEwuY2lyY2xlKAogICAgICAgICAgICAgICAgWzMzLjg4ODM0ODcsIC0xMTguMzA4OTYyNDAwMDAwMDFdLAogICAgICAgICAgICAgICAgeyJidWJibGluZ01vdXNlRXZlbnRzIjogdHJ1ZSwgImNvbG9yIjogImJsdWUiLCAiZGFzaEFycmF5IjogbnVsbCwgImRhc2hPZmZzZXQiOiBudWxsLCAiZmlsbCI6IHRydWUsICJmaWxsQ29sb3IiOiAicmVkIiwgImZpbGxPcGFjaXR5IjogMC4yLCAiZmlsbFJ1bGUiOiAiZXZlbm9kZCIsICJsaW5lQ2FwIjogInJvdW5kIiwgImxpbmVKb2luIjogInJvdW5kIiwgIm9wYWNpdHkiOiAxLjAsICJyYWRpdXMiOiA0NDE2LjAsICJzdHJva2UiOiB0cnVlLCAid2VpZ2h0IjogM30KICAgICAgICAgICAgKS5hZGRUbyhtYXBfYzk5MTliYzNhOGRiNDM4YmI0Yjk3M2U4ZTNjMTY1ZTMpOwogICAgICAgIAogICAgCiAgICAgICAgdmFyIHBvcHVwX2E5OTA2Zjc5Mjk5ZjQzMjZhZjZlNGUxZTg4NDVjYzkwID0gTC5wb3B1cCh7Im1heFdpZHRoIjogIjEwMCUifSk7CgogICAgICAgIAogICAgICAgICAgICB2YXIgaHRtbF81ODVhZDRhNWQzZWE0ZjkwOGNjM2U5YjhlZjI5MTQ2OSA9ICQoYDxkaXYgaWQ9Imh0bWxfNTg1YWQ0YTVkM2VhNGY5MDhjYzNlOWI4ZWYyOTE0NjkiIHN0eWxlPSJ3aWR0aDogMTAwLjAlOyBoZWlnaHQ6IDEwMC4wJTsiPkdhcmRlbmE8L2Rpdj5gKVswXTsKICAgICAgICAgICAgcG9wdXBfYTk5MDZmNzkyOTlmNDMyNmFmNmU0ZTFlODg0NWNjOTAuc2V0Q29udGVudChodG1sXzU4NWFkNGE1ZDNlYTRmOTA4Y2MzZTliOGVmMjkxNDY5KTsKICAgICAgICAKCiAgICAgICAgY2lyY2xlXzYxZjUxN2Q0M2Y0MzRhZjk4NjQ1N2JmZWU3MTAzOTRkLmJpbmRQb3B1cChwb3B1cF9hOTkwNmY3OTI5OWY0MzI2YWY2ZTRlMWU4ODQ1Y2M5MCkKICAgICAgICA7CgogICAgICAgIAogICAgCiAgICAKICAgICAgICAgICAgdmFyIGNpcmNsZV9iZjYwMzMwYzEwYTc0NGVjYWYxYzcwYzliMDI0MDhjMyA9IEwuY2lyY2xlKAogICAgICAgICAgICAgICAgWzE5LjQ4NDg1NjM5OTk5OTk5OCwgLTk5LjExNzg2MjRdLAogICAgICAgICAgICAgICAgeyJidWJibGluZ01vdXNlRXZlbnRzIjogdHJ1ZSwgImNvbG9yIjogImJsdWUiLCAiZGFzaEFycmF5IjogbnVsbCwgImRhc2hPZmZzZXQiOiBudWxsLCAiZmlsbCI6IHRydWUsICJmaWxsQ29sb3IiOiAicmVkIiwgImZpbGxPcGFjaXR5IjogMC4yLCAiZmlsbFJ1bGUiOiAiZXZlbm9kZCIsICJsaW5lQ2FwIjogInJvdW5kIiwgImxpbmVKb2luIjogInJvdW5kIiwgIm9wYWNpdHkiOiAxLjAsICJyYWRpdXMiOiAzNDMyLjAsICJzdHJva2UiOiB0cnVlLCAid2VpZ2h0IjogM30KICAgICAgICAgICAgKS5hZGRUbyhtYXBfYzk5MTliYzNhOGRiNDM4YmI0Yjk3M2U4ZTNjMTY1ZTMpOwogICAgICAgIAogICAgCiAgICAgICAgdmFyIHBvcHVwXzk5ZWQyNTUzYjYyMjRjZjE5NTk4ZjcxZWNhMDE2NWY3ID0gTC5wb3B1cCh7Im1heFdpZHRoIjogIjEwMCUifSk7CgogICAgICAgIAogICAgICAgICAgICB2YXIgaHRtbF8yOGExZDYzODEzYmE0ZDRiODdkNTYwOTg0ODEyYzE5OSA9ICQoYDxkaXYgaWQ9Imh0bWxfMjhhMWQ2MzgxM2JhNGQ0Yjg3ZDU2MDk4NDgxMmMxOTkiIHN0eWxlPSJ3aWR0aDogMTAwLjAlOyBoZWlnaHQ6IDEwMC4wJTsiPkd1YWRhbHVwZTwvZGl2PmApWzBdOwogICAgICAgICAgICBwb3B1cF85OWVkMjU1M2I2MjI0Y2YxOTU5OGY3MWVjYTAxNjVmNy5zZXRDb250ZW50KGh0bWxfMjhhMWQ2MzgxM2JhNGQ0Yjg3ZDU2MDk4NDgxMmMxOTkpOwogICAgICAgIAoKICAgICAgICBjaXJjbGVfYmY2MDMzMGMxMGE3NDRlY2FmMWM3MGM5YjAyNDA4YzMuYmluZFBvcHVwKHBvcHVwXzk5ZWQyNTUzYjYyMjRjZjE5NTk4ZjcxZWNhMDE2NWY3KQogICAgICAgIDsKCiAgICAgICAgCiAgICAKICAgIAogICAgICAgICAgICB2YXIgY2lyY2xlX2RhNjk3MDE5ZWIzNzRmYzdiMGFkOTc4ZGRkZDhjYzc2ID0gTC5jaXJjbGUoCiAgICAgICAgICAgICAgICBbMzguMTM0MTQ3NywgLTEyMS4yNzIyMTk0MDAwMDAwMV0sCiAgICAgICAgICAgICAgICB7ImJ1YmJsaW5nTW91c2VFdmVudHMiOiB0cnVlLCAiY29sb3IiOiAiYmx1ZSIsICJkYXNoQXJyYXkiOiBudWxsLCAiZGFzaE9mZnNldCI6IG51bGwsICJmaWxsIjogdHJ1ZSwgImZpbGxDb2xvciI6ICJyZWQiLCAiZmlsbE9wYWNpdHkiOiAwLjIsICJmaWxsUnVsZSI6ICJldmVub2RkIiwgImxpbmVDYXAiOiAicm91bmQiLCAibGluZUpvaW4iOiAicm91bmQiLCAib3BhY2l0eSI6IDEuMCwgInJhZGl1cyI6IDkzNDguMCwgInN0cm9rZSI6IHRydWUsICJ3ZWlnaHQiOiAzfQogICAgICAgICAgICApLmFkZFRvKG1hcF9jOTkxOWJjM2E4ZGI0MzhiYjRiOTczZThlM2MxNjVlMyk7CiAgICAgICAgCiAgICAKICAgICAgICB2YXIgcG9wdXBfZDA0YmRmMTFmOGY5NGY3NmFhNDAwY2ZhZWFjNGU4NjEgPSBMLnBvcHVwKHsibWF4V2lkdGgiOiAiMTAwJSJ9KTsKCiAgICAgICAgCiAgICAgICAgICAgIHZhciBodG1sXzI3NzI0YmIzYTg1ZjQzMzU4NTIwYWNhYzljYjJjMjc4ID0gJChgPGRpdiBpZD0iaHRtbF8yNzcyNGJiM2E4NWY0MzM1ODUyMGFjYWM5Y2IyYzI3OCIgc3R5bGU9IndpZHRoOiAxMDAuMCU7IGhlaWdodDogMTAwLjAlOyI+TG9kaTwvZGl2PmApWzBdOwogICAgICAgICAgICBwb3B1cF9kMDRiZGYxMWY4Zjk0Zjc2YWE0MDBjZmFlYWM0ZTg2MS5zZXRDb250ZW50KGh0bWxfMjc3MjRiYjNhODVmNDMzNTg1MjBhY2FjOWNiMmMyNzgpOwogICAgICAgIAoKICAgICAgICBjaXJjbGVfZGE2OTcwMTllYjM3NGZjN2IwYWQ5NzhkZGRkOGNjNzYuYmluZFBvcHVwKHBvcHVwX2QwNGJkZjExZjhmOTRmNzZhYTQwMGNmYWVhYzRlODYxKQogICAgICAgIDsKCiAgICAgICAgCiAgICAKICAgIAogICAgICAgICAgICB2YXIgY2lyY2xlX2U0NmRlZTlhYzE1YTQxZDZiMGRmNjNhMTEwYmI3YzkyID0gTC5jaXJjbGUoCiAgICAgICAgICAgICAgICBbMzMuNzkyMjM5MjAwMDAwMDA0LCAtMTE4LjMxNTA3MjJdLAogICAgICAgICAgICAgICAgeyJidWJibGluZ01vdXNlRXZlbnRzIjogdHJ1ZSwgImNvbG9yIjogImJsdWUiLCAiZGFzaEFycmF5IjogbnVsbCwgImRhc2hPZmZzZXQiOiBudWxsLCAiZmlsbCI6IHRydWUsICJmaWxsQ29sb3IiOiAicmVkIiwgImZpbGxPcGFjaXR5IjogMC4yLCAiZmlsbFJ1bGUiOiAiZXZlbm9kZCIsICJsaW5lQ2FwIjogInJvdW5kIiwgImxpbmVKb2luIjogInJvdW5kIiwgIm9wYWNpdHkiOiAxLjAsICJyYWRpdXMiOiAyNjE2LjAsICJzdHJva2UiOiB0cnVlLCAid2VpZ2h0IjogM30KICAgICAgICAgICAgKS5hZGRUbyhtYXBfYzk5MTliYzNhOGRiNDM4YmI0Yjk3M2U4ZTNjMTY1ZTMpOwogICAgICAgIAogICAgCiAgICAgICAgdmFyIHBvcHVwX2Y1MzA1YjZjY2FhZjQzNWU4NTQ5MmMxNWYxMjNhMzQ3ID0gTC5wb3B1cCh7Im1heFdpZHRoIjogIjEwMCUifSk7CgogICAgICAgIAogICAgICAgICAgICB2YXIgaHRtbF82YTc2MjIzYmZmOGE0OTUyODE0ZDExYTdiMTAzZDUzZiA9ICQoYDxkaXYgaWQ9Imh0bWxfNmE3NjIyM2JmZjhhNDk1MjgxNGQxMWE3YjEwM2Q1M2YiIHN0eWxlPSJ3aWR0aDogMTAwLjAlOyBoZWlnaHQ6IDEwMC4wJTsiPkxvbWl0YTwvZGl2PmApWzBdOwogICAgICAgICAgICBwb3B1cF9mNTMwNWI2Y2NhYWY0MzVlODU0OTJjMTVmMTIzYTM0Ny5zZXRDb250ZW50KGh0bWxfNmE3NjIyM2JmZjhhNDk1MjgxNGQxMWE3YjEwM2Q1M2YpOwogICAgICAgIAoKICAgICAgICBjaXJjbGVfZTQ2ZGVlOWFjMTVhNDFkNmIwZGY2M2ExMTBiYjdjOTIuYmluZFBvcHVwKHBvcHVwX2Y1MzA1YjZjY2FhZjQzNWU4NTQ5MmMxNWYxMjNhMzQ3KQogICAgICAgIDsKCiAgICAgICAgCiAgICAKICAgIAogICAgICAgICAgICB2YXIgY2lyY2xlXzU4M2NkYTk1ZjIzNjQwYzk5MDJiOGIwOWQ1MTNhYTk3ID0gTC5jaXJjbGUoCiAgICAgICAgICAgICAgICBbMzMuNzcwMDUwMzk5OTk5OTk1LCAtMTE4LjE5MzczOTVdLAogICAgICAgICAgICAgICAgeyJidWJibGluZ01vdXNlRXZlbnRzIjogdHJ1ZSwgImNvbG9yIjogImJsdWUiLCAiZGFzaEFycmF5IjogbnVsbCwgImRhc2hPZmZzZXQiOiBudWxsLCAiZmlsbCI6IHRydWUsICJmaWxsQ29sb3IiOiAicmVkIiwgImZpbGxPcGFjaXR5IjogMC4yLCAiZmlsbFJ1bGUiOiAiZXZlbm9kZCIsICJsaW5lQ2FwIjogInJvdW5kIiwgImxpbmVKb2luIjogInJvdW5kIiwgIm9wYWNpdHkiOiAxLjAsICJyYWRpdXMiOiAxMjE2OC4wLCAic3Ryb2tlIjogdHJ1ZSwgIndlaWdodCI6IDN9CiAgICAgICAgICAgICkuYWRkVG8obWFwX2M5OTE5YmMzYThkYjQzOGJiNGI5NzNlOGUzYzE2NWUzKTsKICAgICAgICAKICAgIAogICAgICAgIHZhciBwb3B1cF81NWZlN2VmNzZiM2I0OWUzOTk5NGNkNTNlYzdhNzU5OCA9IEwucG9wdXAoeyJtYXhXaWR0aCI6ICIxMDAlIn0pOwoKICAgICAgICAKICAgICAgICAgICAgdmFyIGh0bWxfMGY1NTJiZTY4NWYxNGI2OWI3OWIwMGZkYmI0NDcwMjAgPSAkKGA8ZGl2IGlkPSJodG1sXzBmNTUyYmU2ODVmMTRiNjliNzliMDBmZGJiNDQ3MDIwIiBzdHlsZT0id2lkdGg6IDEwMC4wJTsgaGVpZ2h0OiAxMDAuMCU7Ij5Mb25nIEJlYWNoPC9kaXY+YClbMF07CiAgICAgICAgICAgIHBvcHVwXzU1ZmU3ZWY3NmIzYjQ5ZTM5OTk0Y2Q1M2VjN2E3NTk4LnNldENvbnRlbnQoaHRtbF8wZjU1MmJlNjg1ZjE0YjY5Yjc5YjAwZmRiYjQ0NzAyMCk7CiAgICAgICAgCgogICAgICAgIGNpcmNsZV81ODNjZGE5NWYyMzY0MGM5OTAyYjhiMDlkNTEzYWE5Ny5iaW5kUG9wdXAocG9wdXBfNTVmZTdlZjc2YjNiNDllMzk5OTRjZDUzZWM3YTc1OTgpCiAgICAgICAgOwoKICAgICAgICAKICAgIAogICAgCiAgICAgICAgICAgIHZhciBjaXJjbGVfMTU0MTBkZGUzMzBmNGI4NmJlNDMxMzYxZmFiNmE0NDkgPSBMLmNpcmNsZSgKICAgICAgICAgICAgICAgIFszNy42OTIzMjI5OTk5OTk5OTUsIC05Ny4zMjU2NDU5OTk5OTk5OV0sCiAgICAgICAgICAgICAgICB7ImJ1YmJsaW5nTW91c2VFdmVudHMiOiB0cnVlLCAiY29sb3IiOiAiYmx1ZSIsICJkYXNoQXJyYXkiOiBudWxsLCAiZGFzaE9mZnNldCI6IG51bGwsICJmaWxsIjogdHJ1ZSwgImZpbGxDb2xvciI6ICJyZWQiLCAiZmlsbE9wYWNpdHkiOiAwLjIsICJmaWxsUnVsZSI6ICJldmVub2RkIiwgImxpbmVDYXAiOiAicm91bmQiLCAibGluZUpvaW4iOiAicm91bmQiLCAib3BhY2l0eSI6IDEuMCwgInJhZGl1cyI6IDI1MzIuMCwgInN0cm9rZSI6IHRydWUsICJ3ZWlnaHQiOiAzfQogICAgICAgICAgICApLmFkZFRvKG1hcF9jOTkxOWJjM2E4ZGI0MzhiYjRiOTczZThlM2MxNjVlMyk7CiAgICAgICAgCiAgICAKICAgICAgICB2YXIgcG9wdXBfYjRjYWIzMWQ4MjUwNGQzY2I4NzM3MzFiMDg3YjRiZDIgPSBMLnBvcHVwKHsibWF4V2lkdGgiOiAiMTAwJSJ9KTsKCiAgICAgICAgCiAgICAgICAgICAgIHZhciBodG1sXzZkYzEyYWViOTkxNzQxNjJiNGExZjhlZWUzMTBkYjE1ID0gJChgPGRpdiBpZD0iaHRtbF82ZGMxMmFlYjk5MTc0MTYyYjRhMWY4ZWVlMzEwZGIxNSIgc3R5bGU9IndpZHRoOiAxMDAuMCU7IGhlaWdodDogMTAwLjAlOyI+TG9vbWlzPC9kaXY+YClbMF07CiAgICAgICAgICAgIHBvcHVwX2I0Y2FiMzFkODI1MDRkM2NiODczNzMxYjA4N2I0YmQyLnNldENvbnRlbnQoaHRtbF82ZGMxMmFlYjk5MTc0MTYyYjRhMWY4ZWVlMzEwZGIxNSk7CiAgICAgICAgCgogICAgICAgIGNpcmNsZV8xNTQxMGRkZTMzMGY0Yjg2YmU0MzEzNjFmYWI2YTQ0OS5iaW5kUG9wdXAocG9wdXBfYjRjYWIzMWQ4MjUwNGQzY2I4NzM3MzFiMDg3YjRiZDIpCiAgICAgICAgOwoKICAgICAgICAKICAgIAogICAgCiAgICAgICAgICAgIHZhciBjaXJjbGVfYjU1NDcyZDY2YjllNGNiOGJjODYyM2IzMmFlYzMyZjMgPSBMLmNpcmNsZSgKICAgICAgICAgICAgICAgIFszNC4wNTIyMzQyLCAtMTE4LjI0MzY4NDkwMDAwMDAyXSwKICAgICAgICAgICAgICAgIHsiYnViYmxpbmdNb3VzZUV2ZW50cyI6IHRydWUsICJjb2xvciI6ICJibHVlIiwgImRhc2hBcnJheSI6IG51bGwsICJkYXNoT2Zmc2V0IjogbnVsbCwgImZpbGwiOiB0cnVlLCAiZmlsbENvbG9yIjogInJlZCIsICJmaWxsT3BhY2l0eSI6IDAuMiwgImZpbGxSdWxlIjogImV2ZW5vZGQiLCAibGluZUNhcCI6ICJyb3VuZCIsICJsaW5lSm9pbiI6ICJyb3VuZCIsICJvcGFjaXR5IjogMS4wLCAicmFkaXVzIjogMTIxNTQ4LjAsICJzdHJva2UiOiB0cnVlLCAid2VpZ2h0IjogM30KICAgICAgICAgICAgKS5hZGRUbyhtYXBfYzk5MTliYzNhOGRiNDM4YmI0Yjk3M2U4ZTNjMTY1ZTMpOwogICAgICAgIAogICAgCiAgICAgICAgdmFyIHBvcHVwX2ZkMmFlMjZiZjIxOTRlNjVhNTYzOWUwOWUzYzc4OWUwID0gTC5wb3B1cCh7Im1heFdpZHRoIjogIjEwMCUifSk7CgogICAgICAgIAogICAgICAgICAgICB2YXIgaHRtbF82NzI4OWEzNDFhOWE0NDE0YmU1NWZhOTczYzY5MWU2OCA9ICQoYDxkaXYgaWQ9Imh0bWxfNjcyODlhMzQxYTlhNDQxNGJlNTVmYTk3M2M2OTFlNjgiIHN0eWxlPSJ3aWR0aDogMTAwLjAlOyBoZWlnaHQ6IDEwMC4wJTsiPkxvcyBBbmdlbGVzPC9kaXY+YClbMF07CiAgICAgICAgICAgIHBvcHVwX2ZkMmFlMjZiZjIxOTRlNjVhNTYzOWUwOWUzYzc4OWUwLnNldENvbnRlbnQoaHRtbF82NzI4OWEzNDFhOWE0NDE0YmU1NWZhOTczYzY5MWU2OCk7CiAgICAgICAgCgogICAgICAgIGNpcmNsZV9iNTU0NzJkNjZiOWU0Y2I4YmM4NjIzYjMyYWVjMzJmMy5iaW5kUG9wdXAocG9wdXBfZmQyYWUyNmJmMjE5NGU2NWE1NjM5ZTA5ZTNjNzg5ZTApCiAgICAgICAgOwoKICAgICAgICAKICAgIAogICAgCiAgICAgICAgICAgIHZhciBjaXJjbGVfYzMxOGM2OTEzZTgwNDc4ZWFmNGEzZWQzZGYwMDQwNDEgPSBMLmNpcmNsZSgKICAgICAgICAgICAgICAgIFszNi42MDAyMzc3OTk5OTk5OTUsIC0xMjEuODk0Njc2MV0sCiAgICAgICAgICAgICAgICB7ImJ1YmJsaW5nTW91c2VFdmVudHMiOiB0cnVlLCAiY29sb3IiOiAiYmx1ZSIsICJkYXNoQXJyYXkiOiBudWxsLCAiZGFzaE9mZnNldCI6IG51bGwsICJmaWxsIjogdHJ1ZSwgImZpbGxDb2xvciI6ICJyZWQiLCAiZmlsbE9wYWNpdHkiOiAwLjIsICJmaWxsUnVsZSI6ICJldmVub2RkIiwgImxpbmVDYXAiOiAicm91bmQiLCAibGluZUpvaW4iOiAicm91bmQiLCAib3BhY2l0eSI6IDEuMCwgInJhZGl1cyI6IDM3NTYuMCwgInN0cm9rZSI6IHRydWUsICJ3ZWlnaHQiOiAzfQogICAgICAgICAgICApLmFkZFRvKG1hcF9jOTkxOWJjM2E4ZGI0MzhiYjRiOTczZThlM2MxNjVlMyk7CiAgICAgICAgCiAgICAKICAgICAgICB2YXIgcG9wdXBfMGQzZDBhYzM3YTI2NDZkZTk3OTM5OGY4YWY5Y2I3MmEgPSBMLnBvcHVwKHsibWF4V2lkdGgiOiAiMTAwJSJ9KTsKCiAgICAgICAgCiAgICAgICAgICAgIHZhciBodG1sX2E4YjJlMDk1NDVmYzQ4M2Q4YWZjNjY5MmFmNTdlODU1ID0gJChgPGRpdiBpZD0iaHRtbF9hOGIyZTA5NTQ1ZmM0ODNkOGFmYzY2OTJhZjU3ZTg1NSIgc3R5bGU9IndpZHRoOiAxMDAuMCU7IGhlaWdodDogMTAwLjAlOyI+TW9udGVyZXk8L2Rpdj5gKVswXTsKICAgICAgICAgICAgcG9wdXBfMGQzZDBhYzM3YTI2NDZkZTk3OTM5OGY4YWY5Y2I3MmEuc2V0Q29udGVudChodG1sX2E4YjJlMDk1NDVmYzQ4M2Q4YWZjNjY5MmFmNTdlODU1KTsKICAgICAgICAKCiAgICAgICAgY2lyY2xlX2MzMThjNjkxM2U4MDQ3OGVhZjRhM2VkM2RmMDA0MDQxLmJpbmRQb3B1cChwb3B1cF8wZDNkMGFjMzdhMjY0NmRlOTc5Mzk4ZjhhZjljYjcyYSkKICAgICAgICA7CgogICAgICAgIAogICAgCiAgICAKICAgICAgICAgICAgdmFyIGNpcmNsZV82OTNmYzk4NTU3YjQ0OTcxYjMyYjdiZGU5ZjQ4NDM4NiA9IEwuY2lyY2xlKAogICAgICAgICAgICAgICAgWzM3LjM4NjA1MTcsIC0xMjIuMDgzODUxMDk5OTk5OTldLAogICAgICAgICAgICAgICAgeyJidWJibGluZ01vdXNlRXZlbnRzIjogdHJ1ZSwgImNvbG9yIjogImJsdWUiLCAiZGFzaEFycmF5IjogbnVsbCwgImRhc2hPZmZzZXQiOiBudWxsLCAiZmlsbCI6IHRydWUsICJmaWxsQ29sb3IiOiAicmVkIiwgImZpbGxPcGFjaXR5IjogMC4yLCAiZmlsbFJ1bGUiOiAiZXZlbm9kZCIsICJsaW5lQ2FwIjogInJvdW5kIiwgImxpbmVKb2luIjogInJvdW5kIiwgIm9wYWNpdHkiOiAxLjAsICJyYWRpdXMiOiAzNDkyLjAsICJzdHJva2UiOiB0cnVlLCAid2VpZ2h0IjogM30KICAgICAgICAgICAgKS5hZGRUbyhtYXBfYzk5MTliYzNhOGRiNDM4YmI0Yjk3M2U4ZTNjMTY1ZTMpOwogICAgICAgIAogICAgCiAgICAgICAgdmFyIHBvcHVwXzVlOGY5NGI5YTU3MzQwYWVhYTA2NTE4OGM0NTgyZjZiID0gTC5wb3B1cCh7Im1heFdpZHRoIjogIjEwMCUifSk7CgogICAgICAgIAogICAgICAgICAgICB2YXIgaHRtbF85MzUzZTcwYTc3OWI0ODgzOTE2NDNhZjBjM2ZmMDY2MCA9ICQoYDxkaXYgaWQ9Imh0bWxfOTM1M2U3MGE3NzliNDg4MzkxNjQzYWYwYzNmZjA2NjAiIHN0eWxlPSJ3aWR0aDogMTAwLjAlOyBoZWlnaHQ6IDEwMC4wJTsiPk1vdW50YWluIFZpZXc8L2Rpdj5gKVswXTsKICAgICAgICAgICAgcG9wdXBfNWU4Zjk0YjlhNTczNDBhZWFhMDY1MTg4YzQ1ODJmNmIuc2V0Q29udGVudChodG1sXzkzNTNlNzBhNzc5YjQ4ODM5MTY0M2FmMGMzZmYwNjYwKTsKICAgICAgICAKCiAgICAgICAgY2lyY2xlXzY5M2ZjOTg1NTdiNDQ5NzFiMzJiN2JkZTlmNDg0Mzg2LmJpbmRQb3B1cChwb3B1cF81ZThmOTRiOWE1NzM0MGFlYWEwNjUxODhjNDU4MmY2YikKICAgICAgICA7CgogICAgICAgIAogICAgCiAgICAKICAgICAgICAgICAgdmFyIGNpcmNsZV8yYWMwMDcwNDhhNWQ0ODJlYTcwOWYwMzZmNTkwMTRhYiA9IEwuY2lyY2xlKAogICAgICAgICAgICAgICAgWzU0Ljk3ODI1MjAwMDAwMDAwNSwgLTEuNjE3NzhdLAogICAgICAgICAgICAgICAgeyJidWJibGluZ01vdXNlRXZlbnRzIjogdHJ1ZSwgImNvbG9yIjogImJsdWUiLCAiZGFzaEFycmF5IjogbnVsbCwgImRhc2hPZmZzZXQiOiBudWxsLCAiZmlsbCI6IHRydWUsICJmaWxsQ29sb3IiOiAicmVkIiwgImZpbGxPcGFjaXR5IjogMC4yLCAiZmlsbFJ1bGUiOiAiZXZlbm9kZCIsICJsaW5lQ2FwIjogInJvdW5kIiwgImxpbmVKb2luIjogInJvdW5kIiwgIm9wYWNpdHkiOiAxLjAsICJyYWRpdXMiOiAyNzEyLjAsICJzdHJva2UiOiB0cnVlLCAid2VpZ2h0IjogM30KICAgICAgICAgICAgKS5hZGRUbyhtYXBfYzk5MTliYzNhOGRiNDM4YmI0Yjk3M2U4ZTNjMTY1ZTMpOwogICAgICAgIAogICAgCiAgICAgICAgdmFyIHBvcHVwX2E0YmRlNjhlYTJjZDQ2OWE5MjIxMDM3MDY1MGJkZmI1ID0gTC5wb3B1cCh7Im1heFdpZHRoIjogIjEwMCUifSk7CgogICAgICAgIAogICAgICAgICAgICB2YXIgaHRtbF8zMTczOTVmNDBjM2M0N2FiOWUxNmY2Yjg0YmE3MmE4NyA9ICQoYDxkaXYgaWQ9Imh0bWxfMzE3Mzk1ZjQwYzNjNDdhYjllMTZmNmI4NGJhNzJhODciIHN0eWxlPSJ3aWR0aDogMTAwLjAlOyBoZWlnaHQ6IDEwMC4wJTsiPk5ld2Nhc3RsZTwvZGl2PmApWzBdOwogICAgICAgICAgICBwb3B1cF9hNGJkZTY4ZWEyY2Q0NjlhOTIyMTAzNzA2NTBiZGZiNS5zZXRDb250ZW50KGh0bWxfMzE3Mzk1ZjQwYzNjNDdhYjllMTZmNmI4NGJhNzJhODcpOwogICAgICAgIAoKICAgICAgICBjaXJjbGVfMmFjMDA3MDQ4YTVkNDgyZWE3MDlmMDM2ZjU5MDE0YWIuYmluZFBvcHVwKHBvcHVwX2E0YmRlNjhlYTJjZDQ2OWE5MjIxMDM3MDY1MGJkZmI1KQogICAgICAgIDsKCiAgICAgICAgCiAgICAKICAgIAogICAgICAgICAgICB2YXIgY2lyY2xlX2JjOTRiZjhiNmY5MzQxODJhMDlkZjkzN2M2YmM4NjM0ID0gTC5jaXJjbGUoCiAgICAgICAgICAgICAgICBbMzcuODA0MzUxMzk5OTk5OTk0LCAtMTIyLjI3MTE2Mzg5OTk5OTk5XSwKICAgICAgICAgICAgICAgIHsiYnViYmxpbmdNb3VzZUV2ZW50cyI6IHRydWUsICJjb2xvciI6ICJibHVlIiwgImRhc2hBcnJheSI6IG51bGwsICJkYXNoT2Zmc2V0IjogbnVsbCwgImZpbGwiOiB0cnVlLCAiZmlsbENvbG9yIjogInJlZCIsICJmaWxsT3BhY2l0eSI6IDAuMiwgImZpbGxSdWxlIjogImV2ZW5vZGQiLCAibGluZUNhcCI6ICJyb3VuZCIsICJsaW5lSm9pbiI6ICJyb3VuZCIsICJvcGFjaXR5IjogMS4wLCAicmFkaXVzIjogOTMyNC4wLCAic3Ryb2tlIjogdHJ1ZSwgIndlaWdodCI6IDN9CiAgICAgICAgICAgICkuYWRkVG8obWFwX2M5OTE5YmMzYThkYjQzOGJiNGI5NzNlOGUzYzE2NWUzKTsKICAgICAgICAKICAgIAogICAgICAgIHZhciBwb3B1cF82ZDJjMDg1NTNlMjE0NjUxODhjYzg0MTEyNjY5MTU1MCA9IEwucG9wdXAoeyJtYXhXaWR0aCI6ICIxMDAlIn0pOwoKICAgICAgICAKICAgICAgICAgICAgdmFyIGh0bWxfMTE4ODAwNTBlNWUyNDNmZmFhY2JjZjAwZTA2NDJkODYgPSAkKGA8ZGl2IGlkPSJodG1sXzExODgwMDUwZTVlMjQzZmZhYWNiY2YwMGUwNjQyZDg2IiBzdHlsZT0id2lkdGg6IDEwMC4wJTsgaGVpZ2h0OiAxMDAuMCU7Ij5PYWtsYW5kPC9kaXY+YClbMF07CiAgICAgICAgICAgIHBvcHVwXzZkMmMwODU1M2UyMTQ2NTE4OGNjODQxMTI2NjkxNTUwLnNldENvbnRlbnQoaHRtbF8xMTg4MDA1MGU1ZTI0M2ZmYWFjYmNmMDBlMDY0MmQ4Nik7CiAgICAgICAgCgogICAgICAgIGNpcmNsZV9iYzk0YmY4YjZmOTM0MTgyYTA5ZGY5MzdjNmJjODYzNC5iaW5kUG9wdXAocG9wdXBfNmQyYzA4NTUzZTIxNDY1MTg4Y2M4NDExMjY2OTE1NTApCiAgICAgICAgOwoKICAgICAgICAKICAgIAogICAgCiAgICAgICAgICAgIHZhciBjaXJjbGVfMDk5YzM5OGNjYmIwNDUxNzk3NjdhZTkxZDA0ZTU3YzcgPSBMLmNpcmNsZSgKICAgICAgICAgICAgICAgIFszNy40NDE4ODMzOTk5OTk5OTUsIC0xMjIuMTQzMDE5NTAwMDAwMDFdLAogICAgICAgICAgICAgICAgeyJidWJibGluZ01vdXNlRXZlbnRzIjogdHJ1ZSwgImNvbG9yIjogImJsdWUiLCAiZGFzaEFycmF5IjogbnVsbCwgImRhc2hPZmZzZXQiOiBudWxsLCAiZmlsbCI6IHRydWUsICJmaWxsQ29sb3IiOiAicmVkIiwgImZpbGxPcGFjaXR5IjogMC4yLCAiZmlsbFJ1bGUiOiAiZXZlbm9kZCIsICJsaW5lQ2FwIjogInJvdW5kIiwgImxpbmVKb2luIjogInJvdW5kIiwgIm9wYWNpdHkiOiAxLjAsICJyYWRpdXMiOiAyOTQwLjAsICJzdHJva2UiOiB0cnVlLCAid2VpZ2h0IjogM30KICAgICAgICAgICAgKS5hZGRUbyhtYXBfYzk5MTliYzNhOGRiNDM4YmI0Yjk3M2U4ZTNjMTY1ZTMpOwogICAgICAgIAogICAgCiAgICAgICAgdmFyIHBvcHVwX2ExNzA1NWI1MThiODRhZGU4NWUzNmM5ZTYwYjNmZTliID0gTC5wb3B1cCh7Im1heFdpZHRoIjogIjEwMCUifSk7CgogICAgICAgIAogICAgICAgICAgICB2YXIgaHRtbF8xMDUyNThlMjNjZjM0ZDMyOTQyNzUwNDY4NjkxNjlhYSA9ICQoYDxkaXYgaWQ9Imh0bWxfMTA1MjU4ZTIzY2YzNGQzMjk0Mjc1MDQ2ODY5MTY5YWEiIHN0eWxlPSJ3aWR0aDogMTAwLjAlOyBoZWlnaHQ6IDEwMC4wJTsiPlBhbG8gQWx0bzwvZGl2PmApWzBdOwogICAgICAgICAgICBwb3B1cF9hMTcwNTViNTE4Yjg0YWRlODVlMzZjOWU2MGIzZmU5Yi5zZXRDb250ZW50KGh0bWxfMTA1MjU4ZTIzY2YzNGQzMjk0Mjc1MDQ2ODY5MTY5YWEpOwogICAgICAgIAoKICAgICAgICBjaXJjbGVfMDk5YzM5OGNjYmIwNDUxNzk3NjdhZTkxZDA0ZTU3YzcuYmluZFBvcHVwKHBvcHVwX2ExNzA1NWI1MThiODRhZGU4NWUzNmM5ZTYwYjNmZTliKQogICAgICAgIDsKCiAgICAgICAgCiAgICAKICAgIAogICAgICAgICAgICB2YXIgY2lyY2xlXzg1MzgyYzA5ZGNjNTRlNDM5OWNhMjExNjYwY2M3Y2I4ID0gTC5jaXJjbGUoCiAgICAgICAgICAgICAgICBbMzYuNjExNjE3NCwgLTExOS41MjcwNzM0MDAwMDAwMl0sCiAgICAgICAgICAgICAgICB7ImJ1YmJsaW5nTW91c2VFdmVudHMiOiB0cnVlLCAiY29sb3IiOiAiYmx1ZSIsICJkYXNoQXJyYXkiOiBudWxsLCAiZGFzaE9mZnNldCI6IG51bGwsICJmaWxsIjogdHJ1ZSwgImZpbGxDb2xvciI6ICJyZWQiLCAiZmlsbE9wYWNpdHkiOiAwLjIsICJmaWxsUnVsZSI6ICJldmVub2RkIiwgImxpbmVDYXAiOiAicm91bmQiLCAibGluZUpvaW4iOiAicm91bmQiLCAib3BhY2l0eSI6IDEuMCwgInJhZGl1cyI6IDQ2OTIuMCwgInN0cm9rZSI6IHRydWUsICJ3ZWlnaHQiOiAzfQogICAgICAgICAgICApLmFkZFRvKG1hcF9jOTkxOWJjM2E4ZGI0MzhiYjRiOTczZThlM2MxNjVlMyk7CiAgICAgICAgCiAgICAKICAgICAgICB2YXIgcG9wdXBfNGM1ZDhkZTgyZTMwNDI3NDg5ZjZhMjRkYmI5M2JiMGUgPSBMLnBvcHVwKHsibWF4V2lkdGgiOiAiMTAwJSJ9KTsKCiAgICAgICAgCiAgICAgICAgICAgIHZhciBodG1sX2ZkYjEzMzA3ODk3MzRlZGI4YmY0MDI3OTg4MjdjMWFjID0gJChgPGRpdiBpZD0iaHRtbF9mZGIxMzMwNzg5NzM0ZWRiOGJmNDAyNzk4ODI3YzFhYyIgc3R5bGU9IndpZHRoOiAxMDAuMCU7IGhlaWdodDogMTAwLjAlOyI+UGFybGllcjwvZGl2PmApWzBdOwogICAgICAgICAgICBwb3B1cF80YzVkOGRlODJlMzA0Mjc0ODlmNmEyNGRiYjkzYmIwZS5zZXRDb250ZW50KGh0bWxfZmRiMTMzMDc4OTczNGVkYjhiZjQwMjc5ODgyN2MxYWMpOwogICAgICAgIAoKICAgICAgICBjaXJjbGVfODUzODJjMDlkY2M1NGU0Mzk5Y2EyMTE2NjBjYzdjYjguYmluZFBvcHVwKHBvcHVwXzRjNWQ4ZGU4MmUzMDQyNzQ4OWY2YTI0ZGJiOTNiYjBlKQogICAgICAgIDsKCiAgICAgICAgCiAgICAKICAgIAogICAgICAgICAgICB2YXIgY2lyY2xlXzUwZjczYjk3OTU3MjQ3Mjk5YzAxZjk5YzUyOWE0YmNkID0gTC5jaXJjbGUoCiAgICAgICAgICAgICAgICBbMzQuMTQ3Nzg0OSwgLTExOC4xNDQ1MTU1XSwKICAgICAgICAgICAgICAgIHsiYnViYmxpbmdNb3VzZUV2ZW50cyI6IHRydWUsICJjb2xvciI6ICJibHVlIiwgImRhc2hBcnJheSI6IG51bGwsICJkYXNoT2Zmc2V0IjogbnVsbCwgImZpbGwiOiB0cnVlLCAiZmlsbENvbG9yIjogInJlZCIsICJmaWxsT3BhY2l0eSI6IDAuMiwgImZpbGxSdWxlIjogImV2ZW5vZGQiLCAibGluZUNhcCI6ICJyb3VuZCIsICJsaW5lSm9pbiI6ICJyb3VuZCIsICJvcGFjaXR5IjogMS4wLCAicmFkaXVzIjogNzA2OC4wLCAic3Ryb2tlIjogdHJ1ZSwgIndlaWdodCI6IDN9CiAgICAgICAgICAgICkuYWRkVG8obWFwX2M5OTE5YmMzYThkYjQzOGJiNGI5NzNlOGUzYzE2NWUzKTsKICAgICAgICAKICAgIAogICAgICAgIHZhciBwb3B1cF82OTdjODVlNTA1YWU0Y2I5Yjc1MDkwMTE3ZTA2YjQwMCA9IEwucG9wdXAoeyJtYXhXaWR0aCI6ICIxMDAlIn0pOwoKICAgICAgICAKICAgICAgICAgICAgdmFyIGh0bWxfNWYyZjRjYjcyZDQ1NDRkMzg0OTljYWQ4OGFmZmZlMWEgPSAkKGA8ZGl2IGlkPSJodG1sXzVmMmY0Y2I3MmQ0NTQ0ZDM4NDk5Y2FkODhhZmZmZTFhIiBzdHlsZT0id2lkdGg6IDEwMC4wJTsgaGVpZ2h0OiAxMDAuMCU7Ij5QYXNhZGVuYTwvZGl2PmApWzBdOwogICAgICAgICAgICBwb3B1cF82OTdjODVlNTA1YWU0Y2I5Yjc1MDkwMTE3ZTA2YjQwMC5zZXRDb250ZW50KGh0bWxfNWYyZjRjYjcyZDQ1NDRkMzg0OTljYWQ4OGFmZmZlMWEpOwogICAgICAgIAoKICAgICAgICBjaXJjbGVfNTBmNzNiOTc5NTcyNDcyOTljMDFmOTljNTI5YTRiY2QuYmluZFBvcHVwKHBvcHVwXzY5N2M4NWU1MDVhZTRjYjliNzUwOTAxMTdlMDZiNDAwKQogICAgICAgIDsKCiAgICAgICAgCiAgICAKICAgIAogICAgICAgICAgICB2YXIgY2lyY2xlXzBmYTYwYTQ2ZGZlMDQ5YWFhNGMwYTQ1ZGUyZjRlMmQ2ID0gTC5jaXJjbGUoCiAgICAgICAgICAgICAgICBbMzguODUxOTc5NCwgLTEyMS4xNjkyODY4XSwKICAgICAgICAgICAgICAgIHsiYnViYmxpbmdNb3VzZUV2ZW50cyI6IHRydWUsICJjb2xvciI6ICJibHVlIiwgImRhc2hBcnJheSI6IG51bGwsICJkYXNoT2Zmc2V0IjogbnVsbCwgImZpbGwiOiB0cnVlLCAiZmlsbENvbG9yIjogInJlZCIsICJmaWxsT3BhY2l0eSI6IDAuMiwgImZpbGxSdWxlIjogImV2ZW5vZGQiLCAibGluZUNhcCI6ICJyb3VuZCIsICJsaW5lSm9pbiI6ICJyb3VuZCIsICJvcGFjaXR5IjogMS4wLCAicmFkaXVzIjogNTA4OC4wLCAic3Ryb2tlIjogdHJ1ZSwgIndlaWdodCI6IDN9CiAgICAgICAgICAgICkuYWRkVG8obWFwX2M5OTE5YmMzYThkYjQzOGJiNGI5NzNlOGUzYzE2NWUzKTsKICAgICAgICAKICAgIAogICAgICAgIHZhciBwb3B1cF9hYzIyNjg0MjhjNDA0MTQ4ODhlN2M0MmY4ZDEwNzY4MiA9IEwucG9wdXAoeyJtYXhXaWR0aCI6ICIxMDAlIn0pOwoKICAgICAgICAKICAgICAgICAgICAgdmFyIGh0bWxfYWZkMjQ3MDFkY2YyNGM4OWE4ZDk1ZTI1Njk2NTMwNDkgPSAkKGA8ZGl2IGlkPSJodG1sX2FmZDI0NzAxZGNmMjRjODlhOGQ5NWUyNTY5NjUzMDQ5IiBzdHlsZT0id2lkdGg6IDEwMC4wJTsgaGVpZ2h0OiAxMDAuMCU7Ij5QZW5yeW48L2Rpdj5gKVswXTsKICAgICAgICAgICAgcG9wdXBfYWMyMjY4NDI4YzQwNDE0ODg4ZTdjNDJmOGQxMDc2ODIuc2V0Q29udGVudChodG1sX2FmZDI0NzAxZGNmMjRjODlhOGQ5NWUyNTY5NjUzMDQ5KTsKICAgICAgICAKCiAgICAgICAgY2lyY2xlXzBmYTYwYTQ2ZGZlMDQ5YWFhNGMwYTQ1ZGUyZjRlMmQ2LmJpbmRQb3B1cChwb3B1cF9hYzIyNjg0MjhjNDA0MTQ4ODhlN2M0MmY4ZDEwNzY4MikKICAgICAgICA7CgogICAgICAgIAogICAgCiAgICAKICAgICAgICAgICAgdmFyIGNpcmNsZV9jMGJmMjU2MjMwMmQ0NzZiOWVlZTQ3ZjI0NGJhMzIwYyA9IEwuY2lyY2xlKAogICAgICAgICAgICAgICAgWzM2LjU5NjMzOTUsIC0xMTkuNDUwNDAyOTAwMDAwMDFdLAogICAgICAgICAgICAgICAgeyJidWJibGluZ01vdXNlRXZlbnRzIjogdHJ1ZSwgImNvbG9yIjogImJsdWUiLCAiZGFzaEFycmF5IjogbnVsbCwgImRhc2hPZmZzZXQiOiBudWxsLCAiZmlsbCI6IHRydWUsICJmaWxsQ29sb3IiOiAicmVkIiwgImZpbGxPcGFjaXR5IjogMC4yLCAiZmlsbFJ1bGUiOiAiZXZlbm9kZCIsICJsaW5lQ2FwIjogInJvdW5kIiwgImxpbmVKb2luIjogInJvdW5kIiwgIm9wYWNpdHkiOiAxLjAsICJyYWRpdXMiOiA1MzE2LjAsICJzdHJva2UiOiB0cnVlLCAid2VpZ2h0IjogM30KICAgICAgICAgICAgKS5hZGRUbyhtYXBfYzk5MTliYzNhOGRiNDM4YmI0Yjk3M2U4ZTNjMTY1ZTMpOwogICAgICAgIAogICAgCiAgICAgICAgdmFyIHBvcHVwXzdjY2ZiNDAzM2Y5ZDRjMjU4ZWZlNDQ0N2RiYTIwZTM0ID0gTC5wb3B1cCh7Im1heFdpZHRoIjogIjEwMCUifSk7CgogICAgICAgIAogICAgICAgICAgICB2YXIgaHRtbF8xNTQ1NWMxOGI5MGE0NWQ0OWJjOTdhNDY1Nzg3M2FhNSA9ICQoYDxkaXYgaWQ9Imh0bWxfMTU0NTVjMThiOTBhNDVkNDliYzk3YTQ2NTc4NzNhYTUiIHN0eWxlPSJ3aWR0aDogMTAwLjAlOyBoZWlnaHQ6IDEwMC4wJTsiPlJlZWRsZXk8L2Rpdj5gKVswXTsKICAgICAgICAgICAgcG9wdXBfN2NjZmI0MDMzZjlkNGMyNThlZmU0NDQ3ZGJhMjBlMzQuc2V0Q29udGVudChodG1sXzE1NDU1YzE4YjkwYTQ1ZDQ5YmM5N2E0NjU3ODczYWE1KTsKICAgICAgICAKCiAgICAgICAgY2lyY2xlX2MwYmYyNTYyMzAyZDQ3NmI5ZWVlNDdmMjQ0YmEzMjBjLmJpbmRQb3B1cChwb3B1cF83Y2NmYjQwMzNmOWQ0YzI1OGVmZTQ0NDdkYmEyMGUzNCkKICAgICAgICA7CgogICAgICAgIAogICAgCiAgICAKICAgICAgICAgICAgdmFyIGNpcmNsZV8wZGM2ZjhlZjAxZDA0Mzg1YmRkMzFlMWMxYmM3NjdiYSA9IEwuY2lyY2xlKAogICAgICAgICAgICAgICAgWzM3LjU0MDcyNDYwMDAwMDAwNCwgLTc3LjQzNjA0ODFdLAogICAgICAgICAgICAgICAgeyJidWJibGluZ01vdXNlRXZlbnRzIjogdHJ1ZSwgImNvbG9yIjogImJsdWUiLCAiZGFzaEFycmF5IjogbnVsbCwgImRhc2hPZmZzZXQiOiBudWxsLCAiZmlsbCI6IHRydWUsICJmaWxsQ29sb3IiOiAicmVkIiwgImZpbGxPcGFjaXR5IjogMC4yLCAiZmlsbFJ1bGUiOiAiZXZlbm9kZCIsICJsaW5lQ2FwIjogInJvdW5kIiwgImxpbmVKb2luIjogInJvdW5kIiwgIm9wYWNpdHkiOiAxLjAsICJyYWRpdXMiOiAzMTMyLjAsICJzdHJva2UiOiB0cnVlLCAid2VpZ2h0IjogM30KICAgICAgICAgICAgKS5hZGRUbyhtYXBfYzk5MTliYzNhOGRiNDM4YmI0Yjk3M2U4ZTNjMTY1ZTMpOwogICAgICAgIAogICAgCiAgICAgICAgdmFyIHBvcHVwXzZkZDU1NDE5NzEzMDQwMWViNzBhZWE1YjcxYzdiYzE3ID0gTC5wb3B1cCh7Im1heFdpZHRoIjogIjEwMCUifSk7CgogICAgICAgIAogICAgICAgICAgICB2YXIgaHRtbF81MDlmNTRhZjcwNWM0YTFkOWEyMTE5N2JhOTNhZmVkNSA9ICQoYDxkaXYgaWQ9Imh0bWxfNTA5ZjU0YWY3MDVjNGExZDlhMjExOTdiYTkzYWZlZDUiIHN0eWxlPSJ3aWR0aDogMTAwLjAlOyBoZWlnaHQ6IDEwMC4wJTsiPlJpY2htb25kPC9kaXY+YClbMF07CiAgICAgICAgICAgIHBvcHVwXzZkZDU1NDE5NzEzMDQwMWViNzBhZWE1YjcxYzdiYzE3LnNldENvbnRlbnQoaHRtbF81MDlmNTRhZjcwNWM0YTFkOWEyMTE5N2JhOTNhZmVkNSk7CiAgICAgICAgCgogICAgICAgIGNpcmNsZV8wZGM2ZjhlZjAxZDA0Mzg1YmRkMzFlMWMxYmM3NjdiYS5iaW5kUG9wdXAocG9wdXBfNmRkNTU0MTk3MTMwNDAxZWI3MGFlYTViNzFjN2JjMTcpCiAgICAgICAgOwoKICAgICAgICAKICAgIAogICAgCiAgICAgICAgICAgIHZhciBjaXJjbGVfYjVmOGZjNjBkODYzNDg5NmJlZTYwY2EyMzJhNTMzZTQgPSBMLmNpcmNsZSgKICAgICAgICAgICAgICAgIFszOC41ODE1NzE5LCAtMTIxLjQ5NDM5OTYwMDAwMDAxXSwKICAgICAgICAgICAgICAgIHsiYnViYmxpbmdNb3VzZUV2ZW50cyI6IHRydWUsICJjb2xvciI6ICJibHVlIiwgImRhc2hBcnJheSI6IG51bGwsICJkYXNoT2Zmc2V0IjogbnVsbCwgImZpbGwiOiB0cnVlLCAiZmlsbENvbG9yIjogInJlZCIsICJmaWxsT3BhY2l0eSI6IDAuMiwgImZpbGxSdWxlIjogImV2ZW5vZGQiLCAibGluZUNhcCI6ICJyb3VuZCIsICJsaW5lSm9pbiI6ICJyb3VuZCIsICJvcGFjaXR5IjogMS4wLCAicmFkaXVzIjogMzMyMjguMCwgInN0cm9rZSI6IHRydWUsICJ3ZWlnaHQiOiAzfQogICAgICAgICAgICApLmFkZFRvKG1hcF9jOTkxOWJjM2E4ZGI0MzhiYjRiOTczZThlM2MxNjVlMyk7CiAgICAgICAgCiAgICAKICAgICAgICB2YXIgcG9wdXBfZTQ1N2VlY2MyZmFlNDVkZWE2ZjcwZWI0NDgxYjJkODMgPSBMLnBvcHVwKHsibWF4V2lkdGgiOiAiMTAwJSJ9KTsKCiAgICAgICAgCiAgICAgICAgICAgIHZhciBodG1sXzc0YjljNjE3MzgwODQzYzE5Y2MwODZmYjkwMDAwNzYwID0gJChgPGRpdiBpZD0iaHRtbF83NGI5YzYxNzM4MDg0M2MxOWNjMDg2ZmI5MDAwMDc2MCIgc3R5bGU9IndpZHRoOiAxMDAuMCU7IGhlaWdodDogMTAwLjAlOyI+U2FjcmFtZW50bzwvZGl2PmApWzBdOwogICAgICAgICAgICBwb3B1cF9lNDU3ZWVjYzJmYWU0NWRlYTZmNzBlYjQ0ODFiMmQ4My5zZXRDb250ZW50KGh0bWxfNzRiOWM2MTczODA4NDNjMTljYzA4NmZiOTAwMDA3NjApOwogICAgICAgIAoKICAgICAgICBjaXJjbGVfYjVmOGZjNjBkODYzNDg5NmJlZTYwY2EyMzJhNTMzZTQuYmluZFBvcHVwKHBvcHVwX2U0NTdlZWNjMmZhZTQ1ZGVhNmY3MGViNDQ4MWIyZDgzKQogICAgICAgIDsKCiAgICAgICAgCiAgICAKICAgIAogICAgICAgICAgICB2YXIgY2lyY2xlXzQ5OGE2YTVjZWZkODRhZjRiM2ZiYzNmNzRlOGVhOTY1ID0gTC5jaXJjbGUoCiAgICAgICAgICAgICAgICBbMzIuNzE1NzM4LCAtMTE3LjE2MTA4MzhdLAogICAgICAgICAgICAgICAgeyJidWJibGluZ01vdXNlRXZlbnRzIjogdHJ1ZSwgImNvbG9yIjogImJsdWUiLCAiZGFzaEFycmF5IjogbnVsbCwgImRhc2hPZmZzZXQiOiBudWxsLCAiZmlsbCI6IHRydWUsICJmaWxsQ29sb3IiOiAicmVkIiwgImZpbGxPcGFjaXR5IjogMC4yLCAiZmlsbFJ1bGUiOiAiZXZlbm9kZCIsICJsaW5lQ2FwIjogInJvdW5kIiwgImxpbmVKb2luIjogInJvdW5kIiwgIm9wYWNpdHkiOiAxLjAsICJyYWRpdXMiOiA2MDEyLjAsICJzdHJva2UiOiB0cnVlLCAid2VpZ2h0IjogM30KICAgICAgICAgICAgKS5hZGRUbyhtYXBfYzk5MTliYzNhOGRiNDM4YmI0Yjk3M2U4ZTNjMTY1ZTMpOwogICAgICAgIAogICAgCiAgICAgICAgdmFyIHBvcHVwXzI2MjUxMWNkNjFlMDQ5NzM4ZDZlMjJmZjVmODc1MDlhID0gTC5wb3B1cCh7Im1heFdpZHRoIjogIjEwMCUifSk7CgogICAgICAgIAogICAgICAgICAgICB2YXIgaHRtbF85OTNhMjkzZDA4ZGU0YzMzYmU4MTk0NTBkMzAwYTAyZSA9ICQoYDxkaXYgaWQ9Imh0bWxfOTkzYTI5M2QwOGRlNGMzM2JlODE5NDUwZDMwMGEwMmUiIHN0eWxlPSJ3aWR0aDogMTAwLjAlOyBoZWlnaHQ6IDEwMC4wJTsiPlNhbiBEaWVnbzwvZGl2PmApWzBdOwogICAgICAgICAgICBwb3B1cF8yNjI1MTFjZDYxZTA0OTczOGQ2ZTIyZmY1Zjg3NTA5YS5zZXRDb250ZW50KGh0bWxfOTkzYTI5M2QwOGRlNGMzM2JlODE5NDUwZDMwMGEwMmUpOwogICAgICAgIAoKICAgICAgICBjaXJjbGVfNDk4YTZhNWNlZmQ4NGFmNGIzZmJjM2Y3NGU4ZWE5NjUuYmluZFBvcHVwKHBvcHVwXzI2MjUxMWNkNjFlMDQ5NzM4ZDZlMjJmZjVmODc1MDlhKQogICAgICAgIDsKCiAgICAgICAgCiAgICAKICAgIAogICAgICAgICAgICB2YXIgY2lyY2xlXzEwODAwNGI4MDgwYTRlNDNiOGQzMzU3OWUxZjQwMmI3ID0gTC5jaXJjbGUoCiAgICAgICAgICAgICAgICBbMzcuNzc0OTI5NSwgLTEyMi40MTk0MTU1XSwKICAgICAgICAgICAgICAgIHsiYnViYmxpbmdNb3VzZUV2ZW50cyI6IHRydWUsICJjb2xvciI6ICJibHVlIiwgImRhc2hBcnJheSI6IG51bGwsICJkYXNoT2Zmc2V0IjogbnVsbCwgImZpbGwiOiB0cnVlLCAiZmlsbENvbG9yIjogInJlZCIsICJmaWxsT3BhY2l0eSI6IDAuMiwgImZpbGxSdWxlIjogImV2ZW5vZGQiLCAibGluZUNhcCI6ICJyb3VuZCIsICJsaW5lSm9pbiI6ICJyb3VuZCIsICJvcGFjaXR5IjogMS4wLCAicmFkaXVzIjogMzQxNDAuMCwgInN0cm9rZSI6IHRydWUsICJ3ZWlnaHQiOiAzfQogICAgICAgICAgICApLmFkZFRvKG1hcF9jOTkxOWJjM2E4ZGI0MzhiYjRiOTczZThlM2MxNjVlMyk7CiAgICAgICAgCiAgICAKICAgICAgICB2YXIgcG9wdXBfM2UyMDRkZTE4ZWY0NGIwZTkzMmI4NTk2NGI2Mzk0M2QgPSBMLnBvcHVwKHsibWF4V2lkdGgiOiAiMTAwJSJ9KTsKCiAgICAgICAgCiAgICAgICAgICAgIHZhciBodG1sX2IwZGQ1Y2JiYWY0ZTRhYzlhMjA4N2I5MTU1YTc4ZTc1ID0gJChgPGRpdiBpZD0iaHRtbF9iMGRkNWNiYmFmNGU0YWM5YTIwODdiOTE1NWE3OGU3NSIgc3R5bGU9IndpZHRoOiAxMDAuMCU7IGhlaWdodDogMTAwLjAlOyI+U2FuIEZyYW5jaXNjbzwvZGl2PmApWzBdOwogICAgICAgICAgICBwb3B1cF8zZTIwNGRlMThlZjQ0YjBlOTMyYjg1OTY0YjYzOTQzZC5zZXRDb250ZW50KGh0bWxfYjBkZDVjYmJhZjRlNGFjOWEyMDg3YjkxNTVhNzhlNzUpOwogICAgICAgIAoKICAgICAgICBjaXJjbGVfMTA4MDA0YjgwODBhNGU0M2I4ZDMzNTc5ZTFmNDAyYjcuYmluZFBvcHVwKHBvcHVwXzNlMjA0ZGUxOGVmNDRiMGU5MzJiODU5NjRiNjM5NDNkKQogICAgICAgIDsKCiAgICAgICAgCiAgICAKICAgIAogICAgICAgICAgICB2YXIgY2lyY2xlXzljZjA3ODBhYTI2YzQ4NDVhYTFiOGEzMGYyNmNhZDA3ID0gTC5jaXJjbGUoCiAgICAgICAgICAgICAgICBbMzMuMzYzMTcwNSwgLTk3LjE3MzkwMjddLAogICAgICAgICAgICAgICAgeyJidWJibGluZ01vdXNlRXZlbnRzIjogdHJ1ZSwgImNvbG9yIjogImJsdWUiLCAiZGFzaEFycmF5IjogbnVsbCwgImRhc2hPZmZzZXQiOiBudWxsLCAiZmlsbCI6IHRydWUsICJmaWxsQ29sb3IiOiAicmVkIiwgImZpbGxPcGFjaXR5IjogMC4yLCAiZmlsbFJ1bGUiOiAiZXZlbm9kZCIsICJsaW5lQ2FwIjogInJvdW5kIiwgImxpbmVKb2luIjogInJvdW5kIiwgIm9wYWNpdHkiOiAxLjAsICJyYWRpdXMiOiA0MjI0LjAsICJzdHJva2UiOiB0cnVlLCAid2VpZ2h0IjogM30KICAgICAgICAgICAgKS5hZGRUbyhtYXBfYzk5MTliYzNhOGRiNDM4YmI0Yjk3M2U4ZTNjMTY1ZTMpOwogICAgICAgIAogICAgCiAgICAgICAgdmFyIHBvcHVwX2IxYzJkNDNlMGJlYzQxNmRiZWFhMjMwOTUyNGY5ZDk1ID0gTC5wb3B1cCh7Im1heFdpZHRoIjogIjEwMCUifSk7CgogICAgICAgIAogICAgICAgICAgICB2YXIgaHRtbF9iYmRlODZjZTM1ZjE0MTJkOTY2NGQyOTViMGZlZTU1NiA9ICQoYDxkaXYgaWQ9Imh0bWxfYmJkZTg2Y2UzNWYxNDEyZDk2NjRkMjk1YjBmZWU1NTYiIHN0eWxlPSJ3aWR0aDogMTAwLjAlOyBoZWlnaHQ6IDEwMC4wJTsiPlNhbmdlcjwvZGl2PmApWzBdOwogICAgICAgICAgICBwb3B1cF9iMWMyZDQzZTBiZWM0MTZkYmVhYTIzMDk1MjRmOWQ5NS5zZXRDb250ZW50KGh0bWxfYmJkZTg2Y2UzNWYxNDEyZDk2NjRkMjk1YjBmZWU1NTYpOwogICAgICAgIAoKICAgICAgICBjaXJjbGVfOWNmMDc4MGFhMjZjNDg0NWFhMWI4YTMwZjI2Y2FkMDcuYmluZFBvcHVwKHBvcHVwX2IxYzJkNDNlMGJlYzQxNmRiZWFhMjMwOTUyNGY5ZDk1KQogICAgICAgIDsKCiAgICAgICAgCiAgICAKICAgIAogICAgICAgICAgICB2YXIgY2lyY2xlXzlhNmJlN2VkYzIxMzQzMDhhZjJiNDI1ZDFhMzFkZWIyID0gTC5jaXJjbGUoCiAgICAgICAgICAgICAgICBbMzcuMzM4MjA4MjAwMDAwMDA0LCAtMTIxLjg4NjMyODU5OTk5OTk4XSwKICAgICAgICAgICAgICAgIHsiYnViYmxpbmdNb3VzZUV2ZW50cyI6IHRydWUsICJjb2xvciI6ICJibHVlIiwgImRhc2hBcnJheSI6IG51bGwsICJkYXNoT2Zmc2V0IjogbnVsbCwgImZpbGwiOiB0cnVlLCAiZmlsbENvbG9yIjogInJlZCIsICJmaWxsT3BhY2l0eSI6IDAuMiwgImZpbGxSdWxlIjogImV2ZW5vZGQiLCAibGluZUNhcCI6ICJyb3VuZCIsICJsaW5lSm9pbiI6ICJyb3VuZCIsICJvcGFjaXR5IjogMS4wLCAicmFkaXVzIjogMjA1NDQuMCwgInN0cm9rZSI6IHRydWUsICJ3ZWlnaHQiOiAzfQogICAgICAgICAgICApLmFkZFRvKG1hcF9jOTkxOWJjM2E4ZGI0MzhiYjRiOTczZThlM2MxNjVlMyk7CiAgICAgICAgCiAgICAKICAgICAgICB2YXIgcG9wdXBfYmEyNjMzMTFmZjI3NGNlNGIzNTVjODVlZDZhYjBjOTMgPSBMLnBvcHVwKHsibWF4V2lkdGgiOiAiMTAwJSJ9KTsKCiAgICAgICAgCiAgICAgICAgICAgIHZhciBodG1sXzY5MzdjZDRlNGJhYTQ0Nzk4MGY0NWU5Nzg5MDkwYjQyID0gJChgPGRpdiBpZD0iaHRtbF82OTM3Y2Q0ZTRiYWE0NDc5ODBmNDVlOTc4OTA5MGI0MiIgc3R5bGU9IndpZHRoOiAxMDAuMCU7IGhlaWdodDogMTAwLjAlOyI+U2FuIEpvc2U8L2Rpdj5gKVswXTsKICAgICAgICAgICAgcG9wdXBfYmEyNjMzMTFmZjI3NGNlNGIzNTVjODVlZDZhYjBjOTMuc2V0Q29udGVudChodG1sXzY5MzdjZDRlNGJhYTQ0Nzk4MGY0NWU5Nzg5MDkwYjQyKTsKICAgICAgICAKCiAgICAgICAgY2lyY2xlXzlhNmJlN2VkYzIxMzQzMDhhZjJiNDI1ZDFhMzFkZWIyLmJpbmRQb3B1cChwb3B1cF9iYTI2MzMxMWZmMjc0Y2U0YjM1NWM4NWVkNmFiMGM5MykKICAgICAgICA7CgogICAgICAgIAogICAgCiAgICAKICAgICAgICAgICAgdmFyIGNpcmNsZV84MTJmOWEwZTE4MTg0ZWYwOGZjMDQ5OTA0YjAzMWMwNyA9IEwuY2lyY2xlKAogICAgICAgICAgICAgICAgWzM3LjU2Mjk5MTcwMDAwMDAwNSwgLTEyMi4zMjU1MjUzOTk5OTk5OV0sCiAgICAgICAgICAgICAgICB7ImJ1YmJsaW5nTW91c2VFdmVudHMiOiB0cnVlLCAiY29sb3IiOiAiYmx1ZSIsICJkYXNoQXJyYXkiOiBudWxsLCAiZGFzaE9mZnNldCI6IG51bGwsICJmaWxsIjogdHJ1ZSwgImZpbGxDb2xvciI6ICJyZWQiLCAiZmlsbE9wYWNpdHkiOiAwLjIsICJmaWxsUnVsZSI6ICJldmVub2RkIiwgImxpbmVDYXAiOiAicm91bmQiLCAibGluZUpvaW4iOiAicm91bmQiLCAib3BhY2l0eSI6IDEuMCwgInJhZGl1cyI6IDQwMDguMCwgInN0cm9rZSI6IHRydWUsICJ3ZWlnaHQiOiAzfQogICAgICAgICAgICApLmFkZFRvKG1hcF9jOTkxOWJjM2E4ZGI0MzhiYjRiOTczZThlM2MxNjVlMyk7CiAgICAgICAgCiAgICAKICAgICAgICB2YXIgcG9wdXBfYTJjYjQxZGI0M2NiNDRhMGEzMzc1Y2FkMmJkOTc5ZDEgPSBMLnBvcHVwKHsibWF4V2lkdGgiOiAiMTAwJSJ9KTsKCiAgICAgICAgCiAgICAgICAgICAgIHZhciBodG1sXzQ1YjJhNTk5NWM4NDQxYjQ4N2U2N2Q1MzllN2M0OWU0ID0gJChgPGRpdiBpZD0iaHRtbF80NWIyYTU5OTVjODQ0MWI0ODdlNjdkNTM5ZTdjNDllNCIgc3R5bGU9IndpZHRoOiAxMDAuMCU7IGhlaWdodDogMTAwLjAlOyI+U2FuIE1hdGVvPC9kaXY+YClbMF07CiAgICAgICAgICAgIHBvcHVwX2EyY2I0MWRiNDNjYjQ0YTBhMzM3NWNhZDJiZDk3OWQxLnNldENvbnRlbnQoaHRtbF80NWIyYTU5OTVjODQ0MWI0ODdlNjdkNTM5ZTdjNDllNCk7CiAgICAgICAgCgogICAgICAgIGNpcmNsZV84MTJmOWEwZTE4MTg0ZWYwOGZjMDQ5OTA0YjAzMWMwNy5iaW5kUG9wdXAocG9wdXBfYTJjYjQxZGI0M2NiNDRhMGEzMzc1Y2FkMmJkOTc5ZDEpCiAgICAgICAgOwoKICAgICAgICAKICAgIAogICAgCiAgICAgICAgICAgIHZhciBjaXJjbGVfOGQxNzc1NjIyNWYwNDE2YTg0YmY5MWIyYTNiZTY3ZjUgPSBMLmNpcmNsZSgKICAgICAgICAgICAgICAgIFszMy43NDU0NzI1LCAtMTE3Ljg2NzY1M10sCiAgICAgICAgICAgICAgICB7ImJ1YmJsaW5nTW91c2VFdmVudHMiOiB0cnVlLCAiY29sb3IiOiAiYmx1ZSIsICJkYXNoQXJyYXkiOiBudWxsLCAiZGFzaE9mZnNldCI6IG51bGwsICJmaWxsIjogdHJ1ZSwgImZpbGxDb2xvciI6ICJyZWQiLCAiZmlsbE9wYWNpdHkiOiAwLjIsICJmaWxsUnVsZSI6ICJldmVub2RkIiwgImxpbmVDYXAiOiAicm91bmQiLCAibGluZUpvaW4iOiAicm91bmQiLCAib3BhY2l0eSI6IDEuMCwgInJhZGl1cyI6IDI5NjQuMCwgInN0cm9rZSI6IHRydWUsICJ3ZWlnaHQiOiAzfQogICAgICAgICAgICApLmFkZFRvKG1hcF9jOTkxOWJjM2E4ZGI0MzhiYjRiOTczZThlM2MxNjVlMyk7CiAgICAgICAgCiAgICAKICAgICAgICB2YXIgcG9wdXBfMWNjNTI0YjcyMDc5NDY3Y2E4M2E3Zjc2YmYyY2ZiZjcgPSBMLnBvcHVwKHsibWF4V2lkdGgiOiAiMTAwJSJ9KTsKCiAgICAgICAgCiAgICAgICAgICAgIHZhciBodG1sXzE2ZDczMzcyMGU1YjQwODA5NDUwNzc4OWQyM2M4Yjk1ID0gJChgPGRpdiBpZD0iaHRtbF8xNmQ3MzM3MjBlNWI0MDgwOTQ1MDc3ODlkMjNjOGI5NSIgc3R5bGU9IndpZHRoOiAxMDAuMCU7IGhlaWdodDogMTAwLjAlOyI+U2FudGEgQW5hPC9kaXY+YClbMF07CiAgICAgICAgICAgIHBvcHVwXzFjYzUyNGI3MjA3OTQ2N2NhODNhN2Y3NmJmMmNmYmY3LnNldENvbnRlbnQoaHRtbF8xNmQ3MzM3MjBlNWI0MDgwOTQ1MDc3ODlkMjNjOGI5NSk7CiAgICAgICAgCgogICAgICAgIGNpcmNsZV84ZDE3NzU2MjI1ZjA0MTZhODRiZjkxYjJhM2JlNjdmNS5iaW5kUG9wdXAocG9wdXBfMWNjNTI0YjcyMDc5NDY3Y2E4M2E3Zjc2YmYyY2ZiZjcpCiAgICAgICAgOwoKICAgICAgICAKICAgIAogICAgCiAgICAgICAgICAgIHZhciBjaXJjbGVfOTFjZGUxYTQ1MTllNDMzNGE3ZjZiYTg2MjZiZTdhMjggPSBMLmNpcmNsZSgKICAgICAgICAgICAgICAgIFszNC40MjA4MzA1LCAtMTE5LjY5ODE5MDA5OTk5OTk5XSwKICAgICAgICAgICAgICAgIHsiYnViYmxpbmdNb3VzZUV2ZW50cyI6IHRydWUsICJjb2xvciI6ICJibHVlIiwgImRhc2hBcnJheSI6IG51bGwsICJkYXNoT2Zmc2V0IjogbnVsbCwgImZpbGwiOiB0cnVlLCAiZmlsbENvbG9yIjogInJlZCIsICJmaWxsT3BhY2l0eSI6IDAuMiwgImZpbGxSdWxlIjogImV2ZW5vZGQiLCAibGluZUNhcCI6ICJyb3VuZCIsICJsaW5lSm9pbiI6ICJyb3VuZCIsICJvcGFjaXR5IjogMS4wLCAicmFkaXVzIjogMzEyMC4wLCAic3Ryb2tlIjogdHJ1ZSwgIndlaWdodCI6IDN9CiAgICAgICAgICAgICkuYWRkVG8obWFwX2M5OTE5YmMzYThkYjQzOGJiNGI5NzNlOGUzYzE2NWUzKTsKICAgICAgICAKICAgIAogICAgICAgIHZhciBwb3B1cF9lMGNmMjM1M2UwMDM0NjkzOTY0YzcyZTZmYjAwYzRiYSA9IEwucG9wdXAoeyJtYXhXaWR0aCI6ICIxMDAlIn0pOwoKICAgICAgICAKICAgICAgICAgICAgdmFyIGh0bWxfMGIwYmNmYzQwMjFkNDMxYWI4Mzc3ODFkM2IzODc3ZjkgPSAkKGA8ZGl2IGlkPSJodG1sXzBiMGJjZmM0MDIxZDQzMWFiODM3NzgxZDNiMzg3N2Y5IiBzdHlsZT0id2lkdGg6IDEwMC4wJTsgaGVpZ2h0OiAxMDAuMCU7Ij5TYW50YSBCYXJiYXJhPC9kaXY+YClbMF07CiAgICAgICAgICAgIHBvcHVwX2UwY2YyMzUzZTAwMzQ2OTM5NjRjNzJlNmZiMDBjNGJhLnNldENvbnRlbnQoaHRtbF8wYjBiY2ZjNDAyMWQ0MzFhYjgzNzc4MWQzYjM4NzdmOSk7CiAgICAgICAgCgogICAgICAgIGNpcmNsZV85MWNkZTFhNDUxOWU0MzM0YTdmNmJhODYyNmJlN2EyOC5iaW5kUG9wdXAocG9wdXBfZTBjZjIzNTNlMDAzNDY5Mzk2NGM3MmU2ZmIwMGM0YmEpCiAgICAgICAgOwoKICAgICAgICAKICAgIAogICAgCiAgICAgICAgICAgIHZhciBjaXJjbGVfODViNjU0YTkzYzQyNGQ2Y2E3NWMwMTU1MzJmMDNhYmEgPSBMLmNpcmNsZSgKICAgICAgICAgICAgICAgIFszMi40MDczNTg5LCAtODcuMDIxMTAwN10sCiAgICAgICAgICAgICAgICB7ImJ1YmJsaW5nTW91c2VFdmVudHMiOiB0cnVlLCAiY29sb3IiOiAiYmx1ZSIsICJkYXNoQXJyYXkiOiBudWxsLCAiZGFzaE9mZnNldCI6IG51bGwsICJmaWxsIjogdHJ1ZSwgImZpbGxDb2xvciI6ICJyZWQiLCAiZmlsbE9wYWNpdHkiOiAwLjIsICJmaWxsUnVsZSI6ICJldmVub2RkIiwgImxpbmVDYXAiOiAicm91bmQiLCAibGluZUpvaW4iOiAicm91bmQiLCAib3BhY2l0eSI6IDEuMCwgInJhZGl1cyI6IDM4MjguMCwgInN0cm9rZSI6IHRydWUsICJ3ZWlnaHQiOiAzfQogICAgICAgICAgICApLmFkZFRvKG1hcF9jOTkxOWJjM2E4ZGI0MzhiYjRiOTczZThlM2MxNjVlMyk7CiAgICAgICAgCiAgICAKICAgICAgICB2YXIgcG9wdXBfNTI5MzJhODk2MjE5NDlkNmJjNGY0Zjc4N2U0ZjI4NGIgPSBMLnBvcHVwKHsibWF4V2lkdGgiOiAiMTAwJSJ9KTsKCiAgICAgICAgCiAgICAgICAgICAgIHZhciBodG1sXzljYjFhNWNmNGJlZDRhZDVhMmY0NmJmZjE5MTE4ZTRlID0gJChgPGRpdiBpZD0iaHRtbF85Y2IxYTVjZjRiZWQ0YWQ1YTJmNDZiZmYxOTExOGU0ZSIgc3R5bGU9IndpZHRoOiAxMDAuMCU7IGhlaWdodDogMTAwLjAlOyI+U2VsbWE8L2Rpdj5gKVswXTsKICAgICAgICAgICAgcG9wdXBfNTI5MzJhODk2MjE5NDlkNmJjNGY0Zjc4N2U0ZjI4NGIuc2V0Q29udGVudChodG1sXzljYjFhNWNmNGJlZDRhZDVhMmY0NmJmZjE5MTE4ZTRlKTsKICAgICAgICAKCiAgICAgICAgY2lyY2xlXzg1YjY1NGE5M2M0MjRkNmNhNzVjMDE1NTMyZjAzYWJhLmJpbmRQb3B1cChwb3B1cF81MjkzMmE4OTYyMTk0OWQ2YmM0ZjRmNzg3ZTRmMjg0YikKICAgICAgICA7CgogICAgICAgIAogICAgCiAgICAKICAgICAgICAgICAgdmFyIGNpcmNsZV8yNzE2N2Y1ODUwZjM0NTIzYjEwZGU3ZTk0YWQxNzYxNSA9IEwuY2lyY2xlKAogICAgICAgICAgICAgICAgWzM3Ljk1NzcwMTYsIC0xMjEuMjkwNzc5NTk5OTk5OThdLAogICAgICAgICAgICAgICAgeyJidWJibGluZ01vdXNlRXZlbnRzIjogdHJ1ZSwgImNvbG9yIjogImJsdWUiLCAiZGFzaEFycmF5IjogbnVsbCwgImRhc2hPZmZzZXQiOiBudWxsLCAiZmlsbCI6IHRydWUsICJmaWxsQ29sb3IiOiAicmVkIiwgImZpbGxPcGFjaXR5IjogMC4yLCAiZmlsbFJ1bGUiOiAiZXZlbm9kZCIsICJsaW5lQ2FwIjogInJvdW5kIiwgImxpbmVKb2luIjogInJvdW5kIiwgIm9wYWNpdHkiOiAxLjAsICJyYWRpdXMiOiAxODg4OC4wLCAic3Ryb2tlIjogdHJ1ZSwgIndlaWdodCI6IDN9CiAgICAgICAgICAgICkuYWRkVG8obWFwX2M5OTE5YmMzYThkYjQzOGJiNGI5NzNlOGUzYzE2NWUzKTsKICAgICAgICAKICAgIAogICAgICAgIHZhciBwb3B1cF81MzVjZjE5N2ZiYzY0MDk1ODAyNDM4ODVmMWIzOTc0ZiA9IEwucG9wdXAoeyJtYXhXaWR0aCI6ICIxMDAlIn0pOwoKICAgICAgICAKICAgICAgICAgICAgdmFyIGh0bWxfNmViZTBjZGRmZWRmNGYzNThlN2MwMTc4ZDNmM2E1ODIgPSAkKGA8ZGl2IGlkPSJodG1sXzZlYmUwY2RkZmVkZjRmMzU4ZTdjMDE3OGQzZjNhNTgyIiBzdHlsZT0id2lkdGg6IDEwMC4wJTsgaGVpZ2h0OiAxMDAuMCU7Ij5TdG9ja3RvbjwvZGl2PmApWzBdOwogICAgICAgICAgICBwb3B1cF81MzVjZjE5N2ZiYzY0MDk1ODAyNDM4ODVmMWIzOTc0Zi5zZXRDb250ZW50KGh0bWxfNmViZTBjZGRmZWRmNGYzNThlN2MwMTc4ZDNmM2E1ODIpOwogICAgICAgIAoKICAgICAgICBjaXJjbGVfMjcxNjdmNTg1MGYzNDUyM2IxMGRlN2U5NGFkMTc2MTUuYmluZFBvcHVwKHBvcHVwXzUzNWNmMTk3ZmJjNjQwOTU4MDI0Mzg4NWYxYjM5NzRmKQogICAgICAgIDsKCiAgICAgICAgCiAgICAKICAgIAogICAgICAgICAgICB2YXIgY2lyY2xlXzNmZWJjNGVhNTRiNTQ4N2E5YjQ2OGE0MDUxYWJjM2JkID0gTC5jaXJjbGUoCiAgICAgICAgICAgICAgICBbNDUuNDQwODQ3Mzk5OTk5OTk2LCAxMi4zMTU1MTUwOTk5OTk5OTldLAogICAgICAgICAgICAgICAgeyJidWJibGluZ01vdXNlRXZlbnRzIjogdHJ1ZSwgImNvbG9yIjogImJsdWUiLCAiZGFzaEFycmF5IjogbnVsbCwgImRhc2hPZmZzZXQiOiBudWxsLCAiZmlsbCI6IHRydWUsICJmaWxsQ29sb3IiOiAicmVkIiwgImZpbGxPcGFjaXR5IjogMC4yLCAiZmlsbFJ1bGUiOiAiZXZlbm9kZCIsICJsaW5lQ2FwIjogInJvdW5kIiwgImxpbmVKb2luIjogInJvdW5kIiwgIm9wYWNpdHkiOiAxLjAsICJyYWRpdXMiOiAyNjc2LjAsICJzdHJva2UiOiB0cnVlLCAid2VpZ2h0IjogM30KICAgICAgICAgICAgKS5hZGRUbyhtYXBfYzk5MTliYzNhOGRiNDM4YmI0Yjk3M2U4ZTNjMTY1ZTMpOwogICAgICAgIAogICAgCiAgICAgICAgdmFyIHBvcHVwXzY3YWI3YmNhMzRmYjQxZjliZmZkNTFlMjc1ZTQ5NjdlID0gTC5wb3B1cCh7Im1heFdpZHRoIjogIjEwMCUifSk7CgogICAgICAgIAogICAgICAgICAgICB2YXIgaHRtbF9kOWE4YTMxZWNmYzA0ZGQxOGUwZDcyNGM1NmUyYTlkMCA9ICQoYDxkaXYgaWQ9Imh0bWxfZDlhOGEzMWVjZmMwNGRkMThlMGQ3MjRjNTZlMmE5ZDAiIHN0eWxlPSJ3aWR0aDogMTAwLjAlOyBoZWlnaHQ6IDEwMC4wJTsiPlZlbmljZTwvZGl2PmApWzBdOwogICAgICAgICAgICBwb3B1cF82N2FiN2JjYTM0ZmI0MWY5YmZmZDUxZTI3NWU0OTY3ZS5zZXRDb250ZW50KGh0bWxfZDlhOGEzMWVjZmMwNGRkMThlMGQ3MjRjNTZlMmE5ZDApOwogICAgICAgIAoKICAgICAgICBjaXJjbGVfM2ZlYmM0ZWE1NGI1NDg3YTliNDY4YTQwNTFhYmMzYmQuYmluZFBvcHVwKHBvcHVwXzY3YWI3YmNhMzRmYjQxZjliZmZkNTFlMjc1ZTQ5NjdlKQogICAgICAgIDsKCiAgICAgICAgCiAgICAKICAgIAogICAgICAgICAgICB2YXIgY2lyY2xlXzVmZjczNzIyYzYwYzRlNzlhMTQ1YWZmMTU0ZDAyMjlmID0gTC5jaXJjbGUoCiAgICAgICAgICAgICAgICBbNDQuMjIzMDY5MSwgLTk1LjQ2OTY1NzhdLAogICAgICAgICAgICAgICAgeyJidWJibGluZ01vdXNlRXZlbnRzIjogdHJ1ZSwgImNvbG9yIjogImJsdWUiLCAiZGFzaEFycmF5IjogbnVsbCwgImRhc2hPZmZzZXQiOiBudWxsLCAiZmlsbCI6IHRydWUsICJmaWxsQ29sb3IiOiAicmVkIiwgImZpbGxPcGFjaXR5IjogMC4yLCAiZmlsbFJ1bGUiOiAiZXZlbm9kZCIsICJsaW5lQ2FwIjogInJvdW5kIiwgImxpbmVKb2luIjogInJvdW5kIiwgIm9wYWNpdHkiOiAxLjAsICJyYWRpdXMiOiA3MTA0LjAsICJzdHJva2UiOiB0cnVlLCAid2VpZ2h0IjogM30KICAgICAgICAgICAgKS5hZGRUbyhtYXBfYzk5MTliYzNhOGRiNDM4YmI0Yjk3M2U4ZTNjMTY1ZTMpOwogICAgICAgIAogICAgCiAgICAgICAgdmFyIHBvcHVwX2MzYmE3ZmU4MTlmNzRiMmNiZTY0YjE4Njc5ZDkzNTZjID0gTC5wb3B1cCh7Im1heFdpZHRoIjogIjEwMCUifSk7CgogICAgICAgIAogICAgICAgICAgICB2YXIgaHRtbF85NmNkYmMwZWQ4ZjY0MWI5YjE5NDUzMDIwOTk4MGFkZCA9ICQoYDxkaXYgaWQ9Imh0bWxfOTZjZGJjMGVkOGY2NDFiOWIxOTQ1MzAyMDk5ODBhZGQiIHN0eWxlPSJ3aWR0aDogMTAwLjAlOyBoZWlnaHQ6IDEwMC4wJTsiPldhbG51dCBHcm92ZTwvZGl2PmApWzBdOwogICAgICAgICAgICBwb3B1cF9jM2JhN2ZlODE5Zjc0YjJjYmU2NGIxODY3OWQ5MzU2Yy5zZXRDb250ZW50KGh0bWxfOTZjZGJjMGVkOGY2NDFiOWIxOTQ1MzAyMDk5ODBhZGQpOwogICAgICAgIAoKICAgICAgICBjaXJjbGVfNWZmNzM3MjJjNjBjNGU3OWExNDVhZmYxNTRkMDIyOWYuYmluZFBvcHVwKHBvcHVwX2MzYmE3ZmU4MTlmNzRiMmNiZTY0YjE4Njc5ZDkzNTZjKQogICAgICAgIDsKCiAgICAgICAgCiAgICAKICAgIAogICAgICAgICAgICB2YXIgY2lyY2xlX2JkYzVlOWQzNzI3NjQ1YmM4YzI3NWExNjQ4YzVlYzhmID0gTC5jaXJjbGUoCiAgICAgICAgICAgICAgICBbMzYuOTEwMjMxLCAtMTIxLjc1Njg5NDZdLAogICAgICAgICAgICAgICAgeyJidWJibGluZ01vdXNlRXZlbnRzIjogdHJ1ZSwgImNvbG9yIjogImJsdWUiLCAiZGFzaEFycmF5IjogbnVsbCwgImRhc2hPZmZzZXQiOiBudWxsLCAiZmlsbCI6IHRydWUsICJmaWxsQ29sb3IiOiAicmVkIiwgImZpbGxPcGFjaXR5IjogMC4yLCAiZmlsbFJ1bGUiOiAiZXZlbm9kZCIsICJsaW5lQ2FwIjogInJvdW5kIiwgImxpbmVKb2luIjogInJvdW5kIiwgIm9wYWNpdHkiOiAxLjAsICJyYWRpdXMiOiA0NTM2LjAsICJzdHJva2UiOiB0cnVlLCAid2VpZ2h0IjogM30KICAgICAgICAgICAgKS5hZGRUbyhtYXBfYzk5MTliYzNhOGRiNDM4YmI0Yjk3M2U4ZTNjMTY1ZTMpOwogICAgICAgIAogICAgCiAgICAgICAgdmFyIHBvcHVwXzRiZjYzNmZkZmZjZDRjODVhYTczN2NiNmQ0MmNhZjE4ID0gTC5wb3B1cCh7Im1heFdpZHRoIjogIjEwMCUifSk7CgogICAgICAgIAogICAgICAgICAgICB2YXIgaHRtbF8xNzJkY2RjNWY4OWM0YzkzYThiMWM0NWZmYTUzNzQzOCA9ICQoYDxkaXYgaWQ9Imh0bWxfMTcyZGNkYzVmODljNGM5M2E4YjFjNDVmZmE1Mzc0MzgiIHN0eWxlPSJ3aWR0aDogMTAwLjAlOyBoZWlnaHQ6IDEwMC4wJTsiPldhdHNvbnZpbGxlPC9kaXY+YClbMF07CiAgICAgICAgICAgIHBvcHVwXzRiZjYzNmZkZmZjZDRjODVhYTczN2NiNmQ0MmNhZjE4LnNldENvbnRlbnQoaHRtbF8xNzJkY2RjNWY4OWM0YzkzYThiMWM0NWZmYTUzNzQzOCk7CiAgICAgICAgCgogICAgICAgIGNpcmNsZV9iZGM1ZTlkMzcyNzY0NWJjOGMyNzVhMTY0OGM1ZWM4Zi5iaW5kUG9wdXAocG9wdXBfNGJmNjM2ZmRmZmNkNGM4NWFhNzM3Y2I2ZDQyY2FmMTgpCiAgICAgICAgOwoKICAgICAgICAKICAgIAogICAgCiAgICAgICAgICAgIHZhciBjaXJjbGVfZGE5OWEwYzFjYWIwNGMwZDhkMjk3MTk1YTA0NTI4OTMgPSBMLmNpcmNsZSgKICAgICAgICAgICAgICAgIFs0MC4wMTQ5ODU2LCAtMTA1LjI3MDU0NTZdLAogICAgICAgICAgICAgICAgeyJidWJibGluZ01vdXNlRXZlbnRzIjogdHJ1ZSwgImNvbG9yIjogImJsdWUiLCAiZGFzaEFycmF5IjogbnVsbCwgImRhc2hPZmZzZXQiOiBudWxsLCAiZmlsbCI6IHRydWUsICJmaWxsQ29sb3IiOiAicmVkIiwgImZpbGxPcGFjaXR5IjogMC4yLCAiZmlsbFJ1bGUiOiAiZXZlbm9kZCIsICJsaW5lQ2FwIjogInJvdW5kIiwgImxpbmVKb2luIjogInJvdW5kIiwgIm9wYWNpdHkiOiAxLjAsICJyYWRpdXMiOiAyODY4LjAsICJzdHJva2UiOiB0cnVlLCAid2VpZ2h0IjogM30KICAgICAgICAgICAgKS5hZGRUbyhtYXBfYzk5MTliYzNhOGRiNDM4YmI0Yjk3M2U4ZTNjMTY1ZTMpOwogICAgICAgIAogICAgCiAgICAgICAgdmFyIHBvcHVwX2U0NGI5NzRjNmQ0MTQ0NGQ4YjA3YTE1NDYxZGM3OTZjID0gTC5wb3B1cCh7Im1heFdpZHRoIjogIjEwMCUifSk7CgogICAgICAgIAogICAgICAgICAgICB2YXIgaHRtbF8zODA2MTI2Mjk1MDQ0ZDBmOWZlNmFiMmQyNDkyMjUwMCA9ICQoYDxkaXYgaWQ9Imh0bWxfMzgwNjEyNjI5NTA0NGQwZjlmZTZhYjJkMjQ5MjI1MDAiIHN0eWxlPSJ3aWR0aDogMTAwLjAlOyBoZWlnaHQ6IDEwMC4wJTsiPkJvdWxkZXI8L2Rpdj5gKVswXTsKICAgICAgICAgICAgcG9wdXBfZTQ0Yjk3NGM2ZDQxNDQ0ZDhiMDdhMTU0NjFkYzc5NmMuc2V0Q29udGVudChodG1sXzM4MDYxMjYyOTUwNDRkMGY5ZmU2YWIyZDI0OTIyNTAwKTsKICAgICAgICAKCiAgICAgICAgY2lyY2xlX2RhOTlhMGMxY2FiMDRjMGQ4ZDI5NzE5NWEwNDUyODkzLmJpbmRQb3B1cChwb3B1cF9lNDRiOTc0YzZkNDE0NDRkOGIwN2ExNTQ2MWRjNzk2YykKICAgICAgICA7CgogICAgICAgIAogICAgCiAgICAKICAgICAgICAgICAgdmFyIGNpcmNsZV9hZjJhNTM0MmIyZTE0ODU5YWQ0MDc3MjZkOTNmYjZkMSA9IEwuY2lyY2xlKAogICAgICAgICAgICAgICAgWzM5LjczOTIzNTc5OTk5OTk5NiwgLTEwNC45OTAyNTFdLAogICAgICAgICAgICAgICAgeyJidWJibGluZ01vdXNlRXZlbnRzIjogdHJ1ZSwgImNvbG9yIjogImJsdWUiLCAiZGFzaEFycmF5IjogbnVsbCwgImRhc2hPZmZzZXQiOiBudWxsLCAiZmlsbCI6IHRydWUsICJmaWxsQ29sb3IiOiAicmVkIiwgImZpbGxPcGFjaXR5IjogMC4yLCAiZmlsbFJ1bGUiOiAiZXZlbm9kZCIsICJsaW5lQ2FwIjogInJvdW5kIiwgImxpbmVKb2luIjogInJvdW5kIiwgIm9wYWNpdHkiOiAxLjAsICJyYWRpdXMiOiAzNzQ4OC4wLCAic3Ryb2tlIjogdHJ1ZSwgIndlaWdodCI6IDN9CiAgICAgICAgICAgICkuYWRkVG8obWFwX2M5OTE5YmMzYThkYjQzOGJiNGI5NzNlOGUzYzE2NWUzKTsKICAgICAgICAKICAgIAogICAgICAgIHZhciBwb3B1cF82OWYyNmE5YmY0MTU0OWQ4YjVkNTlhYjkxZGQ5YzFiMSA9IEwucG9wdXAoeyJtYXhXaWR0aCI6ICIxMDAlIn0pOwoKICAgICAgICAKICAgICAgICAgICAgdmFyIGh0bWxfYzVhNDJhMDEyODQ2NGZkYWE3N2ZhYzM0YTMxMjRkZWMgPSAkKGA8ZGl2IGlkPSJodG1sX2M1YTQyYTAxMjg0NjRmZGFhNzdmYWMzNGEzMTI0ZGVjIiBzdHlsZT0id2lkdGg6IDEwMC4wJTsgaGVpZ2h0OiAxMDAuMCU7Ij5EZW52ZXI8L2Rpdj5gKVswXTsKICAgICAgICAgICAgcG9wdXBfNjlmMjZhOWJmNDE1NDlkOGI1ZDU5YWI5MWRkOWMxYjEuc2V0Q29udGVudChodG1sX2M1YTQyYTAxMjg0NjRmZGFhNzdmYWMzNGEzMTI0ZGVjKTsKICAgICAgICAKCiAgICAgICAgY2lyY2xlX2FmMmE1MzQyYjJlMTQ4NTlhZDQwNzcyNmQ5M2ZiNmQxLmJpbmRQb3B1cChwb3B1cF82OWYyNmE5YmY0MTU0OWQ4YjVkNTlhYjkxZGQ5YzFiMSkKICAgICAgICA7CgogICAgICAgIAogICAgCiAgICAKICAgICAgICAgICAgdmFyIGNpcmNsZV84YzI0MjRlN2Q0NjI0ZDI3Yjk1Zjc2MTM1YmMwOGFiOSA9IEwuY2lyY2xlKAogICAgICAgICAgICAgICAgWzM5LjA2Mzg3MDUsIC0xMDguNTUwNjQ4Nl0sCiAgICAgICAgICAgICAgICB7ImJ1YmJsaW5nTW91c2VFdmVudHMiOiB0cnVlLCAiY29sb3IiOiAiYmx1ZSIsICJkYXNoQXJyYXkiOiBudWxsLCAiZGFzaE9mZnNldCI6IG51bGwsICJmaWxsIjogdHJ1ZSwgImZpbGxDb2xvciI6ICJyZWQiLCAiZmlsbE9wYWNpdHkiOiAwLjIsICJmaWxsUnVsZSI6ICJldmVub2RkIiwgImxpbmVDYXAiOiAicm91bmQiLCAibGluZUpvaW4iOiAicm91bmQiLCAib3BhY2l0eSI6IDEuMCwgInJhZGl1cyI6IDI0MjQuMCwgInN0cm9rZSI6IHRydWUsICJ3ZWlnaHQiOiAzfQogICAgICAgICAgICApLmFkZFRvKG1hcF9jOTkxOWJjM2E4ZGI0MzhiYjRiOTczZThlM2MxNjVlMyk7CiAgICAgICAgCiAgICAKICAgICAgICB2YXIgcG9wdXBfNzQ5NTNlMDAyYzI1NGYxZGE5NGUxZTFjZjcyZjQwOTQgPSBMLnBvcHVwKHsibWF4V2lkdGgiOiAiMTAwJSJ9KTsKCiAgICAgICAgCiAgICAgICAgICAgIHZhciBodG1sXzMwYzY0NzdhMjAyNzRlMmZiOTYxNmI4MThmZTU4ZTBjID0gJChgPGRpdiBpZD0iaHRtbF8zMGM2NDc3YTIwMjc0ZTJmYjk2MTZiODE4ZmU1OGUwYyIgc3R5bGU9IndpZHRoOiAxMDAuMCU7IGhlaWdodDogMTAwLjAlOyI+R3JhbmQgSnVuY3Rpb248L2Rpdj5gKVswXTsKICAgICAgICAgICAgcG9wdXBfNzQ5NTNlMDAyYzI1NGYxZGE5NGUxZTFjZjcyZjQwOTQuc2V0Q29udGVudChodG1sXzMwYzY0NzdhMjAyNzRlMmZiOTYxNmI4MThmZTU4ZTBjKTsKICAgICAgICAKCiAgICAgICAgY2lyY2xlXzhjMjQyNGU3ZDQ2MjRkMjdiOTVmNzYxMzViYzA4YWI5LmJpbmRQb3B1cChwb3B1cF83NDk1M2UwMDJjMjU0ZjFkYTk0ZTFlMWNmNzJmNDA5NCkKICAgICAgICA7CgogICAgICAgIAogICAgCiAgICAKICAgICAgICAgICAgdmFyIGNpcmNsZV8wZDNhYmU2MTU5MjE0NTYxODgwOWFlNjMwNmI5YTNhNiA9IEwuY2lyY2xlKAogICAgICAgICAgICAgICAgWzQzLjYxNTAxODYsIC0xMTYuMjAyMzEzN10sCiAgICAgICAgICAgICAgICB7ImJ1YmJsaW5nTW91c2VFdmVudHMiOiB0cnVlLCAiY29sb3IiOiAiYmx1ZSIsICJkYXNoQXJyYXkiOiBudWxsLCAiZGFzaE9mZnNldCI6IG51bGwsICJmaWxsIjogdHJ1ZSwgImZpbGxDb2xvciI6ICJyZWQiLCAiZmlsbE9wYWNpdHkiOiAwLjIsICJmaWxsUnVsZSI6ICJldmVub2RkIiwgImxpbmVDYXAiOiAicm91bmQiLCAibGluZUpvaW4iOiAicm91bmQiLCAib3BhY2l0eSI6IDEuMCwgInJhZGl1cyI6IDM0NjguMCwgInN0cm9rZSI6IHRydWUsICJ3ZWlnaHQiOiAzfQogICAgICAgICAgICApLmFkZFRvKG1hcF9jOTkxOWJjM2E4ZGI0MzhiYjRiOTczZThlM2MxNjVlMyk7CiAgICAgICAgCiAgICAKICAgICAgICB2YXIgcG9wdXBfYjE4YTQ3ZjM5NzE5NGNmYjg5NmQ4MTE3MDYxYTBkOWYgPSBMLnBvcHVwKHsibWF4V2lkdGgiOiAiMTAwJSJ9KTsKCiAgICAgICAgCiAgICAgICAgICAgIHZhciBodG1sXzhhODRjYWIyMTg1NjQ4MDc5Y2FiM2Q4YjkyMzMzNGY2ID0gJChgPGRpdiBpZD0iaHRtbF84YTg0Y2FiMjE4NTY0ODA3OWNhYjNkOGI5MjMzMzRmNiIgc3R5bGU9IndpZHRoOiAxMDAuMCU7IGhlaWdodDogMTAwLjAlOyI+Qm9pc2U8L2Rpdj5gKVswXTsKICAgICAgICAgICAgcG9wdXBfYjE4YTQ3ZjM5NzE5NGNmYjg5NmQ4MTE3MDYxYTBkOWYuc2V0Q29udGVudChodG1sXzhhODRjYWIyMTg1NjQ4MDc5Y2FiM2Q4YjkyMzMzNGY2KTsKICAgICAgICAKCiAgICAgICAgY2lyY2xlXzBkM2FiZTYxNTkyMTQ1NjE4ODA5YWU2MzA2YjlhM2E2LmJpbmRQb3B1cChwb3B1cF9iMThhNDdmMzk3MTk0Y2ZiODk2ZDgxMTcwNjFhMGQ5ZikKICAgICAgICA7CgogICAgICAgIAogICAgCiAgICAKICAgICAgICAgICAgdmFyIGNpcmNsZV84OTkyOWI4YmU1NDA0ZDE0YjY4NzQ5ZTBkNGY0YTdiYSA9IEwuY2lyY2xlKAogICAgICAgICAgICAgICAgWzQzLjY2MjkzODM5OTk5OTk5NCwgLTExNi42ODczNTk2XSwKICAgICAgICAgICAgICAgIHsiYnViYmxpbmdNb3VzZUV2ZW50cyI6IHRydWUsICJjb2xvciI6ICJibHVlIiwgImRhc2hBcnJheSI6IG51bGwsICJkYXNoT2Zmc2V0IjogbnVsbCwgImZpbGwiOiB0cnVlLCAiZmlsbENvbG9yIjogInJlZCIsICJmaWxsT3BhY2l0eSI6IDAuMiwgImZpbGxSdWxlIjogImV2ZW5vZGQiLCAibGluZUNhcCI6ICJyb3VuZCIsICJsaW5lSm9pbiI6ICJyb3VuZCIsICJvcGFjaXR5IjogMS4wLCAicmFkaXVzIjogNTQ4NC4wLCAic3Ryb2tlIjogdHJ1ZSwgIndlaWdodCI6IDN9CiAgICAgICAgICAgICkuYWRkVG8obWFwX2M5OTE5YmMzYThkYjQzOGJiNGI5NzNlOGUzYzE2NWUzKTsKICAgICAgICAKICAgIAogICAgICAgIHZhciBwb3B1cF85ZjFhNmJiZWIzYTI0YTk0YjE3YWU3Y2VjZTk2Nzk5NSA9IEwucG9wdXAoeyJtYXhXaWR0aCI6ICIxMDAlIn0pOwoKICAgICAgICAKICAgICAgICAgICAgdmFyIGh0bWxfNjYxYTJlOTJmZTE0NGVhM2I1MGFlNGY1MDE1MjRkMTIgPSAkKGA8ZGl2IGlkPSJodG1sXzY2MWEyZTkyZmUxNDRlYTNiNTBhZTRmNTAxNTI0ZDEyIiBzdHlsZT0id2lkdGg6IDEwMC4wJTsgaGVpZ2h0OiAxMDAuMCU7Ij5DYWxkd2VsbDwvZGl2PmApWzBdOwogICAgICAgICAgICBwb3B1cF85ZjFhNmJiZWIzYTI0YTk0YjE3YWU3Y2VjZTk2Nzk5NS5zZXRDb250ZW50KGh0bWxfNjYxYTJlOTJmZTE0NGVhM2I1MGFlNGY1MDE1MjRkMTIpOwogICAgICAgIAoKICAgICAgICBjaXJjbGVfODk5MjliOGJlNTQwNGQxNGI2ODc0OWUwZDRmNGE3YmEuYmluZFBvcHVwKHBvcHVwXzlmMWE2YmJlYjNhMjRhOTRiMTdhZTdjZWNlOTY3OTk1KQogICAgICAgIDsKCiAgICAgICAgCiAgICAKICAgIAogICAgICAgICAgICB2YXIgY2lyY2xlXzVmNTM3YmY2OTM4YjRjMjY4OTY3NmVmZGUxNDJhZTdiID0gTC5jaXJjbGUoCiAgICAgICAgICAgICAgICBbNDIuMzUzMjcwMjAwMDAwMDA0LCAtNzEuMDUyNTU1OV0sCiAgICAgICAgICAgICAgICB7ImJ1YmJsaW5nTW91c2VFdmVudHMiOiB0cnVlLCAiY29sb3IiOiAiYmx1ZSIsICJkYXNoQXJyYXkiOiBudWxsLCAiZGFzaE9mZnNldCI6IG51bGwsICJmaWxsIjogdHJ1ZSwgImZpbGxDb2xvciI6ICJyZWQiLCAiZmlsbE9wYWNpdHkiOiAwLjIsICJmaWxsUnVsZSI6ICJldmVub2RkIiwgImxpbmVDYXAiOiAicm91bmQiLCAibGluZUpvaW4iOiAicm91bmQiLCAib3BhY2l0eSI6IDEuMCwgInJhZGl1cyI6IDQ0NzYuMCwgInN0cm9rZSI6IHRydWUsICJ3ZWlnaHQiOiAzfQogICAgICAgICAgICApLmFkZFRvKG1hcF9jOTkxOWJjM2E4ZGI0MzhiYjRiOTczZThlM2MxNjVlMyk7CiAgICAgICAgCiAgICAKICAgICAgICB2YXIgcG9wdXBfYzY3MDhhMTFjMmMwNDIwMjgxMWVmNTc1MzQxMjA0YmIgPSBMLnBvcHVwKHsibWF4V2lkdGgiOiAiMTAwJSJ9KTsKCiAgICAgICAgCiAgICAgICAgICAgIHZhciBodG1sXzExNDJjMTg5YmEzMTQ1ZmQ4YjM2ZWRlNmI3OGFjZTMyID0gJChgPGRpdiBpZD0iaHRtbF8xMTQyYzE4OWJhMzE0NWZkOGIzNmVkZTZiNzhhY2UzMiIgc3R5bGU9IndpZHRoOiAxMDAuMCU7IGhlaWdodDogMTAwLjAlOyI+UGF5ZXR0ZTwvZGl2PmApWzBdOwogICAgICAgICAgICBwb3B1cF9jNjcwOGExMWMyYzA0MjAyODExZWY1NzUzNDEyMDRiYi5zZXRDb250ZW50KGh0bWxfMTE0MmMxODliYTMxNDVmZDhiMzZlZGU2Yjc4YWNlMzIpOwogICAgICAgIAoKICAgICAgICBjaXJjbGVfNWY1MzdiZjY5MzhiNGMyNjg5Njc2ZWZkZTE0MmFlN2IuYmluZFBvcHVwKHBvcHVwX2M2NzA4YTExYzJjMDQyMDI4MTFlZjU3NTM0MTIwNGJiKQogICAgICAgIDsKCiAgICAgICAgCiAgICAKICAgIAogICAgICAgICAgICB2YXIgY2lyY2xlX2Y3YWRjMDk4MzllNzQ4Yjg5YTQyNWVmMGZlZjg2MzIyID0gTC5jaXJjbGUoCiAgICAgICAgICAgICAgICBbNDIuNTU1ODM4MSwgLTExNC40NzAwNTE4XSwKICAgICAgICAgICAgICAgIHsiYnViYmxpbmdNb3VzZUV2ZW50cyI6IHRydWUsICJjb2xvciI6ICJibHVlIiwgImRhc2hBcnJheSI6IG51bGwsICJkYXNoT2Zmc2V0IjogbnVsbCwgImZpbGwiOiB0cnVlLCAiZmlsbENvbG9yIjogInJlZCIsICJmaWxsT3BhY2l0eSI6IDAuMiwgImZpbGxSdWxlIjogImV2ZW5vZGQiLCAibGluZUNhcCI6ICJyb3VuZCIsICJsaW5lSm9pbiI6ICJyb3VuZCIsICJvcGFjaXR5IjogMS4wLCAicmFkaXVzIjogNDA1Ni4wLCAic3Ryb2tlIjogdHJ1ZSwgIndlaWdodCI6IDN9CiAgICAgICAgICAgICkuYWRkVG8obWFwX2M5OTE5YmMzYThkYjQzOGJiNGI5NzNlOGUzYzE2NWUzKTsKICAgICAgICAKICAgIAogICAgICAgIHZhciBwb3B1cF81YjlhYmZmZTZlZmY0YzJhOGNiMWU1OWYxN2ViZWM1MyA9IEwucG9wdXAoeyJtYXhXaWR0aCI6ICIxMDAlIn0pOwoKICAgICAgICAKICAgICAgICAgICAgdmFyIGh0bWxfZDM2YWYyZWJmYTMyNDI1MThkZTlkMGM2N2NkMDc2OWIgPSAkKGA8ZGl2IGlkPSJodG1sX2QzNmFmMmViZmEzMjQyNTE4ZGU5ZDBjNjdjZDA3NjliIiBzdHlsZT0id2lkdGg6IDEwMC4wJTsgaGVpZ2h0OiAxMDAuMCU7Ij5Ud2luIEZhbGxzPC9kaXY+YClbMF07CiAgICAgICAgICAgIHBvcHVwXzViOWFiZmZlNmVmZjRjMmE4Y2IxZTU5ZjE3ZWJlYzUzLnNldENvbnRlbnQoaHRtbF9kMzZhZjJlYmZhMzI0MjUxOGRlOWQwYzY3Y2QwNzY5Yik7CiAgICAgICAgCgogICAgICAgIGNpcmNsZV9mN2FkYzA5ODM5ZTc0OGI4OWE0MjVlZjBmZWY4NjMyMi5iaW5kUG9wdXAocG9wdXBfNWI5YWJmZmU2ZWZmNGMyYThjYjFlNTlmMTdlYmVjNTMpCiAgICAgICAgOwoKICAgICAgICAKICAgIAogICAgCiAgICAgICAgICAgIHZhciBjaXJjbGVfMjEyZWViNGRlOTgzNDAxMWI5NjNlMzY0YjEzNjdkYjAgPSBMLmNpcmNsZSgKICAgICAgICAgICAgICAgIFs0NC4yNTA5OTc2MDAwMDAwMDUsIC0xMTYuOTY5MzMyNzAwMDAwMDFdLAogICAgICAgICAgICAgICAgeyJidWJibGluZ01vdXNlRXZlbnRzIjogdHJ1ZSwgImNvbG9yIjogImJsdWUiLCAiZGFzaEFycmF5IjogbnVsbCwgImRhc2hPZmZzZXQiOiBudWxsLCAiZmlsbCI6IHRydWUsICJmaWxsQ29sb3IiOiAicmVkIiwgImZpbGxPcGFjaXR5IjogMC4yLCAiZmlsbFJ1bGUiOiAiZXZlbm9kZCIsICJsaW5lQ2FwIjogInJvdW5kIiwgImxpbmVKb2luIjogInJvdW5kIiwgIm9wYWNpdHkiOiAxLjAsICJyYWRpdXMiOiAzNjg0LjAsICJzdHJva2UiOiB0cnVlLCAid2VpZ2h0IjogM30KICAgICAgICAgICAgKS5hZGRUbyhtYXBfYzk5MTliYzNhOGRiNDM4YmI0Yjk3M2U4ZTNjMTY1ZTMpOwogICAgICAgIAogICAgCiAgICAgICAgdmFyIHBvcHVwX2FjOTQzMjc0ZDgwZjQxNDJiODcwZGM1Mjk2ZjJhZTJlID0gTC5wb3B1cCh7Im1heFdpZHRoIjogIjEwMCUifSk7CgogICAgICAgIAogICAgICAgICAgICB2YXIgaHRtbF85MzFkYThjODFjOGE0YTJhOTQzYjljOWI4NGFhMDVkMSA9ICQoYDxkaXYgaWQ9Imh0bWxfOTMxZGE4YzgxYzhhNGEyYTk0M2I5YzliODRhYTA1ZDEiIHN0eWxlPSJ3aWR0aDogMTAwLjAlOyBoZWlnaHQ6IDEwMC4wJTsiPldlaXNlcjwvZGl2PmApWzBdOwogICAgICAgICAgICBwb3B1cF9hYzk0MzI3NGQ4MGY0MTQyYjg3MGRjNTI5NmYyYWUyZS5zZXRDb250ZW50KGh0bWxfOTMxZGE4YzgxYzhhNGEyYTk0M2I5YzliODRhYTA1ZDEpOwogICAgICAgIAoKICAgICAgICBjaXJjbGVfMjEyZWViNGRlOTgzNDAxMWI5NjNlMzY0YjEzNjdkYjAuYmluZFBvcHVwKHBvcHVwX2FjOTQzMjc0ZDgwZjQxNDJiODcwZGM1Mjk2ZjJhZTJlKQogICAgICAgIDsKCiAgICAgICAgCiAgICAKICAgIAogICAgICAgICAgICB2YXIgY2lyY2xlXzE5MTMwMjIxNDAyMDRlYjhiOGVmOTIxNjQ3YzhjODQ4ID0gTC5jaXJjbGUoCiAgICAgICAgICAgICAgICBbNDEuODc4MTEzNiwgLTg3LjYyOTc5ODIwMDAwMDAxXSwKICAgICAgICAgICAgICAgIHsiYnViYmxpbmdNb3VzZUV2ZW50cyI6IHRydWUsICJjb2xvciI6ICJibHVlIiwgImRhc2hBcnJheSI6IG51bGwsICJkYXNoT2Zmc2V0IjogbnVsbCwgImZpbGwiOiB0cnVlLCAiZmlsbENvbG9yIjogInJlZCIsICJmaWxsT3BhY2l0eSI6IDAuMiwgImZpbGxSdWxlIjogImV2ZW5vZGQiLCAibGluZUNhcCI6ICJyb3VuZCIsICJsaW5lSm9pbiI6ICJyb3VuZCIsICJvcGFjaXR5IjogMS4wLCAicmFkaXVzIjogMTM1NzA4LjAsICJzdHJva2UiOiB0cnVlLCAid2VpZ2h0IjogM30KICAgICAgICAgICAgKS5hZGRUbyhtYXBfYzk5MTliYzNhOGRiNDM4YmI0Yjk3M2U4ZTNjMTY1ZTMpOwogICAgICAgIAogICAgCiAgICAgICAgdmFyIHBvcHVwXzEwYTY2MWYyYzkyODQ1MDBiNWQ0MTdhNDlkZTQxOTdmID0gTC5wb3B1cCh7Im1heFdpZHRoIjogIjEwMCUifSk7CgogICAgICAgIAogICAgICAgICAgICB2YXIgaHRtbF9hZDNhNzA1MWZkNmE0MzZiOWNlOGNhZDhkZWE5N2ZmZCA9ICQoYDxkaXYgaWQ9Imh0bWxfYWQzYTcwNTFmZDZhNDM2YjljZThjYWQ4ZGVhOTdmZmQiIHN0eWxlPSJ3aWR0aDogMTAwLjAlOyBoZWlnaHQ6IDEwMC4wJTsiPkNoaWNhZ288L2Rpdj5gKVswXTsKICAgICAgICAgICAgcG9wdXBfMTBhNjYxZjJjOTI4NDUwMGI1ZDQxN2E0OWRlNDE5N2Yuc2V0Q29udGVudChodG1sX2FkM2E3MDUxZmQ2YTQzNmI5Y2U4Y2FkOGRlYTk3ZmZkKTsKICAgICAgICAKCiAgICAgICAgY2lyY2xlXzE5MTMwMjIxNDAyMDRlYjhiOGVmOTIxNjQ3YzhjODQ4LmJpbmRQb3B1cChwb3B1cF8xMGE2NjFmMmM5Mjg0NTAwYjVkNDE3YTQ5ZGU0MTk3ZikKICAgICAgICA7CgogICAgICAgIAogICAgCiAgICAKICAgICAgICAgICAgdmFyIGNpcmNsZV81NDJiMGZjYTA5ODQ0NGEzYjI0NmMzMDg4N2NhZjg5ZiA9IEwuY2lyY2xlKAogICAgICAgICAgICAgICAgWzQxLjU4NjgzNTMsIC05My42MjQ5NTkzXSwKICAgICAgICAgICAgICAgIHsiYnViYmxpbmdNb3VzZUV2ZW50cyI6IHRydWUsICJjb2xvciI6ICJibHVlIiwgImRhc2hBcnJheSI6IG51bGwsICJkYXNoT2Zmc2V0IjogbnVsbCwgImZpbGwiOiB0cnVlLCAiZmlsbENvbG9yIjogInJlZCIsICJmaWxsT3BhY2l0eSI6IDAuMiwgImZpbGxSdWxlIjogImV2ZW5vZGQiLCAibGluZUNhcCI6ICJyb3VuZCIsICJsaW5lSm9pbiI6ICJyb3VuZCIsICJvcGFjaXR5IjogMS4wLCAicmFkaXVzIjogNDUzNi4wLCAic3Ryb2tlIjogdHJ1ZSwgIndlaWdodCI6IDN9CiAgICAgICAgICAgICkuYWRkVG8obWFwX2M5OTE5YmMzYThkYjQzOGJiNGI5NzNlOGUzYzE2NWUzKTsKICAgICAgICAKICAgIAogICAgICAgIHZhciBwb3B1cF8zMTUzMjE2MTQyMDM0MDQ1YjQzMjViYTE1MmJmZDg3MyA9IEwucG9wdXAoeyJtYXhXaWR0aCI6ICIxMDAlIn0pOwoKICAgICAgICAKICAgICAgICAgICAgdmFyIGh0bWxfYzdkNWJmMjY1Y2FiNDgyY2IwNjkyMzI3MTYzMjI5MGEgPSAkKGA8ZGl2IGlkPSJodG1sX2M3ZDViZjI2NWNhYjQ4MmNiMDY5MjMyNzE2MzIyOTBhIiBzdHlsZT0id2lkdGg6IDEwMC4wJTsgaGVpZ2h0OiAxMDAuMCU7Ij5EZXMgTW9pbmVzPC9kaXY+YClbMF07CiAgICAgICAgICAgIHBvcHVwXzMxNTMyMTYxNDIwMzQwNDViNDMyNWJhMTUyYmZkODczLnNldENvbnRlbnQoaHRtbF9jN2Q1YmYyNjVjYWI0ODJjYjA2OTIzMjcxNjMyMjkwYSk7CiAgICAgICAgCgogICAgICAgIGNpcmNsZV81NDJiMGZjYTA5ODQ0NGEzYjI0NmMzMDg4N2NhZjg5Zi5iaW5kUG9wdXAocG9wdXBfMzE1MzIxNjE0MjAzNDA0NWI0MzI1YmExNTJiZmQ4NzMpCiAgICAgICAgOwoKICAgICAgICAKICAgIAogICAgCiAgICAgICAgICAgIHZhciBjaXJjbGVfZTc4YTViNDgzNDljNDQ3YThjMGE2YjA3NzY5YzhjMjMgPSBMLmNpcmNsZSgKICAgICAgICAgICAgICAgIFs0Mi4yODA4MjU2LCAtODMuNzQzMDM3OF0sCiAgICAgICAgICAgICAgICB7ImJ1YmJsaW5nTW91c2VFdmVudHMiOiB0cnVlLCAiY29sb3IiOiAiYmx1ZSIsICJkYXNoQXJyYXkiOiBudWxsLCAiZGFzaE9mZnNldCI6IG51bGwsICJmaWxsIjogdHJ1ZSwgImZpbGxDb2xvciI6ICJyZWQiLCAiZmlsbE9wYWNpdHkiOiAwLjIsICJmaWxsUnVsZSI6ICJldmVub2RkIiwgImxpbmVDYXAiOiAicm91bmQiLCAibGluZUpvaW4iOiAicm91bmQiLCAib3BhY2l0eSI6IDEuMCwgInJhZGl1cyI6IDY0MDguMCwgInN0cm9rZSI6IHRydWUsICJ3ZWlnaHQiOiAzfQogICAgICAgICAgICApLmFkZFRvKG1hcF9jOTkxOWJjM2E4ZGI0MzhiYjRiOTczZThlM2MxNjVlMyk7CiAgICAgICAgCiAgICAKICAgICAgICB2YXIgcG9wdXBfNjZiYTg4MDJlNzY0NDU0Mjk2YjJmYTAyYzgzNzQxNjAgPSBMLnBvcHVwKHsibWF4V2lkdGgiOiAiMTAwJSJ9KTsKCiAgICAgICAgCiAgICAgICAgICAgIHZhciBodG1sXzYyNzhmZjllM2EyNzQxYTg4YzViODc4MWM0NzU4ZGI2ID0gJChgPGRpdiBpZD0iaHRtbF82Mjc4ZmY5ZTNhMjc0MWE4OGM1Yjg3ODFjNDc1OGRiNiIgc3R5bGU9IndpZHRoOiAxMDAuMCU7IGhlaWdodDogMTAwLjAlOyI+QW5uIEFyYm9yPC9kaXY+YClbMF07CiAgICAgICAgICAgIHBvcHVwXzY2YmE4ODAyZTc2NDQ1NDI5NmIyZmEwMmM4Mzc0MTYwLnNldENvbnRlbnQoaHRtbF82Mjc4ZmY5ZTNhMjc0MWE4OGM1Yjg3ODFjNDc1OGRiNik7CiAgICAgICAgCgogICAgICAgIGNpcmNsZV9lNzhhNWI0ODM0OWM0NDdhOGMwYTZiMDc3NjljOGMyMy5iaW5kUG9wdXAocG9wdXBfNjZiYTg4MDJlNzY0NDU0Mjk2YjJmYTAyYzgzNzQxNjApCiAgICAgICAgOwoKICAgICAgICAKICAgIAogICAgCiAgICAgICAgICAgIHZhciBjaXJjbGVfYzA2NjI1ZDBjYzc5NDliYmFmMDFjN2Q1NGQ1MGRlNTIgPSBMLmNpcmNsZSgKICAgICAgICAgICAgICAgIFs0Mi4zMzE0MjcwMDAwMDAwMDUsIC04My4wNDU3NTM4XSwKICAgICAgICAgICAgICAgIHsiYnViYmxpbmdNb3VzZUV2ZW50cyI6IHRydWUsICJjb2xvciI6ICJibHVlIiwgImRhc2hBcnJheSI6IG51bGwsICJkYXNoT2Zmc2V0IjogbnVsbCwgImZpbGwiOiB0cnVlLCAiZmlsbENvbG9yIjogInJlZCIsICJmaWxsT3BhY2l0eSI6IDAuMiwgImZpbGxSdWxlIjogImV2ZW5vZGQiLCAibGluZUNhcCI6ICJyb3VuZCIsICJsaW5lSm9pbiI6ICJyb3VuZCIsICJvcGFjaXR5IjogMS4wLCAicmFkaXVzIjogMTk3ODguMCwgInN0cm9rZSI6IHRydWUsICJ3ZWlnaHQiOiAzfQogICAgICAgICAgICApLmFkZFRvKG1hcF9jOTkxOWJjM2E4ZGI0MzhiYjRiOTczZThlM2MxNjVlMyk7CiAgICAgICAgCiAgICAKICAgICAgICB2YXIgcG9wdXBfMWJhMWM1MGJlMGE3NGE3NzkwMjNiY2I2ZDBjZjVmNzggPSBMLnBvcHVwKHsibWF4V2lkdGgiOiAiMTAwJSJ9KTsKCiAgICAgICAgCiAgICAgICAgICAgIHZhciBodG1sXzY5ODc3ODQwZWJiOTQxN2E4ODg4ZDczNzBiMzY3ODU2ID0gJChgPGRpdiBpZD0iaHRtbF82OTg3Nzg0MGViYjk0MTdhODg4OGQ3MzcwYjM2Nzg1NiIgc3R5bGU9IndpZHRoOiAxMDAuMCU7IGhlaWdodDogMTAwLjAlOyI+RGV0cm9pdDwvZGl2PmApWzBdOwogICAgICAgICAgICBwb3B1cF8xYmExYzUwYmUwYTc0YTc3OTAyM2JjYjZkMGNmNWY3OC5zZXRDb250ZW50KGh0bWxfNjk4Nzc4NDBlYmI5NDE3YTg4ODhkNzM3MGIzNjc4NTYpOwogICAgICAgIAoKICAgICAgICBjaXJjbGVfYzA2NjI1ZDBjYzc5NDliYmFmMDFjN2Q1NGQ1MGRlNTIuYmluZFBvcHVwKHBvcHVwXzFiYTFjNTBiZTBhNzRhNzc5MDIzYmNiNmQwY2Y1Zjc4KQogICAgICAgIDsKCiAgICAgICAgCiAgICAKICAgIAogICAgICAgICAgICB2YXIgY2lyY2xlXzJhYTcwOTc0NjQ1YTQ5OTc4YTRiMDU4ZjY4NzdlNDQyID0gTC5jaXJjbGUoCiAgICAgICAgICAgICAgICBbNDQuOTc3NzUzLCAtOTMuMjY1MDEwOF0sCiAgICAgICAgICAgICAgICB7ImJ1YmJsaW5nTW91c2VFdmVudHMiOiB0cnVlLCAiY29sb3IiOiAiYmx1ZSIsICJkYXNoQXJyYXkiOiBudWxsLCAiZGFzaE9mZnNldCI6IG51bGwsICJmaWxsIjogdHJ1ZSwgImZpbGxDb2xvciI6ICJyZWQiLCAiZmlsbE9wYWNpdHkiOiAwLjIsICJmaWxsUnVsZSI6ICJldmVub2RkIiwgImxpbmVDYXAiOiAicm91bmQiLCAibGluZUpvaW4iOiAicm91bmQiLCAib3BhY2l0eSI6IDEuMCwgInJhZGl1cyI6IDE2MjQ4LjAsICJzdHJva2UiOiB0cnVlLCAid2VpZ2h0IjogM30KICAgICAgICAgICAgKS5hZGRUbyhtYXBfYzk5MTliYzNhOGRiNDM4YmI0Yjk3M2U4ZTNjMTY1ZTMpOwogICAgICAgIAogICAgCiAgICAgICAgdmFyIHBvcHVwX2Y2NTM5OGIzZTA2ZTQwMDJhNDA3Y2Y5MTZhZjRiOWVmID0gTC5wb3B1cCh7Im1heFdpZHRoIjogIjEwMCUifSk7CgogICAgICAgIAogICAgICAgICAgICB2YXIgaHRtbF85NmVlMThmNmEyMzU0ODk5YTYxMDA5YjA5YWRmMDA4YyA9ICQoYDxkaXYgaWQ9Imh0bWxfOTZlZTE4ZjZhMjM1NDg5OWE2MTAwOWIwOWFkZjAwOGMiIHN0eWxlPSJ3aWR0aDogMTAwLjAlOyBoZWlnaHQ6IDEwMC4wJTsiPk1pbm5lYXBvbGlzPC9kaXY+YClbMF07CiAgICAgICAgICAgIHBvcHVwX2Y2NTM5OGIzZTA2ZTQwMDJhNDA3Y2Y5MTZhZjRiOWVmLnNldENvbnRlbnQoaHRtbF85NmVlMThmNmEyMzU0ODk5YTYxMDA5YjA5YWRmMDA4Yyk7CiAgICAgICAgCgogICAgICAgIGNpcmNsZV8yYWE3MDk3NDY0NWE0OTk3OGE0YjA1OGY2ODc3ZTQ0Mi5iaW5kUG9wdXAocG9wdXBfZjY1Mzk4YjNlMDZlNDAwMmE0MDdjZjkxNmFmNGI5ZWYpCiAgICAgICAgOwoKICAgICAgICAKICAgIAogICAgCiAgICAgICAgICAgIHZhciBjaXJjbGVfODZiMmYxMDE3ZDUwNDA1Nzk2NDJlYmE4OWQ3YjI2ZDQgPSBMLmNpcmNsZSgKICAgICAgICAgICAgICAgIFs0NC45NTM3MDI4OTk5OTk5OTYsIC05My4wODk5NTc4XSwKICAgICAgICAgICAgICAgIHsiYnViYmxpbmdNb3VzZUV2ZW50cyI6IHRydWUsICJjb2xvciI6ICJibHVlIiwgImRhc2hBcnJheSI6IG51bGwsICJkYXNoT2Zmc2V0IjogbnVsbCwgImZpbGwiOiB0cnVlLCAiZmlsbENvbG9yIjogInJlZCIsICJmaWxsT3BhY2l0eSI6IDAuMiwgImZpbGxSdWxlIjogImV2ZW5vZGQiLCAibGluZUNhcCI6ICJyb3VuZCIsICJsaW5lSm9pbiI6ICJyb3VuZCIsICJvcGFjaXR5IjogMS4wLCAicmFkaXVzIjogMzM4NC4wLCAic3Ryb2tlIjogdHJ1ZSwgIndlaWdodCI6IDN9CiAgICAgICAgICAgICkuYWRkVG8obWFwX2M5OTE5YmMzYThkYjQzOGJiNGI5NzNlOGUzYzE2NWUzKTsKICAgICAgICAKICAgIAogICAgICAgIHZhciBwb3B1cF8yZjUzYWE2NDY3MzQ0NzlhYTQ3ZmNhNjRlYzhjZjcxYyA9IEwucG9wdXAoeyJtYXhXaWR0aCI6ICIxMDAlIn0pOwoKICAgICAgICAKICAgICAgICAgICAgdmFyIGh0bWxfNGNjYjc2YWRlNjRlNDhjN2JjMzBiN2Q5NjVjMWE2YTEgPSAkKGA8ZGl2IGlkPSJodG1sXzRjY2I3NmFkZTY0ZTQ4YzdiYzMwYjdkOTY1YzFhNmExIiBzdHlsZT0id2lkdGg6IDEwMC4wJTsgaGVpZ2h0OiAxMDAuMCU7Ij5TdC4gUGF1bDwvZGl2PmApWzBdOwogICAgICAgICAgICBwb3B1cF8yZjUzYWE2NDY3MzQ0NzlhYTQ3ZmNhNjRlYzhjZjcxYy5zZXRDb250ZW50KGh0bWxfNGNjYjc2YWRlNjRlNDhjN2JjMzBiN2Q5NjVjMWE2YTEpOwogICAgICAgIAoKICAgICAgICBjaXJjbGVfODZiMmYxMDE3ZDUwNDA1Nzk2NDJlYmE4OWQ3YjI2ZDQuYmluZFBvcHVwKHBvcHVwXzJmNTNhYTY0NjczNDQ3OWFhNDdmY2E2NGVjOGNmNzFjKQogICAgICAgIDsKCiAgICAgICAgCiAgICAKICAgIAogICAgICAgICAgICB2YXIgY2lyY2xlXzA0NjMwMTlmNWEyOTQ4NTE5YWYwZGM1MjNjNzg5MDNlID0gTC5jaXJjbGUoCiAgICAgICAgICAgICAgICBbMzkuMDk5NzI2NSwgLTk0LjU3ODU2NjddLAogICAgICAgICAgICAgICAgeyJidWJibGluZ01vdXNlRXZlbnRzIjogdHJ1ZSwgImNvbG9yIjogImJsdWUiLCAiZGFzaEFycmF5IjogbnVsbCwgImRhc2hPZmZzZXQiOiBudWxsLCAiZmlsbCI6IHRydWUsICJmaWxsQ29sb3IiOiAicmVkIiwgImZpbGxPcGFjaXR5IjogMC4yLCAiZmlsbFJ1bGUiOiAiZXZlbm9kZCIsICJsaW5lQ2FwIjogInJvdW5kIiwgImxpbmVKb2luIjogInJvdW5kIiwgIm9wYWNpdHkiOiAxLjAsICJyYWRpdXMiOiA0MTUyLjAsICJzdHJva2UiOiB0cnVlLCAid2VpZ2h0IjogM30KICAgICAgICAgICAgKS5hZGRUbyhtYXBfYzk5MTliYzNhOGRiNDM4YmI0Yjk3M2U4ZTNjMTY1ZTMpOwogICAgICAgIAogICAgCiAgICAgICAgdmFyIHBvcHVwXzljNDZmZmYyMjk3ODRiNzQ4ZTY5YTJjMDI3ODY1MzFiID0gTC5wb3B1cCh7Im1heFdpZHRoIjogIjEwMCUifSk7CgogICAgICAgIAogICAgICAgICAgICB2YXIgaHRtbF9kNDNjZmQxNGIwYjU0MmUwYjllYmExMjMxYjdlNzUxOSA9ICQoYDxkaXYgaWQ9Imh0bWxfZDQzY2ZkMTRiMGI1NDJlMGI5ZWJhMTIzMWI3ZTc1MTkiIHN0eWxlPSJ3aWR0aDogMTAwLjAlOyBoZWlnaHQ6IDEwMC4wJTsiPkthbnNhcyBDaXR5PC9kaXY+YClbMF07CiAgICAgICAgICAgIHBvcHVwXzljNDZmZmYyMjk3ODRiNzQ4ZTY5YTJjMDI3ODY1MzFiLnNldENvbnRlbnQoaHRtbF9kNDNjZmQxNGIwYjU0MmUwYjllYmExMjMxYjdlNzUxOSk7CiAgICAgICAgCgogICAgICAgIGNpcmNsZV8wNDYzMDE5ZjVhMjk0ODUxOWFmMGRjNTIzYzc4OTAzZS5iaW5kUG9wdXAocG9wdXBfOWM0NmZmZjIyOTc4NGI3NDhlNjlhMmMwMjc4NjUzMWIpCiAgICAgICAgOwoKICAgICAgICAKICAgIAogICAgCiAgICAgICAgICAgIHZhciBjaXJjbGVfYjM0NGFlZDkwOGVjNDVkMTlhN2IxYjBkNWJmOGUyZTggPSBMLmNpcmNsZSgKICAgICAgICAgICAgICAgIFszOC42MjcwMDI1LCAtOTAuMTk5NDA0Ml0sCiAgICAgICAgICAgICAgICB7ImJ1YmJsaW5nTW91c2VFdmVudHMiOiB0cnVlLCAiY29sb3IiOiAiYmx1ZSIsICJkYXNoQXJyYXkiOiBudWxsLCAiZGFzaE9mZnNldCI6IG51bGwsICJmaWxsIjogdHJ1ZSwgImZpbGxDb2xvciI6ICJyZWQiLCAiZmlsbE9wYWNpdHkiOiAwLjIsICJmaWxsUnVsZSI6ICJldmVub2RkIiwgImxpbmVDYXAiOiAicm91bmQiLCAibGluZUpvaW4iOiAicm91bmQiLCAib3BhY2l0eSI6IDEuMCwgInJhZGl1cyI6IDU2MjguMCwgInN0cm9rZSI6IHRydWUsICJ3ZWlnaHQiOiAzfQogICAgICAgICAgICApLmFkZFRvKG1hcF9jOTkxOWJjM2E4ZGI0MzhiYjRiOTczZThlM2MxNjVlMyk7CiAgICAgICAgCiAgICAKICAgICAgICB2YXIgcG9wdXBfYzFiMGVjMjAzNjUyNDM4MWE2NzUxMGZjNTI4ZTY3NmMgPSBMLnBvcHVwKHsibWF4V2lkdGgiOiAiMTAwJSJ9KTsKCiAgICAgICAgCiAgICAgICAgICAgIHZhciBodG1sXzE2YjA4MzhjOGU3NDRkNzE5MTJhMDlkZGIzZWFmMjFiID0gJChgPGRpdiBpZD0iaHRtbF8xNmIwODM4YzhlNzQ0ZDcxOTEyYTA5ZGRiM2VhZjIxYiIgc3R5bGU9IndpZHRoOiAxMDAuMCU7IGhlaWdodDogMTAwLjAlOyI+U3QuIExvdWlzPC9kaXY+YClbMF07CiAgICAgICAgICAgIHBvcHVwX2MxYjBlYzIwMzY1MjQzODFhNjc1MTBmYzUyOGU2NzZjLnNldENvbnRlbnQoaHRtbF8xNmIwODM4YzhlNzQ0ZDcxOTEyYTA5ZGRiM2VhZjIxYik7CiAgICAgICAgCgogICAgICAgIGNpcmNsZV9iMzQ0YWVkOTA4ZWM0NWQxOWE3YjFiMGQ1YmY4ZTJlOC5iaW5kUG9wdXAocG9wdXBfYzFiMGVjMjAzNjUyNDM4MWE2NzUxMGZjNTI4ZTY3NmMpCiAgICAgICAgOwoKICAgICAgICAKICAgIAogICAgCiAgICAgICAgICAgIHZhciBjaXJjbGVfY2Y3NTBiMjBlOTMwNGU4ZGI4ZmMyNGViMWNkYjk0YzAgPSBMLmNpcmNsZSgKICAgICAgICAgICAgICAgIFs0MS4yNTY1MzY5LCAtOTUuOTM0NTAzNDAwMDAwMDFdLAogICAgICAgICAgICAgICAgeyJidWJibGluZ01vdXNlRXZlbnRzIjogdHJ1ZSwgImNvbG9yIjogImJsdWUiLCAiZGFzaEFycmF5IjogbnVsbCwgImRhc2hPZmZzZXQiOiBudWxsLCAiZmlsbCI6IHRydWUsICJmaWxsQ29sb3IiOiAicmVkIiwgImZpbGxPcGFjaXR5IjogMC4yLCAiZmlsbFJ1bGUiOiAiZXZlbm9kZCIsICJsaW5lQ2FwIjogInJvdW5kIiwgImxpbmVKb2luIjogInJvdW5kIiwgIm9wYWNpdHkiOiAxLjAsICJyYWRpdXMiOiAyNjUyLjAsICJzdHJva2UiOiB0cnVlLCAid2VpZ2h0IjogM30KICAgICAgICAgICAgKS5hZGRUbyhtYXBfYzk5MTliYzNhOGRiNDM4YmI0Yjk3M2U4ZTNjMTY1ZTMpOwogICAgICAgIAogICAgCiAgICAgICAgdmFyIHBvcHVwXzE0NmY0ZTNlNjRjNzQ4NDVhMTE1YjI1MWUwOTMwMWZkID0gTC5wb3B1cCh7Im1heFdpZHRoIjogIjEwMCUifSk7CgogICAgICAgIAogICAgICAgICAgICB2YXIgaHRtbF83OTdhNDI2YTgzZGM0NjExYjlmZDFhNzZkZjk4NDE4ZSA9ICQoYDxkaXYgaWQ9Imh0bWxfNzk3YTQyNmE4M2RjNDYxMWI5ZmQxYTc2ZGY5ODQxOGUiIHN0eWxlPSJ3aWR0aDogMTAwLjAlOyBoZWlnaHQ6IDEwMC4wJTsiPk9tYWhhPC9kaXY+YClbMF07CiAgICAgICAgICAgIHBvcHVwXzE0NmY0ZTNlNjRjNzQ4NDVhMTE1YjI1MWUwOTMwMWZkLnNldENvbnRlbnQoaHRtbF83OTdhNDI2YTgzZGM0NjExYjlmZDFhNzZkZjk4NDE4ZSk7CiAgICAgICAgCgogICAgICAgIGNpcmNsZV9jZjc1MGIyMGU5MzA0ZThkYjhmYzI0ZWIxY2RiOTRjMC5iaW5kUG9wdXAocG9wdXBfMTQ2ZjRlM2U2NGM3NDg0NWExMTViMjUxZTA5MzAxZmQpCiAgICAgICAgOwoKICAgICAgICAKICAgIAogICAgCiAgICAgICAgICAgIHZhciBjaXJjbGVfOWIxMGJhZjAzMjU0NDE5MmE3ZTRiNTQwMjJmMDBhMTAgPSBMLmNpcmNsZSgKICAgICAgICAgICAgICAgIFszOS40MjczMzcsIC03NS4yMzQwNzY4XSwKICAgICAgICAgICAgICAgIHsiYnViYmxpbmdNb3VzZUV2ZW50cyI6IHRydWUsICJjb2xvciI6ICJibHVlIiwgImRhc2hBcnJheSI6IG51bGwsICJkYXNoT2Zmc2V0IjogbnVsbCwgImZpbGwiOiB0cnVlLCAiZmlsbENvbG9yIjogInJlZCIsICJmaWxsT3BhY2l0eSI6IDAuMiwgImZpbGxSdWxlIjogImV2ZW5vZGQiLCAibGluZUNhcCI6ICJyb3VuZCIsICJsaW5lSm9pbiI6ICJyb3VuZCIsICJvcGFjaXR5IjogMS4wLCAicmFkaXVzIjogMjM2NDAuMCwgInN0cm9rZSI6IHRydWUsICJ3ZWlnaHQiOiAzfQogICAgICAgICAgICApLmFkZFRvKG1hcF9jOTkxOWJjM2E4ZGI0MzhiYjRiOTczZThlM2MxNjVlMyk7CiAgICAgICAgCiAgICAKICAgICAgICB2YXIgcG9wdXBfMWUzYjlhZjE4ZDY4NDBkYWIwZWVjZGJmZjcyODg4MjEgPSBMLnBvcHVwKHsibWF4V2lkdGgiOiAiMTAwJSJ9KTsKCiAgICAgICAgCiAgICAgICAgICAgIHZhciBodG1sXzI3MWRhYzY0MWY2MTQxNDRhMjJlYzU0ZjE2MDlkZThjID0gJChgPGRpdiBpZD0iaHRtbF8yNzFkYWM2NDFmNjE0MTQ0YTIyZWM1NGYxNjA5ZGU4YyIgc3R5bGU9IndpZHRoOiAxMDAuMCU7IGhlaWdodDogMTAwLjAlOyI+QnJpZGdldG9uPC9kaXY+YClbMF07CiAgICAgICAgICAgIHBvcHVwXzFlM2I5YWYxOGQ2ODQwZGFiMGVlY2RiZmY3Mjg4ODIxLnNldENvbnRlbnQoaHRtbF8yNzFkYWM2NDFmNjE0MTQ0YTIyZWM1NGYxNjA5ZGU4Yyk7CiAgICAgICAgCgogICAgICAgIGNpcmNsZV85YjEwYmFmMDMyNTQ0MTkyYTdlNGI1NDAyMmYwMGExMC5iaW5kUG9wdXAocG9wdXBfMWUzYjlhZjE4ZDY4NDBkYWIwZWVjZGJmZjcyODg4MjEpCiAgICAgICAgOwoKICAgICAgICAKICAgIAogICAgCiAgICAgICAgICAgIHZhciBjaXJjbGVfODk2NDU3OTNlZDNmNDAzMDkwNzVhMWRlMmM1OTY3OTkgPSBMLmNpcmNsZSgKICAgICAgICAgICAgICAgIFs0MC43MTI3NzUzLCAtNzQuMDA1OTcyOF0sCiAgICAgICAgICAgICAgICB7ImJ1YmJsaW5nTW91c2VFdmVudHMiOiB0cnVlLCAiY29sb3IiOiAiYmx1ZSIsICJkYXNoQXJyYXkiOiBudWxsLCAiZGFzaE9mZnNldCI6IG51bGwsICJmaWxsIjogdHJ1ZSwgImZpbGxDb2xvciI6ICJyZWQiLCAiZmlsbE9wYWNpdHkiOiAwLjIsICJmaWxsUnVsZSI6ICJldmVub2RkIiwgImxpbmVDYXAiOiAicm91bmQiLCAibGluZUpvaW4iOiAicm91bmQiLCAib3BhY2l0eSI6IDEuMCwgInJhZGl1cyI6IDI0NDMyLjAsICJzdHJva2UiOiB0cnVlLCAid2VpZ2h0IjogM30KICAgICAgICAgICAgKS5hZGRUbyhtYXBfYzk5MTliYzNhOGRiNDM4YmI0Yjk3M2U4ZTNjMTY1ZTMpOwogICAgICAgIAogICAgCiAgICAgICAgdmFyIHBvcHVwXzY4NGYzYzFhMDFiYTRjYzFhMTgwMGUwN2I0ZGI3NmQ3ID0gTC5wb3B1cCh7Im1heFdpZHRoIjogIjEwMCUifSk7CgogICAgICAgIAogICAgICAgICAgICB2YXIgaHRtbF9lOTIyNzE1NTk2ZDU0N2YxOTk1NDViY2NmMzNkNjRhNCA9ICQoYDxkaXYgaWQ9Imh0bWxfZTkyMjcxNTU5NmQ1NDdmMTk5NTQ1YmNjZjMzZDY0YTQiIHN0eWxlPSJ3aWR0aDogMTAwLjAlOyBoZWlnaHQ6IDEwMC4wJTsiPk5ldyBZb3JrPC9kaXY+YClbMF07CiAgICAgICAgICAgIHBvcHVwXzY4NGYzYzFhMDFiYTRjYzFhMTgwMGUwN2I0ZGI3NmQ3LnNldENvbnRlbnQoaHRtbF9lOTIyNzE1NTk2ZDU0N2YxOTk1NDViY2NmMzNkNjRhNCk7CiAgICAgICAgCgogICAgICAgIGNpcmNsZV84OTY0NTc5M2VkM2Y0MDMwOTA3NWExZGUyYzU5Njc5OS5iaW5kUG9wdXAocG9wdXBfNjg0ZjNjMWEwMWJhNGNjMWExODAwZTA3YjRkYjc2ZDcpCiAgICAgICAgOwoKICAgICAgICAKICAgIAogICAgCiAgICAgICAgICAgIHZhciBjaXJjbGVfNDZiOWNmMjhhODhiNDE4NjhiMTgwZjU5YWIyZTQ4ZDYgPSBMLmNpcmNsZSgKICAgICAgICAgICAgICAgIFszOS4xMDMxMTgyMDAwMDAwMDQsIC04NC41MTIwMTk2XSwKICAgICAgICAgICAgICAgIHsiYnViYmxpbmdNb3VzZUV2ZW50cyI6IHRydWUsICJjb2xvciI6ICJibHVlIiwgImRhc2hBcnJheSI6IG51bGwsICJkYXNoT2Zmc2V0IjogbnVsbCwgImZpbGwiOiB0cnVlLCAiZmlsbENvbG9yIjogInJlZCIsICJmaWxsT3BhY2l0eSI6IDAuMiwgImZpbGxSdWxlIjogImV2ZW5vZGQiLCAibGluZUNhcCI6ICJyb3VuZCIsICJsaW5lSm9pbiI6ICJyb3VuZCIsICJvcGFjaXR5IjogMS4wLCAicmFkaXVzIjogNzM5Mi4wLCAic3Ryb2tlIjogdHJ1ZSwgIndlaWdodCI6IDN9CiAgICAgICAgICAgICkuYWRkVG8obWFwX2M5OTE5YmMzYThkYjQzOGJiNGI5NzNlOGUzYzE2NWUzKTsKICAgICAgICAKICAgIAogICAgICAgIHZhciBwb3B1cF83MTcyNTBlMTU3Mjk0ZGFmOTJjNzkxNjdhMTkxNTBlNSA9IEwucG9wdXAoeyJtYXhXaWR0aCI6ICIxMDAlIn0pOwoKICAgICAgICAKICAgICAgICAgICAgdmFyIGh0bWxfZjZlYTU2MWZhNGUwNGQ5ZWI3MTdhZmIwMDdhMTJjMzYgPSAkKGA8ZGl2IGlkPSJodG1sX2Y2ZWE1NjFmYTRlMDRkOWViNzE3YWZiMDA3YTEyYzM2IiBzdHlsZT0id2lkdGg6IDEwMC4wJTsgaGVpZ2h0OiAxMDAuMCU7Ij5DaW5jaW5uYXRpPC9kaXY+YClbMF07CiAgICAgICAgICAgIHBvcHVwXzcxNzI1MGUxNTcyOTRkYWY5MmM3OTE2N2ExOTE1MGU1LnNldENvbnRlbnQoaHRtbF9mNmVhNTYxZmE0ZTA0ZDllYjcxN2FmYjAwN2ExMmMzNik7CiAgICAgICAgCgogICAgICAgIGNpcmNsZV80NmI5Y2YyOGE4OGI0MTg2OGIxODBmNTlhYjJlNDhkNi5iaW5kUG9wdXAocG9wdXBfNzE3MjUwZTE1NzI5NGRhZjkyYzc5MTY3YTE5MTUwZTUpCiAgICAgICAgOwoKICAgICAgICAKICAgIAogICAgCiAgICAgICAgICAgIHZhciBjaXJjbGVfZDcwMWNmODlmYzNjNDdlNDlmMzFmNTM2ZTBkZDA4NjMgPSBMLmNpcmNsZSgKICAgICAgICAgICAgICAgIFs0MS40OTkzMjAwMDAwMDAwMDQsIC04MS42OTQzNjA1XSwKICAgICAgICAgICAgICAgIHsiYnViYmxpbmdNb3VzZUV2ZW50cyI6IHRydWUsICJjb2xvciI6ICJibHVlIiwgImRhc2hBcnJheSI6IG51bGwsICJkYXNoT2Zmc2V0IjogbnVsbCwgImZpbGwiOiB0cnVlLCAiZmlsbENvbG9yIjogInJlZCIsICJmaWxsT3BhY2l0eSI6IDAuMiwgImZpbGxSdWxlIjogImV2ZW5vZGQiLCAibGluZUNhcCI6ICJyb3VuZCIsICJsaW5lSm9pbiI6ICJyb3VuZCIsICJvcGFjaXR5IjogMS4wLCAicmFkaXVzIjogMzcwNjguMCwgInN0cm9rZSI6IHRydWUsICJ3ZWlnaHQiOiAzfQogICAgICAgICAgICApLmFkZFRvKG1hcF9jOTkxOWJjM2E4ZGI0MzhiYjRiOTczZThlM2MxNjVlMyk7CiAgICAgICAgCiAgICAKICAgICAgICB2YXIgcG9wdXBfNzkzMzAyNWRiMDE1NGRiMmE2NTBlMDY5OWRiMmI4MmYgPSBMLnBvcHVwKHsibWF4V2lkdGgiOiAiMTAwJSJ9KTsKCiAgICAgICAgCiAgICAgICAgICAgIHZhciBodG1sXzFmZTA2MmRmYTA5MTQ3ZmJhZGU3NGFmZjcxY2QwNzk3ID0gJChgPGRpdiBpZD0iaHRtbF8xZmUwNjJkZmEwOTE0N2ZiYWRlNzRhZmY3MWNkMDc5NyIgc3R5bGU9IndpZHRoOiAxMDAuMCU7IGhlaWdodDogMTAwLjAlOyI+Q2xldmVsYW5kPC9kaXY+YClbMF07CiAgICAgICAgICAgIHBvcHVwXzc5MzMwMjVkYjAxNTRkYjJhNjUwZTA2OTlkYjJiODJmLnNldENvbnRlbnQoaHRtbF8xZmUwNjJkZmEwOTE0N2ZiYWRlNzRhZmY3MWNkMDc5Nyk7CiAgICAgICAgCgogICAgICAgIGNpcmNsZV9kNzAxY2Y4OWZjM2M0N2U0OWYzMWY1MzZlMGRkMDg2My5iaW5kUG9wdXAocG9wdXBfNzkzMzAyNWRiMDE1NGRiMmE2NTBlMDY5OWRiMmI4MmYpCiAgICAgICAgOwoKICAgICAgICAKICAgIAogICAgCiAgICAgICAgICAgIHZhciBjaXJjbGVfY2JlZTc0M2JhZGNhNDJmYzk2YzY2ZGU4ODI3NmU2MDYgPSBMLmNpcmNsZSgKICAgICAgICAgICAgICAgIFs0My44NzY4Mjg5LCAtMTE2Ljk5NDg4MDRdLAogICAgICAgICAgICAgICAgeyJidWJibGluZ01vdXNlRXZlbnRzIjogdHJ1ZSwgImNvbG9yIjogImJsdWUiLCAiZGFzaEFycmF5IjogbnVsbCwgImRhc2hPZmZzZXQiOiBudWxsLCAiZmlsbCI6IHRydWUsICJmaWxsQ29sb3IiOiAicmVkIiwgImZpbGxPcGFjaXR5IjogMC4yLCAiZmlsbFJ1bGUiOiAiZXZlbm9kZCIsICJsaW5lQ2FwIjogInJvdW5kIiwgImxpbmVKb2luIjogInJvdW5kIiwgIm9wYWNpdHkiOiAxLjAsICJyYWRpdXMiOiAzNzkyLjAsICJzdHJva2UiOiB0cnVlLCAid2VpZ2h0IjogM30KICAgICAgICAgICAgKS5hZGRUbyhtYXBfYzk5MTliYzNhOGRiNDM4YmI0Yjk3M2U4ZTNjMTY1ZTMpOwogICAgICAgIAogICAgCiAgICAgICAgdmFyIHBvcHVwX2IwYzQ1NmE2M2JhNzRmY2I4YjE3NDMyOTY3NzcyN2E3ID0gTC5wb3B1cCh7Im1heFdpZHRoIjogIjEwMCUifSk7CgogICAgICAgIAogICAgICAgICAgICB2YXIgaHRtbF83MGU0MTdjYTcyNGQ0MjgxYWM2NzZkZmE2MTZmMzY0NiA9ICQoYDxkaXYgaWQ9Imh0bWxfNzBlNDE3Y2E3MjRkNDI4MWFjNjc2ZGZhNjE2ZjM2NDYiIHN0eWxlPSJ3aWR0aDogMTAwLjAlOyBoZWlnaHQ6IDEwMC4wJTsiPk55c3NhPC9kaXY+YClbMF07CiAgICAgICAgICAgIHBvcHVwX2IwYzQ1NmE2M2JhNzRmY2I4YjE3NDMyOTY3NzcyN2E3LnNldENvbnRlbnQoaHRtbF83MGU0MTdjYTcyNGQ0MjgxYWM2NzZkZmE2MTZmMzY0Nik7CiAgICAgICAgCgogICAgICAgIGNpcmNsZV9jYmVlNzQzYmFkY2E0MmZjOTZjNjZkZTg4Mjc2ZTYwNi5iaW5kUG9wdXAocG9wdXBfYjBjNDU2YTYzYmE3NGZjYjhiMTc0MzI5Njc3NzI3YTcpCiAgICAgICAgOwoKICAgICAgICAKICAgIAogICAgCiAgICAgICAgICAgIHZhciBjaXJjbGVfNmRhYjhhYTExMWZkNDY4ZWExYzU5M2Y4Mjc1N2Y1NmIgPSBMLmNpcmNsZSgKICAgICAgICAgICAgICAgIFs1MS4yNTM3NzUsIC04NS4zMjMyMTQwMDAwMDAwMV0sCiAgICAgICAgICAgICAgICB7ImJ1YmJsaW5nTW91c2VFdmVudHMiOiB0cnVlLCAiY29sb3IiOiAiYmx1ZSIsICJkYXNoQXJyYXkiOiBudWxsLCAiZGFzaE9mZnNldCI6IG51bGwsICJmaWxsIjogdHJ1ZSwgImZpbGxDb2xvciI6ICJyZWQiLCAiZmlsbE9wYWNpdHkiOiAwLjIsICJmaWxsUnVsZSI6ICJldmVub2RkIiwgImxpbmVDYXAiOiAicm91bmQiLCAibGluZUpvaW4iOiAicm91bmQiLCAib3BhY2l0eSI6IDEuMCwgInJhZGl1cyI6IDY3OTIuMCwgInN0cm9rZSI6IHRydWUsICJ3ZWlnaHQiOiAzfQogICAgICAgICAgICApLmFkZFRvKG1hcF9jOTkxOWJjM2E4ZGI0MzhiYjRiOTczZThlM2MxNjVlMyk7CiAgICAgICAgCiAgICAKICAgICAgICB2YXIgcG9wdXBfNTI1NjVlMjQ5ZDc1NGJhNWE0NmNlZDM4OTExZGMxNGIgPSBMLnBvcHVwKHsibWF4V2lkdGgiOiAiMTAwJSJ9KTsKCiAgICAgICAgCiAgICAgICAgICAgIHZhciBodG1sX2ZkY2JhMWYxMmYxNzQxMmFhMDdiOGZhMjY4MWI2ZGFjID0gJChgPGRpdiBpZD0iaHRtbF9mZGNiYTFmMTJmMTc0MTJhYTA3YjhmYTI2ODFiNmRhYyIgc3R5bGU9IndpZHRoOiAxMDAuMCU7IGhlaWdodDogMTAwLjAlOyI+T250YXJpbzwvZGl2PmApWzBdOwogICAgICAgICAgICBwb3B1cF81MjU2NWUyNDlkNzU0YmE1YTQ2Y2VkMzg5MTFkYzE0Yi5zZXRDb250ZW50KGh0bWxfZmRjYmExZjEyZjE3NDEyYWEwN2I4ZmEyNjgxYjZkYWMpOwogICAgICAgIAoKICAgICAgICBjaXJjbGVfNmRhYjhhYTExMWZkNDY4ZWExYzU5M2Y4Mjc1N2Y1NmIuYmluZFBvcHVwKHBvcHVwXzUyNTY1ZTI0OWQ3NTRiYTVhNDZjZWQzODkxMWRjMTRiKQogICAgICAgIDsKCiAgICAgICAgCiAgICAKICAgIAogICAgICAgICAgICB2YXIgY2lyY2xlX2FkZDU0YTkyNDZhYTRhMzJhMjllOWQzYjU1ZmIzODIyID0gTC5jaXJjbGUoCiAgICAgICAgICAgICAgICBbNDUuNTA1MTA2NCwgLTEyMi42NzUwMjYxXSwKICAgICAgICAgICAgICAgIHsiYnViYmxpbmdNb3VzZUV2ZW50cyI6IHRydWUsICJjb2xvciI6ICJibHVlIiwgImRhc2hBcnJheSI6IG51bGwsICJkYXNoT2Zmc2V0IjogbnVsbCwgImZpbGwiOiB0cnVlLCAiZmlsbENvbG9yIjogInJlZCIsICJmaWxsT3BhY2l0eSI6IDAuMiwgImZpbGxSdWxlIjogImV2ZW5vZGQiLCAibGluZUNhcCI6ICJyb3VuZCIsICJsaW5lSm9pbiI6ICJyb3VuZCIsICJvcGFjaXR5IjogMS4wLCAicmFkaXVzIjogMTAzMDguMCwgInN0cm9rZSI6IHRydWUsICJ3ZWlnaHQiOiAzfQogICAgICAgICAgICApLmFkZFRvKG1hcF9jOTkxOWJjM2E4ZGI0MzhiYjRiOTczZThlM2MxNjVlMyk7CiAgICAgICAgCiAgICAKICAgICAgICB2YXIgcG9wdXBfNTgwYjgyY2ZhZjVlNDg2NTg2NjkzOWVkYzkzNDYyNGEgPSBMLnBvcHVwKHsibWF4V2lkdGgiOiAiMTAwJSJ9KTsKCiAgICAgICAgCiAgICAgICAgICAgIHZhciBodG1sXzQ5MGRmODZlMGZhMTQyMjA4OTQ4MDYxNmFjNjI4NGY5ID0gJChgPGRpdiBpZD0iaHRtbF80OTBkZjg2ZTBmYTE0MjIwODk0ODA2MTZhYzYyODRmOSIgc3R5bGU9IndpZHRoOiAxMDAuMCU7IGhlaWdodDogMTAwLjAlOyI+UG9ydGxhbmQ8L2Rpdj5gKVswXTsKICAgICAgICAgICAgcG9wdXBfNTgwYjgyY2ZhZjVlNDg2NTg2NjkzOWVkYzkzNDYyNGEuc2V0Q29udGVudChodG1sXzQ5MGRmODZlMGZhMTQyMjA4OTQ4MDYxNmFjNjI4NGY5KTsKICAgICAgICAKCiAgICAgICAgY2lyY2xlX2FkZDU0YTkyNDZhYTRhMzJhMjllOWQzYjU1ZmIzODIyLmJpbmRQb3B1cChwb3B1cF81ODBiODJjZmFmNWU0ODY1ODY2OTM5ZWRjOTM0NjI0YSkKICAgICAgICA7CgogICAgICAgIAogICAgCiAgICAKICAgICAgICAgICAgdmFyIGNpcmNsZV80NDM1ODhmZDgwMzk0MDkzYTUwZDAzNmY1OTM0NDcyMSA9IEwuY2lyY2xlKAogICAgICAgICAgICAgICAgWzM3LjEwNTU5ODQsIC05Ni41MDA1Nzc2XSwKICAgICAgICAgICAgICAgIHsiYnViYmxpbmdNb3VzZUV2ZW50cyI6IHRydWUsICJjb2xvciI6ICJibHVlIiwgImRhc2hBcnJheSI6IG51bGwsICJkYXNoT2Zmc2V0IjogbnVsbCwgImZpbGwiOiB0cnVlLCAiZmlsbENvbG9yIjogInJlZCIsICJmaWxsT3BhY2l0eSI6IDAuMiwgImZpbGxSdWxlIjogImV2ZW5vZGQiLCAibGluZUNhcCI6ICJyb3VuZCIsICJsaW5lSm9pbiI6ICJyb3VuZCIsICJvcGFjaXR5IjogMS4wLCAicmFkaXVzIjogMjQ3Mi4wLCAic3Ryb2tlIjogdHJ1ZSwgIndlaWdodCI6IDN9CiAgICAgICAgICAgICkuYWRkVG8obWFwX2M5OTE5YmMzYThkYjQzOGJiNGI5NzNlOGUzYzE2NWUzKTsKICAgICAgICAKICAgIAogICAgICAgIHZhciBwb3B1cF9mMDRiMzE1N2M1ZTg0ZmExOGI1YzI2OTgxYWNhMTIzOCA9IEwucG9wdXAoeyJtYXhXaWR0aCI6ICIxMDAlIn0pOwoKICAgICAgICAKICAgICAgICAgICAgdmFyIGh0bWxfY2EzYmQ4MmIyNTFlNDA4Yzg0ZGRhMTMzOTgxNGY0ZTcgPSAkKGA8ZGl2IGlkPSJodG1sX2NhM2JkODJiMjUxZTQwOGM4NGRkYTEzMzk4MTRmNGU3IiBzdHlsZT0id2lkdGg6IDEwMC4wJTsgaGVpZ2h0OiAxMDAuMCU7Ij5WYWxlPC9kaXY+YClbMF07CiAgICAgICAgICAgIHBvcHVwX2YwNGIzMTU3YzVlODRmYTE4YjVjMjY5ODFhY2ExMjM4LnNldENvbnRlbnQoaHRtbF9jYTNiZDgyYjI1MWU0MDhjODRkZGExMzM5ODE0ZjRlNyk7CiAgICAgICAgCgogICAgICAgIGNpcmNsZV80NDM1ODhmZDgwMzk0MDkzYTUwZDAzNmY1OTM0NDcyMS5iaW5kUG9wdXAocG9wdXBfZjA0YjMxNTdjNWU4NGZhMThiNWMyNjk4MWFjYTEyMzgpCiAgICAgICAgOwoKICAgICAgICAKICAgIAogICAgCiAgICAgICAgICAgIHZhciBjaXJjbGVfNmE0NDRlNDExMTBkNDY3N2IxYzgwM2RjMjYwMTY4ZjQgPSBMLmNpcmNsZSgKICAgICAgICAgICAgICAgIFszOS45NTI1ODM5LCAtNzUuMTY1MjIxNV0sCiAgICAgICAgICAgICAgICB7ImJ1YmJsaW5nTW91c2VFdmVudHMiOiB0cnVlLCAiY29sb3IiOiAiYmx1ZSIsICJkYXNoQXJyYXkiOiBudWxsLCAiZGFzaE9mZnNldCI6IG51bGwsICJmaWxsIjogdHJ1ZSwgImZpbGxDb2xvciI6ICJyZWQiLCAiZmlsbE9wYWNpdHkiOiAwLjIsICJmaWxsUnVsZSI6ICJldmVub2RkIiwgImxpbmVDYXAiOiAicm91bmQiLCAibGluZUpvaW4iOiAicm91bmQiLCAib3BhY2l0eSI6IDEuMCwgInJhZGl1cyI6IDg4ODAuMCwgInN0cm9rZSI6IHRydWUsICJ3ZWlnaHQiOiAzfQogICAgICAgICAgICApLmFkZFRvKG1hcF9jOTkxOWJjM2E4ZGI0MzhiYjRiOTczZThlM2MxNjVlMyk7CiAgICAgICAgCiAgICAKICAgICAgICB2YXIgcG9wdXBfN2UxN2UzZmVlZGEzNGQwZGE3MTM0NWQ2YTAzMmUzNzMgPSBMLnBvcHVwKHsibWF4V2lkdGgiOiAiMTAwJSJ9KTsKCiAgICAgICAgCiAgICAgICAgICAgIHZhciBodG1sXzY5OGIzNzI3YzZkMjQ0ZjNiOTkxYWFiYTM1OWZmNDBiID0gJChgPGRpdiBpZD0iaHRtbF82OThiMzcyN2M2ZDI0NGYzYjk5MWFhYmEzNTlmZjQwYiIgc3R5bGU9IndpZHRoOiAxMDAuMCU7IGhlaWdodDogMTAwLjAlOyI+UGhpbGFkZWxwaGlhPC9kaXY+YClbMF07CiAgICAgICAgICAgIHBvcHVwXzdlMTdlM2ZlZWRhMzRkMGRhNzEzNDVkNmEwMzJlMzczLnNldENvbnRlbnQoaHRtbF82OThiMzcyN2M2ZDI0NGYzYjk5MWFhYmEzNTlmZjQwYik7CiAgICAgICAgCgogICAgICAgIGNpcmNsZV82YTQ0NGU0MTExMGQ0Njc3YjFjODAzZGMyNjAxNjhmNC5iaW5kUG9wdXAocG9wdXBfN2UxN2UzZmVlZGEzNGQwZGE3MTM0NWQ2YTAzMmUzNzMpCiAgICAgICAgOwoKICAgICAgICAKICAgIAogICAgCiAgICAgICAgICAgIHZhciBjaXJjbGVfNmEzOTY2OWQ5NzVhNGEyY2JjZDMyZjJjYTQ3MGI5M2EgPSBMLmNpcmNsZSgKICAgICAgICAgICAgICAgIFs0MS41MTAyMTI5LCAtMTEyLjAxNTUwMTQ5OTk5OTk4XSwKICAgICAgICAgICAgICAgIHsiYnViYmxpbmdNb3VzZUV2ZW50cyI6IHRydWUsICJjb2xvciI6ICJibHVlIiwgImRhc2hBcnJheSI6IG51bGwsICJkYXNoT2Zmc2V0IjogbnVsbCwgImZpbGwiOiB0cnVlLCAiZmlsbENvbG9yIjogInJlZCIsICJmaWxsT3BhY2l0eSI6IDAuMiwgImZpbGxSdWxlIjogImV2ZW5vZGQiLCAibGluZUNhcCI6ICJyb3VuZCIsICJsaW5lSm9pbiI6ICJyb3VuZCIsICJvcGFjaXR5IjogMS4wLCAicmFkaXVzIjogNDIxMi4wLCAic3Ryb2tlIjogdHJ1ZSwgIndlaWdodCI6IDN9CiAgICAgICAgICAgICkuYWRkVG8obWFwX2M5OTE5YmMzYThkYjQzOGJiNGI5NzNlOGUzYzE2NWUzKTsKICAgICAgICAKICAgIAogICAgICAgIHZhciBwb3B1cF83ZjYxYTZkOWE2ZDk0M2MwODc0ZmU2ZTRhMGU2NjljMyA9IEwucG9wdXAoeyJtYXhXaWR0aCI6ICIxMDAlIn0pOwoKICAgICAgICAKICAgICAgICAgICAgdmFyIGh0bWxfZGI5Y2EwZjVhMTQ1NDIxMGI0ZTk1N2MxYTg5MjEzZTkgPSAkKGA8ZGl2IGlkPSJodG1sX2RiOWNhMGY1YTE0NTQyMTBiNGU5NTdjMWE4OTIxM2U5IiBzdHlsZT0id2lkdGg6IDEwMC4wJTsgaGVpZ2h0OiAxMDAuMCU7Ij5CcmlnaGFtIENpdHk8L2Rpdj5gKVswXTsKICAgICAgICAgICAgcG9wdXBfN2Y2MWE2ZDlhNmQ5NDNjMDg3NGZlNmU0YTBlNjY5YzMuc2V0Q29udGVudChodG1sX2RiOWNhMGY1YTE0NTQyMTBiNGU5NTdjMWE4OTIxM2U5KTsKICAgICAgICAKCiAgICAgICAgY2lyY2xlXzZhMzk2NjlkOTc1YTRhMmNiY2QzMmYyY2E0NzBiOTNhLmJpbmRQb3B1cChwb3B1cF83ZjYxYTZkOWE2ZDk0M2MwODc0ZmU2ZTRhMGU2NjljMykKICAgICAgICA7CgogICAgICAgIAogICAgCiAgICAKICAgICAgICAgICAgdmFyIGNpcmNsZV8zMmZhOTQ4MzI3OGM0MGNiODRkMmEyNzAwNTc4NjljYyA9IEwuY2lyY2xlKAogICAgICAgICAgICAgICAgWzQxLjExMDc3NzEsIC0xMTIuMDI2MDUzOF0sCiAgICAgICAgICAgICAgICB7ImJ1YmJsaW5nTW91c2VFdmVudHMiOiB0cnVlLCAiY29sb3IiOiAiYmx1ZSIsICJkYXNoQXJyYXkiOiBudWxsLCAiZGFzaE9mZnNldCI6IG51bGwsICJmaWxsIjogdHJ1ZSwgImZpbGxDb2xvciI6ICJyZWQiLCAiZmlsbE9wYWNpdHkiOiAwLjIsICJmaWxsUnVsZSI6ICJldmVub2RkIiwgImxpbmVDYXAiOiAicm91bmQiLCAibGluZUpvaW4iOiAicm91bmQiLCAib3BhY2l0eSI6IDEuMCwgInJhZGl1cyI6IDMzMzYuMCwgInN0cm9rZSI6IHRydWUsICJ3ZWlnaHQiOiAzfQogICAgICAgICAgICApLmFkZFRvKG1hcF9jOTkxOWJjM2E4ZGI0MzhiYjRiOTczZThlM2MxNjVlMyk7CiAgICAgICAgCiAgICAKICAgICAgICB2YXIgcG9wdXBfODJlNmEzZjBmYTg2NDAxYjg1MGUwYjI1NTcyZDk3YTAgPSBMLnBvcHVwKHsibWF4V2lkdGgiOiAiMTAwJSJ9KTsKCiAgICAgICAgCiAgICAgICAgICAgIHZhciBodG1sXzkwNTBhYmM1YjA3OTQ1MmY4MmMxNTYwNGZiNWYzYzVhID0gJChgPGRpdiBpZD0iaHRtbF85MDUwYWJjNWIwNzk0NTJmODJjMTU2MDRmYjVmM2M1YSIgc3R5bGU9IndpZHRoOiAxMDAuMCU7IGhlaWdodDogMTAwLjAlOyI+Q2xlYXJmaWVsZDwvZGl2PmApWzBdOwogICAgICAgICAgICBwb3B1cF84MmU2YTNmMGZhODY0MDFiODUwZTBiMjU1NzJkOTdhMC5zZXRDb250ZW50KGh0bWxfOTA1MGFiYzViMDc5NDUyZjgyYzE1NjA0ZmI1ZjNjNWEpOwogICAgICAgIAoKICAgICAgICBjaXJjbGVfMzJmYTk0ODMyNzhjNDBjYjg0ZDJhMjcwMDU3ODY5Y2MuYmluZFBvcHVwKHBvcHVwXzgyZTZhM2YwZmE4NjQwMWI4NTBlMGIyNTU3MmQ5N2EwKQogICAgICAgIDsKCiAgICAgICAgCiAgICAKICAgIAogICAgICAgICAgICB2YXIgY2lyY2xlX2QwZWEzNTYxMjQyODQ4ZmJhNjRlNGUwZGUzNWNmZmYzID0gTC5jaXJjbGUoCiAgICAgICAgICAgICAgICBbNDEuMjIzLCAtMTExLjk3MzgzMDRdLAogICAgICAgICAgICAgICAgeyJidWJibGluZ01vdXNlRXZlbnRzIjogdHJ1ZSwgImNvbG9yIjogImJsdWUiLCAiZGFzaEFycmF5IjogbnVsbCwgImRhc2hPZmZzZXQiOiBudWxsLCAiZmlsbCI6IHRydWUsICJmaWxsQ29sb3IiOiAicmVkIiwgImZpbGxPcGFjaXR5IjogMC4yLCAiZmlsbFJ1bGUiOiAiZXZlbm9kZCIsICJsaW5lQ2FwIjogInJvdW5kIiwgImxpbmVKb2luIjogInJvdW5kIiwgIm9wYWNpdHkiOiAxLjAsICJyYWRpdXMiOiAxMDgwMC4wLCAic3Ryb2tlIjogdHJ1ZSwgIndlaWdodCI6IDN9CiAgICAgICAgICAgICkuYWRkVG8obWFwX2M5OTE5YmMzYThkYjQzOGJiNGI5NzNlOGUzYzE2NWUzKTsKICAgICAgICAKICAgIAogICAgICAgIHZhciBwb3B1cF9mODRhMTIyZGMxZjk0Zjk3OWRhZTBiOTViNTFkZGM3NCA9IEwucG9wdXAoeyJtYXhXaWR0aCI6ICIxMDAlIn0pOwoKICAgICAgICAKICAgICAgICAgICAgdmFyIGh0bWxfOWQ1MmU5MGE4ODAwNGVlYjk4MzMzYWZhN2U0ZWNkZjggPSAkKGA8ZGl2IGlkPSJodG1sXzlkNTJlOTBhODgwMDRlZWI5ODMzM2FmYTdlNGVjZGY4IiBzdHlsZT0id2lkdGg6IDEwMC4wJTsgaGVpZ2h0OiAxMDAuMCU7Ij5PZ2RlbjwvZGl2PmApWzBdOwogICAgICAgICAgICBwb3B1cF9mODRhMTIyZGMxZjk0Zjk3OWRhZTBiOTViNTFkZGM3NC5zZXRDb250ZW50KGh0bWxfOWQ1MmU5MGE4ODAwNGVlYjk4MzMzYWZhN2U0ZWNkZjgpOwogICAgICAgIAoKICAgICAgICBjaXJjbGVfZDBlYTM1NjEyNDI4NDhmYmE2NGU0ZTBkZTM1Y2ZmZjMuYmluZFBvcHVwKHBvcHVwX2Y4NGExMjJkYzFmOTRmOTc5ZGFlMGI5NWI1MWRkYzc0KQogICAgICAgIDsKCiAgICAgICAgCiAgICAKICAgIAogICAgICAgICAgICB2YXIgY2lyY2xlXzIyODU3YzAxMjMyNDQ4MzFiMDk5NTAyZTU4NGU3YjgwID0gTC5jaXJjbGUoCiAgICAgICAgICAgICAgICBbNDAuNzYwNzc5Mjk5OTk5OTk2LCAtMTExLjg5MTA0NzQwMDAwMDAyXSwKICAgICAgICAgICAgICAgIHsiYnViYmxpbmdNb3VzZUV2ZW50cyI6IHRydWUsICJjb2xvciI6ICJibHVlIiwgImRhc2hBcnJheSI6IG51bGwsICJkYXNoT2Zmc2V0IjogbnVsbCwgImZpbGwiOiB0cnVlLCAiZmlsbENvbG9yIjogInJlZCIsICJmaWxsT3BhY2l0eSI6IDAuMiwgImZpbGxSdWxlIjogImV2ZW5vZGQiLCAibGluZUNhcCI6ICJyb3VuZCIsICJsaW5lSm9pbiI6ICJyb3VuZCIsICJvcGFjaXR5IjogMS4wLCAicmFkaXVzIjogMjQwMjQuMCwgInN0cm9rZSI6IHRydWUsICJ3ZWlnaHQiOiAzfQogICAgICAgICAgICApLmFkZFRvKG1hcF9jOTkxOWJjM2E4ZGI0MzhiYjRiOTczZThlM2MxNjVlMyk7CiAgICAgICAgCiAgICAKICAgICAgICB2YXIgcG9wdXBfYmFlNmZlYmRkZGRiNGI3YTljYWRlMWI2NTRjMmQ2ZWEgPSBMLnBvcHVwKHsibWF4V2lkdGgiOiAiMTAwJSJ9KTsKCiAgICAgICAgCiAgICAgICAgICAgIHZhciBodG1sXzQxYzQyYzE2MDZiOTRlNGZiZjhlOGM5ODBhYTg1ZjdhID0gJChgPGRpdiBpZD0iaHRtbF80MWM0MmMxNjA2Yjk0ZTRmYmY4ZThjOTgwYWE4NWY3YSIgc3R5bGU9IndpZHRoOiAxMDAuMCU7IGhlaWdodDogMTAwLjAlOyI+U2FsdCBMYWtlIENpdHk8L2Rpdj5gKVswXTsKICAgICAgICAgICAgcG9wdXBfYmFlNmZlYmRkZGRiNGI3YTljYWRlMWI2NTRjMmQ2ZWEuc2V0Q29udGVudChodG1sXzQxYzQyYzE2MDZiOTRlNGZiZjhlOGM5ODBhYTg1ZjdhKTsKICAgICAgICAKCiAgICAgICAgY2lyY2xlXzIyODU3YzAxMjMyNDQ4MzFiMDk5NTAyZTU4NGU3YjgwLmJpbmRQb3B1cChwb3B1cF9iYWU2ZmViZGRkZGI0YjdhOWNhZGUxYjY1NGMyZDZlYSkKICAgICAgICA7CgogICAgICAgIAogICAgCiAgICAKICAgICAgICAgICAgdmFyIGNpcmNsZV82NGQ4NmVhY2Q0YmQ0Mzg4YWIzM2IxMjA4ZjQ2MGQ0NSA9IEwuY2lyY2xlKAogICAgICAgICAgICAgICAgWzQwLjUzMDc3NzYsIC0xMTIuMjk4MjhdLAogICAgICAgICAgICAgICAgeyJidWJibGluZ01vdXNlRXZlbnRzIjogdHJ1ZSwgImNvbG9yIjogImJsdWUiLCAiZGFzaEFycmF5IjogbnVsbCwgImRhc2hPZmZzZXQiOiBudWxsLCAiZmlsbCI6IHRydWUsICJmaWxsQ29sb3IiOiAicmVkIiwgImZpbGxPcGFjaXR5IjogMC4yLCAiZmlsbFJ1bGUiOiAiZXZlbm9kZCIsICJsaW5lQ2FwIjogInJvdW5kIiwgImxpbmVKb2luIjogInJvdW5kIiwgIm9wYWNpdHkiOiAxLjAsICJyYWRpdXMiOiAyODkyLjAsICJzdHJva2UiOiB0cnVlLCAid2VpZ2h0IjogM30KICAgICAgICAgICAgKS5hZGRUbyhtYXBfYzk5MTliYzNhOGRiNDM4YmI0Yjk3M2U4ZTNjMTY1ZTMpOwogICAgICAgIAogICAgCiAgICAgICAgdmFyIHBvcHVwXzY2ZGU0Y2I0ZDkzNzQyMTc5MzAwZDZlNTUzMmZmMTNkID0gTC5wb3B1cCh7Im1heFdpZHRoIjogIjEwMCUifSk7CgogICAgICAgIAogICAgICAgICAgICB2YXIgaHRtbF9lYmNkNjY2ODU1MTQ0NGUzOTNlZGE4NjliZGQyOWE5MCA9ICQoYDxkaXYgaWQ9Imh0bWxfZWJjZDY2Njg1NTE0NDRlMzkzZWRhODY5YmRkMjlhOTAiIHN0eWxlPSJ3aWR0aDogMTAwLjAlOyBoZWlnaHQ6IDEwMC4wJTsiPlRvb2VsZTwvZGl2PmApWzBdOwogICAgICAgICAgICBwb3B1cF82NmRlNGNiNGQ5Mzc0MjE3OTMwMGQ2ZTU1MzJmZjEzZC5zZXRDb250ZW50KGh0bWxfZWJjZDY2Njg1NTE0NDRlMzkzZWRhODY5YmRkMjlhOTApOwogICAgICAgIAoKICAgICAgICBjaXJjbGVfNjRkODZlYWNkNGJkNDM4OGFiMzNiMTIwOGY0NjBkNDUuYmluZFBvcHVwKHBvcHVwXzY2ZGU0Y2I0ZDkzNzQyMTc5MzAwZDZlNTUzMmZmMTNkKQogICAgICAgIDsKCiAgICAgICAgCiAgICAKICAgIAogICAgICAgICAgICB2YXIgY2lyY2xlX2JkOTZhMjZiNzYxODQ4YzY5YTgyMzVkNmVmMzFkY2RkID0gTC5jaXJjbGUoCiAgICAgICAgICAgICAgICBbNDcuNjA2MjA5NSwgLTEyMi4zMzIwNzA3OTk5OTk5OF0sCiAgICAgICAgICAgICAgICB7ImJ1YmJsaW5nTW91c2VFdmVudHMiOiB0cnVlLCAiY29sb3IiOiAiYmx1ZSIsICJkYXNoQXJyYXkiOiBudWxsLCAiZGFzaE9mZnNldCI6IG51bGwsICJmaWxsIjogdHJ1ZSwgImZpbGxDb2xvciI6ICJyZWQiLCAiZmlsbE9wYWNpdHkiOiAwLjIsICJmaWxsUnVsZSI6ICJldmVub2RkIiwgImxpbmVDYXAiOiAicm91bmQiLCAibGluZUpvaW4iOiAicm91bmQiLCAib3BhY2l0eSI6IDEuMCwgInJhZGl1cyI6IDMzMTIwLjAsICJzdHJva2UiOiB0cnVlLCAid2VpZ2h0IjogM30KICAgICAgICAgICAgKS5hZGRUbyhtYXBfYzk5MTliYzNhOGRiNDM4YmI0Yjk3M2U4ZTNjMTY1ZTMpOwogICAgICAgIAogICAgCiAgICAgICAgdmFyIHBvcHVwXzI0MmU1NWUzYzQyZDQwMjk4NjAyZjBlN2QzZmIxZTQ4ID0gTC5wb3B1cCh7Im1heFdpZHRoIjogIjEwMCUifSk7CgogICAgICAgIAogICAgICAgICAgICB2YXIgaHRtbF9mNzE2ODIzYjg1ZDk0Y2QwYTAzNGExNzEyNmRiNmZjZCA9ICQoYDxkaXYgaWQ9Imh0bWxfZjcxNjgyM2I4NWQ5NGNkMGEwMzRhMTcxMjZkYjZmY2QiIHN0eWxlPSJ3aWR0aDogMTAwLjAlOyBoZWlnaHQ6IDEwMC4wJTsiPlNlYXR0bGU8L2Rpdj5gKVswXTsKICAgICAgICAgICAgcG9wdXBfMjQyZTU1ZTNjNDJkNDAyOTg2MDJmMGU3ZDNmYjFlNDguc2V0Q29udGVudChodG1sX2Y3MTY4MjNiODVkOTRjZDBhMDM0YTE3MTI2ZGI2ZmNkKTsKICAgICAgICAKCiAgICAgICAgY2lyY2xlX2JkOTZhMjZiNzYxODQ4YzY5YTgyMzVkNmVmMzFkY2RkLmJpbmRQb3B1cChwb3B1cF8yNDJlNTVlM2M0MmQ0MDI5ODYwMmYwZTdkM2ZiMWU0OCkKICAgICAgICA7CgogICAgICAgIAogICAgCiAgICAKICAgICAgICAgICAgdmFyIGNpcmNsZV8xOWVlNmM3ZDczNjc0OTFjOWY5OTgxNTU5MGI1Njk5MiA9IEwuY2lyY2xlKAogICAgICAgICAgICAgICAgWzQ3LjY1ODc4MDIsIC0xMTcuNDI2MDQ2NTAwMDAwMDFdLAogICAgICAgICAgICAgICAgeyJidWJibGluZ01vdXNlRXZlbnRzIjogdHJ1ZSwgImNvbG9yIjogImJsdWUiLCAiZGFzaEFycmF5IjogbnVsbCwgImRhc2hPZmZzZXQiOiBudWxsLCAiZmlsbCI6IHRydWUsICJmaWxsQ29sb3IiOiAicmVkIiwgImZpbGxPcGFjaXR5IjogMC4yLCAiZmlsbFJ1bGUiOiAiZXZlbm9kZCIsICJsaW5lQ2FwIjogInJvdW5kIiwgImxpbmVKb2luIjogInJvdW5kIiwgIm9wYWNpdHkiOiAxLjAsICJyYWRpdXMiOiAxNTUyOC4wLCAic3Ryb2tlIjogdHJ1ZSwgIndlaWdodCI6IDN9CiAgICAgICAgICAgICkuYWRkVG8obWFwX2M5OTE5YmMzYThkYjQzOGJiNGI5NzNlOGUzYzE2NWUzKTsKICAgICAgICAKICAgIAogICAgICAgIHZhciBwb3B1cF81ZGE5YjViZmY1OWQ0ZGFiYTVhOWZkOTNlYWVjY2MxNCA9IEwucG9wdXAoeyJtYXhXaWR0aCI6ICIxMDAlIn0pOwoKICAgICAgICAKICAgICAgICAgICAgdmFyIGh0bWxfMzMxZGUxMGU0ZDM1NDM0MGI5ZDY5Y2JiNzliMmRkMzcgPSAkKGA8ZGl2IGlkPSJodG1sXzMzMWRlMTBlNGQzNTQzNDBiOWQ2OWNiYjc5YjJkZDM3IiBzdHlsZT0id2lkdGg6IDEwMC4wJTsgaGVpZ2h0OiAxMDAuMCU7Ij5TcG9rYW5lPC9kaXY+YClbMF07CiAgICAgICAgICAgIHBvcHVwXzVkYTliNWJmZjU5ZDRkYWJhNWE5ZmQ5M2VhZWNjYzE0LnNldENvbnRlbnQoaHRtbF8zMzFkZTEwZTRkMzU0MzQwYjlkNjljYmI3OWIyZGQzNyk7CiAgICAgICAgCgogICAgICAgIGNpcmNsZV8xOWVlNmM3ZDczNjc0OTFjOWY5OTgxNTU5MGI1Njk5Mi5iaW5kUG9wdXAocG9wdXBfNWRhOWI1YmZmNTlkNGRhYmE1YTlmZDkzZWFlY2NjMTQpCiAgICAgICAgOwoKICAgICAgICAKICAgIAogICAgCiAgICAgICAgICAgIHZhciBjaXJjbGVfNDZkOGFkNGQ2ZTU4NGU1MmIyNDkzNjVmNzMyMDVhNTAgPSBMLmNpcmNsZSgKICAgICAgICAgICAgICAgIFs0Ny4yNTI4NzY3OTk5OTk5OTYsIC0xMjIuNDQ0MjkwNl0sCiAgICAgICAgICAgICAgICB7ImJ1YmJsaW5nTW91c2VFdmVudHMiOiB0cnVlLCAiY29sb3IiOiAiYmx1ZSIsICJkYXNoQXJyYXkiOiBudWxsLCAiZGFzaE9mZnNldCI6IG51bGwsICJmaWxsIjogdHJ1ZSwgImZpbGxDb2xvciI6ICJyZWQiLCAiZmlsbE9wYWNpdHkiOiAwLjIsICJmaWxsUnVsZSI6ICJldmVub2RkIiwgImxpbmVDYXAiOiAicm91bmQiLCAibGluZUpvaW4iOiAicm91bmQiLCAib3BhY2l0eSI6IDEuMCwgInJhZGl1cyI6IDI3NDguMCwgInN0cm9rZSI6IHRydWUsICJ3ZWlnaHQiOiAzfQogICAgICAgICAgICApLmFkZFRvKG1hcF9jOTkxOWJjM2E4ZGI0MzhiYjRiOTczZThlM2MxNjVlMyk7CiAgICAgICAgCiAgICAKICAgICAgICB2YXIgcG9wdXBfZWQ2MzY1MjNkNTlhNDljM2JhMzEwNjE2MmM4YzIzYzAgPSBMLnBvcHVwKHsibWF4V2lkdGgiOiAiMTAwJSJ9KTsKCiAgICAgICAgCiAgICAgICAgICAgIHZhciBodG1sXzc3NmFiZWNjYWY1NzQxMWZiYzE4MWVlMTRmZmJiZTg1ID0gJChgPGRpdiBpZD0iaHRtbF83NzZhYmVjY2FmNTc0MTFmYmMxODFlZTE0ZmZiYmU4NSIgc3R5bGU9IndpZHRoOiAxMDAuMCU7IGhlaWdodDogMTAwLjAlOyI+VGFjb21hPC9kaXY+YClbMF07CiAgICAgICAgICAgIHBvcHVwX2VkNjM2NTIzZDU5YTQ5YzNiYTMxMDYxNjJjOGMyM2MwLnNldENvbnRlbnQoaHRtbF83NzZhYmVjY2FmNTc0MTFmYmMxODFlZTE0ZmZiYmU4NSk7CiAgICAgICAgCgogICAgICAgIGNpcmNsZV80NmQ4YWQ0ZDZlNTg0ZTUyYjI0OTM2NWY3MzIwNWE1MC5iaW5kUG9wdXAocG9wdXBfZWQ2MzY1MjNkNTlhNDljM2JhMzEwNjE2MmM4YzIzYzApCiAgICAgICAgOwoKICAgICAgICAKICAgIAogICAgCiAgICAgICAgICAgIHZhciBjaXJjbGVfZTlkZTRiNTNhN2RiNGJhNWI3ZDQyM2I1NDFmNTliMDcgPSBMLmNpcmNsZSgKICAgICAgICAgICAgICAgIFs0My4wMzg5MDI1LCAtODcuOTA2NDczNl0sCiAgICAgICAgICAgICAgICB7ImJ1YmJsaW5nTW91c2VFdmVudHMiOiB0cnVlLCAiY29sb3IiOiAiYmx1ZSIsICJkYXNoQXJyYXkiOiBudWxsLCAiZGFzaE9mZnNldCI6IG51bGwsICJmaWxsIjogdHJ1ZSwgImZpbGxDb2xvciI6ICJyZWQiLCAiZmlsbE9wYWNpdHkiOiAwLjIsICJmaWxsUnVsZSI6ICJldmVub2RkIiwgImxpbmVDYXAiOiAicm91bmQiLCAibGluZUpvaW4iOiAicm91bmQiLCAib3BhY2l0eSI6IDEuMCwgInJhZGl1cyI6IDEyNDgwLjAsICJzdHJva2UiOiB0cnVlLCAid2VpZ2h0IjogM30KICAgICAgICAgICAgKS5hZGRUbyhtYXBfYzk5MTliYzNhOGRiNDM4YmI0Yjk3M2U4ZTNjMTY1ZTMpOwogICAgICAgIAogICAgCiAgICAgICAgdmFyIHBvcHVwXzE3NDZjZDM3ODJhNTQ2MmE4M2Q0ZjdmZTA1YWZkMDJiID0gTC5wb3B1cCh7Im1heFdpZHRoIjogIjEwMCUifSk7CgogICAgICAgIAogICAgICAgICAgICB2YXIgaHRtbF8xOGQ3ZmM3NzgxNjQ0NGQyYTcxOTJhZDUxZjE2OTRkZCA9ICQoYDxkaXYgaWQ9Imh0bWxfMThkN2ZjNzc4MTY0NDRkMmE3MTkyYWQ1MWYxNjk0ZGQiIHN0eWxlPSJ3aWR0aDogMTAwLjAlOyBoZWlnaHQ6IDEwMC4wJTsiPk1pbHdhdWtlZTwvZGl2PmApWzBdOwogICAgICAgICAgICBwb3B1cF8xNzQ2Y2QzNzgyYTU0NjJhODNkNGY3ZmUwNWFmZDAyYi5zZXRDb250ZW50KGh0bWxfMThkN2ZjNzc4MTY0NDRkMmE3MTkyYWQ1MWYxNjk0ZGQpOwogICAgICAgIAoKICAgICAgICBjaXJjbGVfZTlkZTRiNTNhN2RiNGJhNWI3ZDQyM2I1NDFmNTliMDcuYmluZFBvcHVwKHBvcHVwXzE3NDZjZDM3ODJhNTQ2MmE4M2Q0ZjdmZTA1YWZkMDJiKQogICAgICAgIDsKCiAgICAgICAgCiAgICAKPC9zY3JpcHQ+\" style=\"position:absolute;width:100%;height:100%;left:0;top:0;border:none !important;\" allowfullscreen webkitallowfullscreen mozallowfullscreen></iframe></div></div>"
      ],
      "text/plain": [
       "<folium.folium.Map at 0x7f6a1aa4a908>"
      ]
     },
     "execution_count": 38,
     "metadata": {},
     "output_type": "execute_result"
    }
   ],
   "source": [
    "m = folium.Map(location=[36.733300, -100.766700], zoom_start=4)\n",
    "tooltip = 'Click me!'\n",
    "for i in range(0,len(reloc_cities)):\n",
    "    folium.Circle(\n",
    "      location=(reloc_cities.iloc[i]['Latitude'], reloc_cities.iloc[i]['Longitude']),\n",
    "      popup=reloc_cities.iloc[i]['City'],\n",
    "      radius=reloc_cities.iloc[i]['People'] * 12,\n",
    "      color='blue',\n",
    "      fill=True,\n",
    "      fill_color='red').add_to(m)\n",
    "m"
   ]
  },
  {
   "cell_type": "markdown",
   "metadata": {},
   "source": [
    "---\n",
    "Notebook developed by: Alleanna Clark, Aishah Mahmud\n",
    "\n",
    "Data Science Modules: http://data.berkeley.edu/education/modules\n"
   ]
  }
 ],
 "metadata": {
  "anaconda-cloud": {},
  "kernelspec": {
   "display_name": "Python 3",
   "language": "python",
   "name": "python3"
  },
  "language_info": {
   "codemirror_mode": {
    "name": "ipython",
    "version": 3
   },
   "file_extension": ".py",
   "mimetype": "text/x-python",
   "name": "python",
   "nbconvert_exporter": "python",
   "pygments_lexer": "ipython3",
   "version": "3.6.8"
  }
 },
 "nbformat": 4,
 "nbformat_minor": 1
}
